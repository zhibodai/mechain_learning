{
 "cells": [
  {
   "cell_type": "code",
   "execution_count": 4,
   "metadata": {},
   "outputs": [
    {
     "name": "stdout",
     "output_type": "stream",
     "text": [
      "(3, 3, 0)\n"
     ]
    }
   ],
   "source": [
    "#需求：用户输入一个三位自然数，计算并输出其百位，十位，个位上的数字\n",
    "\n",
    "def  judge(x ):\n",
    "    if(x<99 or x>999):\n",
    "        print('你的值输出错误')\n",
    "    i=x//100\n",
    "    a= (x-i*100)//10\n",
    "    \n",
    "    return(i,a,x-i*100-a*10)\n",
    "        \n",
    "print( judge (330))"
   ]
  },
  {
   "cell_type": "code",
   "execution_count": 15,
   "metadata": {},
   "outputs": [
    {
     "name": "stdout",
     "output_type": "stream",
     "text": [
      "4.970432723693701\n",
      "0.8377580409572782\n"
     ]
    }
   ],
   "source": [
    "#需求：输入一个三角形的两边长及其夹角，求第三边长\n",
    "\n",
    "#  c^2=a^2+b^2-2abcosC\n",
    "\n",
    "import math\n",
    "def jiaodu(x,y,z):\n",
    "    i=math.radians(z)\n",
    "    return (x**2 + y**2 - 2*x*y*math.cos(i) )\n",
    "\n",
    "print(jiaodu(3,2,48))\n",
    "print(math.radians(48))"
   ]
  },
  {
   "cell_type": "code",
   "execution_count": 17,
   "metadata": {},
   "outputs": [
    {
     "name": "stdout",
     "output_type": "stream",
     "text": [
      "['a', 's', 'w']\n"
     ]
    }
   ],
   "source": [
    "#需求：输入3个英文单词按字典的顺序输出\n",
    "\n",
    "word = ['w','a','s']\n",
    "print(sorted(word))"
   ]
  },
  {
   "cell_type": "code",
   "execution_count": null,
   "metadata": {
    "collapsed": true
   },
   "outputs": [],
   "source": []
  }
 ],
 "metadata": {
  "kernelspec": {
   "display_name": "Python 3",
   "language": "python",
   "name": "python3"
  },
  "language_info": {
   "codemirror_mode": {
    "name": "ipython",
    "version": 3
   },
   "file_extension": ".py",
   "mimetype": "text/x-python",
   "name": "python",
   "nbconvert_exporter": "python",
   "pygments_lexer": "ipython3",
   "version": "3.6.2"
  }
 },
 "nbformat": 4,
 "nbformat_minor": 2
}
