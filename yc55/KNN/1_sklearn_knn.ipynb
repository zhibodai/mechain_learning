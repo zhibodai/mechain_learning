{
 "cells": [
  {
   "cell_type": "code",
   "execution_count": 1,
   "metadata": {},
   "outputs": [
    {
     "name": "stderr",
     "output_type": "stream",
     "text": [
      "C:\\ProgramData\\Anaconda3\\lib\\site-packages\\sklearn\\cross_validation.py:41: DeprecationWarning: This module was deprecated in version 0.18 in favor of the model_selection module into which all the refactored classes and functions are moved. Also note that the interface of the new CV iterators are different from that of this module. This module will be removed in 0.20.\n",
      "  \"This module will be removed in 0.20.\", DeprecationWarning)\n"
     ]
    }
   ],
   "source": [
    "import numpy as np\n",
    "import matplotlib.pyplot as plt\n",
    "from sklearn import neighbors,datasets,cross_validation"
   ]
  },
  {
   "cell_type": "code",
   "execution_count": 2,
   "metadata": {},
   "outputs": [
    {
     "name": "stdout",
     "output_type": "stream",
     "text": [
      "数据集说明：大小 (1797, 64)\n",
      "一张图片的数据： [  0.   0.   5.  13.   9.   1.   0.   0.   0.   0.  13.  15.  10.  15.   5.\n",
      "   0.   0.   3.  15.   2.   0.  11.   8.   0.   0.   4.  12.   0.   0.   8.\n",
      "   8.   0.   0.   5.   8.   0.   0.   9.   8.   0.   0.   4.  11.   0.   1.\n",
      "  12.   7.   0.   0.   2.  14.   5.  10.  12.   0.   0.   0.   0.   6.  13.\n",
      "  10.   0.   0.   0.]\n",
      "数据集中的键： dict_keys(['data', 'target', 'target_names', 'images', 'DESCR'])\n",
      "target: [0 1 2 3 4 5 6 7 8 9 0 1 2 3 4 5 6 7 8 9 0 1 2 3 4 5 6 7 8 9 0 9 5 5 6 5 0\n",
      " 9 8 9 8 4 1 7 7 3 5 1 0 0]\n",
      "image: [[[  0.   0.   5.  13.   9.   1.   0.   0.]\n",
      "  [  0.   0.  13.  15.  10.  15.   5.   0.]\n",
      "  [  0.   3.  15.   2.   0.  11.   8.   0.]\n",
      "  [  0.   4.  12.   0.   0.   8.   8.   0.]\n",
      "  [  0.   5.   8.   0.   0.   9.   8.   0.]\n",
      "  [  0.   4.  11.   0.   1.  12.   7.   0.]\n",
      "  [  0.   2.  14.   5.  10.  12.   0.   0.]\n",
      "  [  0.   0.   6.  13.  10.   0.   0.   0.]]]\n"
     ]
    }
   ],
   "source": [
    "def load_classification_data():\n",
    "    digits=datasets.load_digits()  #手写数字\n",
    "    print('数据集说明：大小',digits.data.shape)   # data中的图片数据是一行64列\n",
    "    print('一张图片的数据：',digits.data[0] )\n",
    "    print('数据集中的键：',digits.keys())\n",
    "    print('target:',digits.target[0:50])\n",
    "    print('image:',digits.images[0:1])\n",
    "    x_train=digits.data\n",
    "    y_train=digits.target\n",
    "    #  cross_validation.train_test_split()  训练集与测试    集的切分\n",
    "    #  stratify 分层抽样\n",
    "    return cross_validation.train_test_split(x_train,y_train,test_size=0.25,random_state=0,stratify=y_train)\n",
    "x_train,x_test,y_train,y_test=load_classification_data()"
   ]
  },
  {
   "cell_type": "code",
   "execution_count": 3,
   "metadata": {},
   "outputs": [
    {
     "name": "stdout",
     "output_type": "stream",
     "text": [
      "[7 3 6 6 7 6 7 9 2 9 0 9 2 5 0 7 5 3 6 7]\n",
      "[[  0.   0.   0.  10.  12.  15.  16.  13.   0.   0.   6.  15.   6.   4.\n",
      "   14.   9.   0.   0.  10.   6.   0.   3.  14.   2.   0.   1.  14.   1.\n",
      "    0.  12.   6.   0.   0.   0.   3.   0.   5.  13.   0.   0.   0.   0.\n",
      "    0.   1.  13.   3.   0.   0.   0.   0.   0.   6.  13.   0.   0.   0.\n",
      "    0.   0.   0.  14.   6.   0.   0.   0.]]\n",
      "[7]\n"
     ]
    }
   ],
   "source": [
    "print( y_train[0:20])\n",
    "print( x_train[0:1] )\n",
    "print( y_train[0:1])"
   ]
  },
  {
   "cell_type": "code",
   "execution_count": 4,
   "metadata": {},
   "outputs": [
    {
     "name": "stdout",
     "output_type": "stream",
     "text": [
      "标准结果： 2\n"
     ]
    },
    {
     "data": {
      "image/png": "[encoded data removed]",
      "text/plain": [
       "<matplotlib.figure.Figure at 0x248a9df0cf8>"
      ]
     },
     "metadata": {},
     "output_type": "display_data"
    }
   ],
   "source": [
    "#显示图片\n",
    "digits=datasets.load_digits()\n",
    "import matplotlib.pyplot as plt\n",
    "%matplotlib inline\n",
    "\n",
    "plt.figure(figsize=(8,8) )\n",
    "plt.imshow( digits.images[2] )\n",
    "print('标准结果：',digits.target[2])"
   ]
  },
  {
   "cell_type": "code",
   "execution_count": 5,
   "metadata": {
    "collapsed": true
   },
   "outputs": [],
   "source": [
    "def test_KNeighborsClassifier(*data):\n",
    "    '''\n",
    "    测试  KNeighborsClassifier 的用法\n",
    "    '''\n",
    "    X_train,X_test,y_train,y_test=data\n",
    "    clf=neighbors.KNeighborsClassifier()\n",
    "    clf.fit(X_train,y_train)\n",
    "    print('模型在训练集中的评分: %f'%clf.score(X_train,y_train))\n",
    "    print('模型在测试集中的评分: %f'%clf.score(X_test,y_test))\n",
    "    "
   ]
  },
  {
   "cell_type": "code",
   "execution_count": 6,
   "metadata": {},
   "outputs": [
    {
     "name": "stdout",
     "output_type": "stream",
     "text": [
      "模型在训练集中的评分: 0.991091\n",
      "模型在测试集中的评分: 0.980000\n"
     ]
    }
   ],
   "source": [
    "test_KNeighborsClassifier(x_train,x_test,y_train,y_test)"
   ]
  },
  {
   "cell_type": "code",
   "execution_count": null,
   "metadata": {
    "collapsed": true
   },
   "outputs": [],
   "source": [
    "#交叉验证\n",
    "def test_KNeighborsClassifier_k_w(*data):        #对集合进行自动解包\n",
    "    '''\n",
    "    测试 KNeighborsClassifier 中 n_neighbors 和 weights 参数(投票策略)的影响\n",
    "    '''\n",
    "    X_train,X_test,y_train,y_test=data\n",
    "    #  k的取值  从1到  数据集的大小  (train:1797*0.75=1347)\n",
    "    # linspace: 在指定的间隔内返回均匀间隔的数学\n",
    "    #num #生成100个数  endpoint 是否包括左后一个树值  \n",
    "    Ks=np.linspace( 1,y_train.size,num=100,endpoint=False,dtype='int')\n",
    "    print( len(Ks) )\n",
    "    print( Ks )\n",
    "    weights=['uniform','distance']     # uniform  权重相等  distance  距离权重\n",
    "    \n",
    "    fig=plt.figure(figsize=(10,10))\n",
    "    ax=fig.add_subplot(1,1,1)    #  子图  ax  画布的轴\n",
    "    #绘制不同  weight 下  预测得分随  n_neighbors 的曲线\n",
    "    for weight in weights:\n",
    "        training_scores=[]\n",
    "        testing_scores=[]\n",
    "        for K in Ks:\n",
    "            clf=neighbors.KNeighborsClassifier(weights=weight,n_neighbors=K)\n",
    "            clf.fit(X_train,y_train)\n",
    "            testing_scores.append( clf.score(X_test,y_test))\n",
    "    "
   ]
  },
  {
   "cell_type": "code",
   "execution_count": null,
   "metadata": {
    "collapsed": true
   },
   "outputs": [],
   "source": []
  }
 ],
 "metadata": {
  "kernelspec": {
   "display_name": "Python 3",
   "language": "python",
   "name": "python3"
  },
  "language_info": {
   "codemirror_mode": {
    "name": "ipython",
    "version": 3
   },
   "file_extension": ".py",
   "mimetype": "text/x-python",
   "name": "python",
   "nbconvert_exporter": "python",
   "pygments_lexer": "ipython3",
   "version": "3.6.2"
  }
 },
 "nbformat": 4,
 "nbformat_minor": 2
}
