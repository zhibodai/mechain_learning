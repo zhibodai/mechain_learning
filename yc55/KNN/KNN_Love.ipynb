{
 "cells": [
  {
   "cell_type": "code",
   "execution_count": 3,
   "metadata": {
    "collapsed": true
   },
   "outputs": [],
   "source": [
    "import numpy as np"
   ]
  },
  {
   "cell_type": "code",
   "execution_count": 7,
   "metadata": {},
   "outputs": [
    {
     "name": "stdout",
     "output_type": "stream",
     "text": [
      "2\n"
     ]
    }
   ],
   "source": [
    "# read  file\n",
    "file=open('datingTestSet.txt','r',encoding='utf8')\n",
    "lines=file.readlines()\n",
    "rows=len(lines)\n",
    "dataset=np.zeros((rows,3))\n",
    "labels=[]\n",
    "index=0\n",
    "for line in lines:\n",
    "    words=line.strip().split('\\t')   #结果为列表\n",
    "    dataset[index,]=words[0:3]\n",
    "    labels.append(int( words[-1]))\n",
    "    index+=1\n",
    "print(labels[1])\n"
   ]
  },
  {
   "cell_type": "code",
   "execution_count": 45,
   "metadata": {},
   "outputs": [
    {
     "name": "stdout",
     "output_type": "stream",
     "text": [
      "(750, 3)\n",
      "(250, 3)\n",
      "[1]\n",
      "[3]\n"
     ]
    }
   ],
   "source": [
    "from sklearn.model_selection import GridSearchCV\n",
    "from sklearn import neighbors,datasets,cross_validation\n",
    "\n",
    "X_train,X_test,y_train,y_test=cross_validation.train_test_split(dataset,labels,test_size=0.25,random_state=0,stratify=labels)\n",
    "print(X_train.shape)\n",
    "print(X_test.shape)\n",
    "print(y_train[0:1])\n",
    "print(y_test[0:1])"
   ]
  },
  {
   "cell_type": "code",
   "execution_count": 46,
   "metadata": {},
   "outputs": [
    {
     "name": "stdout",
     "output_type": "stream",
     "text": [
      "训练： 0.862666666667\n",
      "测试： 0.796\n"
     ]
    }
   ],
   "source": [
    "#不做任何特征处理的前提下的预测\n",
    "dlf=neighbors.KNeighborsClassifier()\n",
    "dlf.fit(X_train,y_train)\n",
    "print('训练：',dlf.score(X_train,y_train))\n",
    "print('测试：',dlf.score(X_test,y_test))"
   ]
  },
  {
   "cell_type": "code",
   "execution_count": 47,
   "metadata": {},
   "outputs": [
    {
     "data": {
      "text/plain": [
       "GridSearchCV(cv=5, error_score='raise',\n",
       "       estimator=KNeighborsClassifier(algorithm='auto', leaf_size=30, metric='minkowski',\n",
       "           metric_params=None, n_jobs=1, n_neighbors=5, p=2,\n",
       "           weights='uniform'),\n",
       "       fit_params=None, iid=True, n_jobs=1,\n",
       "       param_grid={'p': [1, 2, 10], 'n_neighbors': [4, 5, 6, 7, 8, 9], 'weights': ['uniform', 'distance']},\n",
       "       pre_dispatch='2*n_jobs', refit=True, return_train_score=True,\n",
       "       scoring=None, verbose=0)"
      ]
     },
     "execution_count": 47,
     "metadata": {},
     "output_type": "execute_result"
    }
   ],
   "source": [
    "#超参数搜索\n",
    "ps=[1,2,10]\n",
    "ks=[4,5,6,7,8,9]\n",
    "ws=['uniform','distance']  #指定权重算法\n",
    "par_grid={'p':ps,'n_neighbors':ks,'weights':ws}\n",
    "clf=GridSearchCV(neighbors.KNeighborsClassifier(),par_grid,cv=5)  #cv表示5折交叉\n",
    "clf.fit(X_train,y_train)"
   ]
  },
  {
   "cell_type": "code",
   "execution_count": 48,
   "metadata": {},
   "outputs": [
    {
     "name": "stdout",
     "output_type": "stream",
     "text": [
      "最佳效果:0.805\n",
      "最优参数组合:\n",
      "\tn_neighbors:7\n",
      "\tp:1\n",
      "\tweights:'uniform'\n"
     ]
    }
   ],
   "source": [
    "print('最佳效果:%0.3f'%clf.best_score_)\n",
    "print('最优参数组合:')\n",
    "best_parameters=clf.best_estimator_.get_params()\n",
    "for par_name in sorted(par_grid.keys()):\n",
    "    print('\\t%s:%r'%(par_name,best_parameters[par_name]))"
   ]
  },
  {
   "cell_type": "code",
   "execution_count": 49,
   "metadata": {},
   "outputs": [
    {
     "name": "stdout",
     "output_type": "stream",
     "text": [
      "0.850666666667\n",
      "0.8\n"
     ]
    }
   ],
   "source": [
    "print(clf.score(X_train,y_train))\n",
    "print(clf.score(X_test,y_test))"
   ]
  },
  {
   "cell_type": "code",
   "execution_count": 50,
   "metadata": {},
   "outputs": [
    {
     "name": "stdout",
     "output_type": "stream",
     "text": [
      "KNN Classifier： 0.8\n"
     ]
    }
   ],
   "source": [
    "#使用最优参数求解\n",
    "clf=neighbors.KNeighborsClassifier(p=1,n_neighbors=7,weights='uniform')\n",
    "clf.fit(X_train,y_train)\n",
    "y_predict=clf.predict(X_test)\n",
    "print('KNN Classifier：',clf.score(X_test,y_test))"
   ]
  },
  {
   "cell_type": "code",
   "execution_count": 51,
   "metadata": {},
   "outputs": [
    {
     "name": "stdout",
     "output_type": "stream",
     "text": [
      "             precision    recall  f1-score   support\n",
      "\n",
      "          1       0.76      0.74      0.75        85\n",
      "          2       0.95      0.94      0.95        83\n",
      "          3       0.69      0.72      0.71        82\n",
      "\n",
      "avg / total       0.80      0.80      0.80       250\n",
      "\n"
     ]
    }
   ],
   "source": [
    "from sklearn.metrics import classification_report\n",
    "print( classification_report(y_test,y_predict))"
   ]
  },
  {
   "cell_type": "markdown",
   "metadata": {},
   "source": [
    "# 加入特征处理"
   ]
  },
  {
   "cell_type": "code",
   "execution_count": 52,
   "metadata": {
    "collapsed": true
   },
   "outputs": [],
   "source": [
    "#考虑到有距离计算 加入标准化处理\n",
    "# 一下例子是将数据规则化到 [0,1]\n",
    "\n",
    "\n",
    "#重新读取数据\n",
    "file=open('datingTestSet.txt','r',encoding='utf8')\n",
    "lines=file.readlines()\n",
    "rows=len(lines)\n",
    "dataset=np.zeros((rows,3))\n",
    "labels=[]\n",
    "index=0\n",
    "for line in lines:\n",
    "    words=line.strip().split('\\t')   #结果为列表\n",
    "    dataset[index,]=words[0:3]\n",
    "    labels.append(int( words[-1]))\n",
    "    index+=1\n",
    "    \n",
    "#离差标准化\n",
    "from sklearn import preprocessing\n",
    "min_max_sclar=preprocessing.MinMaxScaler()\n",
    "x_max_min=min_max_sclar.fit_transform(dataset)\n",
    "\n",
    "x_train,x_test,y_train,y_test=cross_validation.train_test_split(x_max_min,labels,test_size=0.25,random_state=0,stratify=labels)"
   ]
  },
  {
   "cell_type": "code",
   "execution_count": 53,
   "metadata": {},
   "outputs": [
    {
     "name": "stdout",
     "output_type": "stream",
     "text": [
      "模型在训练集中的评分: 0.964\n",
      "模型在测试集中的评分: 0.952\n"
     ]
    }
   ],
   "source": [
    "clf=neighbors.KNeighborsClassifier()\n",
    "clf.fit(x_train,y_train)\n",
    "print('模型在训练集中的评分:',clf.score(x_train,y_train))\n",
    "print('模型在测试集中的评分:',clf.score(x_test,y_test))"
   ]
  },
  {
   "cell_type": "code",
   "execution_count": 54,
   "metadata": {},
   "outputs": [
    {
     "data": {
      "text/plain": [
       "GridSearchCV(cv=5, error_score='raise',\n",
       "       estimator=KNeighborsClassifier(algorithm='auto', leaf_size=30, metric='minkowski',\n",
       "           metric_params=None, n_jobs=1, n_neighbors=5, p=2,\n",
       "           weights='uniform'),\n",
       "       fit_params=None, iid=True, n_jobs=1,\n",
       "       param_grid={'p': [1, 2, 10], 'n_neighbors': [4, 5, 6, 7, 8, 9, 10], 'weights': ['uniform', 'distance']},\n",
       "       pre_dispatch='2*n_jobs', refit=True, return_train_score=True,\n",
       "       scoring=None, verbose=0)"
      ]
     },
     "execution_count": 54,
     "metadata": {},
     "output_type": "execute_result"
    }
   ],
   "source": [
    "#超参数搜索\n",
    "ps=[1,2,10]\n",
    "ks=[4,5,6,7,8,9,10]\n",
    "ws=['uniform','distance']  #指定权重算法\n",
    "par_grid={'p':ps,'n_neighbors':ks,'weights':ws}\n",
    "clf=GridSearchCV(neighbors.KNeighborsClassifier(),par_grid,cv=5)  #cv表示5折交叉\n",
    "clf.fit(x_train,y_train)"
   ]
  },
  {
   "cell_type": "code",
   "execution_count": 55,
   "metadata": {},
   "outputs": [
    {
     "name": "stdout",
     "output_type": "stream",
     "text": [
      "最佳效果:0.955\n",
      "最优参数组合:\n",
      "\tn_neighbors:6\n",
      "\tp:10\n",
      "\tweights:'uniform'\n"
     ]
    }
   ],
   "source": [
    "print('最佳效果:%0.3f'%clf.best_score_)\n",
    "print('最优参数组合:')\n",
    "best_parameters=clf.best_estimator_.get_params()\n",
    "for par_name in sorted(par_grid.keys()):\n",
    "    print('\\t%s:%r'%(par_name,best_parameters[par_name]))"
   ]
  },
  {
   "cell_type": "code",
   "execution_count": 56,
   "metadata": {},
   "outputs": [
    {
     "name": "stdout",
     "output_type": "stream",
     "text": [
      "训练集 0.96\n",
      "测试集 0.96\n"
     ]
    }
   ],
   "source": [
    "print('训练集',clf.score(x_train,y_train))\n",
    "print('测试集',clf.score(x_test,y_test))"
   ]
  },
  {
   "cell_type": "code",
   "execution_count": 57,
   "metadata": {},
   "outputs": [
    {
     "name": "stdout",
     "output_type": "stream",
     "text": [
      "训练 0.96\n",
      "测试 0.96\n"
     ]
    }
   ],
   "source": [
    "#使用最优参数来  预测\n",
    "clf=neighbors.KNeighborsClassifier(p=10,n_neighbors=6,weights='uniform')\n",
    "clf.fit(x_train,y_train)\n",
    "print('训练',clf.score(x_train,y_train))\n",
    "print('测试',clf.score(x_test,y_test))"
   ]
  },
  {
   "cell_type": "markdown",
   "metadata": {},
   "source": [
    "# 下面加入特征选择"
   ]
  },
  {
   "cell_type": "code",
   "execution_count": 58,
   "metadata": {
    "collapsed": true
   },
   "outputs": [],
   "source": [
    "# 考虑到有距离运算,加入标准化处理\n",
    "# 以下这个例子是将数据规与[0,1]之间   每个特征中最小值变成0  最大值变成了1\n",
    "\n",
    "#重新读数据\n",
    "file=open('datingTestSet.txt','r',encoding='utf8')\n",
    "lines=file.readlines()\n",
    "rows=len(lines)\n",
    "dataset=np.zeros((rows,3))\n",
    "labels=[]\n",
    "index=0\n",
    "for line in lines:\n",
    "    words=line.strip().split('\\t')   #结果为列表\n",
    "    dataset[index,]=words[0:3]\n",
    "    labels.append(int( words[-1]))\n",
    "    index+=1\n",
    "    \n",
    "    \n",
    "#离差标准化\n",
    "from sklearn import preprocessing\n",
    "min_max_sclar=preprocessing.MinMaxScaler()\n",
    "x_max_min=min_max_sclar.fit_transform(dataset)   \n"
   ]
  },
  {
   "cell_type": "code",
   "execution_count": 60,
   "metadata": {},
   "outputs": [
    {
     "name": "stdout",
     "output_type": "stream",
     "text": [
      "[ 112.55528059   56.82649379    0.43913418]\n",
      "[[ 0.44832535  0.39805139]\n",
      " [ 0.15873259  0.34195467]\n",
      " [ 0.28542943  0.06892523]\n",
      " ..., \n",
      " [ 0.29115949  0.50910294]\n",
      " [ 0.52711097  0.43665451]\n",
      " [ 0.47940793  0.3768091 ]]\n"
     ]
    }
   ],
   "source": [
    "from sklearn.feature_selection import SelectKBest,SelectPercentile  #移除top以外的数据\n",
    "from sklearn.feature_selection import chi2  #卡方效验\n",
    "\n",
    "skb=SelectKBest(chi2,2)\n",
    "new_data=skb.fit_transform(x_max_min,labels)\n",
    "print(skb.scores_)\n",
    "print(new_data)"
   ]
  },
  {
   "cell_type": "code",
   "execution_count": 61,
   "metadata": {
    "collapsed": true
   },
   "outputs": [],
   "source": [
    "#切分数据\n",
    "x_train,x_test,y_train,y_test=cross_validation.train_test_split(new_data,labels,test_size=0.25,random_state=0,stratify=labels)"
   ]
  },
  {
   "cell_type": "code",
   "execution_count": 63,
   "metadata": {},
   "outputs": [
    {
     "name": "stdout",
     "output_type": "stream",
     "text": [
      "模型在训练集上的评分:0.973333\n",
      "模型在测试集上的评分:0.944000\n"
     ]
    }
   ],
   "source": [
    "clf=neighbors.KNeighborsClassifier()\n",
    "clf.fit(x_train,y_train)\n",
    "print('模型在训练集上的评分:%f'%clf.score(x_train,y_train))\n",
    "print('模型在测试集上的评分:%f'%clf.score(x_test,y_test))"
   ]
  },
  {
   "cell_type": "code",
   "execution_count": 64,
   "metadata": {},
   "outputs": [
    {
     "name": "stdout",
     "output_type": "stream",
     "text": [
      "最佳效果:0.964\n",
      "最优参数组合:\n",
      "\tn_neighbors:5\n",
      "\tp:1\n",
      "\tweights:'uniform'\n"
     ]
    }
   ],
   "source": [
    "#超参数搜索\n",
    "ps=[1,2,10]\n",
    "ks=[4,5,6,7,8,9,10]\n",
    "ws=['uniform','distance']  #指定权重算法\n",
    "par_grid={'p':ps,'n_neighbors':ks,'weights':ws}\n",
    "clf=GridSearchCV(neighbors.KNeighborsClassifier(),par_grid,cv=5)  #cv表示5折交叉\n",
    "clf.fit(x_train,y_train)\n",
    "\n",
    "print('最佳效果:%0.3f'%clf.best_score_)\n",
    "print('最优参数组合:')\n",
    "best_parameters=clf.best_estimator_.get_params()\n",
    "for par_name in sorted(par_grid.keys()):\n",
    "    print('\\t%s:%r'%(par_name,best_parameters[par_name]))"
   ]
  },
  {
   "cell_type": "code",
   "execution_count": 65,
   "metadata": {},
   "outputs": [
    {
     "name": "stdout",
     "output_type": "stream",
     "text": [
      "训练集 0.970666666667\n",
      "测试集 0.948\n"
     ]
    }
   ],
   "source": [
    "print('训练集',clf.score(x_train,y_train))\n",
    "print('测试集',clf.score(x_test,y_test))"
   ]
  },
  {
   "cell_type": "code",
   "execution_count": 66,
   "metadata": {},
   "outputs": [
    {
     "name": "stdout",
     "output_type": "stream",
     "text": [
      "训练 0.970666666667\n",
      "测试 0.948\n"
     ]
    }
   ],
   "source": [
    "#使用最优参数来  预测\n",
    "clf=neighbors.KNeighborsClassifier(p=1,n_neighbors=5,weights='uniform')\n",
    "clf.fit(x_train,y_train)\n",
    "print('训练',clf.score(x_train,y_train))\n",
    "print('测试',clf.score(x_test,y_test))"
   ]
  },
  {
   "cell_type": "markdown",
   "metadata": {},
   "source": [
    "# 下面加入特征降维"
   ]
  },
  {
   "cell_type": "code",
   "execution_count": 67,
   "metadata": {
    "collapsed": true
   },
   "outputs": [],
   "source": [
    "\n",
    "#重新读数据\n",
    "file=open('datingTestSet.txt','r',encoding='utf8')\n",
    "lines=file.readlines()\n",
    "rows=len(lines)\n",
    "dataset=np.zeros((rows,3))\n",
    "labels=[]\n",
    "index=0\n",
    "for line in lines:\n",
    "    words=line.strip().split('\\t')   #结果为列表\n",
    "    dataset[index,]=words[0:3]\n",
    "    labels.append(int( words[-1]))\n",
    "    index+=1\n",
    "    \n",
    "    \n",
    "#不用离差标准化\n",
    "from sklearn import preprocessing\n",
    "min_max_sclar=preprocessing.MinMaxScaler()\n",
    "dataset=min_max_sclar.fit_transform(dataset)   "
   ]
  },
  {
   "cell_type": "raw",
   "metadata": {},
   "source": [
    "这里不用离差标准化选择特征是因为 PCA 降维这个技术已经进行了一次 减均值 的处理了，在减去平均的话数据会丢失严重"
   ]
  },
  {
   "cell_type": "code",
   "execution_count": 68,
   "metadata": {
    "collapsed": true
   },
   "outputs": [],
   "source": [
    "from sklearn.decomposition import PCA"
   ]
  },
  {
   "cell_type": "code",
   "execution_count": 69,
   "metadata": {
    "collapsed": true
   },
   "outputs": [],
   "source": [
    "pca=PCA(n_components=2)\n",
    "x_pca=pca.fit_transform(dataset)"
   ]
  },
  {
   "cell_type": "code",
   "execution_count": 70,
   "metadata": {
    "collapsed": true
   },
   "outputs": [],
   "source": [
    "#切分数据\n",
    "x_train,x_test,y_train,y_test=cross_validation.train_test_split(dataset,labels,test_size=0.25,random_state=0,stratify=labels)"
   ]
  },
  {
   "cell_type": "code",
   "execution_count": 71,
   "metadata": {},
   "outputs": [
    {
     "name": "stdout",
     "output_type": "stream",
     "text": [
      "模型在训练集上的评分:0.862667\n",
      "模型在测试集上的评分:0.796000\n"
     ]
    }
   ],
   "source": [
    "clf=neighbors.KNeighborsClassifier()\n",
    "clf.fit(x_train,y_train)\n",
    "print('模型在训练集上的评分:%f'%clf.score(x_train,y_train))\n",
    "print('模型在测试集上的评分:%f'%clf.score(x_test,y_test))"
   ]
  },
  {
   "cell_type": "code",
   "execution_count": 72,
   "metadata": {},
   "outputs": [
    {
     "name": "stdout",
     "output_type": "stream",
     "text": [
      "最佳效果:0.805\n",
      "最优参数组合:\n",
      "\tn_neighbors:7\n",
      "\tp:1\n",
      "\tweights:'uniform'\n"
     ]
    }
   ],
   "source": [
    "#超参数搜索\n",
    "ps=[1,2,10]\n",
    "ks=[4,5,6,7,8,9,10]\n",
    "ws=['uniform','distance']  #指定权重算法\n",
    "par_grid={'p':ps,'n_neighbors':ks,'weights':ws}\n",
    "clf=GridSearchCV(neighbors.KNeighborsClassifier(),par_grid,cv=5)  #cv表示5折交叉\n",
    "clf.fit(x_train,y_train)\n",
    "\n",
    "print('最佳效果:%0.3f'%clf.best_score_)\n",
    "print('最优参数组合:')\n",
    "best_parameters=clf.best_estimator_.get_params()\n",
    "for par_name in sorted(par_grid.keys()):\n",
    "    print('\\t%s:%r'%(par_name,best_parameters[par_name]))"
   ]
  },
  {
   "cell_type": "code",
   "execution_count": 73,
   "metadata": {},
   "outputs": [
    {
     "name": "stdout",
     "output_type": "stream",
     "text": [
      "训练集 0.850666666667\n",
      "测试集 0.8\n"
     ]
    }
   ],
   "source": [
    "print('训练集',clf.score(x_train,y_train))\n",
    "print('测试集',clf.score(x_test,y_test))"
   ]
  },
  {
   "cell_type": "code",
   "execution_count": 74,
   "metadata": {},
   "outputs": [
    {
     "name": "stdout",
     "output_type": "stream",
     "text": [
      "训练 0.850666666667\n",
      "测试 0.8\n"
     ]
    }
   ],
   "source": [
    "#使用最优参数来  预测\n",
    "clf=neighbors.KNeighborsClassifier(p=1,n_neighbors=7,weights='uniform')\n",
    "clf.fit(x_train,y_train)\n",
    "print('训练',clf.score(x_train,y_train))\n",
    "print('测试',clf.score(x_test,y_test))"
   ]
  },
  {
   "cell_type": "code",
   "execution_count": null,
   "metadata": {
    "collapsed": true
   },
   "outputs": [],
   "source": []
  }
 ],
 "metadata": {
  "kernelspec": {
   "display_name": "Python 3",
   "language": "python",
   "name": "python3"
  },
  "language_info": {
   "codemirror_mode": {
    "name": "ipython",
    "version": 3
   },
   "file_extension": ".py",
   "mimetype": "text/x-python",
   "name": "python",
   "nbconvert_exporter": "python",
   "pygments_lexer": "ipython3",
   "version": "3.6.2"
  }
 },
 "nbformat": 4,
 "nbformat_minor": 2
}
