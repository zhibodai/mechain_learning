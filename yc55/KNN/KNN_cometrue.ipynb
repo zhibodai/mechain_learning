{
 "cells": [
  {
   "cell_type": "code",
   "execution_count": 1,
   "metadata": {
    "collapsed": true
   },
   "outputs": [],
   "source": [
    "import numpy as np"
   ]
  },
  {
   "cell_type": "code",
   "execution_count": 26,
   "metadata": {},
   "outputs": [
    {
     "name": "stdout",
     "output_type": "stream",
     "text": [
      "[  4.09200000e+04   8.32697600e+00   9.53952000e-01]\n",
      "[3, 2, 1, 1, 1, 1, 3, 3, 1, 3, 1, 1, 2, 1, 1, 1, 1, 1, 2, 3, 2, 1, 2, 3, 2, 3, 2, 3, 2, 1, 3, 1, 3, 1, 2, 1, 1, 2, 3, 3, 1, 2, 3, 3, 3, 1, 1, 1, 1, 2, 2, 1, 3, 2, 2, 2, 2, 3, 1, 2, 1, 2, 2, 2, 2, 2, 3, 2, 3, 1, 2, 3, 2, 2, 1, 3, 1, 1, 3, 3, 1, 2, 3, 1, 3, 1, 2, 2, 1, 1, 3, 3, 1, 2, 1, 3, 3, 2, 1, 1]\n"
     ]
    }
   ],
   "source": [
    "def readFile(filename):\n",
    "    file=open(filename,'r',encoding='utf8')\n",
    "    lines=file.readlines()\n",
    "    rows=len(lines)\n",
    "    data=np.zeros((rows,3))\n",
    "    labels=[]\n",
    "    index=0\n",
    "    for line in lines:\n",
    "        words=line.strip().split('\\t')\n",
    "        data[index,]=words[0:3]\n",
    "        labels.append(int (words[-1]))\n",
    "        index += 1\n",
    "    return data,labels\n",
    "\n",
    "dataset,labels=readFile('datingTestSet.txt')\n",
    "print(dataset[0])\n",
    "print(labels[0:100])"
   ]
  },
  {
   "cell_type": "code",
   "execution_count": 29,
   "metadata": {},
   "outputs": [
    {
     "data": {
      "text/plain": [
       "array([[3, 4, 5, 3, 4, 5],\n",
       "       [3, 4, 5, 3, 4, 5],\n",
       "       [3, 4, 5, 3, 4, 5]])"
      ]
     },
     "execution_count": 29,
     "metadata": {},
     "output_type": "execute_result"
    }
   ],
   "source": [
    "#基础知识点\n",
    "# 关于复制点\n",
    "inX=[3,4,5]\n",
    "'''\n",
    "numpy.tile(A,reps)   (3,2) \n",
    "'''\n",
    "np.tile(inX,(3,2))  #这个是在扩展成 3行6列\n",
    "#dataset.shape"
   ]
  },
  {
   "cell_type": "code",
   "execution_count": 16,
   "metadata": {},
   "outputs": [
    {
     "name": "stdout",
     "output_type": "stream",
     "text": [
      "[3 4 0 1 2 5]\n"
     ]
    }
   ],
   "source": [
    "# 关于对数组排序后得到的排序的索引\n",
    "distances=np.array([3,5,7,1,2,9])   # numpy.array   ->  转为  ndarray\n",
    "sortedDistIndicies=distances.argsort()   #  返回排序好的 索引\n",
    "print(sortedDistIndicies)"
   ]
  },
  {
   "cell_type": "code",
   "execution_count": 18,
   "metadata": {},
   "outputs": [
    {
     "name": "stdout",
     "output_type": "stream",
     "text": [
      "[(3, 20), (2, 20), (1, 50)]\n"
     ]
    }
   ],
   "source": [
    "# 3.关于字典进行排序\n",
    "import operator\n",
    "classCount={2:20,3:20,1:50}    # items ->  一个键值对\n",
    "sortedClass=sorted(classCount.items(),key=operator.itemgetter(0),reverse=True)  #    key :按照什么来排序  reverse: False 升序  True 降序\n",
    "print(sortedClass)"
   ]
  },
  {
   "cell_type": "code",
   "execution_count": 41,
   "metadata": {
    "collapsed": true
   },
   "outputs": [],
   "source": [
    "def KNeighborsClassifier(inX,dataset,labels,n_neighbors=5,weights='uniform',p=2):\n",
    "    '''\n",
    "    inX:待测点\n",
    "    dataSet 数据集 \n",
    "    labels  数据值对应标签\n",
    "    n_neighbors  k取值\n",
    "    weights 权重  uniform 各样本权重相等\n",
    "    distance  按距离加权\n",
    "    '''\n",
    "    '''\n",
    "    计算未知点到所有已知类别点的距离\n",
    "    按距离的递进关系进行排序\n",
    "    选取其中前k个与未知点离得最近的点\n",
    "    统计k个点中各个类别的个数\n",
    "    上述k个点里类别出现频率最高的作为未知点的类别\n",
    "    '''\n",
    "    rows=dataset.shape[0]\n",
    "    difference=np.tile(inX,(rows,1))-dataset\n",
    "    \n",
    "    pDinfference=difference**p\n",
    "    sumResult=pDinfference.sum(axis=1)\n",
    "    distances=sumResult**(1/p)\n",
    "    \n",
    "    sortedDistanceIndex=distances.argsort()\n",
    "    #print(sortedDistanceIndex)\n",
    "    classCount={}\n",
    "    for i in range(n_neighbors):\n",
    "        votelabel=labels[sortedDistanceIndex[i]]\n",
    "        classCount[votelabel]=classCount.get(votelabel,0)+1\n",
    "    sortedClassCount = sorted(classCount.items(),key=operator.itemgetter(1),reverse=True)\n",
    "    return sortedClassCount[0][0]"
   ]
  },
  {
   "cell_type": "code",
   "execution_count": 42,
   "metadata": {},
   "outputs": [
    {
     "name": "stdout",
     "output_type": "stream",
     "text": [
      "3\n"
     ]
    }
   ],
   "source": [
    "result=KNeighborsClassifier([40920,8.326976,0.953952],dataset,labels)\n",
    "print(result)"
   ]
  },
  {
   "cell_type": "code",
   "execution_count": null,
   "metadata": {
    "collapsed": true
   },
   "outputs": [],
   "source": [
    "import matplotlib.font_manager as fm\n",
    "import matplotlib\n",
    "import matplotlib.pyplot as plt\n",
    "%matplotlib inline\n",
    "myfont=fm.FontProperties(fname='C:/Windows/Fonts/simkai.ttf') "
   ]
  },
  {
   "cell_type": "code",
   "execution_count": null,
   "metadata": {
    "collapsed": true
   },
   "outputs": [],
   "source": [
    "fig=plt.figure(figsize=(30,20),dpi=144)\n",
    "ax=fig.add_subplot(111)\n",
    "\n",
    "# scatter( 行值,列值，颜色，标识样式)\n",
    "ax.scatter(dataset[:,0],dataset[:,1],15*array(labels),15*array(labels)  )\n",
    "ax.axis([0,99999,0,20])\n",
    "plt.title('飞行的距离与冰激凌消费的关系',fontproperties=myfont)\n",
    "plt.xlabel('飞行的距离',fontproperties=myfont)\n",
    "plt.ylabel('游戏时间',fontproperties=myfont)\n",
    "\n",
    "ax=fig.add_subplot(211)\n",
    "ax.scatter(dataset[:,0],dataset[:,2],15*array(labels),15*array(labels) )\n",
    "ax.axis([0,99999,0,2])\n",
    "\n",
    "plt.show()"
   ]
  }
 ],
 "metadata": {
  "kernelspec": {
   "display_name": "Python 3",
   "language": "python",
   "name": "python3"
  },
  "language_info": {
   "codemirror_mode": {
    "name": "ipython",
    "version": 3
   },
   "file_extension": ".py",
   "mimetype": "text/x-python",
   "name": "python",
   "nbconvert_exporter": "python",
   "pygments_lexer": "ipython3",
   "version": "3.6.2"
  }
 },
 "nbformat": 4,
 "nbformat_minor": 2
}
