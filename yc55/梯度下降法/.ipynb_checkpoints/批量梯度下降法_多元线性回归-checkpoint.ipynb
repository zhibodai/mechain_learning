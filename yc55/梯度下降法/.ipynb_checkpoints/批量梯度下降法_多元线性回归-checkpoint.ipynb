{
 "cells": [
  {
   "cell_type": "code",
   "execution_count": 1,
   "metadata": {
    "collapsed": true
   },
   "outputs": [],
   "source": [
    "import numpy as np\n",
    "import matplotlib.pyplot as plt"
   ]
  },
  {
   "cell_type": "code",
   "execution_count": 2,
   "metadata": {
    "collapsed": true
   },
   "outputs": [],
   "source": [
    "x = 2 * np.random.random(size=100)\n",
    "y = x * 3. + 4. +np.random.normal(size=100)"
   ]
  },
  {
   "cell_type": "code",
   "execution_count": 3,
   "metadata": {},
   "outputs": [
    {
     "data": {
      "text/plain": [
       "(100, 1)"
      ]
     },
     "execution_count": 3,
     "metadata": {},
     "output_type": "execute_result"
    }
   ],
   "source": [
    "X=x.reshape(-1,1)\n",
    "X.shape"
   ]
  },
  {
   "cell_type": "code",
   "execution_count": 4,
   "metadata": {},
   "outputs": [
    {
     "data": {
      "text/plain": [
       "(100,)"
      ]
     },
     "execution_count": 4,
     "metadata": {},
     "output_type": "execute_result"
    }
   ],
   "source": [
    "y.shape"
   ]
  },
  {
   "cell_type": "code",
   "execution_count": 5,
   "metadata": {},
   "outputs": [
    {
     "data": {
      "image/png": "[encoded data removed]",
      "text/plain": [
       "<matplotlib.figure.Figure at 0x2a3a35b2dd8>"
      ]
     },
     "metadata": {},
     "output_type": "display_data"
    }
   ],
   "source": [
    "plt.scatter(x,y)\n",
    "plt.show()"
   ]
  },
  {
   "cell_type": "markdown",
   "metadata": {},
   "source": [
    "# 使用的梯度下降法"
   ]
  },
  {
   "cell_type": "code",
   "execution_count": 6,
   "metadata": {
    "collapsed": true
   },
   "outputs": [],
   "source": [
    "def J(theta, x_b ,y):\n",
    "    try:\n",
    "        return np.sum((y - x_b.dot(theta))**2 )/len(x_b)\n",
    "    except:\n",
    "        return float('inf')\n",
    "    \n",
    "def DJ(theta,x_b,y):\n",
    "    res=np.empty(len(theta))\n",
    "    res[0]=np.sum((x_b.dot(theta) - y)  )\n",
    "    for i in range(1,len(theta)):\n",
    "        res[i] = (x_b.dot(theta) - y).dot(x_b[:,i])\n",
    "    return res * 2/ len(x_b)"
   ]
  },
  {
   "cell_type": "code",
   "execution_count": 19,
   "metadata": {
    "collapsed": true
   },
   "outputs": [],
   "source": [
    "def gradient_descent_2(x_b,y,theta,eta,n_iters=1e4,epsilon= 1e-8):\n",
    "    '''\n",
    "    n_iters  最大循环次数\n",
    "    '''\n",
    "    i_iters=0\n",
    "    \n",
    "    while i_iters<n_iters:\n",
    "        gradient=DJ(theta,x_b,y)\n",
    "        lastTheta=theta\n",
    "        theta=theta-eta*gradient\n",
    "                \n",
    "        if(abs(J(theta,x_b,y)-J(lastTheta,x_b,y))<epsilon):\n",
    "            break\n",
    "        i_iters+=1\n",
    "    return theta"
   ]
  },
  {
   "cell_type": "code",
   "execution_count": 20,
   "metadata": {},
   "outputs": [
    {
     "data": {
      "text/plain": [
       "array([ 3.97292603,  3.08675777])"
      ]
     },
     "execution_count": 20,
     "metadata": {},
     "output_type": "execute_result"
    }
   ],
   "source": [
    "x_b=np.hstack([np.ones((len(X),1)),X])\n",
    "initial_theta=np.zeros(x_b.shape[1])\n",
    "eta=0.01\n",
    "\n",
    "theta=gradient_descent_2(x_b,y,initial_theta,eta)\n",
    "theta"
   ]
  },
  {
   "cell_type": "markdown",
   "metadata": {},
   "source": [
    "# 进行线性代数的运算后，发现运算式的简单换算，后修改方法"
   ]
  },
  {
   "cell_type": "code",
   "execution_count": 21,
   "metadata": {
    "collapsed": true
   },
   "outputs": [],
   "source": [
    "def J(theta, x_b ,y):\n",
    "    try:\n",
    "        return np.sum((y - x_b.dot(theta))**2 )/len(x_b)\n",
    "    except:\n",
    "        return float('inf')\n",
    "    \n",
    "\n",
    "def DJ(theta,x_b,y):\n",
    "    return x_b.T.dot(x_b.dot(theta)-y)*2./len(x_b)"
   ]
  },
  {
   "cell_type": "code",
   "execution_count": 22,
   "metadata": {
    "collapsed": true
   },
   "outputs": [],
   "source": [
    "def gradient_descent_2(x_b,y,theta,eta,n_iters=1e4,epsilon= 1e-8):\n",
    "    '''\n",
    "    n_iters  最大循环次数\n",
    "    '''\n",
    "    i_iters=0\n",
    "    \n",
    "    while i_iters<n_iters:\n",
    "        gradient=DJ(theta,x_b,y)\n",
    "        lastTheta=theta\n",
    "        theta=theta-eta*gradient\n",
    "                \n",
    "        if(abs(J(theta,x_b,y)-J(lastTheta,x_b,y))<epsilon):\n",
    "            break\n",
    "        i_iters+=1\n",
    "    return theta\n",
    "\n",
    "def gradient_pre(x_b,intercept,coef):\n",
    "    "
   ]
  },
  {
   "cell_type": "code",
   "execution_count": 38,
   "metadata": {},
   "outputs": [],
   "source": [
    "from sklearn.datasets import load_boston\n",
    "from sklearn.model_selection import train_test_split\n",
    "\n",
    "X=load_boston().data\n",
    "y=load_boston().target\n",
    "\n",
    "X=X[y<50.0]\n",
    "y=y[y<50.0]\n",
    "\n",
    "X_train,X_test,y_train,y_test=train_test_split(X,y,test_size=0.1,random_state=33)"
   ]
  },
  {
   "cell_type": "code",
   "execution_count": 40,
   "metadata": {},
   "outputs": [],
   "source": [
    "initial_theta=np.zeros(X_train.shape[1])"
   ]
  },
  {
   "cell_type": "code",
   "execution_count": 41,
   "metadata": {},
   "outputs": [
    {
     "name": "stdout",
     "output_type": "stream",
     "text": [
      "(13,)\n",
      "(490, 13)\n"
     ]
    },
    {
     "data": {
      "text/plain": [
       "(490,)"
      ]
     },
     "execution_count": 41,
     "metadata": {},
     "output_type": "execute_result"
    }
   ],
   "source": [
    "print(initial_theta.shape)\n",
    "print(X.shape)\n",
    "y.shape"
   ]
  },
  {
   "cell_type": "code",
   "execution_count": 42,
   "metadata": {},
   "outputs": [
    {
     "name": "stderr",
     "output_type": "stream",
     "text": [
      "C:\\ProgramData\\Anaconda3\\lib\\site-packages\\ipykernel_launcher.py:3: RuntimeWarning: overflow encountered in square\n",
      "  This is separate from the ipykernel package so we can avoid doing imports until\n",
      "C:\\ProgramData\\Anaconda3\\lib\\site-packages\\ipykernel_launcher.py:12: RuntimeWarning: invalid value encountered in double_scalars\n",
      "  if sys.path[0] == '':\n",
      "C:\\ProgramData\\Anaconda3\\lib\\site-packages\\ipykernel_launcher.py:9: RuntimeWarning: overflow encountered in multiply\n",
      "  if __name__ == '__main__':\n"
     ]
    },
    {
     "data": {
      "text/plain": [
       "array([ nan,  nan,  nan,  nan,  nan,  nan,  nan,  nan,  nan,  nan,  nan,\n",
       "        nan,  nan])"
      ]
     },
     "execution_count": 42,
     "metadata": {},
     "output_type": "execute_result"
    }
   ],
   "source": [
    "theta=gradient_descent_2(X_train,y_train,initial_theta,eta)\n",
    "theta"
   ]
  },
  {
   "cell_type": "code",
   "execution_count": 43,
   "metadata": {},
   "outputs": [
    {
     "data": {
      "text/plain": [
       "array([-0.09670935,  0.11456676, -0.07271564,  0.00289776,  0.00447993,\n",
       "        0.1240783 ,  0.05349829,  0.03292839, -0.00431356,  0.00250877,\n",
       "        0.11679046,  0.04600638, -0.24060703])"
      ]
     },
     "execution_count": 43,
     "metadata": {},
     "output_type": "execute_result"
    }
   ],
   "source": [
    "theta=gradient_descent_2(X_train,y_train,initial_theta,eta=0.000001)\n",
    "theta"
   ]
  },
  {
   "cell_type": "code",
   "execution_count": 44,
   "metadata": {
    "collapsed": true
   },
   "outputs": [],
   "source": [
    "#数据标准化\n",
    "\n",
    "from sklearn.preprocessing import StandardScaler\n",
    "standardScaler=StandardScaler()\n",
    "standardScaler.fit(X_train)\n",
    "x_train_stand=standardScaler.transform(X_train)"
   ]
  },
  {
   "cell_type": "code",
   "execution_count": 45,
   "metadata": {},
   "outputs": [
    {
     "data": {
      "text/plain": [
       "array([[ 0.43764739, -0.48807604,  1.04622058, ...,  0.8032357 ,\n",
       "        -0.61303723,  0.90978093],\n",
       "       [-0.37255494, -0.48807604, -0.71253352, ..., -0.50542698,\n",
       "         0.21989697, -1.26551071],\n",
       "       [-0.39911248,  1.2439017 , -0.68149669, ..., -0.41195107,\n",
       "         0.40102891, -1.23158803],\n",
       "       ..., \n",
       "       [-0.33707575, -0.48807604, -0.71253352, ..., -0.50542698,\n",
       "         0.4402325 , -0.745363  ],\n",
       "       [ 0.93367775, -0.48807604,  1.04622058, ...,  0.8032357 ,\n",
       "        -0.29622679, -0.10507248],\n",
       "       [-0.26566116, -0.48807604, -0.42581227, ...,  1.17713932,\n",
       "         0.20921541,  1.15148   ]])"
      ]
     },
     "execution_count": 45,
     "metadata": {},
     "output_type": "execute_result"
    }
   ],
   "source": [
    "x_train_stand"
   ]
  },
  {
   "cell_type": "code",
   "execution_count": 46,
   "metadata": {},
   "outputs": [
    {
     "data": {
      "text/plain": [
       "array([-0.9330378 ,  0.8728916 , -0.34451126,  0.02861191, -1.52950626,\n",
       "        2.49472375, -0.67874035, -2.72866486,  2.18438337, -2.29305203,\n",
       "       -1.8554875 ,  0.57719345, -2.57394748])"
      ]
     },
     "execution_count": 46,
     "metadata": {},
     "output_type": "execute_result"
    }
   ],
   "source": [
    "theta=gradient_descent_2(x_train_stand,y_train,initial_theta,eta)\n",
    "theta"
   ]
  },
  {
   "cell_type": "code",
   "execution_count": null,
   "metadata": {
    "collapsed": true
   },
   "outputs": [],
   "source": []
  }
 ],
 "metadata": {
  "kernelspec": {
   "display_name": "Python 3",
   "language": "python",
   "name": "python3"
  },
  "language_info": {
   "codemirror_mode": {
    "name": "ipython",
    "version": 3
   },
   "file_extension": ".py",
   "mimetype": "text/x-python",
   "name": "python",
   "nbconvert_exporter": "python",
   "pygments_lexer": "ipython3",
   "version": "3.6.2"
  }
 },
 "nbformat": 4,
 "nbformat_minor": 2
}
