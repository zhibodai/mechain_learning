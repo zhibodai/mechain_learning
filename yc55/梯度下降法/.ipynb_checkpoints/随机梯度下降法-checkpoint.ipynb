{
 "cells": [
  {
   "cell_type": "code",
   "execution_count": 1,
   "metadata": {
    "collapsed": true
   },
   "outputs": [],
   "source": [
    "import numpy as np\n",
    "import matplotlib.pyplot as plt"
   ]
  },
  {
   "cell_type": "code",
   "execution_count": 2,
   "metadata": {
    "collapsed": true
   },
   "outputs": [],
   "source": [
    "m= 100000\n",
    "\n",
    "x=np.random.normal(size=m)\n",
    "X=x.reshape(-1,1)\n",
    "y=4.*x+3.+np.random.normal(0,3,size=m)"
   ]
  },
  {
   "cell_type": "code",
   "execution_count": 3,
   "metadata": {
    "collapsed": true
   },
   "outputs": [],
   "source": [
    "def J(theta,X_b,y):\n",
    "    try:\n",
    "        return np.sum((y - X_b.dot(theta))**2 )/len(X_b)\n",
    "    except:\n",
    "        return float('inf')\n",
    "    \n",
    "def dj_sgd(theta,X_b_i,y_i):\n",
    "    return X_b_i.T.dot(X_b_i.dot(theta)-y_i )*2."
   ]
  },
  {
   "cell_type": "code",
   "execution_count": 30,
   "metadata": {
    "collapsed": true
   },
   "outputs": [],
   "source": [
    "def sgd(X_b,y,initial_theta,n_iters=5):\n",
    "    '''\n",
    "    initial_theta 样本特征比例\n",
    "    \n",
    "    n_iters   对于整个样本遍历的轮数\n",
    "    '''\n",
    "    t0=5\n",
    "    t1=50\n",
    "    m=len(X_b)\n",
    "    \n",
    "    def learning_rate(t):\n",
    "        return t0 /(t+t1)\n",
    "\n",
    "    theta = initial_theta\n",
    "    for cur_iter in range(n_iters):\n",
    "        indexs = np.random.permutation(m)   #随机索引乱序  达到能够全部都能够遍历\n",
    "        X_b_new=X_b[indexs]  #用新的索引来进行排序\n",
    "        y_b_new=y[indexs]\n",
    "        for i in range(m):\n",
    "            gradient = dj_sgd(theta,X_b[i],y[i])\n",
    "            theta = theta - learning_rate(cur_iter*m+i) * gradient\n",
    "    return theta"
   ]
  },
  {
   "cell_type": "code",
   "execution_count": 31,
   "metadata": {},
   "outputs": [
    {
     "name": "stdout",
     "output_type": "stream",
     "text": [
      "Wall time: 17 ms\n"
     ]
    }
   ],
   "source": [
    "%%time\n",
    "x_b=np.hstack([np.ones((len(X),1)),X])\n",
    "initial_theta=np.zeros(x_b.shape[1])\n",
    "theta,index=sgd(x_b,y,initial_theta)"
   ]
  },
  {
   "cell_type": "code",
   "execution_count": 10,
   "metadata": {},
   "outputs": [
    {
     "data": {
      "text/plain": [
       "array([ 2.99910353,  4.00172184])"
      ]
     },
     "execution_count": 10,
     "metadata": {},
     "output_type": "execute_result"
    }
   ],
   "source": [
    "theta"
   ]
  },
  {
   "cell_type": "code",
   "execution_count": null,
   "metadata": {
    "collapsed": true
   },
   "outputs": [],
   "source": []
  }
 ],
 "metadata": {
  "kernelspec": {
   "display_name": "Python 3",
   "language": "python",
   "name": "python3"
  },
  "language_info": {
   "codemirror_mode": {
    "name": "ipython",
    "version": 3
   },
   "file_extension": ".py",
   "mimetype": "text/x-python",
   "name": "python",
   "nbconvert_exporter": "python",
   "pygments_lexer": "ipython3",
   "version": "3.6.2"
  }
 },
 "nbformat": 4,
 "nbformat_minor": 2
}
