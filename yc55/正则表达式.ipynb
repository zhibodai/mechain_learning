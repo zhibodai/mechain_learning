{
 "cells": [
  {
   "cell_type": "code",
   "execution_count": 2,
   "metadata": {
    "collapsed": true
   },
   "outputs": [],
   "source": [
    "import re"
   ]
  },
  {
   "cell_type": "code",
   "execution_count": 1,
   "metadata": {},
   "outputs": [
    {
     "ename": "NameError",
     "evalue": "name 're' is not defined",
     "output_type": "error",
     "traceback": [
      "\u001b[1;31m---------------------------------------------------------------------------\u001b[0m",
      "\u001b[1;31mNameError\u001b[0m                                 Traceback (most recent call last)",
      "\u001b[1;32m<ipython-input-1-d5303ac2e6e7>\u001b[0m in \u001b[0;36m<module>\u001b[1;34m()\u001b[0m\n\u001b[1;32m----> 1\u001b[1;33m \u001b[0mp\u001b[0m\u001b[1;33m=\u001b[0m\u001b[0mre\u001b[0m\u001b[1;33m.\u001b[0m\u001b[0mcompile\u001b[0m\u001b[1;33m(\u001b[0m\u001b[1;34m'hi'\u001b[0m \u001b[1;33m)\u001b[0m\u001b[1;31m#匹配hi   编译一个正则表达式的对象\u001b[0m\u001b[1;33m\u001b[0m\u001b[0m\n\u001b[0m\u001b[0;32m      2\u001b[0m \u001b[0mm\u001b[0m\u001b[1;33m=\u001b[0m\u001b[0mp\u001b[0m\u001b[1;33m.\u001b[0m\u001b[0msearch\u001b[0m\u001b[1;33m(\u001b[0m\u001b[1;34m'very,high'\u001b[0m\u001b[1;33m)\u001b[0m  \u001b[1;31m#正则表达式对象\u001b[0m\u001b[1;33m\u001b[0m\u001b[0m\n",
      "\u001b[1;31mNameError\u001b[0m: name 're' is not defined"
     ]
    }
   ],
   "source": [
    "p=re.compile('hi' )#匹配hi   编译一个正则表达式的对象  \n",
    "m=p.search('very,high')  #正则表达式对象\n"
   ]
  },
  {
   "cell_type": "markdown",
   "metadata": {},
   "source": [
    "# 具有特殊含义的符号\n",
    ".^$*+?{[]|()"
   ]
  },
  {
   "cell_type": "code",
   "execution_count": 3,
   "metadata": {},
   "outputs": [
    {
     "name": "stdout",
     "output_type": "stream",
     "text": [
      "(1, 3)\n"
     ]
    }
   ],
   "source": [
    "# \\转义符  r表示 regex 表示后面''中的是一个正则表达式，而不是一个普通的字符串\n",
    "p=re.compile(r'\\.e') #找字符‘.’ 后面紧跟字符‘e’  为什么要有  \\  因为 . 在正则里面表示任意的字符\n",
    "m=p.search('a.exex')\n",
    "print(m.span())"
   ]
  },
  {
   "cell_type": "code",
   "execution_count": 4,
   "metadata": {},
   "outputs": [
    {
     "name": "stdout",
     "output_type": "stream",
     "text": [
      "(0, 1)\n",
      "(1, 2)\n",
      "(0, 1)\n"
     ]
    }
   ],
   "source": [
    "#字符串‘.’用于匹配任意的非换行字符，在windows下为'\\n'，在Unix下面为‘\\r\\n’。\n",
    "#在python中  如果你在构造表达式指定参数 DOTALL 的话 字符也可以匹配换行\n",
    "p=re.compile('.')\n",
    "print(p.search('abc').span() )\n",
    "print(p.search('\\ncba').span())\n",
    "\n",
    "\n",
    "p=re.compile('.',re.DOTALL)  #dot 点  all全部  dotall 全部字符\n",
    "print( p.search('\\ncba').span())"
   ]
  },
  {
   "cell_type": "code",
   "execution_count": 5,
   "metadata": {},
   "outputs": [
    {
     "name": "stdout",
     "output_type": "stream",
     "text": [
      "(1, 4)\n",
      "(1, 4)\n"
     ]
    }
   ],
   "source": [
    "#字符串  |  代表选择  匹配它2边任意一个都可以\n",
    "p=re.compile(r'abc|cba')\n",
    "print(p.search('cabcd').span() )\n",
    "print(p.search('acbac').span() )\n"
   ]
  },
  {
   "cell_type": "code",
   "execution_count": 7,
   "metadata": {},
   "outputs": [
    {
     "name": "stdout",
     "output_type": "stream",
     "text": [
      "(1, 2)\n"
     ]
    }
   ],
   "source": [
    "#如果你想要匹配几个字符中的任意一个，那么就要用到字符类。一个字符类是由[和]表示的，表示\n",
    "#其中的任意一个在字符类取的特殊含义\n",
    "p=re.compile(r'[aeiou.^]') #找到aeiou 或者 字符 . 或者 字符 ^ 中的任意一个\n",
    "m=p.search('b.exe')\n",
    "print(m.span())"
   ]
  },
  {
   "cell_type": "code",
   "execution_count": 17,
   "metadata": {},
   "outputs": [
    {
     "name": "stdout",
     "output_type": "stream",
     "text": [
      "(1, 2)\n",
      "(0, 1)\n",
      "(1, 2)\n",
      "(3, 4)\n",
      "(1, 2)\n",
      "(0, 2)\n",
      "(0, 1)\n"
     ]
    }
   ],
   "source": [
    "#在一个字符类中 只有字符^  -   ]  和 \\  有特殊含义\n",
    "#字符 \\ 任然表示转义，字符- 表示可以定义的字符范围，字符 ^  放在前面表示非， 字符\n",
    "#   ]  表示字符类的结束\n",
    "p=re.compile(r'[-a-c]')  #  -  ,a ,b,c\n",
    "m=p.search('d-a.exe')\n",
    "print(m.span())\n",
    "m=p.search('b-a.exe')\n",
    "print(m.span())\n",
    "\n",
    "p=re.compile(r'[^-a-c]')# 除了这 - ,a ,b,c以外的字符\n",
    "m=p.search('b.exe')\n",
    "print(m.span())\n",
    "\n",
    "\n",
    "p=re.compile(r'[-a-c^]')  #没在首位就只表示 - a，b，c ^\n",
    "m=p.search('def^-') \n",
    "print(m.span())\n",
    "\n",
    "p=re.compile(r'[[-a-c]') #第二个字符 [ 只表示字符[  [,-,a,b,c\n",
    "m=p.search('f[')  #找到 [\n",
    "print(m.span())\n",
    "\n",
    "p=re.compile(r'[a-c]]') #第一个]表示一个类的结束  第二个]表示字符  匹配字符 a,b,c,后面接]\n",
    "#m=p.search(']a')  匹配失败\n",
    "m=p.search('a]')\n",
    "print(m.span() )\n",
    "    \n",
    "p=re.compile(r'[a-c\\]]') #要表示字符 ] 需要用转义符\\\n",
    "m=p.search(']a')\n",
    "print(m.span())"
   ]
  },
  {
   "cell_type": "code",
   "execution_count": null,
   "metadata": {
    "collapsed": true
   },
   "outputs": [],
   "source": [
    "#{}表示重复\n",
    "#在{和} 之间的数 用于指定重复的次数 {1,}  {,5}  {1,5}\n",
    "# 量词   +  表示1或者多  * 表示0或者多  ? 表示0或者1\n",
    "p=re.compile(r'ab{2}c')  #  abbc\n",
    "p=re.compile(r'ab{2,}c')# abbc   或者  更多的 abbbbbbc\n",
    "p=re.compile(r'ab{2,4}c') #abbc abbbc  abbbbc\n",
    "#除了用{} 表示重复以外 ，还有几个字符也是这种含义\n",
    "p=re.compile(r'windows\\d+')  #匹配windows 后跟至少一个数字   window7  window8 window10\n",
    "p=re.compile(r'13\\d{9}') #匹配 13后跟 9个数字"
   ]
  },
  {
   "cell_type": "code",
   "execution_count": 20,
   "metadata": {},
   "outputs": [
    {
     "name": "stdout",
     "output_type": "stream",
     "text": [
      "(0, 5)\n"
     ]
    }
   ],
   "source": [
    "# 贪婪模式 ：在正则表达式的匹配中，采用的尽可能多的匹配原则  即贪婪模式(Greeding)\n",
    "p=re.compile('a.*c')  # a\n",
    "m=p.search('abcbca') #匹配尽可能多的\n",
    "print(m.span())"
   ]
  },
  {
   "cell_type": "code",
   "execution_count": 2,
   "metadata": {},
   "outputs": [
    {
     "name": "stdout",
     "output_type": "stream",
     "text": [
      "(0, 3)\n"
     ]
    }
   ],
   "source": [
    "#懒惰模式(Lazy):尽可能少的匹配。在表达重复的符号后面，加上字符 ? 即可，如+?  *?  {n,}?等\n",
    "p=re.compile('a.*?c') #指定 lazy 的匹配模式\n",
    "m=p.search('abcbca') # abc\n",
    "print(m.span())"
   ]
  },
  {
   "cell_type": "code",
   "execution_count": 4,
   "metadata": {},
   "outputs": [
    {
     "name": "stdout",
     "output_type": "stream",
     "text": [
      "(7, 12)\n"
     ]
    },
    {
     "ename": "AttributeError",
     "evalue": "'NoneType' object has no attribute 'span'",
     "output_type": "error",
     "traceback": [
      "\u001b[1;31m---------------------------------------------------------------------------\u001b[0m",
      "\u001b[1;31mAttributeError\u001b[0m                            Traceback (most recent call last)",
      "\u001b[1;32m<ipython-input-4-6a9d38947280>\u001b[0m in \u001b[0;36m<module>\u001b[1;34m()\u001b[0m\n\u001b[0;32m      4\u001b[0m \u001b[0mp\u001b[0m\u001b[1;33m=\u001b[0m\u001b[0mre\u001b[0m\u001b[1;33m.\u001b[0m\u001b[0mcompile\u001b[0m\u001b[1;33m(\u001b[0m\u001b[1;34m'^From:'\u001b[0m\u001b[1;33m,\u001b[0m\u001b[0mre\u001b[0m\u001b[1;33m.\u001b[0m\u001b[0mM\u001b[0m\u001b[1;33m)\u001b[0m  \u001b[1;31m#匹配以From：开头的行\u001b[0m\u001b[1;33m\u001b[0m\u001b[0m\n\u001b[0;32m      5\u001b[0m \u001b[0mprint\u001b[0m\u001b[1;33m(\u001b[0m\u001b[0mp\u001b[0m\u001b[1;33m.\u001b[0m\u001b[0msearch\u001b[0m\u001b[1;33m(\u001b[0m\u001b[1;34m'hello \\nFrom: big'\u001b[0m\u001b[1;33m)\u001b[0m\u001b[1;33m.\u001b[0m\u001b[0mspan\u001b[0m\u001b[1;33m(\u001b[0m\u001b[1;33m)\u001b[0m\u001b[1;33m)\u001b[0m\u001b[1;33m\u001b[0m\u001b[0m\n\u001b[1;32m----> 6\u001b[1;33m \u001b[0mprint\u001b[0m\u001b[1;33m(\u001b[0m\u001b[0mp\u001b[0m\u001b[1;33m.\u001b[0m\u001b[0msearch\u001b[0m\u001b[1;33m(\u001b[0m\u001b[1;34m'hello From: big'\u001b[0m\u001b[1;33m)\u001b[0m\u001b[1;33m.\u001b[0m\u001b[0mspan\u001b[0m\u001b[1;33m(\u001b[0m\u001b[1;33m)\u001b[0m\u001b[1;33m)\u001b[0m\u001b[1;33m\u001b[0m\u001b[0m\n\u001b[0m",
      "\u001b[1;31mAttributeError\u001b[0m: 'NoneType' object has no attribute 'span'"
     ]
    }
   ],
   "source": [
    "#  ^与$表示行头与行尾  [^字符类]\n",
    "#  字符^表示在一行位置，字符$表示行的结尾的位置，他们不代表任何字符\n",
    "# 在python中 需要指定参数 re.M 或 re.MULTILINE才会表示行头与行尾 ，否则表示字符串的 开头与结尾\n",
    "p=re.compile('^From:',re.M)  #匹配以From：开头的行\n",
    "print(p.search('hello \\nFrom: big').span())\n",
    "print(p.search('hello From: big').span())  #找不到\n"
   ]
  },
  {
   "cell_type": "code",
   "execution_count": 8,
   "metadata": {},
   "outputs": [
    {
     "name": "stdout",
     "output_type": "stream",
     "text": [
      "(1, 3)\n",
      "(1, 3)\n",
      "(1, 3)\n"
     ]
    },
    {
     "ename": "AttributeError",
     "evalue": "'NoneType' object has no attribute 'span'",
     "output_type": "error",
     "traceback": [
      "\u001b[1;31m---------------------------------------------------------------------------\u001b[0m",
      "\u001b[1;31mAttributeError\u001b[0m                            Traceback (most recent call last)",
      "\u001b[1;32m<ipython-input-8-60b33cd1b9e1>\u001b[0m in \u001b[0;36m<module>\u001b[1;34m()\u001b[0m\n\u001b[0;32m      4\u001b[0m \u001b[0mprint\u001b[0m\u001b[1;33m(\u001b[0m\u001b[0mp\u001b[0m\u001b[1;33m.\u001b[0m\u001b[0msearch\u001b[0m\u001b[1;33m(\u001b[0m\u001b[1;34m'cba '\u001b[0m\u001b[1;33m)\u001b[0m\u001b[1;33m.\u001b[0m\u001b[0mspan\u001b[0m\u001b[1;33m(\u001b[0m\u001b[1;33m)\u001b[0m\u001b[1;33m)\u001b[0m  \u001b[1;31m# 后面可以是空格\u001b[0m\u001b[1;33m\u001b[0m\u001b[0m\n\u001b[0;32m      5\u001b[0m \u001b[0mprint\u001b[0m\u001b[1;33m(\u001b[0m\u001b[0mp\u001b[0m\u001b[1;33m.\u001b[0m\u001b[0msearch\u001b[0m\u001b[1;33m(\u001b[0m\u001b[1;34m'cba-'\u001b[0m\u001b[1;33m)\u001b[0m\u001b[1;33m.\u001b[0m\u001b[0mspan\u001b[0m\u001b[1;33m(\u001b[0m\u001b[1;33m)\u001b[0m\u001b[1;33m)\u001b[0m  \u001b[1;31m#后面可以是非单词字符\u001b[0m\u001b[1;33m\u001b[0m\u001b[0m\n\u001b[1;32m----> 6\u001b[1;33m \u001b[0mprint\u001b[0m\u001b[1;33m(\u001b[0m\u001b[0mp\u001b[0m\u001b[1;33m.\u001b[0m\u001b[0msearch\u001b[0m\u001b[1;33m(\u001b[0m\u001b[1;34m'cbaa'\u001b[0m\u001b[1;33m)\u001b[0m\u001b[1;33m.\u001b[0m\u001b[0mspan\u001b[0m\u001b[1;33m(\u001b[0m\u001b[1;33m)\u001b[0m\u001b[1;33m)\u001b[0m  \u001b[1;31m#错误  不能以单词结尾\u001b[0m\u001b[1;33m\u001b[0m\u001b[0m\n\u001b[0m",
      "\u001b[1;31mAttributeError\u001b[0m: 'NoneType' object has no attribute 'span'"
     ]
    }
   ],
   "source": [
    "#除了用^与$表示位置外 还有:\\b\n",
    "p=re.compile(r'ba\\b')  #找到以 ba 结尾的单词\n",
    "print(p.search('cba').span())\n",
    "print(p.search('cba ').span())  # 后面可以是空格\n",
    "print(p.search('cba-').span())  #后面可以是非单词字符\n",
    "print(p.search('cbaa').span())  #错误  不能以单词结尾"
   ]
  },
  {
   "cell_type": "code",
   "execution_count": 9,
   "metadata": {},
   "outputs": [
    {
     "name": "stdout",
     "output_type": "stream",
     "text": [
      "['12', '56']\n",
      "['12']\n",
      "['34', '78', '90']\n",
      "['90']\n"
     ]
    }
   ],
   "source": [
    "'''\n",
    "\\d  匹配数字 这是一个以'\\'开头的转义字符，'\\d'表示匹配一个数字，即等价与[0-9]\n",
    "\\D  匹配非数字  [^0-9]\n",
    "\\w  匹配字母和数字 等价于[a-zA-Z0-9]\n",
    "\\W  匹配非字母和数字 等价于[^a-zA-Z0-9]\n",
    "\\s  匹配间隔符 等价于[\\t\\r\\n\\f\\v] 即匹配空格符，字符表，回车符等表示分隔意义的字符\n",
    "\\S  匹配非间隔符  [^\\t\\r\\n\\f\\v]\n",
    "\\A  匹配字符串开头  它和 '^'的区别是，'\\A' 只匹配整个字符串的开头，即使在'M'模式下他也不会匹配到其他行的行首\n",
    "\\Z  匹配字符串结尾  它和'$' 的区别是，'\\Z' 只匹配整个字符串的结尾，即使在'M'的模式下它也不会匹配其他行的结尾\n",
    "'''\n",
    "\n",
    "s='12 34\\n56 78\\n 90'\n",
    "print(re.findall('^\\d+',s,re.M))  #匹配位于行首的数字\n",
    "print(re.findall('\\A\\d+',s,re.M))  #匹配位于字符串开头的数字\n",
    "print(re.findall('\\d+$',s,re.M))  #匹配位于行尾的数字\n",
    "print(re.findall('\\d+\\Z',s,re.M)) #匹配 字符串结尾的数字 "
   ]
  },
  {
   "cell_type": "code",
   "execution_count": 10,
   "metadata": {},
   "outputs": [
    {
     "name": "stdout",
     "output_type": "stream",
     "text": [
      "[]\n",
      "[' bc ']\n"
     ]
    }
   ],
   "source": [
    "#'\\b' 匹配单词边界\n",
    "#它匹配 一个单词的边界 ，比如空格等  不过它是一个‘0’长度的字符\n",
    "#它匹配完的字符串不会包括那个分界的字符\n",
    "#而如果用‘\\s’ 来匹配的话,则匹配出的字符串会包含那个分界符\n",
    "s='abc abcde bc bcd'\n",
    "print(re.findall('\\bbc\\b',s)) #匹配一个单独的单词 bc 而当它是其他单词的一部分时不匹配\n",
    "print(re.findall('\\sbc\\s',s) )#匹配一个单独的单词 bc"
   ]
  },
  {
   "cell_type": "code",
   "execution_count": 11,
   "metadata": {},
   "outputs": [
    {
     "data": {
      "text/plain": [
       "['bcde']"
      ]
     },
     "execution_count": 11,
     "metadata": {},
     "output_type": "execute_result"
    }
   ],
   "source": [
    "# \\B 匹配非边界 和 \\b  相反  它只会匹配非边界的字符  它同样是个0长度的字符\n",
    "re.findall('\\Bbc\\w+',s)"
   ]
  },
  {
   "cell_type": "code",
   "execution_count": 18,
   "metadata": {},
   "outputs": [
    {
     "name": "stdout",
     "output_type": "stream",
     "text": [
      "(2, 8)\n",
      "(2, 10)\n",
      "abcd\n",
      "abcd\n",
      "abc\n",
      "b\n"
     ]
    },
    {
     "ename": "AttributeError",
     "evalue": "'NoneType' object has no attribute 'group'",
     "output_type": "error",
     "traceback": [
      "\u001b[1;31m---------------------------------------------------------------------------\u001b[0m",
      "\u001b[1;31mAttributeError\u001b[0m                            Traceback (most recent call last)",
      "\u001b[1;32m<ipython-input-18-aa4ec6e10e0d>\u001b[0m in \u001b[0;36m<module>\u001b[1;34m()\u001b[0m\n\u001b[0;32m     22\u001b[0m '''\n\u001b[0;32m     23\u001b[0m \u001b[0mp\u001b[0m\u001b[1;33m=\u001b[0m\u001b[0mre\u001b[0m\u001b[1;33m.\u001b[0m\u001b[0mcompile\u001b[0m\u001b[1;33m(\u001b[0m\u001b[1;34m'(\\b\\w+)\\s+\\1'\u001b[0m\u001b[1;33m)\u001b[0m  \u001b[1;31m#匹配2个同样的单词连着出现，即找一个单词 ，并且在若干个空格后，还是同样的单词\u001b[0m\u001b[1;33m\u001b[0m\u001b[0m\n\u001b[1;32m---> 24\u001b[1;33m \u001b[0mprint\u001b[0m\u001b[1;33m(\u001b[0m\u001b[0mp\u001b[0m\u001b[1;33m.\u001b[0m\u001b[0msearch\u001b[0m\u001b[1;33m(\u001b[0m\u001b[1;34m'Paris in the the spring'\u001b[0m\u001b[1;33m)\u001b[0m\u001b[1;33m.\u001b[0m\u001b[0mgroup\u001b[0m\u001b[1;33m(\u001b[0m\u001b[1;33m)\u001b[0m \u001b[1;33m)\u001b[0m\u001b[1;33m\u001b[0m\u001b[0m\n\u001b[0m",
      "\u001b[1;31mAttributeError\u001b[0m: 'NoneType' object has no attribute 'group'"
     ]
    }
   ],
   "source": [
    "# ()表示分组 前面讲了对单个字符的重复  如果你想重复一个子串的话  就可以采用分组的方法\n",
    "p=re.compile('(ab)+')  #匹配一个以上的ab\n",
    "print(p.search('acabababc').span())\n",
    "p=re.compile(r'(ab|bc)+')  #匹配一个以上的ab 或者 bc\n",
    "print( p.search('acabbcababca').span() )\n",
    "\n",
    "'''\n",
    "分组除了当做表达式外，还有一个重要的功能就是记录\n",
    "()  中匹配的内容会被记录下来  以备后面引用\n",
    "在python 中 MathObject 的方法 group() ,start() end()  span()  可以传入一个整形参数来得到这些记录\n",
    "记录在0开始计数，并且0表示 整个匹配了的表达式.是这些方法的缺省参数。分组从左到右从1开始计数\n",
    "'''\n",
    "p=re.compile('(a(b)c)d')\n",
    "m=p.search('abcd')\n",
    "print(m.group())\n",
    "print(m.group(0))\n",
    "print(m.group(1))\n",
    "print(m.group(2))\n",
    "# print(m.group(3)) 超出范围\n",
    "'''\n",
    "在正则表达式中 还可以对分组做出向后引用，是用'\\数字'来表示，即\\1 表示第一个分组 \\2表示第二个分组\n",
    "'''\n",
    "p=re.compile('(\\b\\w+)\\s+\\1')  #匹配2个同样的单词连着出现，即找一个单词 ，并且在若干个空格后，还是同样的单词\n",
    "print(p.search('Paris in the the spring').groups() )\n",
    "print(p.search('Paris in the the spring').group() )\n"
   ]
  },
  {
   "cell_type": "code",
   "execution_count": 4,
   "metadata": {},
   "outputs": [
    {
     "name": "stdout",
     "output_type": "stream",
     "text": [
      "Lots of punctuation aLots\n",
      "Lots\n",
      "(4, 8)\n"
     ]
    }
   ],
   "source": [
    "#命名分组 (?p<name>...)和(?P=name)\n",
    "'''\n",
    "(?P<name>...) 用来定义一个命名分组，它可以通过MathObject 的方法 group('name')得到，\n",
    "同时，在表达式中，也可以用(?P=name)来表示对它的引用.\n",
    "'''\n",
    "p=re.compile(r'(?P<word>\\b\\w+\\b).*(?P=word)') ##注意命名分组及对它的引用\n",
    "m=p.search('((((Lots of punctuation aLots))))')\n",
    "print( m.group() )\n",
    "print( m.group('word') )\n",
    "print( m.span('word'))\n"
   ]
  },
  {
   "cell_type": "code",
   "execution_count": null,
   "metadata": {
    "collapsed": true
   },
   "outputs": [],
   "source": [
    "#后向界定"
   ]
  }
 ],
 "metadata": {
  "kernelspec": {
   "display_name": "Python 3",
   "language": "python",
   "name": "python3"
  },
  "language_info": {
   "codemirror_mode": {
    "name": "ipython",
    "version": 3
   },
   "file_extension": ".py",
   "mimetype": "text/x-python",
   "name": "python",
   "nbconvert_exporter": "python",
   "pygments_lexer": "ipython3",
   "version": "3.6.2"
  }
 },
 "nbformat": 4,
 "nbformat_minor": 2
}
