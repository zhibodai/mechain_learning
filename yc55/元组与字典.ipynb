{
 "cells": [
  {
   "cell_type": "markdown",
   "metadata": {},
   "source": [
    "# 元组"
   ]
  },
  {
   "cell_type": "code",
   "execution_count": 3,
   "metadata": {},
   "outputs": [
    {
     "data": {
      "text/plain": [
       "'\\n属于不可变序列，元祖一旦创建，用任何方式都不可以修改其元素\\n元祖的定义方式和列表相同，但定义时所有元素是放在“()”里面的，而不是方括号中\\n'"
      ]
     },
     "execution_count": 3,
     "metadata": {},
     "output_type": "execute_result"
    }
   ],
   "source": [
    "'''\n",
    "属于不可变序列，元祖一旦创建，用任何方式都不可以修改其元素\n",
    "元祖的定义方式和列表相同，但定义时所有元素是放在“()”里面的，而不是方括号中\n",
    "'''"
   ]
  },
  {
   "cell_type": "code",
   "execution_count": 4,
   "metadata": {},
   "outputs": [
    {
     "data": {
      "text/plain": [
       "('tom', 'smith', 'a', 'b')"
      ]
     },
     "execution_count": 4,
     "metadata": {},
     "output_type": "execute_result"
    }
   ],
   "source": [
    "#1.创建元祖\n",
    "a=('tom','smith','a','b')\n",
    "a"
   ]
  },
  {
   "cell_type": "code",
   "execution_count": 5,
   "metadata": {},
   "outputs": [
    {
     "data": {
      "text/plain": [
       "(3, 4)"
      ]
     },
     "execution_count": 5,
     "metadata": {},
     "output_type": "execute_result"
    }
   ],
   "source": [
    "a=(3,4)\n",
    "a"
   ]
  },
  {
   "cell_type": "code",
   "execution_count": 6,
   "metadata": {},
   "outputs": [
    {
     "data": {
      "text/plain": [
       "()"
      ]
     },
     "execution_count": 6,
     "metadata": {},
     "output_type": "execute_result"
    }
   ],
   "source": [
    "a=()\n",
    "a"
   ]
  },
  {
   "cell_type": "code",
   "execution_count": 7,
   "metadata": {},
   "outputs": [
    {
     "data": {
      "text/plain": [
       "(3, 4, 5, 6)"
      ]
     },
     "execution_count": 7,
     "metadata": {},
     "output_type": "execute_result"
    }
   ],
   "source": [
    "a=3,4,5,6\n",
    "a"
   ]
  },
  {
   "cell_type": "code",
   "execution_count": 8,
   "metadata": {},
   "outputs": [
    {
     "data": {
      "text/plain": [
       "('a', 'b', 'c', 'd', 'e', 'f', 'g')"
      ]
     },
     "execution_count": 8,
     "metadata": {},
     "output_type": "execute_result"
    }
   ],
   "source": [
    "#2.通过转换来得到元祖\n",
    "b=tuple('abcdefg')\n",
    "b"
   ]
  },
  {
   "cell_type": "code",
   "execution_count": 10,
   "metadata": {},
   "outputs": [
    {
     "data": {
      "text/plain": [
       "(1, 2, 4)"
      ]
     },
     "execution_count": 10,
     "metadata": {},
     "output_type": "execute_result"
    }
   ],
   "source": [
    "b=tuple( [1,2,4] )\n",
    "b"
   ]
  },
  {
   "cell_type": "code",
   "execution_count": 11,
   "metadata": {},
   "outputs": [
    {
     "data": {
      "text/plain": [
       "()"
      ]
     },
     "execution_count": 11,
     "metadata": {},
     "output_type": "execute_result"
    }
   ],
   "source": [
    "c=tuple()\n",
    "c"
   ]
  },
  {
   "cell_type": "code",
   "execution_count": 12,
   "metadata": {},
   "outputs": [
    {
     "data": {
      "text/plain": [
       "'\\n元祖的特点：\\n   值不能改\\n   没有  列表中的函数（append()  extend() insert()  remove()  pop() ）  ,也不能del\\n   tuple冻结列表  list融化列表\\n   \\n   元祖速度快\\n   元素安全\\n   元祖可以做字典的键，也可以做集合元素，（列表2者都不行）\\n'"
      ]
     },
     "execution_count": 12,
     "metadata": {},
     "output_type": "execute_result"
    }
   ],
   "source": [
    "'''\n",
    "元祖的特点：\n",
    "   值不能改\n",
    "   没有  列表中的函数（append()  extend() insert()  remove()  pop() ）  ,也不能del\n",
    "   tuple冻结列表  list融化列表\n",
    "   \n",
    "   元祖速度快\n",
    "   元素安全\n",
    "   元祖可以做字典的键，也可以做集合元素，（列表2者都不行）\n",
    "'''"
   ]
  },
  {
   "cell_type": "markdown",
   "metadata": {},
   "source": [
    "# 序列解包"
   ]
  },
  {
   "cell_type": "code",
   "execution_count": 13,
   "metadata": {},
   "outputs": [
    {
     "name": "stdout",
     "output_type": "stream",
     "text": [
      "1 2 3\n"
     ]
    }
   ],
   "source": [
    "#对多个变量同时赋值\n",
    "x,y,z=1,2,3\n",
    "print(x,y,z)"
   ]
  },
  {
   "cell_type": "code",
   "execution_count": 14,
   "metadata": {},
   "outputs": [
    {
     "ename": "ValueError",
     "evalue": "not enough values to unpack (expected 4, got 3)",
     "output_type": "error",
     "traceback": [
      "\u001b[1;31m---------------------------------------------------------------------------\u001b[0m",
      "\u001b[1;31mValueError\u001b[0m                                Traceback (most recent call last)",
      "\u001b[1;32m<ipython-input-14-b5e30aea7bea>\u001b[0m in \u001b[0;36m<module>\u001b[1;34m()\u001b[0m\n\u001b[1;32m----> 1\u001b[1;33m \u001b[0mx\u001b[0m\u001b[1;33m,\u001b[0m\u001b[0my\u001b[0m\u001b[1;33m,\u001b[0m\u001b[0mz\u001b[0m\u001b[1;33m,\u001b[0m\u001b[0mt\u001b[0m\u001b[1;33m=\u001b[0m\u001b[1;36m1\u001b[0m\u001b[1;33m,\u001b[0m\u001b[1;36m2\u001b[0m\u001b[1;33m,\u001b[0m\u001b[1;36m3\u001b[0m\u001b[1;33m\u001b[0m\u001b[0m\n\u001b[0m",
      "\u001b[1;31mValueError\u001b[0m: not enough values to unpack (expected 4, got 3)"
     ]
    }
   ],
   "source": [
    "x,y,z,t=1,2,3"
   ]
  },
  {
   "cell_type": "code",
   "execution_count": 15,
   "metadata": {},
   "outputs": [
    {
     "data": {
      "text/plain": [
       "(False, 3.55, 'exp')"
      ]
     },
     "execution_count": 15,
     "metadata": {},
     "output_type": "execute_result"
    }
   ],
   "source": [
    "v=(False,3.55,'exp')\n",
    "v"
   ]
  },
  {
   "cell_type": "code",
   "execution_count": 16,
   "metadata": {},
   "outputs": [
    {
     "data": {
      "text/plain": [
       "(False, 3.55, 'exp')"
      ]
     },
     "execution_count": 16,
     "metadata": {},
     "output_type": "execute_result"
    }
   ],
   "source": [
    "w,v=1,(False,3.55,'exp')\n",
    "v"
   ]
  },
  {
   "cell_type": "code",
   "execution_count": 17,
   "metadata": {},
   "outputs": [
    {
     "data": {
      "text/plain": [
       "(False, 3.55, 'exp')"
      ]
     },
     "execution_count": 17,
     "metadata": {},
     "output_type": "execute_result"
    }
   ],
   "source": [
    "(x,y,z)=v\n",
    "x,y,z"
   ]
  },
  {
   "cell_type": "code",
   "execution_count": 18,
   "metadata": {},
   "outputs": [
    {
     "name": "stdout",
     "output_type": "stream",
     "text": [
      "False 3.55 exp\n"
     ]
    }
   ],
   "source": [
    "x,y,z=v\n",
    "print(x,y,z)"
   ]
  },
  {
   "cell_type": "code",
   "execution_count": 19,
   "metadata": {},
   "outputs": [
    {
     "name": "stdout",
     "output_type": "stream",
     "text": [
      "0 1 2\n"
     ]
    }
   ],
   "source": [
    "#对range对象进行序列解包\n",
    "x,y,z=range(3)   #range对象  =自动解包 -》自动运行  range对象\n",
    "print(x,y,z)"
   ]
  },
  {
   "cell_type": "code",
   "execution_count": 21,
   "metadata": {},
   "outputs": [
    {
     "name": "stdout",
     "output_type": "stream",
     "text": [
      "5 6 7\n"
     ]
    }
   ],
   "source": [
    "#对iterator对象进行序列解包\n",
    "x,y,z=iter([5,6,7])   #iter生成一个对象，循环=  =》  调用自动解包\n",
    "print(x,y,z)"
   ]
  },
  {
   "cell_type": "code",
   "execution_count": 5,
   "metadata": {},
   "outputs": [
    {
     "name": "stdout",
     "output_type": "stream",
     "text": [
      "0 1 2\n",
      "<map object at 0x000001F1A31E1F60>\n"
     ]
    }
   ],
   "source": [
    "#对  map 对象解包\n",
    "x,y,z=map(str, range(3))\n",
    "print(x,y,z)\n",
    "\n",
    "x=map(str,range(3))   #  x是对象不能直接调用\n",
    "\n",
    "print(x)\n"
   ]
  },
  {
   "cell_type": "code",
   "execution_count": 24,
   "metadata": {},
   "outputs": [
    {
     "name": "stdout",
     "output_type": "stream",
     "text": [
      "4 5 6\n"
     ]
    }
   ],
   "source": [
    "#对sorted对象序列解包\n",
    "x,y,z=sorted( [4,5,6] )\n",
    "print(x,y,z)"
   ]
  },
  {
   "cell_type": "code",
   "execution_count": 9,
   "metadata": {},
   "outputs": [
    {
     "name": "stdout",
     "output_type": "stream",
     "text": [
      "a b c\n"
     ]
    },
    {
     "data": {
      "text/plain": [
       "['0', '1', '2', '3', '4', 4, 5, 6, 7, 8, 9]"
      ]
     },
     "execution_count": 9,
     "metadata": {},
     "output_type": "execute_result"
    }
   ],
   "source": [
    "#对字符串序列解包\n",
    "x,y,z='abc'\n",
    "print(x,y,z)\n",
    "\n",
    "#对切片的序列进行解包\n",
    "x=[1,2,3,4,5,6,7,8,9]\n",
    "x[:3]= map(str,range(5) )\n",
    "x"
   ]
  },
  {
   "cell_type": "code",
   "execution_count": 11,
   "metadata": {},
   "outputs": [
    {
     "name": "stdout",
     "output_type": "stream",
     "text": [
      "('a', 1) ('b', 2) ('c', 3)\n",
      "dict_items([('a', 1), ('b', 2), ('c', 3)])\n"
     ]
    }
   ],
   "source": [
    "#对字典序列解包\n",
    "s={'a':1,'b':2,'c':3}\n",
    "b,c,d=s.items()    #  s.item  -->转换为元祖\n",
    "print(b,c,d)\n",
    "print(s.items())"
   ]
  },
  {
   "cell_type": "code",
   "execution_count": 12,
   "metadata": {},
   "outputs": [
    {
     "name": "stdout",
     "output_type": "stream",
     "text": [
      "1 2 3\n",
      "dict_values([1, 2, 3])\n",
      "dict_keys(['a', 'b', 'c'])\n"
     ]
    }
   ],
   "source": [
    "b,c,d=s.values()\n",
    "print(b,c,d)\n",
    "print(s.values())\n",
    "print(s.keys())"
   ]
  },
  {
   "cell_type": "code",
   "execution_count": 14,
   "metadata": {},
   "outputs": [
    {
     "name": "stdout",
     "output_type": "stream",
     "text": [
      "('a', 1)('b', 2)('c', 3)"
     ]
    }
   ],
   "source": [
    "#序列包遍历多个序列\n",
    "keys=['a','b','c','d']\n",
    "values=[1,2,3]\n",
    "for k,v in zip(keys,values):\n",
    "    print( (k,v),end='' )"
   ]
  },
  {
   "cell_type": "code",
   "execution_count": 15,
   "metadata": {},
   "outputs": [
    {
     "name": "stdout",
     "output_type": "stream",
     "text": [
      "0 : a\n",
      "1 : b\n",
      "2 : c\n"
     ]
    }
   ],
   "source": [
    "#序列解包操作enumerate对象\n",
    "x=['a','b','c']\n",
    "for i,v in enumerate(x):\n",
    "    print( i ,':',v)"
   ]
  },
  {
   "cell_type": "code",
   "execution_count": 16,
   "metadata": {},
   "outputs": [
    {
     "name": "stdout",
     "output_type": "stream",
     "text": [
      "[[1, 2, 3], [4, 5, 6]]\n"
     ]
    }
   ],
   "source": [
    "#python 3.5 后支持新的序列解包的写法\n",
    "# *序列  -》  a=[[1,2,3],[4,5,6]]\n",
    "print([[1,2,3],[4,5,6]])"
   ]
  },
  {
   "cell_type": "code",
   "execution_count": 18,
   "metadata": {},
   "outputs": [
    {
     "ename": "SyntaxError",
     "evalue": "invalid syntax (<ipython-input-18-99579bb16079>, line 1)",
     "output_type": "error",
     "traceback": [
      "\u001b[1;36m  File \u001b[1;32m\"<ipython-input-18-99579bb16079>\"\u001b[1;36m, line \u001b[1;32m1\u001b[0m\n\u001b[1;33m    print{*[1,2,3],4,*[5,6,7]}\u001b[0m\n\u001b[1;37m         ^\u001b[0m\n\u001b[1;31mSyntaxError\u001b[0m\u001b[1;31m:\u001b[0m invalid syntax\n"
     ]
    }
   ],
   "source": [
    "print ( *[1,2,3],4, *[5,6,7] )"
   ]
  },
  {
   "cell_type": "code",
   "execution_count": 19,
   "metadata": {},
   "outputs": [
    {
     "data": {
      "text/plain": [
       "(0, 1, 2, 3, 4)"
      ]
     },
     "execution_count": 19,
     "metadata": {},
     "output_type": "execute_result"
    }
   ],
   "source": [
    "*range(4),4"
   ]
  },
  {
   "cell_type": "code",
   "execution_count": 20,
   "metadata": {},
   "outputs": [
    {
     "data": {
      "text/plain": [
       "{0, 1, 2, 3, 4}"
      ]
     },
     "execution_count": 20,
     "metadata": {},
     "output_type": "execute_result"
    }
   ],
   "source": [
    "#{}表示一个集合\n",
    "{4,*range(4)}"
   ]
  },
  {
   "cell_type": "code",
   "execution_count": 21,
   "metadata": {},
   "outputs": [
    {
     "data": {
      "text/plain": [
       "{'x': 1, 'y': 2}"
      ]
     },
     "execution_count": 21,
     "metadata": {},
     "output_type": "execute_result"
    }
   ],
   "source": [
    "{'x':1,**{'y':2}}"
   ]
  },
  {
   "cell_type": "markdown",
   "metadata": {},
   "source": [
    "# 生成器推导式"
   ]
  },
  {
   "cell_type": "code",
   "execution_count": 23,
   "metadata": {},
   "outputs": [
    {
     "data": {
      "text/plain": [
       "<generator object <genexpr> at 0x00000202F1DC5200>"
      ]
     },
     "execution_count": 23,
     "metadata": {},
     "output_type": "execute_result"
    }
   ],
   "source": [
    "g=( (i+2)**2 for i in range(10) )\n",
    "g   "
   ]
  },
  {
   "cell_type": "code",
   "execution_count": 24,
   "metadata": {},
   "outputs": [
    {
     "name": "stdout",
     "output_type": "stream",
     "text": [
      "[4, 9, 16, 25, 36, 49, 64, 81, 100, 121]\n"
     ]
    }
   ],
   "source": [
    "print(list(g))"
   ]
  },
  {
   "cell_type": "code",
   "execution_count": 25,
   "metadata": {},
   "outputs": [
    {
     "data": {
      "text/plain": [
       "()"
      ]
     },
     "execution_count": 25,
     "metadata": {},
     "output_type": "execute_result"
    }
   ],
   "source": [
    "t=tuple( g ) #生成器对象只能访问一次\n",
    "t"
   ]
  },
  {
   "cell_type": "code",
   "execution_count": 26,
   "metadata": {},
   "outputs": [
    {
     "data": {
      "text/plain": [
       "[4, 9, 16, 25, 36, 49, 64, 81, 100, 121]"
      ]
     },
     "execution_count": 26,
     "metadata": {},
     "output_type": "execute_result"
    }
   ],
   "source": [
    "g=[(i+2)**2 for i in range(10) ]\n",
    "\n",
    "g   #不能生成生成器   列表推导式"
   ]
  },
  {
   "cell_type": "code",
   "execution_count": 28,
   "metadata": {},
   "outputs": [
    {
     "data": {
      "text/plain": [
       "4"
      ]
     },
     "execution_count": 28,
     "metadata": {},
     "output_type": "execute_result"
    }
   ],
   "source": [
    "#对生成器的访问除了上面的list()  tuple()之外，还可以用__next()__  next()来完成\n",
    "g=(  (i+2)**2  for i in range(10)   )\n",
    "g.__next__()"
   ]
  },
  {
   "cell_type": "code",
   "execution_count": 29,
   "metadata": {},
   "outputs": [
    {
     "data": {
      "text/plain": [
       "9"
      ]
     },
     "execution_count": 29,
     "metadata": {},
     "output_type": "execute_result"
    }
   ],
   "source": [
    "g.__next__()"
   ]
  },
  {
   "cell_type": "code",
   "execution_count": 30,
   "metadata": {},
   "outputs": [
    {
     "data": {
      "text/plain": [
       "['__class__',\n",
       " '__del__',\n",
       " '__delattr__',\n",
       " '__dir__',\n",
       " '__doc__',\n",
       " '__eq__',\n",
       " '__format__',\n",
       " '__ge__',\n",
       " '__getattribute__',\n",
       " '__gt__',\n",
       " '__hash__',\n",
       " '__init__',\n",
       " '__init_subclass__',\n",
       " '__iter__',\n",
       " '__le__',\n",
       " '__lt__',\n",
       " '__name__',\n",
       " '__ne__',\n",
       " '__new__',\n",
       " '__next__',\n",
       " '__qualname__',\n",
       " '__reduce__',\n",
       " '__reduce_ex__',\n",
       " '__repr__',\n",
       " '__setattr__',\n",
       " '__sizeof__',\n",
       " '__str__',\n",
       " '__subclasshook__',\n",
       " 'close',\n",
       " 'gi_code',\n",
       " 'gi_frame',\n",
       " 'gi_running',\n",
       " 'gi_yieldfrom',\n",
       " 'send',\n",
       " 'throw']"
      ]
     },
     "execution_count": 30,
     "metadata": {},
     "output_type": "execute_result"
    }
   ],
   "source": [
    "dir(g) #运算符重载...  java不支持 c++支持运算符重载\n",
    "#  a=[1,2,3]\n",
    "#  b=[3,4,5]\n",
    "#  a>b"
   ]
  },
  {
   "cell_type": "code",
   "execution_count": 31,
   "metadata": {},
   "outputs": [
    {
     "data": {
      "text/plain": [
       "16"
      ]
     },
     "execution_count": 31,
     "metadata": {},
     "output_type": "execute_result"
    }
   ],
   "source": [
    "next( g ) #g.__next__()"
   ]
  },
  {
   "cell_type": "code",
   "execution_count": 18,
   "metadata": {},
   "outputs": [
    {
     "data": {
      "text/plain": [
       "<filter at 0x1f1a31b5940>"
      ]
     },
     "execution_count": 18,
     "metadata": {},
     "output_type": "execute_result"
    }
   ],
   "source": [
    "x=filter(lambda x:x<10 , range(20))\n",
    "x"
   ]
  },
  {
   "cell_type": "code",
   "execution_count": 19,
   "metadata": {},
   "outputs": [
    {
     "name": "stdout",
     "output_type": "stream",
     "text": [
      "0\n",
      "1\n",
      "2\n",
      "3\n",
      "4\n",
      "5\n",
      "6\n",
      "7\n",
      "8\n",
      "9\n"
     ]
    }
   ],
   "source": [
    "for y in x:\n",
    "    print(y)"
   ]
  },
  {
   "cell_type": "code",
   "execution_count": 33,
   "metadata": {},
   "outputs": [
    {
     "data": {
      "text/plain": [
       "True"
      ]
     },
     "execution_count": 33,
     "metadata": {},
     "output_type": "execute_result"
    }
   ],
   "source": [
    "5 in x"
   ]
  },
  {
   "cell_type": "code",
   "execution_count": 34,
   "metadata": {},
   "outputs": [
    {
     "name": "stdout",
     "output_type": "stream",
     "text": [
      "[6, 7, 8, 9]\n"
     ]
    }
   ],
   "source": [
    "print(list(x) ) "
   ]
  },
  {
   "cell_type": "code",
   "execution_count": 37,
   "metadata": {},
   "outputs": [
    {
     "data": {
      "text/plain": [
       "0"
      ]
     },
     "execution_count": 37,
     "metadata": {},
     "output_type": "execute_result"
    }
   ],
   "source": [
    "next(x)"
   ]
  },
  {
   "cell_type": "code",
   "execution_count": 41,
   "metadata": {},
   "outputs": [
    {
     "data": {
      "text/plain": [
       "True"
      ]
     },
     "execution_count": 41,
     "metadata": {},
     "output_type": "execute_result"
    }
   ],
   "source": [
    "x=map(str,range(20))\n",
    "'0' in x"
   ]
  },
  {
   "cell_type": "markdown",
   "metadata": {},
   "source": [
    "# 字典"
   ]
  },
  {
   "cell_type": "code",
   "execution_count": 42,
   "metadata": {},
   "outputs": [
    {
     "data": {
      "text/plain": [
       "'\\n1.无序可变的序列\\n2.（键：值，键：值，...）\\n3.键不可变的数\\n'"
      ]
     },
     "execution_count": 42,
     "metadata": {},
     "output_type": "execute_result"
    }
   ],
   "source": [
    "'''\n",
    "1.无序可变的序列\n",
    "2.（键：值，键：值，...）\n",
    "3.键不可变的数\n",
    "'''"
   ]
  },
  {
   "cell_type": "code",
   "execution_count": 43,
   "metadata": {},
   "outputs": [
    {
     "data": {
      "text/plain": [
       "{'In': ['',\n",
       "  \"#对字符串序列解包\\nx,y,z='abc'\\nprint(x,y,z)\\n\\n#对切片的序列进行解包\\nx=[1,2,3,4,5,6,7,8,9]\\nx=[:3]=map(str,range(5))\\nx\",\n",
       "  \"#对字符串序列解包\\nx,y,z='abc'\\nprint(x,y,z)\\n\\n#对切片的序列进行解包\\nx=[1,2,3,4,5,6,7]\\nx=[:3]=map(str,range(5) )\\nx\",\n",
       "  \"#对字符串序列解包\\nx,y,z='abc'\\nprint(x,y,z)\\n\\n#对切片的序列进行解包\\nx=[1,2,3,4,5,6,7]\\nx=[：3]=map(str,range(5) )\\nx\",\n",
       "  \"#对字符串序列解包\\nx,y,z='abc'\\nprint(x,y,z)\\n\\n#对切片的序列进行解包\\nx=[1,2,3,4,5,6,7]\\nx=[:3]=map(str,range(5) )\\nx\",\n",
       "  '#对  map 对象解包\\nx,y,z=map(str, range(3))\\nprint(x,y,z)\\n\\nx=map(str,range(3))   #  x是对象不能直接调用\\nprint(x)',\n",
       "  \"#对字符串序列解包\\nx,y,z='abc'\\nprint(x,y,z)\\n\\n#对切片的序列进行解包\\nx=[1,2,3,4,5,6,7]\\nx=[:3]=map(str,range(5) )\\nx\",\n",
       "  \"#对字符串序列解包\\nx,y,z='abc'\\nprint(x,y,z)\\n\\n#对切片的序列进行解包\\nx=[1,2,3,4,5,6,7]\\nx=[:3]= map(str,range(5) )\\nx\",\n",
       "  \"#对字符串序列解包\\nx,y,z='abc'\\nprint(x,y,z)\\n\\n#对切片的序列进行解包\\nx=[1,2,3,4,5,6,7]\\nx[:3]= map(str,range(5) )\\nx\",\n",
       "  \"#对字符串序列解包\\nx,y,z='abc'\\nprint(x,y,z)\\n\\n#对切片的序列进行解包\\nx=[1,2,3,4,5,6,7,8,9]\\nx[:3]= map(str,range(5) )\\nx\",\n",
       "  \"#对字典序列解包\\ns={'a':1,'b':2,'c':3}\\nb,c,d=s.items()    #  s.item  -->转换为元祖\\nprint(b,c,d)\",\n",
       "  \"#对字典序列解包\\ns={'a':1,'b':2,'c':3}\\nb,c,d=s.items()    #  s.item  -->转换为元祖\\nprint(b,c,d)\\nprint(s.items())\",\n",
       "  'b,c,d=s.values()\\nprint(b,c,d)\\nprint(s.values())',\n",
       "  \"#序列包遍历多个序列\\nkeys=['a','b','c','d']\\nvalues=[1,2,3]\\nfor k,v in zip(keys,values):\\n    print( (k,v) )\",\n",
       "  \"#序列包遍历多个序列\\nkeys=['a','b','c','d']\\nvalues=[1,2,3]\\nfor k,v in zip(keys,values):\\n    print( (k,v),end='' )\",\n",
       "  \"#序列解包操作enumerate对象\\nx=['a','b','c']\\nfor i,v in enumerate(x):\\n    print( i ,':',v)\",\n",
       "  '#python 3.5 后支持新的序列解包的写法\\n# *序列  -》  a=[[1,2,3],[4,5,6]]\\nprint([[1,2,3],[4,5,6]])',\n",
       "  'print(*[1,2,3],4,*[5,6,7])',\n",
       "  'print{*[1,2,3],4,*[5,6,7]}',\n",
       "  '*range(4),4',\n",
       "  '#{}表示一个集合\\n{4,*range(4)}',\n",
       "  \"{'x':1,**{'y':2}}\",\n",
       "  'g=( (i+2)**2 for i in range(10) )',\n",
       "  'g=( (i+2)**2 for i in range(10) )\\ng',\n",
       "  'print(list(g))',\n",
       "  't=tuple( g ) #生成器对象只能访问一次\\nt',\n",
       "  'g=[(i+2)**2 for i in range(10) ]\\n\\ng',\n",
       "  '#对生成器的访问除了上面的list()  tuple()之外，还可以用__next()__  next()来完成\\ng=(  (i+2)**1=2   )\\ng.__next__()',\n",
       "  '#对生成器的访问除了上面的list()  tuple()之外，还可以用__next()__  next()来完成\\ng=(  (i+2)**2  for i in range(10)   )\\ng.__next__()',\n",
       "  'g.__next__()',\n",
       "  'dir(g) #运算符重载...  java不支持 c++支持运算符重载\\n#  a=[1,2,3]\\n#  b=[3,4,5]\\n#  a>b',\n",
       "  'next( g ) #g.__next__()',\n",
       "  'x=filter( lambda x:x<10 , range(20))\\nx',\n",
       "  '5 in x',\n",
       "  'print(list(x) ) ',\n",
       "  'next(x)',\n",
       "  'x=filter( lambda x:x<10 , range(20))\\nx',\n",
       "  'next(x)',\n",
       "  'x=map(str,range(20))\\nx',\n",
       "  'x=map(str,range(20))\\nl=list(x)\\nl',\n",
       "  'x=map(str,range(20))\\n0 in x',\n",
       "  \"x=map(str,range(20))\\n'0' in x\",\n",
       "  \"'''\\n1.无序可变的序列\\n2.（键：值，键：值，...）\\n3.键不可变的数\\n'''\",\n",
       "  '# python 内置函数： kernel  当前作用的全局变量和值\\nglobals()'],\n",
       " 'Out': {8: ['0', '1', '2', '3', '4', 4, 5, 6, 7],\n",
       "  9: ['0', '1', '2', '3', '4', 4, 5, 6, 7, 8, 9],\n",
       "  19: (0, 1, 2, 3, 4),\n",
       "  20: {0, 1, 2, 3, 4},\n",
       "  21: {'x': 1, 'y': 2},\n",
       "  23: <generator object <genexpr> at 0x00000202F1DC5200>,\n",
       "  25: (),\n",
       "  26: [4, 9, 16, 25, 36, 49, 64, 81, 100, 121],\n",
       "  28: 4,\n",
       "  29: 9,\n",
       "  30: ['__class__',\n",
       "   '__del__',\n",
       "   '__delattr__',\n",
       "   '__dir__',\n",
       "   '__doc__',\n",
       "   '__eq__',\n",
       "   '__format__',\n",
       "   '__ge__',\n",
       "   '__getattribute__',\n",
       "   '__gt__',\n",
       "   '__hash__',\n",
       "   '__init__',\n",
       "   '__init_subclass__',\n",
       "   '__iter__',\n",
       "   '__le__',\n",
       "   '__lt__',\n",
       "   '__name__',\n",
       "   '__ne__',\n",
       "   '__new__',\n",
       "   '__next__',\n",
       "   '__qualname__',\n",
       "   '__reduce__',\n",
       "   '__reduce_ex__',\n",
       "   '__repr__',\n",
       "   '__setattr__',\n",
       "   '__sizeof__',\n",
       "   '__str__',\n",
       "   '__subclasshook__',\n",
       "   'close',\n",
       "   'gi_code',\n",
       "   'gi_frame',\n",
       "   'gi_running',\n",
       "   'gi_yieldfrom',\n",
       "   'send',\n",
       "   'throw'],\n",
       "  31: 16,\n",
       "  32: <filter at 0x202f1dda4a8>,\n",
       "  33: True,\n",
       "  36: <filter at 0x202f1def4a8>,\n",
       "  37: 0,\n",
       "  38: <map at 0x202f1def908>,\n",
       "  39: ['0',\n",
       "   '1',\n",
       "   '2',\n",
       "   '3',\n",
       "   '4',\n",
       "   '5',\n",
       "   '6',\n",
       "   '7',\n",
       "   '8',\n",
       "   '9',\n",
       "   '10',\n",
       "   '11',\n",
       "   '12',\n",
       "   '13',\n",
       "   '14',\n",
       "   '15',\n",
       "   '16',\n",
       "   '17',\n",
       "   '18',\n",
       "   '19'],\n",
       "  40: False,\n",
       "  41: True,\n",
       "  42: '\\n1.无序可变的序列\\n2.（键：值，键：值，...）\\n3.键不可变的数\\n'},\n",
       " '_': '\\n1.无序可变的序列\\n2.（键：值，键：值，...）\\n3.键不可变的数\\n',\n",
       " '_19': (0, 1, 2, 3, 4),\n",
       " '_20': {0, 1, 2, 3, 4},\n",
       " '_21': {'x': 1, 'y': 2},\n",
       " '_23': <generator object <genexpr> at 0x00000202F1DC5200>,\n",
       " '_25': (),\n",
       " '_26': [4, 9, 16, 25, 36, 49, 64, 81, 100, 121],\n",
       " '_28': 4,\n",
       " '_29': 9,\n",
       " '_30': ['__class__',\n",
       "  '__del__',\n",
       "  '__delattr__',\n",
       "  '__dir__',\n",
       "  '__doc__',\n",
       "  '__eq__',\n",
       "  '__format__',\n",
       "  '__ge__',\n",
       "  '__getattribute__',\n",
       "  '__gt__',\n",
       "  '__hash__',\n",
       "  '__init__',\n",
       "  '__init_subclass__',\n",
       "  '__iter__',\n",
       "  '__le__',\n",
       "  '__lt__',\n",
       "  '__name__',\n",
       "  '__ne__',\n",
       "  '__new__',\n",
       "  '__next__',\n",
       "  '__qualname__',\n",
       "  '__reduce__',\n",
       "  '__reduce_ex__',\n",
       "  '__repr__',\n",
       "  '__setattr__',\n",
       "  '__sizeof__',\n",
       "  '__str__',\n",
       "  '__subclasshook__',\n",
       "  'close',\n",
       "  'gi_code',\n",
       "  'gi_frame',\n",
       "  'gi_running',\n",
       "  'gi_yieldfrom',\n",
       "  'send',\n",
       "  'throw'],\n",
       " '_31': 16,\n",
       " '_32': <filter at 0x202f1dda4a8>,\n",
       " '_33': True,\n",
       " '_36': <filter at 0x202f1def4a8>,\n",
       " '_37': 0,\n",
       " '_38': <map at 0x202f1def908>,\n",
       " '_39': ['0',\n",
       "  '1',\n",
       "  '2',\n",
       "  '3',\n",
       "  '4',\n",
       "  '5',\n",
       "  '6',\n",
       "  '7',\n",
       "  '8',\n",
       "  '9',\n",
       "  '10',\n",
       "  '11',\n",
       "  '12',\n",
       "  '13',\n",
       "  '14',\n",
       "  '15',\n",
       "  '16',\n",
       "  '17',\n",
       "  '18',\n",
       "  '19'],\n",
       " '_40': False,\n",
       " '_41': True,\n",
       " '_42': '\\n1.无序可变的序列\\n2.（键：值，键：值，...）\\n3.键不可变的数\\n',\n",
       " '_8': ['0', '1', '2', '3', '4', 4, 5, 6, 7],\n",
       " '_9': ['0', '1', '2', '3', '4', 4, 5, 6, 7, 8, 9],\n",
       " '__': True,\n",
       " '___': False,\n",
       " '__builtin__': <module 'builtins' (built-in)>,\n",
       " '__builtins__': <module 'builtins' (built-in)>,\n",
       " '__doc__': 'Automatically created module for IPython interactive environment',\n",
       " '__loader__': None,\n",
       " '__name__': '__main__',\n",
       " '__package__': None,\n",
       " '__spec__': None,\n",
       " '_dh': ['C:\\\\Users\\\\吴彦祖\\\\yc55'],\n",
       " '_i': \"'''\\n1.无序可变的序列\\n2.（键：值，键：值，...）\\n3.键不可变的数\\n'''\",\n",
       " '_i1': \"#对字符串序列解包\\nx,y,z='abc'\\nprint(x,y,z)\\n\\n#对切片的序列进行解包\\nx=[1,2,3,4,5,6,7,8,9]\\nx=[:3]=map(str,range(5))\\nx\",\n",
       " '_i10': \"#对字典序列解包\\ns={'a':1,'b':2,'c':3}\\nb,c,d=s.items()    #  s.item  -->转换为元祖\\nprint(b,c,d)\",\n",
       " '_i11': \"#对字典序列解包\\ns={'a':1,'b':2,'c':3}\\nb,c,d=s.items()    #  s.item  -->转换为元祖\\nprint(b,c,d)\\nprint(s.items())\",\n",
       " '_i12': 'b,c,d=s.values()\\nprint(b,c,d)\\nprint(s.values())',\n",
       " '_i13': \"#序列包遍历多个序列\\nkeys=['a','b','c','d']\\nvalues=[1,2,3]\\nfor k,v in zip(keys,values):\\n    print( (k,v) )\",\n",
       " '_i14': \"#序列包遍历多个序列\\nkeys=['a','b','c','d']\\nvalues=[1,2,3]\\nfor k,v in zip(keys,values):\\n    print( (k,v),end='' )\",\n",
       " '_i15': \"#序列解包操作enumerate对象\\nx=['a','b','c']\\nfor i,v in enumerate(x):\\n    print( i ,':',v)\",\n",
       " '_i16': '#python 3.5 后支持新的序列解包的写法\\n# *序列  -》  a=[[1,2,3],[4,5,6]]\\nprint([[1,2,3],[4,5,6]])',\n",
       " '_i17': 'print(*[1,2,3],4,*[5,6,7])',\n",
       " '_i18': 'print{*[1,2,3],4,*[5,6,7]}',\n",
       " '_i19': '*range(4),4',\n",
       " '_i2': \"#对字符串序列解包\\nx,y,z='abc'\\nprint(x,y,z)\\n\\n#对切片的序列进行解包\\nx=[1,2,3,4,5,6,7]\\nx=[:3]=map(str,range(5) )\\nx\",\n",
       " '_i20': '#{}表示一个集合\\n{4,*range(4)}',\n",
       " '_i21': \"{'x':1,**{'y':2}}\",\n",
       " '_i22': 'g=( (i+2)**2 for i in range(10) )',\n",
       " '_i23': 'g=( (i+2)**2 for i in range(10) )\\ng',\n",
       " '_i24': 'print(list(g))',\n",
       " '_i25': 't=tuple( g ) #生成器对象只能访问一次\\nt',\n",
       " '_i26': 'g=[(i+2)**2 for i in range(10) ]\\n\\ng',\n",
       " '_i27': '#对生成器的访问除了上面的list()  tuple()之外，还可以用__next()__  next()来完成\\ng=(  (i+2)**1=2   )\\ng.__next__()',\n",
       " '_i28': '#对生成器的访问除了上面的list()  tuple()之外，还可以用__next()__  next()来完成\\ng=(  (i+2)**2  for i in range(10)   )\\ng.__next__()',\n",
       " '_i29': 'g.__next__()',\n",
       " '_i3': \"#对字符串序列解包\\nx,y,z='abc'\\nprint(x,y,z)\\n\\n#对切片的序列进行解包\\nx=[1,2,3,4,5,6,7]\\nx=[：3]=map(str,range(5) )\\nx\",\n",
       " '_i30': 'dir(g) #运算符重载...  java不支持 c++支持运算符重载\\n#  a=[1,2,3]\\n#  b=[3,4,5]\\n#  a>b',\n",
       " '_i31': 'next( g ) #g.__next__()',\n",
       " '_i32': 'x=filter( lambda x:x<10 , range(20))\\nx',\n",
       " '_i33': '5 in x',\n",
       " '_i34': 'print(list(x) ) ',\n",
       " '_i35': 'next(x)',\n",
       " '_i36': 'x=filter( lambda x:x<10 , range(20))\\nx',\n",
       " '_i37': 'next(x)',\n",
       " '_i38': 'x=map(str,range(20))\\nx',\n",
       " '_i39': 'x=map(str,range(20))\\nl=list(x)\\nl',\n",
       " '_i4': \"#对字符串序列解包\\nx,y,z='abc'\\nprint(x,y,z)\\n\\n#对切片的序列进行解包\\nx=[1,2,3,4,5,6,7]\\nx=[:3]=map(str,range(5) )\\nx\",\n",
       " '_i40': 'x=map(str,range(20))\\n0 in x',\n",
       " '_i41': \"x=map(str,range(20))\\n'0' in x\",\n",
       " '_i42': \"'''\\n1.无序可变的序列\\n2.（键：值，键：值，...）\\n3.键不可变的数\\n'''\",\n",
       " '_i43': '# python 内置函数： kernel  当前作用的全局变量和值\\nglobals()',\n",
       " '_i5': '#对  map 对象解包\\nx,y,z=map(str, range(3))\\nprint(x,y,z)\\n\\nx=map(str,range(3))   #  x是对象不能直接调用\\nprint(x)',\n",
       " '_i6': \"#对字符串序列解包\\nx,y,z='abc'\\nprint(x,y,z)\\n\\n#对切片的序列进行解包\\nx=[1,2,3,4,5,6,7]\\nx=[:3]=map(str,range(5) )\\nx\",\n",
       " '_i7': \"#对字符串序列解包\\nx,y,z='abc'\\nprint(x,y,z)\\n\\n#对切片的序列进行解包\\nx=[1,2,3,4,5,6,7]\\nx=[:3]= map(str,range(5) )\\nx\",\n",
       " '_i8': \"#对字符串序列解包\\nx,y,z='abc'\\nprint(x,y,z)\\n\\n#对切片的序列进行解包\\nx=[1,2,3,4,5,6,7]\\nx[:3]= map(str,range(5) )\\nx\",\n",
       " '_i9': \"#对字符串序列解包\\nx,y,z='abc'\\nprint(x,y,z)\\n\\n#对切片的序列进行解包\\nx=[1,2,3,4,5,6,7,8,9]\\nx[:3]= map(str,range(5) )\\nx\",\n",
       " '_ih': ['',\n",
       "  \"#对字符串序列解包\\nx,y,z='abc'\\nprint(x,y,z)\\n\\n#对切片的序列进行解包\\nx=[1,2,3,4,5,6,7,8,9]\\nx=[:3]=map(str,range(5))\\nx\",\n",
       "  \"#对字符串序列解包\\nx,y,z='abc'\\nprint(x,y,z)\\n\\n#对切片的序列进行解包\\nx=[1,2,3,4,5,6,7]\\nx=[:3]=map(str,range(5) )\\nx\",\n",
       "  \"#对字符串序列解包\\nx,y,z='abc'\\nprint(x,y,z)\\n\\n#对切片的序列进行解包\\nx=[1,2,3,4,5,6,7]\\nx=[：3]=map(str,range(5) )\\nx\",\n",
       "  \"#对字符串序列解包\\nx,y,z='abc'\\nprint(x,y,z)\\n\\n#对切片的序列进行解包\\nx=[1,2,3,4,5,6,7]\\nx=[:3]=map(str,range(5) )\\nx\",\n",
       "  '#对  map 对象解包\\nx,y,z=map(str, range(3))\\nprint(x,y,z)\\n\\nx=map(str,range(3))   #  x是对象不能直接调用\\nprint(x)',\n",
       "  \"#对字符串序列解包\\nx,y,z='abc'\\nprint(x,y,z)\\n\\n#对切片的序列进行解包\\nx=[1,2,3,4,5,6,7]\\nx=[:3]=map(str,range(5) )\\nx\",\n",
       "  \"#对字符串序列解包\\nx,y,z='abc'\\nprint(x,y,z)\\n\\n#对切片的序列进行解包\\nx=[1,2,3,4,5,6,7]\\nx=[:3]= map(str,range(5) )\\nx\",\n",
       "  \"#对字符串序列解包\\nx,y,z='abc'\\nprint(x,y,z)\\n\\n#对切片的序列进行解包\\nx=[1,2,3,4,5,6,7]\\nx[:3]= map(str,range(5) )\\nx\",\n",
       "  \"#对字符串序列解包\\nx,y,z='abc'\\nprint(x,y,z)\\n\\n#对切片的序列进行解包\\nx=[1,2,3,4,5,6,7,8,9]\\nx[:3]= map(str,range(5) )\\nx\",\n",
       "  \"#对字典序列解包\\ns={'a':1,'b':2,'c':3}\\nb,c,d=s.items()    #  s.item  -->转换为元祖\\nprint(b,c,d)\",\n",
       "  \"#对字典序列解包\\ns={'a':1,'b':2,'c':3}\\nb,c,d=s.items()    #  s.item  -->转换为元祖\\nprint(b,c,d)\\nprint(s.items())\",\n",
       "  'b,c,d=s.values()\\nprint(b,c,d)\\nprint(s.values())',\n",
       "  \"#序列包遍历多个序列\\nkeys=['a','b','c','d']\\nvalues=[1,2,3]\\nfor k,v in zip(keys,values):\\n    print( (k,v) )\",\n",
       "  \"#序列包遍历多个序列\\nkeys=['a','b','c','d']\\nvalues=[1,2,3]\\nfor k,v in zip(keys,values):\\n    print( (k,v),end='' )\",\n",
       "  \"#序列解包操作enumerate对象\\nx=['a','b','c']\\nfor i,v in enumerate(x):\\n    print( i ,':',v)\",\n",
       "  '#python 3.5 后支持新的序列解包的写法\\n# *序列  -》  a=[[1,2,3],[4,5,6]]\\nprint([[1,2,3],[4,5,6]])',\n",
       "  'print(*[1,2,3],4,*[5,6,7])',\n",
       "  'print{*[1,2,3],4,*[5,6,7]}',\n",
       "  '*range(4),4',\n",
       "  '#{}表示一个集合\\n{4,*range(4)}',\n",
       "  \"{'x':1,**{'y':2}}\",\n",
       "  'g=( (i+2)**2 for i in range(10) )',\n",
       "  'g=( (i+2)**2 for i in range(10) )\\ng',\n",
       "  'print(list(g))',\n",
       "  't=tuple( g ) #生成器对象只能访问一次\\nt',\n",
       "  'g=[(i+2)**2 for i in range(10) ]\\n\\ng',\n",
       "  '#对生成器的访问除了上面的list()  tuple()之外，还可以用__next()__  next()来完成\\ng=(  (i+2)**1=2   )\\ng.__next__()',\n",
       "  '#对生成器的访问除了上面的list()  tuple()之外，还可以用__next()__  next()来完成\\ng=(  (i+2)**2  for i in range(10)   )\\ng.__next__()',\n",
       "  'g.__next__()',\n",
       "  'dir(g) #运算符重载...  java不支持 c++支持运算符重载\\n#  a=[1,2,3]\\n#  b=[3,4,5]\\n#  a>b',\n",
       "  'next( g ) #g.__next__()',\n",
       "  'x=filter( lambda x:x<10 , range(20))\\nx',\n",
       "  '5 in x',\n",
       "  'print(list(x) ) ',\n",
       "  'next(x)',\n",
       "  'x=filter( lambda x:x<10 , range(20))\\nx',\n",
       "  'next(x)',\n",
       "  'x=map(str,range(20))\\nx',\n",
       "  'x=map(str,range(20))\\nl=list(x)\\nl',\n",
       "  'x=map(str,range(20))\\n0 in x',\n",
       "  \"x=map(str,range(20))\\n'0' in x\",\n",
       "  \"'''\\n1.无序可变的序列\\n2.（键：值，键：值，...）\\n3.键不可变的数\\n'''\",\n",
       "  '# python 内置函数： kernel  当前作用的全局变量和值\\nglobals()'],\n",
       " '_ii': \"x=map(str,range(20))\\n'0' in x\",\n",
       " '_iii': 'x=map(str,range(20))\\n0 in x',\n",
       " '_oh': {8: ['0', '1', '2', '3', '4', 4, 5, 6, 7],\n",
       "  9: ['0', '1', '2', '3', '4', 4, 5, 6, 7, 8, 9],\n",
       "  19: (0, 1, 2, 3, 4),\n",
       "  20: {0, 1, 2, 3, 4},\n",
       "  21: {'x': 1, 'y': 2},\n",
       "  23: <generator object <genexpr> at 0x00000202F1DC5200>,\n",
       "  25: (),\n",
       "  26: [4, 9, 16, 25, 36, 49, 64, 81, 100, 121],\n",
       "  28: 4,\n",
       "  29: 9,\n",
       "  30: ['__class__',\n",
       "   '__del__',\n",
       "   '__delattr__',\n",
       "   '__dir__',\n",
       "   '__doc__',\n",
       "   '__eq__',\n",
       "   '__format__',\n",
       "   '__ge__',\n",
       "   '__getattribute__',\n",
       "   '__gt__',\n",
       "   '__hash__',\n",
       "   '__init__',\n",
       "   '__init_subclass__',\n",
       "   '__iter__',\n",
       "   '__le__',\n",
       "   '__lt__',\n",
       "   '__name__',\n",
       "   '__ne__',\n",
       "   '__new__',\n",
       "   '__next__',\n",
       "   '__qualname__',\n",
       "   '__reduce__',\n",
       "   '__reduce_ex__',\n",
       "   '__repr__',\n",
       "   '__setattr__',\n",
       "   '__sizeof__',\n",
       "   '__str__',\n",
       "   '__subclasshook__',\n",
       "   'close',\n",
       "   'gi_code',\n",
       "   'gi_frame',\n",
       "   'gi_running',\n",
       "   'gi_yieldfrom',\n",
       "   'send',\n",
       "   'throw'],\n",
       "  31: 16,\n",
       "  32: <filter at 0x202f1dda4a8>,\n",
       "  33: True,\n",
       "  36: <filter at 0x202f1def4a8>,\n",
       "  37: 0,\n",
       "  38: <map at 0x202f1def908>,\n",
       "  39: ['0',\n",
       "   '1',\n",
       "   '2',\n",
       "   '3',\n",
       "   '4',\n",
       "   '5',\n",
       "   '6',\n",
       "   '7',\n",
       "   '8',\n",
       "   '9',\n",
       "   '10',\n",
       "   '11',\n",
       "   '12',\n",
       "   '13',\n",
       "   '14',\n",
       "   '15',\n",
       "   '16',\n",
       "   '17',\n",
       "   '18',\n",
       "   '19'],\n",
       "  40: False,\n",
       "  41: True,\n",
       "  42: '\\n1.无序可变的序列\\n2.（键：值，键：值，...）\\n3.键不可变的数\\n'},\n",
       " 'b': 1,\n",
       " 'c': 2,\n",
       " 'd': 3,\n",
       " 'exit': <IPython.core.autocall.ZMQExitAutocall at 0x202f1d4ab38>,\n",
       " 'g': <generator object <genexpr> at 0x00000202F1DC5258>,\n",
       " 'get_ipython': <bound method InteractiveShell.get_ipython of <ipykernel.zmqshell.ZMQInteractiveShell object at 0x00000202F0D26940>>,\n",
       " 'i': 2,\n",
       " 'k': 'c',\n",
       " 'keys': ['a', 'b', 'c', 'd'],\n",
       " 'l': ['0',\n",
       "  '1',\n",
       "  '2',\n",
       "  '3',\n",
       "  '4',\n",
       "  '5',\n",
       "  '6',\n",
       "  '7',\n",
       "  '8',\n",
       "  '9',\n",
       "  '10',\n",
       "  '11',\n",
       "  '12',\n",
       "  '13',\n",
       "  '14',\n",
       "  '15',\n",
       "  '16',\n",
       "  '17',\n",
       "  '18',\n",
       "  '19'],\n",
       " 'quit': <IPython.core.autocall.ZMQExitAutocall at 0x202f1d4ab38>,\n",
       " 's': {'a': 1, 'b': 2, 'c': 3},\n",
       " 't': (),\n",
       " 'v': 'c',\n",
       " 'values': [1, 2, 3],\n",
       " 'x': <map at 0x202f1e2fbe0>,\n",
       " 'y': 'b',\n",
       " 'z': 'c'}"
      ]
     },
     "execution_count": 43,
     "metadata": {},
     "output_type": "execute_result"
    }
   ],
   "source": [
    "# python 内置函数： kernel  当前作用的全局变量和值\n",
    "globals()"
   ]
  },
  {
   "cell_type": "code",
   "execution_count": 45,
   "metadata": {},
   "outputs": [
    {
     "data": {
      "text/plain": [
       "{'In': ['',\n",
       "  \"#对字符串序列解包\\nx,y,z='abc'\\nprint(x,y,z)\\n\\n#对切片的序列进行解包\\nx=[1,2,3,4,5,6,7,8,9]\\nx=[:3]=map(str,range(5))\\nx\",\n",
       "  \"#对字符串序列解包\\nx,y,z='abc'\\nprint(x,y,z)\\n\\n#对切片的序列进行解包\\nx=[1,2,3,4,5,6,7]\\nx=[:3]=map(str,range(5) )\\nx\",\n",
       "  \"#对字符串序列解包\\nx,y,z='abc'\\nprint(x,y,z)\\n\\n#对切片的序列进行解包\\nx=[1,2,3,4,5,6,7]\\nx=[：3]=map(str,range(5) )\\nx\",\n",
       "  \"#对字符串序列解包\\nx,y,z='abc'\\nprint(x,y,z)\\n\\n#对切片的序列进行解包\\nx=[1,2,3,4,5,6,7]\\nx=[:3]=map(str,range(5) )\\nx\",\n",
       "  '#对  map 对象解包\\nx,y,z=map(str, range(3))\\nprint(x,y,z)\\n\\nx=map(str,range(3))   #  x是对象不能直接调用\\nprint(x)',\n",
       "  \"#对字符串序列解包\\nx,y,z='abc'\\nprint(x,y,z)\\n\\n#对切片的序列进行解包\\nx=[1,2,3,4,5,6,7]\\nx=[:3]=map(str,range(5) )\\nx\",\n",
       "  \"#对字符串序列解包\\nx,y,z='abc'\\nprint(x,y,z)\\n\\n#对切片的序列进行解包\\nx=[1,2,3,4,5,6,7]\\nx=[:3]= map(str,range(5) )\\nx\",\n",
       "  \"#对字符串序列解包\\nx,y,z='abc'\\nprint(x,y,z)\\n\\n#对切片的序列进行解包\\nx=[1,2,3,4,5,6,7]\\nx[:3]= map(str,range(5) )\\nx\",\n",
       "  \"#对字符串序列解包\\nx,y,z='abc'\\nprint(x,y,z)\\n\\n#对切片的序列进行解包\\nx=[1,2,3,4,5,6,7,8,9]\\nx[:3]= map(str,range(5) )\\nx\",\n",
       "  \"#对字典序列解包\\ns={'a':1,'b':2,'c':3}\\nb,c,d=s.items()    #  s.item  -->转换为元祖\\nprint(b,c,d)\",\n",
       "  \"#对字典序列解包\\ns={'a':1,'b':2,'c':3}\\nb,c,d=s.items()    #  s.item  -->转换为元祖\\nprint(b,c,d)\\nprint(s.items())\",\n",
       "  'b,c,d=s.values()\\nprint(b,c,d)\\nprint(s.values())',\n",
       "  \"#序列包遍历多个序列\\nkeys=['a','b','c','d']\\nvalues=[1,2,3]\\nfor k,v in zip(keys,values):\\n    print( (k,v) )\",\n",
       "  \"#序列包遍历多个序列\\nkeys=['a','b','c','d']\\nvalues=[1,2,3]\\nfor k,v in zip(keys,values):\\n    print( (k,v),end='' )\",\n",
       "  \"#序列解包操作enumerate对象\\nx=['a','b','c']\\nfor i,v in enumerate(x):\\n    print( i ,':',v)\",\n",
       "  '#python 3.5 后支持新的序列解包的写法\\n# *序列  -》  a=[[1,2,3],[4,5,6]]\\nprint([[1,2,3],[4,5,6]])',\n",
       "  'print(*[1,2,3],4,*[5,6,7])',\n",
       "  'print{*[1,2,3],4,*[5,6,7]}',\n",
       "  '*range(4),4',\n",
       "  '#{}表示一个集合\\n{4,*range(4)}',\n",
       "  \"{'x':1,**{'y':2}}\",\n",
       "  'g=( (i+2)**2 for i in range(10) )',\n",
       "  'g=( (i+2)**2 for i in range(10) )\\ng',\n",
       "  'print(list(g))',\n",
       "  't=tuple( g ) #生成器对象只能访问一次\\nt',\n",
       "  'g=[(i+2)**2 for i in range(10) ]\\n\\ng',\n",
       "  '#对生成器的访问除了上面的list()  tuple()之外，还可以用__next()__  next()来完成\\ng=(  (i+2)**1=2   )\\ng.__next__()',\n",
       "  '#对生成器的访问除了上面的list()  tuple()之外，还可以用__next()__  next()来完成\\ng=(  (i+2)**2  for i in range(10)   )\\ng.__next__()',\n",
       "  'g.__next__()',\n",
       "  'dir(g) #运算符重载...  java不支持 c++支持运算符重载\\n#  a=[1,2,3]\\n#  b=[3,4,5]\\n#  a>b',\n",
       "  'next( g ) #g.__next__()',\n",
       "  'x=filter( lambda x:x<10 , range(20))\\nx',\n",
       "  '5 in x',\n",
       "  'print(list(x) ) ',\n",
       "  'next(x)',\n",
       "  'x=filter( lambda x:x<10 , range(20))\\nx',\n",
       "  'next(x)',\n",
       "  'x=map(str,range(20))\\nx',\n",
       "  'x=map(str,range(20))\\nl=list(x)\\nl',\n",
       "  'x=map(str,range(20))\\n0 in x',\n",
       "  \"x=map(str,range(20))\\n'0' in x\",\n",
       "  \"'''\\n1.无序可变的序列\\n2.（键：值，键：值，...）\\n3.键不可变的数\\n'''\",\n",
       "  '# python 内置函数： kernel  当前作用的全局变量和值\\nglobals()',\n",
       "  '#当前作用域中所有的局部变量和值\\nloacals()',\n",
       "  '#当前作用域中所有的局部变量和值\\nlocals()'],\n",
       " 'Out': {8: ['0', '1', '2', '3', '4', 4, 5, 6, 7],\n",
       "  9: ['0', '1', '2', '3', '4', 4, 5, 6, 7, 8, 9],\n",
       "  19: (0, 1, 2, 3, 4),\n",
       "  20: {0, 1, 2, 3, 4},\n",
       "  21: {'x': 1, 'y': 2},\n",
       "  23: <generator object <genexpr> at 0x00000202F1DC5200>,\n",
       "  25: (),\n",
       "  26: [4, 9, 16, 25, 36, 49, 64, 81, 100, 121],\n",
       "  28: 4,\n",
       "  29: 9,\n",
       "  30: ['__class__',\n",
       "   '__del__',\n",
       "   '__delattr__',\n",
       "   '__dir__',\n",
       "   '__doc__',\n",
       "   '__eq__',\n",
       "   '__format__',\n",
       "   '__ge__',\n",
       "   '__getattribute__',\n",
       "   '__gt__',\n",
       "   '__hash__',\n",
       "   '__init__',\n",
       "   '__init_subclass__',\n",
       "   '__iter__',\n",
       "   '__le__',\n",
       "   '__lt__',\n",
       "   '__name__',\n",
       "   '__ne__',\n",
       "   '__new__',\n",
       "   '__next__',\n",
       "   '__qualname__',\n",
       "   '__reduce__',\n",
       "   '__reduce_ex__',\n",
       "   '__repr__',\n",
       "   '__setattr__',\n",
       "   '__sizeof__',\n",
       "   '__str__',\n",
       "   '__subclasshook__',\n",
       "   'close',\n",
       "   'gi_code',\n",
       "   'gi_frame',\n",
       "   'gi_running',\n",
       "   'gi_yieldfrom',\n",
       "   'send',\n",
       "   'throw'],\n",
       "  31: 16,\n",
       "  32: <filter at 0x202f1dda4a8>,\n",
       "  33: True,\n",
       "  36: <filter at 0x202f1def4a8>,\n",
       "  37: 0,\n",
       "  38: <map at 0x202f1def908>,\n",
       "  39: ['0',\n",
       "   '1',\n",
       "   '2',\n",
       "   '3',\n",
       "   '4',\n",
       "   '5',\n",
       "   '6',\n",
       "   '7',\n",
       "   '8',\n",
       "   '9',\n",
       "   '10',\n",
       "   '11',\n",
       "   '12',\n",
       "   '13',\n",
       "   '14',\n",
       "   '15',\n",
       "   '16',\n",
       "   '17',\n",
       "   '18',\n",
       "   '19'],\n",
       "  40: False,\n",
       "  41: True,\n",
       "  42: '\\n1.无序可变的序列\\n2.（键：值，键：值，...）\\n3.键不可变的数\\n',\n",
       "  43: {...}},\n",
       " '_': {...},\n",
       " '_19': (0, 1, 2, 3, 4),\n",
       " '_20': {0, 1, 2, 3, 4},\n",
       " '_21': {'x': 1, 'y': 2},\n",
       " '_23': <generator object <genexpr> at 0x00000202F1DC5200>,\n",
       " '_25': (),\n",
       " '_26': [4, 9, 16, 25, 36, 49, 64, 81, 100, 121],\n",
       " '_28': 4,\n",
       " '_29': 9,\n",
       " '_30': ['__class__',\n",
       "  '__del__',\n",
       "  '__delattr__',\n",
       "  '__dir__',\n",
       "  '__doc__',\n",
       "  '__eq__',\n",
       "  '__format__',\n",
       "  '__ge__',\n",
       "  '__getattribute__',\n",
       "  '__gt__',\n",
       "  '__hash__',\n",
       "  '__init__',\n",
       "  '__init_subclass__',\n",
       "  '__iter__',\n",
       "  '__le__',\n",
       "  '__lt__',\n",
       "  '__name__',\n",
       "  '__ne__',\n",
       "  '__new__',\n",
       "  '__next__',\n",
       "  '__qualname__',\n",
       "  '__reduce__',\n",
       "  '__reduce_ex__',\n",
       "  '__repr__',\n",
       "  '__setattr__',\n",
       "  '__sizeof__',\n",
       "  '__str__',\n",
       "  '__subclasshook__',\n",
       "  'close',\n",
       "  'gi_code',\n",
       "  'gi_frame',\n",
       "  'gi_running',\n",
       "  'gi_yieldfrom',\n",
       "  'send',\n",
       "  'throw'],\n",
       " '_31': 16,\n",
       " '_32': <filter at 0x202f1dda4a8>,\n",
       " '_33': True,\n",
       " '_36': <filter at 0x202f1def4a8>,\n",
       " '_37': 0,\n",
       " '_38': <map at 0x202f1def908>,\n",
       " '_39': ['0',\n",
       "  '1',\n",
       "  '2',\n",
       "  '3',\n",
       "  '4',\n",
       "  '5',\n",
       "  '6',\n",
       "  '7',\n",
       "  '8',\n",
       "  '9',\n",
       "  '10',\n",
       "  '11',\n",
       "  '12',\n",
       "  '13',\n",
       "  '14',\n",
       "  '15',\n",
       "  '16',\n",
       "  '17',\n",
       "  '18',\n",
       "  '19'],\n",
       " '_40': False,\n",
       " '_41': True,\n",
       " '_42': '\\n1.无序可变的序列\\n2.（键：值，键：值，...）\\n3.键不可变的数\\n',\n",
       " '_43': {...},\n",
       " '_8': ['0', '1', '2', '3', '4', 4, 5, 6, 7],\n",
       " '_9': ['0', '1', '2', '3', '4', 4, 5, 6, 7, 8, 9],\n",
       " '__': '\\n1.无序可变的序列\\n2.（键：值，键：值，...）\\n3.键不可变的数\\n',\n",
       " '___': True,\n",
       " '__builtin__': <module 'builtins' (built-in)>,\n",
       " '__builtins__': <module 'builtins' (built-in)>,\n",
       " '__doc__': 'Automatically created module for IPython interactive environment',\n",
       " '__loader__': None,\n",
       " '__name__': '__main__',\n",
       " '__package__': None,\n",
       " '__spec__': None,\n",
       " '_dh': ['C:\\\\Users\\\\吴彦祖\\\\yc55'],\n",
       " '_i': '#当前作用域中所有的局部变量和值\\nloacals()',\n",
       " '_i1': \"#对字符串序列解包\\nx,y,z='abc'\\nprint(x,y,z)\\n\\n#对切片的序列进行解包\\nx=[1,2,3,4,5,6,7,8,9]\\nx=[:3]=map(str,range(5))\\nx\",\n",
       " '_i10': \"#对字典序列解包\\ns={'a':1,'b':2,'c':3}\\nb,c,d=s.items()    #  s.item  -->转换为元祖\\nprint(b,c,d)\",\n",
       " '_i11': \"#对字典序列解包\\ns={'a':1,'b':2,'c':3}\\nb,c,d=s.items()    #  s.item  -->转换为元祖\\nprint(b,c,d)\\nprint(s.items())\",\n",
       " '_i12': 'b,c,d=s.values()\\nprint(b,c,d)\\nprint(s.values())',\n",
       " '_i13': \"#序列包遍历多个序列\\nkeys=['a','b','c','d']\\nvalues=[1,2,3]\\nfor k,v in zip(keys,values):\\n    print( (k,v) )\",\n",
       " '_i14': \"#序列包遍历多个序列\\nkeys=['a','b','c','d']\\nvalues=[1,2,3]\\nfor k,v in zip(keys,values):\\n    print( (k,v),end='' )\",\n",
       " '_i15': \"#序列解包操作enumerate对象\\nx=['a','b','c']\\nfor i,v in enumerate(x):\\n    print( i ,':',v)\",\n",
       " '_i16': '#python 3.5 后支持新的序列解包的写法\\n# *序列  -》  a=[[1,2,3],[4,5,6]]\\nprint([[1,2,3],[4,5,6]])',\n",
       " '_i17': 'print(*[1,2,3],4,*[5,6,7])',\n",
       " '_i18': 'print{*[1,2,3],4,*[5,6,7]}',\n",
       " '_i19': '*range(4),4',\n",
       " '_i2': \"#对字符串序列解包\\nx,y,z='abc'\\nprint(x,y,z)\\n\\n#对切片的序列进行解包\\nx=[1,2,3,4,5,6,7]\\nx=[:3]=map(str,range(5) )\\nx\",\n",
       " '_i20': '#{}表示一个集合\\n{4,*range(4)}',\n",
       " '_i21': \"{'x':1,**{'y':2}}\",\n",
       " '_i22': 'g=( (i+2)**2 for i in range(10) )',\n",
       " '_i23': 'g=( (i+2)**2 for i in range(10) )\\ng',\n",
       " '_i24': 'print(list(g))',\n",
       " '_i25': 't=tuple( g ) #生成器对象只能访问一次\\nt',\n",
       " '_i26': 'g=[(i+2)**2 for i in range(10) ]\\n\\ng',\n",
       " '_i27': '#对生成器的访问除了上面的list()  tuple()之外，还可以用__next()__  next()来完成\\ng=(  (i+2)**1=2   )\\ng.__next__()',\n",
       " '_i28': '#对生成器的访问除了上面的list()  tuple()之外，还可以用__next()__  next()来完成\\ng=(  (i+2)**2  for i in range(10)   )\\ng.__next__()',\n",
       " '_i29': 'g.__next__()',\n",
       " '_i3': \"#对字符串序列解包\\nx,y,z='abc'\\nprint(x,y,z)\\n\\n#对切片的序列进行解包\\nx=[1,2,3,4,5,6,7]\\nx=[：3]=map(str,range(5) )\\nx\",\n",
       " '_i30': 'dir(g) #运算符重载...  java不支持 c++支持运算符重载\\n#  a=[1,2,3]\\n#  b=[3,4,5]\\n#  a>b',\n",
       " '_i31': 'next( g ) #g.__next__()',\n",
       " '_i32': 'x=filter( lambda x:x<10 , range(20))\\nx',\n",
       " '_i33': '5 in x',\n",
       " '_i34': 'print(list(x) ) ',\n",
       " '_i35': 'next(x)',\n",
       " '_i36': 'x=filter( lambda x:x<10 , range(20))\\nx',\n",
       " '_i37': 'next(x)',\n",
       " '_i38': 'x=map(str,range(20))\\nx',\n",
       " '_i39': 'x=map(str,range(20))\\nl=list(x)\\nl',\n",
       " '_i4': \"#对字符串序列解包\\nx,y,z='abc'\\nprint(x,y,z)\\n\\n#对切片的序列进行解包\\nx=[1,2,3,4,5,6,7]\\nx=[:3]=map(str,range(5) )\\nx\",\n",
       " '_i40': 'x=map(str,range(20))\\n0 in x',\n",
       " '_i41': \"x=map(str,range(20))\\n'0' in x\",\n",
       " '_i42': \"'''\\n1.无序可变的序列\\n2.（键：值，键：值，...）\\n3.键不可变的数\\n'''\",\n",
       " '_i43': '# python 内置函数： kernel  当前作用的全局变量和值\\nglobals()',\n",
       " '_i44': '#当前作用域中所有的局部变量和值\\nloacals()',\n",
       " '_i45': '#当前作用域中所有的局部变量和值\\nlocals()',\n",
       " '_i5': '#对  map 对象解包\\nx,y,z=map(str, range(3))\\nprint(x,y,z)\\n\\nx=map(str,range(3))   #  x是对象不能直接调用\\nprint(x)',\n",
       " '_i6': \"#对字符串序列解包\\nx,y,z='abc'\\nprint(x,y,z)\\n\\n#对切片的序列进行解包\\nx=[1,2,3,4,5,6,7]\\nx=[:3]=map(str,range(5) )\\nx\",\n",
       " '_i7': \"#对字符串序列解包\\nx,y,z='abc'\\nprint(x,y,z)\\n\\n#对切片的序列进行解包\\nx=[1,2,3,4,5,6,7]\\nx=[:3]= map(str,range(5) )\\nx\",\n",
       " '_i8': \"#对字符串序列解包\\nx,y,z='abc'\\nprint(x,y,z)\\n\\n#对切片的序列进行解包\\nx=[1,2,3,4,5,6,7]\\nx[:3]= map(str,range(5) )\\nx\",\n",
       " '_i9': \"#对字符串序列解包\\nx,y,z='abc'\\nprint(x,y,z)\\n\\n#对切片的序列进行解包\\nx=[1,2,3,4,5,6,7,8,9]\\nx[:3]= map(str,range(5) )\\nx\",\n",
       " '_ih': ['',\n",
       "  \"#对字符串序列解包\\nx,y,z='abc'\\nprint(x,y,z)\\n\\n#对切片的序列进行解包\\nx=[1,2,3,4,5,6,7,8,9]\\nx=[:3]=map(str,range(5))\\nx\",\n",
       "  \"#对字符串序列解包\\nx,y,z='abc'\\nprint(x,y,z)\\n\\n#对切片的序列进行解包\\nx=[1,2,3,4,5,6,7]\\nx=[:3]=map(str,range(5) )\\nx\",\n",
       "  \"#对字符串序列解包\\nx,y,z='abc'\\nprint(x,y,z)\\n\\n#对切片的序列进行解包\\nx=[1,2,3,4,5,6,7]\\nx=[：3]=map(str,range(5) )\\nx\",\n",
       "  \"#对字符串序列解包\\nx,y,z='abc'\\nprint(x,y,z)\\n\\n#对切片的序列进行解包\\nx=[1,2,3,4,5,6,7]\\nx=[:3]=map(str,range(5) )\\nx\",\n",
       "  '#对  map 对象解包\\nx,y,z=map(str, range(3))\\nprint(x,y,z)\\n\\nx=map(str,range(3))   #  x是对象不能直接调用\\nprint(x)',\n",
       "  \"#对字符串序列解包\\nx,y,z='abc'\\nprint(x,y,z)\\n\\n#对切片的序列进行解包\\nx=[1,2,3,4,5,6,7]\\nx=[:3]=map(str,range(5) )\\nx\",\n",
       "  \"#对字符串序列解包\\nx,y,z='abc'\\nprint(x,y,z)\\n\\n#对切片的序列进行解包\\nx=[1,2,3,4,5,6,7]\\nx=[:3]= map(str,range(5) )\\nx\",\n",
       "  \"#对字符串序列解包\\nx,y,z='abc'\\nprint(x,y,z)\\n\\n#对切片的序列进行解包\\nx=[1,2,3,4,5,6,7]\\nx[:3]= map(str,range(5) )\\nx\",\n",
       "  \"#对字符串序列解包\\nx,y,z='abc'\\nprint(x,y,z)\\n\\n#对切片的序列进行解包\\nx=[1,2,3,4,5,6,7,8,9]\\nx[:3]= map(str,range(5) )\\nx\",\n",
       "  \"#对字典序列解包\\ns={'a':1,'b':2,'c':3}\\nb,c,d=s.items()    #  s.item  -->转换为元祖\\nprint(b,c,d)\",\n",
       "  \"#对字典序列解包\\ns={'a':1,'b':2,'c':3}\\nb,c,d=s.items()    #  s.item  -->转换为元祖\\nprint(b,c,d)\\nprint(s.items())\",\n",
       "  'b,c,d=s.values()\\nprint(b,c,d)\\nprint(s.values())',\n",
       "  \"#序列包遍历多个序列\\nkeys=['a','b','c','d']\\nvalues=[1,2,3]\\nfor k,v in zip(keys,values):\\n    print( (k,v) )\",\n",
       "  \"#序列包遍历多个序列\\nkeys=['a','b','c','d']\\nvalues=[1,2,3]\\nfor k,v in zip(keys,values):\\n    print( (k,v),end='' )\",\n",
       "  \"#序列解包操作enumerate对象\\nx=['a','b','c']\\nfor i,v in enumerate(x):\\n    print( i ,':',v)\",\n",
       "  '#python 3.5 后支持新的序列解包的写法\\n# *序列  -》  a=[[1,2,3],[4,5,6]]\\nprint([[1,2,3],[4,5,6]])',\n",
       "  'print(*[1,2,3],4,*[5,6,7])',\n",
       "  'print{*[1,2,3],4,*[5,6,7]}',\n",
       "  '*range(4),4',\n",
       "  '#{}表示一个集合\\n{4,*range(4)}',\n",
       "  \"{'x':1,**{'y':2}}\",\n",
       "  'g=( (i+2)**2 for i in range(10) )',\n",
       "  'g=( (i+2)**2 for i in range(10) )\\ng',\n",
       "  'print(list(g))',\n",
       "  't=tuple( g ) #生成器对象只能访问一次\\nt',\n",
       "  'g=[(i+2)**2 for i in range(10) ]\\n\\ng',\n",
       "  '#对生成器的访问除了上面的list()  tuple()之外，还可以用__next()__  next()来完成\\ng=(  (i+2)**1=2   )\\ng.__next__()',\n",
       "  '#对生成器的访问除了上面的list()  tuple()之外，还可以用__next()__  next()来完成\\ng=(  (i+2)**2  for i in range(10)   )\\ng.__next__()',\n",
       "  'g.__next__()',\n",
       "  'dir(g) #运算符重载...  java不支持 c++支持运算符重载\\n#  a=[1,2,3]\\n#  b=[3,4,5]\\n#  a>b',\n",
       "  'next( g ) #g.__next__()',\n",
       "  'x=filter( lambda x:x<10 , range(20))\\nx',\n",
       "  '5 in x',\n",
       "  'print(list(x) ) ',\n",
       "  'next(x)',\n",
       "  'x=filter( lambda x:x<10 , range(20))\\nx',\n",
       "  'next(x)',\n",
       "  'x=map(str,range(20))\\nx',\n",
       "  'x=map(str,range(20))\\nl=list(x)\\nl',\n",
       "  'x=map(str,range(20))\\n0 in x',\n",
       "  \"x=map(str,range(20))\\n'0' in x\",\n",
       "  \"'''\\n1.无序可变的序列\\n2.（键：值，键：值，...）\\n3.键不可变的数\\n'''\",\n",
       "  '# python 内置函数： kernel  当前作用的全局变量和值\\nglobals()',\n",
       "  '#当前作用域中所有的局部变量和值\\nloacals()',\n",
       "  '#当前作用域中所有的局部变量和值\\nlocals()'],\n",
       " '_ii': '# python 内置函数： kernel  当前作用的全局变量和值\\nglobals()',\n",
       " '_iii': \"'''\\n1.无序可变的序列\\n2.（键：值，键：值，...）\\n3.键不可变的数\\n'''\",\n",
       " '_oh': {8: ['0', '1', '2', '3', '4', 4, 5, 6, 7],\n",
       "  9: ['0', '1', '2', '3', '4', 4, 5, 6, 7, 8, 9],\n",
       "  19: (0, 1, 2, 3, 4),\n",
       "  20: {0, 1, 2, 3, 4},\n",
       "  21: {'x': 1, 'y': 2},\n",
       "  23: <generator object <genexpr> at 0x00000202F1DC5200>,\n",
       "  25: (),\n",
       "  26: [4, 9, 16, 25, 36, 49, 64, 81, 100, 121],\n",
       "  28: 4,\n",
       "  29: 9,\n",
       "  30: ['__class__',\n",
       "   '__del__',\n",
       "   '__delattr__',\n",
       "   '__dir__',\n",
       "   '__doc__',\n",
       "   '__eq__',\n",
       "   '__format__',\n",
       "   '__ge__',\n",
       "   '__getattribute__',\n",
       "   '__gt__',\n",
       "   '__hash__',\n",
       "   '__init__',\n",
       "   '__init_subclass__',\n",
       "   '__iter__',\n",
       "   '__le__',\n",
       "   '__lt__',\n",
       "   '__name__',\n",
       "   '__ne__',\n",
       "   '__new__',\n",
       "   '__next__',\n",
       "   '__qualname__',\n",
       "   '__reduce__',\n",
       "   '__reduce_ex__',\n",
       "   '__repr__',\n",
       "   '__setattr__',\n",
       "   '__sizeof__',\n",
       "   '__str__',\n",
       "   '__subclasshook__',\n",
       "   'close',\n",
       "   'gi_code',\n",
       "   'gi_frame',\n",
       "   'gi_running',\n",
       "   'gi_yieldfrom',\n",
       "   'send',\n",
       "   'throw'],\n",
       "  31: 16,\n",
       "  32: <filter at 0x202f1dda4a8>,\n",
       "  33: True,\n",
       "  36: <filter at 0x202f1def4a8>,\n",
       "  37: 0,\n",
       "  38: <map at 0x202f1def908>,\n",
       "  39: ['0',\n",
       "   '1',\n",
       "   '2',\n",
       "   '3',\n",
       "   '4',\n",
       "   '5',\n",
       "   '6',\n",
       "   '7',\n",
       "   '8',\n",
       "   '9',\n",
       "   '10',\n",
       "   '11',\n",
       "   '12',\n",
       "   '13',\n",
       "   '14',\n",
       "   '15',\n",
       "   '16',\n",
       "   '17',\n",
       "   '18',\n",
       "   '19'],\n",
       "  40: False,\n",
       "  41: True,\n",
       "  42: '\\n1.无序可变的序列\\n2.（键：值，键：值，...）\\n3.键不可变的数\\n',\n",
       "  43: {...}},\n",
       " 'b': 1,\n",
       " 'c': 2,\n",
       " 'd': 3,\n",
       " 'exit': <IPython.core.autocall.ZMQExitAutocall at 0x202f1d4ab38>,\n",
       " 'g': <generator object <genexpr> at 0x00000202F1DC5258>,\n",
       " 'get_ipython': <bound method InteractiveShell.get_ipython of <ipykernel.zmqshell.ZMQInteractiveShell object at 0x00000202F0D26940>>,\n",
       " 'i': 2,\n",
       " 'k': 'c',\n",
       " 'keys': ['a', 'b', 'c', 'd'],\n",
       " 'l': ['0',\n",
       "  '1',\n",
       "  '2',\n",
       "  '3',\n",
       "  '4',\n",
       "  '5',\n",
       "  '6',\n",
       "  '7',\n",
       "  '8',\n",
       "  '9',\n",
       "  '10',\n",
       "  '11',\n",
       "  '12',\n",
       "  '13',\n",
       "  '14',\n",
       "  '15',\n",
       "  '16',\n",
       "  '17',\n",
       "  '18',\n",
       "  '19'],\n",
       " 'quit': <IPython.core.autocall.ZMQExitAutocall at 0x202f1d4ab38>,\n",
       " 's': {'a': 1, 'b': 2, 'c': 3},\n",
       " 't': (),\n",
       " 'v': 'c',\n",
       " 'values': [1, 2, 3],\n",
       " 'x': <map at 0x202f1e2fbe0>,\n",
       " 'y': 'b',\n",
       " 'z': 'c'}"
      ]
     },
     "execution_count": 45,
     "metadata": {},
     "output_type": "execute_result"
    }
   ],
   "source": [
    "#当前作用域中所有的局部变量和值\n",
    "locals()"
   ]
  },
  {
   "cell_type": "code",
   "execution_count": 47,
   "metadata": {},
   "outputs": [
    {
     "name": "stdout",
     "output_type": "stream",
     "text": [
      "{'__name__': '__main__', '__doc__': 'Automatically created module for IPython interactive environment', '__package__': None, '__loader__': None, '__spec__': None, '__builtin__': <module 'builtins' (built-in)>, '__builtins__': <module 'builtins' (built-in)>, '_ih': ['', \"#对字符串序列解包\\nx,y,z='abc'\\nprint(x,y,z)\\n\\n#对切片的序列进行解包\\nx=[1,2,3,4,5,6,7,8,9]\\nx=[:3]=map(str,range(5))\\nx\", \"#对字符串序列解包\\nx,y,z='abc'\\nprint(x,y,z)\\n\\n#对切片的序列进行解包\\nx=[1,2,3,4,5,6,7]\\nx=[:3]=map(str,range(5) )\\nx\", \"#对字符串序列解包\\nx,y,z='abc'\\nprint(x,y,z)\\n\\n#对切片的序列进行解包\\nx=[1,2,3,4,5,6,7]\\nx=[：3]=map(str,range(5) )\\nx\", \"#对字符串序列解包\\nx,y,z='abc'\\nprint(x,y,z)\\n\\n#对切片的序列进行解包\\nx=[1,2,3,4,5,6,7]\\nx=[:3]=map(str,range(5) )\\nx\", '#对  map 对象解包\\nx,y,z=map(str, range(3))\\nprint(x,y,z)\\n\\nx=map(str,range(3))   #  x是对象不能直接调用\\nprint(x)', \"#对字符串序列解包\\nx,y,z='abc'\\nprint(x,y,z)\\n\\n#对切片的序列进行解包\\nx=[1,2,3,4,5,6,7]\\nx=[:3]=map(str,range(5) )\\nx\", \"#对字符串序列解包\\nx,y,z='abc'\\nprint(x,y,z)\\n\\n#对切片的序列进行解包\\nx=[1,2,3,4,5,6,7]\\nx=[:3]= map(str,range(5) )\\nx\", \"#对字符串序列解包\\nx,y,z='abc'\\nprint(x,y,z)\\n\\n#对切片的序列进行解包\\nx=[1,2,3,4,5,6,7]\\nx[:3]= map(str,range(5) )\\nx\", \"#对字符串序列解包\\nx,y,z='abc'\\nprint(x,y,z)\\n\\n#对切片的序列进行解包\\nx=[1,2,3,4,5,6,7,8,9]\\nx[:3]= map(str,range(5) )\\nx\", \"#对字典序列解包\\ns={'a':1,'b':2,'c':3}\\nb,c,d=s.items()    #  s.item  -->转换为元祖\\nprint(b,c,d)\", \"#对字典序列解包\\ns={'a':1,'b':2,'c':3}\\nb,c,d=s.items()    #  s.item  -->转换为元祖\\nprint(b,c,d)\\nprint(s.items())\", 'b,c,d=s.values()\\nprint(b,c,d)\\nprint(s.values())', \"#序列包遍历多个序列\\nkeys=['a','b','c','d']\\nvalues=[1,2,3]\\nfor k,v in zip(keys,values):\\n    print( (k,v) )\", \"#序列包遍历多个序列\\nkeys=['a','b','c','d']\\nvalues=[1,2,3]\\nfor k,v in zip(keys,values):\\n    print( (k,v),end='' )\", \"#序列解包操作enumerate对象\\nx=['a','b','c']\\nfor i,v in enumerate(x):\\n    print( i ,':',v)\", '#python 3.5 后支持新的序列解包的写法\\n# *序列  -》  a=[[1,2,3],[4,5,6]]\\nprint([[1,2,3],[4,5,6]])', 'print(*[1,2,3],4,*[5,6,7])', 'print{*[1,2,3],4,*[5,6,7]}', '*range(4),4', '#{}表示一个集合\\n{4,*range(4)}', \"{'x':1,**{'y':2}}\", 'g=( (i+2)**2 for i in range(10) )', 'g=( (i+2)**2 for i in range(10) )\\ng', 'print(list(g))', 't=tuple( g ) #生成器对象只能访问一次\\nt', 'g=[(i+2)**2 for i in range(10) ]\\n\\ng', '#对生成器的访问除了上面的list()  tuple()之外，还可以用__next()__  next()来完成\\ng=(  (i+2)**1=2   )\\ng.__next__()', '#对生成器的访问除了上面的list()  tuple()之外，还可以用__next()__  next()来完成\\ng=(  (i+2)**2  for i in range(10)   )\\ng.__next__()', 'g.__next__()', 'dir(g) #运算符重载...  java不支持 c++支持运算符重载\\n#  a=[1,2,3]\\n#  b=[3,4,5]\\n#  a>b', 'next( g ) #g.__next__()', 'x=filter( lambda x:x<10 , range(20))\\nx', '5 in x', 'print(list(x) ) ', 'next(x)', 'x=filter( lambda x:x<10 , range(20))\\nx', 'next(x)', 'x=map(str,range(20))\\nx', 'x=map(str,range(20))\\nl=list(x)\\nl', 'x=map(str,range(20))\\n0 in x', \"x=map(str,range(20))\\n'0' in x\", \"'''\\n1.无序可变的序列\\n2.（键：值，键：值，...）\\n3.键不可变的数\\n'''\", '# python 内置函数： kernel  当前作用的全局变量和值\\nglobals()', '#当前作用域中所有的局部变量和值\\nloacals()', '#当前作用域中所有的局部变量和值\\nlocals()', 'def test():\\n    #print(globals() )\\n    print(locals() )\\ntest()', 'def test():\\n    print(globals() )\\n    print(locals() )\\ntest()'], '_oh': {8: ['0', '1', '2', '3', '4', 4, 5, 6, 7], 9: ['0', '1', '2', '3', '4', 4, 5, 6, 7, 8, 9], 19: (0, 1, 2, 3, 4), 20: {0, 1, 2, 3, 4}, 21: {'x': 1, 'y': 2}, 23: <generator object <genexpr> at 0x00000202F1DC5200>, 25: (), 26: [4, 9, 16, 25, 36, 49, 64, 81, 100, 121], 28: 4, 29: 9, 30: ['__class__', '__del__', '__delattr__', '__dir__', '__doc__', '__eq__', '__format__', '__ge__', '__getattribute__', '__gt__', '__hash__', '__init__', '__init_subclass__', '__iter__', '__le__', '__lt__', '__name__', '__ne__', '__new__', '__next__', '__qualname__', '__reduce__', '__reduce_ex__', '__repr__', '__setattr__', '__sizeof__', '__str__', '__subclasshook__', 'close', 'gi_code', 'gi_frame', 'gi_running', 'gi_yieldfrom', 'send', 'throw'], 31: 16, 32: <filter object at 0x00000202F1DDA4A8>, 33: True, 36: <filter object at 0x00000202F1DEF4A8>, 37: 0, 38: <map object at 0x00000202F1DEF908>, 39: ['0', '1', '2', '3', '4', '5', '6', '7', '8', '9', '10', '11', '12', '13', '14', '15', '16', '17', '18', '19'], 40: False, 41: True, 42: '\\n1.无序可变的序列\\n2.（键：值，键：值，...）\\n3.键不可变的数\\n', 43: {...}, 45: {...}}, '_dh': ['C:\\\\Users\\\\吴彦祖\\\\yc55'], 'In': ['', \"#对字符串序列解包\\nx,y,z='abc'\\nprint(x,y,z)\\n\\n#对切片的序列进行解包\\nx=[1,2,3,4,5,6,7,8,9]\\nx=[:3]=map(str,range(5))\\nx\", \"#对字符串序列解包\\nx,y,z='abc'\\nprint(x,y,z)\\n\\n#对切片的序列进行解包\\nx=[1,2,3,4,5,6,7]\\nx=[:3]=map(str,range(5) )\\nx\", \"#对字符串序列解包\\nx,y,z='abc'\\nprint(x,y,z)\\n\\n#对切片的序列进行解包\\nx=[1,2,3,4,5,6,7]\\nx=[：3]=map(str,range(5) )\\nx\", \"#对字符串序列解包\\nx,y,z='abc'\\nprint(x,y,z)\\n\\n#对切片的序列进行解包\\nx=[1,2,3,4,5,6,7]\\nx=[:3]=map(str,range(5) )\\nx\", '#对  map 对象解包\\nx,y,z=map(str, range(3))\\nprint(x,y,z)\\n\\nx=map(str,range(3))   #  x是对象不能直接调用\\nprint(x)', \"#对字符串序列解包\\nx,y,z='abc'\\nprint(x,y,z)\\n\\n#对切片的序列进行解包\\nx=[1,2,3,4,5,6,7]\\nx=[:3]=map(str,range(5) )\\nx\", \"#对字符串序列解包\\nx,y,z='abc'\\nprint(x,y,z)\\n\\n#对切片的序列进行解包\\nx=[1,2,3,4,5,6,7]\\nx=[:3]= map(str,range(5) )\\nx\", \"#对字符串序列解包\\nx,y,z='abc'\\nprint(x,y,z)\\n\\n#对切片的序列进行解包\\nx=[1,2,3,4,5,6,7]\\nx[:3]= map(str,range(5) )\\nx\", \"#对字符串序列解包\\nx,y,z='abc'\\nprint(x,y,z)\\n\\n#对切片的序列进行解包\\nx=[1,2,3,4,5,6,7,8,9]\\nx[:3]= map(str,range(5) )\\nx\", \"#对字典序列解包\\ns={'a':1,'b':2,'c':3}\\nb,c,d=s.items()    #  s.item  -->转换为元祖\\nprint(b,c,d)\", \"#对字典序列解包\\ns={'a':1,'b':2,'c':3}\\nb,c,d=s.items()    #  s.item  -->转换为元祖\\nprint(b,c,d)\\nprint(s.items())\", 'b,c,d=s.values()\\nprint(b,c,d)\\nprint(s.values())', \"#序列包遍历多个序列\\nkeys=['a','b','c','d']\\nvalues=[1,2,3]\\nfor k,v in zip(keys,values):\\n    print( (k,v) )\", \"#序列包遍历多个序列\\nkeys=['a','b','c','d']\\nvalues=[1,2,3]\\nfor k,v in zip(keys,values):\\n    print( (k,v),end='' )\", \"#序列解包操作enumerate对象\\nx=['a','b','c']\\nfor i,v in enumerate(x):\\n    print( i ,':',v)\", '#python 3.5 后支持新的序列解包的写法\\n# *序列  -》  a=[[1,2,3],[4,5,6]]\\nprint([[1,2,3],[4,5,6]])', 'print(*[1,2,3],4,*[5,6,7])', 'print{*[1,2,3],4,*[5,6,7]}', '*range(4),4', '#{}表示一个集合\\n{4,*range(4)}', \"{'x':1,**{'y':2}}\", 'g=( (i+2)**2 for i in range(10) )', 'g=( (i+2)**2 for i in range(10) )\\ng', 'print(list(g))', 't=tuple( g ) #生成器对象只能访问一次\\nt', 'g=[(i+2)**2 for i in range(10) ]\\n\\ng', '#对生成器的访问除了上面的list()  tuple()之外，还可以用__next()__  next()来完成\\ng=(  (i+2)**1=2   )\\ng.__next__()', '#对生成器的访问除了上面的list()  tuple()之外，还可以用__next()__  next()来完成\\ng=(  (i+2)**2  for i in range(10)   )\\ng.__next__()', 'g.__next__()', 'dir(g) #运算符重载...  java不支持 c++支持运算符重载\\n#  a=[1,2,3]\\n#  b=[3,4,5]\\n#  a>b', 'next( g ) #g.__next__()', 'x=filter( lambda x:x<10 , range(20))\\nx', '5 in x', 'print(list(x) ) ', 'next(x)', 'x=filter( lambda x:x<10 , range(20))\\nx', 'next(x)', 'x=map(str,range(20))\\nx', 'x=map(str,range(20))\\nl=list(x)\\nl', 'x=map(str,range(20))\\n0 in x', \"x=map(str,range(20))\\n'0' in x\", \"'''\\n1.无序可变的序列\\n2.（键：值，键：值，...）\\n3.键不可变的数\\n'''\", '# python 内置函数： kernel  当前作用的全局变量和值\\nglobals()', '#当前作用域中所有的局部变量和值\\nloacals()', '#当前作用域中所有的局部变量和值\\nlocals()', 'def test():\\n    #print(globals() )\\n    print(locals() )\\ntest()', 'def test():\\n    print(globals() )\\n    print(locals() )\\ntest()'], 'Out': {8: ['0', '1', '2', '3', '4', 4, 5, 6, 7], 9: ['0', '1', '2', '3', '4', 4, 5, 6, 7, 8, 9], 19: (0, 1, 2, 3, 4), 20: {0, 1, 2, 3, 4}, 21: {'x': 1, 'y': 2}, 23: <generator object <genexpr> at 0x00000202F1DC5200>, 25: (), 26: [4, 9, 16, 25, 36, 49, 64, 81, 100, 121], 28: 4, 29: 9, 30: ['__class__', '__del__', '__delattr__', '__dir__', '__doc__', '__eq__', '__format__', '__ge__', '__getattribute__', '__gt__', '__hash__', '__init__', '__init_subclass__', '__iter__', '__le__', '__lt__', '__name__', '__ne__', '__new__', '__next__', '__qualname__', '__reduce__', '__reduce_ex__', '__repr__', '__setattr__', '__sizeof__', '__str__', '__subclasshook__', 'close', 'gi_code', 'gi_frame', 'gi_running', 'gi_yieldfrom', 'send', 'throw'], 31: 16, 32: <filter object at 0x00000202F1DDA4A8>, 33: True, 36: <filter object at 0x00000202F1DEF4A8>, 37: 0, 38: <map object at 0x00000202F1DEF908>, 39: ['0', '1', '2', '3', '4', '5', '6', '7', '8', '9', '10', '11', '12', '13', '14', '15', '16', '17', '18', '19'], 40: False, 41: True, 42: '\\n1.无序可变的序列\\n2.（键：值，键：值，...）\\n3.键不可变的数\\n', 43: {...}, 45: {...}}, 'get_ipython': <bound method InteractiveShell.get_ipython of <ipykernel.zmqshell.ZMQInteractiveShell object at 0x00000202F0D26940>>, 'exit': <IPython.core.autocall.ZMQExitAutocall object at 0x00000202F1D4AB38>, 'quit': <IPython.core.autocall.ZMQExitAutocall object at 0x00000202F1D4AB38>, '_': {...}, '__': {...}, '___': '\\n1.无序可变的序列\\n2.（键：值，键：值，...）\\n3.键不可变的数\\n', '_i': 'def test():\\n    #print(globals() )\\n    print(locals() )\\ntest()', '_ii': '#当前作用域中所有的局部变量和值\\nlocals()', '_iii': '#当前作用域中所有的局部变量和值\\nloacals()', '_i1': \"#对字符串序列解包\\nx,y,z='abc'\\nprint(x,y,z)\\n\\n#对切片的序列进行解包\\nx=[1,2,3,4,5,6,7,8,9]\\nx=[:3]=map(str,range(5))\\nx\", '_i2': \"#对字符串序列解包\\nx,y,z='abc'\\nprint(x,y,z)\\n\\n#对切片的序列进行解包\\nx=[1,2,3,4,5,6,7]\\nx=[:3]=map(str,range(5) )\\nx\", '_i3': \"#对字符串序列解包\\nx,y,z='abc'\\nprint(x,y,z)\\n\\n#对切片的序列进行解包\\nx=[1,2,3,4,5,6,7]\\nx=[：3]=map(str,range(5) )\\nx\", '_i4': \"#对字符串序列解包\\nx,y,z='abc'\\nprint(x,y,z)\\n\\n#对切片的序列进行解包\\nx=[1,2,3,4,5,6,7]\\nx=[:3]=map(str,range(5) )\\nx\", '_i5': '#对  map 对象解包\\nx,y,z=map(str, range(3))\\nprint(x,y,z)\\n\\nx=map(str,range(3))   #  x是对象不能直接调用\\nprint(x)', 'x': <map object at 0x00000202F1E2FBE0>, 'y': 'b', 'z': 'c', '_i6': \"#对字符串序列解包\\nx,y,z='abc'\\nprint(x,y,z)\\n\\n#对切片的序列进行解包\\nx=[1,2,3,4,5,6,7]\\nx=[:3]=map(str,range(5) )\\nx\", '_i7': \"#对字符串序列解包\\nx,y,z='abc'\\nprint(x,y,z)\\n\\n#对切片的序列进行解包\\nx=[1,2,3,4,5,6,7]\\nx=[:3]= map(str,range(5) )\\nx\", '_i8': \"#对字符串序列解包\\nx,y,z='abc'\\nprint(x,y,z)\\n\\n#对切片的序列进行解包\\nx=[1,2,3,4,5,6,7]\\nx[:3]= map(str,range(5) )\\nx\", '_8': ['0', '1', '2', '3', '4', 4, 5, 6, 7], '_i9': \"#对字符串序列解包\\nx,y,z='abc'\\nprint(x,y,z)\\n\\n#对切片的序列进行解包\\nx=[1,2,3,4,5,6,7,8,9]\\nx[:3]= map(str,range(5) )\\nx\", '_9': ['0', '1', '2', '3', '4', 4, 5, 6, 7, 8, 9], '_i10': \"#对字典序列解包\\ns={'a':1,'b':2,'c':3}\\nb,c,d=s.items()    #  s.item  -->转换为元祖\\nprint(b,c,d)\", 's': {'a': 1, 'b': 2, 'c': 3}, 'b': 1, 'c': 2, 'd': 3, '_i11': \"#对字典序列解包\\ns={'a':1,'b':2,'c':3}\\nb,c,d=s.items()    #  s.item  -->转换为元祖\\nprint(b,c,d)\\nprint(s.items())\", '_i12': 'b,c,d=s.values()\\nprint(b,c,d)\\nprint(s.values())', '_i13': \"#序列包遍历多个序列\\nkeys=['a','b','c','d']\\nvalues=[1,2,3]\\nfor k,v in zip(keys,values):\\n    print( (k,v) )\", 'keys': ['a', 'b', 'c', 'd'], 'values': [1, 2, 3], 'k': 'c', 'v': 'c', '_i14': \"#序列包遍历多个序列\\nkeys=['a','b','c','d']\\nvalues=[1,2,3]\\nfor k,v in zip(keys,values):\\n    print( (k,v),end='' )\", '_i15': \"#序列解包操作enumerate对象\\nx=['a','b','c']\\nfor i,v in enumerate(x):\\n    print( i ,':',v)\", 'i': 2, '_i16': '#python 3.5 后支持新的序列解包的写法\\n# *序列  -》  a=[[1,2,3],[4,5,6]]\\nprint([[1,2,3],[4,5,6]])', '_i17': 'print(*[1,2,3],4,*[5,6,7])', '_i18': 'print{*[1,2,3],4,*[5,6,7]}', '_i19': '*range(4),4', '_19': (0, 1, 2, 3, 4), '_i20': '#{}表示一个集合\\n{4,*range(4)}', '_20': {0, 1, 2, 3, 4}, '_i21': \"{'x':1,**{'y':2}}\", '_21': {'x': 1, 'y': 2}, '_i22': 'g=( (i+2)**2 for i in range(10) )', 'g': <generator object <genexpr> at 0x00000202F1DC5258>, '_i23': 'g=( (i+2)**2 for i in range(10) )\\ng', '_23': <generator object <genexpr> at 0x00000202F1DC5200>, '_i24': 'print(list(g))', '_i25': 't=tuple( g ) #生成器对象只能访问一次\\nt', 't': (), '_25': (), '_i26': 'g=[(i+2)**2 for i in range(10) ]\\n\\ng', '_26': [4, 9, 16, 25, 36, 49, 64, 81, 100, 121], '_i27': '#对生成器的访问除了上面的list()  tuple()之外，还可以用__next()__  next()来完成\\ng=(  (i+2)**1=2   )\\ng.__next__()', '_i28': '#对生成器的访问除了上面的list()  tuple()之外，还可以用__next()__  next()来完成\\ng=(  (i+2)**2  for i in range(10)   )\\ng.__next__()', '_28': 4, '_i29': 'g.__next__()', '_29': 9, '_i30': 'dir(g) #运算符重载...  java不支持 c++支持运算符重载\\n#  a=[1,2,3]\\n#  b=[3,4,5]\\n#  a>b', '_30': ['__class__', '__del__', '__delattr__', '__dir__', '__doc__', '__eq__', '__format__', '__ge__', '__getattribute__', '__gt__', '__hash__', '__init__', '__init_subclass__', '__iter__', '__le__', '__lt__', '__name__', '__ne__', '__new__', '__next__', '__qualname__', '__reduce__', '__reduce_ex__', '__repr__', '__setattr__', '__sizeof__', '__str__', '__subclasshook__', 'close', 'gi_code', 'gi_frame', 'gi_running', 'gi_yieldfrom', 'send', 'throw'], '_i31': 'next( g ) #g.__next__()', '_31': 16, '_i32': 'x=filter( lambda x:x<10 , range(20))\\nx', '_32': <filter object at 0x00000202F1DDA4A8>, '_i33': '5 in x', '_33': True, '_i34': 'print(list(x) ) ', '_i35': 'next(x)', '_i36': 'x=filter( lambda x:x<10 , range(20))\\nx', '_36': <filter object at 0x00000202F1DEF4A8>, '_i37': 'next(x)', '_37': 0, '_i38': 'x=map(str,range(20))\\nx', '_38': <map object at 0x00000202F1DEF908>, '_i39': 'x=map(str,range(20))\\nl=list(x)\\nl', 'l': ['0', '1', '2', '3', '4', '5', '6', '7', '8', '9', '10', '11', '12', '13', '14', '15', '16', '17', '18', '19'], '_39': ['0', '1', '2', '3', '4', '5', '6', '7', '8', '9', '10', '11', '12', '13', '14', '15', '16', '17', '18', '19'], '_i40': 'x=map(str,range(20))\\n0 in x', '_40': False, '_i41': \"x=map(str,range(20))\\n'0' in x\", '_41': True, '_i42': \"'''\\n1.无序可变的序列\\n2.（键：值，键：值，...）\\n3.键不可变的数\\n'''\", '_42': '\\n1.无序可变的序列\\n2.（键：值，键：值，...）\\n3.键不可变的数\\n', '_i43': '# python 内置函数： kernel  当前作用的全局变量和值\\nglobals()', '_43': {...}, '_i44': '#当前作用域中所有的局部变量和值\\nloacals()', '_i45': '#当前作用域中所有的局部变量和值\\nlocals()', '_45': {...}, '_i46': 'def test():\\n    #print(globals() )\\n    print(locals() )\\ntest()', 'test': <function test at 0x00000202F1EF6598>, '_i47': 'def test():\\n    print(globals() )\\n    print(locals() )\\ntest()'}\n",
      "{}\n"
     ]
    }
   ],
   "source": [
    "def test():\n",
    "    print(globals() )\n",
    "    print(locals() )\n",
    "test()"
   ]
  },
  {
   "cell_type": "code",
   "execution_count": 48,
   "metadata": {},
   "outputs": [
    {
     "data": {
      "text/plain": [
       "{'port': 1, 'server': 'localhost'}"
      ]
     },
     "execution_count": 48,
     "metadata": {},
     "output_type": "execute_result"
    }
   ],
   "source": [
    "#字典的创建与删除\n",
    "a={'server':'localhost','port':1}\n",
    "a"
   ]
  },
  {
   "cell_type": "code",
   "execution_count": 49,
   "metadata": {},
   "outputs": [
    {
     "data": {
      "text/plain": [
       "{}"
      ]
     },
     "execution_count": 49,
     "metadata": {},
     "output_type": "execute_result"
    }
   ],
   "source": [
    "a={}\n",
    "a"
   ]
  },
  {
   "cell_type": "code",
   "execution_count": 3,
   "metadata": {},
   "outputs": [
    {
     "data": {
      "text/plain": [
       "{1: 'a', 2: 'b', 3: 'c', 4: 'd'}"
      ]
     },
     "execution_count": 3,
     "metadata": {},
     "output_type": "execute_result"
    }
   ],
   "source": [
    "#dict()  函数来创建字典\n",
    "keys=[1,2,3,4]\n",
    "values=['a','b','c','d']\n",
    "a=dict(zip(keys,values) )\n",
    "a"
   ]
  },
  {
   "cell_type": "code",
   "execution_count": 53,
   "metadata": {},
   "outputs": [
    {
     "data": {
      "text/plain": [
       "{}"
      ]
     },
     "execution_count": 53,
     "metadata": {},
     "output_type": "execute_result"
    }
   ],
   "source": [
    "a=dict()\n",
    "a"
   ]
  },
  {
   "cell_type": "code",
   "execution_count": 54,
   "metadata": {},
   "outputs": [
    {
     "data": {
      "text/plain": [
       "{'age': 20, 'name': 'smith'}"
      ]
     },
     "execution_count": 54,
     "metadata": {},
     "output_type": "execute_result"
    }
   ],
   "source": [
    "a=dict(name='smith',age=20)\n",
    "a"
   ]
  },
  {
   "cell_type": "code",
   "execution_count": 56,
   "metadata": {},
   "outputs": [
    {
     "data": {
      "text/plain": [
       "{'age': None, 'name': None, 'sex': None}"
      ]
     },
     "execution_count": 56,
     "metadata": {},
     "output_type": "execute_result"
    }
   ],
   "source": [
    "#利用键集创建字典，值为None\n",
    "a=dict.fromkeys( ['name','age','sex'] )\n",
    "a"
   ]
  },
  {
   "cell_type": "code",
   "execution_count": 20,
   "metadata": {},
   "outputs": [
    {
     "data": {
      "text/plain": [
       "'zy'"
      ]
     },
     "execution_count": 20,
     "metadata": {},
     "output_type": "execute_result"
    }
   ],
   "source": [
    "#2.字典的访问  字典名['键名']\n",
    "a={'name':'zy','age':20,'sex':'male'}\n",
    "a['name']"
   ]
  },
  {
   "cell_type": "code",
   "execution_count": 58,
   "metadata": {},
   "outputs": [
    {
     "data": {
      "text/plain": [
       "'zy'"
      ]
     },
     "execution_count": 58,
     "metadata": {},
     "output_type": "execute_result"
    }
   ],
   "source": [
    "a.get('name')"
   ]
  },
  {
   "cell_type": "code",
   "execution_count": 22,
   "metadata": {},
   "outputs": [
    {
     "data": {
      "text/plain": [
       "'cn'"
      ]
     },
     "execution_count": 22,
     "metadata": {},
     "output_type": "execute_result"
    }
   ],
   "source": [
    "a.get('names','cn')  #   get('健名'，'默认')"
   ]
  },
  {
   "cell_type": "code",
   "execution_count": 62,
   "metadata": {
    "collapsed": true
   },
   "outputs": [],
   "source": [
    "a['scores']=[]"
   ]
  },
  {
   "cell_type": "code",
   "execution_count": 63,
   "metadata": {},
   "outputs": [
    {
     "data": {
      "text/plain": [
       "[80, 90]"
      ]
     },
     "execution_count": 63,
     "metadata": {},
     "output_type": "execute_result"
    }
   ],
   "source": [
    "a['scores'].append(80)\n",
    "a['scores'].append(90)\n",
    "a['scores']"
   ]
  },
  {
   "cell_type": "code",
   "execution_count": 64,
   "metadata": {},
   "outputs": [
    {
     "data": {
      "text/plain": [
       "dict_keys(['name', 'age', 'sex', 'scores'])"
      ]
     },
     "execution_count": 64,
     "metadata": {},
     "output_type": "execute_result"
    }
   ],
   "source": [
    "#循环读取键，值，所有元素\n",
    "a.keys()"
   ]
  },
  {
   "cell_type": "code",
   "execution_count": 65,
   "metadata": {},
   "outputs": [
    {
     "data": {
      "text/plain": [
       "dict_values(['zy', 20, 'male', [80, 90]])"
      ]
     },
     "execution_count": 65,
     "metadata": {},
     "output_type": "execute_result"
    }
   ],
   "source": [
    "a.values()"
   ]
  },
  {
   "cell_type": "code",
   "execution_count": 66,
   "metadata": {},
   "outputs": [
    {
     "data": {
      "text/plain": [
       "dict_items([('name', 'zy'), ('age', 20), ('sex', 'male'), ('scores', [80, 90])])"
      ]
     },
     "execution_count": 66,
     "metadata": {},
     "output_type": "execute_result"
    }
   ],
   "source": [
    "a.items()"
   ]
  },
  {
   "cell_type": "code",
   "execution_count": 67,
   "metadata": {},
   "outputs": [
    {
     "name": "stdout",
     "output_type": "stream",
     "text": [
      "name\n",
      "age\n",
      "sex\n",
      "scores\n"
     ]
    }
   ],
   "source": [
    "for k in a.keys():\n",
    "    print(k)"
   ]
  },
  {
   "cell_type": "code",
   "execution_count": 68,
   "metadata": {},
   "outputs": [
    {
     "name": "stdout",
     "output_type": "stream",
     "text": [
      "zy\n",
      "20\n",
      "male\n",
      "[80, 90]\n"
     ]
    }
   ],
   "source": [
    "for v in a.values():\n",
    "    print(v)"
   ]
  },
  {
   "cell_type": "code",
   "execution_count": 69,
   "metadata": {},
   "outputs": [
    {
     "name": "stdout",
     "output_type": "stream",
     "text": [
      "name zy\n",
      "age 20\n",
      "sex male\n",
      "scores [80, 90]\n"
     ]
    }
   ],
   "source": [
    "for k,v in a.items():   #解包\n",
    "    print(k,v)"
   ]
  },
  {
   "cell_type": "code",
   "execution_count": 5,
   "metadata": {},
   "outputs": [
    {
     "data": {
      "text/plain": [
       "{'age': 20, 'class': 'yc55', 'id': 2, 'name': 'zhangsan', 'sex': 'male'}"
      ]
     },
     "execution_count": 5,
     "metadata": {},
     "output_type": "execute_result"
    }
   ],
   "source": [
    "#字典中的值，批量添加与更新\n",
    "#字典.update(字典)\n",
    "a.update( {'id':2,'name':'zhangsan','class':'yc55'} )  # mongo数据\n",
    "a"
   ]
  },
  {
   "cell_type": "code",
   "execution_count": 6,
   "metadata": {},
   "outputs": [
    {
     "data": {
      "text/plain": [
       "{'age': 20, 'class': 'yc55', 'name': 'zhangsan', 'sex': 'male'}"
      ]
     },
     "execution_count": 6,
     "metadata": {},
     "output_type": "execute_result"
    }
   ],
   "source": [
    "#del的操作\n",
    "del a['id']\n",
    "a"
   ]
  },
  {
   "cell_type": "code",
   "execution_count": 7,
   "metadata": {},
   "outputs": [
    {
     "data": {
      "text/plain": [
       "{'class': 'yc55', 'name': 'zhangsan', 'sex': 'male'}"
      ]
     },
     "execution_count": 7,
     "metadata": {},
     "output_type": "execute_result"
    }
   ],
   "source": [
    "a.pop('age')\n",
    "a"
   ]
  },
  {
   "cell_type": "code",
   "execution_count": 8,
   "metadata": {},
   "outputs": [
    {
     "data": {
      "text/plain": [
       "('class', 'yc55')"
      ]
     },
     "execution_count": 8,
     "metadata": {},
     "output_type": "execute_result"
    }
   ],
   "source": [
    "a.popitem()   #dict  栈"
   ]
  },
  {
   "cell_type": "code",
   "execution_count": 9,
   "metadata": {},
   "outputs": [
    {
     "data": {
      "text/plain": [
       "{'name': 'zhangsan', 'sex': 'male'}"
      ]
     },
     "execution_count": 9,
     "metadata": {},
     "output_type": "execute_result"
    }
   ],
   "source": [
    "a"
   ]
  },
  {
   "cell_type": "code",
   "execution_count": 10,
   "metadata": {},
   "outputs": [
    {
     "data": {
      "text/plain": [
       "{}"
      ]
     },
     "execution_count": 10,
     "metadata": {},
     "output_type": "execute_result"
    }
   ],
   "source": [
    "a.clear()\n",
    "a"
   ]
  },
  {
   "cell_type": "code",
   "execution_count": null,
   "metadata": {
    "collapsed": true
   },
   "outputs": [],
   "source": []
  }
 ],
 "metadata": {
  "kernelspec": {
   "display_name": "Python 3",
   "language": "python",
   "name": "python3"
  },
  "language_info": {
   "codemirror_mode": {
    "name": "ipython",
    "version": 3
   },
   "file_extension": ".py",
   "mimetype": "text/x-python",
   "name": "python",
   "nbconvert_exporter": "python",
   "pygments_lexer": "ipython3",
   "version": "3.6.2"
  }
 },
 "nbformat": 4,
 "nbformat_minor": 2
}
