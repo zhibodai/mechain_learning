{
 "cells": [
  {
   "cell_type": "code",
   "execution_count": 1,
   "metadata": {
    "collapsed": true
   },
   "outputs": [],
   "source": [
    "#创建一个涉及影评者及其对几部影片评分情况的字典\n",
    "critics={'Lisa Rose': {'Lady in the Water': 2.5, 'Snakes on a Plane': 3.5,\n",
    " 'Just My Luck': 3.0, 'Superman Returns': 3.5, 'You, Me and Dupree': 2.5, \n",
    " 'The Night Listener': 3.0},\n",
    "'Gene Seymour': {'Lady in the Water': 3.0, 'Snakes on a Plane': 3.5, \n",
    " 'Just My Luck': 1.5, 'Superman Returns': 5.0, 'The Night Listener': 3.0, \n",
    " 'You, Me and Dupree': 3.5}, \n",
    "'Michael Phillips': {'Lady in the Water': 2.5, 'Snakes on a Plane': 3.0,\n",
    " 'Superman Returns': 3.5, 'The Night Listener': 4.0},\n",
    "'Claudia Puig': {'Snakes on a Plane': 3.5, 'Just My Luck': 3.0,\n",
    " 'The Night Listener': 4.5, 'Superman Returns': 4.0, \n",
    " 'You, Me and Dupree': 2.5},\n",
    "'Mick LaSalle': {'Lady in the Water': 3.0, 'Snakes on a Plane': 4.0, \n",
    " 'Just My Luck': 2.0, 'Superman Returns': 3.0, 'The Night Listener': 3.0,\n",
    " 'You, Me and Dupree': 2.0}, \n",
    "'Jack Matthews': {'Lady in the Water': 3.0, 'Snakes on a Plane': 4.0,\n",
    " 'The Night Listener': 3.0, 'Superman Returns': 5.0, 'You, Me and Dupree': 3.5},\n",
    "'Toby': {'Snakes on a Plane':4.5,'You, Me and Dupree':1.0,'Superman Returns':4.0}}"
   ]
  },
  {
   "cell_type": "code",
   "execution_count": 2,
   "metadata": {},
   "outputs": [
    {
     "data": {
      "text/plain": [
       "2.5"
      ]
     },
     "execution_count": 2,
     "metadata": {},
     "output_type": "execute_result"
    }
   ],
   "source": [
    "critics['Lisa Rose']['Lady in the Water']"
   ]
  },
  {
   "cell_type": "code",
   "execution_count": 3,
   "metadata": {},
   "outputs": [
    {
     "data": {
      "text/plain": [
       "1.118033988749895"
      ]
     },
     "execution_count": 3,
     "metadata": {},
     "output_type": "execute_result"
    }
   ],
   "source": [
    "#相似度评价：欧几里得距离及皮尔逊相关度\n",
    "#欧几里得距离：以经人们一致评价的物品作为坐标轴  然后将参与评价的人绘制到图上，并考查他们彼此之间的距离\n",
    "#算法  将每部电影的评分当成平面坐标系的一个值  计算出每一个轴向上两个人评分的差值  求平方再相加  最后对总和取平方根\n",
    "from math import sqrt\n",
    "sqrt(pow(4.5-4.0,2)+pow(1.0-2.0,2))"
   ]
  },
  {
   "cell_type": "code",
   "execution_count": 4,
   "metadata": {},
   "outputs": [
    {
     "data": {
      "text/plain": [
       "0.4721359549995794"
      ]
     },
     "execution_count": 4,
     "metadata": {},
     "output_type": "execute_result"
    }
   ],
   "source": [
    "#将以上的算法转换一下  取倒数 这样算出来在0-1之间  1表示一样 0表示完全不同  另外为了防止 除数为0  平凡根后加1\n",
    "1/(1+sqrt(pow(4.5-4.0,2)+pow(1.0-2.0,2)))"
   ]
  },
  {
   "cell_type": "code",
   "execution_count": 5,
   "metadata": {
    "collapsed": true
   },
   "outputs": [],
   "source": [
    "#获取2个用户共同的平分项\n",
    "def getSameItem(prefs,person1,person2):\n",
    "    shared_items={}\n",
    "    \n",
    "    for item in prefs[person1]:\n",
    "        if item in prefs[person2]:\n",
    "            shared_items[item]=1    #  shared_item[电影名:1,电影名:1..]\n",
    "    return shared_items"
   ]
  },
  {
   "cell_type": "code",
   "execution_count": 6,
   "metadata": {},
   "outputs": [
    {
     "data": {
      "text/plain": [
       "{'Just My Luck': 1,\n",
       " 'Lady in the Water': 1,\n",
       " 'Snakes on a Plane': 1,\n",
       " 'Superman Returns': 1,\n",
       " 'The Night Listener': 1,\n",
       " 'You, Me and Dupree': 1}"
      ]
     },
     "execution_count": 6,
     "metadata": {},
     "output_type": "execute_result"
    }
   ],
   "source": [
    "getSameItem(critics,'Lisa Rose','Gene Seymour')"
   ]
  },
  {
   "cell_type": "code",
   "execution_count": 7,
   "metadata": {
    "collapsed": true
   },
   "outputs": [],
   "source": [
    "#将上面的算法封装一下  用于返回用户person1与person2的相似度评价值  prefs就是  评分列表critics\n",
    "def sim_Euclid(prefs,person1,person2):\n",
    "    #首选得到共同的评分列表\n",
    "    shared_items=getSameItem(prefs,person1,person2)\n",
    "    #如果2个人没有共同处  则返回0  表示完全不同\n",
    "    if(len(shared_items)==0):\n",
    "        return 0\n",
    "    #有相同点\n",
    "    sum_of_squares=sum([pow(prefs[person1][item]-prefs[person2][item],2) for item in prefs[person1] if item in prefs[person2]])\n",
    "    return 1/(1+sqrt(sum_of_squares))"
   ]
  },
  {
   "cell_type": "code",
   "execution_count": 8,
   "metadata": {},
   "outputs": [
    {
     "data": {
      "text/plain": [
       "0.29429805508554946"
      ]
     },
     "execution_count": 8,
     "metadata": {},
     "output_type": "execute_result"
    }
   ],
   "source": [
    "#调用函数  计算 相似度\n",
    "sim_Euclid(critics,'Lisa Rose','Gene Seymour')"
   ]
  },
  {
   "cell_type": "code",
   "execution_count": 9,
   "metadata": {
    "collapsed": true
   },
   "outputs": [],
   "source": [
    "import numpy as np\n",
    "def sim_Manhantan(prefs,person1,person2):\n",
    "    #首选得到共同的评分列表\n",
    "    shared_items=getSameItem(prefs,person1,person2)\n",
    "    #如果2个人没有共同处  则返回0  表示完全不同\n",
    "    if(len(shared_items)==0):\n",
    "        return 0\n",
    "    #有相同点\n",
    "    sum_of_squares=sum([abs(prefs[person1][item]-prefs[person2][item]) for item in prefs[person1] if item in prefs[person2]])\n",
    "    return 1/(1+sum_of_squares)"
   ]
  },
  {
   "cell_type": "code",
   "execution_count": 10,
   "metadata": {},
   "outputs": [
    {
     "data": {
      "text/plain": [
       "0.18181818181818182"
      ]
     },
     "execution_count": 10,
     "metadata": {},
     "output_type": "execute_result"
    }
   ],
   "source": [
    "sim_Manhantan(critics,'Lisa Rose','Gene Seymour')"
   ]
  },
  {
   "cell_type": "code",
   "execution_count": 11,
   "metadata": {
    "collapsed": true
   },
   "outputs": [],
   "source": [
    "#皮尔逊相关度：判断两组数据与某一直线的吻合程度的一种度量，在数据不是很规范的时候效果比较好\n",
    "#原理：绘制一条最佳拟合线，如果2位评分对所有的电影评分相同则直线为对角线  从而得到一个理想值为1的理想评价值\n",
    "#皮尔逊相关度可以修正夸大分值的情况，如果某人总倾向于给出比另一个人更高的分值，最终的直线任会是拟合的，因为他们有着相对近似的偏好如果某人\n",
    "#总是倾向于给出另一个人更高的分值  而二者的分值之差又始终保持一致，则他们仍然可能存在好的相关性      欧几里得则会得到不相似的结论\n",
    "\n",
    "def sim_pearson(prefs,person1,person2):\n",
    "    #首先得到共同的评分项列表\n",
    "    shared_items=getSameItem(prefs,person1,person2)\n",
    "    #如果2个人没有共同处  则返回0  表示完全不同\n",
    "    if(len(shared_items)==0):\n",
    "        return 0\n",
    "    \n",
    "    n=len(shared_items)\n",
    "    \n",
    "    #对所有的偏好求和\n",
    "    sum1=sum([prefs[person1][item] for item in shared_items])\n",
    "    sum2=sum([prefs[person2][item] for item in shared_items])\n",
    "    \n",
    "    #求平方和\n",
    "    sum1Sqrt=sum([pow(prefs[person1][item],2) for item in shared_items])\n",
    "    sum2Sqrt=sum([pow(prefs[person2][item],2) for item in shared_items])\n",
    "    \n",
    "    #求评分的乘积之和\n",
    "    pSum=sum(  [prefs[person1][item]*prefs[person2][item] for item in shared_items]   )\n",
    "    \n",
    "    #计算皮尔逊相关度\n",
    "    num=pSum-(sum1*sum2/n)\n",
    "    den=sqrt(  (sum1Sqrt-pow(sum1,2)/n)*(sum2Sqrt-pow(sum2,2)/n) )\n",
    "    if(den==0):\n",
    "        return 0\n",
    "    r=num/den\n",
    "    return r"
   ]
  },
  {
   "cell_type": "code",
   "execution_count": 12,
   "metadata": {},
   "outputs": [
    {
     "data": {
      "text/plain": [
       "0.39605901719066977"
      ]
     },
     "execution_count": 12,
     "metadata": {},
     "output_type": "execute_result"
    }
   ],
   "source": [
    "sim_pearson(critics,'Lisa Rose','Gene Seymour')"
   ]
  },
  {
   "cell_type": "code",
   "execution_count": 21,
   "metadata": {
    "collapsed": true
   },
   "outputs": [],
   "source": [
    "def topMatches(prefs,person,n=5,similarity=sim_Euclid):\n",
    "    #利用python\n",
    "    scores=[(similarity(prefs,person,other),other)\n",
    "           for other in prefs if other!=person]\n",
    "    #排序\n",
    "    scores.sort()\n",
    "    scores.reverse()\n",
    "    return scores[0:n]"
   ]
  },
  {
   "cell_type": "code",
   "execution_count": 22,
   "metadata": {},
   "outputs": [
    {
     "data": {
      "text/plain": [
       "[(0.4, 'Mick LaSalle'),\n",
       " (0.38742588672279304, 'Michael Phillips'),\n",
       " (0.3567891723253309, 'Claudia Puig'),\n",
       " (0.3483314773547883, 'Lisa Rose')]"
      ]
     },
     "execution_count": 22,
     "metadata": {},
     "output_type": "execute_result"
    }
   ],
   "source": [
    "#测试\n",
    "topMatches(critics,'Toby',n=4)"
   ]
  },
  {
   "cell_type": "code",
   "execution_count": 16,
   "metadata": {
    "collapsed": true
   },
   "outputs": [],
   "source": [
    "'''\n",
    "目标：推荐物品\n",
    "现在我们已经找到趣味相投的影评人 但我们需要的是一份影片推荐\n",
    "我们也可以查找与自己品味最相近的人  并从他所喜欢的影片中找出一部自己没看过的影片\n",
    "但这样太随意   比如  评论者还没对影片做出评论  而这些影片就是我所喜欢的\n",
    "另外一种方案  我们找到一个热衷某部影片的评论者 但其他评论者都不喜欢\n",
    "\n",
    "\n",
    "解决方案 使用一个经过加权的评价值为影片打分   评论者的评分结果因此成了先后的排名\n",
    "为toby推荐\n",
    "#评论者         相似度     电影the Night  listener评分   加权后的评分    \n",
    " Rose           0.99         3.0                             2.97\n",
    " lasalle        0.92         3.0                             2.77\n",
    "#总计                                                        5.74\n",
    "#评价过这部影片所有人的相似度之和                            1.91\n",
    "#总计/评价过这部影片所有人的相似度之和                       5.74/1.91=3.0\n",
    "\n",
    "利用所有他人评价值的加权平均  为某人提供建议(相似度较高的人打分有更高的影响力)\n",
    "'''\n",
    "def getRecommendations(prefs,person, similarity=sim_Euclid):\n",
    "    totals={}   #加权评分的总和   格式:{电影名:加权评分总分}\n",
    "    simSums={} #相似度之和   如果没有打分的话则这2个人的相似度也不会累加\n",
    "    for other in prefs:\n",
    "        #不要和自己比较\n",
    "        if other ==person:\n",
    "            continue\n",
    "        sim=similarity(prefs,person,other)\n",
    "        #如果相似度为0或者小于0  则直接忽略  \n",
    "        if sim<=0:\n",
    "            continue\n",
    "        for item in prefs[other]:\n",
    "            #只对自己还没看过的电影评价\n",
    "            if item not in prefs[person] or prefs[person][item]==0:\n",
    "                #相似度 * 评价值\n",
    "                totals.setdefault(item,0)\n",
    "                totals[item]+=prefs[other][item]*sim\n",
    "                #相似度之和\n",
    "                simSums.setdefault(item,0)\n",
    "                simSums[item]+=sim\n",
    "    \n",
    "    #建立一个归一化的列表，格式  [(评分，项目)，(评分,项目)]\n",
    "    rankings=[(total/simSums[item],item) for item,total in totals.items()]\n",
    "    \n",
    "    #返回经过排序的列表\n",
    "    rankings.sort()\n",
    "    rankings.reverse()\n",
    "    return rankings"
   ]
  },
  {
   "cell_type": "code",
   "execution_count": 17,
   "metadata": {},
   "outputs": [
    {
     "data": {
      "text/plain": [
       "[(3.457128694491423, 'The Night Listener'),\n",
       " (2.778584003814924, 'Lady in the Water'),\n",
       " (2.422482042361917, 'Just My Luck')]"
      ]
     },
     "execution_count": 17,
     "metadata": {},
     "output_type": "execute_result"
    }
   ],
   "source": [
    "#测试 toby\n",
    "getRecommendations(critics,'Toby')"
   ]
  },
  {
   "cell_type": "code",
   "execution_count": 18,
   "metadata": {},
   "outputs": [
    {
     "data": {
      "text/plain": [
       "[(3.3477895267131017, 'The Night Listener'),\n",
       " (2.8325499182641614, 'Lady in the Water'),\n",
       " (2.530980703765565, 'Just My Luck')]"
      ]
     },
     "execution_count": 18,
     "metadata": {},
     "output_type": "execute_result"
    }
   ],
   "source": [
    "getRecommendations(critics,'Toby',similarity=sim_pearson)"
   ]
  },
  {
   "cell_type": "markdown",
   "metadata": {},
   "source": [
    "###### 转换思维  把商品推荐给潜在的用户"
   ]
  },
  {
   "cell_type": "code",
   "execution_count": 19,
   "metadata": {
    "collapsed": true
   },
   "outputs": [],
   "source": [
    "#定义一个函数  转换上面的  critics\n",
    "def transformPrefs(prefs):\n",
    "    result={}\n",
    "    for person in prefs:\n",
    "        for item in prefs[person]:\n",
    "            result.setdefault(item,{})\n",
    "            #将物品与人互相转换\n",
    "            result[item][person]=prefs[person][item]\n",
    "    return result"
   ]
  },
  {
   "cell_type": "code",
   "execution_count": 23,
   "metadata": {},
   "outputs": [
    {
     "name": "stdout",
     "output_type": "stream",
     "text": [
      "{'Lady in the Water': {'Lisa Rose': 2.5, 'Gene Seymour': 3.0, 'Michael Phillips': 2.5, 'Mick LaSalle': 3.0, 'Jack Matthews': 3.0}, 'Snakes on a Plane': {'Lisa Rose': 3.5, 'Gene Seymour': 3.5, 'Michael Phillips': 3.0, 'Claudia Puig': 3.5, 'Mick LaSalle': 4.0, 'Jack Matthews': 4.0, 'Toby': 4.5}, 'Just My Luck': {'Lisa Rose': 3.0, 'Gene Seymour': 1.5, 'Claudia Puig': 3.0, 'Mick LaSalle': 2.0}, 'Superman Returns': {'Lisa Rose': 3.5, 'Gene Seymour': 5.0, 'Michael Phillips': 3.5, 'Claudia Puig': 4.0, 'Mick LaSalle': 3.0, 'Jack Matthews': 5.0, 'Toby': 4.0}, 'You, Me and Dupree': {'Lisa Rose': 2.5, 'Gene Seymour': 3.5, 'Claudia Puig': 2.5, 'Mick LaSalle': 2.0, 'Jack Matthews': 3.5, 'Toby': 1.0}, 'The Night Listener': {'Lisa Rose': 3.0, 'Gene Seymour': 3.0, 'Michael Phillips': 4.0, 'Claudia Puig': 4.5, 'Mick LaSalle': 3.0, 'Jack Matthews': 3.0}}\n"
     ]
    },
    {
     "data": {
      "text/plain": [
       "[(0.3090169943749474, 'Snakes on a Plane'),\n",
       " (0.252650308587072, 'The Night Listener'),\n",
       " (0.2402530733520421, 'Lady in the Water'),\n",
       " (0.20799159651347807, 'Just My Luck'),\n",
       " (0.1918253663634734, 'You, Me and Dupree')]"
      ]
     },
     "execution_count": 23,
     "metadata": {},
     "output_type": "execute_result"
    }
   ],
   "source": [
    "#求一组与 ‘superman’最为相近的影片\n",
    "movies=transformPrefs(critics)\n",
    "print(movies)\n",
    "topMatches(movies,'Superman Returns')"
   ]
  },
  {
   "cell_type": "code",
   "execution_count": 24,
   "metadata": {},
   "outputs": [
    {
     "data": {
      "text/plain": [
       "[(3.581097064761866, 'Jack Matthews'),\n",
       " (3.2059731906295044, 'Michael Phillips'),\n",
       " (2.936629402844435, 'Toby')]"
      ]
     },
     "execution_count": 24,
     "metadata": {},
     "output_type": "execute_result"
    }
   ],
   "source": [
    "#需求二：还可以为影片推荐评论者\n",
    "getRecommendations(movies,'Just My Luck')"
   ]
  },
  {
   "cell_type": "code",
   "execution_count": 25,
   "metadata": {
    "collapsed": true
   },
   "outputs": [],
   "source": [
    "#构造物品比较数据集：构建一个包含相近物品的完整数据集  这个工作是一次性的\n",
    "def calculateSimilarItems(prefs,n=10):\n",
    "    #建立字典 给出与这些物品最相近似的所有其他物品\n",
    "    result={}\n",
    "    #以物品为中心对偏好矩阵实施倒置处理  得到有关物品及其用户评价情况的列表\n",
    "    itemPrefs=transformPrefs(prefs)\n",
    "    c=0\n",
    "    #循环遍历每项物品  将转换的字典传入topMatches  函数中 求最相近的物品相似度 评分\n",
    "    for item in itemPrefs:\n",
    "        c+=1\n",
    "        if c%100:\n",
    "            print('第%d个/共%d个'%(c,len(itemPrefs) ) )\n",
    "        scores=topMatches(itemPrefs,item,n=n,similarity=sim_pearson)\n",
    "        result[item]=scores\n",
    "    return result"
   ]
  },
  {
   "cell_type": "code",
   "execution_count": 26,
   "metadata": {},
   "outputs": [
    {
     "name": "stdout",
     "output_type": "stream",
     "text": [
      "第1个/共6个\n",
      "第2个/共6个\n",
      "第3个/共6个\n",
      "第4个/共6个\n",
      "第5个/共6个\n",
      "第6个/共6个\n"
     ]
    },
    {
     "data": {
      "text/plain": [
       "{'Just My Luck': [(0.5555555555555556, 'The Night Listener'),\n",
       "  (-0.3333333333333333, 'Snakes on a Plane'),\n",
       "  (-0.42289003161103106, 'Superman Returns'),\n",
       "  (-0.4856618642571827, 'You, Me and Dupree'),\n",
       "  (-0.9449111825230676, 'Lady in the Water')],\n",
       " 'Lady in the Water': [(0.7637626158259785, 'Snakes on a Plane'),\n",
       "  (0.4879500364742689, 'Superman Returns'),\n",
       "  (0.3333333333333333, 'You, Me and Dupree'),\n",
       "  (-0.6123724356957927, 'The Night Listener'),\n",
       "  (-0.9449111825230676, 'Just My Luck')],\n",
       " 'Snakes on a Plane': [(0.7637626158259785, 'Lady in the Water'),\n",
       "  (0.11180339887498941, 'Superman Returns'),\n",
       "  (-0.3333333333333333, 'Just My Luck'),\n",
       "  (-0.5663521139548527, 'The Night Listener'),\n",
       "  (-0.6454972243679047, 'You, Me and Dupree')],\n",
       " 'Superman Returns': [(0.6579516949597695, 'You, Me and Dupree'),\n",
       "  (0.4879500364742689, 'Lady in the Water'),\n",
       "  (0.11180339887498941, 'Snakes on a Plane'),\n",
       "  (-0.1798471947990544, 'The Night Listener'),\n",
       "  (-0.42289003161103106, 'Just My Luck')],\n",
       " 'The Night Listener': [(0.5555555555555556, 'Just My Luck'),\n",
       "  (-0.1798471947990544, 'Superman Returns'),\n",
       "  (-0.250000000000002, 'You, Me and Dupree'),\n",
       "  (-0.5663521139548527, 'Snakes on a Plane'),\n",
       "  (-0.6123724356957927, 'Lady in the Water')],\n",
       " 'You, Me and Dupree': [(0.6579516949597695, 'Superman Returns'),\n",
       "  (0.3333333333333333, 'Lady in the Water'),\n",
       "  (-0.250000000000002, 'The Night Listener'),\n",
       "  (-0.4856618642571827, 'Just My Luck'),\n",
       "  (-0.6454972243679047, 'Snakes on a Plane')]}"
      ]
     },
     "execution_count": 26,
     "metadata": {},
     "output_type": "execute_result"
    }
   ],
   "source": [
    "#创建物品的相似度数据集\n",
    "itemsim=calculateSimilarItems(critics)\n",
    "itemsim"
   ]
  },
  {
   "cell_type": "code",
   "execution_count": 27,
   "metadata": {
    "collapsed": true
   },
   "outputs": [],
   "source": [
    "def getRecommendItems(prefs,itemMatch,user):\n",
    "    userRatings=prefs[user]  #取出用户评分\n",
    "    totalSim={}   \n",
    "    scores={}\n",
    "    #循环遍历当前用户评分的物品\n",
    "    for (item,rating) in userRatings.items():\n",
    "        #循环与当前物品item相似的物品\n",
    "        for (similarity,item2) in itemMatch[item]:\n",
    "            #如果这个物品用户已经有过了  跳过\n",
    "            if item2 in userRatings:\n",
    "                continue\n",
    "            #评论值与相似度的加权计算\n",
    "            scores.setdefault(item2,0)\n",
    "            scores[item2]+=similarity*rating\n",
    "            #全部相似度之和\n",
    "            totalSim.setdefault(item2,0)\n",
    "            totalSim[item2]+=similarity\n",
    "    rankings=[ (score/totalSim[item],item) for item,score in scores.items()]\n",
    "    rankings.sort()\n",
    "    rankings.reverse()\n",
    "    return rankings"
   ]
  },
  {
   "cell_type": "code",
   "execution_count": 28,
   "metadata": {},
   "outputs": [
    {
     "data": {
      "text/plain": [
       "[(3.610031066802183, 'Lady in the Water'),\n",
       " (3.5313950341859766, 'The Night Listener'),\n",
       " (2.960999860724268, 'Just My Luck')]"
      ]
     },
     "execution_count": 28,
     "metadata": {},
     "output_type": "execute_result"
    }
   ],
   "source": [
    "getRecommendItems(critics,itemsim,'Toby')"
   ]
  },
  {
   "cell_type": "code",
   "execution_count": null,
   "metadata": {
    "collapsed": true
   },
   "outputs": [],
   "source": []
  }
 ],
 "metadata": {
  "kernelspec": {
   "display_name": "Python 3",
   "language": "python",
   "name": "python3"
  },
  "language_info": {
   "codemirror_mode": {
    "name": "ipython",
    "version": 3
   },
   "file_extension": ".py",
   "mimetype": "text/x-python",
   "name": "python",
   "nbconvert_exporter": "python",
   "pygments_lexer": "ipython3",
   "version": "3.6.2"
  }
 },
 "nbformat": 4,
 "nbformat_minor": 2
}
