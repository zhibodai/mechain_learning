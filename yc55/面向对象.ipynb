{
 "cells": [
  {
   "cell_type": "code",
   "execution_count": 6,
   "metadata": {},
   "outputs": [
    {
     "name": "stdout",
     "output_type": "stream",
     "text": [
      "这是一辆车...\n"
     ]
    }
   ],
   "source": [
    "#定义一个类 car\n",
    "class Car:\n",
    "    #成员方法\n",
    "    def infor(self):\n",
    "        print('这是一辆车...')\n",
    "car=Car()\n",
    "car.infor()"
   ]
  },
  {
   "cell_type": "code",
   "execution_count": 8,
   "metadata": {},
   "outputs": [
    {
     "name": "stdout",
     "output_type": "stream",
     "text": [
      "True\n",
      "False\n"
     ]
    }
   ],
   "source": [
    "#使用内置函数来判断这些类型\n",
    "print( isinstance(car,Car))\n",
    "print( isinstance(car,str))\n"
   ]
  },
  {
   "cell_type": "code",
   "execution_count": 9,
   "metadata": {
    "collapsed": true
   },
   "outputs": [],
   "source": [
    "#可以使用pass 来表达空语句\n",
    "class A:\n",
    "    pass\n",
    "\n",
    "class B:\n",
    "    pass\n",
    "def c():\n",
    "    pass\n",
    "\n",
    "if 5>3:\n",
    "    pass"
   ]
  },
  {
   "cell_type": "code",
   "execution_count": 15,
   "metadata": {},
   "outputs": [
    {
     "name": "stdout",
     "output_type": "stream",
     "text": [
      "您的名字： abc\n",
      "您的名字： zy\n"
     ]
    }
   ],
   "source": [
    "#self相当于java中对象中的this，表示指向对象自身的引用\n",
    "#在python中  实例方法的第一个参数必须是self\n",
    "\n",
    "class TestA:\n",
    "    def __init__(self,v): #__init__(self,...)   构造方法，由于python运行环境来调用\n",
    "        self.value=v  #this.value=v\n",
    "        print('您的名字：',self.value)\n",
    "    def show(b,name):  #self 的名字不一定要是self，但这个方法第一个参数一定是要self\n",
    "        b.name=name\n",
    "        print('您的名字：',b.name)\n",
    "        \n",
    "aa=TestA('abc')\n",
    "aa.show('zy')\n"
   ]
  },
  {
   "cell_type": "code",
   "execution_count": 18,
   "metadata": {},
   "outputs": [
    {
     "name": "stdout",
     "output_type": "stream",
     "text": [
      "red 10000 10000\n"
     ]
    }
   ],
   "source": [
    "#属性：实例属性（由对象名调用）  类属性（静态属性 static）\n",
    "class Car:\n",
    "    price=10000  #类属性\n",
    "    def __init__(self,v):\n",
    "        self.color=v\n",
    "        \n",
    "c1=Car('red')\n",
    "print(c1.color,c1.price,Car.price)  #  静态属性可以由对象名调用  也可以由类名直接调用\n",
    "# print(Car.color)  错误"
   ]
  },
  {
   "cell_type": "code",
   "execution_count": 19,
   "metadata": {},
   "outputs": [
    {
     "name": "stdout",
     "output_type": "stream",
     "text": [
      "上海大众\n"
     ]
    }
   ],
   "source": [
    "# 动态添加的属性\n",
    "Car.name='上海大众'  #添加了一个静态属性\n",
    "print(Car.name)"
   ]
  },
  {
   "cell_type": "code",
   "execution_count": 20,
   "metadata": {},
   "outputs": [
    {
     "name": "stdout",
     "output_type": "stream",
     "text": [
      "上海大众\n"
     ]
    }
   ],
   "source": [
    "print(c1.name)"
   ]
  },
  {
   "cell_type": "code",
   "execution_count": 22,
   "metadata": {},
   "outputs": [
    {
     "name": "stdout",
     "output_type": "stream",
     "text": [
      "100\n"
     ]
    },
    {
     "ename": "AttributeError",
     "evalue": "'Car' object has no attribute 'gas'",
     "output_type": "error",
     "traceback": [
      "\u001b[1;31m---------------------------------------------------------------------------\u001b[0m",
      "\u001b[1;31mAttributeError\u001b[0m                            Traceback (most recent call last)",
      "\u001b[1;32m<ipython-input-22-1076d1eb0a07>\u001b[0m in \u001b[0;36m<module>\u001b[1;34m()\u001b[0m\n\u001b[0;32m      2\u001b[0m \u001b[0mprint\u001b[0m\u001b[1;33m(\u001b[0m\u001b[0mc1\u001b[0m\u001b[1;33m.\u001b[0m\u001b[0mgas\u001b[0m\u001b[1;33m)\u001b[0m   \u001b[1;31m#动态添加的实例属性只能由它本身去调用  类名 或者其他对象都不能调用\u001b[0m\u001b[1;33m\u001b[0m\u001b[0m\n\u001b[0;32m      3\u001b[0m \u001b[0mc2\u001b[0m\u001b[1;33m=\u001b[0m\u001b[0mCar\u001b[0m\u001b[1;33m(\u001b[0m\u001b[1;34m'bule'\u001b[0m\u001b[1;33m)\u001b[0m\u001b[1;33m\u001b[0m\u001b[0m\n\u001b[1;32m----> 4\u001b[1;33m \u001b[0mprint\u001b[0m\u001b[1;33m(\u001b[0m\u001b[0mc2\u001b[0m\u001b[1;33m.\u001b[0m\u001b[0mgas\u001b[0m\u001b[1;33m)\u001b[0m\u001b[1;33m\u001b[0m\u001b[0m\n\u001b[0m",
      "\u001b[1;31mAttributeError\u001b[0m: 'Car' object has no attribute 'gas'"
     ]
    }
   ],
   "source": [
    "c1.gas=100   #动态添加实例属性\n",
    "print(c1.gas)   #动态添加的实例属性只能由它本身去调用  类名 或者其他对象都不能调用\n",
    "c2=Car('bule')\n",
    "print(c2.gas)"
   ]
  },
  {
   "cell_type": "code",
   "execution_count": 25,
   "metadata": {},
   "outputs": [
    {
     "name": "stdout",
     "output_type": "stream",
     "text": [
      "150\n"
     ]
    },
    {
     "ename": "AttributeError",
     "evalue": "'Car' object has no attribute 'setSpeed2'",
     "output_type": "error",
     "traceback": [
      "\u001b[1;31m---------------------------------------------------------------------------\u001b[0m",
      "\u001b[1;31mAttributeError\u001b[0m                            Traceback (most recent call last)",
      "\u001b[1;32m<ipython-input-25-a7e0c4b161e6>\u001b[0m in \u001b[0;36m<module>\u001b[1;34m()\u001b[0m\n\u001b[0;32m     15\u001b[0m \u001b[1;33m\u001b[0m\u001b[0m\n\u001b[0;32m     16\u001b[0m \u001b[1;31m#c2是无法调用这个方法的\u001b[0m\u001b[1;33m\u001b[0m\u001b[1;33m\u001b[0m\u001b[0m\n\u001b[1;32m---> 17\u001b[1;33m \u001b[0mc2\u001b[0m\u001b[1;33m.\u001b[0m\u001b[0msetSpeed2\u001b[0m\u001b[1;33m(\u001b[0m\u001b[1;36m150\u001b[0m\u001b[1;33m)\u001b[0m\u001b[1;33m\u001b[0m\u001b[0m\n\u001b[0m\u001b[0;32m     18\u001b[0m \u001b[0mprint\u001b[0m\u001b[1;33m(\u001b[0m\u001b[0mc2\u001b[0m\u001b[1;33m.\u001b[0m\u001b[0mspeed\u001b[0m\u001b[1;33m)\u001b[0m\u001b[1;33m\u001b[0m\u001b[0m\n",
      "\u001b[1;31mAttributeError\u001b[0m: 'Car' object has no attribute 'setSpeed2'"
     ]
    }
   ],
   "source": [
    "#动态添加方法\n",
    "import types\n",
    "\n",
    "#定义一个函数\n",
    "def setSpeed(self,value):\n",
    "    self.speed=value\n",
    "    \n",
    "# MethodType作用，是将  一个方法绑定一个对象  类似java反射\n",
    "c1.setSpeed2=types.MethodType(setSpeed,c1) # 给c1对象里面添加setSpeed方法\n",
    "#下面调用的方法 setSpeed2\n",
    "c1.setSpeed2(150)\n",
    "\n",
    "print(c1.speed)\n",
    "\n",
    "\n",
    "#c2是无法调用这个方法的\n",
    "c2.setSpeed2(150)\n",
    "print(c2.speed)"
   ]
  },
  {
   "cell_type": "code",
   "execution_count": 29,
   "metadata": {},
   "outputs": [
    {
     "name": "stdout",
     "output_type": "stream",
     "text": [
      "代智博 唱歌\n",
      "代智博 走路\n"
     ]
    }
   ],
   "source": [
    "class Person:\n",
    "    def __init__(self,name):\n",
    "        self.name=name\n",
    "    def sing(self):\n",
    "        print(self.name,'唱歌')\n",
    "    \n",
    "def walk(self):\n",
    "    print(self.name,\"走路\")\n",
    "\n",
    "    \n",
    "p1=Person('代智博')\n",
    "p1.sing()\n",
    "p1.walk=types.MethodType(walk,p1)\n",
    "p1.walk()"
   ]
  },
  {
   "cell_type": "code",
   "execution_count": 1,
   "metadata": {},
   "outputs": [
    {
     "data": {
      "text/plain": [
       "\"\\n_xxx:受保护成员，不能用'from module import *导入'\\n__xxx__:系统定义的特殊成员；__init__()  __call__()  python的编译器调用  回调函数\\n___xxx:私有成员，只有类对象自己能访问，子类对象不能直接访问到这个成员，但在对象外部可以通过'对象名.__类名__xxx'这样的特殊方式访问\\n\""
      ]
     },
     "execution_count": 1,
     "metadata": {},
     "output_type": "execute_result"
    }
   ],
   "source": [
    "'''\n",
    "_xxx:受保护成员，不能用'from module import *导入'\n",
    "__xxx__:系统定义的特殊成员；__init__()  __call__()  python的编译器调用  回调函数\n",
    "___xxx:私有成员，只有类对象自己能访问，子类对象不能直接访问到这个成员，但在对象外部可以通过'对象名.__类名__xxx'这样的特殊方式访问\n",
    "'''"
   ]
  },
  {
   "cell_type": "code",
   "execution_count": 2,
   "metadata": {},
   "outputs": [
    {
     "name": "stdout",
     "output_type": "stream",
     "text": [
      "0\n"
     ]
    },
    {
     "ename": "AttributeError",
     "evalue": "'A' object has no attribute '__value2'",
     "output_type": "error",
     "traceback": [
      "\u001b[1;31m---------------------------------------------------------------------------\u001b[0m",
      "\u001b[1;31mAttributeError\u001b[0m                            Traceback (most recent call last)",
      "\u001b[1;32m<ipython-input-2-113a81599010>\u001b[0m in \u001b[0;36m<module>\u001b[1;34m()\u001b[0m\n\u001b[0;32m     14\u001b[0m \u001b[0ma\u001b[0m\u001b[1;33m=\u001b[0m\u001b[0mA\u001b[0m\u001b[1;33m(\u001b[0m\u001b[1;33m)\u001b[0m\u001b[1;33m\u001b[0m\u001b[0m\n\u001b[0;32m     15\u001b[0m \u001b[0mprint\u001b[0m\u001b[1;33m(\u001b[0m\u001b[0ma\u001b[0m\u001b[1;33m.\u001b[0m\u001b[0m_value1\u001b[0m\u001b[1;33m)\u001b[0m\u001b[1;33m\u001b[0m\u001b[0m\n\u001b[1;32m---> 16\u001b[1;33m \u001b[0mprint\u001b[0m\u001b[1;33m(\u001b[0m\u001b[0ma\u001b[0m\u001b[1;33m.\u001b[0m\u001b[0m__value2\u001b[0m\u001b[1;33m)\u001b[0m\u001b[1;33m\u001b[0m\u001b[0m\n\u001b[0m",
      "\u001b[1;31mAttributeError\u001b[0m: 'A' object has no attribute '__value2'"
     ]
    }
   ],
   "source": [
    "class A:\n",
    "    def __init__(self,value1=0,value2=0):\n",
    "        self._value1=value1  #受保护成员\n",
    "        self.__value2=value2  #私有\n",
    "        \n",
    "    def setValue(self,value1,value2):\n",
    "        self._value1=vlaue1\n",
    "        self.__value2=value2\n",
    "        \n",
    "    def show(self):\n",
    "        print( self._value1)\n",
    "        print( self.__value2)\n",
    "        \n",
    "a=A()\n",
    "print(a._value1)  #在类的外部访问\n",
    "print(a.__value2)  #在类的外部访问私有成员是不行的"
   ]
  },
  {
   "cell_type": "code",
   "execution_count": 7,
   "metadata": {},
   "outputs": [
    {
     "name": "stdout",
     "output_type": "stream",
     "text": [
      "1\n",
      "10\n",
      "red\n",
      "blue\n"
     ]
    }
   ],
   "source": [
    "class Fruit:\n",
    "    def __init__(self):\n",
    "        self.__color='red'  #私有成员\n",
    "        self.price=1  #公有\n",
    "        \n",
    "apple=Fruit()\n",
    "print(apple.price)\n",
    "apple.price=10\n",
    "print(apple.price)\n",
    "\n",
    "\n",
    "#print( apple.__color)  #私有成员外部无法访问\n",
    "print(apple._Fruit__color)  #在外部要访问可以通过  '对象名._类名__xxx'  这样子特殊方式来访问\n",
    "apple._Fruit__color='blue'\n",
    "print(apple._Fruit__color)  #python里面对权限的控制不严格\n"
   ]
  },
  {
   "cell_type": "code",
   "execution_count": 8,
   "metadata": {},
   "outputs": [
    {
     "data": {
      "text/plain": [
       "'\\n1.在交互编程环境下 ，  _表示解释器中最后一次的输出内容\\n'"
      ]
     },
     "execution_count": 8,
     "metadata": {},
     "output_type": "execute_result"
    }
   ],
   "source": [
    "#  python 的下划线\n",
    "'''\n",
    "1.在交互编程环境下 ，  _表示解释器中最后一次的输出内容\n",
    "'''"
   ]
  },
  {
   "cell_type": "code",
   "execution_count": 9,
   "metadata": {},
   "outputs": [
    {
     "data": {
      "text/plain": [
       "8"
      ]
     },
     "execution_count": 9,
     "metadata": {},
     "output_type": "execute_result"
    }
   ],
   "source": [
    "3+5"
   ]
  },
  {
   "cell_type": "code",
   "execution_count": 10,
   "metadata": {},
   "outputs": [
    {
     "data": {
      "text/plain": [
       "24"
      ]
     },
     "execution_count": 10,
     "metadata": {},
     "output_type": "execute_result"
    }
   ],
   "source": [
    "_*3"
   ]
  },
  {
   "cell_type": "code",
   "execution_count": 12,
   "metadata": {},
   "outputs": [
    {
     "name": "stdout",
     "output_type": "stream",
     "text": [
      "3 3 3 3 3 "
     ]
    }
   ],
   "source": [
    "'''\n",
    "2.程序里面  _表示不关心该变量的值\n",
    "'''\n",
    "for _ in range(5):\n",
    "    print(3,end=' ')"
   ]
  },
  {
   "cell_type": "code",
   "execution_count": 17,
   "metadata": {},
   "outputs": [
    {
     "name": "stdout",
     "output_type": "stream",
     "text": [
      "1\n",
      "1\n",
      "3\n",
      "1\n",
      "5\n",
      "2\n",
      "2\n",
      "2\n"
     ]
    }
   ],
   "source": [
    "'''\n",
    "python 的方法种类： 公有方法 私有方法  静态方法  类方法\n",
    "静态方法与类方法都可以通过类名对象调用  但不能直接访问  属于对象的成员  只能访问类的成员\n",
    "静态方法可以没有参数\n",
    "'''\n",
    "\n",
    "class Root:\n",
    "    __total=0 #类成员\n",
    "    def __init__(self,v):  #构造方法\n",
    "        self.__value=v  #私有属性\n",
    "        Root.__total+=1\n",
    "        \n",
    "    def show(self):\n",
    "        print( self.__value)\n",
    "        print( Root.__total)\n",
    "    \n",
    "    @classmethod   \n",
    "    def classShowTotal(cls):  #类方法  cls是类的类名\n",
    "        print( cls.__total)\n",
    "        \n",
    "    @staticmethod   #静态方法\n",
    "    def staticShowTotal( ):\n",
    "        print( Root.__total)\n",
    "\n",
    "        \n",
    "r=Root(3 )\n",
    "r.classShowTotal()\n",
    "r.staticShowTotal()\n",
    "r.show()\n",
    "rr=Root(5)\n",
    "rr.show()\n",
    "Root.classShowTotal()\n",
    "Root.staticShowTotal()"
   ]
  },
  {
   "cell_type": "markdown",
   "metadata": {},
   "source": [
    "# 项目案例"
   ]
  },
  {
   "cell_type": "code",
   "execution_count": null,
   "metadata": {
    "collapsed": true
   },
   "outputs": [],
   "source": [
    "#1.自定义数组 在myarray.py文件中 ，定义了一个数组类，重写了一部分特殊方法以支持数组之间\n",
    "#数组与整数之间的四则运算以及内积，大小比较，成员测试和元素访问等运算符."
   ]
  },
  {
   "cell_type": "code",
   "execution_count": null,
   "metadata": {
    "collapsed": true
   },
   "outputs": [],
   "source": [
    "class MyArray:\n",
    "    '''\n",
    "    一个自定义的数组，它存数字\n",
    "    '''\n",
    "    def __isNumber(self,n):  #私有方法  帮助方法\n",
    "        return isinstance( n,(int,float,complex)  )\n",
    "    \n",
    "    def __init__(self,*args):  #列表类型\n",
    "        #假如没有实参  则创建一个空的数组\n",
    "        if not args:\n",
    "            self.__value=[]  # __value  说明是私有  self是对象的成员\n",
    "        else:\n",
    "            #类型检测\n",
    "            for arg in args:\n",
    "                if not self.__inNumber( arg ):\n",
    "                    print('成员必须是数字')\n",
    "                    return\n",
    "            self.__value=list(args)  # list() 是一个内置python函数 用于强制类型的转换\n",
    "    \n",
    "    #重载运算符  +\n",
    "    #1.  myArray+2  将数字中的每个元素与数字相加\n",
    "    #2.  myArray+myArray2  将2个数组相应的元素相加，返回一个新的数组\n",
    "    def __add__(self,n):\n",
    "        if self.__isNumber(  n):\n",
    "            #数组中的每个元素与n相加\n",
    "            b=MyArray()\n",
    "            b.__value=[item+n  for item in self.__value]\n",
    "            return b\n",
    "        elif isinstance(n,MyArray):\n",
    "            # self.__value.append( n.__value)  做法 完成拼凑\n",
    "            if len( n.__value)=len(self.__value):\n",
    "                c=MyArray()\n",
    "                c.__value=[ i+j  for i,j in zip(self.__value,n.__value)   ]\n",
    "                return c\n",
    "            else:\n",
    "                print('待操作的数组长度不一样，不能运算')\n",
    "        else:\n",
    "            print('不支持本类型的数据操作')\n",
    "            \n",
    "    #重载运算符  -\n",
    "    #1.  myArray-2  将数字中的每个元素与数字相减\n",
    "    #2.  myArray-myArray2  将2个数组相应的元素相减，返回一个新的数组\n",
    "    def __sub__(self,n):\n",
    "        if self.__isNumber( n):\n",
    "            #数组中的每个元素与n相减\n",
    "            b=MyArray()\n",
    "            b.__vlaue=[item-n for item in self.__value]\n",
    "            return b\n",
    "        elif isinstance( n,MyArray):\n",
    "             # self.__value.append( n.__value)  做法 完成拼凑\n",
    "            if len( n.__value)=len(self.__value):\n",
    "                c=MyArray()\n",
    "                c.__value=[ i-j  for i,j in zip(self.__value,n.__value)   ]\n",
    "                return c\n",
    "            else:\n",
    "                print('待操作的数组长度不一样，不能运算')\n",
    "        else:\n",
    "            print('不支持本类型的数据操作')\n",
    "        \n",
    "    #   *运算    \n",
    "        \n",
    "    def __mul__(self,n):\n",
    "        if self.__isNumber(  n):\n",
    "            b=MyArray()\n",
    "            b.__value=[item*n for item in self.__value]\n",
    "            return b\n",
    "        elif isinstance( n,MyArray):\n",
    "            if len(n.__value) =len(self.__value):\n",
    "                c=MyArray()\n",
    "                c.__value=[ i*j for i,j in zip(self.__value,n.__value)]\n",
    "                return c\n",
    "            else:\n",
    "                print('待操作的数组长度不一样，不能运算')\n",
    "        else:\n",
    "            print('不支持本类型的数据操作')\n",
    "            \n",
    "            \n",
    "    #  / 运算\n",
    "    \n",
    "     def __truediv__(self,n):\n",
    "        if self.__isNumber(  n):\n",
    "            b=MyArray()\n",
    "            b.__value=[item/n for item in self.__value]\n",
    "            return b\n",
    "        elif isinstance( n,MyArray):\n",
    "            if len(n.__value) =len(self.__value):\n",
    "                c=MyArray()\n",
    "                c.__value=[ i/j for i,j in zip(self.__value,n.__value)]\n",
    "                return c\n",
    "            else:\n",
    "                print('待操作的数组长度不一样，不能运算')\n",
    "        else:\n",
    "            print('不支持本类型的数据操作')\n",
    "            \n",
    "    def __floordiv__(self,n):\n",
    "        if self.__isNumber( n ):\n",
    "            b=MyArray()\n",
    "            b.__value=[item//n for item in self.__value]\n",
    "            return b\n",
    "        elif isinstance( n,MyArray):\n",
    "            if len(n.__value) =len(self.__value):\n",
    "                c=MyArray()\n",
    "                c.__value=[ i//j for i,j in zip(self.__value,n.__value)]\n",
    "                return c\n",
    "            else:\n",
    "                print('待操作的数组长度不一样，不能运算')\n",
    "        else:\n",
    "            print('不支持本类型的数据操作')\n",
    "    \n",
    "    \n",
    "    #**\n",
    "    def  __pow__(self,n):\n",
    "        if self.__isNumber( n ):\n",
    "            b=MyArray()\n",
    "            b.__value=[item**n for item in self.__value]\n",
    "            return b\n",
    "        elif isinstance( n,MyArray):\n",
    "            if len(n.__value) =len(self.__value):\n",
    "                c=MyArray()\n",
    "                c.__value=[ i**j for i,j in zip(self.__value,n.__value)]\n",
    "                return c\n",
    "            else:\n",
    "                print('待操作的数组长度不一样，不能运算')\n",
    "        else:\n",
    "            print('不支持本类型的数据操作')    \n",
    "            \n",
    "    def __mod__(self,n):\n",
    "        if self.__isNumber(n):\n",
    "            b=MyArray()\n",
    "            b.__value=[item%n for item in self.__value]\n",
    "            return b\n",
    "        elif isinstance( n,MyArray):\n",
    "            if len(n.__value) =len(self.__value):\n",
    "                c=MyArray()\n",
    "                c.__value=[ i%j for i,j in zip(self.__value,n.__value)]\n",
    "                return c\n",
    "            else:\n",
    "                print('待操作的数组长度不一样，不能运算')\n",
    "        else:\n",
    "            print('不支持本类型的数据操作')\n",
    "    \n",
    "    #返回的是字节长，而不是数据长  更改了  len(MyArray) 求长度的意义\n",
    "    def __len__(self):   #  len(MyArray)\n",
    "        if isinstance(self.__value[0],int):\n",
    "            return len(self.__value)*4\n",
    "        elif isinstance(self.__value[0],float):\n",
    "            return len(self.__value)*8\n",
    "        elif isinstance(self.__value[0],complex):\n",
    "            return len(self.__value)*16\n",
    "        \n",
    "    def __str__(self):  # str(MyArray)\n",
    "        return 'zy的MyArray：'+str(self.__value)\n",
    "    \n",
    "    def append(self,v):\n",
    "        assert self.__isNumber( v )\n",
    "        self.__value.append(v)\n",
    "    \n",
    "    def __getitem__(self,index):  #myarray[0]  ->  __getitem__()\n",
    "        length=len(self.__value)\n",
    "        if isinstance(index,int) and 0<=index<length:\n",
    "            return self.__value[index]\n",
    "        elif isinstance(index,(list,tuple)):  #myarray[（1,2,3）] or myarray[[1,2,3]]\n",
    "            result=[]\n",
    "            for i in index:\n",
    "                if not (isinstance(i,int)):\n",
    "                    return '索引不是数字'\n",
    "                if i<0 or i>=length:\n",
    "                    return '索引越界'\n",
    "                result.append( self.__value[i])\n",
    "            return result\n",
    "        else:\n",
    "            return '索引的数据类型暂时不支持'\n",
    "    \n",
    "    def __setitem__(self,index,value):\n",
    "    "
   ]
  },
  {
   "cell_type": "code",
   "execution_count": null,
   "metadata": {
    "collapsed": true
   },
   "outputs": [],
   "source": []
  },
  {
   "cell_type": "code",
   "execution_count": 1,
   "metadata": {},
   "outputs": [
    {
     "name": "stdout",
     "output_type": "stream",
     "text": [
      "这是myhello的构造\n",
      "执行了enter\n",
      "1+1\n",
      "执行了exit\n"
     ]
    }
   ],
   "source": [
    "#  关键字 with 的类\n",
    "# 它实现了两个特殊  ：  __enter__()   __exit__()\n",
    "class MyHello:\n",
    "    def __init__(self):\n",
    "        print('这是myhello的构造')\n",
    "        \n",
    "    def __enter__(self):\n",
    "        print('执行了enter')\n",
    "    \n",
    "    def __exit__(self,exceptionType,exceptionVal,trace):\n",
    "        print('执行了exit')\n",
    "        \n",
    "with MyHello() as mh:  #产生一个容器\n",
    "    print('1+1')"
   ]
  },
  {
   "cell_type": "code",
   "execution_count": null,
   "metadata": {
    "collapsed": true
   },
   "outputs": [],
   "source": [
    "# with 的应用"
   ]
  },
  {
   "cell_type": "code",
   "execution_count": 3,
   "metadata": {},
   "outputs": [
    {
     "ename": "UnicodeDecodeError",
     "evalue": "'gbk' codec can't decode byte 0x80 in position 14: illegal multibyte sequence",
     "output_type": "error",
     "traceback": [
      "\u001b[1;31m---------------------------------------------------------------------------\u001b[0m",
      "\u001b[1;31mUnicodeDecodeError\u001b[0m                        Traceback (most recent call last)",
      "\u001b[1;32m<ipython-input-3-c36390baa515>\u001b[0m in \u001b[0;36m<module>\u001b[1;34m()\u001b[0m\n\u001b[0;32m      1\u001b[0m \u001b[1;31m#传统文件的操作\u001b[0m\u001b[1;33m\u001b[0m\u001b[1;33m\u001b[0m\u001b[0m\n\u001b[0;32m      2\u001b[0m \u001b[0mfr\u001b[0m\u001b[1;33m=\u001b[0m\u001b[0mopen\u001b[0m\u001b[1;33m(\u001b[0m\u001b[1;34m'readme.txt'\u001b[0m\u001b[1;33m,\u001b[0m\u001b[1;34m'r'\u001b[0m\u001b[1;33m)\u001b[0m\u001b[1;33m\u001b[0m\u001b[0m\n\u001b[1;32m----> 3\u001b[1;33m \u001b[0mlines\u001b[0m\u001b[1;33m=\u001b[0m\u001b[0mfr\u001b[0m\u001b[1;33m.\u001b[0m\u001b[0mreadlines\u001b[0m\u001b[1;33m(\u001b[0m\u001b[1;33m)\u001b[0m\u001b[1;33m\u001b[0m\u001b[0m\n\u001b[0m\u001b[0;32m      4\u001b[0m \u001b[0mprint\u001b[0m\u001b[1;33m(\u001b[0m \u001b[0mlines\u001b[0m \u001b[1;33m)\u001b[0m\u001b[1;33m\u001b[0m\u001b[0m\n\u001b[0;32m      5\u001b[0m \u001b[0mfr\u001b[0m\u001b[1;33m.\u001b[0m\u001b[0mclose\u001b[0m\u001b[1;33m(\u001b[0m\u001b[1;33m)\u001b[0m\u001b[1;33m\u001b[0m\u001b[0m\n",
      "\u001b[1;31mUnicodeDecodeError\u001b[0m: 'gbk' codec can't decode byte 0x80 in position 14: illegal multibyte sequence"
     ]
    }
   ],
   "source": [
    "#传统文件的操作\n",
    "fr=open('readme.txt','r')\n",
    "lines=fr.readlines()\n",
    "print( lines )\n",
    "fr.close()"
   ]
  },
  {
   "cell_type": "code",
   "execution_count": 6,
   "metadata": {},
   "outputs": [
    {
     "ename": "UnicodeDecodeError",
     "evalue": "'gbk' codec can't decode byte 0x80 in position 14: illegal multibyte sequence",
     "output_type": "error",
     "traceback": [
      "\u001b[1;31m---------------------------------------------------------------------------\u001b[0m",
      "\u001b[1;31mUnicodeDecodeError\u001b[0m                        Traceback (most recent call last)",
      "\u001b[1;32m<ipython-input-6-c76ec2e377f9>\u001b[0m in \u001b[0;36m<module>\u001b[1;34m()\u001b[0m\n\u001b[0;32m      8\u001b[0m \u001b[1;33m\u001b[0m\u001b[0m\n\u001b[0;32m      9\u001b[0m \u001b[1;32mwith\u001b[0m \u001b[0mMyFileOpen\u001b[0m\u001b[1;33m(\u001b[0m\u001b[1;34m'readme.txt'\u001b[0m\u001b[1;33m,\u001b[0m\u001b[1;34m'r'\u001b[0m\u001b[1;33m)\u001b[0m \u001b[1;32mas\u001b[0m \u001b[0mfp\u001b[0m\u001b[1;33m:\u001b[0m\u001b[1;33m\u001b[0m\u001b[0m\n\u001b[1;32m---> 10\u001b[1;33m     \u001b[0mlines\u001b[0m\u001b[1;33m=\u001b[0m\u001b[0mfp\u001b[0m\u001b[1;33m.\u001b[0m\u001b[0mreadlines\u001b[0m\u001b[1;33m(\u001b[0m\u001b[1;33m)\u001b[0m\u001b[1;33m\u001b[0m\u001b[0m\n\u001b[0m\u001b[0;32m     11\u001b[0m     \u001b[0mprint\u001b[0m\u001b[1;33m(\u001b[0m \u001b[0mlines\u001b[0m \u001b[1;33m)\u001b[0m\u001b[1;33m\u001b[0m\u001b[0m\n",
      "\u001b[1;31mUnicodeDecodeError\u001b[0m: 'gbk' codec can't decode byte 0x80 in position 14: illegal multibyte sequence"
     ]
    }
   ],
   "source": [
    "class MyFileOpen:  #定义一个生命周期控制\n",
    "    def __init__(self,filename,mode):\n",
    "        self.fp=open(filename,mode)\n",
    "    def __enter__(self):\n",
    "        return self.fp\n",
    "    def __exit__(self,exceptionType,exceptionVal,trace):\n",
    "        self.fp.close()\n",
    "        \n",
    "with MyFileOpen('readme.txt','r') as fp:\n",
    "    lines=fp.readlines()\n",
    "    print( lines )"
   ]
  },
  {
   "cell_type": "markdown",
   "metadata": {},
   "source": [
    "# 课后作业 常用的数据结构的定义"
   ]
  },
  {
   "cell_type": "code",
   "execution_count": null,
   "metadata": {
    "collapsed": true
   },
   "outputs": [],
   "source": [
    "'''\n",
    "案例二：自定义实现集合，模拟python内置集合类型（set），实现元素的添加，删除，以及并集，交集，对称差集等基本运算\n",
    "1.无序，不可重复  2.可集合运算 3.元素是可哈希\n",
    "'''"
   ]
  },
  {
   "cell_type": "code",
   "execution_count": 11,
   "metadata": {
    "collapsed": true
   },
   "outputs": [],
   "source": [
    "class MySet:\n",
    "    \n",
    "    def __init__(self,data=None):\n",
    "        '''\n",
    "        初始化这个集合\n",
    "        '''\n",
    "        if data==None:\n",
    "            self.__data=[]\n",
    "        else:\n",
    "            if not hasattr(data,'__iter__'):\n",
    "                raise Exception('必须提供可迭代的数据类型')\n",
    "            temp=[]\n",
    "            for item in data:\n",
    "                hash (item)\n",
    "                if not item in temp:\n",
    "                    temp.append(item)\n",
    "            self.__data=temp\n",
    "        \n",
    "    #析构方法\n",
    "    def __del__(self):\n",
    "        del self.__data\n",
    "        \n",
    "    #添加\n",
    "    def add(self,value):\n",
    "        hash(value)\n",
    "        if value not in self.__data:\n",
    "            self.__data.append(value)\n",
    "\n",
    "            \n",
    "    #删除\n",
    "    def remove(self,value):\n",
    "        if value in self.__data:\n",
    "            self.__data.remove(value)\n",
    "            print('删除',value,'成功')\n",
    "        else:\n",
    "            print('元素',value,'不存在')\n",
    "    \n",
    "    #随机弹出并返回一个元素\n",
    "    def pop(self):\n",
    "        if not self.__data:\n",
    "            print('集合已经空，弹出操作被忽略')\n",
    "            return \n",
    "        import random  \n",
    "        item=random.choice(self.__data )\n",
    "        self.__data.remove(item)\n",
    "        return item\n",
    "    \n",
    "    #运算符重载 差集运算\n",
    "    def __sub__(self,anotherset):\n",
    "        if not isinstance(anotherset,MySet ):\n",
    "            raise Exception('类型不匹配，不能进行差集运算')\n",
    "        result=MySet()\n",
    "        for item in self.__data:\n",
    "            if item not in anotherset.__data:\n",
    "                result.__data.append(item)\n",
    "        return result\n",
    "    \n",
    " \n",
    "    \n",
    "    \n",
    "    def differe(self,anotherset):\n",
    "        return self-anotherset\n",
    "    \n",
    "    #运算符重载  并集 |\n",
    "    def __or__(self,anotherset):\n",
    "        if not isinstance(anotherset,MySet):\n",
    "            raise Exception('类型不匹配，不能并集运算')\n",
    "        result=MySet(self.__data )\n",
    "        for item in anotherset.__data:\n",
    "            if item not in result.__data:\n",
    "                result.__data.append(item)\n",
    "        return result\n",
    "    \n",
    "    def union(self,anotherset):\n",
    "        return self|anotherset\n",
    "    \n",
    "    # 交集运算  &\n",
    "    def __and__(self,anotherset):\n",
    "        if not isinstance(anotherset,MySet):\n",
    "            raise Exception('类型不匹配，不能并集运算')\n",
    "        result=MySet()\n",
    "        for item in anotherset.__data:\n",
    "            if item in self.__data:\n",
    "                result.__data.append(item)\n",
    "        return result\n",
    "                \n",
    "    \n",
    "    \n",
    "    def intersection(self,anotherset):\n",
    "        return self&anotherset\n",
    "    \n",
    "    #对称差分\n",
    "    def __xor__(self,anotherset):\n",
    "        return (self-anotherset)|(anotherset-self)\n",
    "    \n",
    "    def symmetric_difference(self,anotherset):\n",
    "        return self^anotherset\n",
    "            \n",
    "    #相等 ==\n",
    "    def __eq__(self,anotherset):\n",
    "        if not isinstance( anotherset,MySet):\n",
    "            raise Exception('类型不匹配，不能进行相等运算')\n",
    "        return sorted(self.__data)==sorted(anotherset.__data)\n",
    "    \n",
    "    # > :1 不能相等  self 中有元素没有在another中出现 且 anotherset的全部元素都在self出现过\n",
    "    def __gt__(self,anotherset):\n",
    "        if not isinstance(anotherset,MySet):\n",
    "            raise Exception('类型不匹配，不能进行>运算')\n",
    "        if self!=anotherset:\n",
    "            flag1=True\n",
    "            for item in self.__data:\n",
    "                if item not in anotherset.__data:\n",
    "                    flag1=False\n",
    "                    break\n",
    "            flag2=True\n",
    "            for item in anotherset.__data:\n",
    "                if item not in self.__data:\n",
    "                    flag2=False\n",
    "                    break\n",
    "            if not flag1 and flag2:\n",
    "                return True\n",
    "        return False\n",
    "    \n",
    "    def __ge__(self,anotherset):\n",
    "        if not isinstance(anotherset,MySet):\n",
    "            raise Exception('类型不匹配，不能进行>=运算')\n",
    "        return self==anotherset or self >anotherset\n",
    "                    \n",
    "    \n",
    "    def __str__(self):\n",
    "        result=str(self.__data)\n",
    "        result=result[1:len(result)-1]\n",
    "        return '{'+result+'}'\n",
    "    \n",
    "    #重写了 tostring\n",
    "    __repr__=__str__"
   ]
  },
  {
   "cell_type": "code",
   "execution_count": 14,
   "metadata": {},
   "outputs": [
    {
     "name": "stdout",
     "output_type": "stream",
     "text": [
      "{1, 2, 3, 4}\n",
      "删除 44 成功\n"
     ]
    }
   ],
   "source": [
    "ms=MySet()\n",
    "ms2=MySet( (1,2,3,4,4,4) )\n",
    "print(ms2)\n",
    "ms2.add(44)\n",
    "ms2.remove(44)"
   ]
  },
  {
   "cell_type": "code",
   "execution_count": 15,
   "metadata": {},
   "outputs": [
    {
     "name": "stdout",
     "output_type": "stream",
     "text": [
      "2\n"
     ]
    },
    {
     "data": {
      "text/plain": [
       "{1, 4}"
      ]
     },
     "execution_count": 15,
     "metadata": {},
     "output_type": "execute_result"
    }
   ],
   "source": [
    "print(ms2.pop() )\n",
    "ms1=MySet( (2,3) )\n",
    "ms2-ms1"
   ]
  },
  {
   "cell_type": "raw",
   "metadata": {
    "collapsed": true
   },
   "source": [
    "案例三：自定义栈，实现基本的入栈，出栈操作  后进后出"
   ]
  },
  {
   "cell_type": "code",
   "execution_count": 8,
   "metadata": {},
   "outputs": [],
   "source": [
    "class MyStack:\n",
    "    def __init__(self,size=10):\n",
    "        '''创建栈对象并进行初始化，默认栈的大小为10'''\n",
    "        #使用列表来存放栈的元素\n",
    "        self._content =[]\n",
    "        #初始化大小\n",
    "        self._size=size\n",
    "        #栈中的元素个数初始化为0\n",
    "        self._current=0\n",
    "    \n",
    "    def empty(self):\n",
    "        '''清空栈'''\n",
    "        self._content = []\n",
    "        self._current = 0\n",
    "    \n",
    "    def isEmpty(self):\n",
    "        '''测试栈是否为空'''\n",
    "        return not self._content\n",
    "    \n",
    "    def setSize(self,size):\n",
    "        '''调整栈的大小，可以增大或者缩小空间'''\n",
    "        #如果缩小空间时指定的新的大小，小于已有的元素\n",
    "        #删除除指定的大小以外的元素\n",
    "        if size < self._current:\n",
    "            for i in range(size,self._current)[::-1]:\n",
    "                del self._content[i]\n",
    "            self._current=size\n",
    "        self._size=size\n",
    "        \n",
    "    def isFull(self):\n",
    "        '''测试栈是否已满'''\n",
    "        return self._current==self._size\n",
    "    \n",
    "    def push(self,v):\n",
    "        '''将新元素入栈'''\n",
    "        #模拟入栈  需要先测试栈是否已经满\n",
    "        if self._current < self._size:\n",
    "            self._content.append(v)\n",
    "            #栈中的元素加一\n",
    "            self._current += 1\n",
    "        else:\n",
    "            print('栈已经满了！！')\n",
    "    \n",
    "    def __str__(self):\n",
    "        return str(self._content)\n",
    "    \n",
    "    __repr__=__str__\n",
    "    \n",
    "    def pop(self):\n",
    "        '''将栈顶元素出栈'''\n",
    "        #模拟出栈  需要先测试栈是否为空\n",
    "        if self._content:\n",
    "            #栈中的元素个数减1\n",
    "            self._current-=1\n",
    "            return self._content.pop()\n",
    "        else:\n",
    "            print('栈是空的删不了')\n",
    "    \n",
    "    def show(self):\n",
    "        '''展示栈里面的所有元素对象'''\n",
    "        print(self._content)\n",
    "        \n",
    "    def showRemainderSpace(self):\n",
    "        '''显示栈的对象剩余空间大小'''\n",
    "        print('栈还可以存',self._size - self._current,'个元素')"
   ]
  },
  {
   "cell_type": "code",
   "execution_count": 9,
   "metadata": {},
   "outputs": [
    {
     "name": "stdout",
     "output_type": "stream",
     "text": [
      "[1, 2]\n"
     ]
    }
   ],
   "source": [
    "s=MyStack()\n",
    "s.push(1)\n",
    "s.push(2)\n",
    "s.show()"
   ]
  },
  {
   "cell_type": "markdown",
   "metadata": {},
   "source": [
    "案例四  自定义队列的结构  实现入队 出队的操作 提供超时功能"
   ]
  },
  {
   "cell_type": "code",
   "execution_count": 17,
   "metadata": {
    "collapsed": true
   },
   "outputs": [],
   "source": [
    "import time\n",
    "\n",
    "class MyQueue:\n",
    "    def __init__(self,size=10):\n",
    "        self.__content=[]\n",
    "        self.__size=size\n",
    "        self.__current=0\n",
    "        \n",
    "    def resize(self,size):\n",
    "        if size < self.__current:\n",
    "            #收缩队列删除后面的元素  [5,10] ->[5,6,7,8,9][::-1]\n",
    "            for i in range(size,self.__current)[::-1]:\n",
    "                del self.__content[i]\n",
    "            self.__current=size\n",
    "        self.__size=size\n",
    "    \n",
    "    def enqueue(self,v,timeout=5 ):\n",
    "        '''\n",
    "        模拟入队，在队列尾部添加元素\n",
    "        满了 就阻塞，直到超时\n",
    "        '''\n",
    "        for i in range( timeout ):\n",
    "            if self.__current < self.__size:\n",
    "                self.__content.append(v)\n",
    "                self.__current = self.__current + 1\n",
    "                break\n",
    "            time.sleep(1)\n",
    "        else:\n",
    "            return '队列已经存满，操作超时，放弃....'\n",
    "        \n",
    "    def dequeue(self,timeout=5):\n",
    "        for i in range(timeout):\n",
    "            if self.__content:\n",
    "                self.__current = self.__current - 1\n",
    "                return self.__content.pop( 0 )\n",
    "            time.sleep(1)\n",
    "        else:\n",
    "            return '队列为空，操作超时，放弃出队....'\n",
    "        \n",
    "    def clear(self ):\n",
    "        self.__content=[]\n",
    "        self.__current=0\n",
    "    \n",
    "    def isEmpty(self):\n",
    "        return not self.__content\n",
    "    \n",
    "    def isFull(self):\n",
    "        return self.__current==self.__size\n",
    "    \n",
    "    def show(self):\n",
    "        if self.__current >0:\n",
    "            for i in self.__content:\n",
    "                print( i )\n",
    "        else:\n",
    "            print('你是空的')"
   ]
  },
  {
   "cell_type": "code",
   "execution_count": 18,
   "metadata": {},
   "outputs": [
    {
     "name": "stdout",
     "output_type": "stream",
     "text": [
      "1\n",
      "2\n",
      "3\n"
     ]
    }
   ],
   "source": [
    "q=MyQueue()\n",
    "q.enqueue(1)\n",
    "q.enqueue(2)\n",
    "q.enqueue(3)\n",
    "\n",
    "q.show()\n"
   ]
  },
  {
   "cell_type": "markdown",
   "metadata": {},
   "source": [
    " 案例5   数"
   ]
  },
  {
   "cell_type": "code",
   "execution_count": 19,
   "metadata": {
    "collapsed": true
   },
   "outputs": [],
   "source": [
    "#创建这棵树，存数据 遍历（前序，中序，后序）\n",
    "class MyTree:\n",
    "    def __init__(self,value):\n",
    "        self.__left=None\n",
    "        self.__rigth=None\n",
    "        self.__value=value\n",
    "    \n",
    "    def insertLeftChild(self,value):\n",
    "        if self.__left:\n",
    "            print('左子树已经存在....')\n",
    "        else:\n",
    "            self.__left=MyTree(value)\n",
    "            return self.__left\n",
    "        \n",
    "    def insertRightChild(self,value):\n",
    "        if self.__rigth:\n",
    "            print('右子树已经存在....')\n",
    "        else:\n",
    "            self.__rigth=MyTree(value)\n",
    "            return self.__rigth\n",
    "    \n",
    "    #前序遍列\n",
    "    def preOrder(self):\n",
    "        print( self.__value )\n",
    "        if self.__left:\n",
    "            self.__left.preOrder()\n",
    "        if self.__rigth:\n",
    "            self.__rigth.preOrder()\n",
    "            \n",
    "    #后序遍历\n",
    "    def postOrder(self):\n",
    "        if self.__left:\n",
    "            self.__left.postOrder()\n",
    "        if self.__rigth:\n",
    "            self.__rigth.postOrder()\n",
    "        print( self.__value )\n",
    "        \n",
    "    #中序遍历\n",
    "    def inOrder(self):\n",
    "        if self.__left:\n",
    "            self.__left.inOrder()\n",
    "        print(self.__value)\n",
    "        if self.__rigth:\n",
    "            self.__rigth.inOrder()"
   ]
  },
  {
   "cell_type": "code",
   "execution_count": 20,
   "metadata": {},
   "outputs": [
    {
     "name": "stdout",
     "output_type": "stream",
     "text": [
      "-2\n",
      "0\n",
      "-1\n",
      "1\n",
      "2\n"
     ]
    }
   ],
   "source": [
    "t=MyTree(1)\n",
    "left=t.insertLeftChild( 0 )\n",
    "left.insertLeftChild( -2 )\n",
    "left.insertRightChild( -1 )\n",
    "right=t.insertRightChild(2)\n",
    "\n",
    "t.inOrder()\n",
    "'''\n",
    "         1\n",
    "      0    2\n",
    "              \n",
    "    -2 -1   \n",
    "\n",
    "'''"
   ]
  },
  {
   "cell_type": "code",
   "execution_count": 21,
   "metadata": {},
   "outputs": [
    {
     "name": "stdout",
     "output_type": "stream",
     "text": [
      "[0 1 2 3 4 5 6 7]\n",
      "[[0 1 2 3]\n",
      " [4 5 6 7]]\n",
      "[[0 4]\n",
      " [1 5]\n",
      " [2 6]\n",
      " [3 7]]\n",
      "[[ 3  4  5  6]\n",
      " [ 7  8  9 10]]\n",
      "[[ 0  2  4  6]\n",
      " [ 8 10 12 14]]\n"
     ]
    }
   ],
   "source": [
    "#矩阵运算\n",
    "import numpy as np\n",
    "x=np.arange(8)\n",
    "print(x)\n",
    "print(x.reshape( (2,4) ) )\n",
    "y=x.reshape( (2,4)  )\n",
    "print( y.T )\n",
    "\n",
    "\n",
    "print(y+3)\n",
    "\n",
    "z=np.arange(8)\n",
    "zz=z.reshape( (2,4) )\n",
    "print(y+zz)"
   ]
  },
  {
   "cell_type": "code",
   "execution_count": null,
   "metadata": {
    "collapsed": true
   },
   "outputs": [],
   "source": []
  }
 ],
 "metadata": {
  "kernelspec": {
   "display_name": "Python 3",
   "language": "python",
   "name": "python3"
  },
  "language_info": {
   "codemirror_mode": {
    "name": "ipython",
    "version": 3
   },
   "file_extension": ".py",
   "mimetype": "text/x-python",
   "name": "python",
   "nbconvert_exporter": "python",
   "pygments_lexer": "ipython3",
   "version": "3.6.2"
  }
 },
 "nbformat": 4,
 "nbformat_minor": 2
}
