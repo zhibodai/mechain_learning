{
 "cells": [
  {
   "cell_type": "markdown",
   "metadata": {},
   "source": [
    "# 分类度量"
   ]
  },
  {
   "cell_type": "code",
   "execution_count": 1,
   "metadata": {},
   "outputs": [
    {
     "name": "stdout",
     "output_type": "stream",
     "text": [
      "2\n",
      "0.5\n"
     ]
    }
   ],
   "source": [
    "'''\n",
    "sklearn.metrics.accuracy_score(y_true,y_pred,normalize=True,sample_weight=None)\n",
    "分类准确率分数是指所有分类正确的百分比。分类准确率这一衡量分类器的标准比较容易理解，\n",
    "但是他不能告诉你响应值的潜在分布，并且他也不能告诉分类器犯错的类型\n",
    "normalize：默认值为true 返回正确的分类  如果为false  返回正确分类的样本数\n",
    "'''\n",
    "import numpy as np\n",
    "from sklearn.metrics import accuracy_score,classification_report,confusion_matrix,precision_score,recall_score\n",
    "y_pred=[0,2,1,3]\n",
    "y_true=[0,1,2,3]\n",
    "print(accuracy_score(y_true,y_pred,normalize=False))\n",
    "print(accuracy_score(y_true,y_pred))\n"
   ]
  },
  {
   "cell_type": "code",
   "execution_count": 2,
   "metadata": {},
   "outputs": [
    {
     "name": "stdout",
     "output_type": "stream",
     "text": [
      "             precision    recall  f1-score   support\n",
      "\n",
      "    class_0       1.00      1.00      1.00         1\n",
      "    class_1       0.00      0.00      0.00         1\n",
      "    class_2       0.00      0.00      0.00         1\n",
      "\n",
      "avg / total       0.50      0.50      0.50         4\n",
      "\n"
     ]
    },
    {
     "name": "stderr",
     "output_type": "stream",
     "text": [
      "C:\\ProgramData\\Anaconda3\\lib\\site-packages\\sklearn\\metrics\\classification.py:1428: UserWarning: labels size, 4, does not match size of target_names, 3\n",
      "  .format(len(labels), len(target_names))\n"
     ]
    }
   ],
   "source": [
    "print(classification_report(y_true,y_pred,\n",
    "                           target_names=[\"class_0\",\"class_1\",\"class_2\"]))"
   ]
  },
  {
   "cell_type": "code",
   "execution_count": 4,
   "metadata": {},
   "outputs": [
    {
     "name": "stdout",
     "output_type": "stream",
     "text": [
      "confusion matrix: \n",
      " [[2 2]\n",
      " [0 4]]\n"
     ]
    }
   ],
   "source": [
    "'''\n",
    "测试confusion_matrix的用法\n",
    "输出混淆矩阵\n",
    "\n",
    "T：True   F：false  p：positive  n：negative\n",
    "          预测\n",
    "            yes     no   合计\n",
    "      yes   TP      FN    P\n",
    "实际   no   FP      TN    N\n",
    "       合计 P       N     P+N\n",
    "\n",
    "'''\n",
    "\n",
    "y_true=[1,1,1,1,0,0,0,0]\n",
    "y_pred=[0,0,1,1,0,0,0,0]\n",
    "print('confusion matrix: \\n',confusion_matrix(y_true,y_pred,labels=[1,0]))"
   ]
  },
  {
   "cell_type": "code",
   "execution_count": 7,
   "metadata": {},
   "outputs": [
    {
     "name": "stdout",
     "output_type": "stream",
     "text": [
      "Accuracy Score 0.8\n",
      "Precision Score 1.0\n",
      "Recall Score 0.6\n"
     ]
    }
   ],
   "source": [
    "'''\n",
    "测试 recall_score的用法\n",
    "查全率 真实的正类中 有多少比例被预测为正类\n",
    "'''\n",
    "\n",
    "y_true=[1,1,1,1,1,0,0,0,0,0]\n",
    "y_pred=[0,0,1,1,1,0,0,0,0,0]\n",
    "print(\"Accuracy Score\",accuracy_score(y_true,y_pred,normalize=True))    #(TP+TN)/(P+N)\n",
    "print('Precision Score',precision_score(y_true,y_pred))    #  预测为1且实际为1的比例（仅判断预测为的1的对比值）\n",
    "print('Recall Score',recall_score(y_true,y_pred))   #recall = (TP)/(TP+FN)  "
   ]
  },
  {
   "cell_type": "code",
   "execution_count": null,
   "metadata": {
    "collapsed": true
   },
   "outputs": [],
   "source": []
  }
 ],
 "metadata": {
  "kernelspec": {
   "display_name": "Python 3",
   "language": "python",
   "name": "python3"
  },
  "language_info": {
   "codemirror_mode": {
    "name": "ipython",
    "version": 3
   },
   "file_extension": ".py",
   "mimetype": "text/x-python",
   "name": "python",
   "nbconvert_exporter": "python",
   "pygments_lexer": "ipython3",
   "version": "3.6.2"
  }
 },
 "nbformat": 4,
 "nbformat_minor": 2
}
