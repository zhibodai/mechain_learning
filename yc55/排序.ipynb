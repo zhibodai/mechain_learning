{
 "cells": [
  {
   "cell_type": "code",
   "execution_count": 5,
   "metadata": {},
   "outputs": [
    {
     "name": "stdout",
     "output_type": "stream",
     "text": [
      "[1, 2, 3, 4, 5, 14, 25]\n"
     ]
    }
   ],
   "source": [
    "#shell排序\n",
    "def shell_insert_sort(a,dk):\n",
    "    n=len(a)\n",
    "    for k in range(dk):  #间距取dk  一共可以组成dk个子序列\n",
    "        # range( 0+1,6,1)\n",
    "        for i in range(k+dk,n,dk):   # 满0 dk 2dk 为一组\n",
    "            temp = a[i]  #记录待插入的元素值\n",
    "            j = i - dk\n",
    "        while j>=k and a[j]>temp :\n",
    "                a[j+dk]=a[i]\n",
    "                j=j-dk\n",
    "        a[j+dk]=temp #插入\n",
    "        \n",
    "'''\n",
    "shell排序是一种基于插入排序的快速的排序算法，其思想是使数组中任意间隔h的元素都是有序\n",
    "的，来减少元素的移动距离\n",
    "shell排序是把记录按下标的一定增量分组，对每组使用直接插入排序算法排序\n",
    "首先会选择增量gap=length/2  当增量减至1时，整个文件被分成一组，算法便终止\n",
    "'''\n",
    "def myshell(ls):\n",
    "    gap=int(len(ls)/2) #增量+++++\n",
    "    while gap>0:\n",
    "        for i in range(gap,len(ls) ):\n",
    "            while i >=gap and ls[i-gap] > ls[i]:\n",
    "                ls[i],ls[i-gap]=ls[i-gap], ls[i]\n",
    "                i -=gap\n",
    "        gap = int(gap/2)\n",
    "    return ls\n",
    "print(myshell([4,1,5,2,14,3,25]))"
   ]
  },
  {
   "cell_type": "code",
   "execution_count": 6,
   "metadata": {},
   "outputs": [
    {
     "name": "stdout",
     "output_type": "stream",
     "text": [
      "3\n",
      "4\n",
      "5\n",
      "6\n"
     ]
    }
   ],
   "source": [
    "ls=[4,1,5,2,14,3,25]\n",
    "gap=int(len(ls)/2)\n",
    "for i in range(gap,len(ls)):\n",
    "    print (i)"
   ]
  },
  {
   "cell_type": "code",
   "execution_count": 8,
   "metadata": {},
   "outputs": [
    {
     "name": "stdout",
     "output_type": "stream",
     "text": [
      "[1, 3, 5, 6, 10, 23]\n"
     ]
    }
   ],
   "source": [
    "#插入排序\n",
    "'''\n",
    "将一个待排序数据插入到已经排好序的数据中，从而得到一个新的，个数加一的有序数据\n",
    "具体算法如下：\n",
    "  1.从第一个元素开始，该元素可以以为已经排好序\n",
    "  2.取出下一个元素，在已经排好序的元素序列中从后向前扫描\n",
    "  3.如果该元素（已排序）大于新元素，将该元素移到下一个位置\n",
    "  4.重复3，直到找到已经排序的元素小于或者等于新的元素\n",
    "  5.将这个元素插入到该位置后面\n",
    "  6.重复2-5\n",
    "'''\n",
    "\n",
    "#  [3,10,1,23,5,6]\n",
    "list1=[3,10,1,23,5,6]\n",
    "for i in range(1,len(list1)):\n",
    "    for j in range(i,0,-1):\n",
    "        if list1[j] < list1[j-1]:\n",
    "            list1[j],list1[j-1]=list1[j-1],list1[j]\n",
    "            \n",
    "print(list1)"
   ]
  },
  {
   "cell_type": "code",
   "execution_count": 1,
   "metadata": {},
   "outputs": [
    {
     "name": "stdout",
     "output_type": "stream",
     "text": [
      "[3, 5, 8, 10, 10, 23]\n"
     ]
    }
   ],
   "source": [
    "'''\n",
    "选择排序\n",
    "'''\n",
    "def select_sort(slist):\n",
    "    lenth=len(slist)\n",
    "    for i in range(lenth-1):\n",
    "        index=i #默认把第i个数当做最小的数\n",
    "        for j in range(i+1,lenth):\n",
    "            if slist[index] > slist[j]:\n",
    "                index=j\n",
    "        slist[index],slist[i]=slist[i],slist[index]\n",
    "    return slist\n",
    "print(select_sort([10,3,10,23,5,8]))"
   ]
  },
  {
   "cell_type": "code",
   "execution_count": 2,
   "metadata": {},
   "outputs": [
    {
     "name": "stdout",
     "output_type": "stream",
     "text": [
      "[55, 75, 95, 73, 79, 52, 2, 23, 4]\n",
      "[55, 75, 95, 73, 79, 52, 2, 23, 4]\n",
      "[55, 75, 73, 95, 79, 52, 2, 23, 4]\n",
      "[55, 75, 73, 79, 95, 52, 2, 23, 4]\n",
      "[55, 75, 73, 79, 52, 95, 2, 23, 4]\n",
      "[55, 75, 73, 79, 52, 2, 95, 23, 4]\n",
      "[55, 75, 73, 79, 52, 2, 23, 95, 4]\n",
      "[55, 75, 73, 79, 52, 2, 23, 4, 95]\n",
      "[55, 75, 73, 79, 52, 2, 23, 4, 95]\n",
      "[55, 73, 75, 79, 52, 2, 23, 4, 95]\n",
      "[55, 73, 75, 79, 52, 2, 23, 4, 95]\n",
      "[55, 73, 75, 52, 79, 2, 23, 4, 95]\n",
      "[55, 73, 75, 52, 2, 79, 23, 4, 95]\n",
      "[55, 73, 75, 52, 2, 23, 79, 4, 95]\n",
      "[55, 73, 75, 52, 2, 23, 4, 79, 95]\n",
      "[55, 73, 75, 52, 2, 23, 4, 79, 95]\n",
      "[55, 73, 75, 52, 2, 23, 4, 79, 95]\n",
      "[55, 73, 52, 75, 2, 23, 4, 79, 95]\n",
      "[55, 73, 52, 2, 75, 23, 4, 79, 95]\n",
      "[55, 73, 52, 2, 23, 75, 4, 79, 95]\n",
      "[55, 73, 52, 2, 23, 4, 75, 79, 95]\n",
      "[55, 73, 52, 2, 23, 4, 75, 79, 95]\n",
      "[55, 52, 73, 2, 23, 4, 75, 79, 95]\n",
      "[55, 52, 2, 73, 23, 4, 75, 79, 95]\n",
      "[55, 52, 2, 23, 73, 4, 75, 79, 95]\n",
      "[55, 52, 2, 23, 4, 73, 75, 79, 95]\n",
      "[52, 55, 2, 23, 4, 73, 75, 79, 95]\n",
      "[52, 2, 55, 23, 4, 73, 75, 79, 95]\n",
      "[52, 2, 23, 55, 4, 73, 75, 79, 95]\n",
      "[52, 2, 23, 4, 55, 73, 75, 79, 95]\n",
      "[2, 52, 23, 4, 55, 73, 75, 79, 95]\n",
      "[2, 23, 52, 4, 55, 73, 75, 79, 95]\n",
      "[2, 23, 4, 52, 55, 73, 75, 79, 95]\n",
      "[2, 23, 4, 52, 55, 73, 75, 79, 95]\n",
      "[2, 4, 23, 52, 55, 73, 75, 79, 95]\n",
      "[2, 4, 23, 52, 55, 73, 75, 79, 95]\n"
     ]
    }
   ],
   "source": [
    "'''\n",
    "冒泡排序\n",
    "'''\n",
    "alist=[75,55,95,73,79,52,2,23,4]\n",
    " \n",
    "    \n",
    "for i in range(len(alist)-1):\n",
    "    for j in range(len(alist)-i-1):\n",
    "        if alist[j] > alist[j+1]:\n",
    "            alist[j],alist[j+1]=alist[j+1],alist[j]\n",
    "            print(alist)\n",
    "        else:\n",
    "            print(alist)"
   ]
  },
  {
   "cell_type": "code",
   "execution_count": 3,
   "metadata": {},
   "outputs": [
    {
     "data": {
      "text/plain": [
       "[1, 2, 7, 9, 3, 4, 6, 7, 9]"
      ]
     },
     "execution_count": 3,
     "metadata": {},
     "output_type": "execute_result"
    }
   ],
   "source": [
    "#定义函数：对2个有序的数组进行合并，形成一个有序的数组\n",
    "def mergeArray(arr1,arr2):\n",
    "    arr=[]\n",
    "    index1=0\n",
    "    index2=0\n",
    "    while index1<len(arr1) and index2<len(arr2):\n",
    "        if arr1[index1]<arr2[index2]:\n",
    "            arr.append(arr1[index1] )\n",
    "            index1=index1+1\n",
    "        else:\n",
    "            arr.append(arr2[index2:])\n",
    "            index2=index2+1\n",
    "            \n",
    "    arr.append( arr1[index1:] )\n",
    "    arr.append( arr2[index2:] )\n",
    "    \n",
    "    single_list=[]\n",
    "    #在一个函数里面在定义声明另一个函数，这个函数的功能是用于展平数组\n",
    "    def parse_list(arr):\n",
    "        if isinstance(arr,list):\n",
    "            for item in arr :\n",
    "                parse_list(item)\n",
    "        else:\n",
    "            single_list.append(arr)\n",
    "    parse_list(arr)\n",
    "    \n",
    "    return single_list\n",
    "\n",
    "arr1=[1,3,4,6]\n",
    "arr2=[2,7,9]\n",
    "\n",
    "mergeArray(arr1,arr2)"
   ]
  },
  {
   "cell_type": "code",
   "execution_count": 6,
   "metadata": {},
   "outputs": [
    {
     "data": {
      "text/plain": [
       "[4, 6, 11, 41, 44, 248]"
      ]
     },
     "execution_count": 6,
     "metadata": {},
     "output_type": "execute_result"
    }
   ],
   "source": [
    "#定义函数：对2个有序的数组进行合并，形成一个有序的数组\n",
    "def mergeArray(arr1,arr2):\n",
    "    arr=[]\n",
    "    index1=0\n",
    "    index2=0\n",
    "    while index1<len(arr1) and index2<len(arr2):\n",
    "        if arr1[index1]<arr2[index2]:\n",
    "            arr.append(arr1[index1])\n",
    "            index1=index1+1\n",
    "        else:\n",
    "            arr.append(arr2[index2])\n",
    "            index2=index2+1\n",
    "    arr.extend(arr1[index1:])\n",
    "    arr.extend(arr2[index2:])\n",
    "    \n",
    "    return arr\n",
    "\n",
    "#  mergeArray(arr1,arr2)\n",
    "\n",
    "'''\n",
    "归并排序\n",
    "'''\n",
    "def merge_sort(lst):\n",
    "    if len(lst) <= 1:\n",
    "        return lst\n",
    "    middle = len(lst)//2\n",
    "    left=merge_sort(lst[:middle])\n",
    "    right=merge_sort(lst[middle:])\n",
    "    return mergeArray(left,right)\n",
    "\n",
    "\n",
    "arr = [4,6,248,44,11,41]\n",
    "merge_sort(arr)"
   ]
  },
  {
   "cell_type": "code",
   "execution_count": 7,
   "metadata": {},
   "outputs": [
    {
     "data": {
      "text/plain": [
       "[1, 2, 3, 5, 7]"
      ]
     },
     "execution_count": 7,
     "metadata": {},
     "output_type": "execute_result"
    }
   ],
   "source": [
    "#快速排序\n",
    "def quickSort(array):\n",
    "    if len(array)<2 :\n",
    "        return array\n",
    "    else:\n",
    "        baseValue = array[0]\n",
    "        less = [m for m in array[1:] if m <baseValue ]\n",
    "        equal= [w for w in array if w==baseValue]\n",
    "        greater = [n for n in array[1:] if n>baseValue ]\n",
    "    return quickSort(less) + equal + quickSort(greater)\n",
    "array=[3,2,1,7,5]\n",
    "quickSort(array)\n"
   ]
  },
  {
   "cell_type": "code",
   "execution_count": null,
   "metadata": {
    "collapsed": true
   },
   "outputs": [],
   "source": []
  }
 ],
 "metadata": {
  "kernelspec": {
   "display_name": "Python 3",
   "language": "python",
   "name": "python3"
  },
  "language_info": {
   "codemirror_mode": {
    "name": "ipython",
    "version": 3
   },
   "file_extension": ".py",
   "mimetype": "text/x-python",
   "name": "python",
   "nbconvert_exporter": "python",
   "pygments_lexer": "ipython3",
   "version": "3.6.2"
  }
 },
 "nbformat": 4,
 "nbformat_minor": 2
}
