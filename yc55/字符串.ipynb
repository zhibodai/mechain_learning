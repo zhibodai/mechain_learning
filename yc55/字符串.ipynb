{
 "cells": [
  {
   "cell_type": "code",
   "execution_count": 1,
   "metadata": {},
   "outputs": [
    {
     "data": {
      "text/plain": [
       "'湖南'"
      ]
     },
     "execution_count": 1,
     "metadata": {},
     "output_type": "execute_result"
    }
   ],
   "source": [
    "'湖南'.encode('cp936').decode('gb2312')"
   ]
  },
  {
   "cell_type": "code",
   "execution_count": 1,
   "metadata": {},
   "outputs": [
    {
     "name": "stdout",
     "output_type": "stream",
     "text": [
      "7\n",
      "13\n",
      "代智博\n"
     ]
    }
   ],
   "source": [
    "'''\n",
    "\n",
    "'''\n",
    "s='湖南皇家工学院'\n",
    "print(len(s) )\n",
    "s='湖南皇家工学院abc123'\n",
    "print(len(s) )\n",
    "\n",
    "姓名 ='代智博'\n",
    "print(姓名)"
   ]
  },
  {
   "cell_type": "code",
   "execution_count": 2,
   "metadata": {},
   "outputs": [
    {
     "name": "stdout",
     "output_type": "stream",
     "text": [
      "1387037290600\n"
     ]
    },
    {
     "ename": "TypeError",
     "evalue": "'type' object does not support item assignment",
     "output_type": "error",
     "traceback": [
      "\u001b[1;31m---------------------------------------------------------------------------\u001b[0m",
      "\u001b[1;31mTypeError\u001b[0m                                 Traceback (most recent call last)",
      "\u001b[1;32m<ipython-input-2-13010245b4b2>\u001b[0m in \u001b[0;36m<module>\u001b[1;34m()\u001b[0m\n\u001b[0;32m      2\u001b[0m \u001b[0mprint\u001b[0m\u001b[1;33m(\u001b[0m\u001b[0mid\u001b[0m\u001b[1;33m(\u001b[0m\u001b[0mstr1\u001b[0m\u001b[1;33m)\u001b[0m\u001b[1;33m)\u001b[0m\u001b[1;33m\u001b[0m\u001b[0m\n\u001b[0;32m      3\u001b[0m \u001b[1;33m\u001b[0m\u001b[0m\n\u001b[1;32m----> 4\u001b[1;33m \u001b[0mstr\u001b[0m\u001b[1;33m[\u001b[0m\u001b[1;36m0\u001b[0m\u001b[1;33m]\u001b[0m\u001b[1;33m=\u001b[0m\u001b[1;34m'b'\u001b[0m  \u001b[1;31m#不可变序列\u001b[0m\u001b[1;33m\u001b[0m\u001b[0m\n\u001b[0m",
      "\u001b[1;31mTypeError\u001b[0m: 'type' object does not support item assignment"
     ]
    }
   ],
   "source": [
    "'''\n",
    "字符串是不可以变的序列\n",
    "支持序列特定操作 （切片，索引访问...）还有支持特有的字符串操作方法\n",
    "'''\n",
    "str1='good'\n",
    "print(id(str1))\n",
    "\n",
    "str[0]='b'  #不可变序列"
   ]
  },
  {
   "cell_type": "code",
   "execution_count": 3,
   "metadata": {},
   "outputs": [
    {
     "data": {
      "text/plain": [
       "'\\npython的驻留机制：对于短字符串，将其赋值给多个不同的对象时，内存中只有一个副本，多个对象共享该副本\\n\\n长字符串不遵守驻留机制\\n'"
      ]
     },
     "execution_count": 3,
     "metadata": {},
     "output_type": "execute_result"
    }
   ],
   "source": [
    "'''\n",
    "python的驻留机制：对于短字符串，将其赋值给多个不同的对象时，内存中只有一个副本，多个对象共享该副本\n",
    "\n",
    "长字符串不遵守驻留机制\n",
    "'''"
   ]
  },
  {
   "cell_type": "code",
   "execution_count": 4,
   "metadata": {},
   "outputs": [
    {
     "data": {
      "text/plain": [
       "'8 数字的八进制表示为：10'"
      ]
     },
     "execution_count": 4,
     "metadata": {},
     "output_type": "execute_result"
    }
   ],
   "source": [
    "'''\n",
    "格式化字符\n",
    "  %c:  char\n",
    "  %d:  int\n",
    "  %i:  int\n",
    "  %o:  八进制\n",
    "  %x:  十六进制\n",
    "  %e:  指数\n",
    "  %s:  字符串\n",
    "\n",
    "'''\n",
    "\n",
    "x=8\n",
    "so='%d 数字的八进制表示为：%o' %(x,x) #序列解包\n",
    "so"
   ]
  },
  {
   "cell_type": "code",
   "execution_count": 6,
   "metadata": {},
   "outputs": [
    {
     "data": {
      "text/plain": [
       "'8'"
      ]
     },
     "execution_count": 6,
     "metadata": {},
     "output_type": "execute_result"
    }
   ],
   "source": [
    "so2=\"%x\"%x\n",
    "so2"
   ]
  },
  {
   "cell_type": "code",
   "execution_count": 7,
   "metadata": {},
   "outputs": [
    {
     "data": {
      "text/plain": [
       "555"
      ]
     },
     "execution_count": 7,
     "metadata": {},
     "output_type": "execute_result"
    }
   ],
   "source": [
    "int('555')  #强制类型转换"
   ]
  },
  {
   "cell_type": "code",
   "execution_count": 9,
   "metadata": {},
   "outputs": [
    {
     "data": {
      "text/plain": [
       "'(1, 2, 3)'"
      ]
     },
     "execution_count": 9,
     "metadata": {},
     "output_type": "execute_result"
    }
   ],
   "source": [
    "str((1,2,3))"
   ]
  },
  {
   "cell_type": "code",
   "execution_count": 10,
   "metadata": {},
   "outputs": [
    {
     "data": {
      "text/plain": [
       "'[1, 2, 3]'"
      ]
     },
     "execution_count": 10,
     "metadata": {},
     "output_type": "execute_result"
    }
   ],
   "source": [
    "'%s'%[1,2,3]"
   ]
  },
  {
   "cell_type": "code",
   "execution_count": 11,
   "metadata": {},
   "outputs": [
    {
     "data": {
      "text/plain": [
       "['(', '1', ',', ' ', '2', ',', ' ', '3', ')']"
      ]
     },
     "execution_count": 11,
     "metadata": {},
     "output_type": "execute_result"
    }
   ],
   "source": [
    "list(str ( (1,2,3) ) )   #list(  '(1,2,3)'  )   "
   ]
  },
  {
   "cell_type": "code",
   "execution_count": 13,
   "metadata": {},
   "outputs": [
    {
     "name": "stdout",
     "output_type": "stream",
     "text": [
      "数字 123的八进制为:0o173,数字456的八进制为0o710\n"
     ]
    }
   ],
   "source": [
    "#使用format进行格式化处理    \n",
    "#   {第几个数值:格式}\n",
    "print('数字 {0:,}的八进制为:{0:#o},数字{1}的八进制为{1:#o}'.format(123,456))"
   ]
  },
  {
   "cell_type": "code",
   "execution_count": 15,
   "metadata": {},
   "outputs": [
    {
     "name": "stdout",
     "output_type": "stream",
     "text": [
      "my name is 代智博 my age is 20\n"
     ]
    }
   ],
   "source": [
    "#使用命名的参数处理方法\n",
    "print('my name is {name} my age is {age}'.format(age='20',name='代智博') )"
   ]
  },
  {
   "cell_type": "code",
   "execution_count": 16,
   "metadata": {},
   "outputs": [
    {
     "name": "stdout",
     "output_type": "stream",
     "text": [
      "x:5 smith 8 tom 10 john\n"
     ]
    }
   ],
   "source": [
    "#当参数放在一个集合里面时，可以用索引来赋值\n",
    "position=(5,8,10)\n",
    "names=('smith','tom','john')\n",
    "print('x:{0[0]} {1[0]} {0[1]} {1[1]} {0[2]} {1[2]}'.format(position,names))"
   ]
  },
  {
   "cell_type": "code",
   "execution_count": 31,
   "metadata": {},
   "outputs": [
    {
     "name": "stdout",
     "output_type": "stream",
     "text": [
      "Weather of \"('Monday', 'rainy')\" is \"('Tuesday', 'sunny')\"\n",
      "====================\n",
      "Weather of \"Monday\" is \"rainy\"\n",
      "Weather of \"Tuesday\" is \"sunny\"\n",
      "Weather of \"Wenesday\" is \"sunny\"\n",
      "Weather of \"Thursday\" is \"rainy\"\n",
      "Weather of \"Friday\" is \"cloudy\"\n",
      "====================\n",
      "Weather of \"Monday\" is \"rainy\"\n",
      "Weather of \"Tuesday\" is \"sunny\"\n",
      "Weather of \"Wenesday\" is \"sunny\"\n",
      "Weather of \"Thursday\" is \"rainy\"\n",
      "Weather of \"Friday\" is \"cloudy\"\n"
     ]
    }
   ],
   "source": [
    "'''\n",
    "格式化的项目案列  请按格式输出一下信息\n",
    "'''\n",
    "weather = [('Monday','rainy'),('Tuesday','sunny'),('Wenesday','sunny'),('Thursday','rainy'),('Friday','cloudy')]\n",
    "formatter='Weather of \"{0[0]}\" is \"{0[1]}\"'.format(weather)\n",
    "print(formatter)\n",
    "print('====================')\n",
    "\n",
    "\n",
    "formatter='Weather of \"{0[0]}\" is \"{0[1]}\"'.format\n",
    "for i in weather:\n",
    "    print(formatter(i) )\n",
    "print('====================')\n",
    "# map (回调函数,列表)\n",
    "for line in map(formatter,weather):\n",
    "    print(line)"
   ]
  },
  {
   "cell_type": "code",
   "execution_count": 24,
   "metadata": {},
   "outputs": [
    {
     "data": {
      "text/plain": [
       "'fckffff'"
      ]
     },
     "execution_count": 24,
     "metadata": {},
     "output_type": "execute_result"
    }
   ],
   "source": [
    "'''\n",
    "恺撒加密\n",
    "'''\n",
    "table=''.maketrans('abcdefghijklmnopqrstuvwsyz','fghijklmnopqrstuvwsyzabcde')\n",
    "s='asfaaaa'\n",
    "s.translate(table)"
   ]
  },
  {
   "cell_type": "code",
   "execution_count": 34,
   "metadata": {},
   "outputs": [
    {
     "name": "stdout",
     "output_type": "stream",
     "text": [
      "abcdefghijklmnopqrstuvwxyzABCDEFGHIJKLMNOPQRSTUVWXYZ\n"
     ]
    }
   ],
   "source": [
    "import string\n",
    "print(string.ascii_letters)"
   ]
  },
  {
   "cell_type": "code",
   "execution_count": 1,
   "metadata": {},
   "outputs": [
    {
     "name": "stdout",
     "output_type": "stream",
     "text": [
      "My name is dong,and I am 39 years old.\n"
     ]
    }
   ],
   "source": [
    "#python 3.6x 开始支持一种新的字符串格式方式，官方叫做Formatted String Literals,在字符串\n",
    "#前面加字母 f 含义与字符串对象 format()的方法类似\n",
    "name='dong'\n",
    "age=39\n",
    "print(f'My name is {name},and I am {age} years old.')"
   ]
  },
  {
   "cell_type": "code",
   "execution_count": 8,
   "metadata": {},
   "outputs": [
    {
     "name": "stdout",
     "output_type": "stream",
     "text": [
      "6\n",
      "19\n",
      "-1\n",
      "25\n",
      "1\n",
      "25\n",
      "5\n"
     ]
    }
   ],
   "source": [
    "'''\n",
    "字符串常用方法\n",
    "find()   rfind()  index()  rindex()  count()\n",
    "str.find(sub[,start[,end]])\n",
    "'''\n",
    "s='apple,peach,banana,peach,pear'\n",
    "print(s.find('peach'))\n",
    "print( s.find('peach',7) )\n",
    "print( s.find('peach',7,20))\n",
    "print( s.rfind('p'))\n",
    "print( s.index('p'))\n",
    "print( s.index('pear'))\n",
    "print( s.count('p'))"
   ]
  },
  {
   "cell_type": "code",
   "execution_count": 12,
   "metadata": {},
   "outputs": [
    {
     "name": "stdout",
     "output_type": "stream",
     "text": [
      "['apple', 'peach', 'banana', 'peach']\n",
      "('apple', ',', 'peach,banana,peach')\n",
      "('apple,peach,banana', ',', 'peach')\n",
      "('apple,peach,', 'banana', ',peach')\n",
      "['2018', '12', '12']\n",
      "[2018, 12, 12]\n"
     ]
    }
   ],
   "source": [
    "'''\n",
    "split(),rsplit(),partition(),rpartition()\n",
    "str.split(seq=None,maxsplit=-1) maxsplit:\n",
    "str.partition(seq)\n",
    "'''\n",
    "s='apple,peach,banana,peach'\n",
    "print(s.split(','))\n",
    "\n",
    "print(s.partition(','))\n",
    "\n",
    "print(s.rpartition(','))\n",
    "\n",
    "print(s.rpartition('banana'))\n",
    "\n",
    "s='2018-12-12'\n",
    "t=s.split('-')\n",
    "print(t)\n",
    "\n",
    "print( list(map(int,t)) )"
   ]
  },
  {
   "cell_type": "code",
   "execution_count": 20,
   "metadata": {},
   "outputs": [
    {
     "name": "stdout",
     "output_type": "stream",
     "text": [
      "['hello', 'world \\n\\n\\n My name is Dong    ']\n",
      "['\\n\\nhello\\t\\t world \\n\\n\\n My name is', 'Dong']\n",
      "['hello', 'world', 'My name is Dong    ']\n",
      "['\\n\\nhello\\t\\t world \\n\\n\\n My name', 'is', 'Dong']\n",
      "['hello', 'world', 'My', 'name', 'is', 'Dong']\n",
      "['hello', 'world', 'My', 'name', 'is', 'Dong']\n"
     ]
    }
   ],
   "source": [
    "#split()  rsplit() 方法还允许指定最大分割次数\n",
    "s='\\n\\nhello\\t\\t world \\n\\n\\n My name is Dong    '\n",
    "print(s.split(None,1)  )\n",
    "print(s.rsplit(None,1)  )\n",
    "print(s.split(None,2)  )\n",
    "print(s.rsplit(None,2)  )\n",
    "print(s.split(maxsplit=6)  )\n",
    "print(s.split(maxsplit=100))  #最大分割次数大于可以分割的次数时，无效"
   ]
  },
  {
   "cell_type": "code",
   "execution_count": 21,
   "metadata": {},
   "outputs": [
    {
     "name": "stdout",
     "output_type": "stream",
     "text": [
      "['hello', 'world', 'My', 'is', 'dong']\n"
     ]
    }
   ],
   "source": [
    "#对于split()和rsplit()方法，如果不指定分隔符，则字符串中的任何空白符号（空格，换行符，制表符等）\n",
    "#都将被认为是分隔符   把连续多个空白格字符看做一个分隔符\n",
    "s='hello  world \\n\\n My  is  dong   '\n",
    "print(s.split())"
   ]
  },
  {
   "cell_type": "code",
   "execution_count": 24,
   "metadata": {},
   "outputs": [
    {
     "name": "stdout",
     "output_type": "stream",
     "text": [
      "apple,peach,banana,pear\n",
      "apple:peach:banana:pear\n",
      "apple::peach::banana::pear\n"
     ]
    }
   ],
   "source": [
    "#字符串连接join()\n",
    "li=['apple','peach','banana','pear']\n",
    "print(','.join(li) )\n",
    "\n",
    "print(':'.join(li) )\n",
    "\n",
    "print('::'.join(li) )"
   ]
  },
  {
   "cell_type": "code",
   "execution_count": 25,
   "metadata": {
    "collapsed": true
   },
   "outputs": [],
   "source": [
    "#不推荐使用+运算符连接字符   ，优先使用join()方法"
   ]
  },
  {
   "cell_type": "code",
   "execution_count": 28,
   "metadata": {},
   "outputs": [
    {
     "name": "stdout",
     "output_type": "stream",
     "text": [
      "What is your name?\n",
      "What Is Your Name?\n",
      "wHAT IS yOUR nAME?\n"
     ]
    }
   ],
   "source": [
    "# lower()  ,upper(), capitalize() tittle() swapcase()\n",
    "s='What is Your Name?'\n",
    "print( s.capitalize() ) #首字母大写\n",
    "print( s.title()  )  #每句话之前大写\n",
    "print( s.swapcase())  #大写变小写，小写变大写"
   ]
  },
  {
   "cell_type": "code",
   "execution_count": 29,
   "metadata": {},
   "outputs": [
    {
     "name": "stdout",
     "output_type": "stream",
     "text": [
      "中国,中国\n",
      "中华人民共和国,中华人民共和国\n"
     ]
    }
   ],
   "source": [
    "#查找替换replace() 类似于word里面的全部替换的功能\n",
    "s='中国,中国'\n",
    "print(s)\n",
    "s2=s.replace('中国','中华人民共和国')\n",
    "print(s2)"
   ]
  },
  {
   "cell_type": "code",
   "execution_count": 30,
   "metadata": {},
   "outputs": [
    {
     "name": "stdout",
     "output_type": "stream",
     "text": [
      "我的***里面有一些***的冲动，一些***的做法\n"
     ]
    }
   ],
   "source": [
    "back=['测试','非法','暴力','话','共党']\n",
    "text='我的话里面有一些暴力的冲动，一些非法的做法'\n",
    "for word in back:\n",
    "    if word in text:\n",
    "        text=text.replace(word,'***')\n",
    "print(text)"
   ]
  },
  {
   "cell_type": "code",
   "execution_count": 31,
   "metadata": {},
   "outputs": [
    {
     "data": {
      "text/plain": [
       "'Python is u gryut progrumming lunguugy . I liky it'"
      ]
     },
     "execution_count": 31,
     "metadata": {},
     "output_type": "execute_result"
    }
   ],
   "source": [
    "#字符串对象的maketrans()的方法用来生成字符映射表，而translate()方法用来根据映射表中定义\n",
    "#的对应关系转换为字符串并替换里面的字符，使用2个方法的组合可以同时处理很多字符\n",
    "table=''.maketrans('abcdef123','uvwxyz@#$')  #  map  a-u  b-v\n",
    "s='Python is a great programming language . I like it'\n",
    "s.translate(table)"
   ]
  },
  {
   "cell_type": "code",
   "execution_count": 42,
   "metadata": {},
   "outputs": [
    {
     "name": "stdout",
     "output_type": "stream",
     "text": [
      "abc\n",
      "hello  world  nihao\n",
      "sdfq\n",
      "sadfq\n",
      "aaaaaafsadfqf\n",
      "fsadfqfaaaa\n",
      "dd\n",
      "ddafddad\n"
     ]
    }
   ],
   "source": [
    "#strip()  rstrip()  lstrip()    strip函数原型\n",
    "\n",
    "#声明：s为字符串，rm为要删除的字符序列. 只能删除开头或是结尾的字符或是字符串。不能删除中间的字符或是字符串。\n",
    "s='  abc   '\n",
    "print( s.strip()  )  #删除空白字符\n",
    "print( '\\n\\n\\n\\nhello  world  nihao \\n\\n\\n'.strip()) #删除空白字符\n",
    "print( 'aaaaaasdfq'.strip('a'))#删除指定字符\n",
    "print( 'aaaaaafsadfqf'.strip('af'))#删除指定字符\n",
    "print( 'aaaaaafsadfqfaaaa'.rstrip('a'))#删除右边指定字符\n",
    "print( 'aaaaaafsadfqfaaaa'.lstrip('a'))#删除左边指定字符\n",
    "\n",
    "print('aafddaf'.strip('af'))\n",
    "\n",
    "print('addafddadf'.strip('af'))"
   ]
  },
  {
   "cell_type": "code",
   "execution_count": 46,
   "metadata": {},
   "outputs": [
    {
     "name": "stdout",
     "output_type": "stream",
     "text": [
      "3+4\n",
      "7\n",
      "8\n",
      "1.7320508075688772\n"
     ]
    }
   ],
   "source": [
    "#内置函数   eval(字符串)  将字符串str当成有效的表达式来求值并返回计算结果\n",
    "print('3+4')\n",
    "print(eval('3+4'))\n",
    "\n",
    "a=3\n",
    "b=5\n",
    "print(eval('a+b') )\n",
    "import math\n",
    "print( eval('math.sqrt(3)') )"
   ]
  },
  {
   "cell_type": "code",
   "execution_count": 47,
   "metadata": {},
   "outputs": [
    {
     "name": "stdout",
     "output_type": "stream",
     "text": [
      "请输入关键字：7+7\n"
     ]
    },
    {
     "data": {
      "text/plain": [
       "14"
      ]
     },
     "execution_count": 47,
     "metadata": {},
     "output_type": "execute_result"
    }
   ],
   "source": [
    "expr=input('请输入关键字：')\n",
    "eval(expr)"
   ]
  },
  {
   "cell_type": "code",
   "execution_count": 1,
   "metadata": {},
   "outputs": [
    {
     "name": "stdout",
     "output_type": "stream",
     "text": [
      "True\n",
      "True\n"
     ]
    }
   ],
   "source": [
    "#成员判断  in\n",
    "print('a'in'abcdf')\n",
    "print('ab'in'abcde')"
   ]
  },
  {
   "cell_type": "code",
   "execution_count": 3,
   "metadata": {},
   "outputs": [
    {
     "name": "stdout",
     "output_type": "stream",
     "text": [
      "    hello world     \n",
      "====hello world=====\n",
      "hello world=========\n",
      "=========hello world\n"
     ]
    }
   ],
   "source": [
    "'''\n",
    "center() ljust()  rjust()  返回指定宽度的新字符 原字符串居中，左，右对齐或者右对齐出现在新字符串中\n",
    "如果指定宽度大于字符串长度，则使用指定的字符（默认空格）填充\n",
    "'''\n",
    "print('hello world'.center(20) ) #居中对齐，以空格进行填充\n",
    "print('hello world'.center(20,'=') )#居中对齐，以=进行填充\n",
    "print('hello world'.ljust(20,'=')) #左对齐\n",
    "print('hello world'.rjust(20,'=')) #右对齐"
   ]
  },
  {
   "cell_type": "code",
   "execution_count": 5,
   "metadata": {},
   "outputs": [
    {
     "name": "stdout",
     "output_type": "stream",
     "text": [
      "00abc\n",
      "abc\n",
      "00000000000000000uio\n"
     ]
    }
   ],
   "source": [
    "# zfill() 返回指定宽度的字符串，在左侧以字符0进行填充  z->zero\n",
    "print('abc'.zfill(5) ) #在左侧填充数字字符0\n",
    "print('abc'.zfill(2) ) #指定宽度小于字符串长度时，返回字符串本身\n",
    "print('uio'.zfill(20))\n"
   ]
  },
  {
   "cell_type": "code",
   "execution_count": 6,
   "metadata": {
    "collapsed": true
   },
   "outputs": [],
   "source": [
    "# isalnum() isalpha()  isdigit()   isdecimal() isnumeric() isspace()  isupper() islower()  用来测试字符串\n",
    "#是否是数字或字母  是否为字母 是否为数字字符 是否为空白字符  是否为大写字母  是否为小写字母"
   ]
  },
  {
   "cell_type": "code",
   "execution_count": 7,
   "metadata": {},
   "outputs": [
    {
     "name": "stdout",
     "output_type": "stream",
     "text": [
      "11\n",
      "w\n",
      " \n",
      "[('h', 'h'), ('e', 'e'), ('l', 'l'), ('l', 'l'), ('o', 'o'), (' ', ' '), ('w', 'w'), ('o', 'o'), ('r', 'r'), ('l', 'l'), ('d', 'd')]\n"
     ]
    }
   ],
   "source": [
    "#除了字符串对象提供的方法外  很多python内置函数也可以对字符串进行操作\n",
    "x='hello world'\n",
    "print( len(x) )  #字符串长度\n",
    "print( max(x) )  #最大的字符\n",
    "print( min(x) )  #最小字符\n",
    "print( list( zip(x,x ) ) )"
   ]
  },
  {
   "cell_type": "code",
   "execution_count": 10,
   "metadata": {},
   "outputs": [
    {
     "name": "stdout",
     "output_type": "stream",
     "text": [
      "hello\n"
     ]
    }
   ],
   "source": [
    "#切片也可以用于字符串  但只能查元素无法修改\n",
    "s='hello world'\n",
    "print(s[:5])"
   ]
  },
  {
   "cell_type": "code",
   "execution_count": 11,
   "metadata": {},
   "outputs": [
    {
     "name": "stdout",
     "output_type": "stream",
     "text": [
      "10\n",
      "b'Python\\xe7\\xa8\\x8b\\xe5\\xba\\x8f\\xe8\\xae\\xbe\\xe8\\xae\\xa1'\n"
     ]
    }
   ],
   "source": [
    "#python 标准库zlib 中提供了compress() 与 decompress() 函数可以用于字节串的压缩和解压缩\n",
    "import zlib\n",
    "print( len('Python程序设计') )\n",
    "x='Python程序设计'.encode()\n",
    "print(x)"
   ]
  },
  {
   "cell_type": "code",
   "execution_count": null,
   "metadata": {
    "collapsed": true
   },
   "outputs": [],
   "source": []
  }
 ],
 "metadata": {
  "kernelspec": {
   "display_name": "Python 3",
   "language": "python",
   "name": "python3"
  },
  "language_info": {
   "codemirror_mode": {
    "name": "ipython",
    "version": 3
   },
   "file_extension": ".py",
   "mimetype": "text/x-python",
   "name": "python",
   "nbconvert_exporter": "python",
   "pygments_lexer": "ipython3",
   "version": "3.6.2"
  }
 },
 "nbformat": 4,
 "nbformat_minor": 2
}
