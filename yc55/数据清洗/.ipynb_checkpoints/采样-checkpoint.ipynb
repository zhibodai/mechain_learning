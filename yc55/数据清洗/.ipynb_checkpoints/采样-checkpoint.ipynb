{
 "cells": [
  {
   "cell_type": "code",
   "execution_count": 1,
   "metadata": {},
   "outputs": [
    {
     "name": "stdout",
     "output_type": "stream",
     "text": [
      "不使用分层抽样\n",
      "X_train [[31, 32, 33, 34], [1, 2, 3, 4], [51, 52, 53, 54], [41, 42, 43, 44]]\n",
      "X_test [[61, 62, 63, 64], [21, 22, 23, 24], [11, 12, 13, 14], [71, 72, 73, 74]]\n",
      "y_train [0, 1, 1, 1]\n",
      "y_test [0, 0, 1, 0]\n",
      "使用分层抽样  stratify\n",
      "X_train [[41, 42, 43, 44], [61, 62, 63, 64], [1, 2, 3, 4], [71, 72, 73, 74]]\n",
      "X_test [[21, 22, 23, 24], [31, 32, 33, 34], [11, 12, 13, 14], [51, 52, 53, 54]]\n",
      "y_train [1, 0, 1, 0]\n",
      "y_test [0, 0, 1, 1]\n"
     ]
    }
   ],
   "source": [
    "#train_test_split\n",
    "from sklearn.model_selection import train_test_split,KFold,StratifiedKFold,LeaveOneOut,cross_val_score\n",
    "import numpy as np\n",
    "def test_train_test_split():\n",
    "    '''\n",
    "    测试 train_test_split 的用法\n",
    "    \n",
    "    '''\n",
    "    X=[[1,2,3,4],\n",
    "       [11,12,13,14],\n",
    "       [21,22,23,24],\n",
    "       [31,32,33,34],\n",
    "       [41,42,43,44],\n",
    "       [51,52,53,54],\n",
    "       [61,62,63,64],\n",
    "       [71,72,73,74]]\n",
    "    y=[1,1,0,0,1,1,0,0]\n",
    "    \n",
    "    X_train,X_test,y_train,y_test=train_test_split(X,y,test_size=0.4,random_state=0)  #切分  为原始数据集大小的  40% \n",
    "    print('不使用分层抽样')\n",
    "    print('X_train',X_train)\n",
    "    print('X_test',X_test)\n",
    "    print('y_train',y_train)\n",
    "    print('y_test',y_test)\n",
    "    \n",
    "    X_train,X_test,y_train,y_test=train_test_split(X,y,test_size=0.4,random_state=0,stratify=y)  #切分  为原始数据集大小的  40% \n",
    "    print('使用分层抽样  stratify')\n",
    "    print('X_train',X_train)\n",
    "    print('X_test',X_test)\n",
    "    print('y_train',y_train)\n",
    "    print('y_test',y_test)\n",
    "\n",
    "test_train_test_split()"
   ]
  },
  {
   "cell_type": "code",
   "execution_count": 2,
   "metadata": {},
   "outputs": [
    {
     "name": "stdout",
     "output_type": "stream",
     "text": [
      "不混洗数据集\n",
      "train_index [2 3 4 5 6 7]\n",
      "test_index [0 1]\n",
      "x_train [[21 22 23 24]\n",
      " [31 32 33 34]\n",
      " [41 42 43 44]\n",
      " [51 52 53 54]\n",
      " [61 62 63 64]\n",
      " [71 72 73 74]]\n",
      "x_test [[ 1  2  3  4]\n",
      " [11 12 13 14]]\n",
      "    \n",
      "train_index [0 1 4 5 6 7]\n",
      "test_index [2 3]\n",
      "x_train [[ 1  2  3  4]\n",
      " [11 12 13 14]\n",
      " [41 42 43 44]\n",
      " [51 52 53 54]\n",
      " [61 62 63 64]\n",
      " [71 72 73 74]]\n",
      "x_test [[21 22 23 24]\n",
      " [31 32 33 34]]\n",
      "    \n",
      "train_index [0 1 2 3 6 7]\n",
      "test_index [4 5]\n",
      "x_train [[ 1  2  3  4]\n",
      " [11 12 13 14]\n",
      " [21 22 23 24]\n",
      " [31 32 33 34]\n",
      " [61 62 63 64]\n",
      " [71 72 73 74]]\n",
      "x_test [[41 42 43 44]\n",
      " [51 52 53 54]]\n",
      "    \n",
      "train_index [0 1 2 3 4 5]\n",
      "test_index [6 7]\n",
      "x_train [[ 1  2  3  4]\n",
      " [11 12 13 14]\n",
      " [21 22 23 24]\n",
      " [31 32 33 34]\n",
      " [41 42 43 44]\n",
      " [51 52 53 54]]\n",
      "x_test [[61 62 63 64]\n",
      " [71 72 73 74]]\n",
      "    \n",
      "混洗数据集\n",
      "train_index [2 3 4 5 6 7]\n",
      "test_index [0 1]\n",
      "x_train [[21 22 23 24]\n",
      " [31 32 33 34]\n",
      " [41 42 43 44]\n",
      " [51 52 53 54]\n",
      " [61 62 63 64]\n",
      " [71 72 73 74]]\n",
      "x_test [[ 1  2  3  4]\n",
      " [11 12 13 14]]\n",
      "    \n",
      "train_index [0 1 4 5 6 7]\n",
      "test_index [2 3]\n",
      "x_train [[ 1  2  3  4]\n",
      " [11 12 13 14]\n",
      " [41 42 43 44]\n",
      " [51 52 53 54]\n",
      " [61 62 63 64]\n",
      " [71 72 73 74]]\n",
      "x_test [[21 22 23 24]\n",
      " [31 32 33 34]]\n",
      "    \n",
      "train_index [0 1 2 3 6 7]\n",
      "test_index [4 5]\n",
      "x_train [[ 1  2  3  4]\n",
      " [11 12 13 14]\n",
      " [21 22 23 24]\n",
      " [31 32 33 34]\n",
      " [61 62 63 64]\n",
      " [71 72 73 74]]\n",
      "x_test [[41 42 43 44]\n",
      " [51 52 53 54]]\n",
      "    \n",
      "train_index [0 1 2 3 4 5]\n",
      "test_index [6 7]\n",
      "x_train [[ 1  2  3  4]\n",
      " [11 12 13 14]\n",
      " [21 22 23 24]\n",
      " [31 32 33 34]\n",
      " [41 42 43 44]\n",
      " [51 52 53 54]]\n",
      "x_test [[61 62 63 64]\n",
      " [71 72 73 74]]\n",
      "    \n"
     ]
    }
   ],
   "source": [
    "def test_KFold():\n",
    "    '''\n",
    "    测试  KFold 的用法\n",
    "    \n",
    "    '''\n",
    "    X=np.array([[1,2,3,4],\n",
    "       [11,12,13,14],\n",
    "       [21,22,23,24],\n",
    "       [31,32,33,34],\n",
    "       [41,42,43,44],\n",
    "       [51,52,53,54],\n",
    "       [61,62,63,64],\n",
    "       [71,72,73,74]])\n",
    "    y=np.array([1,1,0,0,1,1,0,0])\n",
    "    \n",
    "    folder=KFold(n_splits=4,random_state=0,shuffle=False)  #切分之前不混洗数据集\n",
    "    print('不混洗数据集')\n",
    "    for train_index,test_index in folder.split(X,y):\n",
    "        print('train_index',train_index)\n",
    "        print('test_index',test_index)\n",
    "        print('x_train',X[train_index])\n",
    "        print('x_test',X[test_index])\n",
    "        print('    ')\n",
    "        \n",
    "    print('混洗数据集')\n",
    "    shuffle_folder=KFold(n_splits=3,random_state=0,shuffle=True)\n",
    "    for train_index,test_index in folder.split(X,y):\n",
    "        print('train_index',train_index)\n",
    "        print('test_index',test_index)\n",
    "        print('x_train',X[train_index])\n",
    "        print('x_test',X[test_index])\n",
    "        print('    ') \n",
    "\n",
    "test_KFold()"
   ]
  },
  {
   "cell_type": "code",
   "execution_count": 3,
   "metadata": {},
   "outputs": [
    {
     "name": "stdout",
     "output_type": "stream",
     "text": [
      "Train Index: [2 3 4 5 6 7]\n",
      "test Index: [0 1]\n",
      "y_train: [0 0 1 1 0 0]\n",
      "y_test: [1 1]\n",
      "Train Index: [0 1 4 5 6 7]\n",
      "test Index: [2 3]\n",
      "y_train: [1 1 1 1 0 0]\n",
      "y_test: [0 0]\n",
      "Train Index: [0 1 2 3 6 7]\n",
      "test Index: [4 5]\n",
      "y_train: [1 1 0 0 0 0]\n",
      "y_test: [1 1]\n",
      "Train Index: [0 1 2 3 4 5]\n",
      "test Index: [6 7]\n",
      "y_train: [1 1 0 0 1 1]\n",
      "y_test: [0 0]\n",
      "切分后的数据\n",
      "Train Index: [1 3 4 5 6 7]\n",
      "test Index: [0 2]\n",
      "y_train: [1 0 1 1 0 0]\n",
      "y_test: [1 0]\n",
      "Train Index: [0 2 4 5 6 7]\n",
      "test Index: [1 3]\n",
      "y_train: [1 0 1 1 0 0]\n",
      "y_test: [1 0]\n",
      "Train Index: [0 1 2 3 5 7]\n",
      "test Index: [4 6]\n",
      "y_train: [1 1 0 0 1 0]\n",
      "y_test: [1 0]\n",
      "Train Index: [0 1 2 3 4 6]\n",
      "test Index: [5 7]\n",
      "y_train: [1 1 0 0 1 0]\n",
      "y_test: [1 0]\n"
     ]
    }
   ],
   "source": [
    "# stratifiedKFold  分层采样\n",
    "import numpy as np\n",
    "def test_StratifiedKFold():\n",
    "    '''\n",
    "    测试   stratifiedKFold 的用法\n",
    "    \n",
    "    :return None\n",
    "    '''\n",
    "    X=np.array([[1,2,3,4],\n",
    "                [11,12,13,14],\n",
    "                [21,22,23,24],\n",
    "                [31,32,33,34],\n",
    "                [41,42,43,44],\n",
    "                [51,52,53,54],\n",
    "                [61,62,63,64],\n",
    "                [71,72,73,74]\n",
    "                ])\n",
    "    y=np.array([1,1,0,0,1,1,0,0])\n",
    "    \n",
    "    folder=KFold(n_splits=4,random_state=0,shuffle=False) #无分层采样的  \n",
    "    stratified_folder=StratifiedKFold(n_splits=4,random_state=0,shuffle=False)\n",
    "    for train_index,test_index in folder.split(X,y):\n",
    "        print('Train Index:',train_index)\n",
    "        print('test Index:',test_index)\n",
    "        print('y_train:',y[train_index])\n",
    "        print('y_test:',y[test_index])\n",
    "        \n",
    "    \n",
    "    print('切分后的数据')\n",
    "    for train_index,test_index in stratified_folder.split(X,y):\n",
    "        print('Train Index:',train_index)\n",
    "        print('test Index:',test_index)\n",
    "        print('y_train:',y[train_index])\n",
    "        print('y_test:',y[test_index])\n",
    "        \n",
    "        \n",
    "test_StratifiedKFold()"
   ]
  },
  {
   "cell_type": "code",
   "execution_count": 6,
   "metadata": {},
   "outputs": [
    {
     "name": "stdout",
     "output_type": "stream",
     "text": [
      "Train: [1 2 3] Test: [0]\n",
      "留一后的训练与测试数据: [[11 12 13 14]\n",
      " [21 22 23 24]\n",
      " [31 32 33 34]] [[1 2 3 4]]\n",
      "留一后的训练与测试标签: [1 0 0] [1]\n",
      "Train: [0 2 3] Test: [1]\n",
      "留一后的训练与测试数据: [[ 1  2  3  4]\n",
      " [21 22 23 24]\n",
      " [31 32 33 34]] [[11 12 13 14]]\n",
      "留一后的训练与测试标签: [1 0 0] [1]\n",
      "Train: [0 1 3] Test: [2]\n",
      "留一后的训练与测试数据: [[ 1  2  3  4]\n",
      " [11 12 13 14]\n",
      " [31 32 33 34]] [[21 22 23 24]]\n",
      "留一后的训练与测试标签: [1 1 0] [0]\n",
      "Train: [0 1 2] Test: [3]\n",
      "留一后的训练与测试数据: [[ 1  2  3  4]\n",
      " [11 12 13 14]\n",
      " [21 22 23 24]] [[31 32 33 34]]\n",
      "留一后的训练与测试标签: [1 1 0] [0]\n"
     ]
    }
   ],
   "source": [
    "def test_LeaveOneOut():\n",
    "    '''\n",
    "    测试  LeaveOneOut  的用法\n",
    "    '''\n",
    "    X=np.array([[1,2,3,4],\n",
    "                [11,12,13,14],\n",
    "                [21,22,23,24],\n",
    "                [31,32,33,34]])\n",
    "    y=np.array([1,1,0,0])\n",
    "    loo=LeaveOneOut()\n",
    "    \n",
    "    for train_index,test_index in loo.split(X):\n",
    "        print('Train:',train_index,'Test:',test_index)\n",
    "        X_train,X_test=X[train_index],X[test_index]\n",
    "        y_train,y_test=y[train_index],y[test_index]\n",
    "        print('留一后的训练与测试数据:',X_train,X_test)\n",
    "        print('留一后的训练与测试标签:',y_train,y_test)\n",
    "        \n",
    "test_LeaveOneOut()"
   ]
  },
  {
   "cell_type": "code",
   "execution_count": 5,
   "metadata": {},
   "outputs": [
    {
     "name": "stdout",
     "output_type": "stream",
     "text": [
      "cross_val_score  is: [ 0.9027027   0.93442623  0.87845304  0.88888889  0.92178771  0.94413408\n",
      "  0.97765363  0.94382022  0.86440678  0.92045455]\n"
     ]
    }
   ],
   "source": [
    "def test_cross_val_score():\n",
    "    '''\n",
    "    测试 cross_val_score 的用法\n",
    "    \n",
    "    将数据集 折成  cv=10   ->  kfold\n",
    "    '''\n",
    "    from sklearn.datasets import load_digits    #手写数字识别\n",
    "    from sklearn.svm import LinearSVC   #分类器\n",
    "    \n",
    "    digits=load_digits()  #加载用于分类问题的数据集\n",
    "    X=digits.data\n",
    "    y=digits.target \n",
    "    #   LinearSVC  学习器必须要有 score\n",
    "    result=cross_val_score(LinearSVC( ),X,y,cv=10)\n",
    "    print('cross_val_score  is:',result)\n",
    "\n",
    "test_cross_val_score()"
   ]
  },
  {
   "cell_type": "markdown",
   "metadata": {},
   "source": [
    "# 自定义实现采样\n",
    "\n",
    "### 随机采样"
   ]
  },
  {
   "cell_type": "markdown",
   "metadata": {},
   "source": [
    "#### 1.无放回采样"
   ]
  },
  {
   "cell_type": "code",
   "execution_count": 14,
   "metadata": {
    "collapsed": true
   },
   "outputs": [],
   "source": [
    "import random\n",
    "def RandomSampling(dataMat,number):\n",
    "    '''\n",
    "    无放回采样\n",
    "    '''\n",
    "    try:\n",
    "        slice =random.sample(dataMat,number)\n",
    "        return slice\n",
    "    except:\n",
    "        print('sample larger than populartion')"
   ]
  },
  {
   "cell_type": "code",
   "execution_count": 8,
   "metadata": {},
   "outputs": [
    {
     "data": {
      "text/plain": [
       "[[11, 12, 13, 14],\n",
       " [71, 72, 73, 74],\n",
       " [1, 2, 3, 4],\n",
       " [51, 52, 53, 54],\n",
       " [41, 42, 43, 44],\n",
       " [31, 32, 33, 34],\n",
       " [21, 22, 23, 24]]"
      ]
     },
     "execution_count": 8,
     "metadata": {},
     "output_type": "execute_result"
    }
   ],
   "source": [
    "data=[          [1,2,3,4],\n",
    "                [11,12,13,14],\n",
    "                [21,22,23,24],\n",
    "                [31,32,33,34],\n",
    "                [41,42,43,44],\n",
    "                [51,52,53,54],\n",
    "                [61,62,63,64],\n",
    "                [71,72,73,74]]\n",
    "RandomSampling(data,7)"
   ]
  },
  {
   "cell_type": "markdown",
   "metadata": {},
   "source": [
    "#### 2.有放回采样"
   ]
  },
  {
   "cell_type": "code",
   "execution_count": 9,
   "metadata": {},
   "outputs": [
    {
     "data": {
      "text/plain": [
       "[[1, 2, 3, 4],\n",
       " [41, 42, 43, 44],\n",
       " [31, 32, 33, 34],\n",
       " [21, 22, 23, 24],\n",
       " [1, 2, 3, 4],\n",
       " [61, 62, 63, 64],\n",
       " [11, 12, 13, 14]]"
      ]
     },
     "execution_count": 9,
     "metadata": {},
     "output_type": "execute_result"
    }
   ],
   "source": [
    "def RepetitionRandomSampling(dataMat,number):\n",
    "    '''\n",
    "    放回采样\n",
    "    '''\n",
    "    sample=[]\n",
    "    for i in range(number):\n",
    "        sample.append(dataMat[random.randint(0,len(dataMat)-1)])\n",
    "    return sample\n",
    "\n",
    "RepetitionRandomSampling(data,7)"
   ]
  },
  {
   "cell_type": "markdown",
   "metadata": {},
   "source": [
    "#### 3.分层采样"
   ]
  },
  {
   "cell_type": "code",
   "execution_count": 17,
   "metadata": {
    "collapsed": true
   },
   "outputs": [],
   "source": [
    "def StratifiedSampling(dataMat1,dataMat2,dataMat3,number):\n",
    "    sample=[]\n",
    "    num=number//3\n",
    "    sample.append(RandomSampling(dataMat1,num))\n",
    "    sample.append(RandomSampling(dataMat2,num))\n",
    "    sample.append(RandomSampling(dataMat3,num))\n",
    "    return sample"
   ]
  },
  {
   "cell_type": "code",
   "execution_count": 18,
   "metadata": {},
   "outputs": [
    {
     "data": {
      "text/plain": [
       "[[3, 4], [7, 8], [12, 13]]"
      ]
     },
     "execution_count": 18,
     "metadata": {},
     "output_type": "execute_result"
    }
   ],
   "source": [
    "data1=[1,2,3,4]\n",
    "data2=[6,7,8,9]\n",
    "data3=[10,11,12,13]\n",
    "StratifiedSampling(data1,data2,data3,6)"
   ]
  },
  {
   "cell_type": "markdown",
   "metadata": {},
   "source": [
    "#### 4.系统采样"
   ]
  },
  {
   "cell_type": "code",
   "execution_count": 19,
   "metadata": {
    "collapsed": true
   },
   "outputs": [],
   "source": [
    "def SystematicSampling(dataMat,number):\n",
    "    '''\n",
    "    系统采样\n",
    "    系统采用又称为等距采样\n",
    "    '''\n",
    "    length=len(dataMat)\n",
    "    k=length//number\n",
    "    sample=[]\n",
    "    i=0\n",
    "    if k>0:\n",
    "        while len(sample)!=number:\n",
    "            sample.append(dataMat[0+i*k])\n",
    "            i+=1\n",
    "        return sample\n",
    "    else:\n",
    "        return RandomSampling(dataMat,number)"
   ]
  },
  {
   "cell_type": "code",
   "execution_count": 20,
   "metadata": {},
   "outputs": [
    {
     "data": {
      "text/plain": [
       "[[1, 2, 3, 4], [21, 22, 23, 24], [41, 42, 43, 44]]"
      ]
     },
     "execution_count": 20,
     "metadata": {},
     "output_type": "execute_result"
    }
   ],
   "source": [
    "SystematicSampling(data,3)"
   ]
  },
  {
   "cell_type": "markdown",
   "metadata": {},
   "source": [
    "### 二元化"
   ]
  },
  {
   "cell_type": "code",
   "execution_count": 22,
   "metadata": {},
   "outputs": [
    {
     "name": "stdout",
     "output_type": "stream",
     "text": [
      "转换前: [[1, 2, 3, 4, 5], [5, 4, 3, 2, 1], [3, 3, 3, 3, 3], [1, 1, 1, 1, 1]]\n",
      "转换后： [[0 0 1 1 1]\n",
      " [1 1 1 0 0]\n",
      " [1 1 1 1 1]\n",
      " [0 0 0 0 0]]\n"
     ]
    }
   ],
   "source": [
    "from sklearn.preprocessing import Binarizer\n",
    "\n",
    "#二元化\n",
    "def test_Binarizer():\n",
    "    '''\n",
    "    测试 Binarizer 的使用方法\n",
    "    '''\n",
    "    X=[[1,2,3,4,5],\n",
    "        [5,4,3,2,1],\n",
    "       [3,3,3,3,3],\n",
    "       [1,1,1,1,1]]\n",
    "    print(\"转换前:\",X)\n",
    "    binarizer=Binarizer(threshold=2.5)   #阈值  2.5\n",
    "    print('转换后：',binarizer.transform(X) )\n",
    "    \n",
    "test_Binarizer()"
   ]
  },
  {
   "cell_type": "markdown",
   "metadata": {},
   "source": [
    "### 独热编码"
   ]
  },
  {
   "cell_type": "code",
   "execution_count": 24,
   "metadata": {},
   "outputs": [
    {
     "name": "stdout",
     "output_type": "stream",
     "text": [
      "before transform: [[1, 2, 3, 4, 5], [5, 4, 3, 2, 1], [3, 3, 3, 3, 3], [1, 1, 1, 1, 1]]\n",
      "活跃的特征值： [ 1  3  5  7  8  9 10 12 14 16 17 18 19 21 23 25]\n",
      "目录特征值： [ 0  6 11 15 20 26]\n",
      "n_values_: [6 5 4 5 6]\n",
      "after transform:   (0, 15)\t1.0\n",
      "  (0, 12)\t1.0\n",
      "  (0, 8)\t1.0\n",
      "  (0, 4)\t1.0\n",
      "  (0, 2)\t1.0\n"
     ]
    }
   ],
   "source": [
    "from sklearn.preprocessing import OneHotEncoder\n",
    "def test_OneHotEncoder():\n",
    "    '''\n",
    "    OneHotEncoder  的用法\n",
    "    '''\n",
    "    X=[[1,2,3,4,5],\n",
    "        [5,4,3,2,1],\n",
    "       [3,3,3,3,3],\n",
    "       [1,1,1,1,1]]\n",
    "    print('before transform:',X)\n",
    "    encoder=OneHotEncoder(sparse=True)    #假如是 True  每一个值都是一个稀疏矩阵\n",
    "    encoder.fit(X)\n",
    "    \n",
    "    #激活特征 如原始数据的某个属性的某个取值在转换后数据的第i个属性中激活\n",
    "    print('活跃的特征值：',encoder.active_features_)\n",
    "    print('目录特征值：',encoder.feature_indices_)\n",
    "    \n",
    "    print('n_values_:',encoder.n_values_)\n",
    "    print('after transform:',encoder.transform([[5,2,3,4,5]]))\n",
    "    \n",
    "test_OneHotEncoder()"
   ]
  },
  {
   "cell_type": "code",
   "execution_count": null,
   "metadata": {
    "collapsed": true
   },
   "outputs": [],
   "source": []
  }
 ],
 "metadata": {
  "kernelspec": {
   "display_name": "Python 3",
   "language": "python",
   "name": "python3"
  },
  "language_info": {
   "codemirror_mode": {
    "name": "ipython",
    "version": 3
   },
   "file_extension": ".py",
   "mimetype": "text/x-python",
   "name": "python",
   "nbconvert_exporter": "python",
   "pygments_lexer": "ipython3",
   "version": "3.6.2"
  }
 },
 "nbformat": 4,
 "nbformat_minor": 2
}
