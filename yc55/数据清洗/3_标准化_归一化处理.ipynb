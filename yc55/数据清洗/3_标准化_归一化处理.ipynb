{
 "cells": [
  {
   "cell_type": "markdown",
   "metadata": {},
   "source": [
    "# Standardization 标准化：去均值    方差规范化"
   ]
  },
  {
   "cell_type": "code",
   "execution_count": 3,
   "metadata": {},
   "outputs": [
    {
     "data": {
      "text/plain": [
       "array([[ 0.        , -1.22474487,  1.33630621],\n",
       "       [ 1.22474487,  0.        , -0.26726124],\n",
       "       [-1.22474487,  1.22474487, -1.06904497]])"
      ]
     },
     "execution_count": 3,
     "metadata": {},
     "output_type": "execute_result"
    }
   ],
   "source": [
    "from sklearn import preprocessing\n",
    "import numpy as np\n",
    "\n",
    "#创建一组特征数据  每一行表示一个样本，每一列表示一个特征\n",
    "x=np.array([[1.,-1.,2.],\n",
    "            [2.,0.,0.],\n",
    "            [0.,1.,-1.] ])\n",
    "\n",
    "#将每一列特征标准化为标准正太分布  注意  标准化是针对每一列而言的\n",
    "x_scale=preprocessing.scale(x)\n",
    "x_scale"
   ]
  },
  {
   "cell_type": "code",
   "execution_count": 4,
   "metadata": {},
   "outputs": [
    {
     "data": {
      "text/plain": [
       "array([ 0.,  0.,  0.])"
      ]
     },
     "execution_count": 4,
     "metadata": {},
     "output_type": "execute_result"
    }
   ],
   "source": [
    "#可以查看标准化后的数据的均值与方差\n",
    "x_scale.mean(axis=0)"
   ]
  },
  {
   "cell_type": "code",
   "execution_count": 5,
   "metadata": {},
   "outputs": [
    {
     "data": {
      "text/plain": [
       "array([ 1.,  1.,  1.])"
      ]
     },
     "execution_count": 5,
     "metadata": {},
     "output_type": "execute_result"
    }
   ],
   "source": [
    "#方差\n",
    "x_scale.var(axis=0)"
   ]
  },
  {
   "cell_type": "raw",
   "metadata": {},
   "source": [
    "preprocessing这个模块还提供一个实用类的StandarScaler  它可以在训练数据集上做了标准转换的操作之后，把相同的转换应用测试训练集中\n",
    "可以对训练数据，测试数据应用相同的转换  以后有新的数据进来也可以直接调用。不用重新把数据放在一起在计算了一次了"
   ]
  },
  {
   "cell_type": "code",
   "execution_count": 6,
   "metadata": {},
   "outputs": [
    {
     "data": {
      "text/plain": [
       "StandardScaler(copy=True, with_mean=True, with_std=True)"
      ]
     },
     "execution_count": 6,
     "metadata": {},
     "output_type": "execute_result"
    }
   ],
   "source": [
    "#调用fit方法  根据已有的训练数据创建一个标准化的转换器\n",
    "scaler=preprocessing.StandardScaler().fit(x)\n",
    "scaler"
   ]
  },
  {
   "cell_type": "code",
   "execution_count": 7,
   "metadata": {},
   "outputs": [
    {
     "data": {
      "text/plain": [
       "array([[ 0.        , -1.22474487,  1.33630621],\n",
       "       [ 1.22474487,  0.        , -0.26726124],\n",
       "       [-1.22474487,  1.22474487, -1.06904497]])"
      ]
     },
     "execution_count": 7,
     "metadata": {},
     "output_type": "execute_result"
    }
   ],
   "source": [
    "#使用上面这个转换器去转换训练数据x，调用 transform方法\n",
    "scaler.transform(x)"
   ]
  },
  {
   "cell_type": "code",
   "execution_count": 8,
   "metadata": {},
   "outputs": [
    {
     "data": {
      "text/plain": [
       "array([[-2.44948974,  1.22474487, -0.26726124]])"
      ]
     },
     "execution_count": 8,
     "metadata": {},
     "output_type": "execute_result"
    }
   ],
   "source": [
    "# 新加入一组样本也想得到相同的转换\n",
    "new_x=[[-1.,1.,0.]]\n",
    "scaler.transform(new_x)"
   ]
  },
  {
   "cell_type": "markdown",
   "metadata": {},
   "source": [
    "# 更进一步：规范化特征值到一定范围内\n",
    "\n",
    "#### 使得特征分布是在一个给定最小值与最大值的范围内，一般情况下是在[0,1]之间，或者是特征中绝对值最大的那个数为1，其他的数以此标准分布在 [-1,1] 之间\n",
    "#### 之所以需要将特征规模化到一定的 [0,1]  的范围内 是为对付那些标准差相当小的特征并且保留下稀疏矩阵的0值"
   ]
  },
  {
   "cell_type": "markdown",
   "metadata": {},
   "source": [
    "##### 1.min-max  标准化_离差归一化\n",
    "######  限制数据在  [0,1]  之间\n",
    "###### y=(x-MinValue)/(MaxValue-minValue)\n",
    "###### x_scaler = x_std / (max-min) +min"
   ]
  },
  {
   "cell_type": "code",
   "execution_count": 13,
   "metadata": {},
   "outputs": [
    {
     "name": "stdout",
     "output_type": "stream",
     "text": [
      "[[ 0.5         0.          1.        ]\n",
      " [ 1.          0.5         0.33333333]\n",
      " [ 0.          1.          0.        ]]\n"
     ]
    }
   ],
   "source": [
    "#以下这个例子是将数据规在  [0,1] 之间 每个特征中的最小值变成了0  最大值变成了1\n",
    "from sklearn import preprocessing\n",
    "import numpy as np\n",
    "\n",
    "X_train=np.array([[1.,-1.,2.],\n",
    "                  [2.,0.,0.],\n",
    "                  [0.,1.,-1.]])\n",
    "min_max_scaler= preprocessing.MinMaxScaler()\n",
    "X_train_minmax=min_max_scaler.fit_transform(X_train)\n",
    "print(X_train_minmax)"
   ]
  },
  {
   "cell_type": "code",
   "execution_count": 14,
   "metadata": {},
   "outputs": [
    {
     "name": "stdout",
     "output_type": "stream",
     "text": [
      "缩放因子： [ 0.5         0.5         0.33333333]\n",
      "每列最小值: [ 0.          0.5         0.33333333]\n"
     ]
    }
   ],
   "source": [
    "#缩放因子等属性\n",
    "print('缩放因子：',min_max_scaler.scale_)\n",
    "print('每列最小值:',min_max_scaler.min_)"
   ]
  },
  {
   "cell_type": "code",
   "execution_count": 16,
   "metadata": {},
   "outputs": [
    {
     "data": {
      "text/plain": [
       "array([[-1.5       ,  0.        ,  1.66666667]])"
      ]
     },
     "execution_count": 16,
     "metadata": {},
     "output_type": "execute_result"
    }
   ],
   "source": [
    "#如果有新的测试数据进来 也想做相同的转换\n",
    "x_test=np.array([[-3.,-1.,4.]])\n",
    "x_test_minmax=min_max_scaler.transform(x_test)\n",
    "x_test_minmax"
   ]
  },
  {
   "cell_type": "code",
   "execution_count": 24,
   "metadata": {
    "collapsed": true
   },
   "outputs": [],
   "source": [
    "#自定义实现离差标准化\n",
    "def AutoNorm(mat):\n",
    "    '''\n",
    "    对矩阵执行离差标准化\n",
    "    '''\n",
    "    n=len(mat)\n",
    "    m=len(mat[0])\n",
    "    MinNum=np.min( mat,axis=0)\n",
    "    MaxNum=np.max(mat,axis=0)\n",
    "    print('min:',MinNum)\n",
    "    \n",
    "    section=list(map(lambda x: x[0]-x[1],zip(MaxNum,MinNum)))\n",
    "    print('每列的取值范围：',section)\n",
    "    NormMat=[]\n",
    "    \n",
    "    for k in mat:\n",
    "        distance=list(map(lambda x:x[0]-x[1],zip(k,MinNum)))\n",
    "        value=list(map(lambda x:x[0]/x[1],zip(distance,section)))      #  (x-min)/(max-min)\n",
    "        NormMat.append(value)\n",
    "    return NormMat"
   ]
  },
  {
   "cell_type": "code",
   "execution_count": 25,
   "metadata": {},
   "outputs": [
    {
     "name": "stdout",
     "output_type": "stream",
     "text": [
      "min: [ 0 -1 -1]\n",
      "每列的取值范围： [2, 2, 3]\n"
     ]
    },
    {
     "data": {
      "text/plain": [
       "[[0.5, 0.0, 1.0], [1.0, 0.5, 0.33333333333333331], [0.0, 1.0, 0.0]]"
      ]
     },
     "execution_count": 25,
     "metadata": {},
     "output_type": "execute_result"
    }
   ],
   "source": [
    "dataMat=[[1,-1,2],\n",
    "         [2,0,0],\n",
    "         [0,1,-1]]\n",
    "AutoNorm(dataMat)  "
   ]
  },
  {
   "cell_type": "markdown",
   "metadata": {},
   "source": [
    "# 2.最大化绝对值标准化， MaxAbsScaler：将每个属性除以该属性的绝对值的中最大值\n",
    "\n",
    "它通过除以最大值将训练集缩放至[-1,1] 这意味着数据已经以0为中心或者是含有非常非常多0的稀疏矩阵\n",
    "它可以将最大的绝对值缩放至单位大小"
   ]
  },
  {
   "cell_type": "code",
   "execution_count": 26,
   "metadata": {},
   "outputs": [
    {
     "name": "stdout",
     "output_type": "stream",
     "text": [
      "转换前: [[1, 5, 1, 2, 10], [2, 6, 3, 2, 7], [3, 7, 5, 6, 4], [4, 8, 7, 8, 1]]\n",
      "缩放倍数的例数，也就是每个特征取值的绝对的最大值： [  4.   8.   7.   8.  10.]\n",
      "每个属性的绝对值的最大值： [  4.   8.   7.   8.  10.]\n",
      "转换后： [[ 0.25        0.625       0.14285714  0.25        1.        ]\n",
      " [ 0.5         0.75        0.42857143  0.25        0.7       ]\n",
      " [ 0.75        0.875       0.71428571  0.75        0.4       ]\n",
      " [ 1.          1.          1.          1.          0.1       ]]\n"
     ]
    }
   ],
   "source": [
    "from sklearn.preprocessing import MaxAbsScaler\n",
    "def test_MaxAbsScaler():\n",
    "    '''\n",
    "    测试 MaxAbsScaler 的用法\n",
    "    ：return ：None\n",
    "    '''\n",
    "    x=[[1,5,1,2,10],\n",
    "       [2,6,3,2,7],\n",
    "       [3,7,5,6,4],\n",
    "       [4,8,7,8,1]]\n",
    "    print('转换前:',x)\n",
    "    scaler=MaxAbsScaler()\n",
    "    scaler.fit(x)\n",
    "    print('缩放倍数的例数，也就是每个特征取值的绝对的最大值：',scaler.scale_)\n",
    "    print('每个属性的绝对值的最大值：',scaler.max_abs_)  #每个属性的绝对值的最大值\n",
    "    print(\"转换后：\",scaler.transform(x))\n",
    "    \n",
    "test_MaxAbsScaler()"
   ]
  },
  {
   "cell_type": "markdown",
   "metadata": {},
   "source": [
    "# 归一化"
   ]
  },
  {
   "cell_type": "code",
   "execution_count": 27,
   "metadata": {},
   "outputs": [
    {
     "name": "stdout",
     "output_type": "stream",
     "text": [
      "转换前： [[1, 2, 3, 4, 5], [5, 4, 3, 2, 1], [1, 3, 5, 2, 4], [2, 4, 1, 3, 5]]\n",
      "转换后： [[ 0.2  0.4  0.6  0.8  1. ]\n",
      " [ 1.   0.8  0.6  0.4  0.2]\n",
      " [ 0.2  0.6  1.   0.4  0.8]\n",
      " [ 0.4  0.8  0.2  0.6  1. ]]\n"
     ]
    }
   ],
   "source": [
    "from sklearn.preprocessing import Normalizer\n",
    "def test_Normalizer():\n",
    "    '''\n",
    "    测试 Normalizer\n",
    "    :return None\n",
    "    '''\n",
    "    X=[[1,2,3,4,5],\n",
    "       [5,4,3,2,1],\n",
    "       [1,3,5,2,4],\n",
    "       [2,4,1,3,5]]\n",
    "    # 范数  L1  -> 分母\n",
    "    # 1/15   2/15  3/15  4/15  5/15\n",
    "    # 范数 ：L2 -> 分母\n",
    "    print('转换前：',X)\n",
    "    normalizer=Normalizer(norm='max')  #取值  11  12  max(按这一行最大值作分母正则化)\n",
    "    print('转换后：',normalizer.transform(X))\n",
    "    \n",
    "test_Normalizer()"
   ]
  },
  {
   "cell_type": "code",
   "execution_count": 28,
   "metadata": {},
   "outputs": [
    {
     "name": "stdout",
     "output_type": "stream",
     "text": [
      "[[1, 2, 3, 4, 5], [5, 4, 3, 2, 1], [1, 3, 5, 2, 4], [2, 4, 1, 3, 5]]\n",
      "矩阵2的范数\n",
      "13.6183053417\n",
      "矩阵1的范数\n",
      "15.0\n",
      "矩阵无穷的范数\n",
      "15.0\n"
     ]
    }
   ],
   "source": [
    "import numpy as np\n",
    "a=[[1,2,3,4,5],\n",
    "    [5,4,3,2,1],\n",
    "    [1,3,5,2,4],\n",
    "    [2,4,1,3,5]]\n",
    "print(a)\n",
    "print(\"矩阵2的范数\")\n",
    "print(np.linalg.norm(a,ord=2))\n",
    "print(\"矩阵1的范数\")\n",
    "print(np.linalg.norm(a,ord=1))\n",
    "print(\"矩阵无穷的范数\")\n",
    "print(np.linalg.norm(a,ord=np.inf))"
   ]
  },
  {
   "cell_type": "code",
   "execution_count": null,
   "metadata": {
    "collapsed": true
   },
   "outputs": [],
   "source": []
  }
 ],
 "metadata": {
  "kernelspec": {
   "display_name": "Python 3",
   "language": "python",
   "name": "python3"
  },
  "language_info": {
   "codemirror_mode": {
    "name": "ipython",
    "version": 3
   },
   "file_extension": ".py",
   "mimetype": "text/x-python",
   "name": "python",
   "nbconvert_exporter": "python",
   "pygments_lexer": "ipython3",
   "version": "3.6.2"
  }
 },
 "nbformat": 4,
 "nbformat_minor": 2
}
