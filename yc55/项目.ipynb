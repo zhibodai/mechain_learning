{
 "cells": [
  {
   "cell_type": "markdown",
   "metadata": {},
   "source": [
    "# 项目 "
   ]
  },
  {
   "cell_type": "code",
   "execution_count": 16,
   "metadata": {},
   "outputs": [
    {
     "name": "stdout",
     "output_type": "stream",
     "text": [
      "4\n",
      "14\n"
     ]
    }
   ],
   "source": [
    "alist=[4,1,14,2,55,30]\n",
    "\n",
    "#alist.remove(55)\n",
    "#alist.remove(30)\n",
    "print( alist.index(max(alist)) )\n",
    "print(alist[2])"
   ]
  },
  {
   "cell_type": "code",
   "execution_count": 15,
   "metadata": {},
   "outputs": [
    {
     "name": "stdout",
     "output_type": "stream",
     "text": [
      "55\n",
      "30\n",
      "14\n",
      "4\n",
      "2\n",
      "1\n",
      "[]\n"
     ]
    }
   ],
   "source": [
    "blist=alist\n",
    "for i in range(len(blist)-1,-1,-1):\n",
    "    j=blist.index(max(blist) )\n",
    "    print(alist[j])\n",
    "    blist.pop(j)\n",
    "    \n",
    "    \n",
    "print(alist)    "
   ]
  },
  {
   "cell_type": "code",
   "execution_count": 2,
   "metadata": {},
   "outputs": [
    {
     "name": "stdout",
     "output_type": "stream",
     "text": [
      "abcdefghijklmnopqrstuvwxyzABCDEFGHIJKLMNOPQRSTUVWXYZ     0123456789     !\"#$%&'()*+,-./:;<=>?@[\\]^_`{|}~\n"
     ]
    }
   ],
   "source": [
    "'''\n",
    "首先生成包含1000个随机字符的字符串，然后统计每个字符的出现次数\n",
    "\n",
    "1.将要产生的所有的字符到一个列表中\n",
    "    字母   数字  符号\n",
    "    string模块  ascii_letters digits  punctuation  联系成一个大的字符串\n",
    "2.使用随机数生成块 random.randint(长度) -》长度对应为上面的字符串的长度\n",
    "3.dict计数\n",
    "'''\n",
    "\n",
    "import string\n",
    "import random\n",
    "print(string.ascii_letters,'   ',string.digits,'   ', string.punctuation)"
   ]
  },
  {
   "cell_type": "code",
   "execution_count": 3,
   "metadata": {},
   "outputs": [
    {
     "data": {
      "text/plain": [
       "{'!': 9,\n",
       " '\"': 10,\n",
       " '#': 9,\n",
       " '$': 11,\n",
       " '%': 10,\n",
       " '&': 13,\n",
       " \"'\": 16,\n",
       " '(': 15,\n",
       " ')': 13,\n",
       " '*': 10,\n",
       " '+': 8,\n",
       " ',': 13,\n",
       " '-': 12,\n",
       " '.': 9,\n",
       " '/': 18,\n",
       " '0': 8,\n",
       " '1': 8,\n",
       " '2': 5,\n",
       " '3': 14,\n",
       " '4': 8,\n",
       " '5': 7,\n",
       " '6': 8,\n",
       " '7': 16,\n",
       " '8': 8,\n",
       " '9': 7,\n",
       " ':': 8,\n",
       " ';': 12,\n",
       " '<': 7,\n",
       " '=': 7,\n",
       " '>': 12,\n",
       " '?': 12,\n",
       " '@': 11,\n",
       " 'A': 8,\n",
       " 'B': 8,\n",
       " 'C': 8,\n",
       " 'D': 11,\n",
       " 'E': 11,\n",
       " 'F': 14,\n",
       " 'G': 11,\n",
       " 'H': 12,\n",
       " 'I': 9,\n",
       " 'J': 7,\n",
       " 'K': 13,\n",
       " 'L': 6,\n",
       " 'M': 20,\n",
       " 'N': 6,\n",
       " 'O': 6,\n",
       " 'P': 10,\n",
       " 'Q': 12,\n",
       " 'R': 4,\n",
       " 'S': 1,\n",
       " 'T': 13,\n",
       " 'U': 5,\n",
       " 'V': 9,\n",
       " 'W': 12,\n",
       " 'X': 16,\n",
       " 'Y': 20,\n",
       " 'Z': 9,\n",
       " '[': 11,\n",
       " '\\\\': 12,\n",
       " ']': 6,\n",
       " '^': 14,\n",
       " '_': 12,\n",
       " '`': 7,\n",
       " 'a': 13,\n",
       " 'b': 14,\n",
       " 'c': 16,\n",
       " 'd': 6,\n",
       " 'e': 8,\n",
       " 'f': 15,\n",
       " 'g': 10,\n",
       " 'h': 12,\n",
       " 'i': 11,\n",
       " 'j': 17,\n",
       " 'k': 10,\n",
       " 'l': 12,\n",
       " 'm': 10,\n",
       " 'n': 17,\n",
       " 'o': 10,\n",
       " 'p': 13,\n",
       " 'q': 6,\n",
       " 'r': 9,\n",
       " 's': 16,\n",
       " 't': 5,\n",
       " 'u': 10,\n",
       " 'v': 9,\n",
       " 'w': 13,\n",
       " 'x': 7,\n",
       " 'y': 15,\n",
       " 'z': 15,\n",
       " '{': 10,\n",
       " '|': 17,\n",
       " '}': 7,\n",
       " '~': 10}"
      ]
     },
     "execution_count": 3,
     "metadata": {},
     "output_type": "execute_result"
    }
   ],
   "source": [
    "x=string.ascii_letters+string.digits+string.punctuation\n",
    "\n",
    "#random.choice(seq)\n",
    "y=[random.choice(x) for i in range(1000)]\n",
    "d=dict()  #{'a':1 , 'b':5}\n",
    "for ch in y:\n",
    "    d[ch]=d.get(ch,0)+1\n",
    "\n",
    "    \n",
    "d"
   ]
  },
  {
   "cell_type": "code",
   "execution_count": 4,
   "metadata": {},
   "outputs": [
    {
     "data": {
      "text/plain": [
       "defaultdict(int, {})"
      ]
     },
     "execution_count": 4,
     "metadata": {},
     "output_type": "execute_result"
    }
   ],
   "source": [
    "# collections 模块  defaultdict字典\n",
    "from collections import defaultdict\n",
    "fd=defaultdict(int)\n",
    "fd"
   ]
  },
  {
   "cell_type": "code",
   "execution_count": 5,
   "metadata": {},
   "outputs": [
    {
     "data": {
      "text/plain": [
       "dict_items([('c', 16), ('$', 11), (\"'\", 16), (',', 13), (';', 12), ('|', 17), ('%', 10), ('.', 9), ('h', 12), ('f', 15), ('s', 16), ('E', 11), ('7', 16), ('H', 12), ('y', 15), ('k', 10), ('j', 17), ('n', 17), ('r', 9), ('M', 20), ('2', 5), ('*', 10), ('~', 10), (')', 13), ('>', 12), ('_', 12), ('-', 12), ('T', 13), ('z', 15), ('i', 11), ('t', 5), ('b', 14), ('5', 7), ('X', 16), ('1', 8), ('Q', 12), ('W', 12), ('}', 7), ('@', 11), ('8', 8), (':', 8), ('L', 6), ('D', 11), ('e', 8), ('p', 13), ('\"', 10), ('F', 14), ('A', 8), ('^', 14), ('&', 13), ('a', 13), ('N', 6), ('Y', 20), ('P', 10), ('S', 1), ('[', 11), ('(', 15), ('6', 8), ('o', 10), ('B', 8), ('=', 7), ('9', 7), ('w', 13), ('g', 10), ('!', 9), ('l', 12), ('`', 7), ('/', 18), ('O', 6), ('<', 7), ('4', 8), ('C', 8), ('I', 9), ('{', 10), ('d', 6), ('v', 9), ('3', 14), ('m', 10), ('?', 12), ('u', 10), ('K', 13), ('R', 4), ('+', 8), ('#', 9), ('V', 9), (']', 6), ('q', 6), ('Z', 9), ('G', 11), ('J', 7), ('0', 8), ('\\\\', 12), ('x', 7), ('U', 5)])"
      ]
     },
     "execution_count": 5,
     "metadata": {},
     "output_type": "execute_result"
    }
   ],
   "source": [
    "for ch in y:\n",
    "    fd[ch] +=1;\n",
    "fd.items()"
   ]
  },
  {
   "cell_type": "code",
   "execution_count": 8,
   "metadata": {},
   "outputs": [
    {
     "data": {
      "text/plain": [
       "{1: 'B', 2: 'C', 3: 'D', 4: 'E'}"
      ]
     },
     "execution_count": 8,
     "metadata": {},
     "output_type": "execute_result"
    }
   ],
   "source": [
    "{ i:chr(65+i)  for i in range(1,5)  }"
   ]
  },
  {
   "cell_type": "code",
   "execution_count": 10,
   "metadata": {},
   "outputs": [
    {
     "data": {
      "text/plain": [
       "{0: 'a', 1: 'b', 2: 'c', 3: 'd', 4: 'e'}"
      ]
     },
     "execution_count": 10,
     "metadata": {},
     "output_type": "execute_result"
    }
   ],
   "source": [
    "x=range(5)\n",
    "y=['a','b','c','d','e']\n",
    "{ i:j for i,j in  zip(x,y)}"
   ]
  },
  {
   "cell_type": "code",
   "execution_count": 5,
   "metadata": {},
   "outputs": [
    {
     "name": "stdout",
     "output_type": "stream",
     "text": [
      "中等\n",
      "中等\n"
     ]
    }
   ],
   "source": [
    "#   检查并判断密码字符串的安全强度\n",
    "import string\n",
    "def check(pwd):\n",
    "    #密码必须包含至少6个字符\n",
    "    if not isinstance(pwd,str) or len(pwd)<6:\n",
    "        return '密码不合适'\n",
    "    d ={1:'弱',2:'低',3:'中等',4:'强'}\n",
    "    #分别标记pwd是否含有数字，小写字母，大写字母和指定的标点符号\n",
    "    r=[False]*4\n",
    "    for ch in pwd:\n",
    "        #是否包含数字\n",
    "        if not r[0] and ch in string.digits:\n",
    "            r[0]=True\n",
    "        #是否包含小写字母\n",
    "        elif not r[1] and ch in string.ascii_lowercase:\n",
    "            r[1]=True\n",
    "        #是否包含大写字母\n",
    "        elif not r[2] and ch in string.ascii_uppercase:\n",
    "            r[2]=True\n",
    "        #是否包含指定标点符号\n",
    "        elif not r[3] and ch in ',.!;?<>':\n",
    "            r[3]=True\n",
    "        #统计包含的字符种类 返回密码强度\n",
    "    return d.get(r.count(True))\n",
    "print(check('ascafDF4'))\n",
    "print(check('4fD1241{}'))\n",
    "        "
   ]
  },
  {
   "cell_type": "code",
   "execution_count": 7,
   "metadata": {},
   "outputs": [
    {
     "data": {
      "text/plain": [
       "'dog'"
      ]
     },
     "execution_count": 7,
     "metadata": {},
     "output_type": "execute_result"
    }
   ],
   "source": [
    "#   判断待测单词与哪个候选单词最接近，判读标准为字母出现的频次最接近，代码只考虑了不小心的拼写错误  而没有考虑故意的拼写错误，例如故意把god写成\n",
    "#   dog  所以可能存在误判  当然误判率与判断的相似的标准有很大的关系 \n",
    "from collections import Counter\n",
    "def checkAndModify(word):\n",
    "    #待检测单词的字母频次\n",
    "    fre= dict(Counter(word) )  # g：1   O:1  d：1\n",
    "    #  待测单词中各个字母频次与所有的候选单词的距离即字母频次之差\n",
    "    #   1-0   1-1  1-0   [1,0,1]\n",
    "    similars={w:  [fre[ch] - words[w].get(ch,0) for ch in word]\n",
    "                  +[words[w][ch]-fre.get(ch,0) for ch in w]\n",
    "                for w in words}\n",
    "    #返回最接近的单词  级字母频次之差的平方和最小的单词\n",
    "    item =min(similars.items(),key=lambda item:sum(item[1] ) )\n",
    "    return item[0]\n",
    "    \n",
    "#候选单词\n",
    "words={ 'good','hello','world','python','fuguo','yantai','shandong','great','log','dog' }\n",
    "#每个单词中字母的频率\n",
    "words={word:dict(Counter(word))  for word in words}\n",
    "\n",
    "checkAndModify('god')"
   ]
  },
  {
   "cell_type": "code",
   "execution_count": 4,
   "metadata": {},
   "outputs": [
    {
     "name": "stdout",
     "output_type": "stream",
     "text": [
      "表示words中的关键字在strs中出现的次数： [0, 0, 0, 0, 0, 1]\n",
      "表示关键字出现的总数： 1\n",
      "This is a test.\n",
      "Beautiful is better than ugly.\n",
      "==============================\n",
      "30\n",
      "('This is a test.', 0.267)\n",
      "('Beautiful is better than ugly.', 0.433)\n"
     ]
    }
   ],
   "source": [
    "#  有一些句子和一些关键词，现在想找出包含至少一个关键词的那些句子（文本嗅探）\n",
    "#  或者想进一步计算每个句子中的关键词占比（句子中所有关键词长度之和/句子长度）。关键词占比是比较常用的一个文本分类标准\n",
    "\n",
    "from random import choice\n",
    "from string import ascii_letters\n",
    "\n",
    "def check(sentences,words):\n",
    "    #返回包含至少一个关键词的句子列表\n",
    "    return [sentence for sentence in sentences if sum(sentence.count(word) for word in words)>0]\n",
    "\n",
    "\n",
    "\n",
    "\n",
    "\n",
    "senetences=['This is a test.',\n",
    "            'Beautiful is better than ugly.',\n",
    "            'Explicit is better than implicit',\n",
    "            'Simple is better than complex.',\n",
    "            'Readability counts.',\n",
    "            'Now is better than never']\n",
    "strs='This is a test.'\n",
    "words = ['Beautiful','ugly','terrible','smart','face','test']\n",
    "l=[strs.count(word)  for word in words ]\n",
    "print('表示words中的关键字在strs中出现的次数：',l)\n",
    "print('表示关键字出现的总数：',sum(l))\n",
    "\n",
    "\n",
    "result= check(senetences,words)\n",
    "for item in result:\n",
    "    print(item)\n",
    "    \n",
    "print('='*30)\n",
    "#计算每个句子中所有关键字总长度的占比\n",
    "#   1*4/16 ->  13/30\n",
    "print( len('Beautiful is better than ugly.') )\n",
    "d = {sentence:round(sum(sentence.count(word)*len(word) for word in words)/len(sentence),3 )for sentence in result}\n",
    "for item in d.items():\n",
    "    print(item)"
   ]
  },
  {
   "cell_type": "code",
   "execution_count": 6,
   "metadata": {},
   "outputs": [
    {
     "name": "stdout",
     "output_type": "stream",
     "text": [
      "['a', 'c', 's', 'w', 'd', 'f']\n",
      "['a', 'c', 's', 'w', 'd', 'f']\n"
     ]
    }
   ],
   "source": [
    "#项目 ：给定任意字符串 ,查找其中的每个字符的最后一个出现的，并按每一个字符最后一次顺序衣服\n",
    "# 存入列表  例如对于字符串'abcda'  处理为['b','c','d','a']而字符串'abcbda' 的处理结果\n",
    "#['c','b','d','a']\n",
    "s='aaaaaadsdsfcsdwfdf'\n",
    "#解决方案一：\n",
    "result = []\n",
    "for ch in s:\n",
    "    if ch in result:\n",
    "        result.remove(ch)\n",
    "    result.append(ch)\n",
    "print(result)\n",
    "\n",
    "#解决方法二  ：倒序\n",
    "result=[]\n",
    "for ch in s[::-1]:\n",
    "    if ch not in result:\n",
    "        result.append(ch)\n",
    "print( list(reversed (result) ) )"
   ]
  },
  {
   "cell_type": "code",
   "execution_count": null,
   "metadata": {
    "collapsed": true
   },
   "outputs": [],
   "source": []
  }
 ],
 "metadata": {
  "kernelspec": {
   "display_name": "Python 3",
   "language": "python",
   "name": "python3"
  },
  "language_info": {
   "codemirror_mode": {
    "name": "ipython",
    "version": 3
   },
   "file_extension": ".py",
   "mimetype": "text/x-python",
   "name": "python",
   "nbconvert_exporter": "python",
   "pygments_lexer": "ipython3",
   "version": "3.6.2"
  }
 },
 "nbformat": 4,
 "nbformat_minor": 2
}
