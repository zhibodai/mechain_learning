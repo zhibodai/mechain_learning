{
 "cells": [
  {
   "cell_type": "code",
   "execution_count": 5,
   "metadata": {},
   "outputs": [
    {
     "name": "stdout",
     "output_type": "stream",
     "text": [
      "爸爸爱你！！！IG牛逼\n",
      "\n"
     ]
    }
   ],
   "source": [
    "fo=open('c.txt','r',encoding='gbk')\n",
    "lines=fo.readlines() #读所有的行\n",
    "for line in lines:\n",
    "    print(line)\n",
    "fo.close()"
   ]
  },
  {
   "cell_type": "code",
   "execution_count": 3,
   "metadata": {},
   "outputs": [
    {
     "name": "stdout",
     "output_type": "stream",
     "text": [
      "请输入您要保存的文本：爸爸爱你！！！\n"
     ]
    }
   ],
   "source": [
    "fo=open('c.txt','w',encoding='gbk')\n",
    "texts=input('请输入您要保存的文本：')\n",
    "fo.write(texts)\n",
    "fo.flush()\n",
    "fo.close()"
   ]
  },
  {
   "cell_type": "code",
   "execution_count": 4,
   "metadata": {},
   "outputs": [
    {
     "name": "stdout",
     "output_type": "stream",
     "text": [
      "输入你要保存的文本：IG牛逼\n"
     ]
    }
   ],
   "source": [
    "#用with来改进代码\n",
    "with open('c.txt','a+',encoding='gbk')as fo:\n",
    "    texts=input('输入你要保存的文本：')\n",
    "    fo.writelines(texts+'\\n')\n",
    "    \n"
   ]
  },
  {
   "cell_type": "code",
   "execution_count": 8,
   "metadata": {},
   "outputs": [
    {
     "name": "stdout",
     "output_type": "stream",
     "text": [
      "hello world !!!!!\n",
      "\n",
      "你好，中国\n"
     ]
    }
   ],
   "source": [
    "with open('c.txt','r',encoding='gbk')as fp:\n",
    "    for lines in fp:\n",
    "        print(lines)"
   ]
  },
  {
   "cell_type": "code",
   "execution_count": 7,
   "metadata": {
    "collapsed": true
   },
   "outputs": [],
   "source": [
    "#用with完成一次复制粘贴\n",
    "with open('a.txt','r',encoding='gbk')as src , open('c.txt','w',encoding='gbk')as desk:\n",
    "    desk.writelines( src.read() )"
   ]
  },
  {
   "cell_type": "code",
   "execution_count": null,
   "metadata": {
    "collapsed": true
   },
   "outputs": [],
   "source": [
    "#复制图片\n",
    "with open('test.png','rb')as src ,open('a.png','wb')as dest:  #  rb  wb  二进制读与写\n",
    "    dest.write(src.read())"
   ]
  },
  {
   "cell_type": "code",
   "execution_count": 9,
   "metadata": {},
   "outputs": [
    {
     "name": "stdout",
     "output_type": "stream",
     "text": [
      "hello worl\n",
      "10\n"
     ]
    }
   ],
   "source": [
    "#其他的 file object的函数\n",
    "with open('a.txt','r',encoding='gbk')as fp:\n",
    "    s=fp.read(10)\n",
    "    print(s)\n",
    "    print(len(s))"
   ]
  },
  {
   "cell_type": "code",
   "execution_count": 10,
   "metadata": {},
   "outputs": [
    {
     "name": "stdout",
     "output_type": "stream",
     "text": [
      "指针位置： 7\n",
      "orld !!!!!\n",
      "你好，中国\n",
      "指针位置： 29\n"
     ]
    }
   ],
   "source": [
    "#类似于java的io  RandomAccessFile\n",
    "# seek(offset,whence ) 0表示从文件头开始计算 1表示从当前位置开始计算 ，2表示从文件尾开始计算 ，默认为0\n",
    "fp=open('a.txt','r',encoding='gbk')\n",
    "fp.seek(7)\n",
    "print('指针位置：',fp.tell())\n",
    "print(fp.read() )\n",
    "print('指针位置：',fp.tell())\n",
    "fp.close()"
   ]
  },
  {
   "cell_type": "markdown",
   "metadata": {},
   "source": [
    "# 项目  "
   ]
  },
  {
   "cell_type": "code",
   "execution_count": null,
   "metadata": {
    "collapsed": true
   },
   "outputs": [],
   "source": []
  },
  {
   "cell_type": "code",
   "execution_count": 3,
   "metadata": {},
   "outputs": [
    {
     "name": "stdout",
     "output_type": "stream",
     "text": [
      "[285, 724, 2430, 2222, 3568, 2934, 3272, 7075, 3495, 9590, 7358, 8514, 8850, 11380, 9778, 11287, 12366, 12127, 15144, 12843, 16705, 15526, 17757, 21148, 17800, 20591, 39529, 22432, 22896, 23170, 23865, 23751, 26304, 24541, 25988, 28369, 53692, 29011, 29213, 32789, 36077, 32961, 36010, 34235, 35583, 34618, 43062, 36576, 37337, 39674, 39915, 41316, 55109, 41633, 42319, 43902, 44938, 46739, 50640, 52171, 50655, 52642, 52198, 54094, 63949, 56793, 70867, 64220, 69801, 65254, 70786, 72547, 77106, 73482, 75579, 77431, 77060, 88003, 77899, 80423, 81381, 85263, 86473, 88408, 87445, 97464, 90828, 91025, 91159, 91707, 99736, 91884, 92012, 92852, 96497, 93946, 94053, 96917, 98221, 98156]\n",
      "程序运行的时间: 0:00:00.001471\n"
     ]
    }
   ],
   "source": [
    "#randint(0,10)\n",
    "def myrandint( start,end,seed=9999999):\n",
    "    a=32310901\n",
    "    b=1729\n",
    "    old=seed\n",
    "    m=end-start\n",
    "    #yeild\n",
    "    while True:\n",
    "        new=(a*old+b)%m\n",
    "        yield new \n",
    "        old=new\n",
    "        \n",
    "def quick( arr ):\n",
    "    quickSort(arr,0,len(arr)-1)\n",
    "    return arr\n",
    "\n",
    "def quickSort(arr,start,to):\n",
    "    if start>=to:\n",
    "        return\n",
    "    pos=partition(arr,start,to)\n",
    "    quickSort( arr,start,pos)\n",
    "    quickSort( arr,pos+1,to)\n",
    "def partition(arr,start,to):\n",
    "    pivot=arr[start]\n",
    "    i=start-1\n",
    "    j=to+1\n",
    "    while i<j:\n",
    "        i=i+1\n",
    "        while arr[i]<pivot:\n",
    "            i=i+1\n",
    "        j=j-1\n",
    "        while arr[j]>pivot:\n",
    "            j=j-1\n",
    "        if i<j:\n",
    "            arr[i],arr[j]=arr[j],arr[i]\n",
    "    return i\n",
    "\n",
    "def rates( func ):\n",
    "    def wrapper(*args,**kwars ):\n",
    "        import datetime\n",
    "        start=datetime.datetime.now()\n",
    "        result=func(*args,**kwars)\n",
    "        end=datetime.datetime.now()\n",
    "        print('程序运行的时间:',(end-start))\n",
    "        return result\n",
    "    return wrapper\n",
    "\n",
    "@rates\n",
    "def test():\n",
    "    myrand=myrandint(0,100000)\n",
    "    with open('nums.txt','w',encoding='gbk')as fp:\n",
    "        for i in range(0,100):\n",
    "            fp.write( str(next(myrand))+'\\n'   )\n",
    "    l=[]\n",
    "    with open('nums.txt','r',encoding='gbk')as fp:\n",
    "        for line in fp:\n",
    "            l.append( int(line) )\n",
    "    result=quick( l )\n",
    "    print( result )\n",
    "test()"
   ]
  },
  {
   "cell_type": "markdown",
   "metadata": {
    "collapsed": true
   },
   "source": [
    "二 读取test.java文件 在每行的行尾对齐后加上行号 在输出保存到另一个test2.txt文件中"
   ]
  },
  {
   "cell_type": "code",
   "execution_count": 12,
   "metadata": {},
   "outputs": [
    {
     "name": "stdout",
     "output_type": "stream",
     "text": [
      "最长的一行： \tLinkedListType insert(LinkedListType head, String findkey, Data nodeData) // 插入结点\n",
      "\n",
      "最长的一行长度为： 83\n"
     ]
    }
   ],
   "source": [
    "# 读test.java的文件\n",
    "with open('Test.java','r',encoding='gbk')as fp:\n",
    "    lines=fp.readlines()\n",
    "\n",
    "# 求最长的那一行是多长\n",
    "'''\n",
    "def max(lines,key):\n",
    "    maxlength=key( lines[0] )\n",
    "    for line in lines:\n",
    "        length=key(line)\n",
    "        if length>maxlength:\n",
    "            maxlength=length\n",
    "    return maxlength\n",
    "'''\n",
    "maxline=max(lines,key=len )\n",
    "print('最长的一行：',maxline)\n",
    "maxlength=len(maxline)\n",
    "print('最长的一行长度为：',maxlength)\n",
    "\n",
    "# for ..in 集合\n",
    "#  enumerate()\n",
    "lines=[ line.rstrip()+' '*(maxlength-len(line))+'#'+str(index+1)+'\\n'  for index,line in enumerate(lines) ]\n",
    "with open('Test2.txt','w')as fp:\n",
    "    fp.writelines(lines)"
   ]
  },
  {
   "cell_type": "code",
   "execution_count": null,
   "metadata": {
    "collapsed": true
   },
   "outputs": [],
   "source": [
    "'''\n",
    "限定文件上传的类型\n",
    "识别文件类型的魔数\n",
    "'''\n",
    "import os\n",
    "os.chdir()\n",
    "def is_gif(fname):\n",
    "    with open(fname,'rb')as fp:\n",
    "        first4=fp.read(4) #读出文件的前4个字节\n",
    "        print(first4)\n",
    "    return first4==b'GIFB'  #字节型  byte\n",
    "\n",
    "print( is__gif('tt.gif') )\n",
    "print(b'GIFB') "
   ]
  },
  {
   "cell_type": "raw",
   "metadata": {},
   "source": [
    "json 序列化与反序列化操作\n",
    "json是轻量级的文本格式\n",
    "两种数据类型：\n",
    "列表：{元素，元素}\n",
    "字典：{‘键’，‘值’}\n",
    "元素可以是另一个列表或者字典\n",
    "字典中的值也可是另一个列表或字典"
   ]
  },
  {
   "cell_type": "code",
   "execution_count": 13,
   "metadata": {},
   "outputs": [
    {
     "name": "stdout",
     "output_type": "stream",
     "text": [
      "[\"\\u5f20\\u4e09\", \"\\u674e\\u56db\", \"\\u738b\\u4e94\"]\n"
     ]
    }
   ],
   "source": [
    "import json\n",
    "\n",
    "# dumps(对象)  -> 转为json字符串\n",
    "result=json.dumps( ['张三','李四','王五'] )\n",
    "print( result )"
   ]
  },
  {
   "cell_type": "code",
   "execution_count": 14,
   "metadata": {},
   "outputs": [
    {
     "name": "stdout",
     "output_type": "stream",
     "text": [
      "<class 'list'>\n"
     ]
    }
   ],
   "source": [
    "# loads(字符串)  将字符串转为对象\n",
    "result=json.loads( result )   #  _ 表示最近的一次运算结果\n",
    "print( type(result) )"
   ]
  },
  {
   "cell_type": "code",
   "execution_count": 15,
   "metadata": {},
   "outputs": [
    {
     "name": "stdout",
     "output_type": "stream",
     "text": [
      "[{\"name\": \"dzb\", \"age\": \"20\"}, {\"name\": \"lisi\", \"age\": \"50\"}]\n"
     ]
    }
   ],
   "source": [
    "result=json.dumps( [{'name':'dzb','age':'20'},{'name':'lisi','age':'50'}] )\n",
    "print(result)"
   ]
  },
  {
   "cell_type": "code",
   "execution_count": 16,
   "metadata": {},
   "outputs": [
    {
     "data": {
      "text/plain": [
       "[{'age': '20', 'name': 'dzb'}, {'age': '50', 'name': 'lisi'}]"
      ]
     },
     "execution_count": 16,
     "metadata": {},
     "output_type": "execute_result"
    }
   ],
   "source": [
    "json.loads(result)"
   ]
  },
  {
   "cell_type": "code",
   "execution_count": 18,
   "metadata": {},
   "outputs": [
    {
     "data": {
      "text/plain": [
       "'\"\\\\u6e56\\\\u5357\\\\u8861\\\\u9633\"'"
      ]
     },
     "execution_count": 18,
     "metadata": {},
     "output_type": "execute_result"
    }
   ],
   "source": [
    "json.dumps('湖南衡阳')"
   ]
  },
  {
   "cell_type": "code",
   "execution_count": 20,
   "metadata": {},
   "outputs": [
    {
     "data": {
      "text/plain": [
       "'湖南衡阳'"
      ]
     },
     "execution_count": 20,
     "metadata": {},
     "output_type": "execute_result"
    }
   ],
   "source": [
    "json.loads(_)"
   ]
  },
  {
   "cell_type": "code",
   "execution_count": 21,
   "metadata": {
    "collapsed": true
   },
   "outputs": [],
   "source": [
    "#  以上都是将数据序列化到内存中 ，要把序列化保存到磁盘上\n",
    "with open('temp.tmp','w') as fp:\n",
    "    json.dump( [{'name':'dzb','age':'20'},{'name':'lisi','age':'50'}] ,fp)"
   ]
  },
  {
   "cell_type": "code",
   "execution_count": 23,
   "metadata": {},
   "outputs": [
    {
     "name": "stdout",
     "output_type": "stream",
     "text": [
      "[{'name': 'dzb', 'age': '20'}, {'name': 'lisi', 'age': '50'}]\n"
     ]
    }
   ],
   "source": [
    "with open('temp.tmp','r')as fp:\n",
    "    print(json.load(fp) )"
   ]
  },
  {
   "cell_type": "markdown",
   "metadata": {},
   "source": [
    "# pickle模板\n",
    "   对象序列化"
   ]
  },
  {
   "cell_type": "code",
   "execution_count": null,
   "metadata": {
    "collapsed": true
   },
   "outputs": [],
   "source": [
    "import pickle as pickle\n",
    "\n",
    "a1='apple'\n",
    "b1=[1:'One',2:'Two',3:'Three']"
   ]
  },
  {
   "cell_type": "code",
   "execution_count": null,
   "metadata": {
    "collapsed": true
   },
   "outputs": [],
   "source": []
  },
  {
   "cell_type": "markdown",
   "metadata": {},
   "source": [
    "# 文件路径"
   ]
  },
  {
   "cell_type": "code",
   "execution_count": 2,
   "metadata": {
    "collapsed": true
   },
   "outputs": [],
   "source": [
    "import os\n",
    "import os.path"
   ]
  },
  {
   "cell_type": "code",
   "execution_count": 5,
   "metadata": {},
   "outputs": [
    {
     "name": "stdout",
     "output_type": "stream",
     "text": [
      "environ({'ALLUSERSPROFILE': 'C:\\\\ProgramData', 'APPDATA': 'C:\\\\Users\\\\吴彦祖\\\\AppData\\\\Roaming', 'CATALINA_BASE': 'D:\\\\java\\\\apache-tomcat-9.0.13', 'CATALINA_HOME': 'D:\\\\java\\\\apache-tomcat-9.0.13', 'CLASSPATH': '.;D:\\\\java\\\\jdk\\\\lib;D:\\\\java\\\\jdk\\\\lib\\\\tools.jar', 'COMMONPROGRAMFILES': 'C:\\\\Program Files\\\\Common Files', 'COMMONPROGRAMFILES(X86)': 'C:\\\\Program Files (x86)\\\\Common Files', 'COMMONPROGRAMW6432': 'C:\\\\Program Files\\\\Common Files', 'COMPUTERNAME': 'HANDSOMEMAN', 'COMSPEC': 'C:\\\\Windows\\\\system32\\\\cmd.exe', 'DRIVERDATA': 'C:\\\\Windows\\\\System32\\\\Drivers\\\\DriverData', 'FPS_BROWSER_APP_PROFILE_STRING': 'Internet Explorer', 'FPS_BROWSER_USER_PROFILE_STRING': 'Default', 'HOMEDRIVE': 'C:', 'HOMEPATH': '\\\\Users\\\\吴彦祖', 'JAVA_HOME': 'D:\\\\java\\\\jdk', 'LOCALAPPDATA': 'C:\\\\Users\\\\吴彦祖\\\\AppData\\\\Local', 'LOGONSERVER': '\\\\\\\\HANDSOMEMAN', 'NUMBER_OF_PROCESSORS': '8', 'ONEDRIVE': 'C:\\\\Users\\\\吴彦祖\\\\OneDrive', 'ONEDRIVECONSUMER': 'C:\\\\Users\\\\吴彦祖\\\\OneDrive', 'OS': 'Windows_NT', 'PATH': 'D:\\\\oracle\\\\product\\\\10.2.0\\\\db_1\\\\bin;C:\\\\Program Files (x86)\\\\Common Files\\\\Oracle\\\\Java\\\\javapath;C:\\\\ProgramData\\\\Anaconda3;C:\\\\ProgramData\\\\Anaconda3\\\\Library\\\\mingw-w64\\\\bin;C:\\\\ProgramData\\\\Anaconda3\\\\Library\\\\usr\\\\bin;C:\\\\ProgramData\\\\Anaconda3\\\\Library\\\\bin;C:\\\\ProgramData\\\\Anaconda3\\\\Scripts;C:\\\\Windows\\\\system32;C:\\\\Windows;C:\\\\Windows\\\\System32\\\\Wbem;C:\\\\Windows\\\\System32\\\\WindowsPowerShell\\\\v1.0\\\\;C:\\\\Windows\\\\System32\\\\OpenSSH\\\\;D:\\\\java\\\\jdk\\\\bin;C:\\\\Program Files\\\\Java\\\\jre1.8.0_191\\\\bin;\"D:\\\\java\\\\apache-tomcat-9.0.13\\\\lib;D:\\\\java\\\\apache-tomcat-9.0.13\\\\bin\";\"%MYSQL_HOME%\\\\bin;\";C:\\\\Program Files\\\\MySQL\\\\MySQL Server 5.1\\\\bin;D:\\\\OtherSoftWare\\\\;C:\\\\Users\\\\吴彦祖\\\\AppData\\\\Local\\\\Microsoft\\\\WindowsApps;', 'PATHEXT': '.COM;.EXE;.BAT;.CMD;.VBS;.VBE;.JS;.JSE;.WSF;.WSH;.MSC', 'PERL5LIB': 'D:\\\\oracle\\\\product\\\\10.2.0\\\\db_1\\\\perl\\\\5.8.3\\\\lib\\\\MSWin32-x86;D:\\\\oracle\\\\product\\\\10.2.0\\\\db_1\\\\perl\\\\5.8.3\\\\lib;D:\\\\oracle\\\\product\\\\10.2.0\\\\db_1\\\\perl\\\\5.8.3\\\\lib\\\\MSWin32-x86;D:\\\\oracle\\\\product\\\\10.2.0\\\\db_1\\\\perl\\\\site\\\\5.8.3;D:\\\\oracle\\\\product\\\\10.2.0\\\\db_1\\\\perl\\\\site\\\\5.8.3\\\\lib;D:\\\\oracle\\\\product\\\\10.2.0\\\\db_1\\\\sysman\\\\admin\\\\scripts;D:\\\\oracle\\\\product\\\\10.2.0\\\\db_1\\\\perl\\\\lib\\\\5.8.3\\\\MSWin32-x86;D:\\\\oracle\\\\product\\\\10.2.0\\\\db_1\\\\perl\\\\lib\\\\5.8.3;D:\\\\oracle\\\\product\\\\10.2.0\\\\db_1\\\\perl\\\\5.8.3\\\\lib\\\\MSWin32-x86-multi-thread;D:\\\\oracle\\\\product\\\\10.2.0\\\\db_1\\\\perl\\\\site\\\\5.8.3;D:\\\\oracle\\\\product\\\\10.2.0\\\\db_1\\\\perl\\\\site\\\\5.8.3\\\\lib;D:\\\\oracle\\\\product\\\\10.2.0\\\\db_1\\\\sysman\\\\admin\\\\scripts', 'PROCESSOR_ARCHITECTURE': 'AMD64', 'PROCESSOR_IDENTIFIER': 'Intel64 Family 6 Model 94 Stepping 3, GenuineIntel', 'PROCESSOR_LEVEL': '6', 'PROCESSOR_REVISION': '5e03', 'PROGRAMDATA': 'C:\\\\ProgramData', 'PROGRAMFILES': 'C:\\\\Program Files', 'PROGRAMFILES(X86)': 'C:\\\\Program Files (x86)', 'PROGRAMW6432': 'C:\\\\Program Files', 'PROMPT': '$P$G', 'PSMODULEPATH': 'C:\\\\Program Files\\\\WindowsPowerShell\\\\Modules;C:\\\\Windows\\\\system32\\\\WindowsPowerShell\\\\v1.0\\\\Modules', 'PUBLIC': 'C:\\\\Users\\\\Public', 'SESSIONNAME': 'Console', 'SYSTEMDRIVE': 'C:', 'SYSTEMROOT': 'C:\\\\Windows', 'TEMP': 'C:\\\\Users\\\\吴彦祖\\\\AppData\\\\Local\\\\Temp', 'TMP': 'C:\\\\Users\\\\吴彦祖\\\\AppData\\\\Local\\\\Temp', 'USERDOMAIN': 'HANDSOMEMAN', 'USERDOMAIN_ROAMINGPROFILE': 'HANDSOMEMAN', 'USERNAME': 'HandsomeMen', 'USERPROFILE': 'C:\\\\Users\\\\吴彦祖', 'WINDIR': 'C:\\\\Windows', 'JPY_INTERRUPT_EVENT': '1704', 'IPY_INTERRUPT_EVENT': '1704', 'JPY_PARENT_PID': '1736', 'TERM': 'xterm-color', 'CLICOLOR': '1', 'PAGER': 'cat', 'GIT_PAGER': 'cat', 'MPLBACKEND': 'module://ipykernel.pylab.backend_inline'})\n",
      "D:\\java\\apache-tomcat-9.0.13\n",
      "D:\\java\\jdk\n",
      "D:\\oracle\\product\\10.2.0\\db_1\\bin;C:\\Program Files (x86)\\Common Files\\Oracle\\Java\\javapath;C:\\ProgramData\\Anaconda3;C:\\ProgramData\\Anaconda3\\Library\\mingw-w64\\bin;C:\\ProgramData\\Anaconda3\\Library\\usr\\bin;C:\\ProgramData\\Anaconda3\\Library\\bin;C:\\ProgramData\\Anaconda3\\Scripts;C:\\Windows\\system32;C:\\Windows;C:\\Windows\\System32\\Wbem;C:\\Windows\\System32\\WindowsPowerShell\\v1.0\\;C:\\Windows\\System32\\OpenSSH\\;D:\\java\\jdk\\bin;C:\\Program Files\\Java\\jre1.8.0_191\\bin;\"D:\\java\\apache-tomcat-9.0.13\\lib;D:\\java\\apache-tomcat-9.0.13\\bin\";\"%MYSQL_HOME%\\bin;\";C:\\Program Files\\MySQL\\MySQL Server 5.1\\bin;D:\\OtherSoftWare\\;C:\\Users\\吴彦祖\\AppData\\Local\\Microsoft\\WindowsApps;\n"
     ]
    }
   ],
   "source": [
    "print(os.environ)\n",
    "print(os.environ['CATALINA_HOME'] )\n",
    "print(os.environ['JAVA_HOME']  )\n",
    "print(os.environ['PATH'] )\n",
    "\n"
   ]
  },
  {
   "cell_type": "code",
   "execution_count": 6,
   "metadata": {},
   "outputs": [
    {
     "data": {
      "text/plain": [
       "True"
      ]
     },
     "execution_count": 6,
     "metadata": {},
     "output_type": "execute_result"
    }
   ],
   "source": [
    "os.path.exists('a.txt')"
   ]
  },
  {
   "cell_type": "code",
   "execution_count": 7,
   "metadata": {
    "collapsed": true
   },
   "outputs": [],
   "source": [
    "os.rename('a.txt','aa.txt')"
   ]
  },
  {
   "cell_type": "code",
   "execution_count": 8,
   "metadata": {},
   "outputs": [
    {
     "data": {
      "text/plain": [
       "'yc55'"
      ]
     },
     "execution_count": 8,
     "metadata": {},
     "output_type": "execute_result"
    }
   ],
   "source": [
    "os.path.dirname('yc55/aa.txt')"
   ]
  },
  {
   "cell_type": "code",
   "execution_count": 9,
   "metadata": {},
   "outputs": [
    {
     "data": {
      "text/plain": [
       "'C:\\\\Users\\\\吴彦祖\\\\yc55\\\\aa.txt'"
      ]
     },
     "execution_count": 9,
     "metadata": {},
     "output_type": "execute_result"
    }
   ],
   "source": [
    "os.path.abspath('aa.txt')"
   ]
  },
  {
   "cell_type": "code",
   "execution_count": 11,
   "metadata": {},
   "outputs": [
    {
     "name": "stdout",
     "output_type": "stream",
     "text": [
      "目录： C:\\Users\\吴彦祖\\yc55\n",
      "分割路径： ('C:\\\\Users\\\\吴彦祖\\\\yc55', 'aa.txt')\n",
      "后缀名： ('C:\\\\Users\\\\吴彦祖\\\\yc55\\\\aa', '.txt')\n",
      "驱动器名： ('C:', '\\\\Users\\\\吴彦祖\\\\yc55\\\\aa.txt')\n"
     ]
    }
   ],
   "source": [
    "abspath=os.path.abspath('aa.txt')\n",
    "print('目录：',os.path.dirname(abspath) )\n",
    "print('分割路径：',os.path.split(abspath) )\n",
    "print('后缀名：',os.path.splitext(abspath) )\n",
    "print('驱动器名：',os.path.splitdrive(abspath) )"
   ]
  },
  {
   "cell_type": "code",
   "execution_count": 12,
   "metadata": {},
   "outputs": [
    {
     "name": "stdout",
     "output_type": "stream",
     "text": [
      "['aa.txt', 'c.txt', 'nums.txt', 'readme.txt']\n"
     ]
    }
   ],
   "source": [
    "#案例  列出当前工作目录下的所有的  .txt 文件\n",
    "abspath=os.path.abspath('aa.txt')\n",
    "dirpath=os.path.dirname(abspath)\n",
    "txtfiles=[ fname  for fname in os.listdir(dirpath) if os.path.isfile(fname)and fname.endswith('.txt')  ]\n",
    "print(txtfiles)"
   ]
  },
  {
   "cell_type": "code",
   "execution_count": 14,
   "metadata": {},
   "outputs": [
    {
     "name": "stdout",
     "output_type": "stream",
     "text": [
      "aa.rtf 变名字为 aa.txt\n",
      "c.rtf 变名字为 c.txt\n",
      "nums.rtf 变名字为 nums.txt\n",
      "readme.rtf 变名字为 readme.txt\n"
     ]
    }
   ],
   "source": [
    "#案例  将当前目录工作目录下所有的 .txt  文件修改成.rtf文件\n",
    "\n",
    "wd=os.getcwd()\n",
    "files=[ fname for fname in os.listdir(wd) if os.path.isfile(fname) and fname.endswith('.rtf') ]\n",
    "for fn in files:\n",
    "    newname=fn[0:fn.find('.')+1]+'txt'\n",
    "    os.rename(fn,newname)\n",
    "    print(fn,'变名字为',newname)"
   ]
  },
  {
   "cell_type": "code",
   "execution_count": 15,
   "metadata": {
    "collapsed": true
   },
   "outputs": [],
   "source": [
    "# 案例 创建一个目录到当前工作目录  目录名  yyyy/MM/dd\n",
    "def mkdirByTime():\n",
    "    import time\n",
    "    import os\n",
    "    # 获取系统当前时间 time.strftime ->   SimpleDateFormat\n",
    "    #localtime=time.strftime('%Y-%m-%d  %H:%M:%S' ,time.localtime(time.time() ) )\n",
    "    #print(localtime)\n",
    "    #localtime=time.strftime('%Y%m%d',time.localtime(time.time()))\n",
    "    year=time.strftime('%Y',time.localtime(time.time()  ) )\n",
    "    month=time.strftime('%m',time.localtime(time.time() ) )\n",
    "    date=time.strftime('%d',time.localtime(time.time() ) )\n",
    "    temp=os.getcwd()+os.sep+year+os.sep+month+os.sep+date\n",
    "    if not os.path.exists(temp):\n",
    "        os.makedirs(temp)\n",
    "        \n",
    "mkdirByTime()"
   ]
  },
  {
   "cell_type": "code",
   "execution_count": 4,
   "metadata": {},
   "outputs": [
    {
     "name": "stdout",
     "output_type": "stream",
     "text": [
      "    .ipynb_checkpoints\n",
      "       1-集合-checkpoint.ipynb\n",
      "       mongo入门-checkpoint.ipynb\n",
      "       作业-checkpoint.ipynb\n",
      "       作业1——-checkpoint.ipynb\n",
      "       元组与字典-checkpoint.ipynb\n",
      "       函数与模块-checkpoint.ipynb\n",
      "       函数的作业详解-checkpoint.ipynb\n",
      "       字符串-checkpoint.ipynb\n",
      "       排序-checkpoint.ipynb\n",
      "       文件-checkpoint.ipynb\n",
      "       正则表达式-checkpoint.ipynb\n",
      "       语句结构-checkpoint.ipynb\n",
      "       运算符与内置函数-checkpoint.ipynb\n",
      "       面向对象-checkpoint.ipynb\n",
      "       项目-checkpoint.ipynb\n",
      "    1-集合.ipynb\n",
      "    2018\n",
      "       12\n",
      "          31\n",
      "    aa.txt\n",
      "    c.txt\n",
      "    mongo入门.ipynb\n",
      "    nums.txt\n",
      "    readme.txt\n",
      "    result.xlsx\n",
      "    temp.tmp\n",
      "    Test.java\n",
      "    test.xlsx\n",
      "    作业.ipynb\n",
      "    作业1——.ipynb\n",
      "    元组与字典.ipynb\n",
      "    函数与模块.ipynb\n",
      "    函数的作业详解.ipynb\n",
      "    字符串.ipynb\n",
      "    排序.ipynb\n",
      "    文件.ipynb\n",
      "    正则表达式.ipynb\n",
      "    电影导演演员.xlsx\n",
      "    语句结构.ipynb\n",
      "    运算符与内置函数.ipynb\n",
      "    面向对象.ipynb\n",
      "    项目.ipynb\n"
     ]
    }
   ],
   "source": [
    "#  案例  递归遍历指定目录（深度优先）\n",
    "from os import listdir\n",
    "from os.path import join,isfile,isdir,basename\n",
    "\n",
    "def listDirDepthFirst(directory,level):\n",
    "    spacechar=''\n",
    "    for i in range(level):\n",
    "        spacechar+='   '\n",
    "    for subDir in listdir(directory):\n",
    "        path=join(directory,subDir)   # 形成全路径\n",
    "        if isfile( path ):\n",
    "            print( spacechar,basename(path) )\n",
    "        elif isdir(path):\n",
    "            print( spacechar,basename(path) )\n",
    "            listDirDepthFirst( path,level+1)\n",
    "listDirDepthFirst(os.getcwd(),1)"
   ]
  },
  {
   "cell_type": "code",
   "execution_count": 7,
   "metadata": {},
   "outputs": [
    {
     "name": "stdout",
     "output_type": "stream",
     "text": [
      " .ipynb_checkpoints 4096kb\n",
      " 1-集合.ipynb 36259kb\n",
      " 2018 0kb\n",
      " aa.txt 29kb\n",
      " c.txt 29kb\n",
      " mongo入门.ipynb 9390kb\n",
      " nums.txt 684kb\n",
      " readme.txt 21kb\n",
      " result.xlsx 6727kb\n",
      " temp.tmp 61kb\n",
      " Test.java 5222kb\n",
      " test.xlsx 8191kb\n",
      " 作业.ipynb 16229kb\n",
      " 作业1——.ipynb 2151kb\n",
      " 元组与字典.ipynb 86677kb\n",
      " 函数与模块.ipynb 39092kb\n",
      " 函数的作业详解.ipynb 12732kb\n",
      " 字符串.ipynb 22159kb\n",
      " 排序.ipynb 10213kb\n",
      " 文件.ipynb 29165kb\n",
      " 正则表达式.ipynb 19195kb\n",
      " 电影导演演员.xlsx 10050kb\n",
      " 语句结构.ipynb 12088kb\n",
      " 运算符与内置函数.ipynb 31166kb\n",
      " 面向对象.ipynb 44363kb\n",
      " 项目.ipynb 13921kb\n",
      "     1-集合-checkpoint.ipynb 35359kb\n",
      "     mongo入门-checkpoint.ipynb 9390kb\n",
      "     作业-checkpoint.ipynb 16019kb\n",
      "     作业1——-checkpoint.ipynb 2151kb\n",
      "     元组与字典-checkpoint.ipynb 84606kb\n",
      "     函数与模块-checkpoint.ipynb 36525kb\n",
      "     函数的作业详解-checkpoint.ipynb 8732kb\n",
      "     字符串-checkpoint.ipynb 17989kb\n",
      "     排序-checkpoint.ipynb 10213kb\n",
      "     文件-checkpoint.ipynb 29165kb\n",
      "     正则表达式-checkpoint.ipynb 19195kb\n",
      "     语句结构-checkpoint.ipynb 12088kb\n",
      "     运算符与内置函数-checkpoint.ipynb 31166kb\n",
      "     面向对象-checkpoint.ipynb 44363kb\n",
      "     项目-checkpoint.ipynb 13879kb\n",
      "             12 0kb\n",
      "                         31 0kb\n"
     ]
    }
   ],
   "source": [
    "#案例 递归遍历指定目录（广度优先）\n",
    "def listDirWidthFirst( directory ):\n",
    "    dirs=[directory]\n",
    "    level=0\n",
    "    spacechar=''\n",
    "    while dirs:\n",
    "        current=dirs.pop(0)\n",
    "        for i in range(level):\n",
    "            spacechar+='    '\n",
    "        #同一个级别的文件和目录\n",
    "        for subpath in listdir( current):\n",
    "            path=join( current,subpath)\n",
    "            if isfile(path):\n",
    "                print( spacechar,basename(path),str( os.path.getsize(path))+'kb' )\n",
    "            elif isdir(path):\n",
    "                print( spacechar,basename(path), str(os.path.getsize(path))+'kb' )\n",
    "                dirs.append(path)\n",
    "        level=level+1\n",
    "\n",
    "listDirWidthFirst(os.getcwd())"
   ]
  },
  {
   "cell_type": "code",
   "execution_count": null,
   "metadata": {
    "collapsed": true
   },
   "outputs": [],
   "source": []
  }
 ],
 "metadata": {
  "kernelspec": {
   "display_name": "Python 3",
   "language": "python",
   "name": "python3"
  },
  "language_info": {
   "codemirror_mode": {
    "name": "ipython",
    "version": 3
   },
   "file_extension": ".py",
   "mimetype": "text/x-python",
   "name": "python",
   "nbconvert_exporter": "python",
   "pygments_lexer": "ipython3",
   "version": "3.6.2"
  }
 },
 "nbformat": 4,
 "nbformat_minor": 2
}
