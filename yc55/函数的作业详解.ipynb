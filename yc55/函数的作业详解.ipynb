{
 "cells": [
  {
   "cell_type": "code",
   "execution_count": 2,
   "metadata": {},
   "outputs": [
    {
     "name": "stdout",
     "output_type": "stream",
     "text": [
      "(5.0, [6, 8])\n"
     ]
    }
   ],
   "source": [
    "#编写函数，接受任意多个函数，返回一个元祖，其中第一个元素为所有参数的平均值，其他元素为所有参数中大于平均值的实数\n",
    "def demo( *para ):\n",
    "    avg=sum(para)/len(para)\n",
    "    greaters=[ item  for item in para if  item>avg ]\n",
    "    return (avg , greaters)\n",
    "\n",
    "print( demo(2,4,6,8) )"
   ]
  },
  {
   "cell_type": "code",
   "execution_count": 3,
   "metadata": {},
   "outputs": [
    {
     "name": "stdout",
     "output_type": "stream",
     "text": [
      "(3, 6)\n"
     ]
    }
   ],
   "source": [
    "#编写函数，接收字符串参数，返回一个元祖，其中第一个元素为大写字母的个数，第二个元素为小写字母的个数\n",
    "\n",
    "def demo( s ):\n",
    "    uppers=0\n",
    "    lowers=0\n",
    "    for ch in s: #  s是一个字符串，字符串是一个序列，序列都可以迭代\n",
    "        if 'a'<=ch<='z':\n",
    "            lowers+=1\n",
    "        elif 'A'<=ch<='Z':\n",
    "            uppers+=1\n",
    "    return (uppers,lowers)\n",
    "\n",
    "print(demo('asdscsASW'))"
   ]
  },
  {
   "cell_type": "code",
   "execution_count": 6,
   "metadata": {},
   "outputs": [
    {
     "name": "stdout",
     "output_type": "stream",
     "text": [
      "[2, 3, 4, 0, 1]\n"
     ]
    }
   ],
   "source": [
    "#编写函数，接收包含20个整数的列表lst和一个整数k作为参数，返回新的列表.\n",
    "#处理规则为：将列表lst中下标k之前的元素逆序，下标k之后的元素逆序 ，然后再把整个lst逆序\n",
    "\n",
    "def demo(l,k):\n",
    "    x=l[:k]  #切片\n",
    "    x.reverse()   #在列表上直接逆序\n",
    "    y=l[k:]       \n",
    "    y.reverse()\n",
    "    r=x+y\n",
    "    r.reverse()\n",
    "    return r\n",
    "\n",
    "\n",
    "l=list(range(5) )\n",
    "print(demo(l,2) )  #  0,1,2,3,4  ->  1,0,2,3,4  ->   1,0,4,3,2  ->2,3,4,0,1 "
   ]
  },
  {
   "cell_type": "code",
   "execution_count": 7,
   "metadata": {},
   "outputs": [
    {
     "name": "stdout",
     "output_type": "stream",
     "text": [
      "[2, 3, 4, 0, 1]\n"
     ]
    }
   ],
   "source": [
    "#精简一下  \n",
    "def shiftList(l,k):\n",
    "    return l[k:]+l[:k]\n",
    "\n",
    "print( shiftList(l,2))"
   ]
  },
  {
   "cell_type": "code",
   "execution_count": 8,
   "metadata": {},
   "outputs": [
    {
     "name": "stdout",
     "output_type": "stream",
     "text": [
      "[16, 12, 14, 6, 3, 16, 9, 2, 5, 16, 10, 3, 20, 12, 19, 6, 19, 2, 11, 7, 8, 17, 10, 16, 17, 4, 6, 16, 7, 13, 2, 8, 18, 1, 14, 18, 8, 9, 5, 17, 9, 7, 16, 14, 14, 3, 5, 9, 13, 16]\n",
      "(1, 33)\n"
     ]
    }
   ],
   "source": [
    "# 编写函数，接收一个包含若干整数的列表参数lst，返回一个元祖，其中第一个元素为列表中lst最小值，其余元素为最小值在列表lst中的下标\n",
    "import random\n",
    "\n",
    "def demo(lst):\n",
    "    m=min(lst)\n",
    "    result=(m,)\n",
    "    for index,value in enumerate(lst):  #enumerate()   ->  索引 ， 值\n",
    "        if value==m:\n",
    "            result = result+(index,)  # 元祖是不能变化的  这里+得到新的元祖\n",
    "    return result\n",
    "\n",
    "x=[random.randint(1,20) for i in range(50) ]  #  50个数  范围 1,19\n",
    "print(x)\n",
    "print(demo(x) )"
   ]
  },
  {
   "cell_type": "code",
   "execution_count": 10,
   "metadata": {},
   "outputs": [
    {
     "name": "stdout",
     "output_type": "stream",
     "text": [
      "[2, 1, 9, 5, 3, 7, 4, 6, 8]\n",
      "[2, 1, 3, 4, 5, 7, 9, 6, 8]\n"
     ]
    }
   ],
   "source": [
    "#编写函数，接收一个所有元素值都不相等的整数列表x和一个整数n，要求将值为n的元素作为支点\n",
    "#  将列表中所有值小于n的元素全部放到n的前面，所有值大于n的元素放到n的后面  ->快排\n",
    "\n",
    "import random\n",
    "\n",
    "def demo(x,n):\n",
    "    if n not in x:\n",
    "        print(x,'不在',n,'里面')\n",
    "        return\n",
    "    i=x.index(n)\n",
    "    x[i],x[0] =x[0],x[i]\n",
    "    key=x[0]\n",
    "    #一个循环从0向len  查找比  n还大的值\n",
    "    #另一个循环从len向0找，找比n还小的值\n",
    "    i=0\n",
    "    j= len(x)-1\n",
    "    while i<j:  # i==j\n",
    "        while i<j and x[j]>=key: #从后面向前寻找第一个比指定元素小的元素\n",
    "            j-=1\n",
    "        x[i]=x[j]\n",
    "        while i<j and x[i]<=key: #从前向后寻找第一个比指定元素大的元素\n",
    "            i+=1\n",
    "        x[j]=x[i]\n",
    "    x[i]=key  # x[j]=key\n",
    "    \n",
    "x = list(range(1,10))\n",
    "random.shuffle(x)\n",
    "print(x)\n",
    "demo(x,4)\n",
    "print(x)"
   ]
  },
  {
   "cell_type": "code",
   "execution_count": 12,
   "metadata": {},
   "outputs": [
    {
     "name": "stdout",
     "output_type": "stream",
     "text": [
      "请输入你的内容：china is a big country\n",
      "1.0\n"
     ]
    }
   ],
   "source": [
    "#为了计算字符串的匹配率 以打字练习程序为例，假设origin为原始内容，userInput为用户输入的内容\n",
    "def Rate(origin,userInput):\n",
    "    if not (isinstance(origin,str) and isinstance(userInput,str)):\n",
    "        print('输入的必须是字符串！！！')\n",
    "        return\n",
    "    if len(origin) != len(userInput):\n",
    "        print('字符串长度不匹配')\n",
    "        return\n",
    "    right=0    #确定字符串的准确的数量\n",
    "    for origin_char,user_char in zip(origin,userInput):\n",
    "        if origin_char==user_char:\n",
    "            right+=1\n",
    "    return right/len(origin)\n",
    "\n",
    "\n",
    "origin='china is a big country'\n",
    "userInput=input(\"请输入你的内容：\")\n",
    "print(Rate(origin,userInput))"
   ]
  },
  {
   "cell_type": "code",
   "execution_count": 16,
   "metadata": {},
   "outputs": [
    {
     "name": "stdout",
     "output_type": "stream",
     "text": [
      "3702\n"
     ]
    }
   ],
   "source": [
    "#编写函数 计算形式如 a+aa+aaa+aaaa....  的表达式的值  其中a为0-9的自然数\n",
    "def demo(n,i):\n",
    "    assert type(i)==int and 0<=i<10 \n",
    "    a=str(n)\n",
    "    result= sum(eval(a*i) for i in range(1,i+1) )  # sum([eval(a),eval(aa),eval(aaa)....])\n",
    "    return result\n",
    "\n",
    "print(demo(3,4) )"
   ]
  },
  {
   "cell_type": "code",
   "execution_count": 9,
   "metadata": {},
   "outputs": [
    {
     "name": "stdout",
     "output_type": "stream",
     "text": [
      "('二等奖', 209)\n",
      "('三等奖', 700)\n",
      "('一等奖', 91)\n"
     ]
    }
   ],
   "source": [
    "#编写函数，模拟转盘抽奖\n",
    "#轮盘抽奖是比较常见的一种游戏，在轮盘上有一个指针和一些不同的颜色，不同的面积扇形\n",
    "#轮盘慢慢停下来后依靠指针所处的位置来判断是否中奖以及奖项等级\n",
    "from random import random\n",
    "\n",
    "def gambling(rates):\n",
    "    nums = random()  #  random()   0->1.0(不包括)\n",
    "    for k,v in rates.items():\n",
    "        if v[0]<=nums<v[1]:  #  概率范围\n",
    "            return k   # 奖项\n",
    "        \n",
    "#各奖项的在轮盘的比例\n",
    "rates = { '一等奖':(0,0.08),\n",
    "        '二等奖':(0.08,0.3),\n",
    "        '三等奖':(0.3,1.0) }\n",
    "\n",
    "result=dict()\n",
    "#模拟1000次\n",
    "for i in range(1000):\n",
    "    score = gambling(rates)\n",
    "    result[score]=result.get(score,0)+1  #累计每种奖项的次数\n",
    "    \n",
    "for item in result.items():\n",
    "    print(item)"
   ]
  },
  {
   "cell_type": "code",
   "execution_count": 10,
   "metadata": {},
   "outputs": [
    {
     "name": "stdout",
     "output_type": "stream",
     "text": [
      "你今天准备打开那个洞口0-4：0\n",
      "今天又没抓到\n",
      "你今天准备打开那个洞口0-4：1\n",
      "今天又没抓到\n",
      "你今天准备打开那个洞口0-4：2\n",
      "今天又没抓到\n",
      "你今天准备打开那个洞口0-4：2\n",
      "成功，抓到小狐狸\n"
     ]
    }
   ],
   "source": [
    "#编写小程序模拟抓狐狸 假设一共有5个小洞 小狐狸最开始的时候在其中一个 洞口\n",
    "#然后猎人随机打开一个窗口，如果里面与小狐狸就抓到了，如果没有小狐狸就会跳到隔壁的洞里\n",
    "from random import choice,randrange\n",
    "def catchMe(n=5,maxStep=10):\n",
    "    '''\n",
    "    n表示洞口   maxstep表示次数\n",
    "    '''\n",
    "    #有n个洞口  有的是1没有就是0\n",
    "    positions=[0]*n\n",
    "    #狐狸的起始位置\n",
    "    oldPos=randrange(0,n)\n",
    "    positions[oldPos]=1  \n",
    "    \n",
    "    #开始抓\n",
    "    while maxStep>=0:\n",
    "        maxStep -=1\n",
    "        while True:\n",
    "            try:\n",
    "                x= input('你今天准备打开那个洞口0-4：'.format(n-1) )\n",
    "                #如果你输入的不是数次，就会跳转到except\n",
    "                x=int(x)\n",
    "                #如果输入的洞口有效，结束这个循环\n",
    "                assert 0<=x< n ,'要按照套路来呀。'  #断言  -》抛出错误\n",
    "                break\n",
    "            except:\n",
    "                #如果输入的不是数字，执行下面的代码\n",
    "                print('要按照套路来，再给你一次机会')\n",
    "        if positions[x]==1:\n",
    "            print('成功，抓到小狐狸')\n",
    "            break\n",
    "        else:\n",
    "            print('今天又没抓到')\n",
    "            \n",
    "        #没抓到 小狐狸跳到隔壁洞口\n",
    "        if oldPos == n-1:\n",
    "            newPos = oldPos -1\n",
    "        elif oldPos==0:\n",
    "            newPos=oldPos+1\n",
    "        else:\n",
    "            newPos=oldPos+choice((-1,1))  #  choice  -1  1\n",
    "        positions[oldPos],positions[newPos] = 0,1\n",
    "        oldPos=newPos\n",
    "    else:\n",
    "        print('放弃吧，你这样乱试没有用的')\n",
    "            \n",
    "        \n",
    "catchMe()"
   ]
  },
  {
   "cell_type": "code",
   "execution_count": 12,
   "metadata": {},
   "outputs": [
    {
     "name": "stdout",
     "output_type": "stream",
     "text": [
      "4\n"
     ]
    }
   ],
   "source": [
    "#编写程序，模拟报数游戏，有n个人围城一圈，顺序编号，从第一个人开始从1到k（k=3）\n",
    "# 报到k的人退出，然后圈子缩小  下一个人继续，最后留下的人获胜\n",
    "from itertools import cycle  #循环队列\n",
    "\n",
    "def demo(lst,k):\n",
    "    #切片 以免影响到原来的数据\n",
    "    t_lst=lst[:]\n",
    "    \n",
    "    #游戏一直进行到只剩下最后一个人\n",
    "    while len(t_lst)>1:\n",
    "        #创建cycle对象 \n",
    "        c=cycle(t_lst)\n",
    "        #从1到k报数\n",
    "        for i in range(k):\n",
    "            t=  next( c )\n",
    "        #一个人出局，圈子缩小\n",
    "        index = t_lst.index(t) \n",
    "        t_lst=t_lst[index+1:]+t_lst[:index]\n",
    "    #游戏结束\n",
    "    return t_lst[0]\n",
    "\n",
    "lst=list(range(1,11))\n",
    "print(demo(lst,3))"
   ]
  },
  {
   "cell_type": "code",
   "execution_count": 14,
   "metadata": {},
   "outputs": [
    {
     "name": "stdout",
     "output_type": "stream",
     "text": [
      "0\n",
      "1\n",
      "2\n"
     ]
    }
   ],
   "source": []
  },
  {
   "cell_type": "code",
   "execution_count": null,
   "metadata": {
    "collapsed": true
   },
   "outputs": [],
   "source": []
  }
 ],
 "metadata": {
  "kernelspec": {
   "display_name": "Python 3",
   "language": "python",
   "name": "python3"
  },
  "language_info": {
   "codemirror_mode": {
    "name": "ipython",
    "version": 3
   },
   "file_extension": ".py",
   "mimetype": "text/x-python",
   "name": "python",
   "nbconvert_exporter": "python",
   "pygments_lexer": "ipython3",
   "version": "3.6.2"
  }
 },
 "nbformat": 4,
 "nbformat_minor": 2
}
