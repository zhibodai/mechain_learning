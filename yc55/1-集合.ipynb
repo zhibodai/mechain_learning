{
 "cells": [
  {
   "cell_type": "code",
   "execution_count": 2,
   "metadata": {},
   "outputs": [
    {
     "data": {
      "text/plain": [
       "['a', 'b', 'mpilgrim', 'z', 'exaple']"
      ]
     },
     "execution_count": 2,
     "metadata": {},
     "output_type": "execute_result"
    }
   ],
   "source": [
    "#1.列表创建与删除\n",
    "a_list = ['a','b','mpilgrim','z','exaple']\n",
    "a_list   #jupyter notebook中直接写对象名表示输出   但一个cell中只能有一个默认输出"
   ]
  },
  {
   "cell_type": "code",
   "execution_count": 3,
   "metadata": {},
   "outputs": [
    {
     "data": {
      "text/plain": [
       "[3, 4, 7, 2]"
      ]
     },
     "execution_count": 3,
     "metadata": {},
     "output_type": "execute_result"
    }
   ],
   "source": [
    "#也可以使用内置list()函数将元祖，range对象，字符串，或者其他类型的可迭代的对象类型的数据转换为 列表\n",
    "\n",
    "a_list= list( (3,4,7,2) )\n",
    "a_list"
   ]
  },
  {
   "cell_type": "code",
   "execution_count": 4,
   "metadata": {},
   "outputs": [
    {
     "data": {
      "text/plain": [
       "[1, 3, 5, 7, 9]"
      ]
     },
     "execution_count": 4,
     "metadata": {},
     "output_type": "execute_result"
    }
   ],
   "source": [
    "a_list=list( range(1,10,2) )\n",
    "a_list"
   ]
  },
  {
   "cell_type": "code",
   "execution_count": 1,
   "metadata": {},
   "outputs": [
    {
     "data": {
      "text/plain": [
       "['h', 'e', 'l', 'l', 'o', ' ', 'w', 'o', 'r', 'l', 'd']"
      ]
     },
     "execution_count": 1,
     "metadata": {},
     "output_type": "execute_result"
    }
   ],
   "source": [
    "a_list=list('hello world')\n",
    "a_list"
   ]
  },
  {
   "cell_type": "markdown",
   "metadata": {},
   "source": [
    "# 列表元素的增加"
   ]
  },
  {
   "cell_type": "code",
   "execution_count": 3,
   "metadata": {},
   "outputs": [
    {
     "name": "stdout",
     "output_type": "stream",
     "text": [
      "1528333623688\n",
      "[3, 4, 2]\n",
      "1528333626952\n",
      "[3, 4, 2, 7]\n"
     ]
    }
   ],
   "source": [
    "#1.  +\n",
    "alist=[3,4,2]\n",
    "print(id (alist) )\n",
    "print(alist)\n",
    "alist=alist+[7]\n",
    "print(id (alist) )\n",
    "print(alist)\n",
    "\n",
    "#这并不是真的为列表添加元素，而是创建了一个新的列表，并且将原来的元素依次复制到列表的内存空间"
   ]
  },
  {
   "cell_type": "code",
   "execution_count": 4,
   "metadata": {},
   "outputs": [
    {
     "name": "stdout",
     "output_type": "stream",
     "text": [
      "[3, 4, 2, 7, 8]\n",
      "1528333626952\n"
     ]
    }
   ],
   "source": [
    "#2.   append()   原地修改列表  速度快\n",
    "alist.append(8)\n",
    "print(alist)\n",
    "print(  id(alist) )"
   ]
  },
  {
   "cell_type": "code",
   "execution_count": 6,
   "metadata": {},
   "outputs": [
    {
     "name": "stdout",
     "output_type": "stream",
     "text": [
      "1528332624456\n",
      "[1, 2, 5, 7, 4, 8, 2]\n",
      "1528332624456\n"
     ]
    }
   ],
   "source": [
    "# 3. extend()   原地修改列表  \n",
    "a = [1,2,5,7]\n",
    "print( id(a) )\n",
    "a.extend(  [4,8,2]  )\n",
    "print(a)\n",
    "print( id(a) )\n"
   ]
  },
  {
   "cell_type": "code",
   "execution_count": 7,
   "metadata": {},
   "outputs": [
    {
     "name": "stdout",
     "output_type": "stream",
     "text": [
      "1528332624456\n",
      "[1, 2, 5, 7, 5, 4, 8, 2]\n"
     ]
    }
   ],
   "source": [
    "#  insert()  将元素添加到指定的位置上\n",
    "a.insert(  4 ,5)\n",
    "print( id(a)  )\n",
    "print( a )\n"
   ]
  },
  {
   "cell_type": "code",
   "execution_count": 8,
   "metadata": {},
   "outputs": [
    {
     "name": "stdout",
     "output_type": "stream",
     "text": [
      "1528332624584\n",
      "1528332624584\n",
      "1528333626952\n"
     ]
    }
   ],
   "source": [
    "# 使用乘法来扩展对象，将列表与整数相乘，生成一个新的列表，新列表是原列表中元素的重复\n",
    "alist=[3,4,2]\n",
    "blist=alist\n",
    "print( id(alist) )\n",
    "print( id(blist) )\n",
    "\n",
    "alist=alist * 3\n",
    "print( id(alist) )\n",
    "\n"
   ]
  },
  {
   "cell_type": "code",
   "execution_count": null,
   "metadata": {
    "collapsed": true
   },
   "outputs": [],
   "source": [
    "# 当使用 * 运算符将包含列表重复并创建新列表时，并不是复制子列表值，而是复制已有元素的引用  因此修改其中一个元素的值  其余的值也随之更改\n",
    "a = [  [10] * 3] *2\n",
    "print( a )\n",
    "a[1][0]=2\n",
    "print(a)"
   ]
  },
  {
   "cell_type": "markdown",
   "metadata": {},
   "source": [
    "# 列表元素的删除"
   ]
  },
  {
   "cell_type": "code",
   "execution_count": 10,
   "metadata": {},
   "outputs": [
    {
     "name": "stdout",
     "output_type": "stream",
     "text": [
      "[3, 7, 9, 11]\n"
     ]
    }
   ],
   "source": [
    "#  1. del  删除列表中指定位置上的元素\n",
    "a_list = [3,5,7,9,11]\n",
    "del a_list[1]\n",
    "print(a_list)"
   ]
  },
  {
   "cell_type": "code",
   "execution_count": 1,
   "metadata": {},
   "outputs": [
    {
     "name": "stdout",
     "output_type": "stream",
     "text": [
      "1969333357896\n",
      "7\n",
      "1969333357896\n",
      "[3, 5, 6]\n",
      "5\n",
      "[3, 6]\n"
     ]
    }
   ],
   "source": [
    "#2. 使用列表的pop（）方法删除并返回指定位置（默认为最后一个）上的元素，如果给定的索引超出了列表的范围则抛出异常\n",
    "a_list = list( (3,5,6,7) )\n",
    "print( id( a_list ) )\n",
    "print(a_list.pop())  #返回删除的元素\n",
    "print( id( a_list ) )\n",
    "print(a_list)\n",
    "print(a_list.pop(1))  # pop指定位置元素，发生移动操作\n",
    "print(a_list)"
   ]
  },
  {
   "cell_type": "code",
   "execution_count": 2,
   "metadata": {},
   "outputs": [
    {
     "name": "stdout",
     "output_type": "stream",
     "text": [
      "1969333357192\n",
      "None\n",
      "1969333357192\n",
      "[4, 1, 7, 2]\n"
     ]
    }
   ],
   "source": [
    "#  remove（）   删除首次出现的指定元素，如果列表中不存在要删除的元素，则抛出异常\n",
    "a_list=[4,1,2,7,2]\n",
    "print(id(a_list) )\n",
    "print(a_list.remove(2))  #没有返回值\n",
    "print( id(a_list) )\n",
    "print(a_list)"
   ]
  },
  {
   "cell_type": "code",
   "execution_count": 3,
   "metadata": {},
   "outputs": [
    {
     "name": "stdout",
     "output_type": "stream",
     "text": [
      "[2, 2, 2]\n"
     ]
    }
   ],
   "source": [
    "#  找bug程序\n",
    "x= [ 1,2,1,2,1,2,1]\n",
    "for i in x:\n",
    "    if i==1:\n",
    "        x.remove(i)  #\n",
    "print(x)"
   ]
  },
  {
   "cell_type": "code",
   "execution_count": 5,
   "metadata": {},
   "outputs": [
    {
     "name": "stdout",
     "output_type": "stream",
     "text": [
      "[2, 2, 1, 1]\n"
     ]
    }
   ],
   "source": [
    "x=[1,2,1,2,1,1,1,1]\n",
    "for i in x:\n",
    "    if i==1:\n",
    "        x.remove(i)\n",
    "print(x)"
   ]
  },
  {
   "cell_type": "code",
   "execution_count": 6,
   "metadata": {},
   "outputs": [
    {
     "name": "stdout",
     "output_type": "stream",
     "text": [
      "[2, 2]\n"
     ]
    }
   ],
   "source": [
    "#  改进版\n",
    "x=[1,2,1,2,1,1,1,1]\n",
    "for i in x[::] :   #切片的方法\n",
    "    if i==1:\n",
    "        x.remove(i)\n",
    "print(x)\n"
   ]
  },
  {
   "cell_type": "code",
   "execution_count": 8,
   "metadata": {},
   "outputs": [
    {
     "name": "stdout",
     "output_type": "stream",
     "text": [
      "[2, 2]\n"
     ]
    }
   ],
   "source": [
    "#  或者\n",
    "x=[1,2,1,2,1,1,1,1]\n",
    "for i in range(len(x)-1,-1,-1):\n",
    "    if x[i]==1:\n",
    "        del x[i]\n",
    "        \n",
    "print(x)       \n"
   ]
  },
  {
   "cell_type": "markdown",
   "metadata": {
    "collapsed": true
   },
   "source": [
    "# 列表元素访问与计数"
   ]
  },
  {
   "cell_type": "code",
   "execution_count": 2,
   "metadata": {},
   "outputs": [
    {
     "name": "stdout",
     "output_type": "stream",
     "text": [
      "[1, 4, 2, 7, 8, 9, 22]\n",
      "5\n"
     ]
    }
   ],
   "source": [
    "# 1. 使用列表的对象的index() 方法获取指定元素首次出现的下标，若列表对象中不存在指定元素，则抛出异常\n",
    "alist=[1,4,2,7,8,9,22]\n",
    "print(alist)\n",
    "print(alist.index(9))"
   ]
  },
  {
   "cell_type": "code",
   "execution_count": 3,
   "metadata": {},
   "outputs": [
    {
     "name": "stdout",
     "output_type": "stream",
     "text": [
      "1\n"
     ]
    }
   ],
   "source": [
    "#2. 使用列表对象的count方法统计指定元素在列表对象中出现的次数\n",
    "print(alist.count(2))"
   ]
  },
  {
   "cell_type": "code",
   "execution_count": 4,
   "metadata": {},
   "outputs": [
    {
     "name": "stdout",
     "output_type": "stream",
     "text": [
      "False\n"
     ]
    }
   ],
   "source": [
    "# 3.使用in关键字判断一个值是否存在于列表中，返回结果为‘true’ 或者 ‘false’\n",
    "print(3 in alist)"
   ]
  },
  {
   "cell_type": "markdown",
   "metadata": {},
   "source": [
    "# 切片"
   ]
  },
  {
   "cell_type": "code",
   "execution_count": null,
   "metadata": {
    "collapsed": true
   },
   "outputs": [],
   "source": []
  },
  {
   "cell_type": "code",
   "execution_count": 5,
   "metadata": {},
   "outputs": [
    {
     "data": {
      "text/plain": [
       "[4, 1, 2, 7, 33, 44, 14, 24, 17]"
      ]
     },
     "execution_count": 5,
     "metadata": {},
     "output_type": "execute_result"
    }
   ],
   "source": [
    "alist=[4,1,2,7,33,44,14,24,17]\n",
    "alist[::]"
   ]
  },
  {
   "cell_type": "code",
   "execution_count": 6,
   "metadata": {},
   "outputs": [
    {
     "data": {
      "text/plain": [
       "[17, 24, 14, 44, 33, 7, 2, 1, 4]"
      ]
     },
     "execution_count": 6,
     "metadata": {},
     "output_type": "execute_result"
    }
   ],
   "source": [
    "alist[::-1]   #逆序的所有元素"
   ]
  },
  {
   "cell_type": "code",
   "execution_count": 7,
   "metadata": {},
   "outputs": [
    {
     "data": {
      "text/plain": [
       "[4, 2, 33, 14, 17]"
      ]
     },
     "execution_count": 7,
     "metadata": {},
     "output_type": "execute_result"
    }
   ],
   "source": [
    "alist[::2]  #输出偶数位置"
   ]
  },
  {
   "cell_type": "code",
   "execution_count": 8,
   "metadata": {},
   "outputs": [
    {
     "data": {
      "text/plain": [
       "[1, 7, 44, 24]"
      ]
     },
     "execution_count": 8,
     "metadata": {},
     "output_type": "execute_result"
    }
   ],
   "source": [
    "alist[1::2]  #输出奇数位置"
   ]
  },
  {
   "cell_type": "code",
   "execution_count": 9,
   "metadata": {},
   "outputs": [
    {
     "data": {
      "text/plain": [
       "[7, 33, 44, 14, 24, 17]"
      ]
     },
     "execution_count": 9,
     "metadata": {},
     "output_type": "execute_result"
    }
   ],
   "source": [
    "alist[3:]  #以索引为3的开始输出"
   ]
  },
  {
   "cell_type": "code",
   "execution_count": 10,
   "metadata": {},
   "outputs": [
    {
     "data": {
      "text/plain": [
       "[7, 33, 44]"
      ]
     },
     "execution_count": 10,
     "metadata": {},
     "output_type": "execute_result"
    }
   ],
   "source": [
    "alist[3:6]  #以索引为3且到6的值输出   "
   ]
  },
  {
   "cell_type": "code",
   "execution_count": 12,
   "metadata": {},
   "outputs": [
    {
     "data": {
      "text/plain": [
       "[]"
      ]
     },
     "execution_count": 12,
     "metadata": {},
     "output_type": "execute_result"
    }
   ],
   "source": [
    "alist[100::]   #会自动截断，不会报错"
   ]
  },
  {
   "cell_type": "code",
   "execution_count": 13,
   "metadata": {},
   "outputs": [
    {
     "data": {
      "text/plain": [
       "[4, 1, 2, 7, 33, 44, 14, 24, 17]"
      ]
     },
     "execution_count": 13,
     "metadata": {},
     "output_type": "execute_result"
    }
   ],
   "source": [
    "alist[:100:1]   #会自动的截断"
   ]
  },
  {
   "cell_type": "code",
   "execution_count": 25,
   "metadata": {},
   "outputs": [
    {
     "name": "stdout",
     "output_type": "stream",
     "text": [
      "[3, 5, 7, 9]\n"
     ]
    }
   ],
   "source": [
    "#2.   用切片来原地修改列表内容\n",
    "alist=[3,5,7]\n",
    "alist[len(alist)::]=[9]\n",
    "\n",
    "print(alist)"
   ]
  },
  {
   "cell_type": "code",
   "execution_count": 18,
   "metadata": {},
   "outputs": [
    {
     "name": "stdout",
     "output_type": "stream",
     "text": [
      "[1, 2, 3, 9]\n"
     ]
    }
   ],
   "source": [
    "alist[:3]=[1,2,3]\n",
    "print(alist)   #替换前3个元素"
   ]
  },
  {
   "cell_type": "code",
   "execution_count": 19,
   "metadata": {},
   "outputs": [
    {
     "name": "stdout",
     "output_type": "stream",
     "text": [
      "[9]\n"
     ]
    }
   ],
   "source": [
    "alist[:3]=[]\n",
    "print(alist)  #删除前面3个元素"
   ]
  },
  {
   "cell_type": "code",
   "execution_count": 21,
   "metadata": {},
   "outputs": [
    {
     "data": {
      "text/plain": [
       "[1, 2, 3, 4, 5, 6, 7, 8, 9]"
      ]
     },
     "execution_count": 21,
     "metadata": {},
     "output_type": "execute_result"
    }
   ],
   "source": [
    "alist = list(range(1,10,1) )\n",
    "alist"
   ]
  },
  {
   "cell_type": "code",
   "execution_count": 24,
   "metadata": {},
   "outputs": [
    {
     "data": {
      "text/plain": [
       "[0, 2, 0, 4, 0, 6, 0, 8, 0]"
      ]
     },
     "execution_count": 24,
     "metadata": {},
     "output_type": "execute_result"
    }
   ],
   "source": [
    "alist[::2]=[0]*5\n",
    "alist   #替换偶数位置上的元素"
   ]
  },
  {
   "cell_type": "code",
   "execution_count": 26,
   "metadata": {},
   "outputs": [
    {
     "data": {
      "text/plain": [
       "[5, 7, 11]"
      ]
     },
     "execution_count": 26,
     "metadata": {},
     "output_type": "execute_result"
    }
   ],
   "source": [
    "# 3.使用del()与切片结合来删除列表元素\n",
    "alist=[3,5,7,9,11]\n",
    "del alist[::3]\n",
    "alist"
   ]
  },
  {
   "cell_type": "code",
   "execution_count": 28,
   "metadata": {},
   "outputs": [
    {
     "data": {
      "text/plain": [
       "[5, 9, 13]"
      ]
     },
     "execution_count": 28,
     "metadata": {},
     "output_type": "execute_result"
    }
   ],
   "source": [
    "alist=[3,5,7,9,11,13]\n",
    "del alist[::2]\n",
    "alist"
   ]
  },
  {
   "cell_type": "code",
   "execution_count": 31,
   "metadata": {},
   "outputs": [
    {
     "name": "stdout",
     "output_type": "stream",
     "text": [
      "True\n",
      "1545652016\n",
      "1545652016\n",
      "False\n"
     ]
    }
   ],
   "source": [
    "#  4. 切片返回的是列表的浅复制\n",
    "\n",
    "alist=[3,5,7]\n",
    "blist= alist[::]\n",
    "\n",
    "print(alist==blist)\n",
    "print(id(alist[0]))\n",
    "print(id(blist[0]))\n",
    "print(id(alist)==id(blist))"
   ]
  },
  {
   "cell_type": "code",
   "execution_count": 37,
   "metadata": {},
   "outputs": [
    {
     "name": "stdout",
     "output_type": "stream",
     "text": [
      "True\n",
      "True\n",
      "1545652016  1545652016\n",
      "[3, 8, 7]\n"
     ]
    }
   ],
   "source": [
    "alist=[3,5,7]\n",
    "blist=alist  \n",
    "print(alist==blist)\n",
    "print(id(alist)==id(blist))\n",
    "print(id(alist[0] ),'',id(blist[0] ) )\n",
    "blist[1]=8\n",
    "print(alist)   #会影响另一个"
   ]
  },
  {
   "cell_type": "code",
   "execution_count": 35,
   "metadata": {},
   "outputs": [
    {
     "name": "stdout",
     "output_type": "stream",
     "text": [
      "True\n",
      "True\n",
      "False\n",
      "False\n"
     ]
    }
   ],
   "source": [
    "\n",
    "alist=[3,5,7]\n",
    "blist= alist[::]\n",
    "\n",
    "print(alist==blist)\n",
    "print(id(alist[0]) == id(blist[0]) )\n",
    "\n",
    "print(id(alist)==id(blist))\n",
    "print(alist is blist)"
   ]
  },
  {
   "cell_type": "code",
   "execution_count": 36,
   "metadata": {},
   "outputs": [
    {
     "name": "stdout",
     "output_type": "stream",
     "text": [
      "[3, 5, 7]\n"
     ]
    }
   ],
   "source": [
    "blist[1] = 8\n",
    "print(alist)    #修改其中一个不会影响另外的一个"
   ]
  },
  {
   "cell_type": "markdown",
   "metadata": {},
   "source": [
    "# 列表排序"
   ]
  },
  {
   "cell_type": "code",
   "execution_count": 41,
   "metadata": {},
   "outputs": [
    {
     "name": "stdout",
     "output_type": "stream",
     "text": [
      "[11, 6, 3, 4, 17, 9, 5, 7, 13, 8, 15]\n",
      "[3, 4, 5, 6, 7, 8, 9, 11, 13, 15, 17]\n",
      "[17, 15, 13, 11, 9, 8, 7, 6, 5, 4, 3]\n",
      "[9, 8, 7, 6, 5, 4, 3, 17, 15, 13, 11]\n"
     ]
    }
   ],
   "source": [
    "#简介：两种操作： 1. 使用Python内置函数sorted(列表)  2. 使用序列自带的函数  列表名.sort()\n",
    "#1.  使用列表对象的sort()方法进行原地排序，支持多种不同的排序方式\n",
    "alist=[3,4,5,6,7,8,9,11,13,15,17]\n",
    "#sort(*,key=None , reverse=False)\n",
    "\n",
    "import random\n",
    "#  random.shuffle(x[,random])   #打乱顺序\n",
    "random.shuffle(alist)\n",
    "print(alist)\n",
    "\n",
    "#无返回值\n",
    "alist.sort()\n",
    "print(alist)\n",
    "\n",
    "\n",
    "#reverse\n",
    "random.shuffle( alist)\n",
    "alist.sort( reverse = True)\n",
    "print(alist)\n",
    "\n",
    "\n",
    "#利用key来修改排序的规则\n",
    "alist.sort(key=lambda x:len(str(x) ) )\n",
    "print(alist)"
   ]
  },
  {
   "cell_type": "code",
   "execution_count": 45,
   "metadata": {},
   "outputs": [
    {
     "name": "stdout",
     "output_type": "stream",
     "text": [
      "[3, 4, 5, 6, 7, 8, 9, 11, 13, 15, 17]\n",
      "[11, 15, 6, 9, 17, 7, 3, 5, 13, 8, 4]\n",
      "[17, 15, 13, 11, 9, 8, 7, 6, 5, 4, 3]\n",
      "[6, 9, 7, 3, 5, 8, 4, 11, 15, 17, 13]\n"
     ]
    }
   ],
   "source": [
    "#2.使用内置函数sorted()对列表进行排序并且返回新的列表\n",
    "random.shuffle(alist)\n",
    "a=sorted(alist)\n",
    "print(a)\n",
    "print( alist )   #生成的是新列表，所以原来的列表不会改变\n",
    "\n",
    "a=sorted(alist, reverse=True)\n",
    "print(a)\n",
    "\n",
    "a=sorted(alist,key=lambda _:len(str(_) ) )  #   _指的是最近距离的变量值\n",
    "print(a)\n"
   ]
  },
  {
   "cell_type": "code",
   "execution_count": 46,
   "metadata": {},
   "outputs": [
    {
     "data": {
      "text/plain": [
       "[17, 15, 13, 11, 9, 8, 7, 6, 5, 4, 3]"
      ]
     },
     "execution_count": 46,
     "metadata": {},
     "output_type": "execute_result"
    }
   ],
   "source": [
    "#3.关于逆序\n",
    "#  列表对象的reverse()方法将元素原地排序\n",
    "alist=[3, 4, 5, 6, 7, 8, 9, 11, 13, 15, 17]\n",
    "alist.reverse()\n",
    "alist"
   ]
  },
  {
   "cell_type": "code",
   "execution_count": 47,
   "metadata": {},
   "outputs": [
    {
     "name": "stdout",
     "output_type": "stream",
     "text": [
      "<class 'list_reverseiterator'>\n",
      "[17, 13, 11, 9, 8, 7, 6, 5, 4, 3]\n"
     ]
    }
   ],
   "source": [
    "#内置函数reversed()对列表元素进行逆序的排序并且返回迭代对象\n",
    "alist=[3,4,5,6,7,8,9,11,13,17]\n",
    "newlist=reversed(alist)\n",
    "print(type(newlist) )  #   生成的是一个生成器   惰性求值\n",
    "print(list(newlist))"
   ]
  },
  {
   "cell_type": "code",
   "execution_count": 48,
   "metadata": {
    "collapsed": true
   },
   "outputs": [],
   "source": [
    "for i in newlist:\n",
    "    print(i,end=' ')    #为什么会没有输出？  生成器只能运行一次"
   ]
  },
  {
   "cell_type": "code",
   "execution_count": 49,
   "metadata": {},
   "outputs": [
    {
     "name": "stdout",
     "output_type": "stream",
     "text": [
      "3 4 5 6 7 8 9 11 13 17 "
     ]
    }
   ],
   "source": [
    "newlist=alist\n",
    "for i in newlist:\n",
    "    print(i,end=' ') "
   ]
  },
  {
   "cell_type": "markdown",
   "metadata": {},
   "source": [
    "# 列表推导式"
   ]
  },
  {
   "cell_type": "code",
   "execution_count": 50,
   "metadata": {},
   "outputs": [
    {
     "data": {
      "text/plain": [
       "'\\n快速生成列表\\n语法：\\n     [expression for expr1 in sequencel if conditionl\\n                  for expr2 in sequence2 if condition2\\n                  for expr3 in sequence3 if condition3\\n                  ....\\n                  for exprN in sequenceN if conditionN\\n     ]\\n'"
      ]
     },
     "execution_count": 50,
     "metadata": {},
     "output_type": "execute_result"
    }
   ],
   "source": [
    "'''\n",
    "快速生成列表\n",
    "语法：\n",
    "     [expression for expr1 in sequencel if conditionl\n",
    "                  for expr2 in sequence2 if condition2\n",
    "                  for expr3 in sequence3 if condition3\n",
    "                  ....\n",
    "                  for exprN in sequenceN if conditionN\n",
    "     ]\n",
    "'''\n",
    "\n"
   ]
  },
  {
   "cell_type": "code",
   "execution_count": 52,
   "metadata": {},
   "outputs": [
    {
     "data": {
      "text/plain": [
       "18446744073709551615"
      ]
     },
     "execution_count": 52,
     "metadata": {},
     "output_type": "execute_result"
    }
   ],
   "source": [
    "#案列一：\n",
    "\n",
    "#阿凡提与国王下棋\n",
    "\n",
    "sum( [2**i  for i in range(64)] )  #[2^0 , 2^1 , ...,2^63]"
   ]
  },
  {
   "cell_type": "code",
   "execution_count": 54,
   "metadata": {},
   "outputs": [
    {
     "data": {
      "text/plain": [
       "18446744073709551615"
      ]
     },
     "execution_count": 54,
     "metadata": {},
     "output_type": "execute_result"
    }
   ],
   "source": [
    "#位运算的方式：  \n",
    "int('1'*64,2)"
   ]
  },
  {
   "cell_type": "code",
   "execution_count": 58,
   "metadata": {},
   "outputs": [
    {
     "name": "stdout",
     "output_type": "stream",
     "text": [
      "[1, 2, 3, 4, 5, 6, 7, 8, 9]\n",
      "[1, 2, 3, 4, 5, 6, 7, 8, 9]\n",
      "<class 'itertools.chain'>\n",
      "[1, 2, 3, 4, 5, 6, 7, 8, 9]\n"
     ]
    }
   ],
   "source": [
    "#案例2：使用列表推导式实现嵌套列表的平铺\n",
    "vec=[ [1,2,3,],[4,5,6],[7,8,9]]\n",
    "alist=[ num for elem in vec for num in elem]\n",
    "print(alist)\n",
    "'''\n",
    "list1=[]\n",
    "for i in vec:\n",
    "    for j in i:\n",
    "        list1.append(j)\n",
    "'''\n",
    "print(sum(vec,[])  )   #一定要加上空的[]  \n",
    "\n",
    "from itertools import chain\n",
    "a=chain( *vec )\n",
    "print(type(a) )    #也是一个生成器对象\n",
    "print(list(a))"
   ]
  },
  {
   "cell_type": "code",
   "execution_count": 59,
   "metadata": {},
   "outputs": [
    {
     "name": "stdout",
     "output_type": "stream",
     "text": [
      "[1, 2, 3] [4, 5, 6] [7, 8, 9]\n"
     ]
    }
   ],
   "source": [
    "#  *vec   自动拆包：将列表分解开\n",
    "vec=[[1,2,3],[4,5,6],[7,8,9]]\n",
    "print(*vec)"
   ]
  },
  {
   "cell_type": "code",
   "execution_count": 60,
   "metadata": {},
   "outputs": [
    {
     "name": "stdout",
     "output_type": "stream",
     "text": [
      "[]\n"
     ]
    }
   ],
   "source": [
    "#案例3：  列出当前文件夹下所有的python的源文件  File[] file.listFile()   \n",
    "import os #operating system  操作系统\n",
    "a=[filename for filename in os.listdir('.') if filename.endswith( ('.py','pyc','.txt') ) ]   #  .代表当前目录\n",
    "print(a)"
   ]
  },
  {
   "cell_type": "code",
   "execution_count": 61,
   "metadata": {},
   "outputs": [
    {
     "name": "stdout",
     "output_type": "stream",
     "text": [
      "['.ipynb_checkpoints', '1-集合.ipynb', 'Untitled.ipynb', '作业1——.ipynb']\n"
     ]
    }
   ],
   "source": [
    "import os\n",
    "print(os.listdir('.'))"
   ]
  },
  {
   "cell_type": "code",
   "execution_count": 62,
   "metadata": {},
   "outputs": [
    {
     "name": "stdout",
     "output_type": "stream",
     "text": [
      "[0, 55]\n"
     ]
    }
   ],
   "source": [
    "#案例4：\n",
    "'''\n",
    "过滤不符合条件的元素\n",
    "'''\n",
    "alist=[-1,-2,-99,-4,0,55]\n",
    "a=[num for num in alist if num>=0]\n",
    "print(a)"
   ]
  },
  {
   "cell_type": "code",
   "execution_count": 71,
   "metadata": {},
   "outputs": [
    {
     "name": "stdout",
     "output_type": "stream",
     "text": [
      "字典值： dict_values([45, 78, 40, 96, 99, 89, 99])\n",
      "字典键： dict_keys(['zhang san', 'li si', 'wang wu', 'zhou liu', 'zhao qi', 'sun ba', 'zheng jiu'])\n",
      "字典键值： dict_items([('zhang san', 45), ('li si', 78), ('wang wu', 40), ('zhou liu', 96), ('zhao qi', 99), ('sun ba', 89), ('zheng jiu', 99)])\n"
     ]
    }
   ],
   "source": [
    "# 字典的用法\n",
    "scores={'zhang san':45 ,'li si':78 ,'wang wu':40,\n",
    "        'zhou liu':96 ,'zhao qi':99 ,'sun ba':89,\n",
    "        'zheng jiu':99\n",
    "       }\n",
    "print('字典值：',scores.values() )\n",
    "print('字典键：',scores.keys())\n",
    "print('字典键值：',scores.items())"
   ]
  },
  {
   "cell_type": "code",
   "execution_count": 77,
   "metadata": {},
   "outputs": [
    {
     "name": "stdout",
     "output_type": "stream",
     "text": [
      "99 40 78.0 ['zhao qi', 'zheng jiu']\n"
     ]
    }
   ],
   "source": [
    "#案例5： 已知一个包含同学成绩的字典，来计算最高分，最低分，平均分，并查找所有最高分的同学\n",
    "highest=max(scores.values() )\n",
    "lowest=min(scores.values() )\n",
    "avg=sum(scores.values() )/len(scores)\n",
    "name=[name for name,score in scores.items() if score==highest ]\n",
    "print(highest,lowest,avg,name)"
   ]
  },
  {
   "cell_type": "code",
   "execution_count": 81,
   "metadata": {},
   "outputs": [
    {
     "name": "stdout",
     "output_type": "stream",
     "text": [
      "[(1, 'a'), (2, 'b'), (3, 'c')]\n",
      "[(1, 2), (1, 3), (1, 4), (2, 3), (2, 4), (3, 2), (3, 4)]\n"
     ]
    }
   ],
   "source": [
    "#案例六：\n",
    "'''\n",
    "在列表中推导式中使用多个循环，实现多序列元素的任意组合，并且可以结合条件语句过滤特定元素\n",
    "需求：自定义实现 zip()\n",
    "'''\n",
    "# zip(x,y)  -> [(x1,y1),(x2,y2)]\n",
    "def myzip(x,y):\n",
    "    xlen=len(x)\n",
    "    ylen=len(y)\n",
    "    l=min(xlen,ylen)\n",
    "    result=[(x[index],y[index])  for index in range(0,l) ]\n",
    "    return result\n",
    "\n",
    "print(myzip([1,2,3],['a','b','c','d']) )\n",
    "\n",
    "\n",
    "#需求:输出数组中值不同的值对\n",
    "#[1,2,3]   [2,3,4]    [(1,2),(1,3) ,(1,4)....]\n",
    "x=[1,2,3]\n",
    "y=[2,3,4]\n",
    "result=[(xl,yl)  for xl in x  for yl in y if xl!=yl ]\n",
    "print(result)"
   ]
  },
  {
   "cell_type": "code",
   "execution_count": 2,
   "metadata": {},
   "outputs": [
    {
     "name": "stdout",
     "output_type": "stream",
     "text": [
      "[[1, 5, 9], [2, 6, 10], [3, 7, 11], [4, 8, 12]]\n",
      "[[1, 5, 9], [2, 6, 10], [3, 7, 11], [4, 8, 12]]\n"
     ]
    }
   ],
   "source": [
    "#案例7：\n",
    "'''\n",
    "使用列表推导式，把矩阵转置\n",
    "'''\n",
    "matrix=[ [1,2,3,4],[5,6,7,8],[9,10,11,12] ]  \n",
    "#1.取出行数\n",
    "rows=len(matrix[0] )\n",
    "\n",
    "result=[ [row[i] for row in matrix ]for i in range( rows ) ]\n",
    "print(result)\n",
    "\n",
    "#  1.将上述算法定义为一个  矩阵转置的函数\n",
    "def T( matrix ):\n",
    "    rows=len( matrix[0] )\n",
    "    result=[ [row[i] for row in matrix ] for i in range (rows)]\n",
    "    return result\n",
    "\n",
    "print( T(matrix))\n",
    "\n",
    "a=zip( *matrix )"
   ]
  },
  {
   "cell_type": "code",
   "execution_count": 4,
   "metadata": {},
   "outputs": [
    {
     "name": "stdout",
     "output_type": "stream",
     "text": [
      "[2, 4, 4, 16]\n",
      "[2, 4, 4, 16]\n"
     ]
    }
   ],
   "source": [
    "#  案例8：\n",
    "'''\n",
    "列表推导式中可以使用函数或者复杂表达式\n",
    "def f(v):\n",
    "    if v%2==0:\n",
    "        v=v**2\n",
    "    else:\n",
    "        v=v+1\n",
    "    return v\n",
    "'''\n",
    "def f(v):\n",
    "    if v%2==0:\n",
    "        v=v**2\n",
    "    else:\n",
    "        v=v+1\n",
    "    return v\n",
    "\n",
    "a=[f(v)    for v in [0,1,2,3,4] if v>0 ]\n",
    "print(a)\n",
    "\n",
    "a=[v**2 if v%2==0 else v+1   for v in [0,1,2,3,4] if v>0]\n",
    "print(a)"
   ]
  },
  {
   "cell_type": "markdown",
   "metadata": {
    "collapsed": true
   },
   "source": [
    "# 集合"
   ]
  },
  {
   "cell_type": "code",
   "execution_count": 1,
   "metadata": {},
   "outputs": [
    {
     "data": {
      "text/plain": [
       "{3, 5, 7}"
      ]
     },
     "execution_count": 1,
     "metadata": {},
     "output_type": "execute_result"
    }
   ],
   "source": [
    "# 1. 赋值\n",
    "a={3,5,7}\n",
    "a"
   ]
  },
  {
   "cell_type": "code",
   "execution_count": 8,
   "metadata": {},
   "outputs": [
    {
     "data": {
      "text/plain": [
       "{1, 2, 3, 4, 5, 6, 7, 8, 9}"
      ]
     },
     "execution_count": 8,
     "metadata": {},
     "output_type": "execute_result"
    }
   ],
   "source": [
    "#2.set()转换\n",
    "a=set(range(1,10))\n",
    "a"
   ]
  },
  {
   "cell_type": "code",
   "execution_count": 4,
   "metadata": {},
   "outputs": [
    {
     "data": {
      "text/plain": [
       "{0, 1, 2, 4}"
      ]
     },
     "execution_count": 4,
     "metadata": {},
     "output_type": "execute_result"
    }
   ],
   "source": [
    "# 3.去重\n",
    "a={0,0,1,2,4,1,2}\n",
    "a"
   ]
  },
  {
   "cell_type": "code",
   "execution_count": 6,
   "metadata": {},
   "outputs": [
    {
     "data": {
      "text/plain": [
       "set()"
      ]
     },
     "execution_count": 6,
     "metadata": {},
     "output_type": "execute_result"
    }
   ],
   "source": [
    "a=set()\n",
    "a"
   ]
  },
  {
   "cell_type": "code",
   "execution_count": 7,
   "metadata": {
    "collapsed": true
   },
   "outputs": [],
   "source": [
    "#del 删除整合集合\n",
    "del a"
   ]
  },
  {
   "cell_type": "code",
   "execution_count": 10,
   "metadata": {},
   "outputs": [
    {
     "data": {
      "text/plain": [
       "1"
      ]
     },
     "execution_count": 10,
     "metadata": {},
     "output_type": "execute_result"
    }
   ],
   "source": [
    "# 删除集合中的元素  pop()   remove()  clear()\n",
    "a={1,2,3,5}\n",
    "a.pop()"
   ]
  },
  {
   "cell_type": "code",
   "execution_count": 11,
   "metadata": {},
   "outputs": [
    {
     "data": {
      "text/plain": [
       "{2, 3, 5}"
      ]
     },
     "execution_count": 11,
     "metadata": {},
     "output_type": "execute_result"
    }
   ],
   "source": [
    "a"
   ]
  },
  {
   "cell_type": "code",
   "execution_count": 16,
   "metadata": {},
   "outputs": [
    {
     "data": {
      "text/plain": [
       "{1, 2, 3, 5}"
      ]
     },
     "execution_count": 16,
     "metadata": {},
     "output_type": "execute_result"
    }
   ],
   "source": [
    "a.add(5)\n",
    "a"
   ]
  },
  {
   "cell_type": "code",
   "execution_count": 17,
   "metadata": {},
   "outputs": [
    {
     "data": {
      "text/plain": [
       "{1, 2, 3}"
      ]
     },
     "execution_count": 17,
     "metadata": {},
     "output_type": "execute_result"
    }
   ],
   "source": [
    "a.remove(5)\n",
    "a"
   ]
  },
  {
   "cell_type": "code",
   "execution_count": 18,
   "metadata": {},
   "outputs": [
    {
     "data": {
      "text/plain": [
       "set()"
      ]
     },
     "execution_count": 18,
     "metadata": {},
     "output_type": "execute_result"
    }
   ],
   "source": [
    "a.clear()\n",
    "a"
   ]
  },
  {
   "cell_type": "code",
   "execution_count": 19,
   "metadata": {},
   "outputs": [
    {
     "data": {
      "text/plain": [
       "{0, 1, 2, 3, 8, 9, 10, 11, 12, 15}"
      ]
     },
     "execution_count": 19,
     "metadata": {},
     "output_type": "execute_result"
    }
   ],
   "source": [
    "#3.集合运算：交集  并集  差集\n",
    "a1=set( [8,9,10,11,12,15] )\n",
    "a2=set( [0,1,2,3,8,9] )\n",
    "#并\n",
    "a1|a2  "
   ]
  },
  {
   "cell_type": "code",
   "execution_count": 20,
   "metadata": {},
   "outputs": [
    {
     "data": {
      "text/plain": [
       "{0, 1, 2, 3, 8, 9, 10, 11, 12, 15}"
      ]
     },
     "execution_count": 20,
     "metadata": {},
     "output_type": "execute_result"
    }
   ],
   "source": [
    "a1.union(a2)"
   ]
  },
  {
   "cell_type": "code",
   "execution_count": 21,
   "metadata": {},
   "outputs": [
    {
     "data": {
      "text/plain": [
       "{10, 11, 12, 15}"
      ]
     },
     "execution_count": 21,
     "metadata": {},
     "output_type": "execute_result"
    }
   ],
   "source": [
    "#差\n",
    "a1-a2"
   ]
  },
  {
   "cell_type": "code",
   "execution_count": 22,
   "metadata": {},
   "outputs": [
    {
     "name": "stdout",
     "output_type": "stream",
     "text": [
      "False\n"
     ]
    }
   ],
   "source": [
    "x={1,2,3}\n",
    "y={1,2,5}\n",
    "z={1,2,3,4}\n",
    "print(x.issubset(y) )  #issubset() 方法用于判断集合的所有元素是否都包含在指定集\n",
    "                       # 合中，如果是则返回 True，否则返回 False。"
   ]
  },
  {
   "cell_type": "code",
   "execution_count": 23,
   "metadata": {},
   "outputs": [
    {
     "name": "stdout",
     "output_type": "stream",
     "text": [
      "True\n"
     ]
    }
   ],
   "source": [
    "print(x.issubset(z) )"
   ]
  },
  {
   "cell_type": "code",
   "execution_count": 24,
   "metadata": {},
   "outputs": [
    {
     "data": {
      "text/plain": [
       "True"
      ]
     },
     "execution_count": 24,
     "metadata": {},
     "output_type": "execute_result"
    }
   ],
   "source": [
    "{3}.isdisjoint({4} )   #isdisjoint() 方法用于判断两个集合是否包含相同的\n",
    "                      #元素，如果没有返回 True，否则返回 False。。"
   ]
  },
  {
   "cell_type": "code",
   "execution_count": 25,
   "metadata": {},
   "outputs": [
    {
     "data": {
      "text/plain": [
       "False"
      ]
     },
     "execution_count": 25,
     "metadata": {},
     "output_type": "execute_result"
    }
   ],
   "source": [
    "x<y"
   ]
  },
  {
   "cell_type": "code",
   "execution_count": 26,
   "metadata": {},
   "outputs": [
    {
     "data": {
      "text/plain": [
       "True"
      ]
     },
     "execution_count": 26,
     "metadata": {},
     "output_type": "execute_result"
    }
   ],
   "source": [
    "x<z"
   ]
  },
  {
   "cell_type": "code",
   "execution_count": 28,
   "metadata": {},
   "outputs": [
    {
     "data": {
      "text/plain": [
       "True"
      ]
     },
     "execution_count": 28,
     "metadata": {},
     "output_type": "execute_result"
    }
   ],
   "source": [
    "{1,2,3}<={3,2,1}"
   ]
  },
  {
   "cell_type": "code",
   "execution_count": null,
   "metadata": {
    "collapsed": true
   },
   "outputs": [],
   "source": []
  }
 ],
 "metadata": {
  "kernelspec": {
   "display_name": "Python 3",
   "language": "python",
   "name": "python3"
  },
  "language_info": {
   "codemirror_mode": {
    "name": "ipython",
    "version": 3
   },
   "file_extension": ".py",
   "mimetype": "text/x-python",
   "name": "python",
   "nbconvert_exporter": "python",
   "pygments_lexer": "ipython3",
   "version": "3.6.2"
  }
 },
 "nbformat": 4,
 "nbformat_minor": 2
}
