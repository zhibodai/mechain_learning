{
 "cells": [
  {
   "cell_type": "code",
   "execution_count": 6,
   "metadata": {},
   "outputs": [
    {
     "name": "stdout",
     "output_type": "stream",
     "text": [
      "D:\\OtherSoftWare\n"
     ]
    }
   ],
   "source": [
    " '''\n",
    " 字符串界定符前加r/R 表示原始字符串，不能转义，用于正则表达式，文件路径\n",
    "   \n",
    " '''\n",
    "    \n",
    "path = r'D:\\OtherSoftWare'\n",
    "print(path)"
   ]
  },
  {
   "cell_type": "markdown",
   "metadata": {},
   "source": [
    "# 运算符的使用"
   ]
  },
  {
   "cell_type": "code",
   "execution_count": 5,
   "metadata": {},
   "outputs": [
    {
     "name": "stdout",
     "output_type": "stream",
     "text": [
      "True\n",
      "False\n",
      "True\n",
      "True\n"
     ]
    }
   ],
   "source": [
    "# 关系运算符  可以连用  且可以作为集合运算符\n",
    "# if  3<x<7\n",
    "x=2\n",
    "print(1<x<7)\n",
    "print('hello'>'world')\n",
    "print([1,2,3]<[1,2,3,4])  #判断是否为子集\n",
    "print([1,2,3]<[1,2,4])\n",
    "\n",
    "#  在底层python重写了这些运算符的实现"
   ]
  },
  {
   "cell_type": "code",
   "execution_count": 9,
   "metadata": {},
   "outputs": [
    {
     "name": "stdout",
     "output_type": "stream",
     "text": [
      "[1, 2, 3, 4, 5, 6]\n",
      "(1, 2, 3, 4, 5, 6)\n",
      "1,2,34,5,6\n"
     ]
    }
   ],
   "source": [
    "# + 列表 ，元组，字符串的联接，但不支持不同类型的运算\n",
    "print([1,2,3]+[4,5,6])\n",
    "print((1,2,3,)+(4,5,6))\n",
    "print(\"1,2,3\"+\"4,5,6\")"
   ]
  },
  {
   "cell_type": "code",
   "execution_count": 10,
   "metadata": {},
   "outputs": [
    {
     "name": "stdout",
     "output_type": "stream",
     "text": [
      "11\n"
     ]
    },
    {
     "ename": "TypeError",
     "evalue": "must be str, not int",
     "output_type": "error",
     "traceback": [
      "\u001b[1;31m---------------------------------------------------------------------------\u001b[0m",
      "\u001b[1;31mTypeError\u001b[0m                                 Traceback (most recent call last)",
      "\u001b[1;32m<ipython-input-10-30a8abb5be66>\u001b[0m in \u001b[0;36m<module>\u001b[1;34m()\u001b[0m\n\u001b[0;32m      1\u001b[0m \u001b[0mprint\u001b[0m\u001b[1;33m(\u001b[0m\u001b[1;34m'1'\u001b[0m\u001b[1;33m+\u001b[0m\u001b[0mstr\u001b[0m\u001b[1;33m(\u001b[0m\u001b[1;36m1\u001b[0m\u001b[1;33m)\u001b[0m\u001b[1;33m)\u001b[0m\u001b[1;33m\u001b[0m\u001b[0m\n\u001b[1;32m----> 2\u001b[1;33m \u001b[0mprint\u001b[0m\u001b[1;33m(\u001b[0m\u001b[1;34m'1'\u001b[0m\u001b[1;33m+\u001b[0m\u001b[1;36m1\u001b[0m\u001b[1;33m)\u001b[0m\u001b[1;33m\u001b[0m\u001b[0m\n\u001b[0m",
      "\u001b[1;31mTypeError\u001b[0m: must be str, not int"
     ]
    }
   ],
   "source": [
    "print('1'+str(1))\n",
    "print('1'+1)"
   ]
  },
  {
   "cell_type": "code",
   "execution_count": 11,
   "metadata": {},
   "outputs": [
    {
     "name": "stdout",
     "output_type": "stream",
     "text": [
      "2\n"
     ]
    }
   ],
   "source": [
    "print(True+1)  #python底层把True当成1"
   ]
  },
  {
   "cell_type": "code",
   "execution_count": 13,
   "metadata": {},
   "outputs": [
    {
     "name": "stdout",
     "output_type": "stream",
     "text": [
      "6.0\n",
      "abcabcabc\n",
      "['a', 'b', 'c', 'a', 'b', 'c', 'a', 'b', 'c']\n",
      "('a', 'b', 'c', 'a', 'b', 'c', 'a', 'b', 'c')\n"
     ]
    }
   ],
   "source": [
    "#   * 用于列表 元组 字符串等的重复\n",
    "print(2.0*3)\n",
    "print('abc'*3)\n",
    "print(['a','b','c']*3)\n",
    "print(('a','b','c')*3)"
   ]
  },
  {
   "cell_type": "code",
   "execution_count": 14,
   "metadata": {},
   "outputs": [
    {
     "name": "stdout",
     "output_type": "stream",
     "text": [
      "0.6\n",
      "0\n",
      "3\n",
      "1.1\n",
      "3.2\n"
     ]
    }
   ],
   "source": [
    "#  python的除法    /除法   //整除\n",
    "print(3/5)\n",
    "print(3//5)\n",
    "print(3%5)\n",
    "print(3.1%2)\n",
    "print(3.2%4)\n"
   ]
  },
  {
   "cell_type": "code",
   "execution_count": 16,
   "metadata": {},
   "outputs": [
    {
     "name": "stdout",
     "output_type": "stream",
     "text": [
      "False\n"
     ]
    }
   ],
   "source": [
    "#  in  成员测试   测试对象是否为另一个对象的元素   返回为True /False\n",
    "print(3 in [1,2,4])"
   ]
  },
  {
   "cell_type": "code",
   "execution_count": 1,
   "metadata": {},
   "outputs": [
    {
     "name": "stdout",
     "output_type": "stream",
     "text": [
      "<class 'range'>\n",
      "range(1, 10)\n"
     ]
    }
   ],
   "source": [
    "r=range(1,10,1)\n",
    "print (type(r))\n",
    "print(r)"
   ]
  },
  {
   "cell_type": "code",
   "execution_count": 18,
   "metadata": {},
   "outputs": [
    {
     "name": "stdout",
     "output_type": "stream",
     "text": [
      "True\n",
      "False\n"
     ]
    }
   ],
   "source": [
    "#  range结合in使用来循环读取range产生的值（惰性求值）\n",
    "print(5 in range(1,10))\n",
    "\n",
    "print(50 in range(1,10))"
   ]
  },
  {
   "cell_type": "code",
   "execution_count": 19,
   "metadata": {},
   "outputs": [
    {
     "name": "stdout",
     "output_type": "stream",
     "text": [
      "1\t2\t3\t4\t5\t6\t7\t8\t9\t"
     ]
    }
   ],
   "source": [
    "for i in range(1,10):\n",
    "    print(i ,end='\\t')"
   ]
  },
  {
   "cell_type": "code",
   "execution_count": 20,
   "metadata": {},
   "outputs": [
    {
     "name": "stdout",
     "output_type": "stream",
     "text": [
      "True\n"
     ]
    }
   ],
   "source": [
    "#字符串也是序列，所以可以使用in来进行成员运算\n",
    "print('abc'in'abcdefg')"
   ]
  },
  {
   "cell_type": "code",
   "execution_count": 32,
   "metadata": {},
   "outputs": [
    {
     "ename": "SyntaxError",
     "evalue": "invalid syntax (<ipython-input-32-3a17d21c16c4>, line 10)",
     "output_type": "error",
     "traceback": [
      "\u001b[1;36m  File \u001b[1;32m\"<ipython-input-32-3a17d21c16c4>\"\u001b[1;36m, line \u001b[1;32m10\u001b[0m\n\u001b[1;33m    print(id(x[0])  id(x[2])  )\u001b[0m\n\u001b[1;37m                     ^\u001b[0m\n\u001b[1;31mSyntaxError\u001b[0m\u001b[1;31m:\u001b[0m invalid syntax\n"
     ]
    }
   ],
   "source": [
    "# is运算符   同一性测试   判断2个对象是否为同一个\n",
    "print(3 is 3)\n",
    "x=[20,20,20]\n",
    "y=[20,20,20]\n",
    "print(x[0] is x[2])\n",
    "print(x is y)"
   ]
  },
  {
   "cell_type": "code",
   "execution_count": 35,
   "metadata": {},
   "outputs": [
    {
     "name": "stdout",
     "output_type": "stream",
     "text": [
      "12\n",
      "3\n",
      "11\n",
      "6\n"
     ]
    }
   ],
   "source": [
    "#  位运算符： 只能用于整数\n",
    "print(3<<2)\n",
    "print(3&7)   #   & 按位与  ->  3\n",
    "print(3 | 8)  #  |按位或 ->  11\n",
    "\n",
    "print(3^5) # 按位异或"
   ]
  },
  {
   "cell_type": "code",
   "execution_count": 37,
   "metadata": {},
   "outputs": [
    {
     "name": "stdout",
     "output_type": "stream",
     "text": [
      "{1, 2, 3, 4, 5}\n",
      "{3}\n",
      "{1, 2}\n"
     ]
    }
   ],
   "source": [
    "#集合运算符共用了位运算符\n",
    "#  |并集\n",
    "print({1,2,3} | {3,4,5})\n",
    "#  &交集\n",
    "print({1,2,3} & {3,4,5})\n",
    "#  -差集\n",
    "print({1,2,3} - {3,4,5})"
   ]
  },
  {
   "cell_type": "code",
   "execution_count": 40,
   "metadata": {},
   "outputs": [
    {
     "name": "stdout",
     "output_type": "stream",
     "text": [
      "False\n"
     ]
    },
    {
     "ename": "NameError",
     "evalue": "name 'aa' is not defined",
     "output_type": "error",
     "traceback": [
      "\u001b[1;31m---------------------------------------------------------------------------\u001b[0m",
      "\u001b[1;31mNameError\u001b[0m                                 Traceback (most recent call last)",
      "\u001b[1;32m<ipython-input-40-e92dcafaf088>\u001b[0m in \u001b[0;36m<module>\u001b[1;34m()\u001b[0m\n\u001b[0;32m      1\u001b[0m \u001b[1;31m# 短路问题\u001b[0m\u001b[1;33m\u001b[0m\u001b[1;33m\u001b[0m\u001b[0m\n\u001b[0;32m      2\u001b[0m \u001b[0mprint\u001b[0m\u001b[1;33m(\u001b[0m\u001b[1;36m3\u001b[0m\u001b[1;33m>\u001b[0m\u001b[1;36m5\u001b[0m \u001b[1;32mand\u001b[0m \u001b[0maa\u001b[0m\u001b[1;33m>\u001b[0m\u001b[1;36m5\u001b[0m \u001b[1;33m)\u001b[0m\u001b[1;33m\u001b[0m\u001b[0m\n\u001b[1;32m----> 3\u001b[1;33m \u001b[0mprint\u001b[0m\u001b[1;33m(\u001b[0m\u001b[1;36m3\u001b[0m\u001b[1;33m<\u001b[0m\u001b[1;36m5\u001b[0m \u001b[1;32mand\u001b[0m \u001b[0maa\u001b[0m\u001b[1;33m>\u001b[0m\u001b[1;36m5\u001b[0m \u001b[1;33m)\u001b[0m\u001b[1;33m\u001b[0m\u001b[0m\n\u001b[0m",
      "\u001b[1;31mNameError\u001b[0m: name 'aa' is not defined"
     ]
    }
   ],
   "source": [
    "# 短路问题  : 惰性求值\n",
    "print(3>5 and aa>5 )    # 由于前面为假  所以后面没进行运算\n",
    "print(3<5 and aa>5 )"
   ]
  },
  {
   "cell_type": "code",
   "execution_count": 41,
   "metadata": {},
   "outputs": [
    {
     "name": "stdout",
     "output_type": "stream",
     "text": [
      "5\n"
     ]
    }
   ],
   "source": [
    "print(3 and 5) #最后一个计算的表达式的值为整个表达式的值返回"
   ]
  },
  {
   "cell_type": "code",
   "execution_count": 42,
   "metadata": {},
   "outputs": [
    {
     "name": "stdout",
     "output_type": "stream",
     "text": [
      "True\n",
      "False\n",
      "True\n"
     ]
    }
   ],
   "source": [
    "print(3 and 5>2 )\n",
    "print(3 not in[1,2,3])\n",
    "print(3 is not 5)"
   ]
  },
  {
   "cell_type": "code",
   "execution_count": 47,
   "metadata": {},
   "outputs": [
    {
     "name": "stdout",
     "output_type": "stream",
     "text": [
      "False a\n",
      "True\n",
      "3.5\n",
      "3\n",
      "True 5\n",
      "(8, 7)\n"
     ]
    }
   ],
   "source": [
    "# 逗号运算符，分隔符\n",
    "print(\"a\" in 'b','a')\n",
    "print('a' in ('a','b'))\n",
    "x=3.5 \n",
    "print(x)\n",
    "x,y=3,5\n",
    "print(x)\n",
    "print(3==3,5)\n",
    "x=3+5,7\n",
    "print(x)"
   ]
  },
  {
   "cell_type": "code",
   "execution_count": 45,
   "metadata": {},
   "outputs": [
    {
     "name": "stdout",
     "output_type": "stream",
     "text": [
      "3\n",
      "3\n"
     ]
    }
   ],
   "source": [
    "# python 不支持 ++ --\n",
    "i=3\n",
    "print(++i)\n",
    "print(--i)"
   ]
  },
  {
   "cell_type": "markdown",
   "metadata": {},
   "source": [
    "# 内置函数"
   ]
  },
  {
   "cell_type": "code",
   "execution_count": 50,
   "metadata": {},
   "outputs": [
    {
     "data": {
      "text/plain": [
       "['ArithmeticError',\n",
       " 'AssertionError',\n",
       " 'AttributeError',\n",
       " 'BaseException',\n",
       " 'BlockingIOError',\n",
       " 'BrokenPipeError',\n",
       " 'BufferError',\n",
       " 'BytesWarning',\n",
       " 'ChildProcessError',\n",
       " 'ConnectionAbortedError',\n",
       " 'ConnectionError',\n",
       " 'ConnectionRefusedError',\n",
       " 'ConnectionResetError',\n",
       " 'DeprecationWarning',\n",
       " 'EOFError',\n",
       " 'Ellipsis',\n",
       " 'EnvironmentError',\n",
       " 'Exception',\n",
       " 'False',\n",
       " 'FileExistsError',\n",
       " 'FileNotFoundError',\n",
       " 'FloatingPointError',\n",
       " 'FutureWarning',\n",
       " 'GeneratorExit',\n",
       " 'IOError',\n",
       " 'ImportError',\n",
       " 'ImportWarning',\n",
       " 'IndentationError',\n",
       " 'IndexError',\n",
       " 'InterruptedError',\n",
       " 'IsADirectoryError',\n",
       " 'KeyError',\n",
       " 'KeyboardInterrupt',\n",
       " 'LookupError',\n",
       " 'MemoryError',\n",
       " 'ModuleNotFoundError',\n",
       " 'NameError',\n",
       " 'None',\n",
       " 'NotADirectoryError',\n",
       " 'NotImplemented',\n",
       " 'NotImplementedError',\n",
       " 'OSError',\n",
       " 'OverflowError',\n",
       " 'PendingDeprecationWarning',\n",
       " 'PermissionError',\n",
       " 'ProcessLookupError',\n",
       " 'RecursionError',\n",
       " 'ReferenceError',\n",
       " 'ResourceWarning',\n",
       " 'RuntimeError',\n",
       " 'RuntimeWarning',\n",
       " 'StopAsyncIteration',\n",
       " 'StopIteration',\n",
       " 'SyntaxError',\n",
       " 'SyntaxWarning',\n",
       " 'SystemError',\n",
       " 'SystemExit',\n",
       " 'TabError',\n",
       " 'TimeoutError',\n",
       " 'True',\n",
       " 'TypeError',\n",
       " 'UnboundLocalError',\n",
       " 'UnicodeDecodeError',\n",
       " 'UnicodeEncodeError',\n",
       " 'UnicodeError',\n",
       " 'UnicodeTranslateError',\n",
       " 'UnicodeWarning',\n",
       " 'UserWarning',\n",
       " 'ValueError',\n",
       " 'Warning',\n",
       " 'WindowsError',\n",
       " 'ZeroDivisionError',\n",
       " '__IPYTHON__',\n",
       " '__build_class__',\n",
       " '__debug__',\n",
       " '__doc__',\n",
       " '__import__',\n",
       " '__loader__',\n",
       " '__name__',\n",
       " '__package__',\n",
       " '__spec__',\n",
       " 'abs',\n",
       " 'all',\n",
       " 'any',\n",
       " 'ascii',\n",
       " 'bin',\n",
       " 'bool',\n",
       " 'bytearray',\n",
       " 'bytes',\n",
       " 'callable',\n",
       " 'chr',\n",
       " 'classmethod',\n",
       " 'compile',\n",
       " 'complex',\n",
       " 'copyright',\n",
       " 'credits',\n",
       " 'delattr',\n",
       " 'dict',\n",
       " 'dir',\n",
       " 'display',\n",
       " 'divmod',\n",
       " 'enumerate',\n",
       " 'eval',\n",
       " 'exec',\n",
       " 'filter',\n",
       " 'float',\n",
       " 'format',\n",
       " 'frozenset',\n",
       " 'get_ipython',\n",
       " 'getattr',\n",
       " 'globals',\n",
       " 'hasattr',\n",
       " 'hash',\n",
       " 'help',\n",
       " 'hex',\n",
       " 'id',\n",
       " 'input',\n",
       " 'int',\n",
       " 'isinstance',\n",
       " 'issubclass',\n",
       " 'iter',\n",
       " 'len',\n",
       " 'license',\n",
       " 'list',\n",
       " 'locals',\n",
       " 'map',\n",
       " 'max',\n",
       " 'memoryview',\n",
       " 'min',\n",
       " 'next',\n",
       " 'object',\n",
       " 'oct',\n",
       " 'open',\n",
       " 'ord',\n",
       " 'pow',\n",
       " 'print',\n",
       " 'property',\n",
       " 'range',\n",
       " 'repr',\n",
       " 'reversed',\n",
       " 'round',\n",
       " 'set',\n",
       " 'setattr',\n",
       " 'slice',\n",
       " 'sorted',\n",
       " 'staticmethod',\n",
       " 'str',\n",
       " 'sum',\n",
       " 'super',\n",
       " 'tuple',\n",
       " 'type',\n",
       " 'vars',\n",
       " 'zip']"
      ]
     },
     "execution_count": 50,
     "metadata": {},
     "output_type": "execute_result"
    }
   ],
   "source": [
    "# 输出内置函数   输出python语言定义的成员（属性，函数，模块）\n",
    "dir( __builtins__ )"
   ]
  },
  {
   "cell_type": "code",
   "execution_count": 54,
   "metadata": {},
   "outputs": [
    {
     "name": "stdout",
     "output_type": "stream",
     "text": [
      "['In', 'Out', '_', '_50', '__', '___', '__builtin__', '__builtins__', '__doc__', '__loader__', '__name__', '__package__', '__spec__', '_dh', '_i', '_i1', '_i10', '_i11', '_i12', '_i13', '_i14', '_i15', '_i16', '_i17', '_i18', '_i19', '_i2', '_i20', '_i21', '_i22', '_i23', '_i24', '_i25', '_i26', '_i27', '_i28', '_i29', '_i3', '_i30', '_i31', '_i32', '_i33', '_i34', '_i35', '_i36', '_i37', '_i38', '_i39', '_i4', '_i40', '_i41', '_i42', '_i43', '_i44', '_i45', '_i46', '_i47', '_i48', '_i49', '_i5', '_i50', '_i51', '_i52', '_i53', '_i54', '_i6', '_i7', '_i8', '_i9', '_ih', '_ii', '_iii', '_oh', 'exit', 'get_ipython', 'i', 'keyword', 'path', 'quit', 'r', 'x', 'y']\n",
      "\t\n",
      "['__all__', '__builtins__', '__cached__', '__doc__', '__file__', '__loader__', '__name__', '__package__', '__spec__', 'iskeyword', 'kwlist', 'main']\n",
      "<function main at 0x000001BA284CBEA0>\n",
      "['iskeyword', 'kwlist']\n"
     ]
    }
   ],
   "source": [
    "# keyword  关键字\n",
    "\n",
    "import keyword \n",
    "\n",
    "\n",
    "print(dir())  #返回当前当前运行环境下的全局变量  python编译器给的\n",
    "print('\\t')\n",
    "print(dir( keyword))\n",
    "\n",
    "print(keyword.main)\n",
    "print(keyword.__all__)"
   ]
  },
  {
   "cell_type": "code",
   "execution_count": 55,
   "metadata": {},
   "outputs": [
    {
     "name": "stdout",
     "output_type": "stream",
     "text": [
      "Help on built-in function dir in module builtins:\n",
      "\n",
      "dir(...)\n",
      "    dir([object]) -> list of strings\n",
      "    \n",
      "    If called without an argument, return the names in the current scope.\n",
      "    Else, return an alphabetized list of names comprising (some of) the attributes\n",
      "    of the given object, and of attributes reachable from it.\n",
      "    If the object supplies a method named __dir__, it will be used; otherwise\n",
      "    the default dir() logic is used and returns:\n",
      "      for a module object: the module's attributes.\n",
      "      for a class object:  its attributes, and recursively the attributes\n",
      "        of its bases.\n",
      "      for any other object: its attributes, its class's attributes, and\n",
      "        recursively the attributes of its class's base classes.\n",
      "\n"
     ]
    }
   ],
   "source": [
    "help( dir)  #可以查看帮助信息"
   ]
  },
  {
   "cell_type": "code",
   "execution_count": 14,
   "metadata": {},
   "outputs": [
    {
     "name": "stdout",
     "output_type": "stream",
     "text": [
      "[97, 7, 46, 15, 86, 8, 3, 37, 51]\n",
      "3\n",
      "3\n",
      "1\n",
      "1\n",
      "97\n",
      "3\n",
      "38\n"
     ]
    }
   ],
   "source": [
    "'''\n",
    "max()\n",
    "min()\n",
    "\n",
    "以上序列或可迭代对象可比较\n",
    "sum()：要求所有的元素支持加法\n",
    "'''\n",
    "import random\n",
    "a=[  ]\n",
    "for i  in range (1,10):\n",
    "    a.append( random.randint(1,100))\n",
    "print( a )\n",
    "print( max ([1,2,3]))\n",
    "print( max (1,2,3))\n",
    "print( min ( [1,2,3]))\n",
    "print( min  (1,2,3))\n",
    "\n",
    "print( max (a))\n",
    "print( min (a))\n",
    "\n",
    "\n",
    "print(sum(a)//len(a))\n"
   ]
  },
  {
   "cell_type": "code",
   "execution_count": 2,
   "metadata": {},
   "outputs": [
    {
     "name": "stdout",
     "output_type": "stream",
     "text": [
      "97\n",
      "a\n",
      "1234\n",
      "<class 'str'>\n",
      "1234\n",
      "{1, 2, 3}\n"
     ]
    }
   ],
   "source": [
    "'''\n",
    "字符与unicode码的转换函数\n",
    "\n",
    "unicode: 0-65535\n",
    "\n",
    "ord( x ) ->转uicode码\n",
    "chr( unicode码 )->转字符\n",
    "\n",
    "str( XX )：转换成string\n",
    "'''\n",
    "\n",
    "print(ord(\"a\"))\n",
    "print(chr(ord(\"a\")))\n",
    "print(str(1234))\n",
    "print(type(str(1234)))\n",
    "\n",
    "print(str ((1234)))\n",
    "\n",
    "print(str ({1,2,3}))"
   ]
  },
  {
   "cell_type": "code",
   "execution_count": 3,
   "metadata": {},
   "outputs": [
    {
     "name": "stdout",
     "output_type": "stream",
     "text": [
      "0b1000101011\n",
      "0o1053\n",
      "0x22b\n"
     ]
    }
   ],
   "source": [
    "'''\n",
    "二进制转换函数   bin()  oct()  hex()\n",
    "'''\n",
    "\n",
    "print ( bin (555))\n",
    "print( oct (555))\n",
    "print( hex (555))"
   ]
  },
  {
   "cell_type": "code",
   "execution_count": 10,
   "metadata": {},
   "outputs": [
    {
     "name": "stdout",
     "output_type": "stream",
     "text": [
      "9\n"
     ]
    }
   ],
   "source": [
    "'''\n",
    "将生成列表元素的代码更python化\n",
    "\n",
    "引入列表推导式：\n",
    "'''\n",
    "arr1=[ i for i in range(1,10)]\n",
    "print( max(arr1))"
   ]
  },
  {
   "cell_type": "code",
   "execution_count": 16,
   "metadata": {},
   "outputs": [
    {
     "name": "stdout",
     "output_type": "stream",
     "text": [
      "[[67, 90, 45, 25, 12, 99], [28, 3, 20, 3, 51, 91], [19, 51, 50, 72, 54, 61], [20, 20, 27, 27, 41, 66], [67, 79, 46, 96, 48, 2]]\n",
      "181\n",
      "[67, 90, 45, 25, 12, 99]\n"
     ]
    }
   ],
   "source": [
    "'''\n",
    "需求： 二维数组中查找子数组元素和最大的子数组\n",
    "'''\n",
    "\n",
    "arr1=[ [random.randint(1,100) for j in range (6)]   for i in range(5)]\n",
    "'''\n",
    "[\n",
    "   [1,2,3,4,5,60],\n",
    "   [2,5,4,88,11,47]\n",
    "\n",
    "]\n",
    "'''\n",
    "\n",
    "print(arr1)\n",
    "print( sum([44,71,14,25,27]))\n",
    "\n",
    "print( max(arr1, key=sum))\n"
   ]
  },
  {
   "cell_type": "code",
   "execution_count": 23,
   "metadata": {},
   "outputs": [
    {
     "name": "stdout",
     "output_type": "stream",
     "text": [
      "99\n",
      "1234\n",
      "1234\n",
      "99\n"
     ]
    }
   ],
   "source": [
    "\n",
    "'''\n",
    "key的用法\n",
    "'''\n",
    "x= ['21','1234','99']\n",
    "print(max(x))\n",
    "print(max (x ,key=len))\n",
    "\n",
    "'''\n",
    "底层代码的实现\n",
    "'''\n",
    "def myMax( x ,key=None):\n",
    "    maxValue=x[0]\n",
    "    for item in x:\n",
    "        if key==None:\n",
    "            if item> maxValue:\n",
    "                maxValue=item\n",
    "        else: \n",
    "            if key(item)>key(maxValue):\n",
    "                maxValue=item\n",
    "    return maxValue\n",
    "\n",
    "print(myMax(x,key=len))\n",
    "\n",
    "def myHe(x):\n",
    "    mysum=0\n",
    "    for  item in x:\n",
    "        mysum+=int(item)\n",
    "        return mysum\n",
    "\n",
    "print(max (x , key=myHe))\n"
   ]
  },
  {
   "cell_type": "code",
   "execution_count": 24,
   "metadata": {},
   "outputs": [
    {
     "name": "stdout",
     "output_type": "stream",
     "text": [
      "<class 'list'>\n",
      "False\n",
      "True\n",
      "False\n"
     ]
    }
   ],
   "source": [
    "'''\n",
    "类型判断： type(x)  isinstance(x)\n",
    "'''\n",
    "print( type( [3]))\n",
    "\n",
    "print( type( {3} ) in ( list, tuple,dict))\n",
    "\n",
    "print (isinstance (3,int))\n",
    "print (isinstance( {3} , (int,float,complex)) )"
   ]
  },
  {
   "cell_type": "code",
   "execution_count": 31,
   "metadata": {},
   "outputs": [
    {
     "name": "stdout",
     "output_type": "stream",
     "text": [
      "[1, 44, 55, 66]\n",
      "['a', 'abcd', 'b', 'dac', 'dd']\n",
      "['a', 'b', 'dd', 'dac', 'abcd']\n",
      "['a', 'b', 'dd', 'dac', 'abcd']\n",
      "['a', 'b', 'dd', 'dac', 'abcd']\n"
     ]
    }
   ],
   "source": [
    "'''\n",
    "排序\n",
    "\n",
    "sorted\n",
    "'''\n",
    "\n",
    "x=[1,55,44,66]\n",
    "print(sorted(x))\n",
    "x=['abcd','dd','a','dac','b']\n",
    "print(sorted (x))\n",
    "\n",
    "print(sorted(x,key=len))\n",
    "\n",
    "print( sorted(x,key=len) )\n",
    "\n",
    "print( sorted(x,key=lambda item:len(item)))\n",
    "print( sorted(x,key=lambda item:(len(item), item)))  \n",
    "#  （len(item),item）  ->先根据长度排序   在按照item的本身的顺序排序\n"
   ]
  },
  {
   "cell_type": "code",
   "execution_count": 32,
   "metadata": {},
   "outputs": [
    {
     "name": "stdout",
     "output_type": "stream",
     "text": [
      "<list_reverseiterator object at 0x0000029856AFD400>\n",
      "ba\n",
      "b\n",
      "d\n",
      "bc\n",
      "aaa\n"
     ]
    }
   ],
   "source": [
    "'''\n",
    "反转输出：reversed( iterable )\n",
    "1.它输出的不是一个反转后的序列，而是一个iterable对象\n",
    "'''\n",
    "x=['aaa','bc','d','b','ba']\n",
    "print(reversed(x))   #  只是一个对象    惰性求值  -》结果是一个可以循环的对象  \n",
    "                     #  对于惰性对象的输出方案：\n",
    "   # 1.循环输出\n",
    "for  i in reversed(x):\n",
    "    print(i)\n",
    "#  2.转换成list\n",
    "r1=reversed(x)\n",
    "l=list(r1)\n",
    "print(1)\n",
    "\n",
    "#注意  已经操作后的  惰性对象  不能再进行操作\n",
    "for i in r1:\n",
    "    print(i)  #惰性对象只能使用一次\n",
    "    "
   ]
  },
  {
   "cell_type": "code",
   "execution_count": 33,
   "metadata": {},
   "outputs": [
    {
     "name": "stdout",
     "output_type": "stream",
     "text": [
      "range(0, 5)\n",
      "[0, 1, 2, 3, 4]\n",
      "0\n",
      "1\n",
      "2\n",
      "3\n",
      "4\n",
      "[9, 7, 5, 3, 1]\n",
      "[0, 2, 4, 6, 8]\n"
     ]
    }
   ],
   "source": [
    "'''\n",
    "range( [start],end,[,step]) :惰性求值的range对象，左闭，右开\n",
    "'''\n",
    "print(range (5))\n",
    "print(list(range(5)))\n",
    "for i in range(5):\n",
    "    print(i)\n",
    "    \n",
    "print( list(range(9,0,-2)))\n",
    "\n",
    "print( list(range(0,10,2)))"
   ]
  },
  {
   "cell_type": "code",
   "execution_count": 37,
   "metadata": {},
   "outputs": [
    {
     "name": "stdout",
     "output_type": "stream",
     "text": [
      "<enumerate object at 0x0000029857B60E10>\n",
      "[(0, 'a'), (1, 'b'), (2, 'c'), (3, 'd')]\n",
      "[(0, 'c'), (1, 'c++'), (2, 'java'), (3, 'python')]\n",
      "[(0, ('c', 91)), (1, ('c++', 88)), (2, ('java', 84)), (3, ('python', 55))]\n",
      "0 0\n",
      "1 1\n",
      "2 2\n",
      "3 3\n",
      "4 4\n",
      "5 5\n",
      "6 6\n",
      "7 7\n",
      "8 8\n",
      "9 9\n"
     ]
    }
   ],
   "source": [
    "'''\n",
    "enumerate() 枚举对象  每个元素包含索引，值的元组\n",
    "'''\n",
    "print( enumerate('abcd'))\n",
    "print( list( enumerate('abcd') ) )\n",
    "print( list (enumerate(['c','c++','java',\"python\"]    )  ) )\n",
    "print( list (enumerate (  {'c':91,'c++':88,\"java\":84,'python':55}.items()  )  ) )\n",
    "\n",
    "for index,item in enumerate(range(0,10)):\n",
    "    print(index,item)"
   ]
  },
  {
   "cell_type": "code",
   "execution_count": 41,
   "metadata": {},
   "outputs": [
    {
     "name": "stdout",
     "output_type": "stream",
     "text": [
      "['0', '1', '2', '3', '4']\n",
      "[5, 6, 7, 8, 9]\n",
      "[5, 6, 7, 8, 9]\n",
      "[5, 7, 9]\n",
      "[5, 7, 9]\n"
     ]
    }
   ],
   "source": [
    "'''\n",
    "map(function,iterable,...)\n",
    "'''\n",
    "l=list(map(str,range(5)))  #  [0-5]  str(0)  str(1)  str(2)\n",
    "print(l)\n",
    "\n",
    "#需求：将每个元素加5后返回\n",
    "def add1(x):\n",
    "    return x+5\n",
    "\n",
    "\n",
    "l=list( map(add1,range(5)))\n",
    "print(l)\n",
    "\n",
    "#写法2：\n",
    "#  lambda写法\n",
    "l=list( map (lambda x:x+5 ,range(5)))\n",
    "print(l)\n",
    "\n",
    "\n",
    "#两个iterable  ：每次从两个iterable对象中取出相同位置的元素调用函数运算\n",
    "\n",
    "def add2(x,y):\n",
    "    return x+y\n",
    "print( list( map(add2,[1,2,3,4],[4,5,6])))  \n",
    "\n",
    "print( list (map(lambda x,y:x+y ,[1,2,3,4],[4,5,6])) )"
   ]
  },
  {
   "cell_type": "code",
   "execution_count": 43,
   "metadata": {},
   "outputs": [
    {
     "name": "stdout",
     "output_type": "stream",
     "text": [
      "['0000', 8, 20]\n"
     ]
    }
   ],
   "source": [
    "#需求：自定义一个函数：实现序列与数字的四则运算\n",
    "def myOp(iterable, op,value):\n",
    "    if op not in '+-*/':\n",
    "        return '错误的运算符号'\n",
    "    exp=lambda i:eval(repr(i)+op+repr(value) )\n",
    "    return map(exp,iterable)\n",
    "print( list(myOp(['0',2,5],'*',4) ) )"
   ]
  },
  {
   "cell_type": "code",
   "execution_count": null,
   "metadata": {
    "collapsed": true
   },
   "outputs": [],
   "source": [
    "print('1+1')\n",
    "print(eval'1+1')\n",
    "print(eval('1+'+str(1) )"
   ]
  },
  {
   "cell_type": "code",
   "execution_count": 4,
   "metadata": {},
   "outputs": [
    {
     "name": "stdout",
     "output_type": "stream",
     "text": [
      "45\n",
      "45\n"
     ]
    }
   ],
   "source": [
    "'''\n",
    "标准库：functools\n",
    "的  reduce(function,iterable[,initializer])\n",
    "function :接受两个参数的函数，以迭代累积的方式，从左到右作用到一个序列上并且可以指定一个初始值\n",
    "\n",
    "'''\n",
    "from functools import reduce\n",
    "l=list( range(1,10) )\n",
    "def add(x,y):\n",
    "    return x+y\n",
    "print(  reduce(add,l) )\n",
    "#lambda写法\n",
    "print( reduce( lambda x,y:x+y ,l)  )"
   ]
  },
  {
   "cell_type": "code",
   "execution_count": 6,
   "metadata": {},
   "outputs": [
    {
     "name": "stdout",
     "output_type": "stream",
     "text": [
      "8\n",
      "45\n",
      "362880\n"
     ]
    }
   ],
   "source": [
    "'''\n",
    "标准库   operator\n",
    "'''\n",
    "import operator\n",
    "print( operator.add(3,5) )\n",
    "\n",
    "print( reduce( operator.add,l) )\n",
    "\n",
    "print( reduce( operator.mul,l) )"
   ]
  },
  {
   "cell_type": "code",
   "execution_count": 8,
   "metadata": {},
   "outputs": [
    {
     "name": "stdout",
     "output_type": "stream",
     "text": [
      "<filter object at 0x0000019249AB4828>\n",
      "['fool', 'x41', '123', '3']\n"
     ]
    }
   ],
   "source": [
    "'''\n",
    "filter(function ,iterable)\n",
    "function : 返回 true false\n",
    "filter返回所有iterable中值 为true\n",
    "'''\n",
    "l= ['fool','x41','?!','###','123','3']\n",
    "def jugdeNum( x):\n",
    "    return x.isalnum()\n",
    "print( filter(jugdeNum ,l) )   #惰性求值\n",
    "print( list(filter( jugdeNum,l )  )  )"
   ]
  },
  {
   "cell_type": "code",
   "execution_count": 11,
   "metadata": {},
   "outputs": [
    {
     "name": "stdout",
     "output_type": "stream",
     "text": [
      "<zip object at 0x0000019249AB0248>\n",
      "[('a', 1), ('b', 2), ('c', 3), ('d', 4)]\n"
     ]
    }
   ],
   "source": [
    "'''\n",
    "zip()  用来把多个可迭代的对象中的元素压缩到一起，返回一个可以迭代的元素\n",
    "'''\n",
    "\n",
    "print( zip('abcd',[1,2,3.4]) )\n",
    "print( list( zip('abcd',[1,2,3,4]) ) )\n"
   ]
  },
  {
   "cell_type": "code",
   "execution_count": null,
   "metadata": {
    "collapsed": true
   },
   "outputs": [],
   "source": []
  }
 ],
 "metadata": {
  "kernelspec": {
   "display_name": "Python 3",
   "language": "python",
   "name": "python3"
  },
  "language_info": {
   "codemirror_mode": {
    "name": "ipython",
    "version": 3
   },
   "file_extension": ".py",
   "mimetype": "text/x-python",
   "name": "python",
   "nbconvert_exporter": "python",
   "pygments_lexer": "ipython3",
   "version": "3.6.2"
  }
 },
 "nbformat": 4,
 "nbformat_minor": 2
}
