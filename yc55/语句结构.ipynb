{
 "cells": [
  {
   "cell_type": "code",
   "execution_count": 2,
   "metadata": {},
   "outputs": [
    {
     "name": "stdout",
     "output_type": "stream",
     "text": [
      "请输入年龄：30\n",
      "请输入专业：计算机\n",
      "请输入学校类型:(重点/非重点)重点\n",
      "您没有面试资格\n"
     ]
    }
   ],
   "source": [
    "age=24\n",
    "subject='计算机'\n",
    "college='非重点'\n",
    "\n",
    "#输入  input()\n",
    "age = int( input('请输入年龄：') ) #input的返回值是string  所以要 int\n",
    "subject=input('请输入专业：')\n",
    "college=input('请输入学校类型:(重点/非重点)')\n",
    "#  年龄大于25岁  专业是电子信息工程   是重点且专业是电子信息工程  年龄小于28  且专业是计算机\n",
    "if(age>25 and subject=='电子信息工程') or (college=='重点' and subject=='电子信息工程')or (age<28 and subject=='计算机'):\n",
    "    print('您可以来面试')\n",
    "else:\n",
    "    print('您没有面试资格')"
   ]
  },
  {
   "cell_type": "code",
   "execution_count": 2,
   "metadata": {},
   "outputs": [
    {
     "name": "stdout",
     "output_type": "stream",
     "text": [
      "请输入一个成绩：50\n",
      "继续输入吗？（yes/no）yes\n",
      "请输入一个成绩：60\n",
      "继续输入吗？（yes/no）yes\n",
      "请输入一个成绩：70\n",
      "继续输入吗？（yes/no）no\n",
      "[50.0, 60.0, 70.0]\n",
      "60.0\n"
     ]
    }
   ],
   "source": [
    "#需求  请输入一个成绩判断是否合理（0<score<100）  假如合理则添加到列表不合理则提示\n",
    "#   循环提示用户输入\n",
    "#  打印平均成绩\n",
    "numbers=[]\n",
    "while True:\n",
    "    x=int(input('请输入一个成绩：') )\n",
    "    if x<0 or x>100:\n",
    "        print(x,'不是一个合理的分数')\n",
    "    else:\n",
    "        numbers.append(float(x) )\n",
    "        \n",
    "    while True:\n",
    "        flag = input('继续输入吗？（yes/no）')\n",
    "        if flag.lower() not in ('yes','no'):   #限定用户输入的一定是yes  no\n",
    "            print('只能输入yes或者no')\n",
    "        else:\n",
    "            break\n",
    "    if(flag.lower()=='no'):\n",
    "            break\n",
    "\n",
    "print(numbers)\n",
    "print(sum(numbers)/len(numbers))"
   ]
  },
  {
   "cell_type": "code",
   "execution_count": 4,
   "metadata": {},
   "outputs": [
    {
     "name": "stdout",
     "output_type": "stream",
     "text": [
      "请输入年：2018\n",
      "请输入月:2\n",
      "请输入日期：12\n",
      "43\n"
     ]
    }
   ],
   "source": [
    "#请输入一个年月日  输出它是这一年的第多少天\n",
    "year=int(input('请输入年：') )\n",
    "month=int(input('请输入月:') )\n",
    "day=int(input('请输入日期：'))\n",
    "day_month=[31,28,31,30,31,30,31,31,30,31,30,31]\n",
    "if year%400==0 or (year%4==0 and year%100==100):\n",
    "    day_month[1]=29\n",
    "\n",
    "if month==1:\n",
    "    print(day)\n",
    "else:\n",
    "    print( sum(day_month[:month-1:])+day)"
   ]
  },
  {
   "cell_type": "code",
   "execution_count": 6,
   "metadata": {},
   "outputs": [
    {
     "name": "stdout",
     "output_type": "stream",
     "text": [
      "5050\n",
      "5050\n"
     ]
    }
   ],
   "source": [
    "s=0\n",
    "for i in range(101):\n",
    "    s=s+i\n",
    "print(s)\n",
    "\n",
    "print(sum(range(101)))"
   ]
  },
  {
   "cell_type": "code",
   "execution_count": 11,
   "metadata": {
    "scrolled": true
   },
   "outputs": [
    {
     "name": "stdout",
     "output_type": "stream",
     "text": [
      "7\n",
      "14\n",
      "21\n",
      "28\n",
      "42\n",
      "49\n",
      "56\n",
      "63\n",
      "77\n",
      "84\n",
      "91\n",
      "98\n"
     ]
    },
    {
     "data": {
      "text/plain": [
       "[7, 14, 21, 28, 42, 49, 56, 63, 77, 84, 91, 98]"
      ]
     },
     "execution_count": 11,
     "metadata": {},
     "output_type": "execute_result"
    }
   ],
   "source": [
    "for i in range(101):\n",
    "    if i%7==0 and i%5!=0:\n",
    "        print (i)\n",
    "        \n",
    "[i for i in range(101) if i%7==0 and i%5!=0 ]"
   ]
  },
  {
   "cell_type": "code",
   "execution_count": 15,
   "metadata": {},
   "outputs": [
    {
     "name": "stdout",
     "output_type": "stream",
     "text": [
      "153\n",
      "370\n",
      "371\n",
      "407\n"
     ]
    },
    {
     "ename": "ValueError",
     "evalue": "too many values to unpack (expected 3)",
     "output_type": "error",
     "traceback": [
      "\u001b[1;31m---------------------------------------------------------------------------\u001b[0m",
      "\u001b[1;31mValueError\u001b[0m                                Traceback (most recent call last)",
      "\u001b[1;32m<ipython-input-15-aebb2aa85b43>\u001b[0m in \u001b[0;36m<module>\u001b[1;34m()\u001b[0m\n\u001b[0;32m      1\u001b[0m \u001b[1;32mfor\u001b[0m \u001b[0mi\u001b[0m \u001b[1;32min\u001b[0m \u001b[0mrange\u001b[0m\u001b[1;33m(\u001b[0m\u001b[1;36m100\u001b[0m\u001b[1;33m,\u001b[0m\u001b[1;36m1001\u001b[0m\u001b[1;33m)\u001b[0m\u001b[1;33m:\u001b[0m\u001b[1;33m\u001b[0m\u001b[0m\n\u001b[1;32m----> 2\u001b[1;33m     \u001b[0mbai\u001b[0m\u001b[1;33m,\u001b[0m\u001b[0mshi\u001b[0m\u001b[1;33m,\u001b[0m\u001b[0mge\u001b[0m\u001b[1;33m=\u001b[0m\u001b[0mmap\u001b[0m\u001b[1;33m(\u001b[0m\u001b[0mint\u001b[0m\u001b[1;33m,\u001b[0m\u001b[0mstr\u001b[0m\u001b[1;33m(\u001b[0m\u001b[0mi\u001b[0m\u001b[1;33m)\u001b[0m\u001b[1;33m)\u001b[0m\u001b[1;33m\u001b[0m\u001b[0m\n\u001b[0m\u001b[0;32m      3\u001b[0m     \u001b[1;32mif\u001b[0m \u001b[0mbai\u001b[0m\u001b[1;33m**\u001b[0m\u001b[1;36m3\u001b[0m\u001b[1;33m+\u001b[0m\u001b[0mshi\u001b[0m\u001b[1;33m**\u001b[0m\u001b[1;36m3\u001b[0m\u001b[1;33m+\u001b[0m\u001b[0mge\u001b[0m\u001b[1;33m**\u001b[0m\u001b[1;36m3\u001b[0m \u001b[1;33m==\u001b[0m \u001b[0mi\u001b[0m\u001b[1;33m:\u001b[0m\u001b[1;33m\u001b[0m\u001b[0m\n\u001b[0;32m      4\u001b[0m         \u001b[0mprint\u001b[0m\u001b[1;33m(\u001b[0m\u001b[0mi\u001b[0m\u001b[1;33m)\u001b[0m\u001b[1;33m\u001b[0m\u001b[0m\n",
      "\u001b[1;31mValueError\u001b[0m: too many values to unpack (expected 3)"
     ]
    }
   ],
   "source": [
    "#水仙花数\n",
    "for i in range(100,1001):\n",
    "    bai,shi,ge=map(int,str(i))\n",
    "    if bai**3+shi**3+ge**3 == i:\n",
    "        print(i)"
   ]
  },
  {
   "cell_type": "code",
   "execution_count": 16,
   "metadata": {},
   "outputs": [
    {
     "name": "stdout",
     "output_type": "stream",
     "text": [
      "153\n",
      "370\n",
      "371\n",
      "407\n"
     ]
    }
   ],
   "source": [
    "for num in range(100,1001):\n",
    "    x=map(lambda x:int(x)**3 , str(num) )  #['1','2','3']  --> ['1','4','9']\n",
    "    \n",
    "    #sum (map(1,0,0) )\n",
    "    if sum(x)==num:\n",
    "        print(num)"
   ]
  },
  {
   "cell_type": "code",
   "execution_count": 23,
   "metadata": {},
   "outputs": [
    {
     "name": "stdout",
     "output_type": "stream",
     "text": [
      "187\n"
     ]
    }
   ],
   "source": [
    "for i in range(201,0,-1):\n",
    "    if i%17==0:\n",
    "        print(i)\n",
    "        break"
   ]
  },
  {
   "cell_type": "code",
   "execution_count": 24,
   "metadata": {},
   "outputs": [
    {
     "name": "stdout",
     "output_type": "stream",
     "text": [
      "1*1=1  \n",
      "2*1=2  2*2=4  \n",
      "3*1=3  3*2=6  3*3=9  \n",
      "4*1=4  4*2=8  4*3=12 4*4=16 \n",
      "5*1=5  5*2=10 5*3=15 5*4=20 5*5=25 \n",
      "6*1=6  6*2=12 6*3=18 6*4=24 6*5=30 6*6=36 \n",
      "7*1=7  7*2=14 7*3=21 7*4=28 7*5=35 7*6=42 7*7=49 \n",
      "8*1=8  8*2=16 8*3=24 8*4=32 8*5=40 8*6=48 8*7=56 8*8=64 \n",
      "9*1=9  9*2=18 9*3=27 9*4=36 9*5=45 9*6=54 9*7=63 9*8=72 9*9=81 \n"
     ]
    }
   ],
   "source": [
    "for i in range(1,10):\n",
    "    for j in range(1,i+1):\n",
    "        print('{0}*{1}={2}'.format(i,j,i*j).ljust(6),end=' ')\n",
    "    print()"
   ]
  },
  {
   "cell_type": "code",
   "execution_count": 26,
   "metadata": {},
   "outputs": [
    {
     "name": "stdout",
     "output_type": "stream",
     "text": [
      "15 15\n"
     ]
    }
   ],
   "source": [
    "# 鸡兔问题: 鸡兔同笼问题。假设共有鸡、兔30只，脚90只，求鸡、兔各有多少只\n",
    "for i in range(1,23):\n",
    "    for j in range(1,30):\n",
    "        if i+j==30 and i*4+j*2==90:\n",
    "            print(i,j)"
   ]
  },
  {
   "cell_type": "code",
   "execution_count": 29,
   "metadata": {},
   "outputs": [
    {
     "name": "stdout",
     "output_type": "stream",
     "text": [
      "123\n",
      "124\n",
      "132\n",
      "134\n",
      "142\n",
      "143\n",
      "213\n",
      "214\n",
      "231\n",
      "234\n",
      "241\n",
      "243\n",
      "312\n",
      "314\n",
      "321\n",
      "324\n",
      "341\n",
      "342\n",
      "412\n",
      "413\n",
      "421\n",
      "423\n",
      "431\n",
      "432\n"
     ]
    }
   ],
   "source": [
    "#1,2,3,4能组成多少个 各位数字不相同的三位数\n",
    "s=0\n",
    "for i in range(1,5):\n",
    "    for j in range(1,5):\n",
    "        for k in range(1,5):\n",
    "            if i!=j and j!=k and i!=k:\n",
    "                print('{0}{1}{2}'.format(i,j,k))\n"
   ]
  },
  {
   "cell_type": "code",
   "execution_count": 39,
   "metadata": {},
   "outputs": [
    {
     "name": "stdout",
     "output_type": "stream",
     "text": [
      "[53, 44, 37, 90, 76, 3, 60, 4, 13, 64, 31, 89, 22, 81, 21, 68, 86, 98, 32, 15]\n"
     ]
    }
   ],
   "source": [
    "#编写程序，生成一个含有20个随机数的列表，要求所有元素不相同，并且每个元素的值介于1到100之间\n",
    "import random\n",
    "alist = random.sample(range(1,101),20) #random.sample()生成不相同的随机数     # 从list中随机获取5个元素，作为一个片断返回\n",
    "print(alist)"
   ]
  },
  {
   "cell_type": "code",
   "execution_count": 41,
   "metadata": {},
   "outputs": [
    {
     "name": "stdout",
     "output_type": "stream",
     "text": [
      "[8, 7, 4, 9, 6]\n",
      "[1, 2, 3, 4, 5, 6, 7, 8, 9, 10]\n"
     ]
    }
   ],
   "source": [
    "list = [1, 2, 3, 4, 5, 6, 7, 8, 9, 10]\n",
    "slice = random.sample(list, 5) \n",
    "print (slice)\n",
    "print (list )"
   ]
  },
  {
   "cell_type": "code",
   "execution_count": 45,
   "metadata": {},
   "outputs": [
    {
     "data": {
      "text/plain": [
       "267035.51343438536"
      ]
     },
     "execution_count": 45,
     "metadata": {},
     "output_type": "execute_result"
    }
   ],
   "source": [
    "# 编写程序，计算理财产品收益，假设收益和本金一起滚动    14天理财，利率0.0385，投资10万 一年的滚动收益是多少\n",
    "j=100000\n",
    "for i in range(365//14):\n",
    "    j=j*1.0385\n",
    "    \n",
    "j"
   ]
  },
  {
   "cell_type": "code",
   "execution_count": 44,
   "metadata": {},
   "outputs": [
    {
     "data": {
      "text/plain": [
       "26"
      ]
     },
     "execution_count": 44,
     "metadata": {},
     "output_type": "execute_result"
    }
   ],
   "source": [
    "#二分法查找\n",
    "double = int(input('请输入一个在(0-100)的数：') )\n",
    "for i \n"
   ]
  },
  {
   "cell_type": "code",
   "execution_count": null,
   "metadata": {
    "collapsed": true
   },
   "outputs": [],
   "source": []
  }
 ],
 "metadata": {
  "kernelspec": {
   "display_name": "Python 3",
   "language": "python",
   "name": "python3"
  },
  "language_info": {
   "codemirror_mode": {
    "name": "ipython",
    "version": 3
   },
   "file_extension": ".py",
   "mimetype": "text/x-python",
   "name": "python",
   "nbconvert_exporter": "python",
   "pygments_lexer": "ipython3",
   "version": "3.6.2"
  }
 },
 "nbformat": 4,
 "nbformat_minor": 2
}
