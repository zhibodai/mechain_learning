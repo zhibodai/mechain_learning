{
 "cells": [
  {
   "cell_type": "code",
   "execution_count": 1,
   "metadata": {
    "collapsed": true
   },
   "outputs": [],
   "source": [
    "import numpy as np"
   ]
  },
  {
   "cell_type": "code",
   "execution_count": 5,
   "metadata": {},
   "outputs": [
    {
     "name": "stdout",
     "output_type": "stream",
     "text": [
      "--数组的索引与切片--\n",
      "[0 1 2 3 4 5 6 7 8]\n",
      "[1]\n",
      "[0 1 2 3 4 5 6 7 8]\n",
      "[6]\n"
     ]
    }
   ],
   "source": [
    "print('--数组的索引与切片--')\n",
    "a=np.arange(9)\n",
    "print(a)\n",
    "print(a[1:3:2])\n",
    "print(a[::1])\n",
    "print(a[-3:-2])  #上包括 下不包括"
   ]
  },
  {
   "cell_type": "code",
   "execution_count": 19,
   "metadata": {},
   "outputs": [
    {
     "name": "stdout",
     "output_type": "stream",
     "text": [
      "--多维数组的索引与切片--\n",
      "[[[ 0  1  2  3]\n",
      "  [ 4  5  6  7]\n",
      "  [ 8  9 10 11]]\n",
      "\n",
      " [[12 13 14 15]\n",
      "  [16 17 18 19]\n",
      "  [20 21 22 23]]]\n",
      "(2, 3, 4)\n",
      "3\n",
      "第0层，0行，0列 0\n",
      "1\n",
      "12\n",
      "19\n",
      "[[ 0  1  2  3]\n",
      " [ 4  5  6  7]\n",
      " [ 8  9 10 11]]\n",
      "[[ 0  1  2  3]\n",
      " [ 4  5  6  7]\n",
      " [ 8  9 10 11]]\n",
      "[[ 0  1  2  3]\n",
      " [ 4  5  6  7]\n",
      " [ 8  9 10 11]]\n",
      "[0 1 2 3]\n",
      "[0 1 2 3]\n",
      "[[ 0  4  8]\n",
      " [12 16 20]]\n",
      "[[ 0  4  8]\n",
      " [12 16 20]]\n",
      "[1 5 9]\n",
      "[ 3  7 11]\n",
      "[[[ 0  1  2  3]\n",
      "  [ 8  9 10 11]]\n",
      "\n",
      " [[12 13 14 15]\n",
      "  [20 21 22 23]]]\n"
     ]
    }
   ],
   "source": [
    "print('--多维数组的索引与切片--')\n",
    "a=np.arange(24).reshape((2,3,4))\n",
    "print(a)\n",
    "print(a.shape)\n",
    "print(a.ndim)\n",
    "print('第0层，0行，0列',a[0,0,0])  # a[起:止:间隔,起:止:间隔,起:止:间隔]\n",
    "print(a[0,0,1])\n",
    "print(a[1,0,0])\n",
    "\n",
    "#19\n",
    "print(a[1,1,3])\n",
    "#输出第一层所有的元素\n",
    "print(a[0])\n",
    "print(a[0,:,:])\n",
    "print(a[0,...])\n",
    "\n",
    "#第一层第一行所有的元素\n",
    "print(a[0,0,:])\n",
    "print(a[0,0])\n",
    "#所有位于第一列的元素\n",
    "print(a[:,:,0])\n",
    "print(a[...,0])\n",
    "\n",
    "#第一层中所有位于第二列的元素\n",
    "print(a[0,:,1])\n",
    "\n",
    "#第一层中所有位于最后一列的元素\n",
    "print(a[0,:,-1])\n",
    "#每一层的第一行 第三行\n",
    "print(a[:,[0,2],:])"
   ]
  },
  {
   "cell_type": "code",
   "execution_count": 20,
   "metadata": {},
   "outputs": [
    {
     "name": "stdout",
     "output_type": "stream",
     "text": [
      "0\n",
      "1\n",
      "2\n",
      "3\n",
      "4\n",
      "5\n",
      "6\n",
      "7\n",
      "8\n",
      "9\n"
     ]
    }
   ],
   "source": [
    "#循环  for xx in ndarray\n",
    "a=np.arange(0,10)\n",
    "for i in a:\n",
    "    print(i)"
   ]
  },
  {
   "cell_type": "code",
   "execution_count": 21,
   "metadata": {},
   "outputs": [
    {
     "name": "stdout",
     "output_type": "stream",
     "text": [
      "[[ 0  1  2  3  4  5]\n",
      " [ 6  7  8  9 10 11]\n",
      " [12 13 14 15 16 17]\n",
      " [18 19 20 21 22 23]]\n",
      "整个ndarray平均值 11.5\n",
      "按列求平均值 [  9.  10.  11.  12.  13.  14.]\n",
      "按行求平均值 [  2.5   8.5  14.5  20.5]\n"
     ]
    }
   ],
   "source": [
    "#按行或者按列求聚合\n",
    "#numpy 中的高阶函数 ：函数的参数是另一个函数\n",
    "# apply_alone_axis(聚合函数,axis=0/1,arr=数组名)\n",
    "a=np.arange(24).reshape((4,6))\n",
    "print(a)\n",
    "print('整个ndarray平均值',np.mean(a))\n",
    "print('按列求平均值',np.apply_along_axis(np.mean,axis=0,arr=a))\n",
    "print('按行求平均值',np.apply_along_axis(np.mean,axis=1,arr=a))"
   ]
  },
  {
   "cell_type": "code",
   "execution_count": 22,
   "metadata": {},
   "outputs": [
    {
     "name": "stdout",
     "output_type": "stream",
     "text": [
      "[[ 0.39412929  0.2611687   0.08873219  0.41508028]\n",
      " [ 0.16626091  0.01798536  0.22724413  0.18979011]\n",
      " [ 0.23159333  0.5984834   0.61603353  0.13424574]\n",
      " [ 0.99605334  0.59525391  0.56822405  0.42396701]]\n",
      "[[ True  True  True  True]\n",
      " [ True  True  True  True]\n",
      " [ True False False  True]\n",
      " [False False False  True]]\n",
      "[ 0.39412929  0.2611687   0.08873219  0.41508028  0.16626091  0.01798536\n",
      "  0.22724413  0.18979011  0.23159333  0.13424574  0.42396701]\n"
     ]
    }
   ],
   "source": [
    "#筛选  \n",
    "a=np.random.random((4,4))\n",
    "print(a)\n",
    "print(a<0.5)   #[[True,False,]]\n",
    "print(a[a<0.5])"
   ]
  },
  {
   "cell_type": "code",
   "execution_count": null,
   "metadata": {
    "collapsed": true
   },
   "outputs": [],
   "source": []
  }
 ],
 "metadata": {
  "kernelspec": {
   "display_name": "Python 3",
   "language": "python",
   "name": "python3"
  },
  "language_info": {
   "codemirror_mode": {
    "name": "ipython",
    "version": 3
   },
   "file_extension": ".py",
   "mimetype": "text/x-python",
   "name": "python",
   "nbconvert_exporter": "python",
   "pygments_lexer": "ipython3",
   "version": "3.6.2"
  }
 },
 "nbformat": 4,
 "nbformat_minor": 2
}
