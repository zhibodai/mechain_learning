{
 "cells": [
  {
   "cell_type": "code",
   "execution_count": 5,
   "metadata": {
    "collapsed": true
   },
   "outputs": [],
   "source": [
    "import numpy as np"
   ]
  },
  {
   "cell_type": "code",
   "execution_count": 7,
   "metadata": {},
   "outputs": [
    {
     "name": "stdout",
     "output_type": "stream",
     "text": [
      "vwap成交量加权平均收盘价为： 350.589549353\n"
     ]
    }
   ],
   "source": [
    "#读取csv文件\n",
    "#股票代码  日期  空  开盘价  最高价  最低价 收盘价  成交量\n",
    "#usecols  只提取6,7列  即收盘价与成交量  unpack分别存不同列的数据  在这里将收盘价存到c 成交量存v\n",
    "c,v=np.loadtxt('E:/yc_55/第三期/python/numpy_1/data.csv',delimiter=',',usecols=(6,7),unpack=True)\n",
    "\n",
    "#需求  计算vwap 按照成交量来加权求平均价格：某个价格的成交量高，该价格所占的比例权重就越大   vwap以成效量为权重计算出来的加权平均值\n",
    "#提示：1.对价格求平均值  2.average(weights=None)\n",
    "vwap=np.average(c,weights=v)\n",
    "print('vwap成交量加权平均收盘价为：',vwap)"
   ]
  },
  {
   "cell_type": "code",
   "execution_count": 8,
   "metadata": {},
   "outputs": [
    {
     "name": "stdout",
     "output_type": "stream",
     "text": [
      "算术平均收盘价 351.037666667\n"
     ]
    }
   ],
   "source": [
    "#需求：计算算术平均值\n",
    "print('算术平均收盘价',np.mean(c))"
   ]
  },
  {
   "cell_type": "code",
   "execution_count": 9,
   "metadata": {},
   "outputs": [
    {
     "name": "stdout",
     "output_type": "stream",
     "text": [
      "[ 0  1  2  3  4  5  6  7  8  9 10 11 12 13 14 15 16 17 18 19 20 21 22 23 24\n",
      " 25 26 27 28 29]\n",
      "时间加权平均价格 352.428321839\n"
     ]
    }
   ],
   "source": [
    "#需求：计算时间加权平均价格TWAP ：时间越近的价格重要性越大，对近期价格给以较高的权重\n",
    "t=np.arange(len(c))  #[0,1,2,3,4，...，29]\n",
    "print(t)\n",
    "twap=np.average(c,weights=t)\n",
    "print('时间加权平均价格',twap)"
   ]
  },
  {
   "cell_type": "code",
   "execution_count": 14,
   "metadata": {},
   "outputs": [
    {
     "name": "stdout",
     "output_type": "stream",
     "text": [
      "最高价的最大值 364.9\n",
      "最低价的最小值 333.53\n"
     ]
    }
   ],
   "source": [
    "#需求：取出每日最高价的最大值及最低价的最小值\n",
    "# max  min  提示：按上面的读取方法来重新读取最高价 最低价\n",
    "h,l=np.loadtxt('E:/yc_55/第三期/python/numpy_1/data.csv',delimiter=',',usecols=(4,5),unpack=True)\n",
    "print('最高价的最大值',np.max(h))\n",
    "print('最低价的最小值',np.min(l))"
   ]
  },
  {
   "cell_type": "code",
   "execution_count": 15,
   "metadata": {},
   "outputs": [
    {
     "name": "stdout",
     "output_type": "stream",
     "text": [
      "最高价的波动范围 24.86\n",
      "最低价的波动范围 26.97\n"
     ]
    }
   ],
   "source": [
    "#需求：求出最高价的波动范围及最低价的波动范围  ptp\n",
    "print('最高价的波动范围',np.ptp(h))\n",
    "print('最低价的波动范围',np.ptp(l))"
   ]
  },
  {
   "cell_type": "code",
   "execution_count": 17,
   "metadata": {},
   "outputs": [
    {
     "name": "stdout",
     "output_type": "stream",
     "text": [
      "五个列根据成交量的加权平均值 [  3.50883211e+02   3.53502131e+02   3.47373546e+02   3.50589549e+02\n",
      "   1.92466726e+07]\n",
      "五个列的算术平均值 [  3.50798667e+02   3.53357000e+02   3.47861667e+02   3.51037667e+02\n",
      "   1.73956633e+07]\n",
      "五个列按时间的加权平均值 [  3.52371816e+02   3.54851034e+02   3.49294115e+02   3.52428322e+02\n",
      "   1.78440931e+07]\n",
      "五个列的最大值 [  3.61110000e+02   3.64900000e+02   3.60500000e+02   3.63130000e+02\n",
      "   3.31624000e+07]\n",
      "五个列的最小值 [  3.35800000e+02   3.40040000e+02   3.33530000e+02   3.36100000e+02\n",
      "   9.24260000e+06]\n",
      "五个列的波动范围 [  2.53100000e+01   2.48600000e+01   2.69700000e+01   2.70300000e+01\n",
      "   2.39198000e+07]\n"
     ]
    }
   ],
   "source": [
    "#以上以多维数组来实现\n",
    "d=np.loadtxt('E:/yc_55/第三期/python/numpy_1/data.csv',delimiter=',',usecols=(3,4,5,6,7))\n",
    "print('五个列根据成交量的加权平均值',np.average(d,weights=v,axis=0))\n",
    "print('五个列的算术平均值',np.mean(d,axis=0))\n",
    "print('五个列按时间的加权平均值',np.average(d,weights=t,axis=0))\n",
    "print('五个列的最大值',np.max(d,axis=0))\n",
    "print('五个列的最小值',np.min(d,axis=0))\n",
    "print('五个列的波动范围',np.ptp(d,axis=0))"
   ]
  },
  {
   "cell_type": "code",
   "execution_count": 19,
   "metadata": {},
   "outputs": [
    {
     "name": "stdout",
     "output_type": "stream",
     "text": [
      "收盘价的中位数 352.055\n",
      "自己效验的中位数 352.055\n"
     ]
    }
   ],
   "source": [
    "'''\n",
    "第二个部分：\n",
    "    交易者对于收盘价的预测很敢兴趣，这个价位应接近于某种平均值.算术平均值和加权平均值都是在数值分布中心寻找中心点的方法\n",
    "    然而他们对于异常值即不鲁莽也不敏感\n",
    "    \n",
    "    我们可以用一些阈值来除去异常值，但也可以采用中位数，将各个变量按大小顺序排列起来 形成一个数列  居数列中间位置的即为中位数\n",
    "'''\n",
    "#需求 ： 计算收盘价的中位数   median \n",
    "c=np.loadtxt('E:/yc_55/第三期/python/numpy_1/data.csv',delimiter=',',usecols=(6),unpack=True)\n",
    "print('收盘价的中位数',np.median(c))\n",
    "#对上面的中位数进行验算\n",
    "#排序  sort\n",
    "sorted_close=np.sort(c)\n",
    "m=len(sorted_close)\n",
    "media=0\n",
    "     \n",
    "if m%2==0:\n",
    "    median=(sorted_close[m//2]+sorted_close[(m-1)//2])/2\n",
    "else:\n",
    "    median=sorted_close[(m-1)//2]\n",
    "print('自己效验的中位数',median)"
   ]
  },
  {
   "cell_type": "code",
   "execution_count": 20,
   "metadata": {},
   "outputs": [
    {
     "name": "stdout",
     "output_type": "stream",
     "text": [
      "收盘价的方差为 50.1265178889\n",
      "自己的方差 50.1265178889\n"
     ]
    }
   ],
   "source": [
    "#统计方差  方差体现了变量变化的程度  它告诉我们这支股票的投资风险\n",
    "#var\n",
    "print('收盘价的方差为',np.var(c))\n",
    "#对上面的方差结果进行验算\n",
    "#方差算法：各数据 与所有的数据的算术平均数的差平方和除以数据个数得到的值\n",
    "print('自己的方差',np.mean( (c-np.mean(c) )**2 ) )"
   ]
  },
  {
   "cell_type": "code",
   "execution_count": 21,
   "metadata": {},
   "outputs": [
    {
     "name": "stdout",
     "output_type": "stream",
     "text": [
      "简单收益率 [ 0.00958048  0.01682777 -0.00205779 -0.00255576  0.00890985  0.0155267\n",
      "  0.00943503  0.00833333 -0.01010721  0.00651548  0.00652935  0.00200457\n",
      "  0.00897472 -0.01330102 -0.02160201 -0.03408832  0.01184253  0.00075886\n",
      "  0.01539897  0.01450483 -0.01104159  0.00804443  0.02112916  0.00122372\n",
      " -0.01288889  0.00112562 -0.00924781 -0.0164553   0.01534601]\n",
      "标准差 0.0129221344368\n"
     ]
    }
   ],
   "source": [
    "#计算股票收益率\n",
    "#收盘价的分析常常是基于股票收益率和对数收益率的。简单收益率是指相邻的两个价格间的变化率，而对数收益率是指所有价格取对数后两两之间的差值\n",
    "#   =》 a的对数减b的对数  相当于 ‘a除以b’的对数\n",
    "#对数收益率可以用来衡量价格的变化率  投资者最感兴趣的是收益率的方差或者标准差  这代表投资风险的大小\n",
    "#我们按以下步骤分析股票收益率\n",
    "c=np.loadtxt('E:/yc_55/第三期/python/numpy_1/data.csv',delimiter=',',usecols=(6),unpack=True)\n",
    "\n",
    "#1.计算简单收益率\n",
    "#2.计算前后的差值  diff  数组里面后一个元素减前一个元素\n",
    "returns=np.diff(c)/c[:-1]   #不取数组最后一个元素\n",
    "print('简单收益率',returns)\n",
    "\n",
    "#换算成标准差  std\n",
    "std=np.std(returns)\n",
    "print('标准差',std)"
   ]
  },
  {
   "cell_type": "code",
   "execution_count": 22,
   "metadata": {},
   "outputs": [
    {
     "name": "stdout",
     "output_type": "stream",
     "text": [
      "[1 2 1]\n",
      "[1, 2, 4]\n"
     ]
    }
   ],
   "source": [
    "a=[1,2,4,5]\n",
    "print(np.diff(a))\n",
    "x=a[:-1]\n",
    "print(x)"
   ]
  },
  {
   "cell_type": "code",
   "execution_count": 23,
   "metadata": {},
   "outputs": [
    {
     "name": "stdout",
     "output_type": "stream",
     "text": [
      "对数收益率 [ 0.00163903  0.0028639  -0.00035251 -0.00043807  0.00151916  0.0026347\n",
      "  0.00160163  0.00141312 -0.00172737  0.00110621  0.00110733  0.00034035\n",
      "  0.001518   -0.00227155 -0.00371321 -0.00591905  0.00202116  0.00012997\n",
      "  0.00261789  0.00246053 -0.00189243  0.00136822  0.00356568  0.00020782\n",
      " -0.00220395  0.00019155 -0.00158162 -0.00282904  0.00260405]\n",
      "对数收益率为正数 (array([ 0,  1,  4,  5,  6,  7,  9, 10, 11, 12, 16, 17, 18, 19, 21, 22, 23,\n",
      "       25, 28], dtype=int64),)\n"
     ]
    }
   ],
   "source": [
    "#计算对数收益率  用log函数得到没过收盘价的对数  在对结果使用diff函数\n",
    "logreturns=np.diff(np.log(c) )/np.log(c[:-1] )\n",
    "print('对数收益率',logreturns)\n",
    "\n",
    "# 求出哪些交易日的收益率为正值\n",
    "#  即求出对应日期的索引\n",
    "#  numpy.where(condition[,x,y])\n",
    "print('对数收益率为正数',np.where(logreturns>0))"
   ]
  },
  {
   "cell_type": "code",
   "execution_count": 24,
   "metadata": {},
   "outputs": [
    {
     "name": "stdout",
     "output_type": "stream",
     "text": [
      "年波动率 127.657651516\n"
     ]
    }
   ],
   "source": [
    "#在投资学中，波动率是对价格变动的一种度量，历史波动率可以根据历史价格数据计算得出\n",
    "#年波动率等于对数收益率的标准差除以其平均值，再除以交易日倒数的平方根，通常交易日去252天\n",
    "anual_profit=np.std( logreturns)/np.mean(logreturns)\n",
    "anual_profit=anual_profit/np.sqrt(1./252.)\n",
    "print('年波动率',anual_profit)"
   ]
  },
  {
   "cell_type": "code",
   "execution_count": 26,
   "metadata": {},
   "outputs": [
    {
     "name": "stdout",
     "output_type": "stream",
     "text": [
      "周几： [ 5.  1.  2.  3.  4.  5.  1.  2.  3.  4.  5.  1.  2.  3.  4.  5.  2.  3.\n",
      "  4.  5.  1.  2.  3.  4.  5.  1.  2.  3.  4.  5.]\n",
      "(array([ 1,  6, 11, 20, 25], dtype=int64),)\n",
      "[[ 339.32  351.88  359.18  353.21  355.36]]\n",
      "周 0 的平均收盘价: 351.79\n",
      "(array([ 2,  7, 12, 16, 21, 26], dtype=int64),)\n",
      "[[ 345.03  355.2   359.9   338.61  349.31  355.76]]\n",
      "周 1 的平均收盘价: 350.635\n",
      "(array([ 3,  8, 13, 17, 22, 27], dtype=int64),)\n",
      "[[ 344.32  358.16  363.13  342.62  352.12  352.47]]\n",
      "周 2 的平均收盘价: 352.136666667\n",
      "(array([ 4,  9, 14, 18, 23, 28], dtype=int64),)\n",
      "[[ 343.44  354.54  358.3   342.88  359.56  346.67]]\n",
      "周 3 的平均收盘价: 350.898333333\n",
      "(array([ 0,  5, 10, 15, 19, 24, 29], dtype=int64),)\n",
      "[[ 336.1   346.5   356.85  350.56  348.16  360.    351.99]]\n",
      "周 4 的平均收盘价: 350.022857143\n",
      "最高价 352.136666667\n",
      "最高价的周是： 2\n",
      "最低价 350.022857143\n",
      "最低价的周是： 4\n"
     ]
    }
   ],
   "source": [
    "####需求：分析日期与股票价格的关系\n",
    "#读入日期及收盘价的关系  注意日期的格式的处理\n",
    "#定义字符串的时间处理函数\n",
    "from datetime import datetime\n",
    "#根据日期字符串转换成日期对象后，在取星期几\n",
    "def datestr2num(s):\n",
    "    s=str(s,encoding='utf8')\n",
    "    return datetime.strptime(s,'%d-%m-%Y').date().weekday()\n",
    "\n",
    "dates,close=np.loadtxt('E:/yc_55/第三期/python/numpy_1/data.csv',delimiter=',',usecols=(1,6),converters={1:datestr2num},unpack=True)\n",
    "print('周几：',dates+1)\n",
    "averages=np.zeros(5)\n",
    "\n",
    "for i in range(5):\n",
    "    #indices是一个列表  这个列表中存  周i 的收盘价的索引\n",
    "    indices=np.where(dates==i)  #取每个周几对应的索引\n",
    "    print(indices)\n",
    "    weekdayClosePrice=np.take(close,indices)\n",
    "    print(weekdayClosePrice)\n",
    "    avg=np.mean(weekdayClosePrice)\n",
    "    print('周',i,'的平均收盘价:',avg)\n",
    "    averages[i]=avg\n",
    "    \n",
    "#更进一步 还可以找出那个工作日的平均收盘价最高 最低\n",
    "top=np.max(averages)\n",
    "print('最高价',top)\n",
    "print('最高价的周是：',np.argmax(averages) )\n",
    "bottom=np.min(averages)\n",
    "print('最低价',bottom)\n",
    "print('最低价的周是：',np.argmin(averages))"
   ]
  },
  {
   "cell_type": "code",
   "execution_count": 28,
   "metadata": {},
   "outputs": [
    {
     "name": "stdout",
     "output_type": "stream",
     "text": [
      "所有的周一的索引 (array([ 1,  6, 11], dtype=int64),)\n",
      "展平后   周一的索引 [ 1  6 11]\n",
      "第一个周一的索引 1\n",
      "所有周5的索引 (array([ 0,  5, 10, 15], dtype=int64),)\n",
      "展平后  周5的索引 [ 0  5 10 15]\n",
      "最后一个周5的索引 15\n",
      "三周的索引 [ 1  2  3  4  5  6  7  8  9 10 11 12 13 14 15]\n",
      "切分后的数组 [array([1, 2, 3, 4, 5], dtype=int64), array([ 6,  7,  8,  9, 10], dtype=int64), array([11, 12, 13, 14, 15], dtype=int64)]\n",
      "一周汇总\n",
      "股票名\t 开盘价\t 最高价\t 最低价\t 收盘价\n",
      "[['Apple' '335.8' '346.7' '334.3' '346.5']\n",
      " ['Apple' '347.8' '360.0' '347.6' '356.8']\n",
      " ['Apple' '356.7' '364.9' '349.5' '350.5']]\n"
     ]
    }
   ],
   "source": [
    "##########需求    周汇总\n",
    "#汇总整个交易周中从周一到周五的所有数据\n",
    "#为了简单  只考虑前三周的数据\n",
    "dates,open,high,low,close=np.loadtxt('E:/yc_55/第三期/python/numpy_1/data.csv',delimiter=',',usecols=(1,3,4,5,6),converters={1:datestr2num},unpack=True)\n",
    "close=close[:16]\n",
    "dates=dates[:16]\n",
    "#1.找第一个周一做索引  \n",
    "first_monday=np.where(dates==0)  #前16条数据中所有的周一\n",
    "print('所有的周一的索引',first_monday)\n",
    "#将这个元祖展平变成一个一堆数组\n",
    "first_monday=np.ravel(first_monday)\n",
    "print('展平后   周一的索引',first_monday)\n",
    "first_monday=first_monday[0]\n",
    "print('第一个周一的索引',first_monday)\n",
    "\n",
    "#2.找最后一个周5的索引\n",
    "last_friday=np.where(dates==4)\n",
    "print('所有周5的索引',last_friday)\n",
    "last_friday=np.ravel(last_friday)\n",
    "print('展平后  周5的索引',last_friday)\n",
    "last_friday=last_friday[-1]  \n",
    "print('最后一个周5的索引',last_friday)\n",
    "\n",
    "\n",
    "#创建一个数组  用于存放三周内每一天的索引值\n",
    "weeks_indices=np.arange(first_monday,last_friday+1)\n",
    "print('三周的索引',weeks_indices)\n",
    "\n",
    "#按照每个子数组 5个元素划分\n",
    "weeks_indices=np.split(weeks_indices,3)\n",
    "print('切分后的数组',weeks_indices)\n",
    "\n",
    "\n",
    "#循环所有的数组统计\n",
    "def summarize(a,o,h,l,c):\n",
    "    monday_open=o[a[0]]  #找到周一的开盘价\n",
    "    friday_close=c[ a[-1] ]  #找周5的收盘价\n",
    "    week_high=np.max( np.take(h,a) ) #h中有16天所有最高价  通过take根据a（它存的是这一周的索引）找到这一周最高价\n",
    "    week_low=np.min(np.take(l,a) )\n",
    "    return (\"Apple\",monday_open,week_high,week_low,friday_close)\n",
    "   \n",
    "\n",
    "    \n",
    "\n",
    "    \n",
    "weeksumary=np.apply_along_axis(summarize,1,weeks_indices,open,high,low,close)\n",
    "print('一周汇总')\n",
    "print('股票名\\t 开盘价\\t 最高价\\t 最低价\\t 收盘价')\n",
    "print(weeksumary)\n",
    "\n",
    "#保存\n",
    "np.savetxt('weeksumary2.csv',weeksumary,delimiter=',',fmt='%s')\n",
    "\n",
    "\n",
    "\n",
    "\n",
    "\n",
    "\n",
    "\n",
    "\n",
    "\n",
    "\n",
    "\n",
    "\n"
   ]
  },
  {
   "cell_type": "code",
   "execution_count": null,
   "metadata": {
    "collapsed": true
   },
   "outputs": [],
   "source": []
  }
 ],
 "metadata": {
  "kernelspec": {
   "display_name": "Python 3",
   "language": "python",
   "name": "python3"
  },
  "language_info": {
   "codemirror_mode": {
    "name": "ipython",
    "version": 3
   },
   "file_extension": ".py",
   "mimetype": "text/x-python",
   "name": "python",
   "nbconvert_exporter": "python",
   "pygments_lexer": "ipython3",
   "version": "3.6.2"
  }
 },
 "nbformat": 4,
 "nbformat_minor": 2
}
