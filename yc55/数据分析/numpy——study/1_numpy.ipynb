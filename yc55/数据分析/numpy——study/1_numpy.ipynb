{
 "cells": [
  {
   "cell_type": "code",
   "execution_count": 1,
   "metadata": {
    "collapsed": true
   },
   "outputs": [],
   "source": [
    "import numpy as np   # np.xxx  np.xx()"
   ]
  },
  {
   "cell_type": "code",
   "execution_count": 3,
   "metadata": {},
   "outputs": [
    {
     "name": "stdout",
     "output_type": "stream",
     "text": [
      "[[0 1]\n",
      " [0 1]]\n",
      "<class 'numpy.ndarray'>\n",
      "<class 'list'>\n",
      "[array([0, 1]), array([0, 1])]\n",
      "类型 int32\n",
      "元素的大小 4\n",
      "型: (2, 2)\n",
      "秩: 2\n",
      "元素数量: 4\n",
      "所占的空间的大小: 16\n",
      "转置矩阵: [[0 0]\n",
      " [1 1]]\n"
     ]
    }
   ],
   "source": [
    "#array(array-like)  ->将数组型的元素转为ndarray\n",
    "#  np.arange(2)\n",
    "a=np.array([np.arange(2),np.arange(2) ] )\n",
    "print(a)\n",
    "print(type(a))\n",
    "b=[np.arange(2),np.arange(2) ]\n",
    "print(type(b))\n",
    "print(b)\n",
    "#理解 ndarray 与 array的区别\n",
    "print('类型',a.dtype)\n",
    "print('元素的大小',a.dtype.itemsize)\n",
    "print('型:',a.shape)\n",
    "print('秩:',a.ndim)\n",
    "print('元素数量:',a.size)\n",
    "print('所占的空间的大小:',a.nbytes)\n",
    "print('转置矩阵:',a.T)"
   ]
  },
  {
   "cell_type": "code",
   "execution_count": 4,
   "metadata": {},
   "outputs": [
    {
     "data": {
      "text/plain": [
       "array([[1, 2],\n",
       "       [3, 4]])"
      ]
     },
     "execution_count": 4,
     "metadata": {},
     "output_type": "execute_result"
    }
   ],
   "source": [
    "b=np.array([1,2,3,4])\n",
    "b=b.reshape((2,2))  #  reshpae(型)\n",
    "b"
   ]
  },
  {
   "cell_type": "code",
   "execution_count": 6,
   "metadata": {},
   "outputs": [
    {
     "data": {
      "text/plain": [
       "array([[1, 2],\n",
       "       [3, 4]])"
      ]
     },
     "execution_count": 6,
     "metadata": {},
     "output_type": "execute_result"
    }
   ],
   "source": [
    "c=np.array( (1,2,3,4) )\n",
    "c=c.reshape((2,2))\n",
    "c"
   ]
  },
  {
   "cell_type": "code",
   "execution_count": 7,
   "metadata": {},
   "outputs": [
    {
     "name": "stdout",
     "output_type": "stream",
     "text": [
      "<numpy.flatiter object at 0x0000011415D9F6D0>\n",
      "1\n",
      "2\n",
      "3\n"
     ]
    }
   ],
   "source": [
    "#展平 ndarray\n",
    "print(c.flat) #将两行两列的ndarray对象转为一个flat对象，它也是一个惰性求值\n",
    "print(c.flat[0])\n",
    "print(c.flat[1])\n",
    "print(c.flat[2])"
   ]
  },
  {
   "cell_type": "code",
   "execution_count": 8,
   "metadata": {},
   "outputs": [
    {
     "name": "stdout",
     "output_type": "stream",
     "text": [
      "[[ 1.  1.  1.  1.]\n",
      " [ 1.  1.  1.  1.]\n",
      " [ 1.  1.  1.  1.]]\n",
      "<class 'numpy.ndarray'>\n",
      "[[ 1.  1.  1.  1.]\n",
      " [ 1.  1.  1.  1.]\n",
      " [ 1.  1.  1.  1.]]\n",
      "[[ 1.  1.  1.  1.]\n",
      " [ 1.  1.  1.  1.]\n",
      " [ 1.  1.  1.  1.]]\n",
      "[[ 0.  0.  0.  0.  0.]\n",
      " [ 0.  0.  0.  0.  0.]\n",
      " [ 0.  0.  0.  0.  0.]\n",
      " [ 0.  0.  0.  0.  0.]\n",
      " [ 0.  0.  0.  0.  0.]]\n",
      "[[ 1.  1.  1.  1.  1.]\n",
      " [ 1.  1.  1.  1.  1.]\n",
      " [ 1.  1.  1.  1.  1.]\n",
      " [ 1.  1.  1.  1.  1.]\n",
      " [ 1.  1.  1.  1.  1.]]\n"
     ]
    }
   ],
   "source": [
    "d=np.ones((3,4))\n",
    "print(d)\n",
    "print(type(d))\n",
    "\n",
    "dd=np.ones_like(d)\n",
    "print(dd)\n",
    "\n",
    "e=np.empty_like( d )  #根据d这个ndarray的型来另外创建一个同型的数据\n",
    "print(e)\n",
    "\n",
    "f=np.zeros((5,5))\n",
    "print(f)\n",
    "g=np.ones_like(f)\n",
    "print(g)"
   ]
  },
  {
   "cell_type": "code",
   "execution_count": 9,
   "metadata": {},
   "outputs": [
    {
     "data": {
      "text/plain": [
       "array([[ 0,  2,  4,  6,  8, 10, 12, 14, 16, 18, 20, 22, 24, 26, 28, 30, 32,\n",
       "        34, 36, 38, 40, 42, 44, 46, 48],\n",
       "       [50, 52, 54, 56, 58, 60, 62, 64, 66, 68, 70, 72, 74, 76, 78, 80, 82,\n",
       "        84, 86, 88, 90, 92, 94, 96, 98]])"
      ]
     },
     "execution_count": 9,
     "metadata": {},
     "output_type": "execute_result"
    }
   ],
   "source": [
    "f=np.arange(0,100,2).reshape((2,25))  \n",
    "f"
   ]
  },
  {
   "cell_type": "code",
   "execution_count": 10,
   "metadata": {},
   "outputs": [
    {
     "name": "stdout",
     "output_type": "stream",
     "text": [
      "[[ 0.40482278  0.84966932  0.71295201  0.75751056  0.66542297  0.19201824\n",
      "   0.17288132  0.10001251  0.79122392  0.34947802]\n",
      " [ 0.83685477  0.36733651  0.11889508  0.09151736  0.05573787  0.25969746\n",
      "   0.70076905  0.85357765  0.81214677  0.79700944]]\n",
      "<class 'numpy.ndarray'>\n"
     ]
    }
   ],
   "source": [
    "g=np.random.random((2,10))\n",
    "print(g)\n",
    "print(type(g))"
   ]
  },
  {
   "cell_type": "code",
   "execution_count": 11,
   "metadata": {},
   "outputs": [
    {
     "data": {
      "text/plain": [
       "array([[50, 50, 50],\n",
       "       [50, 50, 50],\n",
       "       [50, 50, 50]])"
      ]
     },
     "execution_count": 11,
     "metadata": {},
     "output_type": "execute_result"
    }
   ],
   "source": [
    "b=np.full((3,3),50)\n",
    "b"
   ]
  },
  {
   "cell_type": "code",
   "execution_count": 14,
   "metadata": {},
   "outputs": [
    {
     "data": {
      "text/plain": [
       "array([[ 1.,  0.,  0.,  0.,  0.,  0.],\n",
       "       [ 0.,  1.,  0.,  0.,  0.,  0.],\n",
       "       [ 0.,  0.,  1.,  0.,  0.,  0.],\n",
       "       [ 0.,  0.,  0.,  1.,  0.,  0.],\n",
       "       [ 0.,  0.,  0.,  0.,  1.,  0.],\n",
       "       [ 0.,  0.,  0.,  0.,  0.,  1.]])"
      ]
     },
     "execution_count": 14,
     "metadata": {},
     "output_type": "execute_result"
    }
   ],
   "source": [
    "i=np.eye(6)\n",
    "i"
   ]
  },
  {
   "cell_type": "code",
   "execution_count": 17,
   "metadata": {},
   "outputs": [
    {
     "name": "stdout",
     "output_type": "stream",
     "text": [
      "[  0.    2.5   5.    7.5  10. ]\n"
     ]
    }
   ],
   "source": [
    "data=np.linspace(0,10,5)\n",
    "print(data)"
   ]
  },
  {
   "cell_type": "markdown",
   "metadata": {},
   "source": [
    "# 运算"
   ]
  },
  {
   "cell_type": "code",
   "execution_count": 18,
   "metadata": {},
   "outputs": [
    {
     "name": "stdout",
     "output_type": "stream",
     "text": [
      "[0 1 2 3]\n",
      "[4 5 6 7]\n",
      "[ 0  4  8 12]\n"
     ]
    }
   ],
   "source": [
    "#1. 算术运算\n",
    "a=np.arange(4)\n",
    "print(a)\n",
    "print(a+4)\n",
    "print(a*4)"
   ]
  },
  {
   "cell_type": "code",
   "execution_count": 19,
   "metadata": {},
   "outputs": [
    {
     "name": "stdout",
     "output_type": "stream",
     "text": [
      "[4 5 6 7]\n",
      "[ 4  6  8 10]\n",
      "[-4 -4 -4 -4]\n",
      "[ 0  5 12 21]\n"
     ]
    }
   ],
   "source": [
    "b=np.arange(4,8) #从四到八\n",
    "print(b)\n",
    "print(a+b)\n",
    "print(a-b)\n",
    "print(a*b)"
   ]
  },
  {
   "cell_type": "code",
   "execution_count": 20,
   "metadata": {},
   "outputs": [
    {
     "name": "stdout",
     "output_type": "stream",
     "text": [
      "[-0.7568025  -0.95892427 -0.2794155   0.6569866 ]\n",
      "[-0.         -0.95892427 -0.558831    1.9709598 ]\n",
      "[ 0.          2.23606798  4.89897949  7.93725393]\n"
     ]
    }
   ],
   "source": [
    "#以上的运算适用于返回值为numpy ndarray的数组的函数\n",
    "print(np.sin(b))\n",
    "print(a*np.sin(b) )  #只能对 ndarray 进行运算\n",
    "print(a*np.sqrt(b))"
   ]
  },
  {
   "cell_type": "code",
   "execution_count": 26,
   "metadata": {},
   "outputs": [
    {
     "name": "stdout",
     "output_type": "stream",
     "text": [
      "[[0 1 2]\n",
      " [3 4 5]\n",
      " [6 7 8]]\n",
      "[[ 1.  1.  1.]\n",
      " [ 1.  1.  1.]\n",
      " [ 1.  1.  1.]]\n",
      "[[ 0.  1.  2.]\n",
      " [ 3.  4.  5.]\n",
      " [ 6.  7.  8.]]\n"
     ]
    }
   ],
   "source": [
    "#也可以用于多维数组的运算\n",
    "a=np.arange(0,9).reshape(3,3)\n",
    "print(a)\n",
    "b=np.ones((3,3))\n",
    "print(b)\n",
    "print(a*b)"
   ]
  },
  {
   "cell_type": "code",
   "execution_count": 27,
   "metadata": {},
   "outputs": [
    {
     "name": "stdout",
     "output_type": "stream",
     "text": [
      "[[  3.   3.   3.]\n",
      " [ 12.  12.  12.]\n",
      " [ 21.  21.  21.]]\n",
      "[[  3.   3.   3.]\n",
      " [ 12.  12.  12.]\n",
      " [ 21.  21.  21.]]\n",
      "[[  9.  12.  15.]\n",
      " [  9.  12.  15.]\n",
      " [  9.  12.  15.]]\n"
     ]
    }
   ],
   "source": [
    "#矩阵的积的运算\n",
    "\n",
    "print(np.dot(a,b)) #第一个矩阵行中与该元素行号相同的元素与第二个矩阵的列号相同的元素两两相乘再求和\n",
    "print(a.dot(b))\n",
    "print(b.dot(a))"
   ]
  },
  {
   "cell_type": "code",
   "execution_count": 28,
   "metadata": {},
   "outputs": [
    {
     "name": "stdout",
     "output_type": "stream",
     "text": [
      "[[1 2 3]\n",
      " [4 5 6]\n",
      " [7 8 9]]\n",
      "[[0 1 2]\n",
      " [3 4 5]\n",
      " [6 7 8]]\n"
     ]
    }
   ],
   "source": [
    "#自增  自减\n",
    "a+=1\n",
    "print(a)\n",
    "a-=1\n",
    "print(a)"
   ]
  },
  {
   "cell_type": "code",
   "execution_count": 30,
   "metadata": {},
   "outputs": [
    {
     "name": "stdout",
     "output_type": "stream",
     "text": [
      "[[1 2]\n",
      " [3 4]]\n",
      "[[ 1.          1.41421356]\n",
      " [ 1.73205081  2.        ]]\n",
      "[[ 0.          0.69314718]\n",
      " [ 1.09861229  1.38629436]]\n",
      "[[ 0.84147098  0.90929743]\n",
      " [ 0.14112001 -0.7568025 ]]\n"
     ]
    }
   ],
   "source": [
    "#通用函数\n",
    "a=np.arange(1,5).reshape((2,2))\n",
    "print(a)\n",
    "\n",
    "print(np.sqrt(a))\n",
    "print(np.log(a))\n",
    "print(np.sin(a))\n"
   ]
  },
  {
   "cell_type": "code",
   "execution_count": 31,
   "metadata": {},
   "outputs": [
    {
     "name": "stdout",
     "output_type": "stream",
     "text": [
      "10\n",
      "4\n",
      "1\n",
      "2.5\n",
      "1.11803398875\n"
     ]
    }
   ],
   "source": [
    "#聚合函数\n",
    "print(a.sum())\n",
    "print(a.max())\n",
    "print(a.min())\n",
    "print(a.mean())\n",
    "print(a.std())"
   ]
  },
  {
   "cell_type": "code",
   "execution_count": null,
   "metadata": {
    "collapsed": true
   },
   "outputs": [],
   "source": []
  }
 ],
 "metadata": {
  "kernelspec": {
   "display_name": "Python 3",
   "language": "python",
   "name": "python3"
  },
  "language_info": {
   "codemirror_mode": {
    "name": "ipython",
    "version": 3
   },
   "file_extension": ".py",
   "mimetype": "text/x-python",
   "name": "python",
   "nbconvert_exporter": "python",
   "pygments_lexer": "ipython3",
   "version": "3.6.2"
  }
 },
 "nbformat": 4,
 "nbformat_minor": 2
}
