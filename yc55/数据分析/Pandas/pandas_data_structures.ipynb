{
 "cells": [
  {
   "cell_type": "markdown",
   "metadata": {},
   "source": [
    "# Pandas基本数据结构"
   ]
  },
  {
   "cell_type": "code",
   "execution_count": 1,
   "metadata": {
    "collapsed": true
   },
   "outputs": [],
   "source": [
    "import pandas as pd"
   ]
  },
  {
   "cell_type": "code",
   "execution_count": 2,
   "metadata": {
    "collapsed": true
   },
   "outputs": [],
   "source": [
    "#Series 是一个类数组的数据结构  同时带有标签（label） 或者说索引（index）"
   ]
  },
  {
   "cell_type": "code",
   "execution_count": 4,
   "metadata": {},
   "outputs": [
    {
     "name": "stdout",
     "output_type": "stream",
     "text": [
      "<class 'pandas.core.series.Series'>\n"
     ]
    }
   ],
   "source": [
    "#通过list构建Series\n",
    "ser_obj=pd.Series( range(10,30)  )\n",
    "print(type(ser_obj))"
   ]
  },
  {
   "cell_type": "code",
   "execution_count": 5,
   "metadata": {},
   "outputs": [
    {
     "name": "stdout",
     "output_type": "stream",
     "text": [
      "[10 11 12 13 14 15 16 17 18 19 20 21 22 23 24 25 26 27 28 29]\n",
      "RangeIndex(start=0, stop=20, step=1)\n"
     ]
    }
   ],
   "source": [
    "#获取数据\n",
    "print(ser_obj.values)\n",
    "\n",
    "#获取索引\n",
    "print(ser_obj.index)"
   ]
  },
  {
   "cell_type": "code",
   "execution_count": 6,
   "metadata": {},
   "outputs": [
    {
     "name": "stdout",
     "output_type": "stream",
     "text": [
      "0    10\n",
      "1    11\n",
      "2    12\n",
      "dtype: int32\n"
     ]
    }
   ],
   "source": [
    "#预览数据\n",
    "print(ser_obj.head(3))"
   ]
  },
  {
   "cell_type": "code",
   "execution_count": 7,
   "metadata": {},
   "outputs": [
    {
     "name": "stdout",
     "output_type": "stream",
     "text": [
      "17    27\n",
      "18    28\n",
      "19    29\n",
      "dtype: int32\n"
     ]
    }
   ],
   "source": [
    "print(ser_obj.tail(3))"
   ]
  },
  {
   "cell_type": "code",
   "execution_count": 8,
   "metadata": {},
   "outputs": [
    {
     "data": {
      "text/plain": [
       "0    10\n",
       "1    11\n",
       "2    12\n",
       "3    13\n",
       "4    14\n",
       "dtype: int32"
      ]
     },
     "execution_count": 8,
     "metadata": {},
     "output_type": "execute_result"
    }
   ],
   "source": [
    "ser_obj.head()  #默认前5条"
   ]
  },
  {
   "cell_type": "code",
   "execution_count": 9,
   "metadata": {},
   "outputs": [
    {
     "name": "stdout",
     "output_type": "stream",
     "text": [
      "10\n",
      "20\n"
     ]
    }
   ],
   "source": [
    "#通过索引来获取数据\n",
    "print(ser_obj[0])\n",
    "print(ser_obj[10])"
   ]
  },
  {
   "cell_type": "code",
   "execution_count": 10,
   "metadata": {},
   "outputs": [
    {
     "name": "stdout",
     "output_type": "stream",
     "text": [
      "0     20\n",
      "1     22\n",
      "2     24\n",
      "3     26\n",
      "4     28\n",
      "5     30\n",
      "6     32\n",
      "7     34\n",
      "8     36\n",
      "9     38\n",
      "10    40\n",
      "11    42\n",
      "12    44\n",
      "13    46\n",
      "14    48\n",
      "15    50\n",
      "16    52\n",
      "17    54\n",
      "18    56\n",
      "19    58\n",
      "dtype: int32\n",
      "0     False\n",
      "1     False\n",
      "2     False\n",
      "3     False\n",
      "4     False\n",
      "5     False\n",
      "6     False\n",
      "7     False\n",
      "8     False\n",
      "9     False\n",
      "10    False\n",
      "11    False\n",
      "12    False\n",
      "13    False\n",
      "14    False\n",
      "15    False\n",
      "16     True\n",
      "17     True\n",
      "18     True\n",
      "19     True\n",
      "dtype: bool\n"
     ]
    }
   ],
   "source": [
    "#索引与数据的对应关系仍保持在数组运算的结果中\n",
    "print(ser_obj*2)    #每个元素乘以2\n",
    "print(ser_obj>25)   #判断每个元素是否大于25  返回值是  True  False"
   ]
  },
  {
   "cell_type": "code",
   "execution_count": 12,
   "metadata": {},
   "outputs": [
    {
     "name": "stdout",
     "output_type": "stream",
     "text": [
      "2001    17.8\n",
      "2002    20.1\n",
      "2003    16.6\n",
      "2007    33.0\n",
      "dtype: float64\n",
      "Int64Index([2001, 2002, 2003, 2007], dtype='int64')\n",
      "[ 17.8  20.1  16.6  33. ]\n"
     ]
    }
   ],
   "source": [
    "#通过dict构建Series  此时dict中的键作位index    值做value 且根据键自动排序\n",
    "year_data={2007:33,2001:17.8,2002:20.1,2003:16.6}\n",
    "ser_obj2=pd.Series(year_data)\n",
    "print(ser_obj2.head())\n",
    "print(ser_obj2.index)\n",
    "print(ser_obj2.values)"
   ]
  },
  {
   "cell_type": "code",
   "execution_count": 13,
   "metadata": {},
   "outputs": [
    {
     "name": "stdout",
     "output_type": "stream",
     "text": [
      "year\n",
      "2001    17.8\n",
      "2002    20.1\n",
      "2003    16.6\n",
      "2007    33.0\n",
      "Name: 测试数据集, dtype: float64\n"
     ]
    }
   ],
   "source": [
    "#name属性  用于给Series及它的索引命名\n",
    "ser_obj2.name='测试数据集'\n",
    "ser_obj2.index.name='year'\n",
    "print(ser_obj2)"
   ]
  },
  {
   "cell_type": "code",
   "execution_count": null,
   "metadata": {
    "collapsed": true
   },
   "outputs": [],
   "source": []
  },
  {
   "cell_type": "code",
   "execution_count": 15,
   "metadata": {},
   "outputs": [
    {
     "name": "stdout",
     "output_type": "stream",
     "text": [
      "[[-1.2081783   1.15021712  0.27211575 -0.58274508]\n",
      " [ 0.30968447  0.13456216  1.28838123  0.70719378]\n",
      " [-0.86374432  0.13294968  0.81983891  0.27258811]\n",
      " [-0.07331036  1.32108825  0.59575186  0.29821662]\n",
      " [-1.00480024 -3.65921497  0.63711836  0.59385888]]\n",
      "          0         1         2         3\n",
      "0 -1.208178  1.150217  0.272116 -0.582745\n",
      "1  0.309684  0.134562  1.288381  0.707194\n",
      "2 -0.863744  0.132950  0.819839  0.272588\n",
      "3 -0.073310  1.321088  0.595752  0.298217\n",
      "4 -1.004800 -3.659215  0.637118  0.593859\n"
     ]
    }
   ],
   "source": [
    "import numpy as np\n",
    "\n",
    "#1.通过ndarray构建DataFrame\n",
    "#randn()  从标准正态分布中返回一个或多个样本值\n",
    "array=np.random.randn(5,4)  # 5行4列\n",
    "print(array)\n",
    "\n",
    "df_obj=pd.DataFrame(array)\n",
    "print(df_obj.head())"
   ]
  },
  {
   "cell_type": "code",
   "execution_count": 16,
   "metadata": {},
   "outputs": [
    {
     "name": "stdout",
     "output_type": "stream",
     "text": [
      "   A          B    C  D       E            F\n",
      "0  1 2016-12-17  1.0  3  Python  ChinaHadoop\n",
      "1  1 2016-12-17  1.0  3    Java  ChinaHadoop\n",
      "2  1 2016-12-17  1.0  3     C++  ChinaHadoop\n",
      "3  1 2016-12-17  1.0  3      c#  ChinaHadoop\n"
     ]
    }
   ],
   "source": [
    "# 通过dict构建DataFrame  dataframe中的每个列的数据可以是不同的类型\n",
    "dict_data={\n",
    "            'A':1,\n",
    "            'B':pd.Timestamp('20161217'),\n",
    "            'C':pd.Series(1,index=list(range(4)),dtype='float32'),\n",
    "            'D':np.array([3]*4,dtype='int32'),\n",
    "            'E':pd.Categorical(['Python','Java','C++','c#']),\n",
    "            'F':'ChinaHadoop'\n",
    "            }\n",
    "df_obj2=pd.DataFrame(dict_data)\n",
    "print(df_obj2.head())"
   ]
  },
  {
   "cell_type": "code",
   "execution_count": 17,
   "metadata": {},
   "outputs": [
    {
     "name": "stdout",
     "output_type": "stream",
     "text": [
      "0    1\n",
      "1    1\n",
      "2    1\n",
      "3    1\n",
      "Name: A, dtype: int64\n",
      "<class 'pandas.core.series.Series'>\n",
      "0    1\n",
      "1    1\n",
      "2    1\n",
      "3    1\n",
      "Name: A, dtype: int64\n"
     ]
    }
   ],
   "source": [
    "#通过索引来获取数据\n",
    "print(df_obj2['A'])\n",
    "print(type(df_obj2['A']  )  )\n",
    "\n",
    "print(df_obj2.A)"
   ]
  },
  {
   "cell_type": "code",
   "execution_count": 18,
   "metadata": {},
   "outputs": [
    {
     "name": "stdout",
     "output_type": "stream",
     "text": [
      "   A          B    C  D       E            F  G\n",
      "0  1 2016-12-17  1.0  3  Python  ChinaHadoop  7\n",
      "1  1 2016-12-17  1.0  3    Java  ChinaHadoop  7\n",
      "2  1 2016-12-17  1.0  3     C++  ChinaHadoop  7\n",
      "3  1 2016-12-17  1.0  3      c#  ChinaHadoop  7\n"
     ]
    }
   ],
   "source": [
    "#增加列\n",
    "df_obj2['G']=df_obj2[\"D\"]+4\n",
    "print(df_obj2.head())"
   ]
  },
  {
   "cell_type": "markdown",
   "metadata": {},
   "source": [
    "# 索引对象  index"
   ]
  },
  {
   "cell_type": "code",
   "execution_count": 19,
   "metadata": {},
   "outputs": [
    {
     "name": "stdout",
     "output_type": "stream",
     "text": [
      "<class 'pandas.core.indexes.range.RangeIndex'>\n",
      "<class 'pandas.core.indexes.numeric.Int64Index'>\n",
      "Int64Index([0, 1, 2, 3], dtype='int64')\n"
     ]
    }
   ],
   "source": [
    "print(type(ser_obj.index))\n",
    "print(type(df_obj2.index))\n",
    "\n",
    "print(df_obj2.index)"
   ]
  },
  {
   "cell_type": "code",
   "execution_count": 20,
   "metadata": {},
   "outputs": [
    {
     "ename": "TypeError",
     "evalue": "Index does not support mutable operations",
     "output_type": "error",
     "traceback": [
      "\u001b[1;31m---------------------------------------------------------------------------\u001b[0m",
      "\u001b[1;31mTypeError\u001b[0m                                 Traceback (most recent call last)",
      "\u001b[1;32m<ipython-input-20-fec9c015b2dc>\u001b[0m in \u001b[0;36m<module>\u001b[1;34m()\u001b[0m\n\u001b[0;32m      1\u001b[0m \u001b[1;31m#索引对象不可以变  操作失败\u001b[0m\u001b[1;33m\u001b[0m\u001b[1;33m\u001b[0m\u001b[0m\n\u001b[1;32m----> 2\u001b[1;33m \u001b[0mdf_obj2\u001b[0m\u001b[1;33m.\u001b[0m\u001b[0mindex\u001b[0m\u001b[1;33m[\u001b[0m\u001b[1;36m0\u001b[0m\u001b[1;33m]\u001b[0m\u001b[1;33m=\u001b[0m\u001b[1;36m2\u001b[0m\u001b[1;33m\u001b[0m\u001b[0m\n\u001b[0m",
      "\u001b[1;32mC:\\ProgramData\\Anaconda3\\lib\\site-packages\\pandas\\core\\indexes\\base.py\u001b[0m in \u001b[0;36m__setitem__\u001b[1;34m(self, key, value)\u001b[0m\n\u001b[0;32m   1668\u001b[0m \u001b[1;33m\u001b[0m\u001b[0m\n\u001b[0;32m   1669\u001b[0m     \u001b[1;32mdef\u001b[0m \u001b[0m__setitem__\u001b[0m\u001b[1;33m(\u001b[0m\u001b[0mself\u001b[0m\u001b[1;33m,\u001b[0m \u001b[0mkey\u001b[0m\u001b[1;33m,\u001b[0m \u001b[0mvalue\u001b[0m\u001b[1;33m)\u001b[0m\u001b[1;33m:\u001b[0m\u001b[1;33m\u001b[0m\u001b[0m\n\u001b[1;32m-> 1670\u001b[1;33m         \u001b[1;32mraise\u001b[0m \u001b[0mTypeError\u001b[0m\u001b[1;33m(\u001b[0m\u001b[1;34m\"Index does not support mutable operations\"\u001b[0m\u001b[1;33m)\u001b[0m\u001b[1;33m\u001b[0m\u001b[0m\n\u001b[0m\u001b[0;32m   1671\u001b[0m \u001b[1;33m\u001b[0m\u001b[0m\n\u001b[0;32m   1672\u001b[0m     \u001b[1;32mdef\u001b[0m \u001b[0m__getitem__\u001b[0m\u001b[1;33m(\u001b[0m\u001b[0mself\u001b[0m\u001b[1;33m,\u001b[0m \u001b[0mkey\u001b[0m\u001b[1;33m)\u001b[0m\u001b[1;33m:\u001b[0m\u001b[1;33m\u001b[0m\u001b[0m\n",
      "\u001b[1;31mTypeError\u001b[0m: Index does not support mutable operations"
     ]
    }
   ],
   "source": [
    "#索引对象不可以变  操作失败\n",
    "df_obj2.index[0]=2"
   ]
  },
  {
   "cell_type": "code",
   "execution_count": null,
   "metadata": {
    "collapsed": true
   },
   "outputs": [],
   "source": []
  }
 ],
 "metadata": {
  "kernelspec": {
   "display_name": "Python 3",
   "language": "python",
   "name": "python3"
  },
  "language_info": {
   "codemirror_mode": {
    "name": "ipython",
    "version": 3
   },
   "file_extension": ".py",
   "mimetype": "text/x-python",
   "name": "python",
   "nbconvert_exporter": "python",
   "pygments_lexer": "ipython3",
   "version": "3.6.2"
  }
 },
 "nbformat": 4,
 "nbformat_minor": 2
}
