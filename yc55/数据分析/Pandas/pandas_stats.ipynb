{
 "cells": [
  {
   "cell_type": "markdown",
   "metadata": {},
   "source": [
    "# Pandas统计计算与描述"
   ]
  },
  {
   "cell_type": "code",
   "execution_count": 1,
   "metadata": {
    "collapsed": true
   },
   "outputs": [],
   "source": [
    "import numpy as np\n",
    "import pandas as pd"
   ]
  },
  {
   "cell_type": "markdown",
   "metadata": {},
   "source": [
    "#### 常用的统计计算"
   ]
  },
  {
   "cell_type": "code",
   "execution_count": 2,
   "metadata": {},
   "outputs": [
    {
     "data": {
      "text/html": [
       "<div>\n",
       "<style>\n",
       "    .dataframe thead tr:only-child th {\n",
       "        text-align: right;\n",
       "    }\n",
       "\n",
       "    .dataframe thead th {\n",
       "        text-align: left;\n",
       "    }\n",
       "\n",
       "    .dataframe tbody tr th {\n",
       "        vertical-align: top;\n",
       "    }\n",
       "</style>\n",
       "<table border=\"1\" class=\"dataframe\">\n",
       "  <thead>\n",
       "    <tr style=\"text-align: right;\">\n",
       "      <th></th>\n",
       "      <th>a</th>\n",
       "      <th>b</th>\n",
       "      <th>c</th>\n",
       "      <th>d</th>\n",
       "    </tr>\n",
       "  </thead>\n",
       "  <tbody>\n",
       "    <tr>\n",
       "      <th>0</th>\n",
       "      <td>-2.385415</td>\n",
       "      <td>-0.697554</td>\n",
       "      <td>-0.978053</td>\n",
       "      <td>-0.815104</td>\n",
       "    </tr>\n",
       "    <tr>\n",
       "      <th>1</th>\n",
       "      <td>-0.600360</td>\n",
       "      <td>0.061495</td>\n",
       "      <td>-0.091062</td>\n",
       "      <td>0.021432</td>\n",
       "    </tr>\n",
       "    <tr>\n",
       "      <th>2</th>\n",
       "      <td>-0.201941</td>\n",
       "      <td>1.091226</td>\n",
       "      <td>-2.287691</td>\n",
       "      <td>0.032318</td>\n",
       "    </tr>\n",
       "    <tr>\n",
       "      <th>3</th>\n",
       "      <td>0.054010</td>\n",
       "      <td>-0.285266</td>\n",
       "      <td>0.041860</td>\n",
       "      <td>-0.225289</td>\n",
       "    </tr>\n",
       "    <tr>\n",
       "      <th>4</th>\n",
       "      <td>-0.172632</td>\n",
       "      <td>-1.953686</td>\n",
       "      <td>-0.374657</td>\n",
       "      <td>2.162701</td>\n",
       "    </tr>\n",
       "  </tbody>\n",
       "</table>\n",
       "</div>"
      ],
      "text/plain": [
       "          a         b         c         d\n",
       "0 -2.385415 -0.697554 -0.978053 -0.815104\n",
       "1 -0.600360  0.061495 -0.091062  0.021432\n",
       "2 -0.201941  1.091226 -2.287691  0.032318\n",
       "3  0.054010 -0.285266  0.041860 -0.225289\n",
       "4 -0.172632 -1.953686 -0.374657  2.162701"
      ]
     },
     "execution_count": 2,
     "metadata": {},
     "output_type": "execute_result"
    }
   ],
   "source": [
    "df_obj=pd.DataFrame( np.random.randn(5,4), columns=['a','b','c','d'] )\n",
    "df_obj"
   ]
  },
  {
   "cell_type": "code",
   "execution_count": 3,
   "metadata": {},
   "outputs": [
    {
     "name": "stdout",
     "output_type": "stream",
     "text": [
      "a   -3.306337\n",
      "b   -1.783784\n",
      "c   -3.689603\n",
      "d    1.176058\n",
      "dtype: float64\n",
      "0   -4.876126\n",
      "1   -0.608495\n",
      "2   -1.366088\n",
      "3   -0.414684\n",
      "4   -0.338273\n",
      "dtype: float64\n"
     ]
    }
   ],
   "source": [
    "print(df_obj.sum())  #可以通过axis来指定行或列  \n",
    "print(df_obj.sum(axis=1))  #0 列  1行"
   ]
  },
  {
   "cell_type": "code",
   "execution_count": 4,
   "metadata": {},
   "outputs": [
    {
     "data": {
      "text/plain": [
       "a    0.054010\n",
       "b    1.091226\n",
       "c    0.041860\n",
       "d    2.162701\n",
       "dtype: float64"
      ]
     },
     "execution_count": 4,
     "metadata": {},
     "output_type": "execute_result"
    }
   ],
   "source": [
    "df_obj.max()"
   ]
  },
  {
   "cell_type": "code",
   "execution_count": 5,
   "metadata": {},
   "outputs": [
    {
     "data": {
      "text/plain": [
       "0   -2.385415\n",
       "1   -0.600360\n",
       "2   -2.287691\n",
       "3   -0.285266\n",
       "4   -1.953686\n",
       "dtype: float64"
      ]
     },
     "execution_count": 5,
     "metadata": {},
     "output_type": "execute_result"
    }
   ],
   "source": [
    "df_obj.min(axis=1)"
   ]
  },
  {
   "cell_type": "code",
   "execution_count": 6,
   "metadata": {},
   "outputs": [
    {
     "data": {
      "text/plain": [
       "a   -2.385415\n",
       "b   -1.953686\n",
       "c   -2.287691\n",
       "d   -0.815104\n",
       "dtype: float64"
      ]
     },
     "execution_count": 6,
     "metadata": {},
     "output_type": "execute_result"
    }
   ],
   "source": [
    "df_obj.min(axis=0)"
   ]
  },
  {
   "cell_type": "markdown",
   "metadata": {},
   "source": [
    "#### 统计描述"
   ]
  },
  {
   "cell_type": "code",
   "execution_count": 7,
   "metadata": {},
   "outputs": [
    {
     "data": {
      "text/html": [
       "<div>\n",
       "<style>\n",
       "    .dataframe thead tr:only-child th {\n",
       "        text-align: right;\n",
       "    }\n",
       "\n",
       "    .dataframe thead th {\n",
       "        text-align: left;\n",
       "    }\n",
       "\n",
       "    .dataframe tbody tr th {\n",
       "        vertical-align: top;\n",
       "    }\n",
       "</style>\n",
       "<table border=\"1\" class=\"dataframe\">\n",
       "  <thead>\n",
       "    <tr style=\"text-align: right;\">\n",
       "      <th></th>\n",
       "      <th>a</th>\n",
       "      <th>b</th>\n",
       "      <th>c</th>\n",
       "      <th>d</th>\n",
       "    </tr>\n",
       "  </thead>\n",
       "  <tbody>\n",
       "    <tr>\n",
       "      <th>count</th>\n",
       "      <td>5.000000</td>\n",
       "      <td>5.000000</td>\n",
       "      <td>5.000000</td>\n",
       "      <td>5.000000</td>\n",
       "    </tr>\n",
       "    <tr>\n",
       "      <th>mean</th>\n",
       "      <td>-0.661267</td>\n",
       "      <td>-0.356757</td>\n",
       "      <td>-0.737921</td>\n",
       "      <td>0.235212</td>\n",
       "    </tr>\n",
       "    <tr>\n",
       "      <th>std</th>\n",
       "      <td>0.992190</td>\n",
       "      <td>1.111646</td>\n",
       "      <td>0.951038</td>\n",
       "      <td>1.131073</td>\n",
       "    </tr>\n",
       "    <tr>\n",
       "      <th>min</th>\n",
       "      <td>-2.385415</td>\n",
       "      <td>-1.953686</td>\n",
       "      <td>-2.287691</td>\n",
       "      <td>-0.815104</td>\n",
       "    </tr>\n",
       "    <tr>\n",
       "      <th>25%</th>\n",
       "      <td>-0.600360</td>\n",
       "      <td>-0.697554</td>\n",
       "      <td>-0.978053</td>\n",
       "      <td>-0.225289</td>\n",
       "    </tr>\n",
       "    <tr>\n",
       "      <th>50%</th>\n",
       "      <td>-0.201941</td>\n",
       "      <td>-0.285266</td>\n",
       "      <td>-0.374657</td>\n",
       "      <td>0.021432</td>\n",
       "    </tr>\n",
       "    <tr>\n",
       "      <th>75%</th>\n",
       "      <td>-0.172632</td>\n",
       "      <td>0.061495</td>\n",
       "      <td>-0.091062</td>\n",
       "      <td>0.032318</td>\n",
       "    </tr>\n",
       "    <tr>\n",
       "      <th>max</th>\n",
       "      <td>0.054010</td>\n",
       "      <td>1.091226</td>\n",
       "      <td>0.041860</td>\n",
       "      <td>2.162701</td>\n",
       "    </tr>\n",
       "  </tbody>\n",
       "</table>\n",
       "</div>"
      ],
      "text/plain": [
       "              a         b         c         d\n",
       "count  5.000000  5.000000  5.000000  5.000000\n",
       "mean  -0.661267 -0.356757 -0.737921  0.235212\n",
       "std    0.992190  1.111646  0.951038  1.131073\n",
       "min   -2.385415 -1.953686 -2.287691 -0.815104\n",
       "25%   -0.600360 -0.697554 -0.978053 -0.225289\n",
       "50%   -0.201941 -0.285266 -0.374657  0.021432\n",
       "75%   -0.172632  0.061495 -0.091062  0.032318\n",
       "max    0.054010  1.091226  0.041860  2.162701"
      ]
     },
     "execution_count": 7,
     "metadata": {},
     "output_type": "execute_result"
    }
   ],
   "source": [
    "df_obj.describe()"
   ]
  },
  {
   "cell_type": "code",
   "execution_count": null,
   "metadata": {
    "collapsed": true
   },
   "outputs": [],
   "source": []
  }
 ],
 "metadata": {
  "kernelspec": {
   "display_name": "Python 3",
   "language": "python",
   "name": "python3"
  },
  "language_info": {
   "codemirror_mode": {
    "name": "ipython",
    "version": 3
   },
   "file_extension": ".py",
   "mimetype": "text/x-python",
   "name": "python",
   "nbconvert_exporter": "python",
   "pygments_lexer": "ipython3",
   "version": "3.6.2"
  }
 },
 "nbformat": 4,
 "nbformat_minor": 2
}
