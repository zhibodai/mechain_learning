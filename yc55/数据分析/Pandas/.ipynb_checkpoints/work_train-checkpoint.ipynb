{
 "cells": [
  {
   "cell_type": "markdown",
   "metadata": {},
   "source": [
    "# 旅游案例"
   ]
  },
  {
   "cell_type": "code",
   "execution_count": 1,
   "metadata": {
    "collapsed": true
   },
   "outputs": [],
   "source": [
    "import numpy as np\n",
    "import pandas as pd"
   ]
  },
  {
   "cell_type": "code",
   "execution_count": 2,
   "metadata": {},
   "outputs": [
    {
     "data": {
      "text/html": [
       "<div>\n",
       "<style>\n",
       "    .dataframe thead tr:only-child th {\n",
       "        text-align: right;\n",
       "    }\n",
       "\n",
       "    .dataframe thead th {\n",
       "        text-align: left;\n",
       "    }\n",
       "\n",
       "    .dataframe tbody tr th {\n",
       "        vertical-align: top;\n",
       "    }\n",
       "</style>\n",
       "<table border=\"1\" class=\"dataframe\">\n",
       "  <thead>\n",
       "    <tr style=\"text-align: right;\">\n",
       "      <th></th>\n",
       "      <th>出发地</th>\n",
       "      <th>目的地</th>\n",
       "      <th>价格</th>\n",
       "      <th>节省</th>\n",
       "      <th>路线名</th>\n",
       "      <th>酒店</th>\n",
       "      <th>房间</th>\n",
       "      <th>去程航司</th>\n",
       "      <th>去程方式</th>\n",
       "      <th>去程时间</th>\n",
       "      <th>回程航司</th>\n",
       "      <th>回程方式</th>\n",
       "      <th>回程时间</th>\n",
       "    </tr>\n",
       "  </thead>\n",
       "  <tbody>\n",
       "    <tr>\n",
       "      <th>0</th>\n",
       "      <td>北京</td>\n",
       "      <td>厦门</td>\n",
       "      <td>1866</td>\n",
       "      <td>492</td>\n",
       "      <td>北京-厦门3天2晚 | 入住厦门温特雅酒店 + 联合航空/首都航空往返机票</td>\n",
       "      <td>厦门温特雅酒店 舒适型 3.9分/5分</td>\n",
       "      <td>标准房(大床)(预付) 大床 不含早 1间2晚</td>\n",
       "      <td>联合航空 KN5927</td>\n",
       "      <td>直飞</td>\n",
       "      <td>16:55-19:45</td>\n",
       "      <td>首都航空 JD5376</td>\n",
       "      <td>直飞</td>\n",
       "      <td>22:15-01:15</td>\n",
       "    </tr>\n",
       "    <tr>\n",
       "      <th>1</th>\n",
       "      <td>北京</td>\n",
       "      <td>厦门</td>\n",
       "      <td>2030</td>\n",
       "      <td>492</td>\n",
       "      <td>北京-厦门3天2晚 | 入住厦门华美达长升大酒店 + 联合航空/首都航空往返机票</td>\n",
       "      <td>厦门华美达长升大酒店 4.1分/5分</td>\n",
       "      <td>标准房(错峰出游) 大/双床 双早 1间2晚</td>\n",
       "      <td>联合航空 KN5927</td>\n",
       "      <td>直飞</td>\n",
       "      <td>16:55-19:45</td>\n",
       "      <td>首都航空 JD5376</td>\n",
       "      <td>直飞</td>\n",
       "      <td>22:15-01:15</td>\n",
       "    </tr>\n",
       "    <tr>\n",
       "      <th>2</th>\n",
       "      <td>北京</td>\n",
       "      <td>厦门</td>\n",
       "      <td>2139</td>\n",
       "      <td>533</td>\n",
       "      <td>北京-厦门3天2晚 | 入住厦门毕思特酒店 + 联合航空/首都航空往返机票</td>\n",
       "      <td>厦门毕思特酒店 高档型 4.4分/5分</td>\n",
       "      <td>标准大床房(特惠)[双... 大床 双早 1间2晚</td>\n",
       "      <td>联合航空 KN5927</td>\n",
       "      <td>直飞</td>\n",
       "      <td>16:55-19:45</td>\n",
       "      <td>首都航空 JD5376</td>\n",
       "      <td>直飞</td>\n",
       "      <td>22:15-01:15</td>\n",
       "    </tr>\n",
       "    <tr>\n",
       "      <th>3</th>\n",
       "      <td>北京</td>\n",
       "      <td>厦门</td>\n",
       "      <td>2141</td>\n",
       "      <td>502</td>\n",
       "      <td>北京-厦门3天2晚 | 入住厦门翔鹭国际大酒店 + 联合航空/首都航空往返机票</td>\n",
       "      <td>厦门翔鹭国际大酒店 豪华型 4.4分/5分</td>\n",
       "      <td>高级大床房(含单早) 其他 单早 1间2晚</td>\n",
       "      <td>联合航空 KN5927</td>\n",
       "      <td>直飞</td>\n",
       "      <td>16:55-19:45</td>\n",
       "      <td>首都航空 JD5376</td>\n",
       "      <td>直飞</td>\n",
       "      <td>22:15-01:15</td>\n",
       "    </tr>\n",
       "    <tr>\n",
       "      <th>4</th>\n",
       "      <td>北京</td>\n",
       "      <td>厦门</td>\n",
       "      <td>2159</td>\n",
       "      <td>524</td>\n",
       "      <td>北京-厦门3天2晚 | 入住厦门京闽中心酒店 + 联合航空/首都航空往返机票</td>\n",
       "      <td>厦门京闽中心酒店 4.5分/5分</td>\n",
       "      <td>高级房(双床)(新春特... 双床 双早 1间2晚</td>\n",
       "      <td>联合航空 KN5927</td>\n",
       "      <td>直飞</td>\n",
       "      <td>16:55-19:45</td>\n",
       "      <td>首都航空 JD5376</td>\n",
       "      <td>直飞</td>\n",
       "      <td>22:15-01:15</td>\n",
       "    </tr>\n",
       "  </tbody>\n",
       "</table>\n",
       "</div>"
      ],
      "text/plain": [
       "  出发地 目的地    价格   节省                                       路线名  \\\n",
       "0  北京  厦门  1866  492     北京-厦门3天2晚 | 入住厦门温特雅酒店 + 联合航空/首都航空往返机票   \n",
       "1  北京  厦门  2030  492  北京-厦门3天2晚 | 入住厦门华美达长升大酒店 + 联合航空/首都航空往返机票   \n",
       "2  北京  厦门  2139  533     北京-厦门3天2晚 | 入住厦门毕思特酒店 + 联合航空/首都航空往返机票   \n",
       "3  北京  厦门  2141  502   北京-厦门3天2晚 | 入住厦门翔鹭国际大酒店 + 联合航空/首都航空往返机票   \n",
       "4  北京  厦门  2159  524    北京-厦门3天2晚 | 入住厦门京闽中心酒店 + 联合航空/首都航空往返机票   \n",
       "\n",
       "                      酒店                         房间         去程航司 去程方式  \\\n",
       "0    厦门温特雅酒店 舒适型 3.9分/5分    标准房(大床)(预付) 大床 不含早 1间2晚  联合航空 KN5927   直飞   \n",
       "1     厦门华美达长升大酒店 4.1分/5分     标准房(错峰出游) 大/双床 双早 1间2晚  联合航空 KN5927   直飞   \n",
       "2    厦门毕思特酒店 高档型 4.4分/5分  标准大床房(特惠)[双... 大床 双早 1间2晚  联合航空 KN5927   直飞   \n",
       "3  厦门翔鹭国际大酒店 豪华型 4.4分/5分      高级大床房(含单早) 其他 单早 1间2晚  联合航空 KN5927   直飞   \n",
       "4       厦门京闽中心酒店 4.5分/5分  高级房(双床)(新春特... 双床 双早 1间2晚  联合航空 KN5927   直飞   \n",
       "\n",
       "          去程时间         回程航司 回程方式         回程时间  \n",
       "0  16:55-19:45  首都航空 JD5376   直飞  22:15-01:15  \n",
       "1  16:55-19:45  首都航空 JD5376   直飞  22:15-01:15  \n",
       "2  16:55-19:45  首都航空 JD5376   直飞  22:15-01:15  \n",
       "3  16:55-19:45  首都航空 JD5376   直飞  22:15-01:15  \n",
       "4  16:55-19:45  首都航空 JD5376   直飞  22:15-01:15  "
      ]
     },
     "execution_count": 2,
     "metadata": {},
     "output_type": "execute_result"
    }
   ],
   "source": [
    "df=pd.read_csv('E:/yc_55/qunar_free_trip.csv')\n",
    "df.head()"
   ]
  },
  {
   "cell_type": "code",
   "execution_count": 3,
   "metadata": {},
   "outputs": [
    {
     "data": {
      "text/plain": [
       "False    30691\n",
       "True       130\n",
       "dtype: int64"
      ]
     },
     "execution_count": 3,
     "metadata": {},
     "output_type": "execute_result"
    }
   ],
   "source": [
    "#是否有重复\n",
    "df.duplicated().value_counts()"
   ]
  },
  {
   "cell_type": "code",
   "execution_count": 4,
   "metadata": {},
   "outputs": [
    {
     "data": {
      "text/plain": [
       "False    30691\n",
       "dtype: int64"
      ]
     },
     "execution_count": 4,
     "metadata": {},
     "output_type": "execute_result"
    }
   ],
   "source": [
    "df=df.drop_duplicates()\n",
    "df.duplicated().value_counts()"
   ]
  },
  {
   "cell_type": "code",
   "execution_count": 5,
   "metadata": {},
   "outputs": [
    {
     "data": {
      "text/html": [
       "<div>\n",
       "<style>\n",
       "    .dataframe thead tr:only-child th {\n",
       "        text-align: right;\n",
       "    }\n",
       "\n",
       "    .dataframe thead th {\n",
       "        text-align: left;\n",
       "    }\n",
       "\n",
       "    .dataframe tbody tr th {\n",
       "        vertical-align: top;\n",
       "    }\n",
       "</style>\n",
       "<table border=\"1\" class=\"dataframe\">\n",
       "  <thead>\n",
       "    <tr style=\"text-align: right;\">\n",
       "      <th></th>\n",
       "      <th>价格</th>\n",
       "      <th>节省</th>\n",
       "    </tr>\n",
       "  </thead>\n",
       "  <tbody>\n",
       "    <tr>\n",
       "      <th>count</th>\n",
       "      <td>30691.000000</td>\n",
       "      <td>30691.000000</td>\n",
       "    </tr>\n",
       "    <tr>\n",
       "      <th>mean</th>\n",
       "      <td>1734.980906</td>\n",
       "      <td>473.514548</td>\n",
       "    </tr>\n",
       "    <tr>\n",
       "      <th>std</th>\n",
       "      <td>649.396418</td>\n",
       "      <td>152.293192</td>\n",
       "    </tr>\n",
       "    <tr>\n",
       "      <th>min</th>\n",
       "      <td>541.000000</td>\n",
       "      <td>302.000000</td>\n",
       "    </tr>\n",
       "    <tr>\n",
       "      <th>25%</th>\n",
       "      <td>1254.000000</td>\n",
       "      <td>358.000000</td>\n",
       "    </tr>\n",
       "    <tr>\n",
       "      <th>50%</th>\n",
       "      <td>1644.000000</td>\n",
       "      <td>438.000000</td>\n",
       "    </tr>\n",
       "    <tr>\n",
       "      <th>75%</th>\n",
       "      <td>2043.000000</td>\n",
       "      <td>532.000000</td>\n",
       "    </tr>\n",
       "    <tr>\n",
       "      <th>max</th>\n",
       "      <td>6792.000000</td>\n",
       "      <td>1830.000000</td>\n",
       "    </tr>\n",
       "  </tbody>\n",
       "</table>\n",
       "</div>"
      ],
      "text/plain": [
       "                 价格            节省\n",
       "count  30691.000000  30691.000000\n",
       "mean    1734.980906    473.514548\n",
       "std      649.396418    152.293192\n",
       "min      541.000000    302.000000\n",
       "25%     1254.000000    358.000000\n",
       "50%     1644.000000    438.000000\n",
       "75%     2043.000000    532.000000\n",
       "max     6792.000000   1830.000000"
      ]
     },
     "execution_count": 5,
     "metadata": {},
     "output_type": "execute_result"
    }
   ],
   "source": [
    "#查看描述性统计信息\n",
    "df.describe()"
   ]
  },
  {
   "cell_type": "code",
   "execution_count": 8,
   "metadata": {},
   "outputs": [
    {
     "data": {
      "image/png": "[encoded data removed]",
      "text/plain": [
       "<matplotlib.figure.Figure at 0x270ec9fde80>"
      ]
     },
     "metadata": {},
     "output_type": "display_data"
    }
   ],
   "source": [
    "#画出价格分布的直方图和箱行图\n",
    "%matplotlib inline\n",
    "import matplotlib as mpl\n",
    "import matplotlib.pyplot as plt\n",
    "fig,axes=plt.subplots(1,2,figsize=(12,5) )  #subplots(行,列)\n",
    "axes[0].hist(df['价格'],bins=20)  #max , min  max-min/20       \n",
    "'''\n",
    "先找出一组数据的最大值，最小值，中位数，和两个四分位数；然后，连接两个四分位数画出箱子，在将最大值与最小值与箱子连接起来，中位数在箱子中间\n",
    "'''\n",
    "df.boxplot(column='价格',ax=axes[1])\n",
    "fig.tight_layout()"
   ]
  },
  {
   "cell_type": "code",
   "execution_count": null,
   "metadata": {
    "collapsed": true
   },
   "outputs": [],
   "source": [
    "# z-score 标准分数\n",
    "# 将观察值减去该组观察值的平均水平  再除以标准差得到\n",
    "'''\n",
    "函数曲线下68.268%的面积在平均数左右的一个标准差范围内\n",
    "          95.449%在平均数左右的二个标准差范围内\n",
    "          99.730%在平均数左右的三个标准差范围内\n",
    "'''\n",
    "d=df['价格']\n",
    "zscore=(d-d.mean()/d.std())\n",
    "df['isOutlier']=zscore.abs()>3         # z的绝对值表示在标准差范围内的原始分数与总体均值之间的距离  异常点通常设定为2.5  3.0  3.5\n",
    "print( df['isOutlier'].value_counts() )\n",
    "df[df['isOutlier']==True]"
   ]
  }
 ],
 "metadata": {
  "kernelspec": {
   "display_name": "Python 3",
   "language": "python",
   "name": "python3"
  },
  "language_info": {
   "codemirror_mode": {
    "name": "ipython",
    "version": 3
   },
   "file_extension": ".py",
   "mimetype": "text/x-python",
   "name": "python",
   "nbconvert_exporter": "python",
   "pygments_lexer": "ipython3",
   "version": "3.6.2"
  }
 },
 "nbformat": 4,
 "nbformat_minor": 2
}
