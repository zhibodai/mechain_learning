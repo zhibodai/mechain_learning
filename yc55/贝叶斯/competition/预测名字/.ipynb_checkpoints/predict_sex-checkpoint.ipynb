{
 "cells": [
  {
   "cell_type": "code",
   "execution_count": 64,
   "metadata": {
    "collapsed": true
   },
   "outputs": [],
   "source": [
    "import pandas as pd\n",
    "import math\n",
    "from collections import defaultdict"
   ]
  },
  {
   "cell_type": "code",
   "execution_count": 65,
   "metadata": {},
   "outputs": [
    {
     "data": {
      "text/html": [
       "<div>\n",
       "<style>\n",
       "    .dataframe thead tr:only-child th {\n",
       "        text-align: right;\n",
       "    }\n",
       "\n",
       "    .dataframe thead th {\n",
       "        text-align: left;\n",
       "    }\n",
       "\n",
       "    .dataframe tbody tr th {\n",
       "        vertical-align: top;\n",
       "    }\n",
       "</style>\n",
       "<table border=\"1\" class=\"dataframe\">\n",
       "  <thead>\n",
       "    <tr style=\"text-align: right;\">\n",
       "      <th></th>\n",
       "      <th>id</th>\n",
       "      <th>gender</th>\n",
       "    </tr>\n",
       "  </thead>\n",
       "  <tbody>\n",
       "    <tr>\n",
       "      <th>count</th>\n",
       "      <td>119897.00000</td>\n",
       "      <td>119897.000000</td>\n",
       "    </tr>\n",
       "    <tr>\n",
       "      <th>mean</th>\n",
       "      <td>59949.00000</td>\n",
       "      <td>0.555569</td>\n",
       "    </tr>\n",
       "    <tr>\n",
       "      <th>std</th>\n",
       "      <td>34611.42695</td>\n",
       "      <td>0.496905</td>\n",
       "    </tr>\n",
       "    <tr>\n",
       "      <th>min</th>\n",
       "      <td>1.00000</td>\n",
       "      <td>0.000000</td>\n",
       "    </tr>\n",
       "    <tr>\n",
       "      <th>25%</th>\n",
       "      <td>29975.00000</td>\n",
       "      <td>0.000000</td>\n",
       "    </tr>\n",
       "    <tr>\n",
       "      <th>50%</th>\n",
       "      <td>59949.00000</td>\n",
       "      <td>1.000000</td>\n",
       "    </tr>\n",
       "    <tr>\n",
       "      <th>75%</th>\n",
       "      <td>89923.00000</td>\n",
       "      <td>1.000000</td>\n",
       "    </tr>\n",
       "    <tr>\n",
       "      <th>max</th>\n",
       "      <td>119897.00000</td>\n",
       "      <td>1.000000</td>\n",
       "    </tr>\n",
       "  </tbody>\n",
       "</table>\n",
       "</div>"
      ],
      "text/plain": [
       "                 id         gender\n",
       "count  119897.00000  119897.000000\n",
       "mean    59949.00000       0.555569\n",
       "std     34611.42695       0.496905\n",
       "min         1.00000       0.000000\n",
       "25%     29975.00000       0.000000\n",
       "50%     59949.00000       1.000000\n",
       "75%     89923.00000       1.000000\n",
       "max    119897.00000       1.000000"
      ]
     },
     "execution_count": 65,
     "metadata": {},
     "output_type": "execute_result"
    }
   ],
   "source": [
    "file=pd.read_csv('train1.txt')\n",
    "file.describe()"
   ]
  },
  {
   "cell_type": "code",
   "execution_count": 66,
   "metadata": {},
   "outputs": [
    {
     "data": {
      "text/html": [
       "<div>\n",
       "<style>\n",
       "    .dataframe thead tr:only-child th {\n",
       "        text-align: right;\n",
       "    }\n",
       "\n",
       "    .dataframe thead th {\n",
       "        text-align: left;\n",
       "    }\n",
       "\n",
       "    .dataframe tbody tr th {\n",
       "        vertical-align: top;\n",
       "    }\n",
       "</style>\n",
       "<table border=\"1\" class=\"dataframe\">\n",
       "  <thead>\n",
       "    <tr style=\"text-align: right;\">\n",
       "      <th></th>\n",
       "      <th>name</th>\n",
       "      <th>gender</th>\n",
       "    </tr>\n",
       "  </thead>\n",
       "  <tbody>\n",
       "    <tr>\n",
       "      <th>0</th>\n",
       "      <td>闳家</td>\n",
       "      <td>1</td>\n",
       "    </tr>\n",
       "    <tr>\n",
       "      <th>1</th>\n",
       "      <td>玉璎</td>\n",
       "      <td>0</td>\n",
       "    </tr>\n",
       "    <tr>\n",
       "      <th>2</th>\n",
       "      <td>于邺</td>\n",
       "      <td>1</td>\n",
       "    </tr>\n",
       "    <tr>\n",
       "      <th>3</th>\n",
       "      <td>越英</td>\n",
       "      <td>0</td>\n",
       "    </tr>\n",
       "    <tr>\n",
       "      <th>4</th>\n",
       "      <td>蕴萱</td>\n",
       "      <td>0</td>\n",
       "    </tr>\n",
       "    <tr>\n",
       "      <th>5</th>\n",
       "      <td>子颀</td>\n",
       "      <td>0</td>\n",
       "    </tr>\n",
       "    <tr>\n",
       "      <th>6</th>\n",
       "      <td>靖曦</td>\n",
       "      <td>0</td>\n",
       "    </tr>\n",
       "    <tr>\n",
       "      <th>7</th>\n",
       "      <td>鲁莱</td>\n",
       "      <td>1</td>\n",
       "    </tr>\n",
       "    <tr>\n",
       "      <th>8</th>\n",
       "      <td>永远</td>\n",
       "      <td>1</td>\n",
       "    </tr>\n",
       "    <tr>\n",
       "      <th>9</th>\n",
       "      <td>红孙</td>\n",
       "      <td>1</td>\n",
       "    </tr>\n",
       "    <tr>\n",
       "      <th>10</th>\n",
       "      <td>增</td>\n",
       "      <td>1</td>\n",
       "    </tr>\n",
       "    <tr>\n",
       "      <th>11</th>\n",
       "      <td>凤兰</td>\n",
       "      <td>0</td>\n",
       "    </tr>\n",
       "    <tr>\n",
       "      <th>12</th>\n",
       "      <td>垚佳</td>\n",
       "      <td>0</td>\n",
       "    </tr>\n",
       "    <tr>\n",
       "      <th>13</th>\n",
       "      <td>景棋</td>\n",
       "      <td>1</td>\n",
       "    </tr>\n",
       "    <tr>\n",
       "      <th>14</th>\n",
       "      <td>明芳</td>\n",
       "      <td>0</td>\n",
       "    </tr>\n",
       "    <tr>\n",
       "      <th>15</th>\n",
       "      <td>寇涛</td>\n",
       "      <td>1</td>\n",
       "    </tr>\n",
       "    <tr>\n",
       "      <th>16</th>\n",
       "      <td>桦琙</td>\n",
       "      <td>1</td>\n",
       "    </tr>\n",
       "    <tr>\n",
       "      <th>17</th>\n",
       "      <td>巧彤</td>\n",
       "      <td>0</td>\n",
       "    </tr>\n",
       "    <tr>\n",
       "      <th>18</th>\n",
       "      <td>傲菲</td>\n",
       "      <td>0</td>\n",
       "    </tr>\n",
       "    <tr>\n",
       "      <th>19</th>\n",
       "      <td>曾年</td>\n",
       "      <td>0</td>\n",
       "    </tr>\n",
       "    <tr>\n",
       "      <th>20</th>\n",
       "      <td>闰</td>\n",
       "      <td>1</td>\n",
       "    </tr>\n",
       "    <tr>\n",
       "      <th>21</th>\n",
       "      <td>蕙芯</td>\n",
       "      <td>0</td>\n",
       "    </tr>\n",
       "    <tr>\n",
       "      <th>22</th>\n",
       "      <td>芷锋</td>\n",
       "      <td>1</td>\n",
       "    </tr>\n",
       "    <tr>\n",
       "      <th>23</th>\n",
       "      <td>连庆</td>\n",
       "      <td>1</td>\n",
       "    </tr>\n",
       "    <tr>\n",
       "      <th>24</th>\n",
       "      <td>心健</td>\n",
       "      <td>1</td>\n",
       "    </tr>\n",
       "    <tr>\n",
       "      <th>25</th>\n",
       "      <td>伦能</td>\n",
       "      <td>1</td>\n",
       "    </tr>\n",
       "    <tr>\n",
       "      <th>26</th>\n",
       "      <td>能玲</td>\n",
       "      <td>0</td>\n",
       "    </tr>\n",
       "    <tr>\n",
       "      <th>27</th>\n",
       "      <td>倩澄</td>\n",
       "      <td>0</td>\n",
       "    </tr>\n",
       "    <tr>\n",
       "      <th>28</th>\n",
       "      <td>永鹏</td>\n",
       "      <td>1</td>\n",
       "    </tr>\n",
       "    <tr>\n",
       "      <th>29</th>\n",
       "      <td>鑫昊</td>\n",
       "      <td>1</td>\n",
       "    </tr>\n",
       "    <tr>\n",
       "      <th>...</th>\n",
       "      <td>...</td>\n",
       "      <td>...</td>\n",
       "    </tr>\n",
       "    <tr>\n",
       "      <th>119867</th>\n",
       "      <td>曦妃</td>\n",
       "      <td>0</td>\n",
       "    </tr>\n",
       "    <tr>\n",
       "      <th>119868</th>\n",
       "      <td>朝鲜</td>\n",
       "      <td>1</td>\n",
       "    </tr>\n",
       "    <tr>\n",
       "      <th>119869</th>\n",
       "      <td>圳畴</td>\n",
       "      <td>1</td>\n",
       "    </tr>\n",
       "    <tr>\n",
       "      <th>119870</th>\n",
       "      <td>甜蜜</td>\n",
       "      <td>0</td>\n",
       "    </tr>\n",
       "    <tr>\n",
       "      <th>119871</th>\n",
       "      <td>羿男</td>\n",
       "      <td>1</td>\n",
       "    </tr>\n",
       "    <tr>\n",
       "      <th>119872</th>\n",
       "      <td>子贞</td>\n",
       "      <td>0</td>\n",
       "    </tr>\n",
       "    <tr>\n",
       "      <th>119873</th>\n",
       "      <td>越铭</td>\n",
       "      <td>1</td>\n",
       "    </tr>\n",
       "    <tr>\n",
       "      <th>119874</th>\n",
       "      <td>鸾征</td>\n",
       "      <td>1</td>\n",
       "    </tr>\n",
       "    <tr>\n",
       "      <th>119875</th>\n",
       "      <td>可洄</td>\n",
       "      <td>1</td>\n",
       "    </tr>\n",
       "    <tr>\n",
       "      <th>119876</th>\n",
       "      <td>映鹏</td>\n",
       "      <td>1</td>\n",
       "    </tr>\n",
       "    <tr>\n",
       "      <th>119877</th>\n",
       "      <td>夷</td>\n",
       "      <td>0</td>\n",
       "    </tr>\n",
       "    <tr>\n",
       "      <th>119878</th>\n",
       "      <td>熙卿</td>\n",
       "      <td>0</td>\n",
       "    </tr>\n",
       "    <tr>\n",
       "      <th>119879</th>\n",
       "      <td>莎苹</td>\n",
       "      <td>0</td>\n",
       "    </tr>\n",
       "    <tr>\n",
       "      <th>119880</th>\n",
       "      <td>优</td>\n",
       "      <td>1</td>\n",
       "    </tr>\n",
       "    <tr>\n",
       "      <th>119881</th>\n",
       "      <td>智龆</td>\n",
       "      <td>1</td>\n",
       "    </tr>\n",
       "    <tr>\n",
       "      <th>119882</th>\n",
       "      <td>品宜</td>\n",
       "      <td>0</td>\n",
       "    </tr>\n",
       "    <tr>\n",
       "      <th>119883</th>\n",
       "      <td>蔓汐</td>\n",
       "      <td>0</td>\n",
       "    </tr>\n",
       "    <tr>\n",
       "      <th>119884</th>\n",
       "      <td>泠南</td>\n",
       "      <td>1</td>\n",
       "    </tr>\n",
       "    <tr>\n",
       "      <th>119885</th>\n",
       "      <td>安逗</td>\n",
       "      <td>1</td>\n",
       "    </tr>\n",
       "    <tr>\n",
       "      <th>119886</th>\n",
       "      <td>昆山</td>\n",
       "      <td>1</td>\n",
       "    </tr>\n",
       "    <tr>\n",
       "      <th>119887</th>\n",
       "      <td>千玉</td>\n",
       "      <td>0</td>\n",
       "    </tr>\n",
       "    <tr>\n",
       "      <th>119888</th>\n",
       "      <td>士鉴</td>\n",
       "      <td>1</td>\n",
       "    </tr>\n",
       "    <tr>\n",
       "      <th>119889</th>\n",
       "      <td>婧芝</td>\n",
       "      <td>0</td>\n",
       "    </tr>\n",
       "    <tr>\n",
       "      <th>119890</th>\n",
       "      <td>好多</td>\n",
       "      <td>1</td>\n",
       "    </tr>\n",
       "    <tr>\n",
       "      <th>119891</th>\n",
       "      <td>雨恬</td>\n",
       "      <td>0</td>\n",
       "    </tr>\n",
       "    <tr>\n",
       "      <th>119892</th>\n",
       "      <td>芳平</td>\n",
       "      <td>0</td>\n",
       "    </tr>\n",
       "    <tr>\n",
       "      <th>119893</th>\n",
       "      <td>益嘉</td>\n",
       "      <td>1</td>\n",
       "    </tr>\n",
       "    <tr>\n",
       "      <th>119894</th>\n",
       "      <td>科妙</td>\n",
       "      <td>0</td>\n",
       "    </tr>\n",
       "    <tr>\n",
       "      <th>119895</th>\n",
       "      <td>廷燊</td>\n",
       "      <td>1</td>\n",
       "    </tr>\n",
       "    <tr>\n",
       "      <th>119896</th>\n",
       "      <td>瀚漪</td>\n",
       "      <td>1</td>\n",
       "    </tr>\n",
       "  </tbody>\n",
       "</table>\n",
       "<p>119897 rows × 2 columns</p>\n",
       "</div>"
      ],
      "text/plain": [
       "       name  gender\n",
       "0        闳家       1\n",
       "1        玉璎       0\n",
       "2        于邺       1\n",
       "3        越英       0\n",
       "4        蕴萱       0\n",
       "5        子颀       0\n",
       "6        靖曦       0\n",
       "7        鲁莱       1\n",
       "8        永远       1\n",
       "9        红孙       1\n",
       "10        增       1\n",
       "11       凤兰       0\n",
       "12       垚佳       0\n",
       "13       景棋       1\n",
       "14       明芳       0\n",
       "15       寇涛       1\n",
       "16       桦琙       1\n",
       "17       巧彤       0\n",
       "18       傲菲       0\n",
       "19       曾年       0\n",
       "20        闰       1\n",
       "21       蕙芯       0\n",
       "22       芷锋       1\n",
       "23       连庆       1\n",
       "24       心健       1\n",
       "25       伦能       1\n",
       "26       能玲       0\n",
       "27       倩澄       0\n",
       "28       永鹏       1\n",
       "29       鑫昊       1\n",
       "...     ...     ...\n",
       "119867   曦妃       0\n",
       "119868   朝鲜       1\n",
       "119869   圳畴       1\n",
       "119870   甜蜜       0\n",
       "119871   羿男       1\n",
       "119872   子贞       0\n",
       "119873   越铭       1\n",
       "119874   鸾征       1\n",
       "119875   可洄       1\n",
       "119876   映鹏       1\n",
       "119877    夷       0\n",
       "119878   熙卿       0\n",
       "119879   莎苹       0\n",
       "119880    优       1\n",
       "119881   智龆       1\n",
       "119882   品宜       0\n",
       "119883   蔓汐       0\n",
       "119884   泠南       1\n",
       "119885   安逗       1\n",
       "119886   昆山       1\n",
       "119887   千玉       0\n",
       "119888   士鉴       1\n",
       "119889   婧芝       0\n",
       "119890   好多       1\n",
       "119891   雨恬       0\n",
       "119892   芳平       0\n",
       "119893   益嘉       1\n",
       "119894   科妙       0\n",
       "119895   廷燊       1\n",
       "119896   瀚漪       1\n",
       "\n",
       "[119897 rows x 2 columns]"
      ]
     },
     "execution_count": 66,
     "metadata": {},
     "output_type": "execute_result"
    }
   ],
   "source": [
    "file.drop('id',axis=1,inplace=True)  #inplace 在原数据集上修改\n",
    "#file"
   ]
  },
  {
   "cell_type": "code",
   "execution_count": 48,
   "metadata": {},
   "outputs": [
    {
     "name": "stdout",
     "output_type": "stream",
     "text": [
      "  name  gender\n",
      "1   玉璎       0\n",
      "3   越英       0\n",
      "4   蕴萱       0\n",
      "5   子颀       0\n",
      "6   靖曦       0\n",
      "{'male': 66611, 'female': 53286}\n"
     ]
    }
   ],
   "source": [
    "name_male=file[file['gender']==1]\n",
    "name_female=file[file['gender']==0]\n",
    "#print(name_male.head())\n",
    "print(name_female.head())\n",
    "#计算男 女的  比例作为先验概率\n",
    "total={'male':len(name_male),'female':len(name_female) }\n",
    "print(total)"
   ]
  },
  {
   "cell_type": "code",
   "execution_count": 49,
   "metadata": {},
   "outputs": [
    {
     "name": "stdout",
     "output_type": "stream",
     "text": [
      "369\n"
     ]
    }
   ],
   "source": [
    "#  计算  名字里面每个字在 男  女  生里面出现的次数\n",
    "list_name_fe=defaultdict(int)\n",
    "list_names_fe=defaultdict(int)\n",
    "for name in name_female['name']:\n",
    "    list_names_fe.setdefault(name,0)\n",
    "    list_names_fe[name]+=1\n",
    "    for ch in name:\n",
    "        list_name_fe.setdefault(ch,0)\n",
    "        list_name_fe[ch]+=1\n",
    "        \n",
    "list_name_ma=defaultdict(int)\n",
    "list_names_ma=defaultdict(int)\n",
    "for name in name_male['name']:\n",
    "    list_names_ma.setdefault(name,0)\n",
    "    list_names_ma[name]+=1\n",
    "    for ch in name:\n",
    "        list_name_ma.setdefault(ch,0)\n",
    "        list_name_ma[ch]+=1\n",
    "        \n",
    "\n",
    "print(list_name_ma['智'])"
   ]
  },
  {
   "cell_type": "code",
   "execution_count": 50,
   "metadata": {},
   "outputs": [
    {
     "name": "stdout",
     "output_type": "stream",
     "text": [
      "0\n",
      "0\n"
     ]
    }
   ],
   "source": [
    "num=list_name_fe['t']\n",
    "print(num)\n",
    "num=list_name_ma['t']\n",
    "print(num)"
   ]
  },
  {
   "cell_type": "code",
   "execution_count": 51,
   "metadata": {
    "collapsed": true
   },
   "outputs": [],
   "source": [
    "# 使用  拉普拉斯平滑  算出概率    (次数+1) /(所有的情况+total)\n",
    "def lapulasi(char,num_list,total,alpha=1):\n",
    "    count=num_list[char]\n",
    "    charnum=len(num_list)\n",
    "    smooth=(alpha+count)/(total+charnum)\n",
    "    return smooth"
   ]
  },
  {
   "cell_type": "code",
   "execution_count": 52,
   "metadata": {},
   "outputs": [
    {
     "name": "stdout",
     "output_type": "stream",
     "text": [
      "智在男性的概率： 0.005171353496953094\n",
      "智在女性的概率： 0.0012590714348168226\n"
     ]
    }
   ],
   "source": [
    "print('智在男性的概率：',lapulasi('智',list_name_ma,total['male']) )\n",
    "print('智在女性的概率：',lapulasi('智',list_name_fe,total['female']) )"
   ]
  },
  {
   "cell_type": "code",
   "execution_count": 53,
   "metadata": {},
   "outputs": [
    {
     "name": "stdout",
     "output_type": "stream",
     "text": [
      "-5.264620826474866\n",
      "-6.677380786199262\n"
     ]
    }
   ],
   "source": [
    "#转成对数的加法\n",
    "def getLog(char,num_list,total,alpha=1):\n",
    "    smooth=lapulasi(char,num_list,total,alpha)\n",
    "    return math.log(smooth)\n",
    "\n",
    "print(getLog('智',list_name_ma,total['male']))\n",
    "print(getLog('智',list_name_fe,total['female']))"
   ]
  },
  {
   "cell_type": "code",
   "execution_count": 54,
   "metadata": {
    "collapsed": true
   },
   "outputs": [],
   "source": [
    "def combine_log(char,num_list_fe,nums_list_fe,num_list_ma,nums_list_ma,total):\n",
    "    log_m=0\n",
    "    log_f=0\n",
    "    log_m+=getLog(char,nums_list_ma,total['male'])\n",
    "    log_f+=getLog(char,nums_list_fe,total['female'])\n",
    "    for ch in char:\n",
    "        log_m+=getLog(ch,num_list_ma,total['male'])\n",
    "        log_f+=getLog(ch,num_list_fe,total['female'])\n",
    "    return {'male':log_m,'female':log_f}"
   ]
  },
  {
   "cell_type": "code",
   "execution_count": 55,
   "metadata": {
    "collapsed": true
   },
   "outputs": [],
   "source": [
    "choose=combine_log('雨彦',list_name_fe,list_names_fe,list_name_ma,list_names_ma,total)"
   ]
  },
  {
   "cell_type": "code",
   "execution_count": 56,
   "metadata": {},
   "outputs": [
    {
     "data": {
      "text/plain": [
       "0"
      ]
     },
     "execution_count": 56,
     "metadata": {},
     "output_type": "execute_result"
    }
   ],
   "source": [
    "def choose_sex(choose):\n",
    "    if choose['male']>=choose['female']:\n",
    "        return 1\n",
    "    else :\n",
    "        return 0\n",
    "choose_sex(choose)"
   ]
  },
  {
   "cell_type": "code",
   "execution_count": 57,
   "metadata": {},
   "outputs": [
    {
     "data": {
      "text/plain": [
       "0"
      ]
     },
     "execution_count": 57,
     "metadata": {},
     "output_type": "execute_result"
    }
   ],
   "source": [
    "choose=combine_log('狗屎',list_name_fe,list_names_fe,list_name_ma,list_names_ma,total)\n",
    "choose_sex(choose)"
   ]
  },
  {
   "cell_type": "code",
   "execution_count": 58,
   "metadata": {
    "collapsed": true
   },
   "outputs": [],
   "source": [
    "#测试读取一个测试文件\n",
    "from numpy import *\n",
    "def test(filename,total,list_name_fe,list_names_fe,list_name_ma,list_names_ma):\n",
    "    train=pd.read_csv(filename)\n",
    "    testTotal=shape(train)[0]\n",
    "    results={}   #  存 混淆矩阵\n",
    "    for index,data in train.iterrows():  #   iterrows  \n",
    "        dataResult=choose_sex(combine_log(data[1],list_name_fe,list_names_fe,list_name_ma,list_names_ma,total) )\n",
    "        realClass=data[2]\n",
    "        results.setdefault(realClass,{})\n",
    "        results[realClass].setdefault(dataResult,0)\n",
    "        results[realClass][dataResult]+=1\n",
    "    return (results,testTotal)"
   ]
  },
  {
   "cell_type": "code",
   "execution_count": 59,
   "metadata": {},
   "outputs": [
    {
     "name": "stdout",
     "output_type": "stream",
     "text": [
      "{0: {0: 36, 1: 8}, 1: {0: 14, 1: 44}}\n",
      "{'male': 66611, 'female': 53286}\n"
     ]
    }
   ],
   "source": [
    "metrics,total_test=test('test1.txt',total,list_name_fe,list_names_fe,list_name_ma,list_names_ma)\n",
    "print(metrics)\n",
    "print(total)"
   ]
  },
  {
   "cell_type": "code",
   "execution_count": 60,
   "metadata": {},
   "outputs": [
    {
     "name": "stdout",
     "output_type": "stream",
     "text": [
      "--------------\n",
      "0\n",
      "---------------------\n",
      "119898    119899\n",
      "芸荭            妃酣\n",
      "1              0\n",
      "Name: 0, dtype: object\n",
      "--------------\n",
      "1\n",
      "---------------------\n",
      "119898    119900\n",
      "芸荭            伟弟\n",
      "1              0\n",
      "Name: 1, dtype: object\n",
      "--------------\n",
      "2\n",
      "---------------------\n",
      "119898    119901\n",
      "芸荭            沫阳\n",
      "1              1\n",
      "Name: 2, dtype: object\n",
      "--------------\n",
      "3\n",
      "---------------------\n",
      "119898    119902\n",
      "芸荭            柏山\n",
      "1              1\n",
      "Name: 3, dtype: object\n",
      "--------------\n",
      "4\n",
      "---------------------\n",
      "119898    119903\n",
      "芸荭            丁维\n",
      "1              1\n",
      "Name: 4, dtype: object\n"
     ]
    }
   ],
   "source": [
    "train=pd.read_csv('test1.txt')\n",
    "for index ,rows in train.head().iterrows():\n",
    "    print('--------------')\n",
    "    print(index)\n",
    "    print('---------------------')\n",
    "    print(rows)"
   ]
  },
  {
   "cell_type": "code",
   "execution_count": 61,
   "metadata": {},
   "outputs": [
    {
     "name": "stdout",
     "output_type": "stream",
     "text": [
      "0.7843137254901961\n"
     ]
    }
   ],
   "source": [
    "'''\n",
    "                预测\n",
    "              yes   no    合计\n",
    "      yes     TP    FN     P\n",
    "实际  no      FP    TN     N\n",
    "\n",
    "合计          P     N      P+N\n",
    "\n",
    "准确率   (TP+TN)/(P+N)\n",
    "精确率   TP/(TP+FN)\n",
    "\n",
    "        1      0\n",
    "    1   9      4\n",
    "    0   6      21\n",
    "\n",
    "\n",
    "'''\n",
    "\n",
    "#计算模型准确率\n",
    "def showAccuracy(metrics):\n",
    "    preRight=0  # TP + TN\n",
    "    total=0\n",
    "    for category,preDict in metrics.items():\n",
    "        preRight+=metrics[category][category]\n",
    "        for ca,result in preDict.items():\n",
    "            total+=result\n",
    "    return preRight/total\n",
    "\n",
    "show_right=showAccuracy(metrics)\n",
    "print(show_right)"
   ]
  },
  {
   "cell_type": "code",
   "execution_count": 62,
   "metadata": {},
   "outputs": [
    {
     "name": "stdout",
     "output_type": "stream",
     "text": [
      "{0: 0.72, 1: 0.8461538461538461}\n"
     ]
    }
   ],
   "source": [
    "#计算模型精确率  对1的精确率   9/(9+6)    对0的精确率  21/(21+6)\n",
    "def showPrecision( metrics):\n",
    "    n=len(metrics)\n",
    "    precision={}\n",
    "    for i in range(n):\n",
    "        ySum=sum(metrics[row][i]for row in range(n))\n",
    "        p=metrics[i][i]/ySum\n",
    "        precision[i]=p\n",
    "    return precision\n",
    "\n",
    "precision_test=showPrecision(metrics)\n",
    "print(precision_test)"
   ]
  },
  {
   "cell_type": "code",
   "execution_count": 63,
   "metadata": {},
   "outputs": [
    {
     "name": "stdout",
     "output_type": "stream",
     "text": [
      "{0: 0.8181818181818182, 1: 0.7586206896551724}\n"
     ]
    }
   ],
   "source": [
    "#计算召回率   对1的召回率  9/(9+4)   对0:  21/(21+6)\n",
    "def showRecall(metrics):\n",
    "    n=len(metrics)\n",
    "    recall={}\n",
    "    for i in range(n):\n",
    "        xSum=sum(value for category,value in metrics[i].items())\n",
    "        recall[i]=metrics[i][i]/xSum\n",
    "    return recall\n",
    "\n",
    "recall_test=showRecall(metrics)\n",
    "print(recall_test)"
   ]
  },
  {
   "cell_type": "code",
   "execution_count": 44,
   "metadata": {
    "collapsed": true
   },
   "outputs": [],
   "source": [
    "import csv\n",
    "def testAndGenSubmitCsv(filename,total,list_name_fe,list_names_fe,list_name_ma,list_names_ma,genFileName):\n",
    "    test=pd.read_csv(filename)\n",
    "    #以写入的方式打开文件\n",
    "    fileobj=open(genFileName,'w',newline ='')\n",
    "    \n",
    "    #初始化 \n",
    "    writer=csv.writer(fileobj,dialect='excel')\n",
    "    \n",
    "    result={}\n",
    "    for index,data in test.iterrows():  #   iterrows  \n",
    "        dataResult=choose_sex(combine_log(data[1],list_name_fe,list_names_fe,list_name_ma,list_names_ma,total) )\n",
    "        result[data[0]]=dataResult\n",
    "    \n",
    "    \n",
    "    writer.writerow(['id','gender'])\n",
    "    writer.writerows(result.items())\n",
    "        \n",
    "    fileobj.close()"
   ]
  },
  {
   "cell_type": "code",
   "execution_count": 45,
   "metadata": {},
   "outputs": [],
   "source": [
    "testAndGenSubmitCsv('test.txt',total,list_name_fe,list_names_fe,list_name_ma,list_names_ma,'submit.csv')"
   ]
  },
  {
   "cell_type": "code",
   "execution_count": null,
   "metadata": {
    "collapsed": true
   },
   "outputs": [],
   "source": []
  }
 ],
 "metadata": {
  "kernelspec": {
   "display_name": "Python 3",
   "language": "python",
   "name": "python3"
  },
  "language_info": {
   "codemirror_mode": {
    "name": "ipython",
    "version": 3
   },
   "file_extension": ".py",
   "mimetype": "text/x-python",
   "name": "python",
   "nbconvert_exporter": "python",
   "pygments_lexer": "ipython3",
   "version": "3.6.2"
  }
 },
 "nbformat": 4,
 "nbformat_minor": 2
}
