{
 "cells": [
  {
   "cell_type": "code",
   "execution_count": 2,
   "metadata": {},
   "outputs": [],
   "source": [
    "import numpy as np\n",
    "import pandas as pd\n",
    "from sklearn import model_selection"
   ]
  },
  {
   "cell_type": "code",
   "execution_count": 4,
   "metadata": {},
   "outputs": [
    {
     "data": {
      "text/html": [
       "<div>\n",
       "<style>\n",
       "    .dataframe thead tr:only-child th {\n",
       "        text-align: right;\n",
       "    }\n",
       "\n",
       "    .dataframe thead th {\n",
       "        text-align: left;\n",
       "    }\n",
       "\n",
       "    .dataframe tbody tr th {\n",
       "        vertical-align: top;\n",
       "    }\n",
       "</style>\n",
       "<table border=\"1\" class=\"dataframe\">\n",
       "  <thead>\n",
       "    <tr style=\"text-align: right;\">\n",
       "      <th></th>\n",
       "      <th>classes</th>\n",
       "      <th>term</th>\n",
       "      <th>limit</th>\n",
       "      <th>amt_in_acct</th>\n",
       "      <th>no_of_loan</th>\n",
       "      <th>credit_level</th>\n",
       "      <th>age</th>\n",
       "      <th>monthly_saving</th>\n",
       "      <th>monthly_investment</th>\n",
       "      <th>monthly_insurance</th>\n",
       "    </tr>\n",
       "  </thead>\n",
       "  <tbody>\n",
       "    <tr>\n",
       "      <th>count</th>\n",
       "      <td>841.000000</td>\n",
       "      <td>841.000000</td>\n",
       "      <td>8.410000e+02</td>\n",
       "      <td>8.410000e+02</td>\n",
       "      <td>841.000000</td>\n",
       "      <td>841.000000</td>\n",
       "      <td>841.000000</td>\n",
       "      <td>841.000000</td>\n",
       "      <td>841.0</td>\n",
       "      <td>841.000000</td>\n",
       "    </tr>\n",
       "    <tr>\n",
       "      <th>mean</th>\n",
       "      <td>2.816885</td>\n",
       "      <td>188.594530</td>\n",
       "      <td>2.562838e+05</td>\n",
       "      <td>2.317469e+05</td>\n",
       "      <td>1.001189</td>\n",
       "      <td>3.973841</td>\n",
       "      <td>37.978597</td>\n",
       "      <td>1319.501867</td>\n",
       "      <td>0.0</td>\n",
       "      <td>121.284185</td>\n",
       "    </tr>\n",
       "    <tr>\n",
       "      <th>std</th>\n",
       "      <td>1.194133</td>\n",
       "      <td>98.102077</td>\n",
       "      <td>1.844475e+05</td>\n",
       "      <td>1.731071e+05</td>\n",
       "      <td>0.034483</td>\n",
       "      <td>0.805801</td>\n",
       "      <td>9.261519</td>\n",
       "      <td>10383.129958</td>\n",
       "      <td>0.0</td>\n",
       "      <td>1954.125372</td>\n",
       "    </tr>\n",
       "    <tr>\n",
       "      <th>min</th>\n",
       "      <td>1.000000</td>\n",
       "      <td>24.000000</td>\n",
       "      <td>3.000000e+04</td>\n",
       "      <td>7.606080e+03</td>\n",
       "      <td>1.000000</td>\n",
       "      <td>2.000000</td>\n",
       "      <td>21.000000</td>\n",
       "      <td>0.000000</td>\n",
       "      <td>0.0</td>\n",
       "      <td>0.000000</td>\n",
       "    </tr>\n",
       "    <tr>\n",
       "      <th>25%</th>\n",
       "      <td>2.000000</td>\n",
       "      <td>120.000000</td>\n",
       "      <td>1.400000e+05</td>\n",
       "      <td>1.185635e+05</td>\n",
       "      <td>1.000000</td>\n",
       "      <td>3.000000</td>\n",
       "      <td>30.000000</td>\n",
       "      <td>0.000000</td>\n",
       "      <td>0.0</td>\n",
       "      <td>0.000000</td>\n",
       "    </tr>\n",
       "    <tr>\n",
       "      <th>50%</th>\n",
       "      <td>3.000000</td>\n",
       "      <td>180.000000</td>\n",
       "      <td>2.100000e+05</td>\n",
       "      <td>1.899473e+05</td>\n",
       "      <td>1.000000</td>\n",
       "      <td>4.000000</td>\n",
       "      <td>36.000000</td>\n",
       "      <td>7.490000</td>\n",
       "      <td>0.0</td>\n",
       "      <td>0.000000</td>\n",
       "    </tr>\n",
       "    <tr>\n",
       "      <th>75%</th>\n",
       "      <td>4.000000</td>\n",
       "      <td>252.000000</td>\n",
       "      <td>3.300000e+05</td>\n",
       "      <td>3.129751e+05</td>\n",
       "      <td>1.000000</td>\n",
       "      <td>5.000000</td>\n",
       "      <td>45.000000</td>\n",
       "      <td>152.370000</td>\n",
       "      <td>0.0</td>\n",
       "      <td>0.000000</td>\n",
       "    </tr>\n",
       "    <tr>\n",
       "      <th>max</th>\n",
       "      <td>5.000000</td>\n",
       "      <td>360.000000</td>\n",
       "      <td>2.000000e+06</td>\n",
       "      <td>1.853406e+06</td>\n",
       "      <td>2.000000</td>\n",
       "      <td>6.000000</td>\n",
       "      <td>62.000000</td>\n",
       "      <td>232943.490000</td>\n",
       "      <td>0.0</td>\n",
       "      <td>48000.000000</td>\n",
       "    </tr>\n",
       "  </tbody>\n",
       "</table>\n",
       "</div>"
      ],
      "text/plain": [
       "          classes        term         limit   amt_in_acct  no_of_loan  \\\n",
       "count  841.000000  841.000000  8.410000e+02  8.410000e+02  841.000000   \n",
       "mean     2.816885  188.594530  2.562838e+05  2.317469e+05    1.001189   \n",
       "std      1.194133   98.102077  1.844475e+05  1.731071e+05    0.034483   \n",
       "min      1.000000   24.000000  3.000000e+04  7.606080e+03    1.000000   \n",
       "25%      2.000000  120.000000  1.400000e+05  1.185635e+05    1.000000   \n",
       "50%      3.000000  180.000000  2.100000e+05  1.899473e+05    1.000000   \n",
       "75%      4.000000  252.000000  3.300000e+05  3.129751e+05    1.000000   \n",
       "max      5.000000  360.000000  2.000000e+06  1.853406e+06    2.000000   \n",
       "\n",
       "       credit_level         age  monthly_saving  monthly_investment  \\\n",
       "count    841.000000  841.000000      841.000000               841.0   \n",
       "mean       3.973841   37.978597     1319.501867                 0.0   \n",
       "std        0.805801    9.261519    10383.129958                 0.0   \n",
       "min        2.000000   21.000000        0.000000                 0.0   \n",
       "25%        3.000000   30.000000        0.000000                 0.0   \n",
       "50%        4.000000   36.000000        7.490000                 0.0   \n",
       "75%        5.000000   45.000000      152.370000                 0.0   \n",
       "max        6.000000   62.000000   232943.490000                 0.0   \n",
       "\n",
       "       monthly_insurance  \n",
       "count         841.000000  \n",
       "mean          121.284185  \n",
       "std          1954.125372  \n",
       "min             0.000000  \n",
       "25%             0.000000  \n",
       "50%             0.000000  \n",
       "75%             0.000000  \n",
       "max         48000.000000  "
      ]
     },
     "execution_count": 4,
     "metadata": {},
     "output_type": "execute_result"
    }
   ],
   "source": [
    "data = pd.read_csv('cust+data.csv',header=0,encoding='gb2312')\n",
    "data.describe()"
   ]
  },
  {
   "cell_type": "code",
   "execution_count": 5,
   "metadata": {},
   "outputs": [
    {
     "data": {
      "text/plain": [
       "array([0], dtype=int64)"
      ]
     },
     "execution_count": 5,
     "metadata": {},
     "output_type": "execute_result"
    }
   ],
   "source": [
    "#各个列没有区分度  直接删除\n",
    "data['monthly_investment'].unique()"
   ]
  },
  {
   "cell_type": "code",
   "execution_count": 7,
   "metadata": {},
   "outputs": [],
   "source": [
    "data.drop(['monthly_investment'],axis=1,inplace=True)"
   ]
  },
  {
   "cell_type": "code",
   "execution_count": 8,
   "metadata": {},
   "outputs": [
    {
     "data": {
      "text/html": [
       "<div>\n",
       "<style>\n",
       "    .dataframe thead tr:only-child th {\n",
       "        text-align: right;\n",
       "    }\n",
       "\n",
       "    .dataframe thead th {\n",
       "        text-align: left;\n",
       "    }\n",
       "\n",
       "    .dataframe tbody tr th {\n",
       "        vertical-align: top;\n",
       "    }\n",
       "</style>\n",
       "<table border=\"1\" class=\"dataframe\">\n",
       "  <thead>\n",
       "    <tr style=\"text-align: right;\">\n",
       "      <th></th>\n",
       "      <th>classes</th>\n",
       "      <th>term</th>\n",
       "      <th>limit</th>\n",
       "      <th>amt_in_acct</th>\n",
       "      <th>no_of_loan</th>\n",
       "      <th>credit_level</th>\n",
       "      <th>age</th>\n",
       "      <th>monthly_saving</th>\n",
       "      <th>monthly_insurance</th>\n",
       "    </tr>\n",
       "  </thead>\n",
       "  <tbody>\n",
       "    <tr>\n",
       "      <th>count</th>\n",
       "      <td>841.000000</td>\n",
       "      <td>841.000000</td>\n",
       "      <td>8.410000e+02</td>\n",
       "      <td>8.410000e+02</td>\n",
       "      <td>841.000000</td>\n",
       "      <td>841.000000</td>\n",
       "      <td>841.000000</td>\n",
       "      <td>841.000000</td>\n",
       "      <td>841.000000</td>\n",
       "    </tr>\n",
       "    <tr>\n",
       "      <th>mean</th>\n",
       "      <td>2.816885</td>\n",
       "      <td>188.594530</td>\n",
       "      <td>2.562838e+05</td>\n",
       "      <td>2.317469e+05</td>\n",
       "      <td>1.001189</td>\n",
       "      <td>3.973841</td>\n",
       "      <td>37.978597</td>\n",
       "      <td>1319.501867</td>\n",
       "      <td>121.284185</td>\n",
       "    </tr>\n",
       "    <tr>\n",
       "      <th>std</th>\n",
       "      <td>1.194133</td>\n",
       "      <td>98.102077</td>\n",
       "      <td>1.844475e+05</td>\n",
       "      <td>1.731071e+05</td>\n",
       "      <td>0.034483</td>\n",
       "      <td>0.805801</td>\n",
       "      <td>9.261519</td>\n",
       "      <td>10383.129958</td>\n",
       "      <td>1954.125372</td>\n",
       "    </tr>\n",
       "    <tr>\n",
       "      <th>min</th>\n",
       "      <td>1.000000</td>\n",
       "      <td>24.000000</td>\n",
       "      <td>3.000000e+04</td>\n",
       "      <td>7.606080e+03</td>\n",
       "      <td>1.000000</td>\n",
       "      <td>2.000000</td>\n",
       "      <td>21.000000</td>\n",
       "      <td>0.000000</td>\n",
       "      <td>0.000000</td>\n",
       "    </tr>\n",
       "    <tr>\n",
       "      <th>25%</th>\n",
       "      <td>2.000000</td>\n",
       "      <td>120.000000</td>\n",
       "      <td>1.400000e+05</td>\n",
       "      <td>1.185635e+05</td>\n",
       "      <td>1.000000</td>\n",
       "      <td>3.000000</td>\n",
       "      <td>30.000000</td>\n",
       "      <td>0.000000</td>\n",
       "      <td>0.000000</td>\n",
       "    </tr>\n",
       "    <tr>\n",
       "      <th>50%</th>\n",
       "      <td>3.000000</td>\n",
       "      <td>180.000000</td>\n",
       "      <td>2.100000e+05</td>\n",
       "      <td>1.899473e+05</td>\n",
       "      <td>1.000000</td>\n",
       "      <td>4.000000</td>\n",
       "      <td>36.000000</td>\n",
       "      <td>7.490000</td>\n",
       "      <td>0.000000</td>\n",
       "    </tr>\n",
       "    <tr>\n",
       "      <th>75%</th>\n",
       "      <td>4.000000</td>\n",
       "      <td>252.000000</td>\n",
       "      <td>3.300000e+05</td>\n",
       "      <td>3.129751e+05</td>\n",
       "      <td>1.000000</td>\n",
       "      <td>5.000000</td>\n",
       "      <td>45.000000</td>\n",
       "      <td>152.370000</td>\n",
       "      <td>0.000000</td>\n",
       "    </tr>\n",
       "    <tr>\n",
       "      <th>max</th>\n",
       "      <td>5.000000</td>\n",
       "      <td>360.000000</td>\n",
       "      <td>2.000000e+06</td>\n",
       "      <td>1.853406e+06</td>\n",
       "      <td>2.000000</td>\n",
       "      <td>6.000000</td>\n",
       "      <td>62.000000</td>\n",
       "      <td>232943.490000</td>\n",
       "      <td>48000.000000</td>\n",
       "    </tr>\n",
       "  </tbody>\n",
       "</table>\n",
       "</div>"
      ],
      "text/plain": [
       "          classes        term         limit   amt_in_acct  no_of_loan  \\\n",
       "count  841.000000  841.000000  8.410000e+02  8.410000e+02  841.000000   \n",
       "mean     2.816885  188.594530  2.562838e+05  2.317469e+05    1.001189   \n",
       "std      1.194133   98.102077  1.844475e+05  1.731071e+05    0.034483   \n",
       "min      1.000000   24.000000  3.000000e+04  7.606080e+03    1.000000   \n",
       "25%      2.000000  120.000000  1.400000e+05  1.185635e+05    1.000000   \n",
       "50%      3.000000  180.000000  2.100000e+05  1.899473e+05    1.000000   \n",
       "75%      4.000000  252.000000  3.300000e+05  3.129751e+05    1.000000   \n",
       "max      5.000000  360.000000  2.000000e+06  1.853406e+06    2.000000   \n",
       "\n",
       "       credit_level         age  monthly_saving  monthly_insurance  \n",
       "count    841.000000  841.000000      841.000000         841.000000  \n",
       "mean       3.973841   37.978597     1319.501867         121.284185  \n",
       "std        0.805801    9.261519    10383.129958        1954.125372  \n",
       "min        2.000000   21.000000        0.000000           0.000000  \n",
       "25%        3.000000   30.000000        0.000000           0.000000  \n",
       "50%        4.000000   36.000000        7.490000           0.000000  \n",
       "75%        5.000000   45.000000      152.370000           0.000000  \n",
       "max        6.000000   62.000000   232943.490000       48000.000000  "
      ]
     },
     "execution_count": 8,
     "metadata": {},
     "output_type": "execute_result"
    }
   ],
   "source": [
    "data.describe()"
   ]
  },
  {
   "cell_type": "code",
   "execution_count": 9,
   "metadata": {
    "collapsed": true
   },
   "outputs": [],
   "source": [
    "# monthly_insurance 只有几个取值 处理方案  二值化 >0当1  否则为0"
   ]
  },
  {
   "cell_type": "code",
   "execution_count": 10,
   "metadata": {},
   "outputs": [
    {
     "data": {
      "text/plain": [
       "array([    0,  4000, 10000, 20000, 48000], dtype=int64)"
      ]
     },
     "execution_count": 10,
     "metadata": {},
     "output_type": "execute_result"
    }
   ],
   "source": [
    "data['monthly_insurance'].unique()"
   ]
  },
  {
   "cell_type": "code",
   "execution_count": 12,
   "metadata": {},
   "outputs": [
    {
     "data": {
      "text/plain": [
       "array([0, 1], dtype=int64)"
      ]
     },
     "execution_count": 12,
     "metadata": {},
     "output_type": "execute_result"
    }
   ],
   "source": [
    "data['monthly_insurance']=data['monthly_insurance'].map(lambda x: int(x>0))\n",
    "data['monthly_insurance'].unique()"
   ]
  },
  {
   "cell_type": "code",
   "execution_count": 14,
   "metadata": {},
   "outputs": [
    {
     "data": {
      "text/plain": [
       "0    0\n",
       "1    0\n",
       "2    0\n",
       "3    0\n",
       "4    0\n",
       "Name: monthly_insurance, dtype: int64"
      ]
     },
     "execution_count": 14,
     "metadata": {},
     "output_type": "execute_result"
    }
   ],
   "source": [
    "data['monthly_insurance'][0:5]"
   ]
  },
  {
   "cell_type": "code",
   "execution_count": null,
   "metadata": {
    "collapsed": true
   },
   "outputs": [],
   "source": []
  }
 ],
 "metadata": {
  "kernelspec": {
   "display_name": "Python 3",
   "language": "python",
   "name": "python3"
  },
  "language_info": {
   "codemirror_mode": {
    "name": "ipython",
    "version": 3
   },
   "file_extension": ".py",
   "mimetype": "text/x-python",
   "name": "python",
   "nbconvert_exporter": "python",
   "pygments_lexer": "ipython3",
   "version": "3.6.2"
  }
 },
 "nbformat": 4,
 "nbformat_minor": 2
}
