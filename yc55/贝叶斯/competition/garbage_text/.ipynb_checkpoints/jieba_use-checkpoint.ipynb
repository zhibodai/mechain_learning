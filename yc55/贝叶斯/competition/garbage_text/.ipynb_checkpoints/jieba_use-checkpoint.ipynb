{
 "cells": [
  {
   "cell_type": "code",
   "execution_count": 1,
   "metadata": {
    "collapsed": true
   },
   "outputs": [],
   "source": [
    "import jieba"
   ]
  },
  {
   "cell_type": "code",
   "execution_count": 3,
   "metadata": {},
   "outputs": [
    {
     "name": "stdout",
     "output_type": "stream",
     "text": [
      "全模式：我/来到/北京/清华/清华大学/华大/大学\n",
      "精准模式：我/来到/北京/清华大学\n",
      "精准模式：我__来到__了__杭州__，__并且__准备__在__此__工作__买房__.\n",
      "小明,,硕士,,毕业,,于,,中国,,科学,,学院,,科学院,,中国科学院,,计算,,计算所,,，,,后于,,早稻,,稻田,,大学,,早稻田,,早稻田大学,,深造\n"
     ]
    }
   ],
   "source": [
    "seg_list=jieba.cut('我来到北京清华大学',cut_all=True)\n",
    "print('全模式：'+'/'.join(seg_list))    #全模式  cut_all\n",
    "\n",
    "seg_list=jieba.cut('我来到北京清华大学',cut_all=False)   \n",
    "print('精准模式：'+'/'.join(seg_list))\n",
    "\n",
    "\n",
    "seg_list=jieba.cut('我来到了杭州，并且准备在此工作买房.')   \n",
    "print('精准模式：'+'__'.join(seg_list))  #默认是精准模式\n",
    "\n",
    "seg_list=jieba.cut_for_search('小明硕士毕业于中国科学院计算所，后于早稻田大学深造')   #搜索引擎模式\n",
    "print(',,'.join(seg_list))\n"
   ]
  },
  {
   "cell_type": "code",
   "execution_count": 6,
   "metadata": {},
   "outputs": [
    {
     "name": "stdout",
     "output_type": "stream",
     "text": [
      "日本/漫画家/石森章太郎/创作/并/由/东映株式会社/制作/进而/衍生/出/的/日本/特摄/英雄/群体/的/总称/。/\n",
      "/官方/对/昭和/与/平成/的/分类/是/以/假面骑士/空我/为/分界线/:/空我/前/出场/的/是/昭和/骑士/，/空我/及/以后/出场/的/是/平成/骑士/。/但/对于/这种/分/法/，/也/会/出现/Black/ /RX/、/Shin/、/ZO/、/J/这种/在/平成/年间/也/有/播送/却/被/归/为/昭和/的/特例/。/其中/RX/因为/是/昭和/年代/首播/，/只是/播放/中途/更换/了/年/号/，/所以/毫无疑问/也/是/昭和/骑士/。/而/Shin/、/ZO/与/J/一度/被/归/为/平成/骑士/，/例如/剧场版/《/假面骑士/世界/》/里/有/ZO/与/J/双/骑士/共演/，/当时/的/宣传/是/平成/的/双/骑士/，/可见/当时/他们/都/是/被/归类/为/平成/骑士/的/。/然而/，/空我/这部/作品/的/大人/气/促使/假面骑士/系列/一直/延续/下来/，/而且/全新/的/设定/也/与/石森章太郎/生前/的/假面骑士/系列/有/飞跃性/差异/。/因此/，/昭和/与/平成/的/不同/，/与其说是/出品/年份/不同/，/不如/认为/是/石森/参与/的/作品/为/昭和/系列/，/而/之后/的/作品/为/平成/系列/较为/妥当/。\n",
      "--------------------\n",
      "日本 / ns , 漫画家 / n , 石森章太郎 / x , 创作 / vn , 并 / c , 由 / p , 东映株式会社 / x , 制作 / vn , 进而 / c , 衍生 / v , 出 / v , 的 / uj , 日本 / ns , 特 / d , 摄 / v , 英雄 / ns , 群体 / n , 的 / uj , 总称 / n , 。 / x , \n",
      " / x , 官方 / n , 对 / p , 昭和 / nz , 与 / p , 平成 / v , 的 / uj , 分类 / n , 是 / v , 以 / p , 假面骑士 / x , 空我 / x , 为 / p , 分界线 / n , : / x , 空我 / x , 前 / f , 出场 / n , 的 / uj , 是 / v , 昭和 / nz , 骑士 / n , ， / x , 空我 / x , 及 / c , 以后 / f , 出场 / n , 的 / uj , 是 / v , 平成 / v , 骑士 / n , 。 / x , 但 / c , 对于 / p , 这种 / r , 分 / v , 法 / j , ， / x , 也 / d , 会 / v , 出现 / v , Black / eng ,   / x , RX / eng , 、 / x , Shin / x , 、 / x , ZO / x , 、 / x , J / x , 这种 / r , 在 / p , 平成 / v , 年间 / t , 也 / d , 有 / v , 播送 / v , 却 / d , 被 / p , 归为 / v , 昭和 / nz , 的 / uj , 特例 / n , 。 / x , 其中 / r , RX / eng , 因为 / c , 是 / v , 昭和 / nz , 年代 / t , 首播 / vn , ， / x , 只是 / c , 播放 / v , 中途 / b , 更换 / v , 了 / ul , 年 / m , 号 / m , ， / x , 所以 / c , 毫无疑问 / l , 也 / d , 是 / v , 昭和 / nz , 骑士 / n , 。 / x , 而 / c , Shin / x , 、 / x , ZO / x , 与 / p , J / eng , 一度 / mq , 被 / p , 归为 / v , 平成 / v , 骑士 / n , ， / x , 例如 / v , 剧场版 / n , 《 / x , 假面骑士 / x , 世界 / n , 》 / x , 里 / f , 有 / v , ZO / x , 与 / p , J / eng , 双 / n , 骑士 / n , 共 / d , 演 / v , ， / x , 当时 / t , 的 / uj , 宣传 / vn , 是 / v , 平成 / v , 的 / uj , 双 / n , 骑士 / n , ， / x , 可见 / v , 当时 / t , 他们 / r , 都 / d , 是 / v , 被 / p , 归类 / vn , 为 / p , 平成 / v , 骑士 / n , 的 / uj , 。 / x , 然而 / c , ， / x , 空我 / x , 这部 / r , 作品 / n , 的 / uj , 大人 / n , 气 / n , 促使 / v , 假面骑士 / x , 系列 / q , 一直 / d , 延续 / v , 下来 / t , ， / x , 而且 / c , 全新 / d , 的 / uj , 设定 / v , 也 / d , 与 / p , 石森章太郎 / x , 生前 / t , 的 / uj , 假面骑士 / x , 系列 / q , 有 / v , 飞跃性 / n , 差异 / n , 。 / x , 因此 / c , ， / x , 昭和 / nz , 与 / p , 平成 / v , 的 / uj , 不同 / a , ， / x , 与其说是 / c , 出品 / n , 年份 / n , 不同 / a , ， / x , 不如 / c , 认为 / v , 是 / v , 石森 / nr , 参与 / v , 的 / uj , 作品 / n , 为 / p , 昭和 / nz , 系列 / q , ， / x , 而 / c , 之后 / f , 的 / uj , 作品 / n , 为 / p , 平成 / v , 系列 / q , 较为 / d , 妥当 / a , 。 / x , ****************************************\n",
      "easy/_/install/ /is/ /great\n",
      "easy/_/install/ /is/ /great/ /我能/说/这/玩意/是/失败/的/不\n"
     ]
    }
   ],
   "source": [
    "import sys  #管理系统的路径\n",
    "sys.path.append('../')\n",
    "#获取自定义字典\n",
    "jieba.load_userdict('userdict.txt')\n",
    "\n",
    "\n",
    "#导入词性标注的包  （意义不大）\n",
    "import jieba.posseg as pseg\n",
    "\n",
    "#添加词\n",
    "jieba.add_word('假面骑士')\n",
    "jieba.add_word('石森章太郎')\n",
    "jieba.add_word('空我')\n",
    "jieba.add_word('平成')\n",
    "jieba.add_word('昭和')\n",
    "#删除词\n",
    "jieba.del_word('自定义词')\n",
    "\n",
    "#测试数据\n",
    "test_send=('日本漫画家石森章太郎创作并由东映株式会社制作进而衍生出的日本特摄英雄群体的总称。\\n'\n",
    "           '官方对昭和与平成的分类是以假面骑士空我为分界线:空我前出场的是昭和骑士，空我及以后出场的是平成骑士。但对于这种分法，也会出现Black RX、Shin、ZO、J这种在平成年间也有播送却被归为昭和的特例。其中RX因为是昭和年代首播，只是播放中途更换了年号，所以毫无疑问也是昭和骑士。而Shin、ZO与J一度被归为平成骑士，例如剧场版《假面骑士世界》里有ZO与J双骑士共演，当时的宣传是平成的双骑士，可见当时他们都是被归类为平成骑士的。然而，空我这部作品的大人气促使假面骑士系列一直延续下来，而且全新的设定也与石森章太郎生前的假面骑士系列有飞跃性差异。因此，昭和与平成的不同，与其说是出品年份不同，不如认为是石森参与的作品为昭和系列，而之后的作品为平成系列较为妥当。')\n",
    "\n",
    "#默认分词\n",
    "words=jieba.cut(test_send)\n",
    "print('/'.join(words))  #使用 / 把词语分开\n",
    "\n",
    "print('--'*10)\n",
    "\n",
    "#词性标注\n",
    "result=pseg.cut(test_send)\n",
    "#使用 循环把分出的词及其词性用  /  隔开 并添加空格\n",
    "for w in result:\n",
    "    print(w.word,'/',w.flag,',',end=' ')\n",
    "\n",
    "print('**'*20)\n",
    "\n",
    "#对英文的切割\n",
    "\n",
    "terms=jieba.cut('easy_install is great')\n",
    "print(\"/\".join(terms) )\n",
    "\n",
    "#对英文和汉字的切割\n",
    "terms=jieba.cut('easy_install is great 我能说这玩意是失败的不')\n",
    "print(\"/\".join(terms))\n",
    "      "
   ]
  },
  {
   "cell_type": "code",
   "execution_count": 8,
   "metadata": {},
   "outputs": [
    {
     "name": "stdout",
     "output_type": "stream",
     "text": [
      "徐缺,小柔,畜牲,野兽,村民,小娃子,装逼,被子,人群,顿时\n"
     ]
    }
   ],
   "source": [
    "'''\n",
    "关键词提取\n",
    "'''\n",
    "import jieba.analyse\n",
    "#读取文件返回字符串  使用utf8 方式编码 该文档在 python目录下\n",
    "content=open('test1.txt','r',encoding='utf8').read()\n",
    "tags=jieba.analyse.extract_tags(content,topK=10)\n",
    "print(','.join(tags))"
   ]
  },
  {
   "cell_type": "code",
   "execution_count": null,
   "metadata": {
    "collapsed": true
   },
   "outputs": [],
   "source": [
    "'''\n",
    "关键词提取  使用停用词  \n",
    "'''\n",
    "content=open('test1.txt','r',encoding='utf8').read()\n",
    "jieba.analyse.set_stop_words('ting.txt')\n",
    "tags=jieba.analyse.extract_tags(content,topK=10)\n",
    "print(','.join(tags))"
   ]
  }
 ],
 "metadata": {
  "kernelspec": {
   "display_name": "Python 3",
   "language": "python",
   "name": "python3"
  },
  "language_info": {
   "codemirror_mode": {
    "name": "ipython",
    "version": 3
   },
   "file_extension": ".py",
   "mimetype": "text/x-python",
   "name": "python",
   "nbconvert_exporter": "python",
   "pygments_lexer": "ipython3",
   "version": "3.6.2"
  }
 },
 "nbformat": 4,
 "nbformat_minor": 2
}
