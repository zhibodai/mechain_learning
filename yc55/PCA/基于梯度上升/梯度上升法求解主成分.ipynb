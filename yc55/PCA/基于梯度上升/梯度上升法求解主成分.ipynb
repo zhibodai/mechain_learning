{
 "cells": [
  {
   "cell_type": "code",
   "execution_count": 1,
   "metadata": {
    "collapsed": true
   },
   "outputs": [],
   "source": [
    "import numpy as np\n",
    "import matplotlib.pyplot as plt"
   ]
  },
  {
   "cell_type": "code",
   "execution_count": 2,
   "metadata": {
    "collapsed": true
   },
   "outputs": [],
   "source": [
    "x=np.empty((100,2))\n",
    "x[:,0]=np.random.uniform(0.,100.,size=100)\n",
    "x[:,1]=0.75 * x[:,0]+ 3. + np.random.normal(0,10.,size=100)"
   ]
  },
  {
   "cell_type": "code",
   "execution_count": 3,
   "metadata": {},
   "outputs": [
    {
     "data": {
      "image/png": "[encoded data removed]",
      "text/plain": [
       "<matplotlib.figure.Figure at 0x2350a6b7320>"
      ]
     },
     "metadata": {},
     "output_type": "display_data"
    }
   ],
   "source": [
    "plt.scatter(x[:,0],x[:,1])\n",
    "plt.show()"
   ]
  },
  {
   "cell_type": "markdown",
   "metadata": {},
   "source": [
    "### demean  \n",
    "均值归零化"
   ]
  },
  {
   "cell_type": "code",
   "execution_count": 4,
   "metadata": {
    "collapsed": true
   },
   "outputs": [],
   "source": [
    "def demean(x):\n",
    "    return x - np.mean(x,axis=0)"
   ]
  },
  {
   "cell_type": "code",
   "execution_count": 5,
   "metadata": {},
   "outputs": [
    {
     "data": {
      "image/png": "[encoded data removed]",
      "text/plain": [
       "<matplotlib.figure.Figure at 0x23508214ba8>"
      ]
     },
     "metadata": {},
     "output_type": "display_data"
    }
   ],
   "source": [
    "x_demean=demean(x)\n",
    "plt.scatter(x_demean[:,0],x_demean[:,1])\n",
    "plt.show()"
   ]
  },
  {
   "cell_type": "markdown",
   "metadata": {},
   "source": [
    "### 梯度上升法"
   ]
  },
  {
   "cell_type": "code",
   "execution_count": 6,
   "metadata": {
    "collapsed": true
   },
   "outputs": [],
   "source": [
    "def f(w,X):\n",
    "    return np.sum((X.dot(w)**2)) / len(X) "
   ]
  },
  {
   "cell_type": "code",
   "execution_count": 7,
   "metadata": {
    "collapsed": true
   },
   "outputs": [],
   "source": [
    "def df_math(w,X):\n",
    "    return X.T.dot(X.dot(w))*2./len(X)"
   ]
  },
  {
   "cell_type": "code",
   "execution_count": 14,
   "metadata": {
    "collapsed": true
   },
   "outputs": [],
   "source": [
    "def direction(w):\n",
    "    return w/np.linalg.norm(w)\n",
    "\n",
    "def gradient_descent_2(X,inite_w,eta,n_iters=1e4,epsilon= 1e-8):\n",
    "    '''\n",
    "    n_iters  最大循环次数\n",
    "    '''\n",
    "    w=direction(inite_w)\n",
    "    i_iters=0\n",
    "    \n",
    "    while i_iters<n_iters:\n",
    "        gradient=df_math(w,X)\n",
    "        lastw=w\n",
    "        w= w + eta*gradient\n",
    "        w=direction(w)   #每次w都要归于单位向量\n",
    "                \n",
    "        if(abs(f(w,X)-f(lastw,X))<epsilon):\n",
    "            break\n",
    "            \n",
    "        i_iters+=1\n",
    "    return w"
   ]
  },
  {
   "cell_type": "code",
   "execution_count": 10,
   "metadata": {},
   "outputs": [
    {
     "data": {
      "text/plain": [
       "array([ 0.80909323,  0.14125515])"
      ]
     },
     "execution_count": 10,
     "metadata": {},
     "output_type": "execute_result"
    }
   ],
   "source": [
    "initial_w=np.random.random(x.shape[1])  #  不能从0向量开始\n",
    "initial_w"
   ]
  },
  {
   "cell_type": "code",
   "execution_count": 12,
   "metadata": {},
   "outputs": [],
   "source": [
    "eta=0.001"
   ]
  },
  {
   "cell_type": "code",
   "execution_count": 15,
   "metadata": {},
   "outputs": [
    {
     "data": {
      "text/plain": [
       "array([ 0.77673777,  0.62982413])"
      ]
     },
     "execution_count": 15,
     "metadata": {},
     "output_type": "execute_result"
    }
   ],
   "source": [
    "#  不能使用标准化处理\n",
    "theta=gradient_descent_2(x_demean,initial_w,eta)\n",
    "theta"
   ]
  },
  {
   "cell_type": "code",
   "execution_count": 17,
   "metadata": {},
   "outputs": [
    {
     "data": {
      "image/png": "[encoded data removed]",
      "text/plain": [
       "<matplotlib.figure.Figure at 0x23508249470>"
      ]
     },
     "metadata": {},
     "output_type": "display_data"
    }
   ],
   "source": [
    "plt.scatter(x_demean[:,0],x_demean[:,1])\n",
    "plt.plot([0,theta[0]*30],[0,theta[1]*30],color='r')\n",
    "plt.show()"
   ]
  },
  {
   "cell_type": "code",
   "execution_count": 18,
   "metadata": {
    "collapsed": true
   },
   "outputs": [],
   "source": [
    "#获取前n个主成分\n",
    "def f(w,X):\n",
    "    return np.sum((X.dot(w)**2)) / len(X) \n",
    "\n",
    "def df(w,X):\n",
    "    return X.T.dot(X.dot(w))*2./len(X)\n",
    "\n",
    "def direction(w):\n",
    "    return w/np.linalg.norm(w)\n",
    "\n",
    "def gradient_descent_2(X,inite_w,eta,n_iters=1e4,epsilon= 1e-8):\n",
    "    '''\n",
    "    n_iters  最大循环次数\n",
    "    '''\n",
    "    w=direction(inite_w)\n",
    "    i_iters=0\n",
    "    \n",
    "    while i_iters<n_iters:\n",
    "        gradient=df(w,X)\n",
    "        lastw=w\n",
    "        w= w + eta*gradient\n",
    "        w=direction(w)   #每次w都要归于单位向量\n",
    "                \n",
    "        if(abs(f(w,X)-f(lastw,X))<epsilon):\n",
    "            break\n",
    "            \n",
    "        i_iters+=1\n",
    "    return w"
   ]
  },
  {
   "cell_type": "code",
   "execution_count": 19,
   "metadata": {},
   "outputs": [
    {
     "data": {
      "text/plain": [
       "array([ 0.77090802,  0.63694649])"
      ]
     },
     "execution_count": 19,
     "metadata": {},
     "output_type": "execute_result"
    }
   ],
   "source": [
    "initial_w=np.random.random(x.shape[1])  #  不能从0向量开始\n",
    "eta=0.01\n",
    "w=gradient_descent_2(x,initial_w,eta)\n",
    "w"
   ]
  },
  {
   "cell_type": "code",
   "execution_count": 20,
   "metadata": {
    "collapsed": true
   },
   "outputs": [],
   "source": [
    "x2=np.empty(x.shape)\n",
    "for i in range(len(x)):\n",
    "    x2[i] = x[i] - x[i].dot(w) * w"
   ]
  },
  {
   "cell_type": "code",
   "execution_count": 22,
   "metadata": {},
   "outputs": [
    {
     "data": {
      "image/png": "[encoded data removed]",
      "text/plain": [
       "<matplotlib.figure.Figure at 0x2350b5b67b8>"
      ]
     },
     "metadata": {},
     "output_type": "display_data"
    }
   ],
   "source": [
    "plt.scatter(x2[:,0],x2[:,1])\n",
    "plt.show()"
   ]
  },
  {
   "cell_type": "code",
   "execution_count": null,
   "metadata": {
    "collapsed": true
   },
   "outputs": [],
   "source": []
  }
 ],
 "metadata": {
  "kernelspec": {
   "display_name": "Python 3",
   "language": "python",
   "name": "python3"
  },
  "language_info": {
   "codemirror_mode": {
    "name": "ipython",
    "version": 3
   },
   "file_extension": ".py",
   "mimetype": "text/x-python",
   "name": "python",
   "nbconvert_exporter": "python",
   "pygments_lexer": "ipython3",
   "version": "3.6.2"
  }
 },
 "nbformat": 4,
 "nbformat_minor": 2
}
