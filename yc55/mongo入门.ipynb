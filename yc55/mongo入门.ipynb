{
 "cells": [
  {
   "cell_type": "code",
   "execution_count": 1,
   "metadata": {
    "collapsed": true
   },
   "outputs": [],
   "source": [
    "import pymongo"
   ]
  },
  {
   "cell_type": "code",
   "execution_count": 3,
   "metadata": {},
   "outputs": [
    {
     "name": "stdout",
     "output_type": "stream",
     "text": [
      "['', 'C:\\\\ProgramData\\\\Anaconda3\\\\python36.zip', 'C:\\\\ProgramData\\\\Anaconda3\\\\DLLs', 'C:\\\\ProgramData\\\\Anaconda3\\\\lib', 'C:\\\\ProgramData\\\\Anaconda3', 'C:\\\\ProgramData\\\\Anaconda3\\\\lib\\\\site-packages', 'C:\\\\ProgramData\\\\Anaconda3\\\\lib\\\\site-packages\\\\Babel-2.5.0-py3.6.egg', 'C:\\\\ProgramData\\\\Anaconda3\\\\lib\\\\site-packages\\\\win32', 'C:\\\\ProgramData\\\\Anaconda3\\\\lib\\\\site-packages\\\\win32\\\\lib', 'C:\\\\ProgramData\\\\Anaconda3\\\\lib\\\\site-packages\\\\Pythonwin', 'C:\\\\ProgramData\\\\Anaconda3\\\\lib\\\\site-packages\\\\IPython\\\\extensions', 'C:\\\\Users\\\\吴彦祖\\\\.ipython']\n"
     ]
    }
   ],
   "source": [
    "import sys\n",
    "print (sys.path)"
   ]
  },
  {
   "cell_type": "code",
   "execution_count": 2,
   "metadata": {},
   "outputs": [
    {
     "data": {
      "text/plain": [
       "MongoClient(host=['localhost:27017'], document_class=dict, tz_aware=False, connect=True)"
      ]
     },
     "execution_count": 2,
     "metadata": {},
     "output_type": "execute_result"
    }
   ],
   "source": [
    "#1.连接mongo\n",
    "# client=pymongo.MongoClient( host='localhost',port=27017)\n",
    "client=pymongo.MongoClient('mongodb://localhost:27017')\n",
    "client"
   ]
  },
  {
   "cell_type": "code",
   "execution_count": 3,
   "metadata": {},
   "outputs": [
    {
     "data": {
      "text/plain": [
       "Database(MongoClient(host=['localhost:27017'], document_class=dict, tz_aware=False, connect=True), 'test')"
      ]
     },
     "execution_count": 3,
     "metadata": {},
     "output_type": "execute_result"
    }
   ],
   "source": [
    "#2.指定数据库\n",
    "db=client.test\n",
    "db"
   ]
  },
  {
   "cell_type": "code",
   "execution_count": 4,
   "metadata": {},
   "outputs": [
    {
     "data": {
      "text/plain": [
       "Collection(Database(MongoClient(host=['localhost:27017'], document_class=dict, tz_aware=False, connect=True), 'test'), 'students')"
      ]
     },
     "execution_count": 4,
     "metadata": {},
     "output_type": "execute_result"
    }
   ],
   "source": [
    "# 3.指定集合  每个库中有许多的集合，类似于关系型数据库中的表\n",
    "collection=db.students\n",
    "collection"
   ]
  },
  {
   "cell_type": "code",
   "execution_count": 5,
   "metadata": {},
   "outputs": [
    {
     "name": "stdout",
     "output_type": "stream",
     "text": [
      "新插入的文档的标号为: 5c305b5997343a2f98e23b7e\n"
     ]
    }
   ],
   "source": [
    "#插入数据（文档）\n",
    "student={\n",
    "    'id':'1',\n",
    "    'name':'dzb',\n",
    "    'age':'20',\n",
    "    'gender':'male',\n",
    "}\n",
    "result=collection.insert_one(student)  #每条数据都有一个 _id的属性作为唯一的标识\n",
    "print('新插入的文档的标号为:',result.inserted_id)"
   ]
  },
  {
   "cell_type": "code",
   "execution_count": 6,
   "metadata": {},
   "outputs": [
    {
     "name": "stdout",
     "output_type": "stream",
     "text": [
      "[ObjectId('5c305b5c97343a2f98e23b7f'), ObjectId('5c305b5c97343a2f98e23b80')]\n"
     ]
    }
   ],
   "source": [
    "student2={\n",
    "    'id':'1',\n",
    "    'name':'ls',\n",
    "    'age':'20',\n",
    "    'gender':'male',\n",
    "}\n",
    "student3={\n",
    "    'id':'1',\n",
    "    'name':'ww',\n",
    "    'age':'20',\n",
    "    'gender':'male',\n",
    "}\n",
    "result=collection.insert_many([student2,student3]) #生成多个id\n",
    "print( result.inserted_ids)"
   ]
  },
  {
   "cell_type": "code",
   "execution_count": 7,
   "metadata": {},
   "outputs": [
    {
     "name": "stdout",
     "output_type": "stream",
     "text": [
      "<class 'dict'>\n",
      "{'_id': ObjectId('5c3021f297343a3040ba3762'), 'id': '1', 'name': 'dzb', 'age': '20', 'gender': 'male'}\n"
     ]
    }
   ],
   "source": [
    "# 查询\n",
    "result=collection.find_one( {'name':'dzb'} )\n",
    "print(type(result))\n",
    "print(result)"
   ]
  },
  {
   "cell_type": "code",
   "execution_count": 8,
   "metadata": {
    "collapsed": true
   },
   "outputs": [],
   "source": [
    "#更多的条件查询\n",
    "'''\n",
    "$lt $gt $lte $gte $ne $in $nin\n",
    "'''\n",
    "results=collection.find( {'age':{'$gte':10} } )\n",
    "for result in results:\n",
    "    print(result)"
   ]
  },
  {
   "cell_type": "code",
   "execution_count": 10,
   "metadata": {},
   "outputs": [
    {
     "name": "stdout",
     "output_type": "stream",
     "text": [
      "============\n",
      "{'_id': ObjectId('5c30226497343a3040ba3764'), 'id': '1', 'name': 'ww', 'age': '20', 'gender': 'male'}\n",
      "{'_id': ObjectId('5c305b5c97343a2f98e23b80'), 'id': '1', 'name': 'ww', 'age': '20', 'gender': 'male'}\n"
     ]
    }
   ],
   "source": [
    "#正则表达式\n",
    "print('============')\n",
    "result=collection.find( {'name':{'$regex':'^w.*'} } )  #  ^字符串开头 以w开头后面跟 .* 后面跟任意字符\n",
    "\n",
    "for resu in result:\n",
    "    print(resu)"
   ]
  },
  {
   "cell_type": "code",
   "execution_count": 11,
   "metadata": {},
   "outputs": [
    {
     "name": "stdout",
     "output_type": "stream",
     "text": [
      "=========\n",
      "{'_id': ObjectId('5c30226497343a3040ba3764'), 'id': '1', 'name': 'ww', 'age': '20', 'gender': 'male'}\n",
      "{'_id': ObjectId('5c305b5c97343a2f98e23b80'), 'id': '1', 'name': 'ww', 'age': '20', 'gender': 'male'}\n"
     ]
    }
   ],
   "source": [
    "# 9.功能符号\n",
    "'''\n",
    "$regex\n",
    "$exists\n",
    "$:type\n",
    "$mod:{'age':{'$mod':[5.0] } }\n",
    "'''\n",
    "print('=========')\n",
    "results=collection.find({'name':{'$regex':'^w.*'} } )\n",
    "for result in results:\n",
    "    print(result)"
   ]
  },
  {
   "cell_type": "code",
   "execution_count": 12,
   "metadata": {},
   "outputs": [
    {
     "name": "stdout",
     "output_type": "stream",
     "text": [
      "['dzb', 'dzb', 'ls', 'ls', 'ww', 'ww']\n"
     ]
    }
   ],
   "source": [
    "# 排序\n",
    "results=collection.find().sort('name',pymongo.ASCENDING)\n",
    "print( [result['name'] for result in results] )"
   ]
  },
  {
   "cell_type": "code",
   "execution_count": 13,
   "metadata": {},
   "outputs": [
    {
     "name": "stdout",
     "output_type": "stream",
     "text": [
      "6\n"
     ]
    },
    {
     "name": "stderr",
     "output_type": "stream",
     "text": [
      "C:\\ProgramData\\Anaconda3\\lib\\site-packages\\ipykernel_launcher.py:2: DeprecationWarning: count is deprecated. Use Collection.count_documents instead.\n",
      "  \n"
     ]
    }
   ],
   "source": [
    "# 计数\n",
    "count=collection.find().count()\n",
    "print(count)"
   ]
  },
  {
   "cell_type": "code",
   "execution_count": 14,
   "metadata": {},
   "outputs": [
    {
     "name": "stdout",
     "output_type": "stream",
     "text": [
      "{'_id': ObjectId('5c305b5c97343a2f98e23b7f'), 'id': '1', 'name': 'ls', 'age': '20', 'gender': 'male'}\n",
      "{'_id': ObjectId('5c30226497343a3040ba3764'), 'id': '1', 'name': 'ww', 'age': '20', 'gender': 'male'}\n"
     ]
    }
   ],
   "source": [
    "#偏移  --》 用于分页\n",
    "results=collection.find().sort('name',pymongo.ASCENDING).skip(3).limit(2)\n",
    "for result in results:\n",
    "    print(result)"
   ]
  },
  {
   "cell_type": "code",
   "execution_count": 15,
   "metadata": {},
   "outputs": [
    {
     "name": "stdout",
     "output_type": "stream",
     "text": [
      "0    0\n"
     ]
    }
   ],
   "source": [
    "# 更新\n",
    "condition={'name':'zy','age':20}\n",
    "student['age']=25\n",
    "result=collection.update_many(condition,{'$set':student } )\n",
    "print( result.matched_count,'  ',result.modified_count)"
   ]
  },
  {
   "cell_type": "code",
   "execution_count": 17,
   "metadata": {},
   "outputs": [
    {
     "name": "stdout",
     "output_type": "stream",
     "text": [
      "1\n"
     ]
    }
   ],
   "source": [
    "#删除\n",
    "result=collection.delete_one( {'name':'dzb'} )\n",
    "print( result.deleted_count )"
   ]
  },
  {
   "cell_type": "code",
   "execution_count": 18,
   "metadata": {},
   "outputs": [
    {
     "name": "stdout",
     "output_type": "stream",
     "text": [
      "0\n"
     ]
    }
   ],
   "source": [
    "result=collection.delete_many( {'age':{'$lte':25} })\n",
    "print( result.deleted_count)"
   ]
  },
  {
   "cell_type": "code",
   "execution_count": 2,
   "metadata": {},
   "outputs": [
    {
     "name": "stdout",
     "output_type": "stream",
     "text": [
      "cilent.test\n"
     ]
    }
   ],
   "source": [
    "db='test'\n",
    "str='cilent'+'.'+db\n",
    "print(str)"
   ]
  },
  {
   "cell_type": "code",
   "execution_count": null,
   "metadata": {
    "collapsed": true
   },
   "outputs": [],
   "source": []
  }
 ],
 "metadata": {
  "kernelspec": {
   "display_name": "Python 3",
   "language": "python",
   "name": "python3"
  },
  "language_info": {
   "codemirror_mode": {
    "name": "ipython",
    "version": 3
   },
   "file_extension": ".py",
   "mimetype": "text/x-python",
   "name": "python",
   "nbconvert_exporter": "python",
   "pygments_lexer": "ipython3",
   "version": "3.6.2"
  }
 },
 "nbformat": 4,
 "nbformat_minor": 2
}
