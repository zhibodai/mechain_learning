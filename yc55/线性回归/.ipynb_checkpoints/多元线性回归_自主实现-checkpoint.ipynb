{
 "cells": [
  {
   "cell_type": "code",
   "execution_count": 1,
   "metadata": {
    "collapsed": true
   },
   "outputs": [],
   "source": [
    "import numpy as np\n",
    "import matplotlib.pyplot as plt"
   ]
  },
  {
   "cell_type": "code",
   "execution_count": 12,
   "metadata": {},
   "outputs": [],
   "source": [
    "#训练\n",
    "def LinearRegression_fit(x_train,y_train):\n",
    "    #进行断言，保证 x_train,y_train 是一一对应的关系\n",
    "    assert x_train.shape[0] == y_train.shape[0], \\\n",
    "        \"the size of x_train must be equals to the size of y_train\"\n",
    "    #  hstack水平的把数组拼接  \n",
    "    x_b=np.hstack([np.ones( (len(x_train),1) ),x_train])\n",
    "    #  np.linalg.inv 将矩阵 变为逆阵       theta=[a0+a1+a2+....+aN]\n",
    "    theta=np.linalg.inv((x_b.T).dot(x_b)).dot(x_b.T).dot(y_train)\n",
    "    # 特征列表      \n",
    "    return theta\n",
    "\n",
    "def LinearRegression_pre(x_pre,theta):\n",
    "    '''\n",
    "    x_pre : 带预测数据集\n",
    "    theta   特征\n",
    "    '''\n",
    "    x_b=np.hstack([np.ones( (len(x_pre),1) ),x_pre])\n",
    "    return x_b.dot(theta)"
   ]
  },
  {
   "cell_type": "code",
   "execution_count": 23,
   "metadata": {},
   "outputs": [],
   "source": [
    "from sklearn.datasets import load_boston \n",
    "from sklearn.cross_validation import train_test_split\n",
    "from sklearn.metrics import r2_score,mean_absolute_error,mean_squared_error"
   ]
  },
  {
   "cell_type": "code",
   "execution_count": 14,
   "metadata": {},
   "outputs": [],
   "source": [
    "boston=load_boston()\n",
    "X=boston.data\n",
    "y=boston.target"
   ]
  },
  {
   "cell_type": "code",
   "execution_count": 20,
   "metadata": {
    "collapsed": true
   },
   "outputs": [],
   "source": [
    "X_train,X_test,y_train,y_test=train_test_split(X,y,test_size=0.1,random_state=33)"
   ]
  },
  {
   "cell_type": "code",
   "execution_count": 21,
   "metadata": {},
   "outputs": [
    {
     "data": {
      "text/plain": [
       "array([ 20.45993749,  11.60920032,  12.89096279,  18.07771383,\n",
       "        22.83545673,  20.9491449 ,  36.62380506,  14.5885122 ,\n",
       "        22.85276886,  22.4805394 ,  24.79392184,  36.76106442,\n",
       "         4.55854886,  25.69585396,  11.5540423 ,  23.81582885,\n",
       "        17.09991941,  18.37438673,  32.33379759,  22.75118417,\n",
       "        12.56298263,  20.00575882,  18.42063673,  18.79370284,\n",
       "        34.05508931,  15.61201141,  25.7911889 ,  24.98714297,\n",
       "        11.36186893,  34.75212851,  16.71031474,  25.9179321 ,\n",
       "         5.87260043,  16.252907  ,  30.32532712,  33.3849224 ,\n",
       "        25.33256108,   5.71400295,  19.589365  ,  29.28877452,\n",
       "        17.88813282,  12.78739801,  30.27290408,  16.07024142,\n",
       "        30.53869301,  20.11281547,  20.82415797,  17.61992712,\n",
       "        23.92076655,  21.24839436,  17.37729757])"
      ]
     },
     "execution_count": 21,
     "metadata": {},
     "output_type": "execute_result"
    }
   ],
   "source": [
    "theta=LinearRegression_fit(X_train,y_train)\n",
    "y_pre=LinearRegression_pre(X_test,theta)\n",
    "y_pre"
   ]
  },
  {
   "cell_type": "code",
   "execution_count": 22,
   "metadata": {},
   "outputs": [
    {
     "data": {
      "text/plain": [
       "array([ 20.5,   5.6,  13.4,  12.6,  21.2,  19.7,  32.4,  14.8,  33. ,\n",
       "        21.4,  30.1,  36. ,   8.4,  21.6,  16.3,  23. ,  14.9,  14.1,\n",
       "        31.1,  11.9,  12.7,  27.9,  20.8,  19.6,  32. ,  21.9,  23.2,\n",
       "        23.8,  10.8,  34.9,  19.1,  26.5,  10.5,  17.5,  24. ,  36.1,\n",
       "        25.3,  13.8,  27.5,  24.6,  12.7,   9.5,  32.7,  13.8,  23.5,\n",
       "        17.7,  15.6,  22.5,  26.2,  20.6,  14.1])"
      ]
     },
     "execution_count": 22,
     "metadata": {},
     "output_type": "execute_result"
    }
   ],
   "source": [
    "y_test"
   ]
  },
  {
   "cell_type": "code",
   "execution_count": 25,
   "metadata": {},
   "outputs": [
    {
     "name": "stdout",
     "output_type": "stream",
     "text": [
      "0.690044691844\n",
      "MSE 评分： 18.3780855864\n",
      "MAE 评分： 3.33912590499\n"
     ]
    }
   ],
   "source": [
    "#使用  R-squared   MSE  MAE  三种指标对平均回归配置的K近邻模型在测试集上进行性能评估\n",
    "print(r2_score(y_test,y_pre))    #顺序不能变\n",
    "print('MSE 评分：',\n",
    "     mean_squared_error(y_test ,y_pre))\n",
    "print('MAE 评分：',\n",
    "     mean_absolute_error(y_test,y_pre ) )"
   ]
  },
  {
   "cell_type": "code",
   "execution_count": 29,
   "metadata": {},
   "outputs": [
    {
     "data": {
      "text/plain": [
       "array([ 0,  1,  2,  3,  4,  5,  6,  7,  8,  9, 10, 11, 12, 13, 14, 15, 16,\n",
       "       17, 18, 19, 20, 21, 22, 23, 24, 25, 26, 27, 28, 29, 30, 31, 32, 33,\n",
       "       34, 35, 36, 37, 38, 39, 40, 41, 42, 43, 44, 45, 46, 47, 48, 49, 50])"
      ]
     },
     "execution_count": 29,
     "metadata": {},
     "output_type": "execute_result"
    }
   ],
   "source": [
    "#用直线的形式将预测与实际值绘制出来\n",
    "a=[]\n",
    "for i in range(y_test.size):\n",
    "    a.append(i)\n",
    "x=np.array(a,dtype = int)\n",
    "plt.plot(x,y_pre,color='r')\n",
    "plt.plot(x,y_test,color='blue')\n",
    "plt.axis([0,x.size,0,40])\n",
    "plt.show()"
   ]
  },
  {
   "cell_type": "code",
   "execution_count": 32,
   "metadata": {},
   "outputs": [
    {
     "data": {
      "text/plain": [
       "array([ 20.5,   5.6,  13.4,  12.6,  21.2,  19.7,  32.4,  14.8,  33. ,\n",
       "        21.4,  30.1,  36. ,   8.4,  21.6,  16.3,  23. ,  14.9,  14.1,\n",
       "        31.1,  11.9,  12.7,  27.9,  20.8,  19.6,  32. ,  21.9,  23.2,\n",
       "        23.8,  10.8,  34.9,  19.1,  26.5,  10.5,  17.5,  24. ,  36.1,\n",
       "        25.3,  13.8,  27.5,  24.6,  12.7,   9.5,  32.7,  13.8,  23.5,\n",
       "        17.7,  15.6,  22.5,  26.2,  20.6,  14.1])"
      ]
     },
     "execution_count": 32,
     "metadata": {},
     "output_type": "execute_result"
    }
   ],
   "source": []
  },
  {
   "cell_type": "code",
   "execution_count": null,
   "metadata": {
    "collapsed": true
   },
   "outputs": [],
   "source": []
  }
 ],
 "metadata": {
  "kernelspec": {
   "display_name": "Python 3",
   "language": "python",
   "name": "python3"
  },
  "language_info": {
   "codemirror_mode": {
    "name": "ipython",
    "version": 3
   },
   "file_extension": ".py",
   "mimetype": "text/x-python",
   "name": "python",
   "nbconvert_exporter": "python",
   "pygments_lexer": "ipython3",
   "version": "3.6.2"
  }
 },
 "nbformat": 4,
 "nbformat_minor": 2
}
