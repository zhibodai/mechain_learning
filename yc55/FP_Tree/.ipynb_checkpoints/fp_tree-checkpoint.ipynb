{
 "cells": [
  {
   "cell_type": "code",
   "execution_count": 1,
   "metadata": {
    "collapsed": true
   },
   "outputs": [],
   "source": [
    "#创建fp树的节点\n",
    "class treeNode:\n",
    "    def __init__(self,nameValue,numOccur,parentNode):\n",
    "        self.name=nameValue  #节点元素名称  在构建时初始化为给定值\n",
    "        self.count=numOccur  #出现次数  在构建时初始化为给定值\n",
    "        self.nodeLink=None  #指向下一个相似节点的指针  默认为None\n",
    "        self.parent=parentNode  #指向父亲节点的指针  在构建时初始化为给定值\n",
    "        self.children={}  #指向子节点的字典，以节点的元素名称为链  指向子节点的指针为值  初始化为空字典\n",
    "    \n",
    "    def increte(self,numOccur):\n",
    "        self.count += numOccur\n",
    "    \n",
    "    def display(self,level=1):\n",
    "        print('  '*level,self.name,'\\t',self.count)\n",
    "        for child in self.children.values():\n",
    "            child.display(level+1)"
   ]
  },
  {
   "cell_type": "code",
   "execution_count": 2,
   "metadata": {},
   "outputs": [
    {
     "name": "stdout",
     "output_type": "stream",
     "text": [
      "   fruit \t 9\n",
      "     apple \t 13\n",
      "     pear \t 3\n"
     ]
    }
   ],
   "source": [
    "#测试\n",
    "rootNode=treeNode('fruit',9,None)\n",
    "rootNode.children['apple']=treeNode('apple',13,None)\n",
    "rootNode.children['pear']=treeNode('pear',3,None)\n",
    "rootNode.display()"
   ]
  },
  {
   "cell_type": "markdown",
   "metadata": {},
   "source": [
    " 输入：数据集，最小支持度  \n",
    " 输出  FP树  头指针表\n",
    "  1.遍历数据集，统计各元素出现次数  创建头指针\n",
    "  2.移除头指针中不满足最小尺度的元素项\n",
    "    3.第二次遍历数据集，创建FP数，对每个数据集 中的项集：\n",
    "       3.1初始化空FP树\n",
    "       3.2对每个项集进行过滤与重排序\n",
    "       3.3使用这个项集更新FP树，从FP树的根节点开始：\n",
    "         3.3.1 如果当前项集的第一个元素项存在于FP树当前的子节点中，则更新这个子节点的计数值\n",
    "         3.3.2 否则创建新的子节点，更新头指针表\n",
    "         3.3.3 对当前项集的其余元素项和当前元素项对应的子节点递归3.3过程"
   ]
  },
  {
   "cell_type": "code",
   "execution_count": null,
   "metadata": {
    "collapsed": true
   },
   "outputs": [],
   "source": [
    "'''\n",
    "功能 将 新的相似的节点添加到  头指针对应元素的链表结构的最后\n",
    "参数说明：\n",
    "    nodeToUpdate：头指针中对应的节点，将 targetNode 添加到它的链表的最后一个元素上  nodeLink上\n",
    "    targetNode  添加相似的节点\n",
    "'''\n",
    "def updateHeader(nodeToUpdate,targetNode):\n",
    "    #从头指针表nodeLink开始，一直沿着nodeLink直到链表的最后\n",
    "    while(nodeToUpdate.nodeLink !=None):\n",
    "        nodeToUpdate=nodeToUpdate.nodeLink\n",
    "    #在最后加入的最新的相似节点\n",
    "    nodeToUpdate.nodeLink=targetNode"
   ]
  },
  {
   "cell_type": "code",
   "execution_count": 4,
   "metadata": {
    "collapsed": true
   },
   "outputs": [],
   "source": [
    "'''\n",
    "更新FP树\n",
    "参数说明：\n",
    "    orderedItems  对应一条事务经过筛选后的路径  只保留了频繁项 并且排好了序\n",
    "    rootTree   需更新树的节点\n",
    "'''\n",
    "def updateTree(orderedItems,rootTree,headerTable,count):\n",
    "    #print(orderedItems,'')\n",
    "    #1.路径：筛选后的事务第一个元素是否已经是  rootTree的子节点  如果是，则增加数量\n",
    "    if orderedItems[0] in rootTree.children:\n",
    "        #有该元素项 计数值加1\n",
    "        rootTree.children[orderedItems[0]].increte(count)\n",
    "    else:\n",
    "        # 2. 没有这个元素项时创建一个新的节点  并且添加到树中 同时还要更新头指针表  以指向新的节点\n",
    "        rootTree.children[orderedItems[0] ]=treeNode(orderedItems[0],count,rootTree)\n",
    "        #  更新头指针或前一个相似元素节点的指针指向新的节点\n",
    "        if headerTable[orderedItems[0] ][1]==None: #如果 headerTable中 键为 orderedItems[0]  对应的值[次数,指针]的指针为空，则添加这个指针\n",
    "            headerTable[orderedItems[0]][1]=rootTree.children[  orderedItems[0]  ]\n",
    "        else:  #如果指针已经有一个   则需要重新更新  头指针表 用新的   rootTree.children[ orderedItems[0] ] 去更新 headerTable[orderedItems[0]]\n",
    "            updateHeader( headerTable[orderedItems[0]][1],rootTree.children[orderedItems[0] ] )\n",
    "            \n",
    "    # orderedItems中如果还有节点  则不断迭代调用自身  每次调用去掉列表中的第一个元素  递归更新树\n",
    "    if len(orderedItems)>1:\n",
    "        #对剩下的元素项迭代调用updateTree函数\n",
    "        #orderedItems[1::] 切片 将首个节点去掉\n",
    "        #rootTree.children[orderedItems[0]]  :在fp树中 找到  orderedItems[0] 这个点\n",
    "        updateTree(orderedItems[1::],rootTree.children[orderedItems[0]],headerTable,count)"
   ]
  },
  {
   "cell_type": "code",
   "execution_count": 5,
   "metadata": {
    "collapsed": true
   },
   "outputs": [],
   "source": [
    "'''\n",
    "创建树\n",
    "    参数说明：\n",
    "        dataset：原始事务集\n",
    "            {frozenset({'z'}):1,\n",
    "             frozenset({'h','j','p','r','z'}):1,\n",
    "             ...\n",
    "            }\n",
    "        minSup:最小支持度\n",
    "    返回 FP树  头指针表\n",
    "'''\n",
    "def createTree(dataSet,minSup=1):\n",
    "    '''创建 FP树 '''\n",
    "    #第一次遍历数据集   创建头指针表\n",
    "    headerTable = {}  #第一次循环产生结构:  {k-1频繁项 : 次数}\n",
    "    for transaction in dataSet:\n",
    "        for item in transaction:\n",
    "            headerTable[item] = headerTable.get(item,0) + dataSet[transaction]\n",
    "    #移除不满足最小支持度的元素项\n",
    "    '''\n",
    "    原python2可以  但 python3  字典在遍历时不能进行修改，建议转成列表或集合处理    \n",
    "    '''\n",
    "    for key in list(headerTable.keys()):\n",
    "        if headerTable[key]<minSup:\n",
    "            del(headerTable[key])\n",
    "    \n",
    "    #存所有的频繁项的集合\n",
    "    freqItemSet = set(headerTable.keys())\n",
    "    #空频繁元素集  返回空\n",
    "    if len(freqItemSet)==0:\n",
    "        return None,None\n",
    "    #增加一个数据项，用于存放指向相似元素项指针  {k-1频繁项:[次数,指针] }\n",
    "    for key in headerTable:\n",
    "        headerTable[key] = [headerTable[key],None]\n",
    "    rootTree=treeNode('Null Set',1,None)  #根节点  是一个空元素\n",
    "    #第二次遍历数据集  对每一个事务  创建一个FP树的一条路径\n",
    "    for transaction,count in dataSet.items():\n",
    "        # localD 中存的是一条路径（对应一个transaction）\n",
    "        localD={}  #对项集  transet  记录其所有元素的全局频率  用于排序    数据结构：{频繁项:次数}\n",
    "        #循环事务中的每一个item 判断是否为频繁项  如果是 添加到localD中\n",
    "        for item in transaction:\n",
    "            if item in freqItemSet:\n",
    "                #{'r':5,'z':4}\n",
    "                localD[item]=headerTable[item][0]\n",
    "        if len(localD)>0:\n",
    "            #localD.item()  -》  返回一个元祖  （键,值）的集合  p就是一个键值对的元祖 p[1]取元祖的第二个值\n",
    "            #根据 localD每个键值对进行排序\n",
    "            # orderedItems 排序后的频繁项列表 [项，项...]\n",
    "            orderedItems = [v[0] for v in sorted(localD.items(),key=lambda p:p[1],reverse=True)]#得到排好序的一条\n",
    "            updateTree(orderedItems,rootTree,headerTable,count) \n",
    "    return rootTree,headerTable"
   ]
  },
  {
   "cell_type": "code",
   "execution_count": 6,
   "metadata": {
    "collapsed": true
   },
   "outputs": [],
   "source": [
    "#测试以上函数\n",
    "\n",
    "#  定一个函数：加载数据集\n",
    "def loadSimpleData():\n",
    "    simpleData=[['r','z','h','j','p'],\n",
    "                ['z','y','x','w','v','u','t','s'],\n",
    "                ['z'],\n",
    "                ['r','x','n','o','s'],\n",
    "                ['y','r','x','z','q','t','p'],\n",
    "                ['y','z','x','e','q','s','t','m']]\n",
    "    return simpleData\n",
    "\n",
    "#定义一个函数  用于将事务列表转为frozenset，并存为字典，每条记录记值为1\n",
    "def createInitSet(dataSet):\n",
    "    retDict={}\n",
    "    for trans in dataSet:\n",
    "        retDict[frozenset(trans)]=1\n",
    "    return retDict"
   ]
  },
  {
   "cell_type": "code",
   "execution_count": 7,
   "metadata": {},
   "outputs": [
    {
     "name": "stdout",
     "output_type": "stream",
     "text": [
      "[['r', 'z', 'h', 'j', 'p'], ['z', 'y', 'x', 'w', 'v', 'u', 't', 's'], ['z'], ['r', 'x', 'n', 'o', 's'], ['y', 'r', 'x', 'z', 'q', 't', 'p'], ['y', 'z', 'x', 'e', 'q', 's', 't', 'm']]\n"
     ]
    }
   ],
   "source": [
    "dataSet=loadSimpleData()\n",
    "print(dataSet)"
   ]
  },
  {
   "cell_type": "code",
   "execution_count": 8,
   "metadata": {},
   "outputs": [
    {
     "data": {
      "text/plain": [
       "{frozenset({'z'}): 1,\n",
       " frozenset({'h', 'j', 'p', 'r', 'z'}): 1,\n",
       " frozenset({'s', 't', 'u', 'v', 'w', 'x', 'y', 'z'}): 1,\n",
       " frozenset({'n', 'o', 'r', 's', 'x'}): 1,\n",
       " frozenset({'p', 'q', 'r', 't', 'x', 'y', 'z'}): 1,\n",
       " frozenset({'e', 'm', 'q', 's', 't', 'x', 'y', 'z'}): 1}"
      ]
     },
     "execution_count": 8,
     "metadata": {},
     "output_type": "execute_result"
    }
   ],
   "source": [
    "transactionDict=createInitSet(dataSet)\n",
    "transactionDict"
   ]
  },
  {
   "cell_type": "code",
   "execution_count": 9,
   "metadata": {},
   "outputs": [
    {
     "name": "stdout",
     "output_type": "stream",
     "text": [
      "   Null Set \t 1\n",
      "     z \t 5\n",
      "       r \t 1\n",
      "       x \t 3\n",
      "         t \t 3\n",
      "           s \t 2\n",
      "             y \t 2\n",
      "           y \t 1\n",
      "             r \t 1\n",
      "     x \t 1\n",
      "       s \t 1\n",
      "         r \t 1\n",
      "{'z': [5, <__main__.treeNode object at 0x00000142E463EA58>], 'r': [3, <__main__.treeNode object at 0x00000142E463E668>], 't': [3, <__main__.treeNode object at 0x00000142E463E898>], 'x': [4, <__main__.treeNode object at 0x00000142E463E908>], 's': [3, <__main__.treeNode object at 0x00000142E463EA20>], 'y': [3, <__main__.treeNode object at 0x00000142E463EA90>]}\n"
     ]
    }
   ],
   "source": [
    "rootTree,headTable=createTree(transactionDict,3)\n",
    "rootTree.display()\n",
    "print(headTable)"
   ]
  },
  {
   "cell_type": "code",
   "execution_count": null,
   "metadata": {
    "collapsed": true
   },
   "outputs": [],
   "source": []
  },
  {
   "cell_type": "markdown",
   "metadata": {},
   "source": [
    "# 从一颗FP树中挖掘频繁项集\n",
    "从FP树抽取频繁项集的三个基本步骤如下：\n",
    "\n",
    "\n",
    "#### 1.从FP树中获得条件模式基\n",
    "2.利用条件模式基，构建一个条件FP树\n",
    "#### 3.迭代重复步骤1步骤2，直到树包含一个元素项为止.\n",
    "\n",
    "##### 1.抽取条件模式基什么是条件模式基，条件模式基是以所查找元素项为结尾的路径集合，每一条路径其实都是一条前缀路径（prefix path）  简而言之，一条前缀\n",
    "路径介于所查找的元素项与树根节点之间的所有内容\n",
    "\n",
    "从上面发现已经保存在头指针的表中的单个频繁元素开始 对于每一个元素项 获得其对应的条件模式基"
   ]
  },
  {
   "cell_type": "code",
   "execution_count": 10,
   "metadata": {
    "collapsed": true
   },
   "outputs": [],
   "source": [
    "'''\n",
    "给定元素项生成一个条件模式基(前缀路径)  \n",
    "baseRequenceList:输入的频繁项\n",
    "treeNode  当前FP树的第一个节点 \n",
    "condPats  ： {frozenset(前缀路径):计数值}\n",
    "'''\n",
    "def findPrefixPath(baseRequenceList,treeNode):\n",
    "    #创建前缀路径\n",
    "    condPats={}\n",
    "    while treeNode !=None:\n",
    "        prefixPath=[]\n",
    "        ascendTree(treeNode,prefixPath)  #向这个节点的前面查找  形成路径\n",
    "        if len(prefixPath)>1 :\n",
    "            # prefixPath 下标为0的是第一个  TreeNode  不用取出，所以从1开始才是 条件模式基\n",
    "            condPats[frozenset(prefixPath[1:])]=treeNode.count\n",
    "        treeNode=treeNode.nodeLink\n",
    "    return condPats\n",
    "\n",
    "'''\n",
    "函数功能：直接修改prefixPath的值 将当前节点leafNode添加到prefixPath的末尾，然后递归添加到其父节点。\n",
    "返回值:prefixPath就是一条从 treeNode（包括）到根节点（不包括）的路径\n",
    "调用方法:主函数findPrefixPath() 中取出 prefixPath[1:]  即为treeNode的前缀路径\n",
    "'''\n",
    "def ascendTree(leafNode,prefixPath):\n",
    "    if leafNode.parent !=None:\n",
    "        prefixPath.append(leafNode.name)\n",
    "        ascendTree(leafNode.parent,prefixPath)"
   ]
  },
  {
   "cell_type": "code",
   "execution_count": 12,
   "metadata": {},
   "outputs": [
    {
     "name": "stdout",
     "output_type": "stream",
     "text": [
      "{frozenset({'z'}): 3}\n"
     ]
    }
   ],
   "source": [
    "print(findPrefixPath('x',headTable['x'][1] ) )    #  headerTable   {k-1频繁项:[次数,指针]}"
   ]
  },
  {
   "cell_type": "markdown",
   "metadata": {},
   "source": [
    "# 2.创建条件FP树\n",
    "对于每一个频繁项，都要创建一个条件FP树 可以使刚才发现的条件模式基作为输入数据，并且通过相同的建树代码构建这些树过程说明\n",
    "##### 比如  t的条件树FP树\n",
    "###        它的条件模式基\n",
    "###        最小支持度 3\n",
    "###        则可以过滤掉  r\n",
    "###        再形成FP树\n",
    "            x:3\n",
    "            y:3\n",
    "            z:3"
   ]
  },
  {
   "cell_type": "code",
   "execution_count": 14,
   "metadata": {},
   "outputs": [
    {
     "name": "stdout",
     "output_type": "stream",
     "text": [
      "根据条件模式基生成的条件FP树: <__main__.treeNode object at 0x00000142E452ABE0>\n",
      "   Null Set \t 1\n",
      "     z \t 3\n",
      "这个条件FP树对应的头指针表: {'z': [3, <__main__.treeNode object at 0x00000142E452A898>]}\n"
     ]
    }
   ],
   "source": [
    "#分析一下代码  用于根据 每一个频繁项  basePat 先找到条件模式基 ，再创建一颗条件FP树\n",
    "condPattBases=findPrefixPath('x',headTable['x'][1] )\n",
    "myCondTree,myHead=createTree(condPattBases,2)\n",
    "print('根据条件模式基生成的条件FP树:',myCondTree)\n",
    "myCondTree.display()\n",
    "print('这个条件FP树对应的头指针表:',myHead)"
   ]
  },
  {
   "cell_type": "code",
   "execution_count": 15,
   "metadata": {},
   "outputs": [
    {
     "name": "stdout",
     "output_type": "stream",
     "text": [
      "根据条件模式基生成的条件FP树： <__main__.treeNode object at 0x00000142E4638F98>\n",
      "   Null Set \t 1\n",
      "     x \t 3\n",
      "       t \t 2\n",
      "         z \t 2\n",
      "这个条件FP树对应的头指针表{'t': [2, <__main__.treeNode object at 0x00000142E4637EF0>], 'z': [2, <__main__.treeNode object at 0x00000142E4637128>], 'x': [3, <__main__.treeNode object at 0x00000142E4638588>]}\n"
     ]
    }
   ],
   "source": [
    "condPattBases=findPrefixPath('s',headTable['s'][1])\n",
    "myCondTree,myHead=createTree(condPattBases,2)\n",
    "print('根据条件模式基生成的条件FP树：',myCondTree)\n",
    "myCondTree.display()\n",
    "print('这个条件FP树对应的头指针表{0}'.format(myHead))"
   ]
  },
  {
   "cell_type": "markdown",
   "metadata": {},
   "source": [
    "# 3.递归查找频繁项集\n",
    "  有了FP树和条件FP树，我们就可以在前两步的基础上递归得查找频繁项集\n",
    "    \n",
    "    递归过程分析如下：\n",
    "    输入我们有当前数据集的FP树（rootTree,headerTable）\n",
    "    1.初始化一个空的列表prefix表示前缀\n",
    "    2.初始化一个空的列表freqItemList接受生成的频繁项集（作为输出）\n",
    "    3.对headerTable中的每个元素basePat（按计数值由小到大），递归：\n",
    "        3.1 记basePat+preFix为当前频繁项集newFreqSet\n",
    "        3.2 将newFreqSet添加到freqItemList中\n",
    "        3.3 计算newFreqSet的条件FP树 (myConditionTree,myHeaderTable)\n",
    "        3.4 当条件FP树不为空时，继续下一步：否则退出递归\n",
    "        3.5 myConditionTree,myHeaderTable  以newFreqSet为新的prefix "
   ]
  },
  {
   "cell_type": "code",
   "execution_count": 16,
   "metadata": {
    "collapsed": true
   },
   "outputs": [],
   "source": [
    "'''\n",
    "输入参数：\n",
    "    rootTree和headtable是由createTree()函数生成的数据集的FP树\n",
    "    minSup表示最小支持度\n",
    "    prefix请传入一个空集合(set([])),将在函数中用于保存当前的前缀\n",
    "    freqItemList请传入一个空列表([])  将用来储存生成的频繁项集\n",
    "'''\n",
    "def mineTree(rootTree,headTable,minSup,preFix,freqItemList):\n",
    "    bigL=[v[0] for v in sorted(headTable.items(),key=lambda p:str(p[1]) )]\n",
    "    #从底层（即次数少的频繁项）开始循环\n",
    "    for basePat in bigL:\n",
    "        #加入频繁项列表\n",
    "        newFreqSet = preFix.copy()\n",
    "        newFreqSet.add(basePat)\n",
    "        freqItemList.append(newFreqSet)\n",
    "        \n",
    "        #递归调用函数来创建条件模式基\n",
    "        conditionPatternBases = findPrefixPath(basePat,headTable[basePat][1])\n",
    "        #构建条件模式Tree 及头指针列表\n",
    "        myCondTree,myHead = createTree(conditionPatternBases,minSup)\n",
    "        \n",
    "        if myHead !=None:\n",
    "            print('conditional pattern tree for:{0}'.format(newFreqSet))\n",
    "            myCondTree.display()\n",
    "            \n",
    "            mineTree(myCondTree,myHead,minSup,newFreqSet,freqItemList)"
   ]
  },
  {
   "cell_type": "code",
   "execution_count": 17,
   "metadata": {},
   "outputs": [
    {
     "data": {
      "text/plain": [
       "['r', 't', 's', 'y', 'x', 'z']"
      ]
     },
     "execution_count": 17,
     "metadata": {},
     "output_type": "execute_result"
    }
   ],
   "source": [
    "bigL=[v[0] for v in sorted(headTable.items(),key=lambda p: str(p[1] ) )]\n",
    "bigL"
   ]
  },
  {
   "cell_type": "code",
   "execution_count": 18,
   "metadata": {},
   "outputs": [
    {
     "name": "stdout",
     "output_type": "stream",
     "text": [
      "conditional pattern tree for:{'t'}\n",
      "   Null Set \t 1\n",
      "     z \t 3\n",
      "       x \t 3\n",
      "conditional pattern tree for:{'t', 'x'}\n",
      "   Null Set \t 1\n",
      "     z \t 3\n",
      "conditional pattern tree for:{'s'}\n",
      "   Null Set \t 1\n",
      "     x \t 3\n",
      "conditional pattern tree for:{'y'}\n",
      "   Null Set \t 1\n",
      "     t \t 3\n",
      "       z \t 3\n",
      "         x \t 3\n",
      "conditional pattern tree for:{'y', 'x'}\n",
      "   Null Set \t 1\n",
      "     t \t 3\n",
      "       z \t 3\n",
      "conditional pattern tree for:{'z', 'y', 'x'}\n",
      "   Null Set \t 1\n",
      "     t \t 3\n",
      "conditional pattern tree for:{'z', 'y'}\n",
      "   Null Set \t 1\n",
      "     t \t 3\n",
      "conditional pattern tree for:{'x'}\n",
      "   Null Set \t 1\n",
      "     z \t 3\n"
     ]
    }
   ],
   "source": [
    "freq=[]\n",
    "mineTree(rootTree,headTable,3,set([]),freq)"
   ]
  },
  {
   "cell_type": "markdown",
   "metadata": {},
   "source": [
    "# 新闻网站点击中挖掘新闻报道"
   ]
  },
  {
   "cell_type": "code",
   "execution_count": 19,
   "metadata": {},
   "outputs": [
    {
     "name": "stdout",
     "output_type": "stream",
     "text": [
      "conditional pattern tree for:{'1'}\n",
      "   Null Set \t 1\n",
      "     6 \t 107404\n",
      "conditional pattern tree for:{'3'}\n",
      "   Null Set \t 1\n",
      "     6 \t 186289\n",
      "       11 \t 117401\n",
      "     11 \t 9718\n",
      "conditional pattern tree for:{'3', '11'}\n",
      "   Null Set \t 1\n",
      "     6 \t 117401\n",
      "conditional pattern tree for:{'11'}\n",
      "   Null Set \t 1\n",
      "     6 \t 261773\n"
     ]
    },
    {
     "data": {
      "text/plain": [
       "[{'1'},\n",
       " {'1', '6'},\n",
       " {'3'},\n",
       " {'11', '3'},\n",
       " {'11', '3', '6'},\n",
       " {'3', '6'},\n",
       " {'11'},\n",
       " {'11', '6'},\n",
       " {'6'}]"
      ]
     },
     "execution_count": 19,
     "metadata": {},
     "output_type": "execute_result"
    }
   ],
   "source": [
    "parseData=[line.split() for line in open('kosarak.dat').readlines()]\n",
    "initSet=createInitSet( parseData)\n",
    "myFPTree,myHeadTable=createTree(initSet,100000)\n",
    "myFreqList=[]\n",
    "mineTree(myFPTree,myHeadTable,100000,set([]),myFreqList)\n",
    "myFreqList"
   ]
  },
  {
   "cell_type": "code",
   "execution_count": null,
   "metadata": {
    "collapsed": true
   },
   "outputs": [],
   "source": []
  }
 ],
 "metadata": {
  "kernelspec": {
   "display_name": "Python 3",
   "language": "python",
   "name": "python3"
  },
  "language_info": {
   "codemirror_mode": {
    "name": "ipython",
    "version": 3
   },
   "file_extension": ".py",
   "mimetype": "text/x-python",
   "name": "python",
   "nbconvert_exporter": "python",
   "pygments_lexer": "ipython3",
   "version": "3.6.2"
  }
 },
 "nbformat": 4,
 "nbformat_minor": 2
}
