{
 "cells": [
  {
   "cell_type": "code",
   "execution_count": 1,
   "metadata": {},
   "outputs": [
    {
     "data": {
      "text/plain": [
       "array([[ 0.,  0.,  1.,  1.,  1.],\n",
       "       [ 1.,  1.,  0.,  1.,  0.],\n",
       "       [ 1.,  0.,  1.,  1.,  0.],\n",
       "       [ 0.,  0.,  1.,  1.,  1.],\n",
       "       [ 0.,  1.,  0.,  0.,  1.]])"
      ]
     },
     "execution_count": 1,
     "metadata": {},
     "output_type": "execute_result"
    }
   ],
   "source": [
    "#coding:utf-8\n",
    "import numpy as np\n",
    "dataset_filename=\"affinity_dataset.txt\"\n",
    "#加载数据\n",
    "dataset=np.loadtxt(dataset_filename)\n",
    "dataset[:5]"
   ]
  },
  {
   "cell_type": "code",
   "execution_count": 3,
   "metadata": {},
   "outputs": [
    {
     "name": "stdout",
     "output_type": "stream",
     "text": [
      "100条记录，每条记录5个特征项\n"
     ]
    },
    {
     "data": {
      "text/plain": [
       "(100, 5)"
      ]
     },
     "execution_count": 3,
     "metadata": {},
     "output_type": "execute_result"
    }
   ],
   "source": [
    "#一行表示一个用户对五个商品的购买情况  1.表示购买  2.表示未买\n",
    "n_samples,n_features=dataset.shape\n",
    "print('{0}条记录，每条记录{1}个特征项'.format(n_samples,n_features))"
   ]
  },
  {
   "cell_type": "code",
   "execution_count": 4,
   "metadata": {},
   "outputs": [
    {
     "data": {
      "text/plain": [
       "['bread', 'milk', 'cheese', 'apple', 'banana']"
      ]
     },
     "execution_count": 4,
     "metadata": {},
     "output_type": "execute_result"
    }
   ],
   "source": [
    "#定义特征集合\n",
    "features=['bread','milk','cheese','apple','banana']\n",
    "features"
   ]
  },
  {
   "cell_type": "markdown",
   "metadata": {},
   "source": [
    "# 目标一\n",
    "##### 用户购买了apple  可能也想买banana"
   ]
  },
  {
   "cell_type": "code",
   "execution_count": 5,
   "metadata": {},
   "outputs": [
    {
     "name": "stdout",
     "output_type": "stream",
     "text": [
      "36\n"
     ]
    }
   ],
   "source": [
    "#首先有多少行有这条规则的前提  用户购买过apple\n",
    "num_apple_purchase=0\n",
    "for sample in dataset:\n",
    "    if sample[3]==1:\n",
    "        num_apple_purchase+=1\n",
    "print(num_apple_purchase)"
   ]
  },
  {
   "cell_type": "code",
   "execution_count": 6,
   "metadata": {},
   "outputs": [
    {
     "name": "stdout",
     "output_type": "stream",
     "text": [
      "15.0无效的次数\n",
      "21.0应验的次数\n"
     ]
    }
   ],
   "source": [
    "#下面可以计算这条规则(用户购买了apple  那它也可能购买banana)的应验数与无无效\n",
    "rule_valid=0.0   #规则的应验数\n",
    "rule_invalid=0.0   #规则的无效数\n",
    "for sample in dataset:\n",
    "    if sample[3]==1:\n",
    "        if sample[4]==1:\n",
    "            rule_valid+=1\n",
    "        else:\n",
    "            rule_invalid+=1\n",
    "print(\"{0}无效的次数\".format(rule_invalid))\n",
    "print(\"{0}应验的次数\".format(rule_valid))"
   ]
  },
  {
   "cell_type": "code",
   "execution_count": 7,
   "metadata": {},
   "outputs": [
    {
     "data": {
      "text/plain": [
       "21.0"
      ]
     },
     "execution_count": 7,
     "metadata": {},
     "output_type": "execute_result"
    }
   ],
   "source": [
    "#支持度\n",
    "support=rule_valid\n",
    "support"
   ]
  },
  {
   "cell_type": "code",
   "execution_count": 11,
   "metadata": {},
   "outputs": [
    {
     "name": "stdout",
     "output_type": "stream",
     "text": [
      "支持度21.0置信度0.583\n"
     ]
    }
   ],
   "source": [
    "#  用户购买了apple  那他可能购买了banana  这条规则 置信度  支持度/前提条件出现的次数\n",
    "confidence=rule_valid/num_apple_purchase  \n",
    "print('支持度{0}置信度{1:.3f}'.format(support,confidence))   #小数点后保留三位"
   ]
  },
  {
   "cell_type": "markdown",
   "metadata": {},
   "source": [
    "# 有了上面的案例，用于理解支持度和置信度\n",
    "计算支持度和置信度要求得到：  有效规则数  无效规则数   前提条件出现的次数\n",
    "下面开始所有的规则的支持度和置信度的计算"
   ]
  },
  {
   "cell_type": "code",
   "execution_count": 12,
   "metadata": {
    "collapsed": true
   },
   "outputs": [],
   "source": [
    "from collections import defaultdict\n",
    "#数据格式采用字典   {键（前提）:值（数值）}\n",
    "valid_rules=defaultdict(int)   #每条规则的支持度\n",
    "invalid_rules=defaultdict(int)  #每条规则的无效数\n",
    "#数据格式采用字典\n",
    "num_rule_occurances=defaultdict(float)   #规则前提条件出现的次数"
   ]
  },
  {
   "cell_type": "code",
   "execution_count": 13,
   "metadata": {
    "collapsed": true
   },
   "outputs": [],
   "source": [
    "for sample in dataset:\n",
    "    #premise前提条件\n",
    "    for premise in range(n_features):\n",
    "        if sample[premise]==0: continue  #没有购买条件不成立  直接继续循环\n",
    "        num_rule_occurances[premise]+=1.0   #出现了一次前提条件\n",
    "        for conclusion in range(n_features):  #计算他的支持度和无效数\n",
    "            if premise==conclusion:\n",
    "                continue\n",
    "            if sample[conclusion]==1:\n",
    "                valid_rules[(premise,conclusion)]+=1\n",
    "            else:\n",
    "                invalid_rules[(premise,conclusion)]+=1"
   ]
  },
  {
   "cell_type": "code",
   "execution_count": 14,
   "metadata": {},
   "outputs": [
    {
     "name": "stdout",
     "output_type": "stream",
     "text": [
      "defaultdict(<class 'int'>, {(2, 3): 25, (2, 4): 27, (3, 2): 25, (3, 4): 21, (4, 2): 27, (4, 3): 21, (0, 1): 14, (0, 3): 5, (1, 0): 14, (1, 3): 9, (3, 0): 5, (3, 1): 9, (0, 2): 4, (2, 0): 4, (1, 4): 19, (4, 1): 19, (0, 4): 17, (4, 0): 17, (1, 2): 7, (2, 1): 7})无效规则\n",
      "defaultdict(<class 'int'>, {(2, 0): 37, (2, 1): 34, (3, 0): 31, (3, 1): 27, (4, 0): 42, (4, 1): 40, (0, 2): 23, (0, 4): 10, (1, 2): 39, (1, 4): 27, (3, 2): 11, (3, 4): 15, (0, 1): 13, (2, 4): 14, (1, 0): 32, (1, 3): 37, (4, 2): 32, (4, 3): 38, (0, 3): 22, (2, 3): 16})有效规则\n"
     ]
    }
   ],
   "source": [
    "print('{0}无效规则'.format(valid_rules))\n",
    "print('{0}有效规则'.format(invalid_rules))"
   ]
  },
  {
   "cell_type": "code",
   "execution_count": 15,
   "metadata": {},
   "outputs": [
    {
     "name": "stdout",
     "output_type": "stream",
     "text": [
      "所有规则的支持度 defaultdict(<class 'int'>, {(2, 3): 25, (2, 4): 27, (3, 2): 25, (3, 4): 21, (4, 2): 27, (4, 3): 21, (0, 1): 14, (0, 3): 5, (1, 0): 14, (1, 3): 9, (3, 0): 5, (3, 1): 9, (0, 2): 4, (2, 0): 4, (1, 4): 19, (4, 1): 19, (0, 4): 17, (4, 0): 17, (1, 2): 7, (2, 1): 7})\n",
      "所有规则的置信度 defaultdict(<class 'float'>, {(2, 3): 0.6097560975609756, (2, 4): 0.6585365853658537, (3, 2): 0.6944444444444444, (3, 4): 0.5833333333333334, (4, 2): 0.4576271186440678, (4, 3): 0.3559322033898305, (0, 1): 0.5185185185185185, (0, 3): 0.18518518518518517, (1, 0): 0.30434782608695654, (1, 3): 0.1956521739130435, (3, 0): 0.1388888888888889, (3, 1): 0.25, (0, 2): 0.14814814814814814, (2, 0): 0.0975609756097561, (1, 4): 0.41304347826086957, (4, 1): 0.3220338983050847, (0, 4): 0.6296296296296297, (4, 0): 0.288135593220339, (1, 2): 0.15217391304347827, (2, 1): 0.17073170731707318})\n"
     ]
    }
   ],
   "source": [
    "#下一步  计算支持度与置信度\n",
    "support=valid_rules\n",
    "confidence=defaultdict(float)\n",
    "for premise,conclusion in valid_rules.keys():\n",
    "    confidence[(premise,conclusion)]=valid_rules[(premise,conclusion)]/num_rule_occurances[premise]\n",
    "print('所有规则的支持度',support)\n",
    "print('所有规则的置信度',confidence)"
   ]
  },
  {
   "cell_type": "code",
   "execution_count": 16,
   "metadata": {},
   "outputs": [
    {
     "name": "stdout",
     "output_type": "stream",
     "text": [
      "规则：如果一个人购买了cheese他也会购买apple\n",
      "这条规则的支持度为:25\n",
      "这条规则的置信度为:0.6097560975609756\n",
      "规则：如果一个人购买了cheese他也会购买banana\n",
      "这条规则的支持度为:27\n",
      "这条规则的置信度为:0.6585365853658537\n",
      "规则：如果一个人购买了apple他也会购买cheese\n",
      "这条规则的支持度为:25\n",
      "这条规则的置信度为:0.6944444444444444\n",
      "规则：如果一个人购买了apple他也会购买banana\n",
      "这条规则的支持度为:21\n",
      "这条规则的置信度为:0.5833333333333334\n",
      "规则：如果一个人购买了banana他也会购买cheese\n",
      "这条规则的支持度为:27\n",
      "这条规则的置信度为:0.4576271186440678\n",
      "规则：如果一个人购买了banana他也会购买apple\n",
      "这条规则的支持度为:21\n",
      "这条规则的置信度为:0.3559322033898305\n",
      "规则：如果一个人购买了bread他也会购买milk\n",
      "这条规则的支持度为:14\n",
      "这条规则的置信度为:0.5185185185185185\n",
      "规则：如果一个人购买了bread他也会购买apple\n",
      "这条规则的支持度为:5\n",
      "这条规则的置信度为:0.18518518518518517\n",
      "规则：如果一个人购买了milk他也会购买bread\n",
      "这条规则的支持度为:14\n",
      "这条规则的置信度为:0.30434782608695654\n",
      "规则：如果一个人购买了milk他也会购买apple\n",
      "这条规则的支持度为:9\n",
      "这条规则的置信度为:0.1956521739130435\n",
      "规则：如果一个人购买了apple他也会购买bread\n",
      "这条规则的支持度为:5\n",
      "这条规则的置信度为:0.1388888888888889\n",
      "规则：如果一个人购买了apple他也会购买milk\n",
      "这条规则的支持度为:9\n",
      "这条规则的置信度为:0.25\n",
      "规则：如果一个人购买了bread他也会购买cheese\n",
      "这条规则的支持度为:4\n",
      "这条规则的置信度为:0.14814814814814814\n",
      "规则：如果一个人购买了cheese他也会购买bread\n",
      "这条规则的支持度为:4\n",
      "这条规则的置信度为:0.0975609756097561\n",
      "规则：如果一个人购买了milk他也会购买banana\n",
      "这条规则的支持度为:19\n",
      "这条规则的置信度为:0.41304347826086957\n",
      "规则：如果一个人购买了banana他也会购买milk\n",
      "这条规则的支持度为:19\n",
      "这条规则的置信度为:0.3220338983050847\n",
      "规则：如果一个人购买了bread他也会购买banana\n",
      "这条规则的支持度为:17\n",
      "这条规则的置信度为:0.6296296296296297\n",
      "规则：如果一个人购买了banana他也会购买bread\n",
      "这条规则的支持度为:17\n",
      "这条规则的置信度为:0.288135593220339\n",
      "规则：如果一个人购买了milk他也会购买cheese\n",
      "这条规则的支持度为:7\n",
      "这条规则的置信度为:0.15217391304347827\n",
      "规则：如果一个人购买了cheese他也会购买milk\n",
      "这条规则的支持度为:7\n",
      "这条规则的置信度为:0.17073170731707318\n"
     ]
    }
   ],
   "source": [
    "#将上面的结果格式化一下\n",
    "for premise,conclusion in confidence:\n",
    "    #求出规则前提条件的商品名\n",
    "    premise_name=features[premise]\n",
    "    #求出规则条件的结论对应的商品名\n",
    "    conclusion_name=features[conclusion]\n",
    "    print('规则：如果一个人购买了{0}他也会购买{1}'.format(premise_name,conclusion_name))\n",
    "    print('这条规则的支持度为:{0}'.format(support[(premise,conclusion)] ) )\n",
    "    print('这条规则的置信度为:{0}'.format(confidence[(premise,conclusion)] ) )\n",
    "    "
   ]
  },
  {
   "cell_type": "code",
   "execution_count": 17,
   "metadata": {},
   "outputs": [
    {
     "name": "stdout",
     "output_type": "stream",
     "text": [
      "如果他买了milk所以他还会买apple\n",
      "这条规则的支持度 9\n",
      "这条规则的置信度 0.1956521739130435\n"
     ]
    }
   ],
   "source": [
    "'''\n",
    "定义一个函数输出指定规则的支持度，置信度\n",
    "premise  前提的索引\n",
    "conclusion  结论的索引\n",
    "support  支持度的字典\n",
    "confidence 置信度的字典\n",
    "feature  特征数组\n",
    "'''\n",
    "def print_rule( premise,conclusion,support,confidence,features):\n",
    "    #求出规则前提条件商品名\n",
    "    premise_name=features[premise]\n",
    "    #求出规则条件的结论对应的商品名\n",
    "    conclusion_name=features[conclusion]\n",
    "    print('如果他买了{0}所以他还会买{1}'.format(premise_name,conclusion_name))\n",
    "    print('这条规则的支持度',support[(premise,conclusion) ] )\n",
    "    print('这条规则的置信度',confidence[(premise,conclusion) ] )\n",
    "    \n",
    "    \n",
    "#测试\n",
    "premise=1\n",
    "conclusion=3\n",
    "print_rule(premise,conclusion,support,confidence,features)"
   ]
  },
  {
   "cell_type": "code",
   "execution_count": 18,
   "metadata": {},
   "outputs": [
    {
     "name": "stdout",
     "output_type": "stream",
     "text": [
      "[((2, 3), 25), ((2, 4), 27), ((3, 2), 25), ((3, 4), 21), ((4, 2), 27), ((4, 3), 21), ((0, 1), 14), ((0, 3), 5), ((1, 0), 14), ((1, 3), 9), ((3, 0), 5), ((3, 1), 9), ((0, 2), 4), ((2, 0), 4), ((1, 4), 19), ((4, 1), 19), ((0, 4), 17), ((4, 0), 17), ((1, 2), 7), ((2, 1), 7)]\n",
      "Rule #1\n",
      "如果他买了cheese所以他还会买banana\n",
      "这条规则的支持度 27\n",
      "这条规则的置信度 0.6585365853658537\n",
      "Rule #2\n",
      "如果他买了banana所以他还会买cheese\n",
      "这条规则的支持度 27\n",
      "这条规则的置信度 0.4576271186440678\n",
      "Rule #3\n",
      "如果他买了cheese所以他还会买apple\n",
      "这条规则的支持度 25\n",
      "这条规则的置信度 0.6097560975609756\n",
      "Rule #4\n",
      "如果他买了apple所以他还会买cheese\n",
      "这条规则的支持度 25\n",
      "这条规则的置信度 0.6944444444444444\n",
      "Rule #5\n",
      "如果他买了apple所以他还会买banana\n",
      "这条规则的支持度 21\n",
      "这条规则的置信度 0.5833333333333334\n"
     ]
    }
   ],
   "source": [
    "#  对支持度进行排序\n",
    "\n",
    "#先排序输出\n",
    "print(list(support.items() ) )\n",
    "#排好序后存到字典\n",
    "from operator import itemgetter\n",
    "#  根据这个置信度排序\n",
    "sorted_support=sorted(support.items(),key=itemgetter(1),reverse=True)\n",
    "#输出前五名\n",
    "for index in range(5):\n",
    "    print('Rule #{0}'.format(index+1))\n",
    "    (premise,conclusion)=sorted_support[index][0]  #取出键\n",
    "    print_rule(premise,conclusion,support,confidence,features)"
   ]
  },
  {
   "cell_type": "code",
   "execution_count": 19,
   "metadata": {},
   "outputs": [
    {
     "name": "stdout",
     "output_type": "stream",
     "text": [
      "[((2, 3), 0.6097560975609756), ((2, 4), 0.6585365853658537), ((3, 2), 0.6944444444444444), ((3, 4), 0.5833333333333334), ((4, 2), 0.4576271186440678), ((4, 3), 0.3559322033898305), ((0, 1), 0.5185185185185185), ((0, 3), 0.18518518518518517), ((1, 0), 0.30434782608695654), ((1, 3), 0.1956521739130435), ((3, 0), 0.1388888888888889), ((3, 1), 0.25), ((0, 2), 0.14814814814814814), ((2, 0), 0.0975609756097561), ((1, 4), 0.41304347826086957), ((4, 1), 0.3220338983050847), ((0, 4), 0.6296296296296297), ((4, 0), 0.288135593220339), ((1, 2), 0.15217391304347827), ((2, 1), 0.17073170731707318)]\n",
      "Rule #1\n",
      "如果他买了apple所以他还会买cheese\n",
      "这条规则的支持度 25\n",
      "这条规则的置信度 0.6944444444444444\n",
      "Rule #2\n",
      "如果他买了cheese所以他还会买banana\n",
      "这条规则的支持度 27\n",
      "这条规则的置信度 0.6585365853658537\n",
      "Rule #3\n",
      "如果他买了bread所以他还会买banana\n",
      "这条规则的支持度 17\n",
      "这条规则的置信度 0.6296296296296297\n",
      "Rule #4\n",
      "如果他买了cheese所以他还会买apple\n",
      "这条规则的支持度 25\n",
      "这条规则的置信度 0.6097560975609756\n",
      "Rule #5\n",
      "如果他买了apple所以他还会买banana\n",
      "这条规则的支持度 21\n",
      "这条规则的置信度 0.5833333333333334\n"
     ]
    }
   ],
   "source": [
    "#置信度\n",
    "\n",
    "#先排序输出\n",
    "print(list(confidence.items() ) )\n",
    "#排好序后存到字典\n",
    "from operator import itemgetter\n",
    "#  根据这个置信度排序\n",
    "sorted_confidence=sorted(confidence.items(),key=itemgetter(1),reverse=True)\n",
    "#输出前五名\n",
    "for index in range(5):\n",
    "    print('Rule #{0}'.format(index+1))\n",
    "    (premise,conclusion)=sorted_confidence[index][0]  #取出键\n",
    "    print_rule(premise,conclusion,support,confidence,features)"
   ]
  },
  {
   "cell_type": "code",
   "execution_count": null,
   "metadata": {
    "collapsed": true
   },
   "outputs": [],
   "source": []
  }
 ],
 "metadata": {
  "kernelspec": {
   "display_name": "Python 3",
   "language": "python",
   "name": "python3"
  },
  "language_info": {
   "codemirror_mode": {
    "name": "ipython",
    "version": 3
   },
   "file_extension": ".py",
   "mimetype": "text/x-python",
   "name": "python",
   "nbconvert_exporter": "python",
   "pygments_lexer": "ipython3",
   "version": "3.6.2"
  }
 },
 "nbformat": 4,
 "nbformat_minor": 2
}
