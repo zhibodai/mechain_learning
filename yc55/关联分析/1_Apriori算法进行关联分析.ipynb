{
 "cells": [
  {
   "cell_type": "code",
   "execution_count": 1,
   "metadata": {
    "collapsed": true
   },
   "outputs": [],
   "source": [
    "#加载一个测试集\n",
    "def loadDataSet():\n",
    "    return [[1,3,4],[2,3,5],[1,2,3,5],[2,5]]"
   ]
  },
  {
   "cell_type": "code",
   "execution_count": 2,
   "metadata": {},
   "outputs": [
    {
     "data": {
      "text/plain": [
       "[[1, 3, 4], [2, 3, 5], [1, 2, 3, 5], [2, 5]]"
      ]
     },
     "execution_count": 2,
     "metadata": {},
     "output_type": "execute_result"
    }
   ],
   "source": [
    "#测试\n",
    "dataset=loadDataSet()\n",
    "dataset"
   ]
  },
  {
   "cell_type": "code",
   "execution_count": 3,
   "metadata": {
    "collapsed": true
   },
   "outputs": [],
   "source": [
    "#根据dataset生成 k—1 的项集\n",
    "#返回值  所有k—1 候选集的集合  [frozenset([1]),frozenset([2])]\n",
    "def createCandidateSet(dataset):\n",
    "    result=[]  #存放 k—1 项集 \n",
    "    for transaction in dataset:\n",
    "        for item in transaction:\n",
    "            if not [item] in result:\n",
    "                result.append( [item] )  # [ [1],[3],[4],[2],[5]]\n",
    "    result.sort()\n",
    "    #这里一定要用  fronzenset  而不是 set 因为以后要将这些集合作为字典  必须是不可以改变的对象  而 [] 是可变的  所以 要转换成{} 才行\n",
    "    return map(frozenset,result)\n",
    "    "
   ]
  },
  {
   "cell_type": "code",
   "execution_count": 4,
   "metadata": {
    "collapsed": true
   },
   "outputs": [],
   "source": [
    "candidateset=createCandidateSet(dataset)\n",
    "#print(candidateset)\n",
    "#print(list(candidateset))"
   ]
  },
  {
   "cell_type": "code",
   "execution_count": 5,
   "metadata": {
    "collapsed": true
   },
   "outputs": [],
   "source": [
    "'''\n",
    "函数说明：生成频繁的项选集及支持度列表\n",
    "参数如下：\n",
    "    dataSet : 数据集(事务集)\n",
    "    c  ：候选项列表\n",
    "    minSupport ：最小支持度\n",
    "算法描述 ：支持度 = {项集}次数 /总记录数\n",
    "\n",
    "返回值：\n",
    "   resultList 频繁项集  [[项1,项2...],[项1,项2...],[项1,项2...]...]\n",
    "   supportData 各频繁项集的支持字典  {[频繁项集]:支持度,[频繁项集]:支持度,[频繁项集]:支持度,[频繁项集]:支持度,}\n",
    "'''\n",
    "\n",
    "def scanDataSet(dataSet, candidateSet,minSupport=0.5):\n",
    "    z=list(candidateSet)  #将 map 转为list  \n",
    "    numItems=float(len(dataSet)) #统计总共有多少条事务记录\n",
    "    candidateCounter={}  #  {候选集1:支持的计数,  候选集2:支持的计数,  候选集2:支持的计数,}\n",
    "    #循环交易记录\n",
    "    for tid in dataSet:\n",
    "        #循环候选项集\n",
    "        for candidate in z:  #  frozenset({1})  ->  set 集合\n",
    "            #  如果候选项是记录的一部分  给这个候选项增加计数\n",
    "            if candidate.issubset(tid):   #  issubset   判断集合 x 的所有元素是否都包含在集合 y 中\n",
    "                candidateCounter[candidate] = candidateCounter.get(candidate,0)+1\n",
    "                \n",
    "    resultList=[]  #存频繁项集\n",
    "    supportData={ }   #各频繁项集的支持字典  频繁项集指的是  大于最小支持度的项集\n",
    "    for key in candidateCounter:\n",
    "        #支持度\n",
    "        support=candidateCounter[key] / numItems  #每个候选集的次数  /总事务数  -》支持度\n",
    "        if support >= minSupport:\n",
    "            resultList.insert(0,key)  #保存\n",
    "        supportData[key] = support\n",
    "    return resultList,supportData"
   ]
  },
  {
   "cell_type": "code",
   "execution_count": 6,
   "metadata": {
    "collapsed": true
   },
   "outputs": [],
   "source": [
    "'''\n",
    "Apriori 算法的伪代码\n",
    "    当集合中项的个数大于0时\n",
    "        构建一个由k个项组成的候选项集的列表(k从1开始)\n",
    "        计算候选项集的支持度删除非频繁项集\n",
    "        构建由 k+1 项组成的候选项集的列表\n",
    "函数功能说明：生成候选项集\n",
    "参数说明：\n",
    "    频繁项集列表 ：requenceList\n",
    "    项集个数 : k\n",
    "'''\n",
    "def aprioriGeneratorRequenceList(requenceList,k):\n",
    "    retList=[]\n",
    "    requenceListLength=len(requenceList)\n",
    "    for i in range(requenceListLength):\n",
    "        for j in range(i+1,requenceListLength):\n",
    "            \n",
    "            L1=list(requenceList[i])[:k-2]\n",
    "            L2=list(requenceList[j])[:k-2]\n",
    "            L1.sort()\n",
    "            L2.sort()\n",
    "            if L1==L2:\n",
    "                retList.append(requenceList[i] | requenceList[j])\n",
    "    return retList"
   ]
  },
  {
   "cell_type": "code",
   "execution_count": 7,
   "metadata": {},
   "outputs": [
    {
     "name": "stdout",
     "output_type": "stream",
     "text": [
      "[frozenset({5}), frozenset({2}), frozenset({3}), frozenset({1})] {frozenset({1}): 0.5, frozenset({3}): 0.75, frozenset({4}): 0.25, frozenset({2}): 0.75, frozenset({5}): 0.75}\n"
     ]
    }
   ],
   "source": [
    "resultList,supportData=scanDataSet(dataset,candidateset)\n",
    "print(resultList,supportData)"
   ]
  },
  {
   "cell_type": "code",
   "execution_count": 8,
   "metadata": {
    "collapsed": true
   },
   "outputs": [],
   "source": [
    "'''\n",
    "apriori主要算法实现\n",
    "返回值：1.频繁项集\n",
    "supportData  支持度列表\n",
    "'''\n",
    "def apriori(dataSet,minSupport=0.5):\n",
    "    candidateSet = createCandidateSet(dataSet)  #生成 k1 候选项集\n",
    "    L1,supportData=scanDataSet(dataSet,candidateSet,minSupport) #生成频繁一项项集\n",
    "    L=[L1]\n",
    "    \n",
    "    k=2\n",
    "    while(len(L[k-2])>0):\n",
    "        Ck=aprioriGeneratorRequenceList(L[k-2],k)#依次生成  2,3,4，.... 项候选项集\n",
    "        Lk,supK=scanDataSet(dataSet,Ck,minSupport)  #一句minsupport进行减枝  生成  k  项 频繁项集  及支持度列表\n",
    "        supportData.update(supK)\n",
    "        L.append(Lk)\n",
    "        k+=1\n",
    "    return L,supportData\n",
    "    "
   ]
  },
  {
   "cell_type": "code",
   "execution_count": 9,
   "metadata": {},
   "outputs": [
    {
     "name": "stdout",
     "output_type": "stream",
     "text": [
      "[[frozenset({5}), frozenset({2}), frozenset({3}), frozenset({1})], [frozenset({2, 3}), frozenset({3, 5}), frozenset({2, 5}), frozenset({1, 3})], [frozenset({2, 3, 5})], []]\n",
      "{frozenset({1}): 0.5, frozenset({3}): 0.75, frozenset({4}): 0.25, frozenset({2}): 0.75, frozenset({5}): 0.75, frozenset({1, 3}): 0.5, frozenset({2, 5}): 0.75, frozenset({3, 5}): 0.5, frozenset({2, 3}): 0.5, frozenset({1, 5}): 0.25, frozenset({1, 2}): 0.25, frozenset({2, 3, 5}): 0.5}\n"
     ]
    }
   ],
   "source": [
    "L,supportData=apriori(dataset)\n",
    "print(L)\n",
    "print(supportData)"
   ]
  },
  {
   "cell_type": "code",
   "execution_count": 12,
   "metadata": {
    "collapsed": true
   },
   "outputs": [],
   "source": [
    "'''\n",
    "功能描述：计算机规则置信度，并过滤出满足最小置信度要求的规则\n",
    "    参数：freqSet：频繁项集  \n",
    "          premise：构建 对于频繁项集{2，3}  构建为{2}，{3}\n",
    "          supportData：所有候选项集的支持度列表\n",
    "          rules：生成的满足最小置信度要求的关联规则\n",
    "          minconf：最小置信度\n",
    "'''\n",
    "def calcConf(freqSet,premise,supportData,rules,minConf=0.7):\n",
    "    '''对候选规则集进行评估'''\n",
    "    prunedH=[]  #满足最小置信度要求的规则列表\n",
    "    for conseq in premise:\n",
    "        conf=supportData[freqSet]/supportData[freqSet-conseq]\n",
    "        if conf >= minConf:\n",
    "            print(\"前提：\",freqSet-conseq,'-->',conseq,'此置信度为:',conf)\n",
    "            rules.append( (freqSet-conseq,conseq,conf) )\n",
    "            prunedH.append(conseq)\n",
    "    return prunedH   #生成结果集合\n",
    "\n",
    "\n",
    "'''\n",
    "功能描述：根据当前候选规则集H生成下一层候选规则集\n",
    "    参数：freqSet：k项频繁项集\n",
    "          premise：构建\n",
    "          supportData：所有候选项集的支持度列表\n",
    "          rules：生成的关联规则\n",
    "          minConf：最小置信度\n",
    "'''\n",
    "def rulesFromConseq(freqSet,premise,supportData,rules,minConf=0.7):\n",
    "    '''生成候选规则集'''\n",
    "    m=len(premise[0])\n",
    "    #每个构件有多种组合  所以每种都要计算置信度\n",
    "    while len(freqSet)>m:  #控制循环的次数\n",
    "        premise=calcConf(freqSet,premise,supportData,rules,minConf)\n",
    "        #  Apriori  使用一种逐层的方法来产生关联规则牟其中每层对应于规则后件的项数\n",
    "        #则通过合并这两条规则的后件产生候选规则{ad}-{bc}\n",
    "        if len(premise)>1:\n",
    "            premise=aprioriGeneratorRequenceList(premise,m+1)  #  fk-1   fk-1\n",
    "            m+=1\n",
    "        else:   #不能生成下一层候选关联规则   提前退出循环\n",
    "            break\n",
    "            \n",
    "            \n",
    "'''\n",
    "功能描述：关联规则生成函数\n",
    "    参数：freqSet ：频繁项集\n",
    "        supportData：所有候选项集的支持度列表\n",
    "        minConf：最小置信度\n",
    "        返回值：一个包含可信度的规则列表\n",
    "'''\n",
    "def generateRules(freqSet,supportData,minConf=0.7):\n",
    "    bigRuleList=[]\n",
    "    for i in range(1,len(freqSet) ):   # 从 k2 频繁项列表开始循环构建规则\n",
    "        for fs in freqSet[i]: #  fs   ：  frozenset({2, 3}), frozenset({3, 5})\n",
    "            H1=[frozenset([item])for item in fs]  #[frozenset({2}),frozenset({3})]\n",
    "            rulesFromConseq(fs,H1,supportData,bigRuleList,minConf)\n",
    "    return bigRuleList"
   ]
  },
  {
   "cell_type": "code",
   "execution_count": 13,
   "metadata": {},
   "outputs": [
    {
     "name": "stdout",
     "output_type": "stream",
     "text": [
      "前提： frozenset({5}) --> frozenset({2}) 此置信度为: 1.0\n",
      "前提： frozenset({2}) --> frozenset({5}) 此置信度为: 1.0\n",
      "前提： frozenset({1}) --> frozenset({3}) 此置信度为: 1.0\n",
      "前提： frozenset({3, 5}) --> frozenset({2}) 此置信度为: 1.0\n",
      "前提： frozenset({2, 3}) --> frozenset({5}) 此置信度为: 1.0\n",
      "[(frozenset({5}), frozenset({2}), 1.0), (frozenset({2}), frozenset({5}), 1.0), (frozenset({1}), frozenset({3}), 1.0), (frozenset({3, 5}), frozenset({2}), 1.0), (frozenset({2, 3}), frozenset({5}), 1.0)]\n"
     ]
    }
   ],
   "source": [
    "#测试\n",
    "#1.加载数据集\n",
    "dataSet=loadDataSet()\n",
    "#2.利用apriori算法求频繁项集，支持度列表\n",
    "requenceList,supporData=apriori(dataSet,minSupport=0.5)\n",
    "#3.利用频繁项集 及支持度列表来求有效规则\n",
    "rules=generateRules(requenceList,supporData,minConf=0.7)\n",
    "print(rules)"
   ]
  },
  {
   "cell_type": "markdown",
   "metadata": {
    "collapsed": true
   },
   "source": [
    "#### 案例  发现蘑菇的相似特征   \n",
    "#### 需求：只对包含某个特定元素项感兴趣"
   ]
  },
  {
   "cell_type": "code",
   "execution_count": 17,
   "metadata": {},
   "outputs": [
    {
     "name": "stdout",
     "output_type": "stream",
     "text": [
      "[[frozenset({'58'}), frozenset({'56'}), frozenset({'116'}), frozenset({'6'}), frozenset({'110'}), frozenset({'94'}), frozenset({'53'}), frozenset({'28'}), frozenset({'24'}), frozenset({'10'}), frozenset({'39'}), frozenset({'2'}), frozenset({'93'}), frozenset({'90'}), frozenset({'9'}), frozenset({'86'}), frozenset({'85'}), frozenset({'76'}), frozenset({'67'}), frozenset({'63'}), frozenset({'59'}), frozenset({'52'}), frozenset({'38'}), frozenset({'36'}), frozenset({'34'}), frozenset({'3'}), frozenset({'23'}), frozenset({'1'})], [frozenset({'85', '58'}), frozenset({'1', '24'}), frozenset({'36', '53'}), frozenset({'36', '116'}), frozenset({'36', '56'}), frozenset({'39', '56'}), frozenset({'24', '110'}), frozenset({'53', '110'}), frozenset({'34', '116'}), frozenset({'85', '116'}), frozenset({'86', '116'}), frozenset({'90', '116'}), frozenset({'34', '56'}), frozenset({'56', '85'}), frozenset({'86', '56'}), frozenset({'90', '56'}), frozenset({'56', '116'}), frozenset({'6', '36'}), frozenset({'6', '34'}), frozenset({'6', '85'}), frozenset({'6', '86'}), frozenset({'6', '90'}), frozenset({'36', '24'}), frozenset({'1', '110'}), frozenset({'34', '110'}), frozenset({'36', '110'}), frozenset({'85', '110'}), frozenset({'86', '110'}), frozenset({'90', '110'}), frozenset({'34', '24'}), frozenset({'85', '24'}), frozenset({'86', '24'}), frozenset({'90', '24'}), frozenset({'39', '24'}), frozenset({'34', '28'}), frozenset({'28', '59'}), frozenset({'28', '63'}), frozenset({'28', '85'}), frozenset({'86', '28'}), frozenset({'90', '28'}), frozenset({'2', '28'}), frozenset({'28', '39'}), frozenset({'34', '53'}), frozenset({'59', '53'}), frozenset({'53', '63'}), frozenset({'67', '53'}), frozenset({'76', '53'}), frozenset({'85', '53'}), frozenset({'86', '53'}), frozenset({'90', '53'}), frozenset({'2', '53'}), frozenset({'39', '53'}), frozenset({'53', '24'}), frozenset({'28', '53'}), frozenset({'94', '34'}), frozenset({'94', '85'}), frozenset({'94', '86'}), frozenset({'94', '90'}), frozenset({'94', '24'}), frozenset({'94', '53'}), frozenset({'34', '10'}), frozenset({'36', '10'}), frozenset({'85', '10'}), frozenset({'86', '10'}), frozenset({'90', '10'}), frozenset({'2', '23'}), frozenset({'2', '34'}), frozenset({'2', '36'}), frozenset({'2', '59'}), frozenset({'2', '63'}), frozenset({'67', '2'}), frozenset({'2', '76'}), frozenset({'2', '85'}), frozenset({'2', '86'}), frozenset({'2', '90'}), frozenset({'2', '93'}), frozenset({'39', '23'}), frozenset({'3', '39'}), frozenset({'34', '39'}), frozenset({'36', '39'}), frozenset({'39', '52'}), frozenset({'39', '59'}), frozenset({'39', '63'}), frozenset({'67', '39'}), frozenset({'39', '76'}), frozenset({'39', '85'}), frozenset({'86', '39'}), frozenset({'90', '39'}), frozenset({'39', '93'}), frozenset({'2', '39'}), frozenset({'34', '1'}), frozenset({'34', '23'}), frozenset({'34', '3'}), frozenset({'36', '1'}), frozenset({'36', '23'}), frozenset({'36', '3'}), frozenset({'36', '34'}), frozenset({'34', '38'}), frozenset({'34', '52'}), frozenset({'36', '52'}), frozenset({'59', '23'}), frozenset({'34', '59'}), frozenset({'36', '59'}), frozenset({'63', '23'}), frozenset({'34', '63'}), frozenset({'36', '63'}), frozenset({'59', '63'}), frozenset({'67', '34'}), frozenset({'67', '36'}), frozenset({'67', '59'}), frozenset({'67', '63'}), frozenset({'34', '76'}), frozenset({'36', '76'}), frozenset({'59', '76'}), frozenset({'76', '63'}), frozenset({'67', '76'}), frozenset({'85', '1'}), frozenset({'85', '23'}), frozenset({'3', '85'}), frozenset({'34', '85'}), frozenset({'36', '85'}), frozenset({'85', '38'}), frozenset({'85', '52'}), frozenset({'59', '85'}), frozenset({'85', '63'}), frozenset({'67', '85'}), frozenset({'85', '76'}), frozenset({'86', '1'}), frozenset({'86', '23'}), frozenset({'86', '3'}), frozenset({'86', '34'}), frozenset({'86', '36'}), frozenset({'86', '38'}), frozenset({'86', '52'}), frozenset({'86', '59'}), frozenset({'86', '63'}), frozenset({'67', '86'}), frozenset({'86', '76'}), frozenset({'86', '85'}), frozenset({'9', '85'}), frozenset({'90', '1'}), frozenset({'90', '23'}), frozenset({'90', '3'}), frozenset({'90', '34'}), frozenset({'90', '36'}), frozenset({'90', '38'}), frozenset({'90', '52'}), frozenset({'90', '59'}), frozenset({'90', '63'}), frozenset({'67', '90'}), frozenset({'90', '76'}), frozenset({'90', '85'}), frozenset({'90', '86'}), frozenset({'93', '23'}), frozenset({'34', '93'}), frozenset({'36', '93'}), frozenset({'59', '93'}), frozenset({'93', '63'}), frozenset({'67', '93'}), frozenset({'93', '76'}), frozenset({'93', '85'}), frozenset({'86', '93'}), frozenset({'90', '93'})], [frozenset({'1', '24', '110'}), frozenset({'90', '1', '24'}), frozenset({'86', '1', '24'}), frozenset({'85', '1', '24'}), frozenset({'34', '1', '24'}), frozenset({'36', '1', '24'}), frozenset({'36', '53', '110'}), frozenset({'90', '36', '53'}), frozenset({'86', '36', '53'}), frozenset({'90', '56', '36'}), frozenset({'90', '39', '56'}), frozenset({'86', '56', '36'}), frozenset({'86', '39', '56'}), frozenset({'34', '39', '56'}), frozenset({'90', '36', '116'}), frozenset({'86', '36', '116'}), frozenset({'39', '56', '85'}), frozenset({'36', '56', '85'}), frozenset({'36', '56', '34'}), frozenset({'36', '39', '56'}), frozenset({'36', '85', '116'}), frozenset({'36', '116', '34'}), frozenset({'36', '85', '53'}), frozenset({'36', '53', '63'}), frozenset({'36', '59', '53'}), frozenset({'36', '53', '34'}), frozenset({'90', '24', '110'}), frozenset({'86', '24', '110'}), frozenset({'85', '24', '110'}), frozenset({'34', '24', '110'}), frozenset({'36', '24', '110'}), frozenset({'90', '53', '110'}), frozenset({'86', '53', '110'}), frozenset({'85', '53', '110'}), frozenset({'34', '53', '110'}), frozenset({'90', '56', '86'}), frozenset({'90', '56', '85'}), frozenset({'90', '56', '34'}), frozenset({'86', '56', '85'}), frozenset({'86', '56', '34'}), frozenset({'56', '116', '85'}), frozenset({'34', '56', '85'}), frozenset({'90', '116', '86'}), frozenset({'90', '85', '116'}), frozenset({'90', '116', '34'}), frozenset({'90', '56', '116'}), frozenset({'86', '85', '116'}), frozenset({'86', '116', '34'}), frozenset({'86', '56', '116'}), frozenset({'34', '85', '116'}), frozenset({'34', '56', '116'}), frozenset({'6', '36', '90'}), frozenset({'6', '36', '86'}), frozenset({'6', '36', '85'}), frozenset({'6', '36', '34'}), frozenset({'6', '86', '90'}), frozenset({'6', '90', '85'}), frozenset({'6', '86', '85'}), frozenset({'6', '34', '90'}), frozenset({'6', '34', '86'}), frozenset({'6', '34', '85'}), frozenset({'90', '36', '24'}), frozenset({'86', '36', '24'}), frozenset({'36', '85', '24'}), frozenset({'36', '34', '24'}), frozenset({'90', '86', '110'}), frozenset({'90', '85', '110'}), frozenset({'90', '36', '110'}), frozenset({'90', '34', '110'}), frozenset({'90', '1', '110'}), frozenset({'86', '85', '110'}), frozenset({'86', '36', '110'}), frozenset({'86', '34', '110'}), frozenset({'86', '1', '110'}), frozenset({'85', '1', '110'}), frozenset({'36', '85', '110'}), frozenset({'36', '34', '110'}), frozenset({'36', '1', '110'}), frozenset({'34', '85', '110'}), frozenset({'34', '1', '110'}), frozenset({'94', '53', '24'}), frozenset({'94', '90', '53'}), frozenset({'94', '90', '24'}), frozenset({'94', '86', '53'}), frozenset({'94', '86', '24'}), frozenset({'94', '86', '90'}), frozenset({'94', '85', '53'}), frozenset({'94', '85', '24'}), frozenset({'94', '90', '85'}), frozenset({'94', '86', '85'}), frozenset({'94', '34', '53'}), frozenset({'94', '34', '24'}), frozenset({'94', '34', '90'}), frozenset({'94', '34', '86'}), frozenset({'94', '34', '85'}), frozenset({'39', '85', '53'}), frozenset({'2', '39', '53'}), frozenset({'2', '53', '90'}), frozenset({'2', '53', '86'}), frozenset({'2', '85', '53'}), frozenset({'2', '53', '34'}), frozenset({'90', '53', '86'}), frozenset({'90', '85', '53'}), frozenset({'90', '76', '53'}), frozenset({'90', '53', '63'}), frozenset({'90', '59', '53'}), frozenset({'90', '53', '34'}), frozenset({'90', '39', '53'}), frozenset({'86', '85', '53'}), frozenset({'86', '76', '53'}), frozenset({'86', '53', '63'}), frozenset({'86', '59', '53'}), frozenset({'86', '53', '34'}), frozenset({'86', '39', '53'}), frozenset({'76', '85', '53'}), frozenset({'85', '53', '63'}), frozenset({'67', '90', '53'}), frozenset({'67', '86', '53'}), frozenset({'67', '85', '53'}), frozenset({'67', '34', '53'}), frozenset({'59', '53', '85'}), frozenset({'59', '53', '63'}), frozenset({'34', '85', '53'}), frozenset({'34', '76', '53'}), frozenset({'34', '53', '63'}), frozenset({'34', '59', '53'}), frozenset({'34', '39', '53'}), frozenset({'28', '53', '39'}), frozenset({'2', '28', '39'}), frozenset({'2', '28', '90'}), frozenset({'2', '28', '86'}), frozenset({'2', '28', '85'}), frozenset({'2', '28', '63'}), frozenset({'2', '28', '59'}), frozenset({'2', '28', '34'}), frozenset({'2', '28', '53'}), frozenset({'90', '28', '86'}), frozenset({'90', '28', '85'}), frozenset({'90', '28', '59'}), frozenset({'90', '28', '34'}), frozenset({'90', '28', '39'}), frozenset({'90', '28', '53'}), frozenset({'86', '28', '85'}), frozenset({'86', '28', '63'}), frozenset({'86', '28', '59'}), frozenset({'86', '28', '34'}), frozenset({'86', '28', '39'}), frozenset({'86', '28', '53'}), frozenset({'28', '85', '53'}), frozenset({'28', '85', '39'}), frozenset({'28', '63', '39'}), frozenset({'28', '85', '63'}), frozenset({'28', '59', '39'}), frozenset({'28', '59', '85'}), frozenset({'28', '59', '63'}), frozenset({'34', '28', '85'}), frozenset({'34', '28', '63'}), frozenset({'34', '28', '59'}), frozenset({'34', '28', '39'}), frozenset({'34', '28', '53'}), frozenset({'39', '85', '24'}), frozenset({'90', '24', '86'}), frozenset({'90', '85', '24'}), frozenset({'90', '34', '24'}), frozenset({'90', '53', '24'}), frozenset({'86', '85', '24'}), frozenset({'86', '34', '24'}), frozenset({'86', '53', '24'}), frozenset({'85', '53', '24'}), frozenset({'34', '85', '24'}), frozenset({'34', '53', '24'}), frozenset({'90', '10', '86'}), frozenset({'90', '85', '10'}), frozenset({'90', '36', '10'}), frozenset({'90', '10', '34'}), frozenset({'86', '85', '10'}), frozenset({'86', '36', '10'}), frozenset({'86', '10', '34'}), frozenset({'36', '85', '10'}), frozenset({'36', '10', '34'}), frozenset({'34', '85', '10'}), frozenset({'90', '39', '93'}), frozenset({'90', '39', '86'}), frozenset({'90', '39', '85'}), frozenset({'90', '39', '63'}), frozenset({'90', '39', '59'}), frozenset({'90', '39', '36'}), frozenset({'90', '39', '34'}), frozenset({'90', '39', '3'}), frozenset({'90', '39', '23'}), frozenset({'86', '39', '93'}), frozenset({'86', '39', '85'}), frozenset({'86', '39', '76'}), frozenset({'86', '39', '63'}), frozenset({'86', '39', '59'}), frozenset({'86', '39', '52'}), frozenset({'86', '39', '36'}), frozenset({'86', '39', '34'}), frozenset({'86', '39', '3'}), frozenset({'86', '39', '23'}), frozenset({'93', '39', '85'}), frozenset({'39', '85', '76'}), frozenset({'67', '86', '39'}), frozenset({'67', '39', '85'}), frozenset({'67', '34', '39'}), frozenset({'39', '93', '63'}), frozenset({'39', '85', '63'}), frozenset({'93', '39', '59'}), frozenset({'39', '59', '85'}), frozenset({'39', '59', '63'}), frozenset({'39', '85', '52'}), frozenset({'36', '39', '93'}), frozenset({'36', '39', '85'}), frozenset({'36', '39', '63'}), frozenset({'36', '39', '59'}), frozenset({'36', '39', '52'}), frozenset({'36', '39', '34'}), frozenset({'36', '39', '23'}), frozenset({'34', '39', '93'}), frozenset({'34', '39', '85'}), frozenset({'34', '39', '76'}), frozenset({'34', '39', '63'}), frozenset({'34', '39', '59'}), frozenset({'34', '39', '52'}), frozenset({'34', '39', '3'}), frozenset({'34', '39', '23'}), frozenset({'3', '39', '85'}), frozenset({'39', '93', '23'}), frozenset({'39', '85', '23'}), frozenset({'39', '63', '23'}), frozenset({'39', '59', '23'}), frozenset({'2', '39', '93'}), frozenset({'2', '39', '90'}), frozenset({'2', '93', '90'}), frozenset({'2', '39', '86'}), frozenset({'2', '93', '86'}), frozenset({'2', '90', '86'}), frozenset({'2', '39', '85'}), frozenset({'2', '93', '85'}), frozenset({'2', '85', '90'}), frozenset({'2', '85', '86'}), frozenset({'2', '39', '76'}), frozenset({'2', '76', '86'}), frozenset({'2', '85', '76'}), frozenset({'67', '2', '86'}), frozenset({'67', '2', '85'}), frozenset({'67', '2', '34'}), frozenset({'67', '2', '39'}), frozenset({'2', '39', '63'}), frozenset({'2', '93', '63'}), frozenset({'2', '63', '90'}), frozenset({'2', '63', '86'}), frozenset({'2', '85', '63'}), frozenset({'2', '39', '59'}), frozenset({'2', '93', '59'}), frozenset({'2', '59', '90'}), frozenset({'2', '59', '86'}), frozenset({'2', '59', '85'}), frozenset({'2', '59', '63'}), frozenset({'2', '39', '36'}), frozenset({'2', '93', '36'}), frozenset({'2', '36', '90'}), frozenset({'2', '36', '86'}), frozenset({'2', '36', '85'}), frozenset({'2', '36', '63'}), frozenset({'2', '36', '59'}), frozenset({'2', '39', '34'}), frozenset({'2', '93', '34'}), frozenset({'2', '34', '90'}), frozenset({'2', '34', '86'}), frozenset({'2', '85', '34'}), frozenset({'2', '76', '34'}), frozenset({'2', '34', '63'}), frozenset({'2', '59', '34'}), frozenset({'2', '36', '34'}), frozenset({'2', '39', '23'}), frozenset({'2', '93', '23'}), frozenset({'2', '90', '23'}), frozenset({'2', '86', '23'}), frozenset({'2', '85', '23'}), frozenset({'2', '63', '23'}), frozenset({'2', '59', '23'}), frozenset({'2', '36', '23'}), frozenset({'2', '34', '23'}), frozenset({'93', '76', '85'}), frozenset({'93', '63', '85'}), frozenset({'93', '85', '23'}), frozenset({'93', '63', '23'}), frozenset({'90', '93', '86'}), frozenset({'90', '93', '85'}), frozenset({'90', '85', '86'}), frozenset({'90', '76', '86'}), frozenset({'90', '85', '76'}), frozenset({'90', '93', '63'}), frozenset({'90', '63', '86'}), frozenset({'90', '85', '63'}), frozenset({'90', '76', '63'}), frozenset({'90', '93', '59'}), frozenset({'90', '59', '86'}), frozenset({'90', '59', '85'}), frozenset({'90', '59', '76'}), frozenset({'90', '59', '63'}), frozenset({'90', '52', '86'}), frozenset({'90', '85', '52'}), frozenset({'90', '38', '86'}), frozenset({'90', '85', '38'}), frozenset({'90', '93', '36'}), frozenset({'90', '36', '86'}), frozenset({'90', '36', '85'}), frozenset({'90', '36', '76'}), frozenset({'90', '36', '63'}), frozenset({'90', '36', '59'}), frozenset({'90', '36', '52'}), frozenset({'90', '93', '34'}), frozenset({'90', '34', '86'}), frozenset({'90', '85', '34'}), frozenset({'90', '76', '34'}), frozenset({'90', '34', '63'}), frozenset({'90', '59', '34'}), frozenset({'90', '52', '34'}), frozenset({'90', '34', '38'}), frozenset({'90', '36', '34'}), frozenset({'90', '3', '86'}), frozenset({'90', '85', '3'}), frozenset({'90', '36', '3'}), frozenset({'90', '3', '34'}), frozenset({'90', '93', '23'}), frozenset({'90', '86', '23'}), frozenset({'90', '85', '23'}), frozenset({'90', '63', '23'}), frozenset({'90', '59', '23'}), frozenset({'90', '36', '23'}), frozenset({'90', '34', '23'}), frozenset({'90', '1', '86'}), frozenset({'90', '85', '1'}), frozenset({'90', '36', '1'}), frozenset({'90', '1', '34'}), frozenset({'86', '93', '85'}), frozenset({'86', '93', '76'}), frozenset({'86', '85', '76'}), frozenset({'67', '86', '93'}), frozenset({'67', '86', '90'}), frozenset({'86', '93', '63'}), frozenset({'86', '85', '63'}), frozenset({'86', '76', '63'}), frozenset({'86', '93', '59'}), frozenset({'86', '59', '85'}), frozenset({'86', '59', '76'}), frozenset({'86', '59', '63'}), frozenset({'86', '85', '52'}), frozenset({'86', '85', '38'}), frozenset({'86', '93', '36'}), frozenset({'86', '36', '85'}), frozenset({'86', '36', '76'}), frozenset({'86', '36', '63'}), frozenset({'86', '36', '59'}), frozenset({'86', '36', '52'}), frozenset({'86', '93', '34'}), frozenset({'86', '85', '34'}), frozenset({'86', '76', '34'}), frozenset({'86', '34', '63'}), frozenset({'86', '59', '34'}), frozenset({'86', '52', '34'}), frozenset({'86', '34', '38'}), frozenset({'86', '36', '34'}), frozenset({'86', '85', '3'}), frozenset({'86', '36', '3'}), frozenset({'86', '3', '34'}), frozenset({'86', '93', '23'}), frozenset({'86', '85', '23'}), frozenset({'86', '63', '23'}), frozenset({'86', '59', '23'}), frozenset({'86', '36', '23'}), frozenset({'86', '34', '23'}), frozenset({'86', '85', '1'}), frozenset({'86', '36', '1'}), frozenset({'86', '1', '34'}), frozenset({'67', '93', '85'}), frozenset({'67', '90', '85'}), frozenset({'67', '86', '85'}), frozenset({'85', '76', '63'}), frozenset({'59', '93', '85'}), frozenset({'36', '93', '85'}), frozenset({'34', '93', '85'}), frozenset({'85', '63', '23'}), frozenset({'67', '90', '76'}), frozenset({'67', '86', '76'}), frozenset({'67', '85', '76'}), frozenset({'59', '76', '85'}), frozenset({'36', '85', '76'}), frozenset({'34', '93', '76'}), frozenset({'34', '85', '76'}), frozenset({'67', '90', '63'}), frozenset({'67', '86', '63'}), frozenset({'67', '85', '63'}), frozenset({'67', '90', '59'}), frozenset({'67', '86', '59'}), frozenset({'67', '59', '85'}), frozenset({'67', '59', '76'}), frozenset({'67', '59', '63'}), frozenset({'67', '36', '90'}), frozenset({'67', '36', '86'}), frozenset({'67', '36', '85'}), frozenset({'67', '36', '59'}), frozenset({'67', '34', '93'}), frozenset({'67', '34', '90'}), frozenset({'67', '34', '86'}), frozenset({'67', '34', '85'}), frozenset({'67', '34', '76'}), frozenset({'67', '34', '63'}), frozenset({'67', '34', '59'}), frozenset({'67', '34', '36'}), frozenset({'93', '59', '63'}), frozenset({'59', '63', '85'}), frozenset({'59', '76', '63'}), frozenset({'36', '93', '63'}), frozenset({'36', '85', '63'}), frozenset({'34', '93', '63'}), frozenset({'34', '85', '63'}), frozenset({'34', '76', '63'}), frozenset({'36', '93', '59'}), frozenset({'36', '59', '85'}), frozenset({'36', '59', '76'}), frozenset({'36', '59', '63'}), frozenset({'34', '93', '59'}), frozenset({'34', '59', '85'}), frozenset({'34', '59', '76'}), frozenset({'34', '59', '63'}), frozenset({'93', '59', '23'}), frozenset({'59', '85', '23'}), frozenset({'59', '63', '23'}), frozenset({'36', '85', '52'}), frozenset({'34', '85', '52'}), frozenset({'34', '85', '38'}), frozenset({'36', '93', '34'}), frozenset({'36', '85', '34'}), frozenset({'36', '76', '34'}), frozenset({'36', '34', '63'}), frozenset({'36', '59', '34'}), frozenset({'36', '52', '34'}), frozenset({'36', '85', '3'}), frozenset({'36', '3', '34'}), frozenset({'36', '93', '23'}), frozenset({'36', '85', '23'}), frozenset({'36', '63', '23'}), frozenset({'36', '59', '23'}), frozenset({'36', '34', '23'}), frozenset({'36', '85', '1'}), frozenset({'36', '1', '34'}), frozenset({'34', '85', '3'}), frozenset({'34', '93', '23'}), frozenset({'34', '85', '23'}), frozenset({'34', '63', '23'}), frozenset({'34', '59', '23'}), frozenset({'34', '85', '1'})], [frozenset({'36', '1', '110', '24'}), frozenset({'34', '1', '110', '24'}), frozenset({'85', '1', '110', '24'}), frozenset({'86', '1', '110', '24'}), frozenset({'1', '110', '90', '24'}), frozenset({'34', '85', '1', '24'}), frozenset({'86', '85', '1', '24'}), frozenset({'85', '1', '90', '24'}), frozenset({'36', '85', '1', '24'}), frozenset({'86', '36', '1', '24'}), frozenset({'36', '1', '90', '24'}), frozenset({'36', '34', '1', '24'}), frozenset({'86', '34', '1', '24'}), frozenset({'34', '1', '90', '24'}), frozenset({'86', '1', '90', '24'}), frozenset({'36', '85', '53', '110'}), frozenset({'86', '36', '53', '110'}), frozenset({'36', '53', '110', '90'}), frozenset({'36', '34', '53', '110'}), frozenset({'36', '34', '59', '53'}), frozenset({'36', '59', '53', '85'}), frozenset({'36', '34', '53', '63'}), frozenset({'36', '34', '85', '53'}), frozenset({'36', '85', '53', '63'}), frozenset({'36', '34', '85', '116'}), frozenset({'36', '39', '34', '56'}), frozenset({'36', '39', '85', '56'}), frozenset({'36', '34', '85', '56'}), frozenset({'86', '36', '34', '116'}), frozenset({'86', '36', '85', '116'}), frozenset({'36', '34', '116', '90'}), frozenset({'36', '85', '116', '90'}), frozenset({'36', '86', '116', '90'}), frozenset({'34', '39', '85', '56'}), frozenset({'86', '39', '34', '56'}), frozenset({'86', '39', '36', '56'}), frozenset({'86', '39', '85', '56'}), frozenset({'86', '36', '34', '56'}), frozenset({'86', '36', '85', '56'}), frozenset({'34', '39', '90', '56'}), frozenset({'36', '39', '90', '56'}), frozenset({'39', '85', '90', '56'}), frozenset({'86', '39', '90', '56'}), frozenset({'36', '34', '90', '56'}), frozenset({'36', '85', '90', '56'}), frozenset({'36', '86', '90', '56'}), frozenset({'86', '36', '34', '53'}), frozenset({'86', '36', '59', '53'}), frozenset({'86', '36', '53', '63'}), frozenset({'86', '36', '85', '53'}), frozenset({'36', '34', '53', '90'}), frozenset({'36', '59', '53', '90'}), frozenset({'36', '53', '63', '90'}), frozenset({'36', '85', '53', '90'}), frozenset({'36', '86', '53', '90'}), frozenset({'34', '85', '110', '24'}), frozenset({'86', '34', '110', '24'}), frozenset({'86', '85', '110', '24'}), frozenset({'34', '110', '90', '24'}), frozenset({'85', '110', '90', '24'}), frozenset({'36', '34', '110', '24'}), frozenset({'36', '85', '110', '24'}), frozenset({'86', '36', '110', '24'}), frozenset({'36', '110', '90', '24'}), frozenset({'86', '110', '90', '24'}), frozenset({'34', '85', '53', '110'}), frozenset({'86', '85', '53', '110'}), frozenset({'85', '53', '110', '90'}), frozenset({'86', '34', '85', '116'}), frozenset({'34', '85', '116', '90'}), frozenset({'86', '85', '116', '90'}), frozenset({'86', '34', '116', '90'}), frozenset({'34', '85', '116', '56'}), frozenset({'86', '34', '116', '56'}), frozenset({'86', '85', '116', '56'}), frozenset({'86', '34', '85', '56'}), frozenset({'34', '116', '90', '56'}), frozenset({'85', '116', '90', '56'}), frozenset({'34', '85', '90', '56'}), frozenset({'86', '116', '90', '56'}), frozenset({'86', '34', '90', '56'}), frozenset({'86', '85', '90', '56'}), frozenset({'86', '34', '53', '110'}), frozenset({'34', '53', '110', '90'}), frozenset({'86', '53', '110', '90'}), frozenset({'36', '34', '85', '6'}), frozenset({'36', '86', '34', '6'}), frozenset({'36', '86', '85', '6'}), frozenset({'36', '34', '6', '90'}), frozenset({'36', '85', '6', '90'}), frozenset({'36', '86', '6', '90'}), frozenset({'34', '86', '85', '6'}), frozenset({'34', '85', '6', '90'}), frozenset({'34', '86', '6', '90'}), frozenset({'86', '85', '6', '90'}), frozenset({'36', '34', '85', '24'}), frozenset({'86', '36', '34', '24'}), frozenset({'86', '36', '85', '24'}), frozenset({'36', '34', '90', '24'}), frozenset({'36', '85', '90', '24'}), frozenset({'36', '86', '90', '24'}), frozenset({'34', '85', '1', '110'}), frozenset({'36', '34', '1', '110'}), frozenset({'36', '85', '1', '110'}), frozenset({'36', '34', '85', '110'}), frozenset({'86', '34', '1', '110'}), frozenset({'86', '36', '1', '110'}), frozenset({'86', '36', '34', '110'}), frozenset({'86', '36', '85', '110'}), frozenset({'86', '85', '1', '110'}), frozenset({'86', '34', '85', '110'}), frozenset({'34', '1', '110', '90'}), frozenset({'86', '1', '110', '90'}), frozenset({'34', '86', '110', '90'}), frozenset({'36', '1', '110', '90'}), frozenset({'36', '34', '110', '90'}), frozenset({'36', '85', '110', '90'}), frozenset({'36', '86', '110', '90'}), frozenset({'85', '1', '110', '90'}), frozenset({'34', '85', '110', '90'}), frozenset({'86', '85', '110', '90'}), frozenset({'86', '34', '85', '24'}), frozenset({'34', '86', '90', '24'}), frozenset({'34', '85', '90', '24'}), frozenset({'86', '85', '90', '24'}), frozenset({'34', '39', '53', '28'}), frozenset({'34', '39', '59', '28'}), frozenset({'34', '39', '63', '28'}), frozenset({'34', '85', '53', '28'}), frozenset({'34', '39', '85', '28'}), frozenset({'34', '85', '59', '28'}), frozenset({'34', '85', '63', '28'}), frozenset({'59', '85', '63', '28'}), frozenset({'39', '59', '63', '28'}), frozenset({'39', '59', '85', '28'}), frozenset({'39', '85', '63', '28'}), frozenset({'39', '85', '53', '28'}), frozenset({'86', '39', '53', '28'}), frozenset({'86', '34', '53', '28'}), frozenset({'86', '34', '39', '28'}), frozenset({'86', '39', '59', '28'}), frozenset({'86', '34', '59', '28'}), frozenset({'86', '39', '63', '28'}), frozenset({'86', '34', '63', '28'}), frozenset({'86', '85', '53', '28'}), frozenset({'86', '39', '85', '28'}), frozenset({'86', '34', '85', '28'}), frozenset({'86', '85', '59', '28'}), frozenset({'86', '85', '63', '28'}), frozenset({'39', '53', '90', '28'}), frozenset({'34', '53', '90', '28'}), frozenset({'34', '39', '90', '28'}), frozenset({'85', '53', '90', '28'}), frozenset({'39', '85', '90', '28'}), frozenset({'34', '85', '90', '28'}), frozenset({'85', '59', '90', '28'}), frozenset({'86', '53', '90', '28'}), frozenset({'86', '39', '90', '28'}), frozenset({'86', '34', '90', '28'}), frozenset({'86', '85', '90', '28'}), frozenset({'34', '53', '2', '28'}), frozenset({'34', '59', '2', '28'}), frozenset({'34', '63', '2', '28'}), frozenset({'59', '63', '2', '28'}), frozenset({'85', '53', '2', '28'}), frozenset({'34', '85', '2', '28'}), frozenset({'85', '59', '2', '28'}), frozenset({'85', '63', '2', '28'}), frozenset({'86', '53', '2', '28'}), frozenset({'86', '34', '2', '28'}), frozenset({'86', '59', '2', '28'}), frozenset({'86', '63', '2', '28'}), frozenset({'86', '85', '2', '28'}), frozenset({'53', '2', '28', '90'}), frozenset({'34', '2', '28', '90'}), frozenset({'59', '2', '28', '90'}), frozenset({'85', '2', '28', '90'}), frozenset({'86', '2', '28', '90'}), frozenset({'39', '53', '2', '28'}), frozenset({'34', '39', '2', '28'}), frozenset({'39', '59', '2', '28'}), frozenset({'39', '63', '2', '28'}), frozenset({'39', '85', '2', '28'}), frozenset({'86', '39', '2', '28'}), frozenset({'39', '2', '28', '90'}), frozenset({'34', '39', '85', '53'}), frozenset({'34', '59', '53', '63'}), frozenset({'34', '59', '53', '85'}), frozenset({'34', '85', '53', '63'}), frozenset({'34', '85', '53', '76'}), frozenset({'34', '85', '53', '24'}), frozenset({'59', '53', '85', '63'}), frozenset({'67', '34', '85', '53'}), frozenset({'67', '34', '86', '53'}), frozenset({'67', '34', '53', '90'}), frozenset({'67', '86', '85', '53'}), frozenset({'67', '86', '53', '90'}), frozenset({'67', '85', '53', '90'}), frozenset({'86', '39', '34', '53'}), frozenset({'86', '39', '85', '53'}), frozenset({'86', '34', '53', '24'}), frozenset({'86', '34', '59', '53'}), frozenset({'86', '59', '53', '63'}), frozenset({'86', '59', '53', '85'}), frozenset({'86', '34', '53', '63'}), frozenset({'86', '34', '76', '53'}), frozenset({'86', '34', '85', '53'}), frozenset({'86', '85', '53', '63'}), frozenset({'86', '85', '53', '76'}), frozenset({'86', '85', '53', '24'}), frozenset({'34', '39', '53', '90'}), frozenset({'39', '85', '53', '90'}), frozenset({'86', '39', '53', '90'}), frozenset({'34', '53', '90', '24'}), frozenset({'34', '59', '53', '90'}), frozenset({'59', '53', '63', '90'}), frozenset({'59', '53', '85', '90'}), frozenset({'86', '59', '53', '90'}), frozenset({'34', '53', '63', '90'}), frozenset({'34', '76', '53', '90'}), frozenset({'86', '76', '53', '90'}), frozenset({'34', '85', '53', '90'}), frozenset({'85', '53', '63', '90'}), frozenset({'85', '53', '76', '90'}), frozenset({'86', '85', '53', '90'}), frozenset({'85', '53', '90', '24'}), frozenset({'86', '53', '90', '24'}), frozenset({'86', '34', '53', '90'}), frozenset({'86', '53', '63', '90'}), frozenset({'34', '85', '53', '2'}), frozenset({'86', '85', '53', '2'}), frozenset({'85', '53', '2', '90'}), frozenset({'86', '34', '53', '2'}), frozenset({'34', '53', '2', '90'}), frozenset({'86', '53', '2', '90'}), frozenset({'34', '39', '53', '2'}), frozenset({'39', '85', '53', '2'}), frozenset({'86', '39', '53', '2'}), frozenset({'39', '53', '2', '90'}), frozenset({'34', '86', '85', '94'}), frozenset({'34', '85', '94', '90'}), frozenset({'34', '86', '94', '90'}), frozenset({'34', '85', '94', '24'}), frozenset({'34', '86', '94', '24'}), frozenset({'34', '94', '90', '24'}), frozenset({'34', '85', '53', '94'}), frozenset({'34', '86', '53', '94'}), frozenset({'34', '53', '94', '90'}), frozenset({'34', '53', '94', '24'}), frozenset({'85', '53', '94', '24'}), frozenset({'86', '85', '94', '90'}), frozenset({'86', '85', '94', '24'}), frozenset({'86', '94', '90', '24'}), frozenset({'86', '85', '53', '94'}), frozenset({'86', '53', '94', '90'}), frozenset({'86', '53', '94', '24'}), frozenset({'85', '94', '90', '24'}), frozenset({'85', '53', '94', '90'}), frozenset({'53', '94', '90', '24'}), frozenset({'36', '34', '85', '10'}), frozenset({'86', '36', '34', '10'}), frozenset({'86', '36', '85', '10'}), frozenset({'86', '34', '85', '10'}), frozenset({'36', '34', '10', '90'}), frozenset({'36', '85', '10', '90'}), frozenset({'36', '86', '10', '90'}), frozenset({'34', '85', '10', '90'}), frozenset({'86', '85', '10', '90'}), frozenset({'86', '34', '10', '90'}), frozenset({'36', '34', '2', '23'}), frozenset({'34', '59', '2', '23'}), frozenset({'34', '63', '2', '23'}), frozenset({'34', '85', '2', '23'}), frozenset({'34', '86', '2', '23'}), frozenset({'34', '86', '63', '2'}), frozenset({'34', '23', '2', '90'}), frozenset({'34', '63', '2', '90'}), frozenset({'34', '86', '2', '90'}), frozenset({'34', '2', '93', '23'}), frozenset({'34', '39', '2', '23'}), frozenset({'36', '59', '2', '23'}), frozenset({'36', '34', '59', '2'}), frozenset({'36', '63', '2', '23'}), frozenset({'36', '34', '63', '2'}), frozenset({'36', '59', '63', '2'}), frozenset({'36', '85', '2', '23'}), frozenset({'36', '34', '85', '2'}), frozenset({'36', '85', '59', '2'}), frozenset({'36', '85', '63', '2'}), frozenset({'36', '86', '2', '23'}), frozenset({'36', '86', '34', '2'}), frozenset({'36', '86', '59', '2'}), frozenset({'36', '86', '63', '2'}), frozenset({'36', '86', '85', '2'}), frozenset({'36', '34', '2', '90'}), frozenset({'36', '59', '2', '90'}), frozenset({'36', '63', '2', '90'}), frozenset({'36', '85', '2', '90'}), frozenset({'36', '86', '2', '90'}), frozenset({'36', '2', '93', '23'}), frozenset({'36', '34', '2', '93'}), frozenset({'36', '39', '2', '23'}), frozenset({'36', '39', '34', '2'}), frozenset({'59', '63', '2', '23'}), frozenset({'34', '59', '63', '2'}), frozenset({'59', '85', '2', '23'}), frozenset({'34', '59', '85', '2'}), frozenset({'59', '85', '63', '2'}), frozenset({'86', '59', '2', '23'}), frozenset({'86', '34', '59', '2'}), frozenset({'86', '59', '63', '2'}), frozenset({'86', '59', '85', '2'}), frozenset({'59', '23', '2', '90'}), frozenset({'34', '59', '2', '90'}), frozenset({'59', '63', '2', '90'}), frozenset({'59', '85', '2', '90'}), frozenset({'86', '59', '2', '90'}), frozenset({'59', '2', '93', '23'}), frozenset({'34', '59', '2', '93'}), frozenset({'36', '59', '2', '93'}), frozenset({'39', '59', '2', '23'}), frozenset({'34', '39', '59', '2'}), frozenset({'36', '39', '59', '2'}), frozenset({'85', '63', '2', '23'}), frozenset({'34', '85', '63', '2'}), frozenset({'86', '63', '2', '23'}), frozenset({'86', '63', '2', '90'}), frozenset({'34', '63', '2', '93'}), frozenset({'36', '63', '2', '93'}), frozenset({'59', '63', '2', '93'}), frozenset({'39', '63', '2', '23'}), frozenset({'34', '39', '63', '2'}), frozenset({'36', '39', '63', '2'}), frozenset({'39', '59', '63', '2'}), frozenset({'67', '34', '39', '2'}), frozenset({'67', '39', '85', '2'}), frozenset({'67', '34', '85', '2'}), frozenset({'67', '86', '39', '2'}), frozenset({'67', '86', '34', '2'}), frozenset({'67', '86', '85', '2'}), frozenset({'34', '85', '76', '2'}), frozenset({'86', '34', '76', '2'}), frozenset({'34', '39', '76', '2'}), frozenset({'86', '85', '2', '23'}), frozenset({'86', '34', '85', '2'}), frozenset({'86', '85', '63', '2'}), frozenset({'86', '85', '76', '2'}), frozenset({'85', '23', '2', '90'}), frozenset({'34', '85', '2', '90'}), frozenset({'85', '63', '2', '90'}), frozenset({'86', '85', '2', '90'}), frozenset({'85', '2', '93', '23'}), frozenset({'34', '85', '2', '93'}), frozenset({'36', '85', '2', '93'}), frozenset({'85', '59', '2', '93'}), frozenset({'85', '63', '2', '93'}), frozenset({'39', '85', '2', '23'}), frozenset({'34', '39', '85', '2'}), frozenset({'36', '39', '85', '2'}), frozenset({'39', '85', '59', '2'}), frozenset({'39', '85', '63', '2'}), frozenset({'39', '85', '76', '2'}), frozenset({'86', '23', '2', '90'}), frozenset({'86', '2', '93', '23'}), frozenset({'86', '34', '2', '93'}), frozenset({'86', '36', '2', '93'}), frozenset({'86', '59', '2', '93'}), frozenset({'86', '63', '2', '93'}), frozenset({'86', '85', '2', '93'}), frozenset({'86', '39', '2', '23'}), frozenset({'86', '39', '34', '2'}), frozenset({'86', '39', '36', '2'}), frozenset({'86', '39', '59', '2'}), frozenset({'86', '39', '63', '2'}), frozenset({'86', '39', '76', '2'}), frozenset({'86', '39', '85', '2'}), frozenset({'23', '2', '93', '90'}), frozenset({'34', '2', '93', '90'}), frozenset({'36', '2', '93', '90'}), frozenset({'59', '2', '93', '90'}), frozenset({'63', '2', '93', '90'}), frozenset({'85', '2', '93', '90'}), frozenset({'86', '2', '93', '90'}), frozenset({'34', '39', '2', '90'}), frozenset({'36', '39', '2', '90'}), frozenset({'39', '59', '2', '90'}), frozenset({'39', '63', '2', '90'}), frozenset({'39', '85', '2', '90'}), frozenset({'86', '39', '2', '90'}), frozenset({'39', '2', '93', '23'}), frozenset({'34', '39', '2', '93'}), frozenset({'36', '39', '2', '93'}), frozenset({'39', '59', '2', '93'}), frozenset({'39', '63', '2', '93'}), frozenset({'39', '85', '2', '93'}), frozenset({'86', '39', '2', '93'}), frozenset({'39', '2', '93', '90'}), frozenset({'34', '39', '59', '23'}), frozenset({'34', '39', '63', '23'}), frozenset({'34', '39', '59', '63'}), frozenset({'34', '39', '85', '23'}), frozenset({'34', '39', '85', '3'}), frozenset({'34', '39', '85', '52'}), frozenset({'34', '39', '85', '59'}), frozenset({'34', '39', '85', '63'}), frozenset({'34', '39', '85', '76'}), frozenset({'34', '39', '93', '23'}), frozenset({'34', '39', '59', '93'}), frozenset({'34', '39', '63', '93'}), frozenset({'34', '39', '85', '93'}), frozenset({'36', '39', '34', '23'}), frozenset({'36', '39', '59', '23'}), frozenset({'36', '39', '59', '34'}), frozenset({'36', '39', '63', '23'}), frozenset({'36', '39', '34', '63'}), frozenset({'36', '39', '59', '63'}), frozenset({'36', '39', '85', '23'}), frozenset({'36', '39', '85', '34'}), frozenset({'36', '39', '85', '52'}), frozenset({'36', '39', '85', '59'}), frozenset({'36', '39', '85', '63'}), frozenset({'36', '39', '93', '23'}), frozenset({'36', '39', '34', '93'}), frozenset({'36', '39', '59', '93'}), frozenset({'36', '39', '63', '93'}), frozenset({'36', '39', '85', '93'}), frozenset({'39', '59', '63', '23'}), frozenset({'39', '59', '85', '23'}), frozenset({'39', '59', '85', '63'}), frozenset({'39', '59', '93', '23'}), frozenset({'39', '85', '63', '23'}), frozenset({'39', '63', '93', '23'}), frozenset({'39', '59', '63', '93'}), frozenset({'67', '34', '39', '85'}), frozenset({'67', '34', '39', '86'}), frozenset({'67', '86', '39', '85'}), frozenset({'39', '85', '93', '23'}), frozenset({'39', '85', '59', '93'}), frozenset({'39', '85', '63', '93'}), frozenset({'86', '39', '34', '23'}), frozenset({'86', '39', '34', '3'}), frozenset({'86', '39', '36', '23'}), frozenset({'86', '39', '36', '34'}), frozenset({'86', '39', '34', '52'}), frozenset({'86', '39', '59', '23'}), frozenset({'86', '39', '59', '34'}), frozenset({'86', '39', '59', '36'}), frozenset({'86', '39', '63', '23'}), frozenset({'86', '39', '34', '63'}), frozenset({'86', '39', '36', '63'}), frozenset({'86', '39', '59', '63'}), frozenset({'86', '39', '34', '76'}), frozenset({'86', '39', '85', '23'}), frozenset({'86', '39', '85', '3'}), frozenset({'86', '39', '85', '34'}), frozenset({'86', '39', '85', '36'}), frozenset({'86', '39', '85', '52'}), frozenset({'86', '39', '85', '59'}), frozenset({'86', '39', '85', '63'}), frozenset({'86', '39', '85', '76'}), frozenset({'86', '39', '93', '23'}), frozenset({'86', '39', '34', '93'}), frozenset({'86', '39', '36', '93'}), frozenset({'86', '39', '59', '93'}), frozenset({'86', '39', '63', '93'}), frozenset({'86', '39', '85', '93'}), frozenset({'34', '39', '90', '23'}), frozenset({'36', '39', '90', '23'}), frozenset({'36', '39', '34', '90'}), frozenset({'39', '59', '90', '23'}), frozenset({'34', '39', '59', '90'}), frozenset({'36', '39', '59', '90'}), frozenset({'34', '39', '63', '90'}), frozenset({'36', '39', '63', '90'}), frozenset({'39', '59', '63', '90'}), frozenset({'39', '85', '90', '23'}), frozenset({'3', '39', '85', '90'}), frozenset({'34', '39', '85', '90'}), frozenset({'36', '39', '85', '90'}), frozenset({'39', '85', '59', '90'}), frozenset({'39', '85', '63', '90'}), frozenset({'86', '39', '90', '23'}), frozenset({'86', '39', '34', '90'}), frozenset({'86', '39', '36', '90'}), frozenset({'86', '39', '59', '90'}), frozenset({'86', '39', '63', '90'}), frozenset({'86', '39', '85', '90'}), frozenset({'39', '90', '93', '23'}), frozenset({'34', '39', '90', '93'}), frozenset({'36', '39', '90', '93'}), frozenset({'39', '59', '90', '93'}), frozenset({'39', '63', '90', '93'}), frozenset({'39', '85', '90', '93'}), frozenset({'86', '39', '90', '93'}), frozenset({'36', '34', '59', '23'}), frozenset({'36', '34', '63', '23'}), frozenset({'36', '34', '85', '1'}), frozenset({'36', '34', '85', '23'}), frozenset({'36', '34', '85', '3'}), frozenset({'36', '34', '93', '23'}), frozenset({'36', '34', '85', '52'}), frozenset({'34', '59', '63', '23'}), frozenset({'34', '59', '76', '63'}), frozenset({'34', '59', '85', '23'}), frozenset({'34', '59', '85', '63'}), frozenset({'34', '59', '85', '76'}), frozenset({'34', '59', '93', '23'}), frozenset({'36', '59', '63', '23'}), frozenset({'36', '34', '59', '63'}), frozenset({'36', '34', '59', '76'}), frozenset({'36', '59', '85', '23'}), frozenset({'36', '34', '59', '85'}), frozenset({'36', '59', '85', '63'}), frozenset({'36', '59', '85', '76'}), frozenset({'36', '59', '93', '23'}), frozenset({'36', '34', '59', '93'}), frozenset({'34', '85', '63', '23'}), frozenset({'34', '63', '93', '23'}), frozenset({'34', '59', '63', '93'}), frozenset({'36', '85', '63', '23'}), frozenset({'36', '34', '85', '63'}), frozenset({'36', '63', '93', '23'}), frozenset({'36', '34', '63', '93'}), frozenset({'36', '59', '63', '93'}), frozenset({'59', '85', '63', '23'}), frozenset({'59', '63', '93', '23'}), frozenset({'67', '34', '36', '59'}), frozenset({'67', '34', '59', '63'}), frozenset({'67', '34', '59', '76'}), frozenset({'67', '34', '36', '85'}), frozenset({'67', '34', '85', '59'}), frozenset({'67', '34', '85', '63'}), frozenset({'67', '34', '85', '76'}), frozenset({'67', '34', '86', '36'}), frozenset({'67', '34', '86', '59'}), frozenset({'67', '34', '86', '63'}), frozenset({'67', '34', '86', '76'}), frozenset({'67', '34', '86', '85'}), frozenset({'67', '34', '36', '90'}), frozenset({'67', '34', '59', '90'}), frozenset({'67', '34', '63', '90'}), frozenset({'67', '34', '76', '90'}), frozenset({'67', '34', '85', '90'}), frozenset({'67', '34', '86', '90'}), frozenset({'67', '34', '85', '93'}), frozenset({'67', '34', '86', '93'}), frozenset({'67', '36', '85', '59'}), frozenset({'67', '36', '86', '59'}), frozenset({'67', '36', '86', '85'}), frozenset({'67', '36', '85', '90'}), frozenset({'67', '36', '86', '90'}), frozenset({'67', '59', '85', '63'}), frozenset({'67', '59', '85', '76'}), frozenset({'67', '86', '59', '63'}), frozenset({'34', '85', '76', '63'}), frozenset({'36', '34', '85', '76'}), frozenset({'59', '76', '85', '63'}), frozenset({'67', '86', '59', '76'}), frozenset({'34', '85', '93', '23'}), frozenset({'34', '85', '59', '93'}), frozenset({'34', '85', '63', '93'}), frozenset({'34', '85', '76', '93'}), frozenset({'36', '85', '93', '23'}), frozenset({'36', '34', '85', '93'}), frozenset({'36', '85', '59', '93'}), frozenset({'36', '85', '63', '93'}), frozenset({'59', '85', '93', '23'}), frozenset({'59', '85', '63', '93'}), frozenset({'67', '86', '85', '59'}), frozenset({'67', '86', '85', '63'}), frozenset({'67', '86', '85', '76'}), frozenset({'67', '85', '59', '90'}), frozenset({'67', '85', '63', '90'}), frozenset({'67', '85', '76', '90'}), frozenset({'86', '36', '34', '1'}), frozenset({'86', '36', '34', '23'}), frozenset({'86', '36', '34', '3'}), frozenset({'86', '34', '59', '23'}), frozenset({'86', '34', '63', '23'}), frozenset({'86', '34', '85', '1'}), frozenset({'86', '34', '85', '23'}), frozenset({'86', '34', '85', '3'}), frozenset({'86', '34', '93', '23'}), frozenset({'86', '36', '34', '52'}), frozenset({'86', '36', '59', '23'}), frozenset({'86', '36', '59', '34'}), frozenset({'86', '36', '63', '23'}), frozenset({'86', '36', '34', '63'}), frozenset({'86', '36', '59', '63'}), frozenset({'86', '36', '34', '76'}), frozenset({'86', '36', '59', '76'}), frozenset({'86', '36', '85', '1'}), frozenset({'86', '36', '85', '23'}), frozenset({'86', '36', '85', '3'}), frozenset({'86', '36', '85', '34'}), frozenset({'86', '36', '85', '52'}), frozenset({'86', '36', '85', '59'}), frozenset({'86', '36', '85', '63'}), frozenset({'86', '36', '85', '76'}), frozenset({'86', '36', '93', '23'}), frozenset({'86', '36', '34', '93'}), frozenset({'86', '34', '85', '38'}), frozenset({'86', '34', '85', '52'}), frozenset({'86', '59', '63', '23'}), frozenset({'86', '34', '59', '63'}), frozenset({'86', '34', '59', '76'}), frozenset({'86', '59', '76', '63'}), frozenset({'86', '59', '85', '23'}), frozenset({'86', '34', '59', '85'}), frozenset({'86', '59', '85', '63'}), frozenset({'86', '59', '85', '76'}), frozenset({'86', '59', '93', '23'}), frozenset({'86', '34', '59', '93'}), frozenset({'86', '36', '59', '93'}), frozenset({'86', '34', '76', '63'}), frozenset({'86', '85', '63', '23'}), frozenset({'86', '34', '85', '63'}), frozenset({'86', '63', '93', '23'}), frozenset({'86', '34', '63', '93'}), frozenset({'86', '36', '63', '93'}), frozenset({'86', '59', '63', '93'}), frozenset({'67', '86', '59', '90'}), frozenset({'67', '86', '63', '90'}), frozenset({'67', '86', '76', '90'}), frozenset({'67', '86', '85', '90'}), frozenset({'67', '86', '85', '93'}), frozenset({'86', '34', '85', '76'}), frozenset({'86', '85', '76', '63'}), frozenset({'86', '34', '76', '93'}), frozenset({'86', '85', '93', '23'}), frozenset({'86', '34', '85', '93'}), frozenset({'86', '36', '85', '93'}), frozenset({'86', '85', '59', '93'}), frozenset({'86', '85', '63', '93'}), frozenset({'86', '85', '76', '93'}), frozenset({'86', '34', '1', '90'}), frozenset({'3', '86', '34', '90'}), frozenset({'36', '34', '1', '90'}), frozenset({'36', '34', '90', '23'}), frozenset({'36', '34', '3', '90'}), frozenset({'34', '59', '90', '23'}), frozenset({'34', '63', '90', '23'}), frozenset({'34', '85', '1', '90'}), frozenset({'34', '85', '90', '23'}), frozenset({'34', '3', '85', '90'}), frozenset({'34', '86', '90', '23'}), frozenset({'34', '86', '90', '38'}), frozenset({'34', '86', '63', '90'}), frozenset({'34', '90', '93', '23'}), frozenset({'36', '34', '52', '90'}), frozenset({'36', '59', '90', '23'}), frozenset({'36', '34', '59', '90'}), frozenset({'36', '63', '90', '23'}), frozenset({'36', '34', '63', '90'}), frozenset({'36', '59', '63', '90'}), frozenset({'36', '34', '76', '90'}), frozenset({'36', '85', '1', '90'}), frozenset({'36', '85', '90', '23'}), frozenset({'36', '3', '85', '90'}), frozenset({'36', '34', '85', '90'}), frozenset({'36', '85', '52', '90'}), frozenset({'36', '85', '59', '90'}), frozenset({'36', '85', '63', '90'}), frozenset({'36', '85', '76', '90'}), frozenset({'36', '86', '1', '90'}), frozenset({'36', '86', '90', '23'}), frozenset({'36', '86', '3', '90'}), frozenset({'36', '86', '34', '90'}), frozenset({'36', '86', '52', '90'}), frozenset({'36', '86', '59', '90'}), frozenset({'36', '86', '63', '90'}), frozenset({'36', '86', '76', '90'}), frozenset({'36', '86', '85', '90'}), frozenset({'36', '90', '93', '23'}), frozenset({'36', '34', '90', '93'}), frozenset({'34', '85', '90', '38'}), frozenset({'34', '85', '52', '90'}), frozenset({'86', '34', '52', '90'}), frozenset({'59', '63', '90', '23'}), frozenset({'34', '59', '63', '90'}), frozenset({'34', '59', '76', '90'}), frozenset({'59', '85', '90', '23'}), frozenset({'34', '59', '85', '90'}), frozenset({'59', '85', '63', '90'}), frozenset({'59', '85', '76', '90'}), frozenset({'86', '59', '90', '23'}), frozenset({'86', '34', '59', '90'}), frozenset({'86', '59', '63', '90'}), frozenset({'86', '59', '76', '90'}), frozenset({'86', '59', '85', '90'}), frozenset({'59', '90', '93', '23'}), frozenset({'34', '59', '90', '93'}), frozenset({'36', '59', '90', '93'}), frozenset({'34', '76', '63', '90'}), frozenset({'85', '63', '90', '23'}), frozenset({'34', '85', '63', '90'}), frozenset({'86', '63', '90', '23'}), frozenset({'63', '90', '93', '23'}), frozenset({'34', '63', '90', '93'}), frozenset({'36', '63', '90', '93'}), frozenset({'59', '63', '90', '93'}), frozenset({'34', '85', '76', '90'}), frozenset({'85', '76', '63', '90'}), frozenset({'86', '34', '76', '90'}), frozenset({'86', '76', '63', '90'}), frozenset({'86', '85', '1', '90'}), frozenset({'86', '85', '90', '23'}), frozenset({'86', '3', '85', '90'}), frozenset({'86', '34', '85', '90'}), frozenset({'86', '85', '90', '38'}), frozenset({'86', '85', '52', '90'}), frozenset({'86', '85', '63', '90'}), frozenset({'86', '85', '76', '90'}), frozenset({'85', '90', '93', '23'}), frozenset({'34', '85', '90', '93'}), frozenset({'36', '85', '90', '93'}), frozenset({'85', '59', '90', '93'}), frozenset({'85', '63', '90', '93'}), frozenset({'86', '90', '93', '23'}), frozenset({'86', '34', '90', '93'}), frozenset({'86', '36', '90', '93'}), frozenset({'86', '59', '90', '93'}), frozenset({'86', '63', '90', '93'}), frozenset({'86', '85', '90', '93'}), frozenset({'85', '63', '93', '23'})], [frozenset({'34', '1', '24', '36', '110'}), frozenset({'1', '24', '86', '36', '110'}), frozenset({'85', '1', '24', '36', '110'}), frozenset({'1', '90', '24', '36', '110'}), frozenset({'34', '1', '24', '86', '110'}), frozenset({'85', '1', '24', '86', '110'}), frozenset({'34', '85', '1', '24', '110'}), frozenset({'1', '90', '24', '86', '110'}), frozenset({'85', '1', '90', '24', '110'}), frozenset({'34', '1', '90', '24', '110'}), frozenset({'34', '85', '1', '24', '86'}), frozenset({'85', '1', '24', '86', '36'}), frozenset({'34', '1', '24', '86', '36'}), frozenset({'34', '85', '1', '24', '36'}), frozenset({'34', '1', '90', '24', '86'}), frozenset({'34', '1', '90', '24', '36'}), frozenset({'1', '90', '24', '86', '36'}), frozenset({'85', '1', '90', '24', '36'}), frozenset({'85', '1', '90', '24', '86'}), frozenset({'34', '85', '1', '90', '24'}), frozenset({'85', '53', '86', '36', '110'}), frozenset({'34', '53', '86', '36', '110'}), frozenset({'34', '85', '53', '36', '110'}), frozenset({'34', '53', '90', '36', '110'}), frozenset({'53', '90', '86', '36', '110'}), frozenset({'85', '53', '90', '36', '110'}), frozenset({'85', '53', '90', '86', '36'}), frozenset({'85', '53', '63', '86', '36'}), frozenset({'85', '53', '86', '36', '59'}), frozenset({'34', '85', '53', '86', '36'}), frozenset({'53', '63', '90', '86', '36'}), frozenset({'53', '90', '86', '36', '59'}), frozenset({'34', '53', '86', '36', '59'}), frozenset({'34', '53', '90', '86', '36'}), frozenset({'34', '53', '63', '86', '36'}), frozenset({'85', '90', '86', '36', '56'}), frozenset({'34', '85', '86', '36', '56'}), frozenset({'34', '90', '86', '36', '56'}), frozenset({'39', '85', '90', '86', '56'}), frozenset({'39', '85', '86', '36', '56'}), frozenset({'34', '39', '85', '86', '56'}), frozenset({'39', '90', '86', '36', '56'}), frozenset({'34', '39', '86', '36', '56'}), frozenset({'34', '39', '90', '86', '56'}), frozenset({'34', '39', '85', '90', '56'}), frozenset({'85', '90', '86', '36', '116'}), frozenset({'34', '85', '86', '36', '116'}), frozenset({'34', '90', '86', '36', '116'}), frozenset({'34', '85', '90', '36', '56'}), frozenset({'39', '85', '90', '36', '56'}), frozenset({'34', '39', '85', '36', '56'}), frozenset({'34', '39', '90', '36', '56'}), frozenset({'34', '85', '90', '36', '116'}), frozenset({'85', '53', '63', '90', '36'}), frozenset({'34', '85', '53', '90', '36'}), frozenset({'34', '85', '53', '63', '36'}), frozenset({'34', '53', '63', '90', '36'}), frozenset({'85', '53', '90', '36', '59'}), frozenset({'34', '53', '90', '36', '59'}), frozenset({'34', '85', '53', '36', '59'}), frozenset({'34', '85', '24', '86', '110'}), frozenset({'85', '24', '86', '36', '110'}), frozenset({'34', '24', '86', '36', '110'}), frozenset({'34', '85', '24', '36', '110'}), frozenset({'90', '24', '86', '36', '110'}), frozenset({'85', '90', '24', '36', '110'}), frozenset({'34', '90', '24', '36', '110'}), frozenset({'85', '90', '24', '86', '110'}), frozenset({'34', '90', '24', '86', '110'}), frozenset({'34', '85', '90', '24', '110'}), frozenset({'34', '85', '53', '86', '110'}), frozenset({'34', '53', '90', '86', '110'}), frozenset({'34', '85', '90', '86', '56'}), frozenset({'34', '90', '86', '116', '56'}), frozenset({'85', '90', '86', '116', '56'}), frozenset({'34', '85', '90', '116', '56'}), frozenset({'34', '85', '90', '86', '116'}), frozenset({'34', '85', '86', '116', '56'}), frozenset({'85', '53', '90', '86', '110'}), frozenset({'34', '85', '53', '90', '110'}), frozenset({'85', '90', '36', '86', '6'}), frozenset({'34', '85', '36', '86', '6'}), frozenset({'34', '90', '36', '86', '6'}), frozenset({'34', '85', '90', '36', '6'}), frozenset({'34', '85', '90', '86', '6'}), frozenset({'85', '90', '24', '86', '36'}), frozenset({'34', '85', '24', '86', '36'}), frozenset({'34', '90', '24', '86', '36'}), frozenset({'34', '85', '90', '24', '36'}), frozenset({'34', '85', '90', '86', '110'}), frozenset({'34', '85', '1', '86', '110'}), frozenset({'85', '1', '90', '86', '110'}), frozenset({'85', '90', '86', '36', '110'}), frozenset({'34', '85', '86', '36', '110'}), frozenset({'85', '1', '86', '36', '110'}), frozenset({'34', '90', '86', '36', '110'}), frozenset({'34', '1', '86', '36', '110'}), frozenset({'1', '90', '86', '36', '110'}), frozenset({'34', '1', '90', '86', '110'}), frozenset({'34', '85', '90', '36', '110'}), frozenset({'34', '85', '1', '36', '110'}), frozenset({'85', '1', '90', '36', '110'}), frozenset({'34', '1', '90', '36', '110'}), frozenset({'34', '85', '1', '90', '110'}), frozenset({'53', '94', '90', '24', '86'}), frozenset({'85', '94', '90', '24', '86'}), frozenset({'85', '53', '94', '90', '24'}), frozenset({'34', '53', '94', '90', '24'}), frozenset({'34', '94', '90', '24', '86'}), frozenset({'34', '85', '94', '90', '24'}), frozenset({'34', '85', '94', '90', '86'}), frozenset({'34', '53', '94', '90', '86'}), frozenset({'34', '53', '90', '86', '2'}), frozenset({'85', '53', '94', '90', '86'}), frozenset({'85', '53', '90', '86', '2'}), frozenset({'34', '85', '53', '94', '90'}), frozenset({'34', '85', '53', '90', '2'}), frozenset({'39', '53', '90', '86', '2'}), frozenset({'39', '85', '53', '90', '2'}), frozenset({'34', '39', '53', '90', '2'}), frozenset({'85', '53', '94', '24', '86'}), frozenset({'85', '53', '90', '24', '86'}), frozenset({'85', '76', '53', '90', '86'}), frozenset({'85', '53', '63', '90', '86'}), frozenset({'34', '85', '53', '90', '86'}), frozenset({'34', '85', '53', '76', '86'}), frozenset({'34', '85', '53', '63', '86'}), frozenset({'34', '85', '53', '86', '2'}), frozenset({'34', '85', '53', '94', '86'}), frozenset({'34', '53', '76', '90', '86'}), frozenset({'34', '53', '63', '90', '86'}), frozenset({'85', '53', '90', '86', '59'}), frozenset({'53', '63', '90', '86', '59'}), frozenset({'85', '53', '63', '86', '59'}), frozenset({'34', '53', '90', '86', '59'}), frozenset({'34', '85', '53', '86', '59'}), frozenset({'34', '53', '63', '86', '59'}), frozenset({'34', '53', '94', '24', '86'}), frozenset({'34', '53', '90', '24', '86'}), frozenset({'39', '85', '53', '90', '86'}), frozenset({'34', '39', '85', '53', '86'}), frozenset({'39', '85', '53', '86', '2'}), frozenset({'34', '39', '53', '90', '86'}), frozenset({'34', '39', '53', '86', '2'}), frozenset({'67', '85', '53', '90', '86'}), frozenset({'67', '34', '53', '90', '86'}), frozenset({'67', '34', '85', '53', '86'}), frozenset({'67', '34', '85', '53', '90'}), frozenset({'85', '53', '63', '90', '59'}), frozenset({'34', '85', '53', '94', '24'}), frozenset({'34', '85', '53', '90', '24'}), frozenset({'34', '85', '76', '53', '90'}), frozenset({'34', '85', '53', '63', '90'}), frozenset({'34', '85', '53', '90', '59'}), frozenset({'34', '53', '63', '90', '59'}), frozenset({'34', '85', '53', '63', '59'}), frozenset({'34', '39', '85', '53', '90'}), frozenset({'34', '39', '85', '53', '2'}), frozenset({'39', '90', '28', '86', '2'}), frozenset({'39', '85', '90', '28', '2'}), frozenset({'34', '39', '90', '28', '2'}), frozenset({'39', '53', '90', '28', '2'}), frozenset({'85', '90', '28', '86', '2'}), frozenset({'34', '90', '28', '86', '2'}), frozenset({'53', '90', '28', '86', '2'}), frozenset({'85', '90', '28', '59', '2'}), frozenset({'34', '85', '90', '28', '2'}), frozenset({'85', '53', '90', '28', '2'}), frozenset({'34', '53', '90', '28', '2'}), frozenset({'85', '63', '28', '86', '2'}), frozenset({'85', '28', '86', '59', '2'}), frozenset({'34', '85', '90', '28', '86'}), frozenset({'34', '85', '63', '28', '86'}), frozenset({'34', '85', '28', '86', '2'}), frozenset({'34', '85', '53', '28', '86'}), frozenset({'39', '85', '90', '28', '86'}), frozenset({'39', '85', '63', '28', '86'}), frozenset({'39', '85', '28', '86', '59'}), frozenset({'34', '39', '85', '28', '86'}), frozenset({'39', '85', '28', '86', '2'}), frozenset({'39', '85', '53', '28', '86'}), frozenset({'85', '53', '28', '86', '2'}), frozenset({'85', '53', '90', '28', '86'}), frozenset({'34', '63', '28', '86', '2'}), frozenset({'39', '63', '28', '86', '2'}), frozenset({'34', '85', '28', '86', '59'}), frozenset({'34', '28', '86', '59', '2'}), frozenset({'34', '39', '28', '86', '59'}), frozenset({'39', '28', '86', '59', '2'}), frozenset({'34', '39', '90', '28', '86'}), frozenset({'34', '39', '63', '28', '86'}), frozenset({'34', '39', '28', '86', '2'}), frozenset({'34', '39', '53', '28', '86'}), frozenset({'34', '53', '28', '86', '2'}), frozenset({'34', '53', '90', '28', '86'}), frozenset({'39', '53', '28', '86', '2'}), frozenset({'39', '53', '90', '28', '86'}), frozenset({'39', '85', '53', '28', '2'}), frozenset({'39', '85', '53', '90', '28'}), frozenset({'39', '85', '63', '28', '2'}), frozenset({'39', '85', '63', '28', '59'}), frozenset({'39', '85', '28', '59', '2'}), frozenset({'85', '63', '28', '59', '2'}), frozenset({'34', '85', '63', '28', '2'}), frozenset({'34', '85', '28', '59', '2'}), frozenset({'34', '39', '85', '90', '28'}), frozenset({'34', '39', '85', '63', '28'}), frozenset({'34', '39', '85', '28', '59'}), frozenset({'34', '39', '85', '28', '2'}), frozenset({'34', '39', '85', '53', '28'}), frozenset({'34', '85', '53', '28', '2'}), frozenset({'34', '85', '53', '90', '28'}), frozenset({'34', '39', '63', '28', '2'}), frozenset({'34', '39', '28', '59', '2'}), frozenset({'34', '39', '53', '28', '2'}), frozenset({'34', '39', '53', '90', '28'}), frozenset({'34', '85', '90', '24', '86'}), frozenset({'34', '85', '94', '24', '86'}), frozenset({'34', '85', '53', '24', '86'}), frozenset({'34', '85', '10', '90', '86'}), frozenset({'85', '10', '90', '86', '36'}), frozenset({'34', '85', '10', '86', '36'}), frozenset({'34', '10', '90', '86', '36'}), frozenset({'34', '85', '10', '90', '36'}), frozenset({'39', '90', '23', '86', '93'}), frozenset({'39', '85', '90', '23', '93'}), frozenset({'39', '90', '23', '59', '93'}), frozenset({'39', '90', '23', '36', '93'}), frozenset({'34', '39', '90', '23', '93'}), frozenset({'39', '85', '90', '86', '93'}), frozenset({'39', '90', '86', '59', '93'}), frozenset({'39', '90', '86', '36', '93'}), frozenset({'34', '39', '90', '86', '93'}), frozenset({'39', '85', '63', '90', '86'}), frozenset({'39', '85', '63', '86', '93'}), frozenset({'39', '85', '90', '86', '59'}), frozenset({'39', '85', '86', '59', '93'}), frozenset({'39', '85', '63', '86', '59'}), frozenset({'39', '85', '90', '86', '36'}), frozenset({'39', '85', '86', '36', '93'}), frozenset({'39', '85', '63', '86', '36'}), frozenset({'39', '85', '86', '36', '59'}), frozenset({'34', '39', '85', '90', '86'}), frozenset({'34', '39', '85', '86', '93'}), frozenset({'34', '39', '85', '76', '86'}), frozenset({'34', '39', '85', '63', '86'}), frozenset({'34', '39', '85', '86', '59'}), frozenset({'34', '39', '85', '52', '86'}), frozenset({'34', '39', '85', '86', '36'}), frozenset({'3', '39', '85', '34', '86'}), frozenset({'39', '85', '90', '23', '86'}), frozenset({'39', '85', '23', '86', '93'}), frozenset({'39', '85', '63', '23', '86'}), frozenset({'39', '85', '23', '86', '59'}), frozenset({'39', '85', '23', '86', '36'}), frozenset({'34', '39', '85', '23', '86'}), frozenset({'39', '63', '90', '86', '59'}), frozenset({'39', '63', '86', '59', '93'}), frozenset({'39', '63', '86', '36', '93'}), frozenset({'34', '39', '63', '90', '86'}), frozenset({'34', '39', '63', '86', '93'}), frozenset({'39', '63', '23', '86', '93'}), frozenset({'39', '90', '86', '36', '59'}), frozenset({'39', '86', '36', '59', '93'}), frozenset({'39', '63', '86', '36', '59'}), frozenset({'34', '39', '90', '86', '59'}), frozenset({'34', '39', '86', '59', '93'}), frozenset({'34', '39', '63', '86', '59'}), frozenset({'34', '39', '86', '36', '59'}), frozenset({'39', '90', '23', '86', '59'}), frozenset({'39', '23', '86', '59', '93'}), frozenset({'39', '63', '23', '86', '59'}), frozenset({'39', '23', '86', '36', '59'}), frozenset({'34', '39', '23', '86', '59'}), frozenset({'34', '39', '90', '86', '36'}), frozenset({'34', '39', '86', '36', '93'}), frozenset({'34', '39', '63', '86', '36'}), frozenset({'39', '90', '23', '86', '36'}), frozenset({'39', '23', '86', '36', '93'}), frozenset({'39', '63', '23', '86', '36'}), frozenset({'34', '39', '23', '86', '36'}), frozenset({'34', '39', '90', '23', '86'}), frozenset({'34', '39', '23', '86', '93'}), frozenset({'34', '39', '63', '23', '86'}), frozenset({'39', '85', '63', '90', '93'}), frozenset({'39', '85', '90', '59', '93'}), frozenset({'67', '34', '39', '85', '86'}), frozenset({'39', '63', '90', '59', '93'}), frozenset({'39', '85', '63', '23', '93'}), frozenset({'39', '85', '63', '90', '59'}), frozenset({'39', '85', '63', '59', '93'}), frozenset({'39', '85', '90', '23', '59'}), frozenset({'39', '85', '23', '59', '93'}), frozenset({'39', '85', '63', '23', '59'}), frozenset({'39', '85', '90', '36', '93'}), frozenset({'39', '63', '90', '36', '93'}), frozenset({'39', '90', '36', '59', '93'}), frozenset({'34', '39', '90', '36', '93'}), frozenset({'39', '85', '63', '90', '36'}), frozenset({'39', '85', '63', '36', '93'}), frozenset({'39', '85', '90', '36', '59'}), frozenset({'39', '85', '36', '59', '93'}), frozenset({'39', '85', '63', '36', '59'}), frozenset({'34', '39', '85', '90', '36'}), frozenset({'34', '39', '85', '36', '93'}), frozenset({'34', '39', '85', '63', '36'}), frozenset({'34', '39', '85', '36', '59'}), frozenset({'39', '85', '90', '23', '36'}), frozenset({'39', '85', '23', '36', '93'}), frozenset({'39', '85', '63', '23', '36'}), frozenset({'39', '85', '23', '36', '59'}), frozenset({'34', '39', '85', '23', '36'}), frozenset({'39', '63', '90', '36', '59'}), frozenset({'39', '63', '36', '59', '93'}), frozenset({'34', '39', '63', '36', '93'}), frozenset({'39', '63', '23', '36', '93'}), frozenset({'34', '39', '90', '36', '59'}), frozenset({'34', '39', '36', '59', '93'}), frozenset({'34', '39', '63', '36', '59'}), frozenset({'39', '90', '23', '36', '59'}), frozenset({'39', '23', '36', '59', '93'}), frozenset({'39', '63', '23', '36', '59'}), frozenset({'34', '39', '23', '36', '59'}), frozenset({'34', '39', '90', '23', '36'}), frozenset({'34', '39', '23', '36', '93'}), frozenset({'34', '39', '63', '23', '36'}), frozenset({'34', '39', '85', '90', '93'}), frozenset({'34', '39', '90', '59', '93'}), frozenset({'34', '39', '85', '63', '90'}), frozenset({'34', '39', '85', '63', '93'}), frozenset({'34', '39', '85', '90', '59'}), frozenset({'34', '39', '85', '59', '93'}), frozenset({'34', '39', '85', '63', '59'}), frozenset({'34', '39', '85', '90', '23'}), frozenset({'34', '39', '85', '23', '93'}), frozenset({'34', '39', '85', '63', '23'}), frozenset({'34', '39', '85', '23', '59'}), frozenset({'34', '39', '63', '90', '59'}), frozenset({'34', '39', '63', '59', '93'}), frozenset({'34', '39', '63', '23', '93'}), frozenset({'34', '39', '90', '23', '59'}), frozenset({'34', '39', '23', '59', '93'}), frozenset({'34', '39', '63', '23', '59'}), frozenset({'39', '85', '90', '2', '93'}), frozenset({'39', '90', '59', '2', '93'}), frozenset({'39', '90', '36', '2', '93'}), frozenset({'39', '85', '90', '86', '2'}), frozenset({'39', '85', '86', '2', '93'}), frozenset({'39', '85', '76', '86', '2'}), frozenset({'39', '85', '63', '86', '2'}), frozenset({'39', '85', '86', '59', '2'}), frozenset({'39', '85', '86', '36', '2'}), frozenset({'34', '39', '85', '86', '2'}), frozenset({'39', '85', '23', '86', '2'}), frozenset({'39', '63', '90', '86', '2'}), frozenset({'39', '63', '23', '86', '2'}), frozenset({'39', '90', '86', '59', '2'}), frozenset({'39', '86', '59', '2', '93'}), frozenset({'39', '63', '86', '59', '2'}), frozenset({'39', '86', '36', '59', '2'}), frozenset({'34', '39', '86', '59', '2'}), frozenset({'39', '23', '86', '59', '2'}), frozenset({'39', '86', '36', '2', '93'}), frozenset({'39', '63', '86', '36', '2'}), frozenset({'34', '39', '86', '36', '2'}), frozenset({'39', '23', '86', '36', '2'}), frozenset({'34', '39', '90', '86', '2'}), frozenset({'34', '39', '86', '2', '93'}), frozenset({'34', '39', '76', '86', '2'}), frozenset({'34', '39', '63', '86', '2'}), frozenset({'34', '39', '23', '86', '2'}), frozenset({'39', '23', '86', '2', '93'}), frozenset({'90', '23', '86', '2', '93'}), frozenset({'39', '85', '63', '90', '2'}), frozenset({'39', '85', '63', '2', '93'}), frozenset({'39', '85', '63', '23', '2'}), frozenset({'39', '85', '90', '59', '2'}), frozenset({'39', '85', '59', '2', '93'}), frozenset({'39', '85', '63', '59', '2'}), frozenset({'39', '85', '23', '59', '2'}), frozenset({'39', '85', '90', '36', '2'}), frozenset({'39', '85', '36', '2', '93'}), frozenset({'39', '85', '63', '36', '2'}), frozenset({'39', '85', '36', '59', '2'}), frozenset({'34', '39', '85', '36', '2'}), frozenset({'39', '85', '23', '36', '2'}), frozenset({'34', '39', '85', '90', '2'}), frozenset({'34', '39', '85', '2', '93'}), frozenset({'34', '39', '85', '76', '2'}), frozenset({'34', '39', '85', '63', '2'}), frozenset({'34', '39', '85', '59', '2'}), frozenset({'34', '39', '85', '23', '2'}), frozenset({'39', '85', '23', '2', '93'}), frozenset({'85', '90', '23', '2', '93'}), frozenset({'85', '90', '86', '2', '93'}), frozenset({'85', '63', '90', '2', '93'}), frozenset({'34', '85', '90', '2', '93'}), frozenset({'85', '63', '90', '86', '2'}), frozenset({'85', '63', '86', '2', '93'}), frozenset({'85', '63', '23', '86', '2'}), frozenset({'34', '85', '90', '86', '2'}), frozenset({'34', '85', '86', '2', '93'}), frozenset({'34', '85', '76', '86', '2'}), frozenset({'34', '85', '63', '86', '2'}), frozenset({'34', '85', '23', '86', '2'}), frozenset({'85', '23', '86', '2', '93'}), frozenset({'85', '90', '23', '86', '2'}), frozenset({'67', '34', '85', '86', '2'}), frozenset({'67', '39', '85', '86', '2'}), frozenset({'67', '34', '39', '86', '2'}), frozenset({'67', '34', '39', '85', '2'}), frozenset({'39', '63', '90', '59', '2'}), frozenset({'39', '63', '59', '2', '93'}), frozenset({'39', '63', '23', '59', '2'}), frozenset({'39', '63', '36', '2', '93'}), frozenset({'39', '63', '23', '36', '2'}), frozenset({'34', '39', '63', '90', '2'}), frozenset({'34', '39', '63', '23', '2'}), frozenset({'34', '85', '63', '90', '2'}), frozenset({'34', '85', '63', '2', '93'}), frozenset({'34', '85', '63', '23', '2'}), frozenset({'39', '90', '36', '59', '2'}), frozenset({'39', '36', '59', '2', '93'}), frozenset({'39', '63', '36', '59', '2'}), frozenset({'34', '39', '36', '59', '2'}), frozenset({'39', '23', '36', '59', '2'}), frozenset({'34', '39', '90', '59', '2'}), frozenset({'34', '39', '59', '2', '93'}), frozenset({'34', '39', '63', '59', '2'}), frozenset({'34', '39', '23', '59', '2'}), frozenset({'39', '23', '59', '2', '93'}), frozenset({'90', '23', '59', '2', '93'}), frozenset({'90', '86', '59', '2', '93'}), frozenset({'85', '90', '59', '2', '93'}), frozenset({'63', '90', '59', '2', '93'}), frozenset({'34', '90', '59', '2', '93'}), frozenset({'85', '90', '86', '59', '2'}), frozenset({'85', '86', '59', '2', '93'}), frozenset({'85', '63', '86', '59', '2'}), frozenset({'85', '23', '86', '59', '2'}), frozenset({'63', '90', '86', '59', '2'}), frozenset({'63', '86', '59', '2', '93'}), frozenset({'63', '23', '86', '59', '2'}), frozenset({'34', '90', '86', '59', '2'}), frozenset({'34', '86', '59', '2', '93'}), frozenset({'34', '85', '86', '59', '2'}), frozenset({'34', '63', '86', '59', '2'}), frozenset({'34', '23', '86', '59', '2'}), frozenset({'23', '86', '59', '2', '93'}), frozenset({'90', '23', '86', '59', '2'}), frozenset({'85', '63', '90', '59', '2'}), frozenset({'85', '63', '59', '2', '93'}), frozenset({'85', '63', '23', '59', '2'}), frozenset({'34', '85', '90', '59', '2'}), frozenset({'34', '85', '59', '2', '93'}), frozenset({'34', '85', '63', '59', '2'}), frozenset({'34', '85', '23', '59', '2'}), frozenset({'85', '23', '59', '2', '93'}), frozenset({'85', '90', '23', '59', '2'}), frozenset({'34', '63', '90', '59', '2'}), frozenset({'34', '63', '59', '2', '93'}), frozenset({'34', '63', '23', '59', '2'}), frozenset({'34', '39', '36', '2', '93'}), frozenset({'34', '39', '63', '36', '2'}), frozenset({'34', '39', '23', '36', '2'}), frozenset({'39', '23', '36', '2', '93'}), frozenset({'90', '36', '86', '2', '93'}), frozenset({'85', '90', '36', '2', '93'}), frozenset({'63', '90', '36', '2', '93'}), frozenset({'90', '36', '59', '2', '93'}), frozenset({'34', '90', '36', '2', '93'}), frozenset({'85', '90', '36', '86', '2'}), frozenset({'85', '36', '86', '2', '93'}), frozenset({'85', '63', '36', '86', '2'}), frozenset({'85', '36', '86', '59', '2'}), frozenset({'34', '85', '36', '86', '2'}), frozenset({'85', '23', '36', '86', '2'}), frozenset({'63', '23', '36', '86', '2'}), frozenset({'90', '36', '86', '59', '2'}), frozenset({'36', '86', '59', '2', '93'}), frozenset({'63', '36', '86', '59', '2'}), frozenset({'34', '36', '86', '59', '2'}), frozenset({'23', '36', '86', '59', '2'}), frozenset({'34', '90', '36', '86', '2'}), frozenset({'34', '36', '86', '2', '93'}), frozenset({'34', '63', '36', '86', '2'}), frozenset({'34', '23', '36', '86', '2'}), frozenset({'23', '36', '86', '2', '93'}), frozenset({'85', '63', '90', '36', '2'}), frozenset({'85', '63', '36', '2', '93'}), frozenset({'85', '63', '23', '36', '2'}), frozenset({'85', '90', '36', '59', '2'}), frozenset({'85', '36', '59', '2', '93'}), frozenset({'85', '63', '36', '59', '2'}), frozenset({'85', '23', '36', '59', '2'}), frozenset({'34', '85', '90', '36', '2'}), frozenset({'34', '85', '36', '2', '93'}), frozenset({'34', '85', '63', '36', '2'}), frozenset({'34', '85', '23', '36', '2'}), frozenset({'85', '23', '36', '2', '93'}), frozenset({'63', '90', '36', '59', '2'}), frozenset({'63', '36', '59', '2', '93'}), frozenset({'63', '23', '36', '59', '2'}), frozenset({'34', '63', '23', '36', '2'}), frozenset({'34', '90', '36', '59', '2'}), frozenset({'34', '36', '59', '2', '93'}), frozenset({'34', '85', '36', '59', '2'}), frozenset({'34', '63', '36', '59', '2'}), frozenset({'34', '23', '36', '59', '2'}), frozenset({'23', '36', '59', '2', '93'}), frozenset({'34', '39', '23', '2', '93'}), frozenset({'34', '90', '23', '2', '93'}), frozenset({'34', '90', '86', '2', '93'}), frozenset({'34', '63', '90', '86', '2'}), frozenset({'34', '63', '86', '2', '93'}), frozenset({'34', '63', '23', '86', '2'}), frozenset({'34', '23', '86', '2', '93'}), frozenset({'34', '90', '23', '86', '2'}), frozenset({'34', '85', '23', '2', '93'}), frozenset({'34', '85', '90', '23', '2'}), frozenset({'34', '23', '59', '2', '93'}), frozenset({'34', '90', '23', '59', '2'}), frozenset({'34', '23', '36', '2', '93'}), frozenset({'85', '90', '23', '86', '93'}), frozenset({'63', '90', '23', '86', '93'}), frozenset({'85', '63', '90', '23', '93'}), frozenset({'90', '23', '86', '59', '93'}), frozenset({'85', '90', '23', '59', '93'}), frozenset({'63', '90', '23', '59', '93'}), frozenset({'90', '23', '36', '86', '93'}), frozenset({'85', '90', '23', '36', '93'}), frozenset({'63', '90', '23', '36', '93'}), frozenset({'90', '23', '36', '59', '93'}), frozenset({'34', '90', '23', '86', '93'}), frozenset({'34', '85', '90', '23', '93'}), frozenset({'34', '63', '90', '23', '93'}), frozenset({'34', '90', '23', '59', '93'}), frozenset({'34', '90', '23', '36', '93'}), frozenset({'85', '63', '90', '86', '93'}), frozenset({'85', '90', '86', '59', '93'}), frozenset({'85', '90', '86', '36', '93'}), frozenset({'34', '85', '90', '86', '93'}), frozenset({'85', '76', '63', '90', '86'}), frozenset({'34', '85', '76', '90', '86'}), frozenset({'34', '85', '76', '86', '93'}), frozenset({'63', '90', '86', '59', '93'}), frozenset({'63', '90', '86', '36', '93'}), frozenset({'34', '63', '90', '86', '93'}), frozenset({'34', '85', '63', '90', '86'}), frozenset({'34', '85', '63', '86', '93'}), frozenset({'34', '85', '76', '63', '86'}), frozenset({'85', '63', '90', '23', '86'}), frozenset({'85', '63', '23', '86', '93'}), frozenset({'34', '76', '63', '90', '86'}), frozenset({'90', '86', '36', '59', '93'}), frozenset({'34', '90', '86', '59', '93'}), frozenset({'85', '76', '90', '86', '59'}), frozenset({'85', '63', '90', '86', '59'}), frozenset({'85', '63', '86', '59', '93'}), frozenset({'85', '76', '63', '86', '59'}), frozenset({'34', '85', '90', '86', '59'}), frozenset({'34', '85', '86', '59', '93'}), frozenset({'85', '90', '23', '86', '59'}), frozenset({'85', '23', '86', '59', '93'}), frozenset({'85', '63', '23', '86', '59'}), frozenset({'34', '76', '90', '86', '59'}), frozenset({'34', '85', '76', '86', '59'}), frozenset({'34', '63', '90', '86', '59'}), frozenset({'34', '63', '86', '59', '93'}), frozenset({'34', '85', '63', '86', '59'}), frozenset({'34', '76', '63', '86', '59'}), frozenset({'63', '90', '23', '86', '59'}), frozenset({'63', '23', '86', '59', '93'}), frozenset({'34', '85', '52', '90', '86'}), frozenset({'34', '85', '90', '86', '38'}), frozenset({'34', '90', '86', '36', '93'}), frozenset({'85', '76', '90', '86', '36'}), frozenset({'85', '63', '90', '86', '36'}), frozenset({'85', '63', '86', '36', '93'}), frozenset({'85', '90', '86', '36', '59'}), frozenset({'85', '86', '36', '59', '93'}), frozenset({'85', '76', '86', '36', '59'}), frozenset({'85', '63', '86', '36', '59'}), frozenset({'85', '52', '90', '86', '36'}), frozenset({'34', '85', '90', '86', '36'}), frozenset({'34', '85', '86', '36', '93'}), frozenset({'34', '85', '76', '86', '36'}), frozenset({'34', '85', '63', '86', '36'}), frozenset({'34', '85', '86', '36', '59'}), frozenset({'34', '85', '52', '86', '36'}), frozenset({'3', '85', '90', '86', '36'}), frozenset({'3', '34', '85', '86', '36'}), frozenset({'85', '90', '23', '86', '36'}), frozenset({'85', '23', '86', '36', '93'}), frozenset({'85', '63', '23', '86', '36'}), frozenset({'85', '23', '86', '36', '59'}), frozenset({'34', '85', '23', '86', '36'}), frozenset({'85', '1', '90', '86', '36'}), frozenset({'34', '85', '1', '86', '36'}), frozenset({'34', '76', '90', '86', '36'}), frozenset({'63', '90', '86', '36', '59'}), frozenset({'63', '86', '36', '59', '93'}), frozenset({'34', '63', '90', '86', '36'}), frozenset({'34', '63', '86', '36', '93'}), frozenset({'63', '90', '23', '86', '36'}), frozenset({'63', '23', '86', '36', '93'}), frozenset({'34', '90', '86', '36', '59'}), frozenset({'34', '86', '36', '59', '93'}), frozenset({'34', '76', '86', '36', '59'}), frozenset({'34', '63', '86', '36', '59'}), frozenset({'90', '23', '86', '36', '59'}), frozenset({'23', '86', '36', '59', '93'}), frozenset({'63', '23', '86', '36', '59'}), frozenset({'34', '23', '86', '36', '59'}), frozenset({'34', '52', '90', '86', '36'}), frozenset({'3', '34', '85', '90', '86'}), frozenset({'34', '85', '90', '23', '86'}), frozenset({'34', '85', '23', '86', '93'}), frozenset({'34', '85', '63', '23', '86'}), frozenset({'34', '85', '1', '90', '86'}), frozenset({'34', '63', '90', '23', '86'}), frozenset({'34', '63', '23', '86', '93'}), frozenset({'34', '90', '23', '86', '59'}), frozenset({'34', '23', '86', '59', '93'}), frozenset({'34', '85', '23', '86', '59'}), frozenset({'34', '63', '23', '86', '59'}), frozenset({'3', '34', '90', '86', '36'}), frozenset({'34', '90', '23', '86', '36'}), frozenset({'34', '23', '86', '36', '93'}), frozenset({'34', '63', '23', '86', '36'}), frozenset({'34', '1', '90', '86', '36'}), frozenset({'67', '85', '76', '90', '86'}), frozenset({'67', '85', '63', '90', '86'}), frozenset({'67', '85', '90', '86', '59'}), frozenset({'67', '85', '76', '86', '59'}), frozenset({'67', '85', '63', '86', '59'}), frozenset({'85', '63', '90', '59', '93'}), frozenset({'85', '63', '90', '36', '93'}), frozenset({'85', '90', '36', '59', '93'}), frozenset({'34', '85', '90', '36', '93'}), frozenset({'34', '85', '63', '90', '93'}), frozenset({'34', '85', '90', '59', '93'}), frozenset({'34', '85', '76', '90', '36'}), frozenset({'34', '85', '76', '63', '90'}), frozenset({'67', '85', '90', '36', '86'}), frozenset({'67', '85', '36', '86', '59'}), frozenset({'67', '34', '85', '86', '93'}), frozenset({'67', '34', '85', '90', '86'}), frozenset({'67', '34', '76', '90', '86'}), frozenset({'67', '34', '85', '76', '86'}), frozenset({'67', '34', '63', '90', '86'}), frozenset({'67', '34', '85', '63', '86'}), frozenset({'67', '34', '90', '86', '59'}), frozenset({'67', '34', '85', '86', '59'}), frozenset({'67', '34', '76', '86', '59'}), frozenset({'67', '34', '63', '86', '59'}), frozenset({'67', '34', '90', '36', '86'}), frozenset({'67', '34', '85', '36', '86'}), frozenset({'67', '34', '36', '86', '59'}), frozenset({'67', '34', '85', '76', '90'}), frozenset({'67', '34', '85', '63', '90'}), frozenset({'67', '34', '85', '90', '59'}), frozenset({'67', '34', '85', '76', '59'}), frozenset({'67', '34', '85', '63', '59'}), frozenset({'67', '34', '85', '90', '36'}), frozenset({'67', '34', '85', '36', '59'}), frozenset({'85', '63', '90', '23', '59'}), frozenset({'85', '63', '23', '59', '93'}), frozenset({'63', '90', '36', '59', '93'}), frozenset({'34', '63', '90', '36', '93'}), frozenset({'34', '85', '63', '90', '36'}), frozenset({'34', '85', '63', '36', '93'}), frozenset({'85', '63', '90', '23', '36'}), frozenset({'85', '63', '23', '36', '93'}), frozenset({'34', '63', '90', '59', '93'}), frozenset({'34', '85', '63', '90', '23'}), frozenset({'34', '85', '63', '23', '93'}), frozenset({'34', '90', '36', '59', '93'}), frozenset({'85', '63', '90', '36', '59'}), frozenset({'85', '63', '36', '59', '93'}), frozenset({'34', '85', '90', '36', '59'}), frozenset({'34', '85', '36', '59', '93'}), frozenset({'85', '90', '23', '36', '59'}), frozenset({'85', '23', '36', '59', '93'}), frozenset({'85', '63', '23', '36', '59'}), frozenset({'34', '85', '76', '36', '59'}), frozenset({'34', '63', '90', '36', '59'}), frozenset({'34', '63', '36', '59', '93'}), frozenset({'34', '85', '63', '36', '59'}), frozenset({'63', '90', '23', '36', '59'}), frozenset({'63', '23', '36', '59', '93'}), frozenset({'34', '85', '76', '90', '59'}), frozenset({'34', '85', '63', '90', '59'}), frozenset({'34', '85', '63', '59', '93'}), frozenset({'34', '85', '76', '63', '59'}), frozenset({'34', '85', '90', '23', '59'}), frozenset({'34', '85', '23', '59', '93'}), frozenset({'34', '85', '63', '23', '59'}), frozenset({'34', '63', '90', '23', '59'}), frozenset({'34', '63', '23', '59', '93'}), frozenset({'34', '85', '52', '90', '36'}), frozenset({'3', '34', '85', '90', '36'}), frozenset({'34', '85', '90', '23', '36'}), frozenset({'34', '85', '23', '36', '93'}), frozenset({'34', '85', '63', '23', '36'}), frozenset({'34', '85', '1', '90', '36'}), frozenset({'34', '63', '90', '23', '36'}), frozenset({'34', '63', '23', '36', '93'}), frozenset({'34', '90', '23', '36', '59'}), frozenset({'34', '23', '36', '59', '93'}), frozenset({'34', '85', '23', '36', '59'}), frozenset({'34', '63', '23', '36', '59'})], [frozenset({'34', '1', '90', '24', '36', '110'}), frozenset({'85', '1', '90', '24', '36', '110'}), frozenset({'1', '90', '24', '86', '36', '110'}), frozenset({'34', '85', '1', '24', '36', '110'}), frozenset({'85', '1', '24', '86', '36', '110'}), frozenset({'34', '1', '24', '86', '36', '110'}), frozenset({'34', '85', '1', '90', '24', '110'}), frozenset({'34', '1', '90', '24', '86', '110'}), frozenset({'85', '1', '90', '24', '86', '110'}), frozenset({'34', '85', '1', '24', '86', '110'}), frozenset({'34', '85', '1', '90', '24', '36'}), frozenset({'34', '85', '1', '90', '24', '86'}), frozenset({'85', '1', '90', '24', '36', '86'}), frozenset({'34', '1', '90', '24', '86', '36'}), frozenset({'34', '85', '1', '24', '86', '36'}), frozenset({'34', '85', '53', '90', '36', '110'}), frozenset({'34', '53', '90', '86', '36', '110'}), frozenset({'34', '85', '53', '86', '36', '110'}), frozenset({'85', '53', '90', '86', '36', '110'}), frozenset({'34', '85', '90', '86', '36', '116'}), frozenset({'34', '85', '90', '86', '36', '56'}), frozenset({'34', '53', '63', '90', '36', '86'}), frozenset({'34', '85', '53', '63', '90', '36'}), frozenset({'34', '85', '53', '63', '36', '86'}), frozenset({'34', '85', '53', '90', '36', '59'}), frozenset({'34', '85', '53', '90', '36', '86'}), frozenset({'85', '53', '63', '90', '36', '86'}), frozenset({'34', '39', '85', '90', '36', '56'}), frozenset({'34', '39', '85', '90', '86', '56'}), frozenset({'34', '39', '90', '86', '36', '56'}), frozenset({'34', '39', '85', '86', '36', '56'}), frozenset({'39', '85', '90', '86', '36', '56'}), frozenset({'34', '53', '90', '86', '36', '59'}), frozenset({'34', '85', '53', '86', '36', '59'}), frozenset({'85', '53', '90', '86', '36', '59'}), frozenset({'34', '85', '90', '24', '86', '110'}), frozenset({'34', '85', '90', '24', '36', '110'}), frozenset({'34', '90', '24', '86', '36', '110'}), frozenset({'85', '90', '24', '86', '36', '110'}), frozenset({'34', '85', '24', '86', '36', '110'}), frozenset({'34', '85', '53', '90', '86', '110'}), frozenset({'34', '85', '90', '86', '116', '56'}), frozenset({'34', '85', '90', '86', '36', '6'}), frozenset({'34', '85', '90', '24', '36', '86'}), frozenset({'34', '85', '1', '90', '36', '110'}), frozenset({'34', '85', '1', '90', '86', '110'}), frozenset({'34', '1', '90', '86', '36', '110'}), frozenset({'85', '1', '90', '86', '36', '110'}), frozenset({'34', '85', '1', '86', '36', '110'}), frozenset({'34', '85', '90', '86', '36', '110'}), frozenset({'34', '39', '85', '28', '59', '2'}), frozenset({'34', '39', '85', '63', '28', '2'}), frozenset({'34', '39', '85', '63', '28', '86'}), frozenset({'34', '39', '85', '90', '28', '2'}), frozenset({'34', '39', '85', '90', '28', '86'}), frozenset({'34', '39', '53', '28', '86', '2'}), frozenset({'34', '39', '63', '28', '86', '2'}), frozenset({'34', '39', '28', '86', '59', '2'}), frozenset({'39', '85', '53', '28', '86', '2'}), frozenset({'34', '39', '85', '28', '86', '2'}), frozenset({'34', '39', '85', '28', '86', '59'}), frozenset({'39', '85', '28', '86', '59', '2'}), frozenset({'39', '85', '63', '28', '86', '2'}), frozenset({'34', '85', '53', '28', '86', '2'}), frozenset({'34', '85', '28', '86', '59', '2'}), frozenset({'34', '85', '63', '28', '86', '2'}), frozenset({'34', '53', '90', '28', '86', '2'}), frozenset({'85', '53', '90', '28', '86', '2'}), frozenset({'34', '85', '90', '28', '86', '2'}), frozenset({'39', '53', '90', '28', '86', '2'}), frozenset({'34', '39', '90', '28', '86', '2'}), frozenset({'39', '85', '90', '28', '86', '2'}), frozenset({'34', '39', '85', '53', '28', '2'}), frozenset({'34', '39', '85', '53', '90', '28'}), frozenset({'34', '39', '85', '53', '90', '2'}), frozenset({'34', '85', '53', '63', '90', '59'}), frozenset({'67', '34', '85', '53', '90', '86'}), frozenset({'34', '39', '53', '90', '28', '86'}), frozenset({'34', '39', '85', '53', '28', '86'}), frozenset({'34', '39', '85', '53', '86', '2'}), frozenset({'34', '39', '85', '53', '90', '86'}), frozenset({'39', '85', '53', '90', '28', '86'}), frozenset({'34', '53', '63', '90', '86', '59'}), frozenset({'34', '85', '53', '94', '24', '86'}), frozenset({'34', '85', '53', '63', '86', '59'}), frozenset({'34', '85', '53', '63', '90', '86'}), frozenset({'34', '85', '53', '76', '90', '86'}), frozenset({'34', '85', '53', '90', '28', '86'}), frozenset({'34', '85', '53', '90', '86', '59'}), frozenset({'34', '85', '53', '90', '24', '86'}), frozenset({'85', '53', '63', '90', '86', '59'}), frozenset({'34', '39', '53', '90', '28', '2'}), frozenset({'34', '39', '53', '90', '86', '2'}), frozenset({'39', '85', '53', '90', '28', '2'}), frozenset({'39', '85', '53', '90', '86', '2'}), frozenset({'34', '85', '53', '90', '28', '2'}), frozenset({'34', '85', '53', '90', '86', '2'}), frozenset({'34', '85', '53', '94', '90', '24'}), frozenset({'34', '85', '53', '94', '90', '86'}), frozenset({'34', '85', '94', '90', '24', '86'}), frozenset({'34', '53', '94', '90', '24', '86'}), frozenset({'85', '53', '94', '90', '24', '86'}), frozenset({'34', '85', '10', '90', '86', '36'}), frozenset({'34', '90', '23', '59', '2', '93'}), frozenset({'34', '85', '90', '23', '59', '2'}), frozenset({'34', '85', '90', '23', '86', '2'}), frozenset({'34', '85', '90', '23', '2', '93'}), frozenset({'34', '90', '23', '86', '59', '2'}), frozenset({'34', '90', '23', '86', '2', '93'}), frozenset({'34', '63', '23', '86', '36', '2'}), frozenset({'34', '63', '23', '86', '59', '2'}), frozenset({'34', '63', '90', '86', '59', '2'}), frozenset({'34', '23', '36', '59', '2', '93'}), frozenset({'34', '85', '36', '59', '2', '93'}), frozenset({'34', '90', '36', '59', '2', '93'}), frozenset({'34', '63', '23', '36', '59', '2'}), frozenset({'63', '90', '36', '59', '2', '93'}), frozenset({'34', '85', '23', '36', '59', '2'}), frozenset({'34', '85', '23', '36', '2', '93'}), frozenset({'34', '85', '63', '36', '59', '2'}), frozenset({'34', '85', '90', '36', '59', '2'}), frozenset({'34', '85', '90', '36', '2', '93'}), frozenset({'85', '23', '36', '59', '2', '93'}), frozenset({'85', '63', '36', '59', '2', '93'}), frozenset({'85', '90', '36', '59', '2', '93'}), frozenset({'85', '63', '23', '36', '59', '2'}), frozenset({'85', '63', '90', '36', '59', '2'}), frozenset({'85', '63', '90', '36', '2', '93'}), frozenset({'34', '23', '36', '86', '2', '93'}), frozenset({'34', '23', '36', '86', '59', '2'}), frozenset({'34', '63', '36', '86', '59', '2'}), frozenset({'34', '90', '36', '86', '59', '2'}), frozenset({'34', '90', '36', '86', '2', '93'}), frozenset({'23', '36', '86', '59', '2', '93'}), frozenset({'34', '36', '86', '59', '2', '93'}), frozenset({'90', '36', '86', '59', '2', '93'}), frozenset({'63', '23', '36', '86', '59', '2'}), frozenset({'85', '23', '36', '86', '59', '2'}), frozenset({'85', '23', '36', '86', '2', '93'}), frozenset({'34', '85', '36', '86', '59', '2'}), frozenset({'34', '85', '36', '86', '2', '93'}), frozenset({'85', '36', '86', '59', '2', '93'}), frozenset({'85', '63', '36', '86', '59', '2'}), frozenset({'85', '90', '36', '86', '59', '2'}), frozenset({'85', '90', '36', '86', '2', '93'}), frozenset({'85', '90', '23', '59', '2', '93'}), frozenset({'34', '85', '23', '59', '2', '93'}), frozenset({'34', '85', '63', '59', '2', '93'}), frozenset({'34', '85', '90', '59', '2', '93'}), frozenset({'85', '63', '90', '59', '2', '93'}), frozenset({'90', '23', '86', '59', '2', '93'}), frozenset({'34', '23', '86', '59', '2', '93'}), frozenset({'34', '63', '86', '59', '2', '93'}), frozenset({'34', '85', '86', '59', '2', '93'}), frozenset({'34', '90', '86', '59', '2', '93'}), frozenset({'85', '23', '86', '59', '2', '93'}), frozenset({'85', '63', '86', '59', '2', '93'}), frozenset({'85', '90', '86', '59', '2', '93'}), frozenset({'34', '85', '63', '23', '36', '2'}), frozenset({'34', '85', '63', '23', '59', '2'}), frozenset({'34', '85', '63', '23', '86', '2'}), frozenset({'34', '85', '63', '90', '59', '2'}), frozenset({'34', '85', '63', '90', '86', '2'}), frozenset({'85', '90', '23', '86', '59', '2'}), frozenset({'85', '90', '23', '86', '2', '93'}), frozenset({'34', '85', '23', '86', '59', '2'}), frozenset({'34', '85', '23', '86', '2', '93'}), frozenset({'34', '85', '23', '86', '36', '2'}), frozenset({'34', '85', '63', '86', '36', '2'}), frozenset({'34', '85', '63', '86', '59', '2'}), frozenset({'34', '85', '63', '86', '2', '93'}), frozenset({'34', '85', '90', '86', '36', '2'}), frozenset({'34', '85', '90', '86', '59', '2'}), frozenset({'34', '85', '90', '86', '2', '93'}), frozenset({'85', '63', '23', '86', '36', '2'}), frozenset({'85', '63', '23', '86', '59', '2'}), frozenset({'85', '63', '90', '86', '59', '2'}), frozenset({'34', '39', '63', '23', '59', '2'}), frozenset({'34', '39', '23', '59', '2', '93'}), frozenset({'34', '39', '85', '23', '59', '2'}), frozenset({'34', '39', '85', '63', '23', '2'}), frozenset({'34', '39', '85', '23', '2', '93'}), frozenset({'34', '39', '85', '23', '59', '93'}), frozenset({'34', '39', '85', '63', '59', '2'}), frozenset({'34', '39', '85', '63', '23', '59'}), frozenset({'34', '39', '85', '59', '2', '93'}), frozenset({'34', '39', '85', '90', '59', '2'}), frozenset({'34', '39', '85', '90', '23', '59'}), frozenset({'34', '39', '85', '63', '23', '93'}), frozenset({'34', '39', '85', '63', '59', '93'}), frozenset({'34', '39', '85', '63', '90', '2'}), frozenset({'34', '39', '85', '63', '90', '59'}), frozenset({'34', '39', '85', '90', '23', '93'}), frozenset({'34', '39', '85', '90', '59', '93'}), frozenset({'34', '39', '63', '23', '36', '2'}), frozenset({'34', '39', '63', '23', '36', '59'}), frozenset({'34', '39', '63', '23', '36', '93'}), frozenset({'34', '39', '23', '36', '2', '93'}), frozenset({'34', '39', '90', '23', '36', '59'}), frozenset({'34', '39', '23', '36', '59', '2'}), frozenset({'34', '39', '23', '36', '59', '93'}), frozenset({'39', '63', '23', '36', '59', '2'}), frozenset({'39', '23', '36', '59', '2', '93'}), frozenset({'34', '39', '63', '36', '59', '2'}), frozenset({'34', '39', '36', '59', '2', '93'}), frozenset({'39', '63', '36', '59', '2', '93'}), frozenset({'34', '39', '85', '23', '36', '2'}), frozenset({'34', '39', '85', '23', '36', '59'}), frozenset({'34', '39', '85', '23', '36', '93'}), frozenset({'39', '85', '23', '36', '59', '2'}), frozenset({'39', '85', '63', '23', '36', '2'}), frozenset({'39', '85', '23', '36', '2', '93'}), frozenset({'39', '85', '23', '36', '59', '93'}), frozenset({'34', '39', '85', '36', '59', '2'}), frozenset({'34', '39', '85', '63', '36', '2'}), frozenset({'34', '39', '85', '63', '23', '36'}), frozenset({'34', '39', '85', '63', '36', '59'}), frozenset({'34', '39', '85', '63', '36', '93'}), frozenset({'34', '39', '85', '36', '2', '93'}), frozenset({'34', '39', '85', '36', '59', '93'}), frozenset({'34', '39', '85', '90', '23', '36'}), frozenset({'34', '39', '85', '90', '36', '59'}), frozenset({'34', '39', '85', '90', '36', '93'}), frozenset({'39', '85', '63', '36', '59', '2'}), frozenset({'39', '85', '36', '59', '2', '93'}), frozenset({'39', '85', '90', '36', '59', '2'}), frozenset({'39', '85', '63', '36', '2', '93'}), frozenset({'39', '85', '63', '36', '59', '93'}), frozenset({'34', '39', '90', '36', '59', '93'}), frozenset({'39', '90', '36', '59', '2', '93'}), frozenset({'39', '63', '90', '36', '59', '93'}), frozenset({'39', '85', '90', '36', '2', '93'}), frozenset({'39', '85', '90', '36', '59', '93'}), frozenset({'39', '85', '63', '23', '59', '2'}), frozenset({'39', '85', '63', '23', '36', '59'}), frozenset({'39', '85', '23', '59', '2', '93'}), frozenset({'39', '85', '90', '23', '36', '59'}), frozenset({'39', '85', '63', '59', '2', '93'}), frozenset({'39', '85', '63', '90', '59', '2'}), frozenset({'39', '85', '63', '90', '36', '59'}), frozenset({'39', '85', '63', '23', '36', '93'}), frozenset({'67', '34', '39', '85', '86', '2'}), frozenset({'39', '85', '90', '59', '2', '93'}), frozenset({'39', '85', '63', '90', '36', '93'}), frozenset({'39', '85', '63', '90', '59', '93'}), frozenset({'34', '39', '63', '23', '86', '2'}), frozenset({'34', '39', '63', '23', '86', '59'}), frozenset({'34', '39', '63', '23', '86', '93'}), frozenset({'34', '39', '63', '23', '86', '36'}), frozenset({'34', '39', '23', '86', '2', '93'}), frozenset({'34', '39', '90', '23', '86', '59'}), frozenset({'34', '39', '90', '23', '86', '36'}), frozenset({'34', '39', '23', '86', '36', '2'}), frozenset({'34', '39', '23', '86', '36', '93'}), frozenset({'39', '63', '23', '86', '36', '2'}), frozenset({'39', '23', '86', '36', '2', '93'}), frozenset({'34', '39', '63', '86', '36', '2'}), frozenset({'34', '39', '86', '36', '2', '93'}), frozenset({'34', '39', '23', '86', '59', '2'}), frozenset({'34', '39', '23', '86', '59', '93'}), frozenset({'34', '39', '23', '86', '36', '59'}), frozenset({'39', '23', '86', '36', '59', '2'}), frozenset({'39', '23', '86', '36', '59', '93'}), frozenset({'39', '63', '23', '86', '59', '2'}), frozenset({'39', '63', '23', '86', '36', '59'}), frozenset({'39', '23', '86', '59', '2', '93'}), frozenset({'39', '90', '23', '86', '36', '59'}), frozenset({'34', '39', '86', '36', '59', '2'}), frozenset({'34', '39', '86', '36', '59', '93'}), frozenset({'34', '39', '63', '86', '59', '2'}), frozenset({'34', '39', '63', '86', '36', '59'}), frozenset({'34', '39', '86', '59', '2', '93'}), frozenset({'34', '39', '90', '86', '59', '2'}), frozenset({'34', '39', '90', '86', '36', '59'}), frozenset({'39', '63', '86', '36', '59', '2'}), frozenset({'39', '86', '36', '59', '2', '93'}), frozenset({'39', '63', '23', '86', '36', '93'}), frozenset({'34', '39', '63', '86', '36', '93'}), frozenset({'34', '39', '63', '86', '59', '93'}), frozenset({'34', '39', '63', '90', '86', '2'}), frozenset({'34', '39', '63', '90', '86', '59'}), frozenset({'34', '39', '85', '23', '86', '2'}), frozenset({'34', '39', '85', '23', '86', '59'}), frozenset({'34', '39', '85', '23', '86', '93'}), frozenset({'34', '39', '85', '23', '86', '36'}), frozenset({'39', '85', '23', '86', '36', '2'}), frozenset({'39', '85', '23', '86', '59', '2'}), frozenset({'39', '85', '23', '86', '36', '59'}), frozenset({'39', '85', '63', '23', '86', '2'}), frozenset({'39', '85', '63', '23', '86', '36'}), frozenset({'39', '85', '63', '23', '86', '59'}), frozenset({'39', '85', '63', '23', '86', '93'}), frozenset({'39', '85', '23', '86', '2', '93'}), frozenset({'39', '85', '23', '86', '36', '93'}), frozenset({'39', '85', '23', '86', '59', '93'}), frozenset({'39', '85', '90', '23', '86', '36'}), frozenset({'39', '85', '90', '23', '86', '59'}), frozenset({'34', '39', '85', '86', '36', '2'}), frozenset({'34', '39', '85', '86', '59', '2'}), frozenset({'34', '39', '85', '86', '36', '59'}), frozenset({'34', '39', '85', '63', '86', '2'}), frozenset({'34', '39', '85', '63', '23', '86'}), frozenset({'34', '39', '85', '63', '86', '59'}), frozenset({'34', '39', '85', '63', '86', '93'}), frozenset({'34', '39', '85', '63', '90', '86'}), frozenset({'34', '39', '85', '63', '86', '36'}), frozenset({'34', '39', '85', '76', '86', '2'}), frozenset({'34', '39', '85', '86', '2', '93'}), frozenset({'34', '39', '85', '86', '36', '93'}), frozenset({'34', '39', '85', '86', '59', '93'}), frozenset({'34', '39', '85', '90', '86', '2'}), frozenset({'34', '39', '85', '90', '23', '86'}), frozenset({'34', '39', '85', '90', '86', '59'}), frozenset({'34', '39', '85', '90', '86', '93'}), frozenset({'34', '39', '85', '90', '86', '36'}), frozenset({'39', '85', '86', '36', '59', '2'}), frozenset({'39', '85', '63', '86', '36', '2'}), frozenset({'39', '85', '86', '36', '2', '93'}), frozenset({'39', '85', '86', '36', '59', '93'}), frozenset({'39', '85', '63', '86', '59', '2'}), frozenset({'39', '85', '63', '86', '36', '59'}), frozenset({'39', '85', '86', '59', '2', '93'}), frozenset({'39', '85', '90', '86', '59', '2'}), frozenset({'39', '85', '90', '86', '36', '59'}), frozenset({'39', '85', '63', '86', '36', '93'}), frozenset({'39', '85', '63', '86', '59', '93'}), frozenset({'39', '85', '63', '90', '86', '2'}), frozenset({'39', '85', '63', '90', '86', '59'}), frozenset({'34', '39', '90', '86', '36', '93'}), frozenset({'34', '39', '90', '86', '59', '93'}), frozenset({'39', '90', '86', '36', '59', '93'}), frozenset({'39', '85', '90', '86', '36', '93'}), frozenset({'39', '85', '90', '86', '59', '93'}), frozenset({'34', '39', '90', '23', '59', '93'}), frozenset({'34', '39', '90', '23', '36', '93'}), frozenset({'34', '39', '90', '23', '86', '93'}), frozenset({'39', '90', '23', '36', '59', '93'}), frozenset({'39', '85', '90', '23', '36', '93'}), frozenset({'39', '85', '90', '23', '59', '93'}), frozenset({'39', '85', '90', '23', '86', '93'}), frozenset({'39', '90', '23', '86', '36', '93'}), frozenset({'39', '90', '23', '86', '59', '93'}), frozenset({'34', '63', '23', '36', '59', '93'}), frozenset({'34', '85', '23', '36', '59', '93'}), frozenset({'34', '63', '90', '23', '36', '59'}), frozenset({'34', '85', '63', '23', '36', '59'}), frozenset({'34', '85', '90', '23', '36', '59'}), frozenset({'34', '85', '63', '23', '36', '93'}), frozenset({'34', '85', '63', '23', '59', '93'}), frozenset({'34', '85', '63', '90', '23', '59'}), frozenset({'85', '63', '23', '36', '59', '93'}), frozenset({'34', '85', '63', '36', '59', '93'}), frozenset({'34', '85', '63', '90', '36', '59'}), frozenset({'34', '85', '63', '90', '23', '36'}), frozenset({'34', '63', '90', '36', '59', '93'}), frozenset({'85', '63', '90', '23', '36', '59'}), frozenset({'67', '34', '85', '36', '86', '59'}), frozenset({'67', '34', '85', '63', '86', '59'}), frozenset({'67', '34', '85', '63', '90', '86'}), frozenset({'67', '34', '85', '76', '86', '59'}), frozenset({'67', '34', '85', '76', '90', '86'}), frozenset({'67', '34', '85', '90', '86', '36'}), frozenset({'67', '34', '85', '90', '86', '59'}), frozenset({'34', '85', '63', '90', '59', '93'}), frozenset({'34', '85', '63', '90', '23', '93'}), frozenset({'34', '85', '63', '90', '36', '93'}), frozenset({'34', '85', '90', '36', '59', '93'}), frozenset({'85', '63', '90', '36', '59', '93'}), frozenset({'34', '63', '23', '86', '36', '59'}), frozenset({'34', '90', '23', '86', '36', '59'}), frozenset({'34', '63', '23', '86', '36', '93'}), frozenset({'34', '63', '23', '86', '59', '93'}), frozenset({'34', '63', '90', '23', '86', '36'}), frozenset({'34', '63', '90', '23', '86', '59'}), frozenset({'34', '85', '1', '90', '86', '36'}), frozenset({'34', '85', '63', '23', '86', '36'}), frozenset({'34', '85', '63', '23', '86', '59'}), frozenset({'34', '85', '63', '23', '86', '93'}), frozenset({'34', '85', '23', '86', '59', '93'}), frozenset({'34', '85', '90', '23', '86', '36'}), frozenset({'34', '85', '90', '23', '86', '59'}), frozenset({'3', '34', '85', '90', '86', '36'}), frozenset({'34', '23', '86', '36', '59', '93'}), frozenset({'63', '23', '86', '36', '59', '93'}), frozenset({'34', '63', '86', '36', '59', '93'}), frozenset({'34', '85', '23', '86', '36', '59'}), frozenset({'34', '85', '23', '86', '36', '93'}), frozenset({'85', '23', '86', '36', '59', '93'}), frozenset({'34', '85', '86', '36', '59', '93'}), frozenset({'85', '63', '86', '36', '59', '93'}), frozenset({'34', '90', '86', '36', '59', '93'}), frozenset({'34', '85', '52', '90', '86', '36'}), frozenset({'63', '90', '23', '86', '36', '59'}), frozenset({'34', '85', '63', '86', '36', '59'}), frozenset({'34', '63', '90', '86', '36', '59'}), frozenset({'34', '85', '76', '86', '36', '59'}), frozenset({'85', '63', '23', '86', '36', '59'}), frozenset({'85', '90', '23', '86', '36', '59'}), frozenset({'34', '85', '90', '86', '36', '59'}), frozenset({'85', '63', '90', '86', '36', '59'}), frozenset({'85', '63', '23', '86', '36', '93'}), frozenset({'85', '63', '23', '86', '59', '93'}), frozenset({'85', '63', '90', '23', '86', '36'}), frozenset({'85', '63', '90', '23', '86', '59'}), frozenset({'34', '85', '76', '63', '86', '59'}), frozenset({'34', '85', '76', '63', '90', '86'}), frozenset({'34', '85', '63', '86', '36', '93'}), frozenset({'34', '85', '63', '86', '59', '93'}), frozenset({'34', '85', '63', '90', '86', '59'}), frozenset({'34', '85', '63', '90', '23', '86'}), frozenset({'34', '85', '63', '90', '86', '36'}), frozenset({'34', '85', '63', '90', '86', '93'}), frozenset({'34', '63', '90', '86', '36', '93'}), frozenset({'34', '63', '90', '86', '59', '93'}), frozenset({'63', '90', '86', '36', '59', '93'}), frozenset({'34', '85', '76', '90', '86', '59'}), frozenset({'34', '85', '76', '90', '86', '36'}), frozenset({'34', '85', '90', '86', '36', '93'}), frozenset({'34', '85', '90', '86', '59', '93'}), frozenset({'85', '90', '86', '36', '59', '93'}), frozenset({'85', '63', '90', '86', '36', '93'}), frozenset({'85', '63', '90', '86', '59', '93'}), frozenset({'34', '90', '23', '36', '59', '93'}), frozenset({'34', '63', '90', '23', '36', '93'}), frozenset({'34', '63', '90', '23', '59', '93'}), frozenset({'34', '63', '90', '23', '86', '93'}), frozenset({'34', '85', '90', '23', '36', '93'}), frozenset({'34', '85', '90', '23', '59', '93'}), frozenset({'34', '85', '90', '23', '86', '93'}), frozenset({'34', '90', '23', '86', '36', '93'}), frozenset({'34', '90', '23', '86', '59', '93'}), frozenset({'63', '90', '23', '36', '59', '93'}), frozenset({'85', '90', '23', '36', '59', '93'}), frozenset({'90', '23', '36', '86', '59', '93'}), frozenset({'85', '63', '90', '23', '36', '93'}), frozenset({'85', '63', '90', '23', '59', '93'}), frozenset({'85', '63', '90', '23', '86', '93'}), frozenset({'63', '90', '23', '86', '36', '93'}), frozenset({'63', '90', '23', '86', '59', '93'}), frozenset({'85', '90', '23', '86', '36', '93'}), frozenset({'85', '90', '23', '86', '59', '93'})], [frozenset({'34', '85', '1', '24', '86', '36', '110'}), frozenset({'34', '1', '90', '24', '86', '36', '110'}), frozenset({'34', '85', '1', '90', '24', '36', '110'}), frozenset({'85', '1', '90', '24', '36', '86', '110'}), frozenset({'34', '85', '1', '90', '24', '86', '110'}), frozenset({'34', '85', '1', '90', '24', '36', '86'}), frozenset({'34', '85', '53', '90', '36', '86', '110'}), frozenset({'34', '39', '85', '90', '86', '36', '56'}), frozenset({'34', '85', '53', '90', '36', '86', '59'}), frozenset({'34', '85', '53', '63', '90', '36', '86'}), frozenset({'34', '85', '90', '24', '36', '86', '110'}), frozenset({'34', '85', '1', '90', '86', '36', '110'}), frozenset({'34', '85', '53', '94', '90', '24', '86'}), frozenset({'34', '85', '53', '90', '28', '86', '2'}), frozenset({'39', '85', '53', '90', '28', '86', '2'}), frozenset({'34', '39', '53', '90', '28', '86', '2'}), frozenset({'34', '85', '53', '63', '90', '86', '59'}), frozenset({'34', '39', '85', '53', '90', '86', '2'}), frozenset({'34', '39', '85', '53', '90', '28', '86'}), frozenset({'34', '39', '85', '53', '90', '28', '2'}), frozenset({'34', '39', '85', '53', '28', '86', '2'}), frozenset({'34', '39', '85', '28', '86', '59', '2'}), frozenset({'34', '39', '85', '90', '28', '86', '2'}), frozenset({'34', '39', '85', '63', '28', '86', '2'}), frozenset({'39', '85', '90', '86', '36', '59', '93'}), frozenset({'39', '85', '63', '86', '36', '59', '2'}), frozenset({'39', '85', '86', '36', '59', '2', '93'}), frozenset({'34', '39', '85', '90', '86', '36', '93'}), frozenset({'34', '39', '85', '90', '86', '36', '59'}), frozenset({'34', '39', '85', '90', '86', '59', '93'}), frozenset({'34', '39', '85', '90', '86', '59', '2'}), frozenset({'34', '39', '85', '63', '86', '36', '93'}), frozenset({'34', '39', '85', '63', '86', '36', '59'}), frozenset({'34', '39', '85', '63', '86', '59', '93'}), frozenset({'34', '39', '85', '63', '86', '36', '2'}), frozenset({'34', '39', '85', '63', '86', '59', '2'}), frozenset({'34', '39', '85', '86', '36', '59', '93'}), frozenset({'34', '39', '85', '86', '59', '2', '93'}), frozenset({'34', '39', '85', '86', '36', '2', '93'}), frozenset({'34', '39', '85', '86', '36', '59', '2'}), frozenset({'39', '85', '90', '23', '86', '59', '93'}), frozenset({'39', '85', '90', '23', '86', '36', '93'}), frozenset({'39', '85', '90', '23', '86', '36', '59'}), frozenset({'39', '85', '63', '23', '86', '36', '93'}), frozenset({'39', '85', '63', '23', '86', '36', '59'}), frozenset({'39', '85', '63', '23', '86', '59', '2'}), frozenset({'39', '85', '63', '23', '86', '36', '2'}), frozenset({'39', '85', '23', '86', '36', '59', '93'}), frozenset({'39', '85', '23', '86', '59', '2', '93'}), frozenset({'39', '85', '23', '86', '36', '2', '93'}), frozenset({'39', '85', '23', '86', '36', '59', '2'}), frozenset({'34', '39', '85', '23', '86', '36', '93'}), frozenset({'34', '39', '85', '23', '86', '36', '59'}), frozenset({'34', '39', '85', '23', '86', '59', '93'}), frozenset({'34', '39', '85', '23', '86', '36', '2'}), frozenset({'34', '39', '85', '23', '86', '2', '93'}), frozenset({'34', '39', '85', '23', '86', '59', '2'}), frozenset({'34', '39', '90', '86', '36', '59', '93'}), frozenset({'34', '39', '86', '36', '59', '2', '93'}), frozenset({'39', '90', '23', '86', '36', '59', '93'}), frozenset({'39', '23', '86', '36', '59', '2', '93'}), frozenset({'34', '39', '23', '86', '59', '2', '93'}), frozenset({'34', '39', '63', '86', '36', '59', '2'}), frozenset({'39', '63', '23', '86', '36', '59', '2'}), frozenset({'34', '39', '23', '86', '36', '59', '93'}), frozenset({'34', '39', '23', '86', '36', '59', '2'}), frozenset({'34', '39', '23', '86', '36', '2', '93'}), frozenset({'34', '39', '90', '23', '86', '36', '93'}), frozenset({'34', '39', '90', '23', '86', '59', '93'}), frozenset({'34', '39', '90', '23', '86', '36', '59'}), frozenset({'34', '39', '63', '23', '86', '36', '93'}), frozenset({'34', '39', '63', '23', '86', '36', '59'}), frozenset({'34', '39', '63', '23', '86', '36', '2'}), frozenset({'34', '39', '63', '23', '86', '59', '2'}), frozenset({'39', '85', '63', '90', '36', '59', '93'}), frozenset({'39', '85', '90', '23', '36', '59', '93'}), frozenset({'39', '85', '90', '36', '59', '2', '93'}), frozenset({'39', '85', '63', '36', '59', '2', '93'}), frozenset({'34', '39', '85', '90', '36', '59', '93'}), frozenset({'34', '39', '85', '90', '23', '36', '86'}), frozenset({'34', '39', '85', '63', '23', '36', '86'}), frozenset({'34', '39', '85', '63', '36', '59', '2'}), frozenset({'34', '39', '85', '36', '59', '2', '93'}), frozenset({'39', '85', '63', '23', '36', '59', '2'}), frozenset({'39', '85', '23', '36', '59', '2', '93'}), frozenset({'34', '39', '85', '23', '36', '59', '93'}), frozenset({'34', '39', '85', '23', '36', '2', '93'}), frozenset({'34', '39', '85', '23', '36', '59', '2'}), frozenset({'34', '39', '23', '36', '59', '2', '93'}), frozenset({'34', '39', '90', '23', '36', '59', '93'}), frozenset({'34', '39', '63', '23', '36', '59', '2'}), frozenset({'34', '39', '85', '90', '23', '86', '93'}), frozenset({'34', '39', '85', '90', '23', '36', '93'}), frozenset({'34', '39', '85', '63', '90', '86', '59'}), frozenset({'34', '39', '85', '63', '90', '86', '2'}), frozenset({'34', '39', '85', '63', '23', '86', '93'}), frozenset({'34', '39', '85', '63', '23', '36', '93'}), frozenset({'34', '39', '85', '90', '23', '86', '59'}), frozenset({'34', '39', '85', '90', '23', '36', '59'}), frozenset({'34', '39', '85', '90', '23', '59', '93'}), frozenset({'34', '39', '85', '63', '23', '86', '59'}), frozenset({'34', '39', '85', '63', '23', '36', '59'}), frozenset({'34', '39', '85', '63', '23', '86', '2'}), frozenset({'34', '39', '85', '63', '23', '36', '2'}), frozenset({'34', '39', '85', '63', '23', '59', '2'}), frozenset({'34', '39', '85', '23', '59', '2', '93'}), frozenset({'85', '63', '23', '86', '36', '59', '2'}), frozenset({'34', '85', '90', '86', '59', '2', '93'}), frozenset({'34', '85', '90', '86', '36', '2', '93'}), frozenset({'34', '85', '90', '86', '36', '59', '2'}), frozenset({'34', '85', '63', '86', '59', '2', '93'}), frozenset({'34', '85', '63', '86', '36', '59', '2'}), frozenset({'34', '85', '23', '86', '36', '2', '93'}), frozenset({'34', '85', '23', '86', '36', '59', '2'}), frozenset({'34', '85', '23', '86', '59', '2', '93'}), frozenset({'85', '90', '23', '86', '59', '2', '93'}), frozenset({'34', '85', '63', '90', '86', '59', '2'}), frozenset({'34', '85', '63', '23', '86', '59', '2'}), frozenset({'34', '85', '63', '23', '86', '36', '2'}), frozenset({'34', '85', '63', '23', '36', '59', '2'}), frozenset({'85', '90', '36', '86', '59', '2', '93'}), frozenset({'34', '85', '36', '86', '59', '2', '93'}), frozenset({'85', '23', '36', '86', '59', '2', '93'}), frozenset({'34', '90', '36', '86', '59', '2', '93'}), frozenset({'34', '23', '36', '86', '59', '2', '93'}), frozenset({'85', '63', '90', '36', '59', '2', '93'}), frozenset({'34', '85', '90', '36', '59', '2', '93'}), frozenset({'34', '85', '23', '36', '59', '2', '93'}), frozenset({'34', '63', '23', '86', '36', '59', '2'}), frozenset({'34', '90', '23', '86', '59', '2', '93'}), frozenset({'34', '85', '90', '23', '86', '2', '93'}), frozenset({'34', '85', '90', '23', '86', '59', '2'}), frozenset({'34', '85', '90', '23', '59', '2', '93'}), frozenset({'34', '85', '63', '90', '86', '36', '93'}), frozenset({'34', '85', '63', '90', '86', '59', '93'}), frozenset({'34', '85', '63', '90', '86', '36', '59'}), frozenset({'85', '63', '90', '23', '86', '59', '93'}), frozenset({'85', '63', '90', '23', '86', '36', '93'}), frozenset({'85', '63', '90', '23', '86', '36', '59'}), frozenset({'85', '63', '90', '86', '36', '59', '93'}), frozenset({'34', '85', '90', '86', '36', '59', '93'}), frozenset({'85', '90', '23', '86', '36', '59', '93'}), frozenset({'85', '63', '23', '86', '36', '59', '93'}), frozenset({'34', '63', '90', '86', '36', '59', '93'}), frozenset({'34', '85', '63', '86', '36', '59', '93'}), frozenset({'63', '90', '23', '86', '36', '59', '93'}), frozenset({'34', '85', '23', '86', '36', '59', '93'}), frozenset({'34', '85', '90', '23', '86', '59', '93'}), frozenset({'34', '85', '90', '23', '86', '36', '93'}), frozenset({'34', '85', '90', '23', '86', '36', '59'}), frozenset({'34', '85', '63', '23', '86', '59', '93'}), frozenset({'34', '85', '63', '23', '86', '36', '93'}), frozenset({'34', '85', '63', '23', '86', '36', '59'}), frozenset({'34', '63', '90', '23', '86', '59', '93'}), frozenset({'34', '63', '90', '23', '86', '36', '93'}), frozenset({'34', '63', '90', '23', '86', '36', '59'}), frozenset({'34', '90', '23', '86', '36', '59', '93'}), frozenset({'34', '63', '23', '86', '36', '59', '93'}), frozenset({'34', '85', '63', '90', '23', '86', '93'}), frozenset({'85', '63', '90', '23', '36', '59', '93'}), frozenset({'34', '85', '63', '90', '23', '36', '86'}), frozenset({'34', '85', '63', '90', '23', '36', '93'}), frozenset({'34', '85', '63', '90', '36', '59', '93'}), frozenset({'34', '85', '63', '90', '23', '86', '59'}), frozenset({'34', '85', '63', '90', '23', '59', '93'}), frozenset({'34', '85', '63', '90', '23', '36', '59'}), frozenset({'34', '85', '90', '23', '36', '59', '93'}), frozenset({'34', '85', '63', '23', '36', '59', '93'}), frozenset({'34', '63', '90', '23', '36', '59', '93'})], [frozenset({'34', '85', '1', '90', '24', '36', '86', '110'}), frozenset({'34', '39', '85', '53', '90', '28', '86', '2'}), frozenset({'34', '85', '90', '23', '86', '59', '2', '93'}), frozenset({'34', '85', '63', '23', '86', '36', '59', '2'}), frozenset({'34', '85', '23', '86', '36', '59', '2', '93'}), frozenset({'34', '85', '90', '86', '36', '59', '2', '93'}), frozenset({'34', '39', '85', '63', '23', '36', '59', '2'}), frozenset({'34', '39', '85', '63', '23', '86', '59', '2'}), frozenset({'34', '39', '85', '90', '23', '36', '59', '93'}), frozenset({'34', '39', '85', '90', '23', '86', '59', '93'}), frozenset({'34', '39', '85', '23', '36', '59', '2', '93'}), frozenset({'34', '39', '85', '63', '23', '36', '86', '2'}), frozenset({'34', '39', '85', '63', '23', '36', '86', '59'}), frozenset({'34', '39', '85', '63', '23', '36', '86', '93'}), frozenset({'34', '39', '85', '90', '23', '36', '86', '59'}), frozenset({'34', '39', '85', '90', '23', '36', '86', '93'}), frozenset({'34', '39', '63', '23', '86', '36', '59', '2'}), frozenset({'34', '39', '90', '23', '86', '36', '59', '93'}), frozenset({'34', '39', '23', '86', '36', '59', '2', '93'}), frozenset({'34', '39', '85', '23', '86', '59', '2', '93'}), frozenset({'34', '39', '85', '23', '86', '36', '59', '2'}), frozenset({'34', '39', '85', '23', '86', '36', '2', '93'}), frozenset({'34', '39', '85', '23', '86', '36', '59', '93'}), frozenset({'39', '85', '23', '86', '36', '59', '2', '93'}), frozenset({'39', '85', '63', '23', '86', '36', '59', '2'}), frozenset({'39', '85', '90', '23', '86', '36', '59', '93'}), frozenset({'34', '39', '85', '86', '36', '59', '2', '93'}), frozenset({'34', '39', '85', '63', '86', '36', '59', '2'}), frozenset({'34', '39', '85', '90', '86', '36', '59', '93'}), frozenset({'34', '85', '63', '90', '23', '36', '59', '93'}), frozenset({'34', '85', '63', '90', '23', '36', '86', '59'}), frozenset({'34', '85', '63', '90', '23', '36', '86', '93'}), frozenset({'34', '85', '63', '90', '23', '86', '59', '93'}), frozenset({'34', '63', '90', '23', '86', '36', '59', '93'}), frozenset({'34', '85', '63', '23', '86', '36', '59', '93'}), frozenset({'34', '85', '90', '23', '86', '36', '59', '93'}), frozenset({'85', '63', '90', '23', '86', '36', '59', '93'}), frozenset({'34', '85', '63', '90', '86', '36', '59', '93'})], [frozenset({'34', '39', '85', '23', '86', '36', '59', '2', '93'}), frozenset({'34', '39', '85', '90', '23', '36', '86', '59', '93'}), frozenset({'34', '39', '85', '63', '23', '36', '86', '59', '2'}), frozenset({'34', '85', '63', '90', '23', '36', '86', '59', '93'})], []]\n"
     ]
    }
   ],
   "source": [
    "mushDataSet=[line.split() for line in open(\"mushroom.dat\").readlines()]\n",
    "requenceList,suppData=apriori(mushDataSet,minSupport=0.3)\n",
    "print(requenceList)"
   ]
  },
  {
   "cell_type": "code",
   "execution_count": 18,
   "metadata": {},
   "outputs": [
    {
     "name": "stdout",
     "output_type": "stream",
     "text": [
      "frozenset({'2', '28'})\n",
      "frozenset({'2', '53'})\n",
      "frozenset({'2', '23'})\n",
      "frozenset({'2', '34'})\n",
      "frozenset({'2', '36'})\n",
      "frozenset({'2', '59'})\n",
      "frozenset({'2', '63'})\n",
      "frozenset({'67', '2'})\n",
      "frozenset({'2', '76'})\n",
      "frozenset({'2', '85'})\n",
      "frozenset({'2', '86'})\n",
      "frozenset({'2', '90'})\n",
      "frozenset({'2', '93'})\n",
      "frozenset({'2', '39'})\n"
     ]
    }
   ],
   "source": [
    "#搜索包含有毒特征值2的频繁项集\n",
    "for item in requenceList[1]:    # requenceList：[[1频繁项集],[2频繁项集]]\n",
    "    if item.intersection('2'):\n",
    "        print(item)"
   ]
  },
  {
   "cell_type": "code",
   "execution_count": 19,
   "metadata": {},
   "outputs": [
    {
     "name": "stdout",
     "output_type": "stream",
     "text": [
      "frozenset({'2', '39', '53'})\n",
      "frozenset({'2', '53', '90'})\n",
      "frozenset({'2', '53', '86'})\n",
      "frozenset({'2', '85', '53'})\n",
      "frozenset({'2', '53', '34'})\n",
      "frozenset({'2', '28', '39'})\n",
      "frozenset({'2', '28', '90'})\n",
      "frozenset({'2', '28', '86'})\n",
      "frozenset({'2', '28', '85'})\n",
      "frozenset({'2', '28', '63'})\n",
      "frozenset({'2', '28', '59'})\n",
      "frozenset({'2', '28', '34'})\n",
      "frozenset({'2', '28', '53'})\n",
      "frozenset({'2', '39', '93'})\n",
      "frozenset({'2', '39', '90'})\n",
      "frozenset({'2', '93', '90'})\n",
      "frozenset({'2', '39', '86'})\n",
      "frozenset({'2', '93', '86'})\n",
      "frozenset({'2', '90', '86'})\n",
      "frozenset({'2', '39', '85'})\n",
      "frozenset({'2', '93', '85'})\n",
      "frozenset({'2', '85', '90'})\n",
      "frozenset({'2', '85', '86'})\n",
      "frozenset({'2', '39', '76'})\n",
      "frozenset({'2', '76', '86'})\n",
      "frozenset({'2', '85', '76'})\n",
      "frozenset({'67', '2', '86'})\n",
      "frozenset({'67', '2', '85'})\n",
      "frozenset({'67', '2', '34'})\n",
      "frozenset({'67', '2', '39'})\n",
      "frozenset({'2', '39', '63'})\n",
      "frozenset({'2', '93', '63'})\n",
      "frozenset({'2', '63', '90'})\n",
      "frozenset({'2', '63', '86'})\n",
      "frozenset({'2', '85', '63'})\n",
      "frozenset({'2', '39', '59'})\n",
      "frozenset({'2', '93', '59'})\n",
      "frozenset({'2', '59', '90'})\n",
      "frozenset({'2', '59', '86'})\n",
      "frozenset({'2', '59', '85'})\n",
      "frozenset({'2', '59', '63'})\n",
      "frozenset({'2', '39', '36'})\n",
      "frozenset({'2', '93', '36'})\n",
      "frozenset({'2', '36', '90'})\n",
      "frozenset({'2', '36', '86'})\n",
      "frozenset({'2', '36', '85'})\n",
      "frozenset({'2', '36', '63'})\n",
      "frozenset({'2', '36', '59'})\n",
      "frozenset({'2', '39', '34'})\n",
      "frozenset({'2', '93', '34'})\n",
      "frozenset({'2', '34', '90'})\n",
      "frozenset({'2', '34', '86'})\n",
      "frozenset({'2', '85', '34'})\n",
      "frozenset({'2', '76', '34'})\n",
      "frozenset({'2', '34', '63'})\n",
      "frozenset({'2', '59', '34'})\n",
      "frozenset({'2', '36', '34'})\n",
      "frozenset({'2', '39', '23'})\n",
      "frozenset({'2', '93', '23'})\n",
      "frozenset({'2', '90', '23'})\n",
      "frozenset({'2', '86', '23'})\n",
      "frozenset({'2', '85', '23'})\n",
      "frozenset({'2', '63', '23'})\n",
      "frozenset({'2', '59', '23'})\n",
      "frozenset({'2', '36', '23'})\n",
      "frozenset({'2', '34', '23'})\n"
     ]
    }
   ],
   "source": [
    "#对更大的项集进行搜索\n",
    "for item in requenceList[2]:\n",
    "    if item.intersection(\"2\"):\n",
    "        print(item)"
   ]
  },
  {
   "cell_type": "code",
   "execution_count": 20,
   "metadata": {},
   "outputs": [
    {
     "data": {
      "text/plain": [
       "10"
      ]
     },
     "execution_count": 20,
     "metadata": {},
     "output_type": "execute_result"
    }
   ],
   "source": [
    "#总共一起有多少种项集  k\n",
    "len(requenceList)"
   ]
  },
  {
   "cell_type": "code",
   "execution_count": null,
   "metadata": {
    "collapsed": true
   },
   "outputs": [],
   "source": []
  },
  {
   "cell_type": "code",
   "execution_count": null,
   "metadata": {
    "collapsed": true
   },
   "outputs": [],
   "source": []
  },
  {
   "cell_type": "code",
   "execution_count": null,
   "metadata": {
    "collapsed": true
   },
   "outputs": [],
   "source": []
  },
  {
   "cell_type": "code",
   "execution_count": null,
   "metadata": {
    "collapsed": true
   },
   "outputs": [],
   "source": []
  },
  {
   "cell_type": "code",
   "execution_count": null,
   "metadata": {
    "collapsed": true
   },
   "outputs": [],
   "source": []
  },
  {
   "cell_type": "code",
   "execution_count": null,
   "metadata": {
    "collapsed": true
   },
   "outputs": [],
   "source": []
  },
  {
   "cell_type": "code",
   "execution_count": 15,
   "metadata": {
    "collapsed": true
   },
   "outputs": [],
   "source": [
    "'''\n",
    "F(k-1)  与 F(1)\n",
    "\n",
    "resultList  F(1)\n",
    "\n",
    "requenceList  F(k-1)\n",
    "\n",
    "生成的是候选集项！！！！不是经过筛选过的项集\n",
    "'''\n",
    "def aprioriGeneratorRequenceList(requenceList,resultListk,k):\n",
    "    retList=[]\n",
    "    requenceListLength=len(requenceList)\n",
    "    cand=list(candidateset)\n",
    "    for i in range(requenceListLength):\n",
    "        L1=list(requenceList[i])\n",
    "        for z in requenceList:\n",
    "            if not [z] in L1:\n",
    "                L1.append(z)\n",
    "                L1.sort()\n",
    "                if not L1 in retList:\n",
    "                    retList.append(L1)\n",
    "    return retList    "
   ]
  },
  {
   "cell_type": "code",
   "execution_count": null,
   "metadata": {
    "collapsed": true
   },
   "outputs": [],
   "source": [
    "'''\n",
    "进行阀值判断 \n",
    "del删除没到阀值的值\n",
    "\n",
    "'''\n",
    "def apriorChoose(requenceList,dataset,minsupport=0.6):\n",
    "    numItem=float(len(dataset))\n",
    "    candidateCounter={}\n",
    "    for requence in requenceList:\n",
    "        for data in dataset:\n",
    "            if set(requence).issubset(set(data)):   #  issubset   判断集合 x 的所有元素是否都包含在集合 y 中\n",
    "                candidateCounter[candidate] = candidateCounter.get(candidate,0)+1\n",
    "    resultList=[]  #频繁项集 \n",
    "    supportDate={} #这个是支持度\n",
    "    for key in candidateCounter:\n",
    "        support= candidateCounter[key]/numItem\n",
    "        if support > minsupport:\n",
    "            resultList.insert(0,key)\n",
    "            supportDate[key]=support\n",
    "    return resultList  supportDate\n",
    "    "
   ]
  },
  {
   "cell_type": "code",
   "execution_count": 25,
   "metadata": {},
   "outputs": [
    {
     "name": "stdout",
     "output_type": "stream",
     "text": [
      "no\n"
     ]
    }
   ],
   "source": [
    "z=[[1,3,4],[2,3,5],[1,2,3,5],[2,5]]\n",
    "\n",
    "\n",
    "if ({2,7}).issubset(set(z[1])):\n",
    "    print('yes')\n",
    "else:\n",
    "    print('no')"
   ]
  },
  {
   "cell_type": "code",
   "execution_count": null,
   "metadata": {
    "collapsed": true
   },
   "outputs": [],
   "source": []
  }
 ],
 "metadata": {
  "kernelspec": {
   "display_name": "Python 3",
   "language": "python",
   "name": "python3"
  },
  "language_info": {
   "codemirror_mode": {
    "name": "ipython",
    "version": 3
   },
   "file_extension": ".py",
   "mimetype": "text/x-python",
   "name": "python",
   "nbconvert_exporter": "python",
   "pygments_lexer": "ipython3",
   "version": "3.6.2"
  }
 },
 "nbformat": 4,
 "nbformat_minor": 2
}
