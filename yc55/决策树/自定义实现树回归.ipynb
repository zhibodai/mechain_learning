{
 "cells": [
  {
   "cell_type": "code",
   "execution_count": 1,
   "metadata": {
    "collapsed": true
   },
   "outputs": [],
   "source": [
    "from numpy import *"
   ]
  },
  {
   "cell_type": "code",
   "execution_count": 4,
   "metadata": {
    "collapsed": true
   },
   "outputs": [],
   "source": [
    "def load_dataset(fileName):\n",
    "    dataMat=[]\n",
    "    fr=open(fileName)\n",
    "    for line in fr.readlines():\n",
    "        curline=line.strip().split('\\t')\n",
    "        fltline=map(float,curline)\n",
    "        dataMat.append(list(fltline) )\n",
    "    return dataMat"
   ]
  },
  {
   "cell_type": "code",
   "execution_count": 6,
   "metadata": {},
   "outputs": [
    {
     "data": {
      "text/plain": [
       "[[0.036098, 0.155096],\n",
       " [0.993349, 1.077553],\n",
       " [0.530897, 0.893462],\n",
       " [0.712386, 0.564858],\n",
       " [0.343554, -0.3717]]"
      ]
     },
     "execution_count": 6,
     "metadata": {},
     "output_type": "execute_result"
    }
   ],
   "source": [
    "dataMat=load_dataset('ex00.txt')\n",
    "dataMat[0:5]"
   ]
  },
  {
   "cell_type": "code",
   "execution_count": 7,
   "metadata": {
    "collapsed": true
   },
   "outputs": [],
   "source": [
    "# 对列完成切分\n",
    "def binSplitDataSet(dataSet,features,value):\n",
    "    bigIndex=dataSet[:,features]>value\n",
    "    smallIndex=dataSet[:,features]<=value\n",
    "    big=dataSet[nonzero(bigIndex)[0],:]\n",
    "    small=dataSet[nonzero(smallIndex)[0],:]\n",
    "    return small,big"
   ]
  },
  {
   "cell_type": "code",
   "execution_count": 40,
   "metadata": {},
   "outputs": [
    {
     "name": "stdout",
     "output_type": "stream",
     "text": [
      "[[  3.60980000e-02   1.55096000e-01]\n",
      " [  3.43554000e-01  -3.71700000e-01]\n",
      " [  9.80160000e-02  -3.32760000e-01]\n",
      " [  9.13580000e-02   9.99350000e-02]\n",
      " [  1.46366000e-01   3.42830000e-02]\n",
      " [  1.83510000e-01   1.84843000e-01]\n",
      " [  3.39563000e-01   2.06783000e-01]\n",
      " [  8.30700000e-03   6.99760000e-02]\n",
      " [  2.43909000e-01  -2.94670000e-02]\n",
      " [  3.06964000e-01  -1.77321000e-01]\n",
      " [  3.64920000e-02   4.08155000e-01]\n",
      " [  2.95511000e-01   2.88200000e-03]\n",
      " [  2.02054000e-01  -8.77440000e-02]\n",
      " [  3.77201000e-01  -2.43550000e-01]\n",
      " [  7.22430000e-02  -4.20983000e-01]\n",
      " [  4.10230000e-01   3.31722000e-01]\n",
      " [  1.01149000e-01   6.88340000e-02]\n",
      " [  4.88130000e-01  -9.77910000e-02]\n",
      " [  4.75976000e-01  -1.63707000e-01]\n",
      " [  2.73147000e-01  -4.55219000e-01]\n",
      " [  7.47950000e-02  -3.49692000e-01]\n",
      " [  9.84900000e-03   5.65940000e-02]\n",
      " [  3.02217000e-01  -1.48650000e-01]\n",
      " [  1.80506000e-01   1.03676000e-01]\n",
      " [  1.93641000e-01  -3.27589000e-01]\n",
      " [  3.43479000e-01   1.75264000e-01]\n",
      " [  1.45809000e-01   1.36979000e-01]\n",
      " [  2.38070000e-01  -3.58459000e-01]\n",
      " [  3.77597000e-01   8.85050000e-02]\n",
      " [  9.91420000e-02   2.52800000e-02]\n",
      " [  2.42204000e-01   2.09359000e-01]\n",
      " [  1.52324000e-01   1.32858000e-01]\n",
      " [  2.52649000e-01  -5.56130000e-02]\n",
      " [  1.33300000e-01  -2.23143000e-01]\n",
      " [  3.62314000e-01  -5.56464000e-01]\n",
      " [  2.34000000e-04   6.09030000e-02]\n",
      " [  3.25412000e-01  -2.19245000e-01]\n",
      " [  3.48013000e-01   4.89390000e-02]\n",
      " [  4.58121000e-01  -6.14560000e-02]\n",
      " [  2.80738000e-01  -2.28880000e-01]\n",
      " [  7.17690000e-02  -1.10946000e-01]\n",
      " [  4.01152000e-01  -1.21640000e-01]\n",
      " [  4.06649000e-01  -3.66317000e-01]\n",
      " [  3.47837000e-01  -1.53405000e-01]\n",
      " [  8.19310000e-02  -2.69756000e-01]\n",
      " [  4.80140000e-02   6.44960000e-02]\n",
      " [  1.30962000e-01   1.84241000e-01]\n",
      " [  9.69940000e-02   2.27167000e-01]\n",
      " [  3.23181000e-01   1.80811000e-01]\n",
      " [  3.60323000e-01  -2.04830000e-01]\n",
      " [  7.04400000e-03   9.41500000e-02]\n",
      " [  4.38367000e-01   3.40140000e-02]\n",
      " [  1.32543000e-01  -3.29372000e-01]\n",
      " [  3.46986000e-01  -1.50389000e-01]\n",
      " [  4.49280000e-01   6.90980000e-02]\n",
      " [  6.61720000e-02   5.24390000e-02]\n",
      " [  4.48656000e-01   2.69740000e-02]\n",
      " [  1.18156000e-01  -7.74090000e-02]\n",
      " [  8.42480000e-02  -1.95470000e-02]\n",
      " [  3.32982000e-01   2.10084000e-01]\n",
      " [  6.56150000e-02  -3.06970000e-01]\n",
      " [  2.78661000e-01   2.53628000e-01]\n",
      " [  2.03693000e-01  -6.40360000e-02]\n",
      " [  3.55688000e-01  -1.19399000e-01]\n",
      " [  3.44102000e-01  -6.15390000e-02]\n",
      " [  1.48049000e-01   2.04298000e-01]\n",
      " [  1.30052000e-01  -2.61670000e-02]\n",
      " [  3.02001000e-01   3.17135000e-01]\n",
      " [  3.37100000e-01   2.63320000e-02]\n",
      " [  3.14924000e-01  -1.95200000e-03]\n",
      " [  2.69681000e-01  -1.65971000e-01]\n",
      " [  1.96005000e-01  -4.88470000e-02]\n",
      " [  1.29061000e-01   3.05107000e-01]\n",
      " [  3.05540000e-01  -1.15991000e-01]\n",
      " [  1.88218000e-01   1.13685000e-01]\n",
      " [  2.33115000e-01  -3.48147000e-01]\n",
      " [  4.65625000e-01  -1.52940000e-01]\n",
      " [  2.68857000e-01   7.34470000e-02]\n",
      " [  4.29664000e-01  -1.88659000e-01]\n",
      " [  3.78595000e-01  -2.96094000e-01]\n",
      " [  2.73940000e-01  -8.57130000e-02]\n",
      " [  1.40830000e-02  -1.32525000e-01]\n",
      " [  2.10334000e-01  -6.89900000e-03]\n",
      " [  2.50744000e-01   4.62970000e-02]]\n",
      "[[ 0.993349  1.077553]\n",
      " [ 0.530897  0.893462]\n",
      " [ 0.712386  0.564858]\n",
      " [ 0.691115  0.834391]\n",
      " [ 0.727098  1.000567]\n",
      " [ 0.951949  0.945255]\n",
      " [ 0.768596  0.760219]\n",
      " [ 0.541314  0.893748]\n",
      " [ 0.673195  0.915077]\n",
      " [ 0.517921  1.493586]\n",
      " [ 0.703755  1.101678]\n",
      " [ 0.837522  1.229373]\n",
      " [ 0.919384  1.029889]\n",
      " [ 0.814825  1.095206]\n",
      " [ 0.61127   0.982036]\n",
      " [ 0.869077  1.114825]\n",
      " [ 0.620599  1.334421]\n",
      " [ 0.820802  1.325907]\n",
      " [ 0.520044  0.961983]\n",
      " [ 0.819823  0.835264]\n",
      " [ 0.975022  0.673579]\n",
      " [ 0.953112  1.06469 ]\n",
      " [ 0.804586  0.924033]\n",
      " [ 0.625336  0.623696]\n",
      " [ 0.656218  0.958506]\n",
      " [ 0.834078  1.01058 ]\n",
      " [ 0.78193   1.074488]\n",
      " [ 0.678287  0.907727]\n",
      " [ 0.996757  1.035533]\n",
      " [ 0.59021   1.336661]\n",
      " [ 0.561362  1.070529]\n",
      " [ 0.539558  1.053846]\n",
      " [ 0.79024   0.533214]\n",
      " [ 0.89593   1.077275]\n",
      " [ 0.559763  1.253151]\n",
      " [ 0.643665  1.024241]\n",
      " [ 0.877241  0.797005]\n",
      " [ 0.613765  1.621091]\n",
      " [ 0.645762  1.026886]\n",
      " [ 0.651376  1.315384]\n",
      " [ 0.697718  1.212434]\n",
      " [ 0.742527  1.087056]\n",
      " [ 0.901056  1.0559  ]\n",
      " [ 0.948268  0.631862]\n",
      " [ 0.750078  0.906291]\n",
      " [ 0.726828  1.017112]\n",
      " [ 0.567704  0.969058]\n",
      " [ 0.750918  0.748104]\n",
      " [ 0.575805  0.89909 ]\n",
      " [ 0.50794   1.107265]\n",
      " [ 0.55352   1.391273]\n",
      " [ 0.652121  1.004346]\n",
      " [ 0.821648  1.280895]\n",
      " [ 0.773422  1.125943]\n",
      " [ 0.789625  0.552614]\n",
      " [ 0.625791  1.244731]\n",
      " [ 0.589575  1.185812]\n",
      " [ 0.822443  1.086648]\n",
      " [ 0.950153  1.022906]\n",
      " [ 0.527505  0.87956 ]\n",
      " [ 0.860049  0.71749 ]\n",
      " [ 0.574573  1.06613 ]\n",
      " [ 0.536689  0.867284]\n",
      " [ 0.782167  0.886049]\n",
      " [ 0.989888  0.744207]\n",
      " [ 0.761474  1.058262]\n",
      " [ 0.985425  1.227946]\n",
      " [ 0.768784  0.899705]\n",
      " [ 0.848921  1.170959]\n",
      " [ 0.813719  0.706601]\n",
      " [ 0.661923  0.76704 ]\n",
      " [ 0.529491  1.022206]\n",
      " [ 0.846455  0.72003 ]\n",
      " [ 0.795072  0.965721]\n",
      " [ 0.845815  0.952617]\n",
      " [ 0.576946  1.234129]\n",
      " [ 0.772083  1.299018]\n",
      " [ 0.696648  0.845423]\n",
      " [ 0.595012  1.213435]\n",
      " [ 0.648675  1.287407]\n",
      " [ 0.897094  1.240209]\n",
      " [ 0.55299   1.036158]\n",
      " [ 0.773168  1.140917]\n",
      " [ 0.988852  1.069062]\n",
      " [ 0.518735  1.037179]\n",
      " [ 0.514563  1.156648]\n",
      " [ 0.976414  0.862911]\n",
      " [ 0.919074  1.123413]\n",
      " [ 0.697777  0.827805]\n",
      " [ 0.928097  0.883225]\n",
      " [ 0.900272  0.996871]\n",
      " [ 0.936783  1.026258]\n",
      " [ 0.683921  1.414382]\n",
      " [ 0.622398  0.76633 ]\n",
      " [ 0.902532  0.861601]\n",
      " [ 0.712503  0.93349 ]\n",
      " [ 0.590062  0.705531]\n",
      " [ 0.72312   1.307248]\n",
      " [ 0.643601  0.782552]\n",
      " [ 0.520207  1.209557]\n",
      " [ 0.884512  1.117833]\n",
      " [ 0.6632    0.701634]\n",
      " [ 0.729234  0.931956]\n",
      " [ 0.737189  1.200781]\n",
      " [ 0.930173  1.035645]\n",
      " [ 0.774301  0.836763]\n",
      " [ 0.824442  1.082153]\n",
      " [ 0.626011  0.840544]\n",
      " [ 0.67939   1.307217]\n",
      " [ 0.578252  0.921885]\n",
      " [ 0.785541  1.165296]\n",
      " [ 0.597409  0.97477 ]\n",
      " [ 0.66387   1.187129]\n",
      " [ 0.552381  1.36963 ]\n",
      " [ 0.683886  0.999985]\n",
      " [ 0.604529  1.212685]]\n"
     ]
    }
   ],
   "source": [
    "small,big=binSplitDataSet(mat(dataMat),0,0.5)\n",
    "print(small)\n",
    "print(big)"
   ]
  },
  {
   "cell_type": "code",
   "execution_count": 41,
   "metadata": {},
   "outputs": [],
   "source": [
    "# 函数 求叶子节点上的样本的标签的均值\n",
    "def meanLeaf(dataSet):\n",
    "    return mean( dataSet[:,-1])"
   ]
  },
  {
   "cell_type": "code",
   "execution_count": 42,
   "metadata": {},
   "outputs": [
    {
     "name": "stdout",
     "output_type": "stream",
     "text": [
      "全部数据的均值 0.571743005\n",
      "均值1 -0.0446502857143\n",
      "均值2 1.01809676724\n"
     ]
    }
   ],
   "source": [
    "#测试求均值\n",
    "print('全部数据的均值',meanLeaf(mat(dataMat) ) )\n",
    "print('均值1',meanLeaf(small) )\n",
    "print('均值2',meanLeaf(big))"
   ]
  },
  {
   "cell_type": "code",
   "execution_count": 46,
   "metadata": {},
   "outputs": [],
   "source": [
    "# 函数求当前数据集的所有的数据方差和\n",
    "def regErr(dataSet):\n",
    "    return var(dataSet[:,-1])*shape(dataSet)[0]"
   ]
  },
  {
   "cell_type": "code",
   "execution_count": 47,
   "metadata": {},
   "outputs": [
    {
     "name": "stdout",
     "output_type": "stream",
     "text": [
      "全部数据的方差 63.380639386\n",
      "方差1 3.38241970178\n",
      "方差2 4.97232681808\n"
     ]
    }
   ],
   "source": [
    "#测试数据集的方差\n",
    "print('全部数据的方差',regErr(mat(dataMat) ) )\n",
    "print('方差1',regErr(small))\n",
    "print('方差2',regErr(big))"
   ]
  },
  {
   "cell_type": "code",
   "execution_count": 48,
   "metadata": {
    "collapsed": true
   },
   "outputs": [],
   "source": [
    "def regErr2(rows):\n",
    "    if len(rows)==0:\n",
    "        return 0\n",
    "    data=[float(row[len(row)-1]) for row in rows]\n",
    "    mean=sum(data)/len(data)\n",
    "    variance=sum([(d-mean)**2 for d in data] )\n",
    "    return variance"
   ]
  },
  {
   "cell_type": "code",
   "execution_count": 49,
   "metadata": {},
   "outputs": [
    {
     "name": "stdout",
     "output_type": "stream",
     "text": [
      "全部数据的方差 63.380639386\n",
      "方差1 3.38241970178\n",
      "方差2 4.97232681808\n"
     ]
    }
   ],
   "source": [
    "#测试数据集的方差\n",
    "print('全部数据的方差',regErr2(dataMat)  )\n",
    "print('方差1',regErr2(array(small)))\n",
    "print('方差2',regErr2(array(big)))"
   ]
  },
  {
   "cell_type": "code",
   "execution_count": 50,
   "metadata": {
    "collapsed": true
   },
   "outputs": [],
   "source": [
    "def chooseBestSplit(dataSet,leafType=meanLeaf,errType=regErr,ops=(1,4)):\n",
    "    '''\n",
    "    找到数据集切分的最佳的位置   它遍历所有的特征及其可能的取值来找到方差最小化的切分阈值\n",
    "    \n",
    "    步骤：\n",
    "        循环每个特征\n",
    "            取每个特征值\n",
    "                将数据集切分成两份\n",
    "                计算切分的方差\n",
    "                如果当前的方差小于已知最小的方差 记录列索引及值  并且更新最小方差\n",
    "        返回 特征索引 和 值\n",
    "    '''\n",
    "    #如果标签只有一个 数据无法在进行切分\n",
    "    labelCount=len( set( dataSet[:,-1].T.A.tolist()[0] )  )\n",
    "    if labelCount==1:\n",
    "        return None,leafType(dataSet)\n",
    "    \n",
    "    bestSplitIndex=0\n",
    "    bestSplitValue=0\n",
    "    \n",
    "    bestError=errType(dataSet)  #没有切分的情况下数据集的方差\n",
    "    originalError=errType(dataSet)  \n",
    "    \n",
    "    errorLoss=ops[0]  #容许方差下降的值\n",
    "    minSample=ops[1]  #最小样本数\n",
    "    m,n=shape(dataSet)  # 数据集为 m 行 n列\n",
    "    for featIndex in range(n-1):\n",
    "        uniqueValues=set(dataSet[:,featIndex].T.A.tolist()[0])\n",
    "        for splitValue in uniqueValues:\n",
    "            small,big=binSplitDataSet( dataSet,featIndex,splitValue)\n",
    "            if shape(small)[0]<minSample or shape(big)[0]<minSample:\n",
    "                continue\n",
    "            totalError=errType(small)+errType(big)  #方差和\n",
    "            if totalError<bestError:\n",
    "                bestError=totalError\n",
    "                bestSplitIndex=featIndex\n",
    "                bestSplitValue=splitValue\n",
    "    if originalError-bestError < errorLoss:\n",
    "        return None,leafType(dataSet)\n",
    "    small,big=binSplitDataSet(dataSet,bestSplitIndex,bestSplitValue)\n",
    "    if shape(small)[0]<minSample or shape(big)[0]<minSample:\n",
    "                return None,leafType(dataSet)\n",
    "    return bestSplitIndex,bestSplitValue"
   ]
  },
  {
   "cell_type": "code",
   "execution_count": 51,
   "metadata": {
    "collapsed": true
   },
   "outputs": [],
   "source": [
    "#函数构建树\n",
    "def createTree(dataSet,leafType=meanLeaf,errType=regErr,ops=(1,4)):\n",
    "    '''\n",
    "    dataSet  待切分的数据集\n",
    "    \n",
    "    leafType  叶子节点的函数（一种是meanLeaf，即将叶子节点的样本的均值作为叶子节点的值，另一种为另一个回归模型）\n",
    "    \n",
    "    errType  节点分裂时用于判断的方差(回归用方差  分类用熵/基尼系数)\n",
    "    \n",
    "    ops  容许方差下降的值 切分的最少样本数\n",
    "    \n",
    "    '''\n",
    "    bestFeatureIndex,bestSplitValue=chooseBestSplit( dataSet,leafType,errType,ops)\n",
    "    if bestFeatureIndex==None:\n",
    "        return bestSplitValue\n",
    "    small,big=binSplitDataSet(dataSet,bestFeatureIndex,bestSplitValue)\n",
    "    leftTree=createTree(small,leafType,errType,ops)\n",
    "    rightTree=createTree(big,leafType,errType,ops)\n",
    "    \n",
    "    tree={}\n",
    "    tree['spInd']=bestFeatureIndex\n",
    "    tree['spVal']=bestSplitValue\n",
    "    tree['left']=leftTree\n",
    "    tree['right']=rightTree\n",
    "    \n",
    "    return tree"
   ]
  },
  {
   "cell_type": "code",
   "execution_count": 52,
   "metadata": {},
   "outputs": [
    {
     "data": {
      "text/plain": [
       "{'left': {'left': {'left': {'left': 0.097105625000000001,\n",
       "    'right': {'left': -0.23431800000000003,\n",
       "     'right': {'left': 0.042778315789473685,\n",
       "      'right': {'left': -0.17738871428571426,\n",
       "       'right': -0.033359055555555552,\n",
       "       'spInd': 0,\n",
       "       'spVal': 0.23807},\n",
       "      'spInd': 0,\n",
       "      'spVal': 0.188218},\n",
       "     'spInd': 0,\n",
       "     'spVal': 0.081931},\n",
       "    'spInd': 0,\n",
       "    'spVal': 0.048014},\n",
       "   'right': 0.15461575,\n",
       "   'spInd': 0,\n",
       "   'spVal': 0.325412},\n",
       "  'right': {'left': -0.19291407692307688,\n",
       "   'right': {'left': 0.33172200000000002,\n",
       "    'right': -0.066808375000000003,\n",
       "    'spInd': 0,\n",
       "    'spVal': 0.41023},\n",
       "   'spInd': 0,\n",
       "   'spVal': 0.406649},\n",
       "  'spInd': 0,\n",
       "  'spVal': 0.343479},\n",
       " 'right': {'left': {'left': 1.082699551724138,\n",
       "   'right': 1.4777560000000001,\n",
       "   'spInd': 0,\n",
       "   'spVal': 0.61127},\n",
       "  'right': {'left': 0.69501299999999999,\n",
       "   'right': 0.99223373493975886,\n",
       "   'spInd': 0,\n",
       "   'spVal': 0.625336},\n",
       "  'spInd': 0,\n",
       "  'spVal': 0.620599},\n",
       " 'spInd': 0,\n",
       " 'spVal': 0.48813}"
      ]
     },
     "execution_count": 52,
     "metadata": {},
     "output_type": "execute_result"
    }
   ],
   "source": [
    "dataMat=load_dataset('ex00.txt')\n",
    "myMat=mat(dataMat)\n",
    "createTree(myMat,ops=(0.1,1))"
   ]
  },
  {
   "cell_type": "code",
   "execution_count": 53,
   "metadata": {},
   "outputs": [
    {
     "data": {
      "text/plain": [
       "{'left': {'left': -0.023838155555555553,\n",
       "  'right': 1.0289583666666666,\n",
       "  'spInd': 1,\n",
       "  'spVal': 0.197834},\n",
       " 'right': {'left': 1.980035071428571,\n",
       "  'right': {'left': 2.9836209534883724,\n",
       "   'right': 3.9871631999999999,\n",
       "   'spInd': 1,\n",
       "   'spVal': 0.797583},\n",
       "  'spInd': 1,\n",
       "  'spVal': 0.582002},\n",
       " 'spInd': 1,\n",
       " 'spVal': 0.39435}"
      ]
     },
     "execution_count": 53,
     "metadata": {},
     "output_type": "execute_result"
    }
   ],
   "source": [
    "dataMat=load_dataset('ex0.txt')\n",
    "myMat=mat(dataMat)\n",
    "createTree(myMat)"
   ]
  },
  {
   "cell_type": "code",
   "execution_count": 54,
   "metadata": {},
   "outputs": [
    {
     "data": {
      "text/plain": [
       "{'left': {'left': {'left': {'left': {'left': {'left': -0.033111799999999997,\n",
       "      'right': -0.14647450000000001,\n",
       "      'spInd': 1,\n",
       "      'spVal': 0.016241},\n",
       "     'right': {'left': 0.12067520000000001,\n",
       "      'right': {'left': -0.066625399999999987,\n",
       "       'right': -0.0093720000000000001,\n",
       "       'spInd': 1,\n",
       "       'spVal': 0.105279},\n",
       "      'spInd': 1,\n",
       "      'spVal': 0.081306},\n",
       "     'spInd': 1,\n",
       "     'spVal': 0.052031},\n",
       "    'right': -0.14759542857142857,\n",
       "    'spInd': 1,\n",
       "    'spVal': 0.129291},\n",
       "   'right': {'left': 0.10609520000000001,\n",
       "    'right': 0.043393999999999995,\n",
       "    'spInd': 1,\n",
       "    'spVal': 0.176202},\n",
       "   'spInd': 1,\n",
       "   'spVal': 0.148654},\n",
       "  'right': {'left': {'left': 1.1841675,\n",
       "    'right': {'left': 0.97744150000000007,\n",
       "     'right': {'left': 1.1668217999999999,\n",
       "      'right': 1.0299635,\n",
       "      'spInd': 1,\n",
       "      'spVal': 0.303094},\n",
       "     'spInd': 1,\n",
       "     'spVal': 0.238619},\n",
       "    'spInd': 1,\n",
       "    'spVal': 0.217152},\n",
       "   'right': {'left': 0.80301928571428582,\n",
       "    'right': 1.1078694999999998,\n",
       "    'spInd': 1,\n",
       "    'spVal': 0.363783},\n",
       "   'spInd': 1,\n",
       "   'spVal': 0.316465},\n",
       "  'spInd': 1,\n",
       "  'spVal': 0.197834},\n",
       " 'right': {'left': {'left': {'left': {'left': 1.89181775,\n",
       "     'right': 1.842368142857143,\n",
       "     'spInd': 1,\n",
       "     'spVal': 0.4137},\n",
       "    'right': 1.9267175999999999,\n",
       "    'spInd': 1,\n",
       "    'spVal': 0.456918},\n",
       "   'right': {'left': {'left': {'left': 2.0983863999999999,\n",
       "      'right': 1.9766634999999999,\n",
       "      'spInd': 1,\n",
       "      'spVal': 0.504884},\n",
       "     'right': {'left': 2.1590532499999999,\n",
       "      'right': 2.0965438000000001,\n",
       "      'spInd': 1,\n",
       "      'spVal': 0.523258},\n",
       "     'spInd': 1,\n",
       "     'spVal': 0.51181},\n",
       "    'right': {'left': 1.8145387500000001,\n",
       "     'right': 2.0720909999999999,\n",
       "     'spInd': 1,\n",
       "     'spVal': 0.559009},\n",
       "    'spInd': 1,\n",
       "    'spVal': 0.533241},\n",
       "   'spInd': 1,\n",
       "   'spVal': 0.486698},\n",
       "  'right': {'left': {'left': 3.1442664000000002,\n",
       "    'right': {'left': 2.8252030000000001,\n",
       "     'right': {'left': 3.1157634999999999,\n",
       "      'right': {'left': 2.8058382499999999,\n",
       "       'right': {'left': 3.1112918571428572,\n",
       "        'right': {'left': {'left': {'left': 2.8879719999999995,\n",
       "           'right': 2.9784826000000004,\n",
       "           'spInd': 1,\n",
       "           'spVal': 0.725426},\n",
       "          'right': 2.8713280000000001,\n",
       "          'spInd': 1,\n",
       "          'spVal': 0.755993},\n",
       "         'right': 3.0454907499999999,\n",
       "         'spInd': 1,\n",
       "         'spVal': 0.784133},\n",
       "        'spInd': 1,\n",
       "        'spVal': 0.71158},\n",
       "       'spInd': 1,\n",
       "       'spVal': 0.683753},\n",
       "      'spInd': 1,\n",
       "      'spVal': 0.670361},\n",
       "     'spInd': 1,\n",
       "     'spVal': 0.659753},\n",
       "    'spInd': 1,\n",
       "    'spVal': 0.620393},\n",
       "   'right': {'left': {'left': {'left': {'left': 4.0513782000000003,\n",
       "       'right': 3.8243412000000006,\n",
       "       'spInd': 1,\n",
       "       'spVal': 0.84139},\n",
       "      'right': {'left': 4.1112435999999999,\n",
       "       'right': {'left': 3.9507963333333342,\n",
       "        'right': 4.0258090000000006,\n",
       "        'spInd': 1,\n",
       "        'spVal': 0.911188},\n",
       "       'spInd': 1,\n",
       "       'spVal': 0.881025},\n",
       "      'spInd': 1,\n",
       "      'spVal': 0.867298},\n",
       "     'right': 4.1657532499999999,\n",
       "     'spInd': 1,\n",
       "     'spVal': 0.935185},\n",
       "    'right': {'left': 3.8569762500000002,\n",
       "     'right': 3.9503972857142857,\n",
       "     'spInd': 1,\n",
       "     'spVal': 0.983153},\n",
       "    'spInd': 1,\n",
       "    'spVal': 0.952758},\n",
       "   'spInd': 1,\n",
       "   'spVal': 0.797583},\n",
       "  'spInd': 1,\n",
       "  'spVal': 0.582002},\n",
       " 'spInd': 1,\n",
       " 'spVal': 0.39435}"
      ]
     },
     "execution_count": 54,
     "metadata": {},
     "output_type": "execute_result"
    }
   ],
   "source": [
    "createTree(myMat,ops=(0,4))"
   ]
  },
  {
   "cell_type": "code",
   "execution_count": null,
   "metadata": {
    "collapsed": true
   },
   "outputs": [],
   "source": []
  }
 ],
 "metadata": {
  "kernelspec": {
   "display_name": "Python 3",
   "language": "python",
   "name": "python3"
  },
  "language_info": {
   "codemirror_mode": {
    "name": "ipython",
    "version": 3
   },
   "file_extension": ".py",
   "mimetype": "text/x-python",
   "name": "python",
   "nbconvert_exporter": "python",
   "pygments_lexer": "ipython3",
   "version": "3.6.2"
  }
 },
 "nbformat": 4,
 "nbformat_minor": 2
}
