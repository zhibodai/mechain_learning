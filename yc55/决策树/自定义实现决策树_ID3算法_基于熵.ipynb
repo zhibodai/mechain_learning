{
 "cells": [
  {
   "cell_type": "code",
   "execution_count": 1,
   "metadata": {
    "collapsed": true
   },
   "outputs": [],
   "source": [
    "from math import log\n",
    "import operator"
   ]
  },
  {
   "cell_type": "code",
   "execution_count": 2,
   "metadata": {
    "collapsed": true
   },
   "outputs": [],
   "source": [
    "def createDataSet():\n",
    "    #  房    车\n",
    "    dataSet=[[1,1,'yes'],\n",
    "             [1,1,'yes'],\n",
    "             [1,0,'yes'],\n",
    "             [0,1,'no'],\n",
    "             [0,1,'no'],\n",
    "             [0,0,'no'],\n",
    "             [0,0,'yes'],\n",
    "             [0,0,'no']]\n",
    "    labels=['是否有房产','是否有车']\n",
    "    return dataSet,labels"
   ]
  },
  {
   "cell_type": "code",
   "execution_count": null,
   "metadata": {
    "collapsed": true
   },
   "outputs": [],
   "source": []
  },
  {
   "cell_type": "code",
   "execution_count": 3,
   "metadata": {},
   "outputs": [
    {
     "name": "stdout",
     "output_type": "stream",
     "text": [
      "[[1, 1, 'yes'], [1, 1, 'yes'], [1, 0, 'yes'], [0, 1, 'no'], [0, 1, 'no'], [0, 0, 'no'], [0, 0, 'yes'], [0, 0, 'no']]\n",
      "['是否有房产', '是否有车']\n"
     ]
    }
   ],
   "source": [
    "dataset,labels=createDataSet()\n",
    "print(dataset)\n",
    "print(labels)"
   ]
  },
  {
   "cell_type": "markdown",
   "metadata": {},
   "source": [
    "ID-> 熵  衡量数据的纯度\n",
    " 计算公式\n",
    " 计算条件熵\n",
    " 计算  信息增益=信息熵-条件熵"
   ]
  },
  {
   "cell_type": "code",
   "execution_count": 4,
   "metadata": {
    "collapsed": true
   },
   "outputs": [],
   "source": [
    "# 计算信息熵   pi log(pi,2)\n",
    "def calcShannonEnt(dataset):\n",
    "    shannonEnt=0.0\n",
    "    num=len(dataset)\n",
    "    #字典\n",
    "    labelCounts={}  # {'yes':2,'no':3}\n",
    "    for item in dataset:\n",
    "        label=item[-1]\n",
    "        if label not in labelCounts:  #在字典中这个label是否存在\n",
    "            labelCounts[label]=0\n",
    "        labelCounts[label]+=1\n",
    "    \n",
    "    #计算熵\n",
    "    for key in labelCounts:\n",
    "        p=float(labelCounts[key]/num)\n",
    "        shannonEnt -= p*log(p,2)\n",
    "    return shannonEnt"
   ]
  },
  {
   "cell_type": "code",
   "execution_count": 5,
   "metadata": {},
   "outputs": [
    {
     "name": "stdout",
     "output_type": "stream",
     "text": [
      "整个数据集的信息熵： 1.0\n",
      "整个数据集的信息熵： 1.4056390622295662\n"
     ]
    }
   ],
   "source": [
    "#测试这个数据集的熵\n",
    "shan=calcShannonEnt(dataset)\n",
    "print('整个数据集的信息熵：',shan)\n",
    "'''\n",
    "熵越高说明信息混合的数据越多\n",
    "'''\n",
    "#追加一个分类\n",
    "dataset[7][-1]='不确定'\n",
    "shan=calcShannonEnt(dataset)\n",
    "print('整个数据集的信息熵：',shan)"
   ]
  },
  {
   "cell_type": "code",
   "execution_count": 5,
   "metadata": {},
   "outputs": [
    {
     "name": "stdout",
     "output_type": "stream",
     "text": [
      "[[1, 'yes'], [1, 'yes'], [0, 'yes']]\n",
      "[[1, 'no'], [1, 'no'], [0, 'no'], [0, 'yes'], [0, 'no']]\n",
      "[[1, 'yes'], [1, 'yes'], [0, 'no'], [0, 'no']]\n",
      "[[1, 'yes'], [0, 'no'], [0, 'yes'], [0, 'no']]\n"
     ]
    }
   ],
   "source": [
    "\n",
    "'''\n",
    "另一种 度量信息无序程度的方法是gini  它指的是从一个数据集中随机选取一个子项，度量其被错误分类其他分组的概率\n",
    "\n",
    "条件   axis:0        value=1\n",
    "返回   [[1,'yes'],[1,'yes']]\n",
    "\n",
    "条件   axis:0        value=1\n",
    "\n",
    "\n",
    "条件   axis:0        value=1\n",
    "\n",
    "\n",
    "条件   axis:0        value=1\n",
    "\n",
    "\n",
    "'''\n",
    "def splitDataSet(dataset,axis,value):\n",
    "    result=[]\n",
    "    for item in dataset:\n",
    "        if item[axis]==value:\n",
    "            r=item[:axis]+item[axis+1:]   # []+[1,'yes'] => [1,'yes']\n",
    "            result.append(r)\n",
    "    return result\n",
    "dataset,labels=createDataSet()\n",
    "\n",
    "result=splitDataSet(dataset,0,1)\n",
    "print(result)\n",
    "\n",
    "result=splitDataSet(dataset,0,0)\n",
    "print(result)\n",
    "\n",
    "result=splitDataSet(dataset,1,1)\n",
    "print(result)\n",
    "\n",
    "result=splitDataSet(dataset,1,0)\n",
    "print(result)"
   ]
  },
  {
   "cell_type": "code",
   "execution_count": 6,
   "metadata": {},
   "outputs": [
    {
     "name": "stdout",
     "output_type": "stream",
     "text": [
      "[1, 'yes']\n"
     ]
    }
   ],
   "source": [
    "itema=[1, 0, 'yes']\n",
    "print(itema[:1]+itema[2:])\n",
    "#print(dataset)"
   ]
  },
  {
   "cell_type": "code",
   "execution_count": 9,
   "metadata": {
    "collapsed": true
   },
   "outputs": [],
   "source": [
    "'''\n",
    "寻找最佳特征：\n",
    "    piH(Y|x=xi)\n",
    "'''\n",
    "def chooseBestFeatures(dataset):\n",
    "    #特征总数   2\n",
    "    numFeatures=len(dataset[0])-1  #标签不是特征  是结果\n",
    "    #计算信息熵  1\n",
    "    ent=calcShannonEnt(dataset)\n",
    "    #最佳特征列的信息熵  yi\n",
    "    bestGain=0.0\n",
    "    # 最佳特征号（0,1）\n",
    "    bestFeatureId=-1\n",
    "    #循环特征列\n",
    "    for i in range(numFeatures):  #for i in (0,1)\n",
    "        #取出每个特征所有可能的取值  去重\n",
    "        list1=[ line[i] for line in dataset]\n",
    "        uniqueValues=set( list1 )  #每一列去重后的值 \n",
    "        newEnt=0.0 #条件熵\n",
    "        for value in uniqueValues: #取值数目越多，即len(uniqueValues) 越大\n",
    "            #调用splitDataSet (列 ，set的值)  -》 得到子集\n",
    "            subDataSet=splitDataSet(dataset,i,value)\n",
    "            #计算概率\n",
    "            prob=len(subDataSet)/float(len(dataset))\n",
    "            #计算熵\n",
    "            newEnt+=prob*calcShannonEnt(subDataSet)\n",
    "        print('第',i,'列信息熵为：',newEnt)\n",
    "        gain=ent-newEnt\n",
    "        print('第',i,'列信息熵增yi为：',gain)\n",
    "        \n",
    "        if(gain>bestGain):\n",
    "            bestGain=gain\n",
    "            bestFeatureId=i\n",
    "    #计算增 yi\n",
    "    #比较取出最佳增 yi\n",
    "    return bestFeatureId"
   ]
  },
  {
   "cell_type": "code",
   "execution_count": 10,
   "metadata": {},
   "outputs": [
    {
     "name": "stdout",
     "output_type": "stream",
     "text": [
      "第 0 列信息熵为： 0.4512050593046014\n",
      "第 0 列信息熵增yi为： 0.5487949406953986\n",
      "第 1 列信息熵为： 1.0\n",
      "第 1 列信息熵增yi为： 0.0\n",
      "0\n"
     ]
    }
   ],
   "source": [
    "#测试 求出数据集中可用于切分的最好特征列\n",
    "dataset,labels=createDataSet()\n",
    "index=chooseBestFeatures(dataset)\n",
    "print(index)"
   ]
  },
  {
   "cell_type": "code",
   "execution_count": 14,
   "metadata": {
    "collapsed": true
   },
   "outputs": [],
   "source": [
    "#树的创建   树是一个字典的结构\n",
    "def createTree(dataset,labels):\n",
    "    #求出  dataset 中的样本所属的类别  递归的终止条件之一\n",
    "    classList=[example[-1]  for example in dataset]   #  ['yes', 'yes', 'yes', 'no', 'no', 'no', 'yes', 'no']\n",
    "    if classList.count(classList[0] )==len(dataset):\n",
    "        return classList[0]\n",
    "    \n",
    "    #选取最好的特征列来进行切分\n",
    "    bestFeat=chooseBestFeatures(dataset)  \n",
    "    if bestFeat < 0:\n",
    "        return None\n",
    "    \n",
    "    print('本轮最优特征的编号：',bestFeat)\n",
    "    #labels 中取出最优的名字\n",
    "    bestFeatLabel=labels[bestFeat]\n",
    "    print('本轮最优特征的特征列名：',bestFeatLabel)\n",
    "    \n",
    "    #穿件一个树 这里这可树用字典表示树\n",
    "    myTree={bestFeatLabel:{}}\n",
    "    #从labels 中删除  bestFeatLabel\n",
    "    del(labels[bestFeat])\n",
    "    \n",
    "    #取出最优列的值\n",
    "    featValues=[ example[bestFeat] for example in dataset]\n",
    "    #去重 \n",
    "    uniqueValue=set(featValues)\n",
    "    #根据bestFeat  及 uniqueValue 每个值来切分树的节点\n",
    "    for value in uniqueValue:\n",
    "        subLables=labels[:]\n",
    "        temp=splitDataSet(dataset,bestFeat,value)\n",
    "        \n",
    "        sonTree=createTree(temp,subLables)\n",
    "        myTree[bestFeatLabel][value]=sonTree\n",
    "    return myTree"
   ]
  },
  {
   "cell_type": "code",
   "execution_count": 15,
   "metadata": {},
   "outputs": [
    {
     "name": "stdout",
     "output_type": "stream",
     "text": [
      "第 0 列信息熵为： 0.4512050593046014\n",
      "第 0 列信息熵增yi为： 0.5487949406953986\n",
      "第 1 列信息熵为： 1.0\n",
      "第 1 列信息熵增yi为： 0.0\n",
      "本轮最优特征的编号： 0\n",
      "本轮最优特征的特征列名： 是否有房产\n",
      "第 0 列信息熵为： 0.5509775004326937\n",
      "第 0 列信息熵增yi为： 0.17095059445466865\n",
      "本轮最优特征的编号： 0\n",
      "本轮最优特征的特征列名： 是否有车\n"
     ]
    },
    {
     "data": {
      "text/plain": [
       "{'是否有房产': {0: {'是否有车': {0: None, 1: 'no'}}, 1: 'yes'}}"
      ]
     },
     "execution_count": 15,
     "metadata": {},
     "output_type": "execute_result"
    }
   ],
   "source": [
    "dataset,labels=createDataSet()\n",
    "tree=createTree(dataset,labels)\n",
    "tree"
   ]
  },
  {
   "cell_type": "code",
   "execution_count": null,
   "metadata": {
    "collapsed": true
   },
   "outputs": [],
   "source": []
  },
  {
   "cell_type": "code",
   "execution_count": 16,
   "metadata": {
    "collapsed": true
   },
   "outputs": [],
   "source": [
    "def classNum(classList):\n",
    "    '''\n",
    "    classList 分类的名称\n",
    "    '''\n",
    "    classCount={}\n",
    "    for label in classList:\n",
    "        classCount[label]=classCount.get(label,0)+1\n",
    "    #对字典进行排序\n",
    "    sortedClassCount=sorted( classCount.items(),key=operator.itemgetter(1),reverse=True)\n",
    "    return sortedClassCount[0][0]"
   ]
  },
  {
   "cell_type": "code",
   "execution_count": 19,
   "metadata": {},
   "outputs": [
    {
     "data": {
      "text/plain": [
       "'no'"
      ]
     },
     "execution_count": 19,
     "metadata": {},
     "output_type": "execute_result"
    }
   ],
   "source": [
    "classNum(['yes', 'yes', 'yes', 'no', 'no', 'no', 'no'])"
   ]
  },
  {
   "cell_type": "code",
   "execution_count": null,
   "metadata": {
    "collapsed": true
   },
   "outputs": [],
   "source": []
  },
  {
   "cell_type": "code",
   "execution_count": 20,
   "metadata": {
    "collapsed": true
   },
   "outputs": [],
   "source": [
    "#改进  加入剪枝类别  类别的取值不是按照第一个类别  而是按照数量\n",
    "\n",
    "\n",
    "def createTree(dataset,labels,deepth=0,max_features=None,max_deepth=None):\n",
    "    #求出  dataset 中的样本所属的类别  递归的终止条件之一\n",
    "    classList=[example[-1]  for example in dataset]   #  ['yes', 'yes', 'yes', 'no', 'no', 'no', 'yes', 'no']\n",
    "    \n",
    "    #增加终止条件\n",
    "    if classList.count(classList[0] )==len(dataset):\n",
    "        return classList[0]   \n",
    "       \n",
    "    #终止条件二   列中的取值种类  <= max_features 时\n",
    "    if max_features==None:\n",
    "        max_features=1\n",
    "        \n",
    "    if len(dataset[0])<=max_features:\n",
    "        return classNum(classList)\n",
    "    \n",
    "    if max_deepth!=None:\n",
    "        if deepth >=max_deepth:\n",
    "            return classNum(classList)\n",
    "        deepth+=1\n",
    "    \n",
    "    #选取最好的特征列来进行切分\n",
    "    bestFeat=chooseBestFeatures(dataset)  \n",
    "    if bestFeat < 0:\n",
    "        # return None   这个方法返回的值会有一定问题\n",
    "        return classNum(classList)\n",
    "    \n",
    "    print('本轮最优特征的编号：',bestFeat)\n",
    "    #labels 中取出最优的名字\n",
    "    bestFeatLabel=labels[bestFeat]\n",
    "    print('本轮最优特征的特征列名：',bestFeatLabel)\n",
    "    \n",
    "    #穿件一个树 这里这可树用字典表示树\n",
    "    myTree={bestFeatLabel:{}}\n",
    "    #从labels 中删除  bestFeatLabel\n",
    "    del(labels[bestFeat])\n",
    "    \n",
    "    #取出最优列的值\n",
    "    featValues=[ example[bestFeat] for example in dataset]\n",
    "    #去重 \n",
    "    uniqueValue=set(featValues)\n",
    "    #根据bestFeat  及 uniqueValue 每个值来切分树的节点\n",
    "    for value in uniqueValue:\n",
    "        subLables=labels[:]\n",
    "        temp=splitDataSet(dataset,bestFeat,value)\n",
    "        \n",
    "        sonTree=createTree(temp,subLables,deepth,max_features,max_deepth)\n",
    "        myTree[bestFeatLabel][value]=sonTree\n",
    "    return myTree"
   ]
  },
  {
   "cell_type": "code",
   "execution_count": 25,
   "metadata": {},
   "outputs": [
    {
     "name": "stdout",
     "output_type": "stream",
     "text": [
      "第 0 列信息熵为： 0.4512050593046014\n",
      "第 0 列信息熵增yi为： 0.5487949406953986\n",
      "第 1 列信息熵为： 1.0\n",
      "第 1 列信息熵增yi为： 0.0\n",
      "本轮最优特征的编号： 0\n",
      "本轮最优特征的特征列名： 是否有房产\n",
      "第 0 列信息熵为： 0.5509775004326937\n",
      "第 0 列信息熵增yi为： 0.17095059445466865\n",
      "本轮最优特征的编号： 0\n",
      "本轮最优特征的特征列名： 是否有车\n"
     ]
    },
    {
     "data": {
      "text/plain": [
       "{'是否有房产': {0: {'是否有车': {0: 'no', 1: 'no'}}, 1: 'yes'}}"
      ]
     },
     "execution_count": 25,
     "metadata": {},
     "output_type": "execute_result"
    }
   ],
   "source": [
    "dataset,labels=createDataSet()\n",
    "tree=createTree(dataset,labels,max_features=0,max_deepth=2)\n",
    "tree"
   ]
  },
  {
   "cell_type": "code",
   "execution_count": 28,
   "metadata": {
    "collapsed": true
   },
   "outputs": [],
   "source": [
    "def testClassify(tree,labels,testData):   #  0,1\n",
    "    #从树中找到第一个节点 看他是哪个列\n",
    "    firstkey=list(tree.keys())[0]\n",
    "    secondDict=tree[firstkey]\n",
    "    bestFeatIndex=labels.index(firstkey)\n",
    "    \n",
    "    #从testData 的这个列取值 1\n",
    "    value=testData[bestFeatIndex]\n",
    "    #再树中比对\n",
    "    sonTreeValue=secondDict[value]\n",
    "    if isinstance(sonTreeValue,dict):\n",
    "        classLable=testClassify(sonTreeValue,labels,testData)\n",
    "    else:\n",
    "        classLable=sonTreeValue\n",
    "    return classLable"
   ]
  },
  {
   "cell_type": "code",
   "execution_count": 30,
   "metadata": {},
   "outputs": [
    {
     "data": {
      "text/plain": [
       "'yes'"
      ]
     },
     "execution_count": 30,
     "metadata": {},
     "output_type": "execute_result"
    }
   ],
   "source": [
    "dataset,labels=createDataSet()\n",
    "testClassify(tree,labels,[1,1])"
   ]
  },
  {
   "cell_type": "code",
   "execution_count": 32,
   "metadata": {},
   "outputs": [
    {
     "name": "stdout",
     "output_type": "stream",
     "text": [
      "第 0 列信息熵为： 1.286691021718177\n",
      "第 0 列信息熵增yi为： 0.03939650364612124\n",
      "第 1 列信息熵为： 1.2865766899407325\n",
      "第 1 列信息熵增yi为： 0.039510835423565815\n",
      "第 2 列信息熵为： 0.9490822953528211\n",
      "第 2 列信息熵增yi为： 0.37700523001147723\n",
      "第 3 列信息熵为： 0.7772925846688997\n",
      "第 3 列信息熵增yi为： 0.5487949406953986\n",
      "本轮最优特征的编号： 3\n",
      "本轮最优特征的特征列名： tearRate\n",
      "第 0 列信息熵为： 1.3333333333333333\n",
      "第 0 列信息熵增yi为： 0.22125183600446618\n",
      "第 1 列信息熵为： 1.4591479170272446\n",
      "第 1 列信息熵增yi为： 0.09543725231055489\n",
      "第 2 列信息熵为： 0.7841591278514218\n",
      "第 2 列信息熵增yi为： 0.7704260414863776\n",
      "本轮最优特征的编号： 2\n",
      "本轮最优特征的特征列名： astigmatic\n",
      "第 0 列信息熵为： 0.6666666666666666\n",
      "第 0 列信息熵增yi为： 0.2516291673878229\n",
      "第 1 列信息熵为： 0.4591479170272448\n",
      "第 1 列信息熵增yi为： 0.4591479170272448\n",
      "本轮最优特征的编号： 1\n",
      "本轮最优特征的特征列名： presecript\n",
      "第 0 列信息熵为： 0.0\n",
      "第 0 列信息熵增yi为： 0.9182958340544896\n",
      "本轮最优特征的编号： 0\n",
      "本轮最优特征的特征列名： age\n",
      "第 0 列信息熵为： 0.3333333333333333\n",
      "第 0 列信息熵增yi为： 0.3166890883150208\n",
      "第 1 列信息熵为： 0.4591479170272448\n",
      "第 1 列信息熵增yi为： 0.19087450462110933\n",
      "本轮最优特征的编号： 0\n",
      "本轮最优特征的特征列名： age\n",
      "第 0 列信息熵为： 0.0\n",
      "第 0 列信息熵增yi为： 1.0\n",
      "本轮最优特征的编号： 0\n",
      "本轮最优特征的特征列名： presecript\n",
      "{'tearRate': {'reduced': 'no lenses', 'normal': {'astigmatic': {'yes': {'presecript': {'myope': 'hard', 'hyper': {'age': {'young': 'hard', 'presbyopic': 'no lenses', 'pre': 'no lenses'}}}}, 'no': {'age': {'young': 'soft', 'presbyopic': {'presecript': {'myope': 'no lenses', 'hyper': 'soft'}}, 'pre': 'soft'}}}}}}\n"
     ]
    }
   ],
   "source": [
    "#使用 以上代码测试 实现预测隐形眼镜  \n",
    "fr=open('lenses.txt')\n",
    "lenses=[line.strip().split('\\t')  for line in fr.readlines() ]\n",
    "lensesLabe=['age','presecript','astigmatic','tearRate']\n",
    "tree=createTree(lenses,lensesLabe)\n",
    "print(tree)"
   ]
  },
  {
   "cell_type": "code",
   "execution_count": 33,
   "metadata": {},
   "outputs": [
    {
     "data": {
      "text/plain": [
       "'hard'"
      ]
     },
     "execution_count": 33,
     "metadata": {},
     "output_type": "execute_result"
    }
   ],
   "source": [
    "lensesLabel=['age','presecript','astigmatic','tearRate']\n",
    "testClassify(tree,lensesLabel,['presbyopic','myope','yes','normal'])"
   ]
  },
  {
   "cell_type": "code",
   "execution_count": null,
   "metadata": {
    "collapsed": true
   },
   "outputs": [],
   "source": []
  }
 ],
 "metadata": {
  "kernelspec": {
   "display_name": "Python 3",
   "language": "python",
   "name": "python3"
  },
  "language_info": {
   "codemirror_mode": {
    "name": "ipython",
    "version": 3
   },
   "file_extension": ".py",
   "mimetype": "text/x-python",
   "name": "python",
   "nbconvert_exporter": "python",
   "pygments_lexer": "ipython3",
   "version": "3.6.2"
  }
 },
 "nbformat": 4,
 "nbformat_minor": 2
}
