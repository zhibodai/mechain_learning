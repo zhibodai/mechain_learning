{
 "cells": [
  {
   "cell_type": "markdown",
   "metadata": {},
   "source": [
    "# 寻找网站中新用户有可能成为付费用户的模型"
   ]
  },
  {
   "cell_type": "code",
   "execution_count": 1,
   "metadata": {
    "collapsed": true
   },
   "outputs": [],
   "source": [
    "my_data=[['slashdot','USA','yes',18,'None'],\n",
    "        ['google','France','yes',23,'Premium'],\n",
    "        ['digg','USA','yes',24,'Basic'],\n",
    "        ['kiwitobes','France','yes',23,'Basic'],\n",
    "        ['google','UK','no',21,'Premium'],\n",
    "        ['(direct)','New Zealand','no',12,'None'],\n",
    "        ['(direct)','UK','no',21,'Basic'],\n",
    "        ['google','USA','no',24,'Premium'],\n",
    "        ['slashdot','France','yes',19,'None'],\n",
    "        ['digg','USA','no',18,'None'],\n",
    "        ['google','UK','no',18,'None'],\n",
    "        ['kiwitobes','UK','no',19,'None'],\n",
    "        ['digg','New Zealand','yes',12,'Basic'],\n",
    "        ['slashdot','UK','no',21,'None'],\n",
    "        ['google','UK','yes',18,'Basic'],\n",
    "        ['kiwitobes','France','yes',19,'Basic']]"
   ]
  },
  {
   "cell_type": "code",
   "execution_count": 2,
   "metadata": {
    "collapsed": true
   },
   "outputs": [],
   "source": [
    "#决策树的节点    在上一个案例中是用字典表示\n",
    "class decisionnode:\n",
    "    def __init__(self,col=-1,value=None,results=None,tb=None,fb=None):\n",
    "        self.col=col  #待检验的判断条件所对应的列索引值\n",
    "        self.value=value  #为了使结果变为 TRUE  当前列必须匹配的值\n",
    "        self.results=results  #针对当前分枝的结果  它是一个字典，除叶节点外，其他结果上该值皆为None\n",
    "        self.tb=tb\n",
    "        self.fb=fb\n",
    "        "
   ]
  },
  {
   "cell_type": "code",
   "execution_count": 3,
   "metadata": {
    "collapsed": true
   },
   "outputs": [],
   "source": [
    "#  这里采用cart 算法（分类，回归） 它首先创建了一个根节点  然后通过评估表中所有待测变量从中选取最合适的变量对数据进行拆分"
   ]
  },
  {
   "cell_type": "code",
   "execution_count": 4,
   "metadata": {
    "collapsed": true
   },
   "outputs": [],
   "source": [
    "def divideset(rows,column,value):\n",
    "    split_function=None   #对于数值型数据及离散型数据  采用不同的回调来进行分隔数据操作\n",
    "    if isinstance(value,int) or isinstance(value,float):\n",
    "        split_function=lambda row:row[column] >=value   # split_function 实际上就是一个匿名函数\n",
    "    else:\n",
    "        split_function=lambda row:row[column]==value\n",
    "        \n",
    "    #使用这个函数来完成对rows中的数据的分隔\n",
    "    set1=[row for row in rows if split_function(row)]\n",
    "    set2=[row for row in rows if not split_function(row)]\n",
    "    return (set1,set2)"
   ]
  },
  {
   "cell_type": "code",
   "execution_count": 5,
   "metadata": {},
   "outputs": [
    {
     "name": "stdout",
     "output_type": "stream",
     "text": [
      "[['google', 'France', 'yes', 23, 'Premium'], ['google', 'UK', 'no', 21, 'Premium'], ['google', 'USA', 'no', 24, 'Premium'], ['google', 'UK', 'no', 18, 'None'], ['google', 'UK', 'yes', 18, 'Basic']]\n",
      "---------------\n",
      "[['slashdot', 'USA', 'yes', 18, 'None'], ['digg', 'USA', 'yes', 24, 'Basic'], ['kiwitobes', 'France', 'yes', 23, 'Basic'], ['(direct)', 'New Zealand', 'no', 12, 'None'], ['(direct)', 'UK', 'no', 21, 'Basic'], ['slashdot', 'France', 'yes', 19, 'None'], ['digg', 'USA', 'no', 18, 'None'], ['kiwitobes', 'UK', 'no', 19, 'None'], ['digg', 'New Zealand', 'yes', 12, 'Basic'], ['slashdot', 'UK', 'no', 21, 'None'], ['kiwitobes', 'France', 'yes', 19, 'Basic']]\n"
     ]
    }
   ],
   "source": [
    "#测试划分\n",
    "set1,set2=divideset(my_data,0,'google')\n",
    "\n",
    "print(set1)\n",
    "print('---------------')\n",
    "print(set2)"
   ]
  },
  {
   "cell_type": "code",
   "execution_count": 6,
   "metadata": {
    "collapsed": true
   },
   "outputs": [],
   "source": [
    "# 对每种可能的结果标签进行计数\n",
    "def uniquecount(rows):\n",
    "    result={}\n",
    "    for row in rows:\n",
    "        label=row[len(row)-1]\n",
    "        result[label]=result.get(label,0)+1\n",
    "    return result"
   ]
  },
  {
   "cell_type": "code",
   "execution_count": 7,
   "metadata": {},
   "outputs": [
    {
     "name": "stdout",
     "output_type": "stream",
     "text": [
      "{'None': 7, 'Premium': 3, 'Basic': 6}\n",
      "{'Premium': 3, 'None': 1, 'Basic': 1}\n"
     ]
    }
   ],
   "source": [
    "#测试\n",
    "print(uniquecount(my_data))\n",
    "print(uniquecount(divideset(my_data,0,'google')[0] ) )"
   ]
  },
  {
   "cell_type": "code",
   "execution_count": 8,
   "metadata": {
    "collapsed": true
   },
   "outputs": [],
   "source": [
    "#熵的算法\n",
    "from math import log\n",
    "def entropy(rows):\n",
    "    result=uniquecount(rows)\n",
    "    shannonEnt=0\n",
    "    #计算熵\n",
    "    for key in result.keys():\n",
    "        p=float(result[key]/len(rows) )\n",
    "        shannonEnt-=p*log(p,2)\n",
    "    return shannonEnt"
   ]
  },
  {
   "cell_type": "code",
   "execution_count": 9,
   "metadata": {},
   "outputs": [
    {
     "name": "stdout",
     "output_type": "stream",
     "text": [
      "0.9182958340544896\n",
      "1.5262349099495225\n"
     ]
    }
   ],
   "source": [
    "set1,set2=divideset(my_data,0,'digg')\n",
    "print(entropy(set1))\n",
    "print(entropy(set2))"
   ]
  },
  {
   "cell_type": "code",
   "execution_count": 10,
   "metadata": {
    "collapsed": true
   },
   "outputs": [],
   "source": [
    "#基尼系数 随机放置的数据出现于错误分类的概率\n",
    "#步骤：一结果出现的次数除以集合总行数来计算相应概率，然后把所有的概率值的乘积累加起来\n",
    "def giniimpurity(rows):\n",
    "    totalrows=len(rows)\n",
    "    result=uniquecount(rows)\n",
    "    impurity=0\n",
    "    for k1 in result.keys():\n",
    "        p1=float(result[k1])/totalrows\n",
    "        for k2 in result.keys():\n",
    "            if k1==k2:\n",
    "                continue\n",
    "            p2=float(result[k2])/totalrows\n",
    "            impurity+=p1*p2\n",
    "    return impurity"
   ]
  },
  {
   "cell_type": "code",
   "execution_count": 11,
   "metadata": {},
   "outputs": [
    {
     "name": "stdout",
     "output_type": "stream",
     "text": [
      "0.4444444444444444\n",
      "0.6390532544378699\n"
     ]
    }
   ],
   "source": [
    "set1,set2=divideset(my_data,0,'digg')\n",
    "print(giniimpurity(set1))\n",
    "print(giniimpurity(set2))"
   ]
  },
  {
   "cell_type": "code",
   "execution_count": 13,
   "metadata": {
    "collapsed": true
   },
   "outputs": [],
   "source": [
    "#构建树\n",
    "def buildTree2(rows,scoref=giniimpurity):\n",
    "    if len(rows)==0:\n",
    "        return decisionnode()\n",
    "    \n",
    "    current_score=scoref(rows)  #计算熵或者基尼的不纯度\n",
    "    \n",
    "    #用于划分最优特征的参数\n",
    "    best_gain=0.0\n",
    "    best_criteria=None\n",
    "    best_sets=None\n",
    "    \n",
    "    column_count=len(rows[0])-1  #列数\n",
    "    \n",
    "    #循环每个列号\n",
    "    for col in range(0,column_count):\n",
    "        column_values=set()   # [当前第col列的取值:1,当前第col列的取值:1,]\n",
    "        for row in rows:   #循环每一行  取出第 col 列的值 设置到字典中 将 value 设置为1\n",
    "            column_values.add(row[col])\n",
    "            \n",
    "        #按照第col列value切分数据集\n",
    "        for value in column_values:\n",
    "            (set1,set2)=divideset(rows,col,value)  #按照 col 列的value取值切分数据\n",
    "            \n",
    "            #计算信息增益\n",
    "            p=float(len(set1))/len(rows)\n",
    "\n",
    "            #current_score 没有切分的情况下  数据的混乱程度\n",
    "            gain=current_score-p*scoref(set1)-(1-p)*scoref(set2)\n",
    "            if gain>best_gain and len(set1)>0 and len(set2)>0:\n",
    "                best_gain=gain   #最佳信息增益\n",
    "                best_criteria=(col,value)  # 最优切分的列和值\n",
    "                best_sets=(set1,set2)   # 切分好的数据集\n",
    "                \n",
    "    #根据上面找到的最优列来递归切分数据集\n",
    "    if best_gain>0:\n",
    "        trueBranch=buildTree2(best_sets[0])\n",
    "        falseBranch=buildTree2(best_sets[1])\n",
    "        return decisionnode(col=best_criteria[0],value=best_criteria[1],tb=trueBranch,fb=falseBranch)\n",
    "    else:\n",
    "        return decisionnode(results=uniquecount(rows))"
   ]
  },
  {
   "cell_type": "code",
   "execution_count": 14,
   "metadata": {},
   "outputs": [
    {
     "data": {
      "text/plain": [
       "<__main__.decisionnode at 0x24f9fcd98d0>"
      ]
     },
     "execution_count": 14,
     "metadata": {},
     "output_type": "execute_result"
    }
   ],
   "source": [
    "tree=buildTree2(my_data)\n",
    "tree"
   ]
  },
  {
   "cell_type": "code",
   "execution_count": 15,
   "metadata": {
    "collapsed": true
   },
   "outputs": [],
   "source": [
    "#前序输出显示树\n",
    "def printtree(tree,indent=' '):\n",
    "    if tree.results !=None:\n",
    "        print( indent,str(tree.results) )\n",
    "    else:\n",
    "        print(indent,str(tree.col)+':'+str(tree.value)+'?')\n",
    "        \n",
    "        print(indent+'T->',)\n",
    "        printtree(tree.tb,indent+' ')\n",
    "        print(indent+'F->')\n",
    "        printtree(tree.fb,indent+' ')"
   ]
  },
  {
   "cell_type": "code",
   "execution_count": 16,
   "metadata": {},
   "outputs": [
    {
     "name": "stdout",
     "output_type": "stream",
     "text": [
      "  0:google?\n",
      " T->\n",
      "   3:21?\n",
      "  T->\n",
      "    {'Premium': 3}\n",
      "  F->\n",
      "    2:no?\n",
      "   T->\n",
      "     {'None': 1}\n",
      "   F->\n",
      "     {'Basic': 1}\n",
      " F->\n",
      "   0:slashdot?\n",
      "  T->\n",
      "    {'None': 3}\n",
      "  F->\n",
      "    2:yes?\n",
      "   T->\n",
      "     {'Basic': 4}\n",
      "   F->\n",
      "     3:21?\n",
      "    T->\n",
      "      {'Basic': 1}\n",
      "    F->\n",
      "      {'None': 3}\n"
     ]
    }
   ],
   "source": [
    "printtree(tree)"
   ]
  },
  {
   "cell_type": "code",
   "execution_count": 17,
   "metadata": {
    "collapsed": true
   },
   "outputs": [],
   "source": [
    "#分类\n",
    "def classify(observation,tree):\n",
    "    #如果有result 说明是叶节点直接取值\n",
    "    if tree.results !=None:\n",
    "        return tree.results\n",
    "    else:\n",
    "        v=observation[tree.col]\n",
    "        branch=None\n",
    "        if isinstance(v,int) or isinstance(v,float):\n",
    "            if v>=tree.value:\n",
    "                branch=tree.tb\n",
    "            else:\n",
    "                branch=tree.fb\n",
    "        else:\n",
    "            if v==tree.value:\n",
    "                branch=tree.tb\n",
    "            else:\n",
    "                branch=tree.fb\n",
    "        return classify(observation,branch)"
   ]
  },
  {
   "cell_type": "code",
   "execution_count": 18,
   "metadata": {},
   "outputs": [
    {
     "data": {
      "text/plain": [
       "{'Basic': 4}"
      ]
     },
     "execution_count": 18,
     "metadata": {},
     "output_type": "execute_result"
    }
   ],
   "source": [
    "classify(['(direct)','USA','yes',5],tree)"
   ]
  },
  {
   "cell_type": "code",
   "execution_count": null,
   "metadata": {
    "collapsed": true
   },
   "outputs": [],
   "source": []
  }
 ],
 "metadata": {
  "kernelspec": {
   "display_name": "Python 3",
   "language": "python",
   "name": "python3"
  },
  "language_info": {
   "codemirror_mode": {
    "name": "ipython",
    "version": 3
   },
   "file_extension": ".py",
   "mimetype": "text/x-python",
   "name": "python",
   "nbconvert_exporter": "python",
   "pygments_lexer": "ipython3",
   "version": "3.6.2"
  }
 },
 "nbformat": 4,
 "nbformat_minor": 2
}
