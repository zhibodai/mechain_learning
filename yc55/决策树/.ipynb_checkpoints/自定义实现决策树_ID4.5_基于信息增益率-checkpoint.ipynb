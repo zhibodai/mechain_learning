{
 "cells": [
  {
   "cell_type": "code",
   "execution_count": null,
   "metadata": {
    "collapsed": true
   },
   "outputs": [],
   "source": [
    "'''\n",
    "寻找最佳特征：\n",
    "    piH(Y|x=xi)\n",
    "'''\n",
    "def chooseBestFeatures(dataset):\n",
    "    #特征总数   2\n",
    "    numFeatures=len(dataset[0])-1  #标签不是特征  是结果\n",
    "    #计算信息熵  1\n",
    "    ent=calcShannonEnt(dataset)\n",
    "    #最佳特征列的信息熵  yi\n",
    "    bestGain=0.0\n",
    "    # 最佳特征号（0,1）\n",
    "    bestFeatureId=-1\n",
    "    #循环特征列\n",
    "    for i in range(numFeatures):  #for i in (0,1)\n",
    "        #取出每个特征所有可能的取值  去重\n",
    "        list1=[ line[i] for line in dataset]\n",
    "        uniqueValues=set( list1 )  #每一列去重后的值 \n",
    "        newEnt=0.0 #条件熵\n",
    "        \n",
    "        IV=0.0  #信息增益率的分母\n",
    "        \n",
    "        for value in uniqueValues: #取值数目越多，即len(uniqueValues) 越大\n",
    "            #调用splitDataSet (列 ，set的值)  -》 得到子集\n",
    "            subDataSet=splitDataSet(dataset,i,value)\n",
    "            #计算概率\n",
    "            prob=len(subDataSet)/float(len(dataset))\n",
    "            #计算熵\n",
    "            newEnt+=prob*calcShannonEnt(subDataSet)\n",
    "            \n",
    "            IV+=prob*log(prob,2)\n",
    "            \n",
    "        IV=-IV\n",
    "        print('第',i,'列信息熵为：',newEnt)\n",
    "        gain=ent-newEnt\n",
    "        print('第',i,'列信息熵增yi为：',gain)\n",
    "        \n",
    "        #计算这个列的信息增益率\n",
    "        gain_ratio=gain/IV\n",
    "        print('第',i,'列的信息增益率的分母IV是',IV)\n",
    "        print('第',i,'列的信息增益率是',gain_ratio)\n",
    "        \n",
    "        \n",
    "        if(gain_ratio>bestGain):\n",
    "            bestGain=gain_ratio\n",
    "            bestFeatureId=i\n",
    "    #计算增 yi\n",
    "    #比较取出最佳增 yi\n",
    "    return bestFeatureId"
   ]
  }
 ],
 "metadata": {
  "kernelspec": {
   "display_name": "Python 3",
   "language": "python",
   "name": "python3"
  },
  "language_info": {
   "codemirror_mode": {
    "name": "ipython",
    "version": 3
   },
   "file_extension": ".py",
   "mimetype": "text/x-python",
   "name": "python",
   "nbconvert_exporter": "python",
   "pygments_lexer": "ipython3",
   "version": "3.6.2"
  }
 },
 "nbformat": 4,
 "nbformat_minor": 2
}
