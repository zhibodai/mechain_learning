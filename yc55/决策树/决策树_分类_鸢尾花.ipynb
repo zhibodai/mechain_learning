{
 "cells": [
  {
   "cell_type": "code",
   "execution_count": 2,
   "metadata": {},
   "outputs": [
    {
     "name": "stderr",
     "output_type": "stream",
     "text": [
      "C:\\ProgramData\\Anaconda3\\lib\\site-packages\\sklearn\\cross_validation.py:41: DeprecationWarning: This module was deprecated in version 0.18 in favor of the model_selection module into which all the refactored classes and functions are moved. Also note that the interface of the new CV iterators are different from that of this module. This module will be removed in 0.20.\n",
      "  \"This module will be removed in 0.20.\", DeprecationWarning)\n"
     ]
    }
   ],
   "source": [
    "import numpy as np\n",
    "from sklearn.tree import DecisionTreeClassifier\n",
    "from sklearn import datasets\n",
    "from sklearn import cross_validation\n",
    "import matplotlib.pyplot as plt"
   ]
  },
  {
   "cell_type": "code",
   "execution_count": 3,
   "metadata": {
    "collapsed": true
   },
   "outputs": [],
   "source": [
    "def load_data():\n",
    "    '''\n",
    "    加载分类的数据集  鸢尾花\n",
    "    '''\n",
    "    iris=datasets.load_iris()\n",
    "    X=iris.data\n",
    "    y=iris.target\n",
    "    return cross_validation.train_test_split(X,y,test_size=0.25,random_state=0,stratify=y)"
   ]
  },
  {
   "cell_type": "code",
   "execution_count": 4,
   "metadata": {},
   "outputs": [
    {
     "data": {
      "text/plain": [
       "array([1, 0, 0, 1, 2, 2, 1, 0, 1, 0, 0, 1, 0, 2, 0, 1, 1, 1, 1, 2, 2, 1, 0,\n",
       "       2, 2, 2, 2, 1, 1, 2, 2, 2, 1, 0, 0, 2, 2, 1, 1, 2, 2, 0, 0, 1, 0, 1,\n",
       "       2, 0, 0, 2, 1, 2, 1, 0, 0, 0, 0, 2, 0, 1, 1, 1, 2, 0, 1, 1, 0, 1, 2,\n",
       "       1, 2, 0, 1, 2, 2, 1, 2, 0, 1, 0, 0, 2, 1, 2, 0, 0, 0, 0, 0, 1, 2, 2,\n",
       "       2, 0, 2, 0, 2, 0, 1, 1, 1, 1, 0, 2, 2, 0, 1, 1, 0, 2, 2, 2])"
      ]
     },
     "execution_count": 4,
     "metadata": {},
     "output_type": "execute_result"
    }
   ],
   "source": [
    "X_train,X_test,y_train,y_test=load_data()\n",
    "y_train"
   ]
  },
  {
   "cell_type": "code",
   "execution_count": 5,
   "metadata": {
    "collapsed": true
   },
   "outputs": [],
   "source": [
    "from sklearn.metrics import f1_score,precision_score,recall_score,accuracy_score,classification_report\n",
    "\n",
    "def test_DecisionTreeClassifier(*data):\n",
    "    '''\n",
    "    DecisionTreeClassifier  测试它的用法\n",
    "    :param   data:可变参数  是一个元祖  这里要求其元素依次为 训练样本集 测试样本集 训练样本标记  测试样本标记\n",
    "    '''\n",
    "    X_train,X_test,y_train,y_test=data\n",
    "    clf = DecisionTreeClassifier()\n",
    "    clf.fit(X_train,y_train)\n",
    "    \n",
    "    y_predict=clf.predict(X_test)\n",
    "    \n",
    "    print('Training score:%f'%(clf.score(X_train,y_train) ) )\n",
    "    print('Testing score:%f'%(clf.score(X_test,y_test) ) )\n",
    "    \n",
    "    print( classification_report(y_test,y_predict))"
   ]
  },
  {
   "cell_type": "code",
   "execution_count": 6,
   "metadata": {},
   "outputs": [
    {
     "name": "stdout",
     "output_type": "stream",
     "text": [
      "Training score:1.000000\n",
      "Testing score:0.947368\n",
      "             precision    recall  f1-score   support\n",
      "\n",
      "          0       1.00      1.00      1.00        13\n",
      "          1       0.87      1.00      0.93        13\n",
      "          2       1.00      0.83      0.91        12\n",
      "\n",
      "avg / total       0.95      0.95      0.95        38\n",
      "\n"
     ]
    }
   ],
   "source": [
    "test_DecisionTreeClassifier(X_train,X_test,y_train,y_test)"
   ]
  },
  {
   "cell_type": "code",
   "execution_count": 8,
   "metadata": {},
   "outputs": [
    {
     "name": "stdout",
     "output_type": "stream",
     "text": [
      "criterion:gini\n",
      "Training score:1.000000\n",
      "Testing score:0.947368\n",
      "             precision    recall  f1-score   support\n",
      "\n",
      "          0       1.00      1.00      1.00        13\n",
      "          1       0.87      1.00      0.93        13\n",
      "          2       1.00      0.83      0.91        12\n",
      "\n",
      "avg / total       0.95      0.95      0.95        38\n",
      "\n",
      "criterion:entropy\n",
      "Training score:1.000000\n",
      "Testing score:0.921053\n",
      "             precision    recall  f1-score   support\n",
      "\n",
      "          0       1.00      1.00      1.00        13\n",
      "          1       0.86      0.92      0.89        13\n",
      "          2       0.91      0.83      0.87        12\n",
      "\n",
      "avg / total       0.92      0.92      0.92        38\n",
      "\n"
     ]
    }
   ],
   "source": [
    "def test_DecisionTreeClassifier_criterion(*data):\n",
    "    '''\n",
    "    DecisionTreeClassifier  预测性能随 criterion 参数的影响\n",
    "    衡量分类的质量  支持的标准有 'gini'（不纯度） 代表的是 gini impurity 与 entropy (信息增益)\n",
    "    \n",
    "    \n",
    "    '''\n",
    "    X_train,X_test,y_train,y_test=data\n",
    "    criterions=['gini','entropy']\n",
    "    for criterion in criterions:\n",
    "        clf=DecisionTreeClassifier(criterion=criterion)\n",
    "        clf.fit(X_train,y_train)\n",
    "        y_predict=clf.predict(X_test)\n",
    "        \n",
    "        print('criterion:%s'%criterion)\n",
    "        print('Training score:%f'%(clf.score(X_train,y_train) ) )\n",
    "        print('Testing score:%f'%(clf.score(X_test,y_test) ) )\n",
    "        print( classification_report(y_test,y_predict))\n",
    "        \n",
    "test_DecisionTreeClassifier_criterion(X_train,X_test,y_train,y_test)"
   ]
  },
  {
   "cell_type": "code",
   "execution_count": 9,
   "metadata": {},
   "outputs": [
    {
     "name": "stdout",
     "output_type": "stream",
     "text": [
      "criterion:best\n",
      "Training score:1.000000\n",
      "Testing score:0.973684\n",
      "             precision    recall  f1-score   support\n",
      "\n",
      "          0       1.00      1.00      1.00        13\n",
      "          1       0.93      1.00      0.96        13\n",
      "          2       1.00      0.92      0.96        12\n",
      "\n",
      "avg / total       0.98      0.97      0.97        38\n",
      "\n",
      "criterion:random\n",
      "Training score:1.000000\n",
      "Testing score:0.973684\n",
      "             precision    recall  f1-score   support\n",
      "\n",
      "          0       1.00      1.00      1.00        13\n",
      "          1       0.93      1.00      0.96        13\n",
      "          2       1.00      0.92      0.96        12\n",
      "\n",
      "avg / total       0.98      0.97      0.97        38\n",
      "\n"
     ]
    }
   ],
   "source": [
    "def test_DecisionTreeClassifier_splitter(*data):\n",
    "    '''\n",
    "    DecisionTreeClassifier  预测性能随 划分类型 的影响\n",
    "    splitters     一种用来在节点中选择分类的策略   支持的策略有 best 选择最好的分类  random 选择最好的随机分类\n",
    "    '''\n",
    "    X_train,X_test,y_train,y_test=data\n",
    "    splitters=['best','random']\n",
    "    for splitter in splitters:\n",
    "        clf=DecisionTreeClassifier(splitter=splitter)\n",
    "        clf.fit(X_train,y_train)\n",
    "        y_predict=clf.predict(X_test)\n",
    "        \n",
    "        print('criterion:%s'%splitter)\n",
    "        print('Training score:%f'%(clf.score(X_train,y_train) ) )\n",
    "        print('Testing score:%f'%(clf.score(X_test,y_test) ) )\n",
    "        print( classification_report(y_test,y_predict))\n",
    "        \n",
    "test_DecisionTreeClassifier_splitter(X_train,X_test,y_train,y_test)"
   ]
  },
  {
   "cell_type": "code",
   "execution_count": 10,
   "metadata": {},
   "outputs": [
    {
     "data": {
      "image/png": "[encoded data removed]",
      "text/plain": [
       "<matplotlib.figure.Figure at 0x21ecdeb52e8>"
      ]
     },
     "metadata": {},
     "output_type": "display_data"
    }
   ],
   "source": [
    "def test_DecisionTreeClassifier_depth(*data,maxdepth):\n",
    "    '''\n",
    "    DecisionTreeClassifier  预测性能随 maxdepth 的影响\n",
    "     表示数的最大深度 如果是None 则节点会一直扩展到所有的叶子都是纯的或者所有的叶子节点都包含少于\n",
    "    \n",
    "    maxdepth    一个整数  用于 DecisionTreeClassifier 的 max_depth 参数\n",
    "    '''\n",
    "    X_train,X_test,y_train,y_test=data\n",
    "    depths=np.arange(1,maxdepth)\n",
    "    training_scores=[]\n",
    "    testing_scores=[]\n",
    "    for depth in depths:\n",
    "        clf=DecisionTreeClassifier(max_depth=depth)\n",
    "        clf.fit(X_train,y_train)\n",
    "        training_scores.append(clf.score(X_train,y_train))\n",
    "        testing_scores.append(clf.score(X_test,y_test))\n",
    "    \n",
    "    # 绘图\n",
    "    fig=plt.figure()\n",
    "    ax=fig.add_subplot(1,1,1)\n",
    "    ax.plot(depths,training_scores,label='train Score',marker='o')\n",
    "    ax.plot(depths,testing_scores,label='test Score',marker='*')\n",
    "    ax.set_xlabel('maxdepth')\n",
    "    ax.set_ylabel('score')\n",
    "    ax.set_title('Decision  Tree  Classifier')\n",
    "    ax.legend(framealpha=0.5,loc='best')\n",
    "    plt.show()\n",
    "    \n",
    "test_DecisionTreeClassifier_depth(X_train,X_test,y_train,y_test,maxdepth=10)"
   ]
  },
  {
   "cell_type": "code",
   "execution_count": null,
   "metadata": {
    "collapsed": true
   },
   "outputs": [],
   "source": []
  }
 ],
 "metadata": {
  "kernelspec": {
   "display_name": "Python 3",
   "language": "python",
   "name": "python3"
  },
  "language_info": {
   "codemirror_mode": {
    "name": "ipython",
    "version": 3
   },
   "file_extension": ".py",
   "mimetype": "text/x-python",
   "name": "python",
   "nbconvert_exporter": "python",
   "pygments_lexer": "ipython3",
   "version": "3.6.2"
  }
 },
 "nbformat": 4,
 "nbformat_minor": 2
}
