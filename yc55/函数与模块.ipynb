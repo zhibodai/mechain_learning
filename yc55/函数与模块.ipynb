{
 "cells": [
  {
   "cell_type": "raw",
   "metadata": {},
   "source": [
    "函数的作用：模块的内聚性，降低模块的耦合\n",
    "\n",
    "高内聚 低耦合\n",
    "注意点：1.减少对函数的修改 2.符合纯函数式编程的要求，线程安全，并且运行  '''''' 语法：def 函数名([参数列表]):\n",
    "          '''函数体''' 函数声明 注意事项 1.形象不需要类型，也不能指明返回值 类型\n",
    "           2.没有参数也要有括号\n",
    "           3.括号后面的冒号不能少\n",
    "           4.函数体必须缩进\n",
    "           5.python允许嵌套声明函数"
   ]
  },
  {
   "cell_type": "code",
   "execution_count": 1,
   "metadata": {},
   "outputs": [
    {
     "name": "stdout",
     "output_type": "stream",
     "text": [
      "1,1,2,3,5,8,\n"
     ]
    }
   ],
   "source": [
    "def fib(n):\n",
    "    '''\n",
    "    fib数列\n",
    "    '''\n",
    "    a,b=1,1\n",
    "    while a<n:\n",
    "        print(a,end=',')\n",
    "        a,b=b,a+b\n",
    "    print()\n",
    "\n",
    "fib( 10 )"
   ]
  },
  {
   "cell_type": "code",
   "execution_count": 2,
   "metadata": {},
   "outputs": [
    {
     "ename": "AttributeError",
     "evalue": "'function' object has no attribute 'x'",
     "output_type": "error",
     "traceback": [
      "\u001b[1;31m---------------------------------------------------------------------------\u001b[0m",
      "\u001b[1;31mAttributeError\u001b[0m                            Traceback (most recent call last)",
      "\u001b[1;32m<ipython-input-2-400d9fa91c12>\u001b[0m in \u001b[0;36m<module>\u001b[1;34m()\u001b[0m\n\u001b[0;32m      2\u001b[0m \u001b[1;32mdef\u001b[0m \u001b[0mfunc\u001b[0m\u001b[1;33m(\u001b[0m\u001b[1;33m)\u001b[0m\u001b[1;33m:\u001b[0m\u001b[1;33m\u001b[0m\u001b[0m\n\u001b[0;32m      3\u001b[0m     \u001b[0mprint\u001b[0m\u001b[1;33m(\u001b[0m\u001b[0mfunc\u001b[0m\u001b[1;33m.\u001b[0m\u001b[0mx\u001b[0m\u001b[1;33m)\u001b[0m\u001b[1;33m\u001b[0m\u001b[0m\n\u001b[1;32m----> 4\u001b[1;33m \u001b[0mfunc\u001b[0m\u001b[1;33m(\u001b[0m\u001b[1;33m)\u001b[0m \u001b[1;31m#这时 func是没有x属性\u001b[0m\u001b[1;33m\u001b[0m\u001b[0m\n\u001b[0m",
      "\u001b[1;32m<ipython-input-2-400d9fa91c12>\u001b[0m in \u001b[0;36mfunc\u001b[1;34m()\u001b[0m\n\u001b[0;32m      1\u001b[0m \u001b[1;31m# python 函数和自定义对象 可以随时变 即可以动态的增加成员\u001b[0m\u001b[1;33m\u001b[0m\u001b[1;33m\u001b[0m\u001b[0m\n\u001b[0;32m      2\u001b[0m \u001b[1;32mdef\u001b[0m \u001b[0mfunc\u001b[0m\u001b[1;33m(\u001b[0m\u001b[1;33m)\u001b[0m\u001b[1;33m:\u001b[0m\u001b[1;33m\u001b[0m\u001b[0m\n\u001b[1;32m----> 3\u001b[1;33m     \u001b[0mprint\u001b[0m\u001b[1;33m(\u001b[0m\u001b[0mfunc\u001b[0m\u001b[1;33m.\u001b[0m\u001b[0mx\u001b[0m\u001b[1;33m)\u001b[0m\u001b[1;33m\u001b[0m\u001b[0m\n\u001b[0m\u001b[0;32m      4\u001b[0m \u001b[0mfunc\u001b[0m\u001b[1;33m(\u001b[0m\u001b[1;33m)\u001b[0m \u001b[1;31m#这时 func是没有x属性\u001b[0m\u001b[1;33m\u001b[0m\u001b[0m\n",
      "\u001b[1;31mAttributeError\u001b[0m: 'function' object has no attribute 'x'"
     ]
    }
   ],
   "source": [
    "# python 函数和自定义对象 可以随时变 即可以动态的增加成员\n",
    "def func():\n",
    "    print(func.x)\n",
    "func() #这时 func是没有x属性"
   ]
  },
  {
   "cell_type": "code",
   "execution_count": 3,
   "metadata": {},
   "outputs": [
    {
     "name": "stdout",
     "output_type": "stream",
     "text": [
      "3\n"
     ]
    }
   ],
   "source": [
    "func.x=3\n",
    "func()"
   ]
  },
  {
   "cell_type": "code",
   "execution_count": 4,
   "metadata": {},
   "outputs": [
    {
     "data": {
      "text/plain": [
       "3"
      ]
     },
     "execution_count": 4,
     "metadata": {},
     "output_type": "execute_result"
    }
   ],
   "source": [
    "func.x"
   ]
  },
  {
   "cell_type": "code",
   "execution_count": 5,
   "metadata": {},
   "outputs": [
    {
     "ename": "AttributeError",
     "evalue": "'function' object has no attribute 'x'",
     "output_type": "error",
     "traceback": [
      "\u001b[1;31m---------------------------------------------------------------------------\u001b[0m",
      "\u001b[1;31mAttributeError\u001b[0m                            Traceback (most recent call last)",
      "\u001b[1;32m<ipython-input-5-4bcaeba128b2>\u001b[0m in \u001b[0;36m<module>\u001b[1;34m()\u001b[0m\n\u001b[0;32m      1\u001b[0m \u001b[1;32mdel\u001b[0m \u001b[0mfunc\u001b[0m\u001b[1;33m.\u001b[0m\u001b[0mx\u001b[0m\u001b[1;33m\u001b[0m\u001b[0m\n\u001b[1;32m----> 2\u001b[1;33m \u001b[0mfunc\u001b[0m\u001b[1;33m(\u001b[0m\u001b[1;33m)\u001b[0m\u001b[1;33m\u001b[0m\u001b[0m\n\u001b[0m",
      "\u001b[1;32m<ipython-input-2-400d9fa91c12>\u001b[0m in \u001b[0;36mfunc\u001b[1;34m()\u001b[0m\n\u001b[0;32m      1\u001b[0m \u001b[1;31m# python 函数和自定义对象 可以随时变 即可以动态的增加成员\u001b[0m\u001b[1;33m\u001b[0m\u001b[1;33m\u001b[0m\u001b[0m\n\u001b[0;32m      2\u001b[0m \u001b[1;32mdef\u001b[0m \u001b[0mfunc\u001b[0m\u001b[1;33m(\u001b[0m\u001b[1;33m)\u001b[0m\u001b[1;33m:\u001b[0m\u001b[1;33m\u001b[0m\u001b[0m\n\u001b[1;32m----> 3\u001b[1;33m     \u001b[0mprint\u001b[0m\u001b[1;33m(\u001b[0m\u001b[0mfunc\u001b[0m\u001b[1;33m.\u001b[0m\u001b[0mx\u001b[0m\u001b[1;33m)\u001b[0m\u001b[1;33m\u001b[0m\u001b[0m\n\u001b[0m\u001b[0;32m      4\u001b[0m \u001b[0mfunc\u001b[0m\u001b[1;33m(\u001b[0m\u001b[1;33m)\u001b[0m \u001b[1;31m#这时 func是没有x属性\u001b[0m\u001b[1;33m\u001b[0m\u001b[0m\n",
      "\u001b[1;31mAttributeError\u001b[0m: 'function' object has no attribute 'x'"
     ]
    }
   ],
   "source": [
    "del func.x\n",
    "func()"
   ]
  },
  {
   "cell_type": "code",
   "execution_count": 7,
   "metadata": {},
   "outputs": [
    {
     "name": "stdout",
     "output_type": "stream",
     "text": [
      "1908066096 : 3\n",
      "1908066096 : 3\n",
      "1908066128 : 4\n"
     ]
    }
   ],
   "source": [
    "#python 中的函数调用传参的实参  是引用传递\n",
    "def addOne( a ): #形参\n",
    "    print( id(a),':',a)\n",
    "    a=a+1\n",
    "    print( id(a),':',a)\n",
    "\n",
    "x=3\n",
    "print( id(x),':',x)\n",
    "addOne(x)\n"
   ]
  },
  {
   "cell_type": "code",
   "execution_count": 8,
   "metadata": {},
   "outputs": [
    {
     "name": "stdout",
     "output_type": "stream",
     "text": [
      "[3, 3, 6]\n"
     ]
    }
   ],
   "source": [
    "#在python的函数中修改实参的值 则需传递 可变序列（高级对象）\n",
    "def modify(l): # l引用\n",
    "    l[0]=l[0]+1\n",
    "    l.append(6)\n",
    "    \n",
    "a=[2,3]\n",
    "modify(a)\n",
    "print(a)"
   ]
  },
  {
   "cell_type": "code",
   "execution_count": 9,
   "metadata": {},
   "outputs": [
    {
     "name": "stdout",
     "output_type": "stream",
     "text": [
      "{'name': '爸爸', 'age': 20}\n"
     ]
    }
   ],
   "source": [
    "def modify(l): #dict是一个可变序列\n",
    "    l['age']=20\n",
    "    \n",
    "age={'name':'爸爸','age':11}\n",
    "modify(age)\n",
    "print(age)"
   ]
  },
  {
   "cell_type": "code",
   "execution_count": 10,
   "metadata": {},
   "outputs": [
    {
     "data": {
      "text/plain": [
       "6"
      ]
     },
     "execution_count": 10,
     "metadata": {},
     "output_type": "execute_result"
    }
   ],
   "source": [
    "'''\n",
    "函数参数：普通 参数  默认值参数  关键字参数  可变长度参数\n",
    "函数参数无须指定类型，由解释器推断\n",
    "'''\n",
    "#以下代码ok  但毫无意义\n",
    "def test(x:int,y:int)->int:\n",
    "    z=x+y\n",
    "    return z\n",
    "test(1,5)"
   ]
  },
  {
   "cell_type": "code",
   "execution_count": 11,
   "metadata": {},
   "outputs": [
    {
     "data": {
      "text/plain": [
       "6"
      ]
     },
     "execution_count": 11,
     "metadata": {},
     "output_type": "execute_result"
    }
   ],
   "source": [
    "def test(x,y):\n",
    "    return x+y\n",
    "test(1,5)"
   ]
  },
  {
   "cell_type": "code",
   "execution_count": 12,
   "metadata": {},
   "outputs": [
    {
     "name": "stdout",
     "output_type": "stream",
     "text": [
      "1 2 3\n"
     ]
    }
   ],
   "source": [
    "#1.位置参数：调用函数时 实参与形参的顺序一样，数量相同\n",
    "def demo(a,b,c):\n",
    "    print(a,b,c)\n",
    "demo(1,2,3)"
   ]
  },
  {
   "cell_type": "code",
   "execution_count": 13,
   "metadata": {},
   "outputs": [
    {
     "name": "stdout",
     "output_type": "stream",
     "text": [
      "hello\n"
     ]
    }
   ],
   "source": [
    "# 2.默认值参数\n",
    "def say(message,times=1):\n",
    "    print(message*times)\n",
    "say('hello')"
   ]
  },
  {
   "cell_type": "code",
   "execution_count": 14,
   "metadata": {},
   "outputs": [
    {
     "name": "stdout",
     "output_type": "stream",
     "text": [
      "hellohellohellohello\n"
     ]
    }
   ],
   "source": [
    "say('hello',4)"
   ]
  },
  {
   "cell_type": "code",
   "execution_count": 16,
   "metadata": {},
   "outputs": [
    {
     "name": "stdout",
     "output_type": "stream",
     "text": [
      "123\n",
      "1 2 3\n"
     ]
    }
   ],
   "source": [
    "l1='123'\n",
    "print(l1)\n",
    "print(\" \".join(l1))"
   ]
  },
  {
   "cell_type": "code",
   "execution_count": 18,
   "metadata": {},
   "outputs": [
    {
     "data": {
      "text/plain": [
       "'无语 弱智 白痴'"
      ]
     },
     "execution_count": 18,
     "metadata": {},
     "output_type": "execute_result"
    }
   ],
   "source": [
    "def myjoin(l1,sep=None ):\n",
    "    return (sep or ' ').join(l1)\n",
    "l1=['无语','弱智','白痴']\n",
    "myjoin(l1)    "
   ]
  },
  {
   "cell_type": "code",
   "execution_count": 19,
   "metadata": {},
   "outputs": [
    {
     "ename": "SyntaxError",
     "evalue": "non-default argument follows default argument (<ipython-input-19-1c7bee6b09c3>, line 2)",
     "output_type": "error",
     "traceback": [
      "\u001b[1;36m  File \u001b[1;32m\"<ipython-input-19-1c7bee6b09c3>\"\u001b[1;36m, line \u001b[1;32m2\u001b[0m\n\u001b[1;33m    def func(a=3,b,c):\u001b[0m\n\u001b[1;37m            ^\u001b[0m\n\u001b[1;31mSyntaxError\u001b[0m\u001b[1;31m:\u001b[0m non-default argument follows default argument\n"
     ]
    }
   ],
   "source": [
    "#注意  默认值参数只能放在最后一位\n",
    "def func(a=3,b,c):\n",
    "    print(a,b,c)"
   ]
  },
  {
   "cell_type": "code",
   "execution_count": 20,
   "metadata": {},
   "outputs": [
    {
     "name": "stdout",
     "output_type": "stream",
     "text": [
      "1 2 5\n"
     ]
    }
   ],
   "source": [
    "#以上的默认值参数是指形参的形式\n",
    "#与此相对，有一个关键字参数 ->实参\n",
    "def demo(a,b,c=5):\n",
    "    print(a,b,c)\n",
    "demo(1,2)"
   ]
  },
  {
   "cell_type": "code",
   "execution_count": 21,
   "metadata": {},
   "outputs": [
    {
     "name": "stdout",
     "output_type": "stream",
     "text": [
      "1 5 6\n"
     ]
    }
   ],
   "source": [
    "demo(b=5,a=1,c=6)  #实参通过名字调用   这个实参就叫关键字参数   顺序可以与定义的顺序不同"
   ]
  },
  {
   "cell_type": "code",
   "execution_count": null,
   "metadata": {
    "collapsed": true
   },
   "outputs": [],
   "source": [
    "#可变长度参数  实参的参数值  长度不固定\n",
    "# 形式： *参数名   **参数名\n",
    "#  *参数名  接受多个参数存到一个元组中\n",
    "#  **参数名  接受多个参数存到一个字典中\n",
    "def demo( *p):  # int x...\n",
    "    print(p)\n",
    "    "
   ]
  },
  {
   "cell_type": "code",
   "execution_count": null,
   "metadata": {
    "collapsed": true
   },
   "outputs": [],
   "source": []
  },
  {
   "cell_type": "code",
   "execution_count": 1,
   "metadata": {
    "collapsed": true
   },
   "outputs": [],
   "source": [
    "#高阶函数 ：str()  \n",
    "# map(function,iterable,...)  映射  内置函数map() 可以将一个函数作用到一个序列或迭代器对象上\n",
    "m=map( str,range(5) )  #生成器对象 惰性"
   ]
  },
  {
   "cell_type": "code",
   "execution_count": 2,
   "metadata": {},
   "outputs": [
    {
     "name": "stdout",
     "output_type": "stream",
     "text": [
      "<generator object mymap at 0x0000021429F25620>\n",
      "['1', '2', '3', '4', '5', 5]\n"
     ]
    }
   ],
   "source": [
    "def mymap(func,ite):\n",
    "    for item in ite:\n",
    "        if func:\n",
    "            yield func(item)  #yield产生  他不会立即运行  return\n",
    "        else:\n",
    "            yield item\n",
    "print( mymap(str,[1,2,3,4,5]) )\n",
    "l=list( mymap(str,[1,2,3,4,5]) )\n",
    "print(l)"
   ]
  },
  {
   "cell_type": "code",
   "execution_count": 3,
   "metadata": {},
   "outputs": [
    {
     "data": {
      "text/plain": [
       "['0', '1', '2', '3', '4']"
      ]
     },
     "execution_count": 3,
     "metadata": {},
     "output_type": "execute_result"
    }
   ],
   "source": [
    "list( map(str,range(5)) )"
   ]
  },
  {
   "cell_type": "code",
   "execution_count": 4,
   "metadata": {},
   "outputs": [
    {
     "data": {
      "text/plain": [
       "[5, 6, 7, 8, 9, 10, 11, 12, 13, 14]"
      ]
     },
     "execution_count": 4,
     "metadata": {},
     "output_type": "execute_result"
    }
   ],
   "source": [
    "def add(value):\n",
    "    return  value+5\n",
    "list( map(add,range(10) ) )"
   ]
  },
  {
   "cell_type": "code",
   "execution_count": 5,
   "metadata": {},
   "outputs": [
    {
     "data": {
      "text/plain": [
       "[5, 6, 7, 8, 9, 10, 11, 12, 13, 14, 9]"
      ]
     },
     "execution_count": 5,
     "metadata": {},
     "output_type": "execute_result"
    }
   ],
   "source": [
    "#测试自定义的函数\n",
    "list(mymap(add,range(10) ) )"
   ]
  },
  {
   "cell_type": "code",
   "execution_count": 6,
   "metadata": {},
   "outputs": [
    {
     "data": {
      "text/plain": [
       "[0, 2, 4, 6, 8, 10, 12, 14, 16, 18]"
      ]
     },
     "execution_count": 6,
     "metadata": {},
     "output_type": "execute_result"
    }
   ],
   "source": [
    "def add(x,y):\n",
    "    return x+y\n",
    "\n",
    "list(map(add,range(10),range(10) ) )"
   ]
  },
  {
   "cell_type": "code",
   "execution_count": 7,
   "metadata": {},
   "outputs": [
    {
     "data": {
      "text/plain": [
       "[0, 2, 4, 6, 8, 10, 12, 14, 16, 18]"
      ]
     },
     "execution_count": 7,
     "metadata": {},
     "output_type": "execute_result"
    }
   ],
   "source": [
    "#扩展mymap来实现上面的功能\n",
    "def mymap(func,*ite):\n",
    "    for item in zip(*ite):   #zip 拉链  zip(ite->序列解包 )   item->(x[0],y[0])  (x[1],y[1])\n",
    "        yield func(*item)\n",
    "        \n",
    "list( mymap(add,range(10),range(10) ) )"
   ]
  },
  {
   "cell_type": "code",
   "execution_count": 8,
   "metadata": {},
   "outputs": [
    {
     "data": {
      "text/plain": [
       "[0, 2, 4, 6, 8]"
      ]
     },
     "execution_count": 8,
     "metadata": {},
     "output_type": "execute_result"
    }
   ],
   "source": [
    "list( map( lambda x,y:x+y ,range(5),range(5)) )"
   ]
  },
  {
   "cell_type": "code",
   "execution_count": 10,
   "metadata": {},
   "outputs": [
    {
     "name": "stdout",
     "output_type": "stream",
     "text": [
      "10\n",
      "20\n"
     ]
    }
   ],
   "source": [
    "#  functools 模块中的reduces()  函数  规约\n",
    "#  functools.reduce(function,iterable[,initalizer])\n",
    "'''\n",
    "标准库functools中的reduce()函数可以将一个接受2个参数的函数以迭代的方式从左到右依次作用到一个序列器对象上的所有元素\n",
    "'''\n",
    "from functools import reduce\n",
    "seq=[1,2,3,4]\n",
    "print( reduce(lambda x,y:x+y, seq) )\n",
    "print( reduce(lambda x,y:x+y,seq,10))"
   ]
  },
  {
   "cell_type": "code",
   "execution_count": 13,
   "metadata": {},
   "outputs": [
    {
     "name": "stdout",
     "output_type": "stream",
     "text": [
      "6\n"
     ]
    }
   ],
   "source": [
    "#  自定义实现reduce       iterable: 序列或者迭代器   \n",
    "def myreduce(function,iterable,initializer=None):  #默认值\n",
    "    it = iter(iterable)\n",
    "    if initializer is None:\n",
    "        value = next(it)  #迭代器的循环都要用next（迭代器）\n",
    "    else:\n",
    "        value=initializer\n",
    "    for element in it:\n",
    "        value= function(value,element)\n",
    "    return value\n",
    "seq=[1,2,3]\n",
    "print( myreduce( add,seq) )"
   ]
  },
  {
   "cell_type": "code",
   "execution_count": null,
   "metadata": {
    "collapsed": true
   },
   "outputs": [],
   "source": [
    "'''\n",
    "包含 yield语句的函数可以用来创建生成器对象，这样的函数也称生成器函数\n",
    "每次执行到yield语句会返回一个值然后暂停或挂起后面的代码的执行，下次通过生成器对象的__next__()方法，内置函数next(),\n",
    "for循环遍历生成器对象元素或其他方式显示‘索要’数据时恢复执行\n",
    "生成器对象具有惰性求值的特点，适合大数据处理\n",
    "'''"
   ]
  },
  {
   "cell_type": "code",
   "execution_count": 14,
   "metadata": {},
   "outputs": [
    {
     "data": {
      "text/plain": [
       "<generator object f at 0x000002142A063990>"
      ]
     },
     "execution_count": 14,
     "metadata": {},
     "output_type": "execute_result"
    }
   ],
   "source": [
    "def f():\n",
    "    a,b=1,1\n",
    "    while True:\n",
    "        yield a\n",
    "        a,b=b,a+b\n",
    "a=f()  #一运行这个f()  则生成一个生成器对象  里面有一个iterable对象 这个对象只能往前的对象\n",
    "a"
   ]
  },
  {
   "cell_type": "code",
   "execution_count": 15,
   "metadata": {},
   "outputs": [
    {
     "name": "stdout",
     "output_type": "stream",
     "text": [
      "1,1,2,3,5,8,13,21,34,55,"
     ]
    }
   ],
   "source": [
    "#求fib 数列中的前10个元素\n",
    "for i in range(10):\n",
    "    print( a.__next__(),end=\",\")   #  生成器对象的__next__()方法\n"
   ]
  },
  {
   "cell_type": "code",
   "execution_count": 19,
   "metadata": {},
   "outputs": [
    {
     "name": "stdout",
     "output_type": "stream",
     "text": [
      "1,1,2,3,5,8,13,21,34,55,"
     ]
    }
   ],
   "source": [
    "a=f()\n",
    "for i in range(10):\n",
    "    print(next(a),end=',')  #内置函数next()"
   ]
  },
  {
   "cell_type": "code",
   "execution_count": 20,
   "metadata": {},
   "outputs": [
    {
     "name": "stdout",
     "output_type": "stream",
     "text": [
      "144"
     ]
    }
   ],
   "source": [
    "a=f()\n",
    "#获取fib数列中第一个大于100的元素\n",
    "for i in a: \n",
    "    if i>100:\n",
    "        print(i,end='')\n",
    "        break"
   ]
  },
  {
   "cell_type": "code",
   "execution_count": 22,
   "metadata": {},
   "outputs": [
    {
     "data": {
      "text/plain": [
       "'b'"
      ]
     },
     "execution_count": 22,
     "metadata": {},
     "output_type": "execute_result"
    }
   ],
   "source": [
    "#获取字符串中每个字符\n",
    "def f():\n",
    "    yield from 'abcdefg'\n",
    "x=f()  #生成器对象\n",
    "next(x)\n",
    "next(x)"
   ]
  },
  {
   "cell_type": "code",
   "execution_count": 23,
   "metadata": {},
   "outputs": [
    {
     "name": "stdout",
     "output_type": "stream",
     "text": [
      "c ,\n",
      "d ,\n",
      "e ,\n",
      "f ,\n",
      "g ,\n"
     ]
    }
   ],
   "source": [
    "for item in x:\n",
    "    print(item,',')"
   ]
  },
  {
   "cell_type": "code",
   "execution_count": 24,
   "metadata": {},
   "outputs": [
    {
     "name": "stdout",
     "output_type": "stream",
     "text": [
      "1 2 3\n"
     ]
    }
   ],
   "source": [
    "def gen():\n",
    "    yield 1\n",
    "    yield 2\n",
    "    yield 3\n",
    "    \n",
    "x,y,z=gen()   #生成器对象支持序列解包\n",
    "print(x,y,z)"
   ]
  },
  {
   "cell_type": "code",
   "execution_count": 26,
   "metadata": {},
   "outputs": [
    {
     "data": {
      "text/plain": [
       "['smith', '20']"
      ]
     },
     "execution_count": 26,
     "metadata": {},
     "output_type": "execute_result"
    }
   ],
   "source": [
    "#filter  \n",
    "'''\n",
    "filter(function,iterable)\n",
    "  注意 function如果为None  则返回 iterable中不为false的值\n",
    "     返回值为一个  iterable\n",
    "'''\n",
    "seq=['smith','boin 730','20','$#@']\n",
    "def fun(x):\n",
    "    return x.isalnum()   # isalnum   判断是否为字母数字\n",
    "\n",
    "list( filter(fun,seq ) )"
   ]
  },
  {
   "cell_type": "code",
   "execution_count": 27,
   "metadata": {},
   "outputs": [
    {
     "data": {
      "text/plain": [
       "['smith', '20']"
      ]
     },
     "execution_count": 27,
     "metadata": {},
     "output_type": "execute_result"
    }
   ],
   "source": [
    "list (filter(lambda x:x.isalnum() ,seq)  )"
   ]
  },
  {
   "cell_type": "code",
   "execution_count": 30,
   "metadata": {},
   "outputs": [
    {
     "name": "stdout",
     "output_type": "stream",
     "text": [
      "['smith', '20']\n"
     ]
    }
   ],
   "source": [
    "#自己定义实现filter\n",
    "def myfilter(func,ite):\n",
    "    for item in ite:\n",
    "        if func(item):\n",
    "            yield item\n",
    "            \n",
    "print( list(myfilter(lambda x:x.isalnum() , seq) ) )"
   ]
  },
  {
   "cell_type": "code",
   "execution_count": 36,
   "metadata": {},
   "outputs": [
    {
     "name": "stdout",
     "output_type": "stream",
     "text": [
      "<function linear.<locals>.result at 0x000002142A065F28>\n",
      "4\n",
      "4\n"
     ]
    }
   ],
   "source": [
    "#可调用对象：将对象视为函数\n",
    "#1.使用嵌套函数的方式  定义可调用对象\n",
    "#2.使用__call__()方法的类的对象也是可调用对象\n",
    "\n",
    "def linear(a,b):\n",
    "    \n",
    "    def result(x):\n",
    "        return a*x+b\n",
    "    \n",
    "    return result  #调用linear时 返回一个 result的函数引用,但没有调用\n",
    "\n",
    "t=linear(1,2)  #  t就是result的定义 ，引用，而且此时 a=1  b=2\n",
    "print(t)\n",
    "print(t(2))\n",
    "print( linear(1,2)(2) )"
   ]
  },
  {
   "cell_type": "code",
   "execution_count": 39,
   "metadata": {},
   "outputs": [
    {
     "name": "stdout",
     "output_type": "stream",
     "text": [
      "<__main__.linear object at 0x000002142A0B44A8>\n",
      "5\n",
      "5\n"
     ]
    }
   ],
   "source": [
    "class linear:\n",
    "    #构造方法\n",
    "    def __init__(self,a,b):  # self就是this的引用 public linear(int a,int b){ this.a=b,this.b=b;}\n",
    "        self.a=a\n",
    "        self.b=b\n",
    "    #__call__() 这个函数 ，可调用对象\n",
    "    def __call__(self,x):  #回调函数(由python的编译器来回调)\n",
    "        return self.a*x+self.b\n",
    "    \n",
    "t=linear(1,2)  #调用构造方法\n",
    "print( t )\n",
    "print( t(3) )  #由python的编译器会自动调用  linear中的__call__这个函数\n",
    "print( linear(1,2)(3))"
   ]
  },
  {
   "cell_type": "code",
   "execution_count": 44,
   "metadata": {
    "collapsed": true
   },
   "outputs": [],
   "source": [
    "'''\n",
    "高级话题：修饰器\n",
    "   修饰器(decorator) 是函数嵌套的定义另一个重要应用。修饰器本质也是一个函数，只不过这个函数接收其他函数作为参数\n",
    "   并对其进行一定的改造后返回新函数\n",
    "   \n",
    "   python面向对象程序设计中的静态方法，类方法，属性等也是通过修饰器得到的，python中很多这样的用法\n",
    "'''\n",
    "\n",
    "#需求  定义一种方案，能在一个函数执行前输出hello，执行后输出bye 并统计函数运行的时间\n",
    "#  TODO  深入了解：面向切向的编程\n",
    "def sayHello(func):   #这个函数的参数是另一个函数（add）\n",
    "    def wrapper(*args,**kargs):  #在poython运行时自动调用\n",
    "        print('********hello world*******')\n",
    "        return func(*args,**kargs)  #调用你传进来的参数\n",
    "    return wrapper\n",
    "\n",
    "def sayBye(func): \n",
    "    def wrapper(*args,**kargs):\n",
    "        result=func(*args,**kargs)\n",
    "        print('Byebye')\n",
    "        return result\n",
    "    return wrapper\n",
    "\n",
    "def rates(func):\n",
    "    def wrapper(*args,**kargs):\n",
    "        #取当前时间\n",
    "        import datetime\n",
    "        #当前时间\n",
    "        start=datetime.datetime.now()\n",
    "        result=func(*args,**kargs)\n",
    "        #结束时间\n",
    "        end=datetime.datetime.now()\n",
    "        print('时间长：',(end-start))\n",
    "        return result\n",
    "    return wrapper\n",
    "        "
   ]
  },
  {
   "cell_type": "code",
   "execution_count": 45,
   "metadata": {},
   "outputs": [
    {
     "name": "stdout",
     "output_type": "stream",
     "text": [
      "********hello world*******\n",
      "时间长： 0:00:00.000471\n",
      "Byebye\n"
     ]
    },
    {
     "data": {
      "text/plain": [
       "10"
      ]
     },
     "execution_count": 45,
     "metadata": {},
     "output_type": "execute_result"
    }
   ],
   "source": [
    "@sayHello\n",
    "@sayBye\n",
    "@rates\n",
    "def add(maxNum):\n",
    "    sums=0\n",
    "    for i in range(maxNum):\n",
    "        sums+=i\n",
    "    return sums\n",
    "\n",
    "\n",
    "add(5)"
   ]
  },
  {
   "cell_type": "code",
   "execution_count": 52,
   "metadata": {},
   "outputs": [
    {
     "ename": "UnicodeDecodeError",
     "evalue": "'gbk' codec can't decode byte 0x80 in position 14: illegal multibyte sequence",
     "output_type": "error",
     "traceback": [
      "\u001b[1;31m---------------------------------------------------------------------------\u001b[0m",
      "\u001b[1;31mUnicodeDecodeError\u001b[0m                        Traceback (most recent call last)",
      "\u001b[1;32m<ipython-input-52-e5faf9ad84a1>\u001b[0m in \u001b[0;36m<module>\u001b[1;34m()\u001b[0m\n\u001b[0;32m     31\u001b[0m \u001b[1;33m\u001b[0m\u001b[0m\n\u001b[0;32m     32\u001b[0m \u001b[0ms\u001b[0m\u001b[1;33m=\u001b[0m\u001b[0mStudentInfo\u001b[0m\u001b[1;33m(\u001b[0m\u001b[1;33m)\u001b[0m\u001b[1;33m\u001b[0m\u001b[0m\n\u001b[1;32m---> 33\u001b[1;33m \u001b[0mcontent\u001b[0m\u001b[1;33m=\u001b[0m\u001b[0ms\u001b[0m\u001b[1;33m.\u001b[0m\u001b[0mreadFile\u001b[0m\u001b[1;33m(\u001b[0m\u001b[0mroles\u001b[0m\u001b[1;33m=\u001b[0m\u001b[1;34m'admin'\u001b[0m\u001b[1;33m,\u001b[0m\u001b[0mfilename\u001b[0m\u001b[1;33m=\u001b[0m\u001b[1;34m'readme.txt'\u001b[0m\u001b[1;33m)\u001b[0m\u001b[1;33m\u001b[0m\u001b[0m\n\u001b[0m",
      "\u001b[1;32m<ipython-input-52-e5faf9ad84a1>\u001b[0m in \u001b[0;36mwrapper\u001b[1;34m(*args, **kwargs)\u001b[0m\n\u001b[0;32m      7\u001b[0m         \u001b[1;32mif\u001b[0m \u001b[0mkwargs\u001b[0m\u001b[1;33m.\u001b[0m\u001b[0mget\u001b[0m\u001b[1;33m(\u001b[0m\u001b[1;34m'roles'\u001b[0m\u001b[1;33m)\u001b[0m\u001b[1;32mnot\u001b[0m \u001b[1;32min\u001b[0m\u001b[1;33m[\u001b[0m\u001b[1;34m'admin'\u001b[0m\u001b[1;33m,\u001b[0m\u001b[1;34m'administrator'\u001b[0m\u001b[1;33m,\u001b[0m\u001b[1;34m'teacher'\u001b[0m\u001b[1;33m]\u001b[0m\u001b[1;33m:\u001b[0m\u001b[1;33m\u001b[0m\u001b[0m\n\u001b[0;32m      8\u001b[0m             \u001b[1;32mraise\u001b[0m \u001b[0mException\u001b[0m\u001b[1;33m(\u001b[0m\u001b[1;34m\"对不起，您没有操作权限\"\u001b[0m\u001b[1;33m)\u001b[0m\u001b[1;33m\u001b[0m\u001b[0m\n\u001b[1;32m----> 9\u001b[1;33m         \u001b[1;32mreturn\u001b[0m \u001b[0mfunc\u001b[0m\u001b[1;33m(\u001b[0m\u001b[1;33m*\u001b[0m\u001b[0margs\u001b[0m\u001b[1;33m,\u001b[0m\u001b[1;33m**\u001b[0m\u001b[0mkwargs\u001b[0m\u001b[1;33m)\u001b[0m\u001b[1;33m\u001b[0m\u001b[0m\n\u001b[0m\u001b[0;32m     10\u001b[0m     \u001b[1;32mreturn\u001b[0m \u001b[0mwrapper\u001b[0m\u001b[1;33m\u001b[0m\u001b[0m\n\u001b[0;32m     11\u001b[0m \u001b[1;33m\u001b[0m\u001b[0m\n",
      "\u001b[1;32m<ipython-input-52-e5faf9ad84a1>\u001b[0m in \u001b[0;36mreadFile\u001b[1;34m(self, roles, filename)\u001b[0m\n\u001b[0;32m     18\u001b[0m     \u001b[1;32mdef\u001b[0m \u001b[0mreadFile\u001b[0m\u001b[1;33m(\u001b[0m\u001b[0mself\u001b[0m\u001b[1;33m,\u001b[0m\u001b[0mroles\u001b[0m\u001b[1;33m,\u001b[0m\u001b[0mfilename\u001b[0m\u001b[1;33m)\u001b[0m\u001b[1;33m:\u001b[0m\u001b[1;33m\u001b[0m\u001b[0m\n\u001b[0;32m     19\u001b[0m         \u001b[1;31m#  只能以读的方式打开文件并读取内容\u001b[0m\u001b[1;33m\u001b[0m\u001b[1;33m\u001b[0m\u001b[0m\n\u001b[1;32m---> 20\u001b[1;33m         \u001b[1;32mreturn\u001b[0m \u001b[0mopen\u001b[0m\u001b[1;33m(\u001b[0m\u001b[0mfilename\u001b[0m\u001b[1;33m,\u001b[0m\u001b[1;34m'r'\u001b[0m\u001b[1;33m)\u001b[0m\u001b[1;33m.\u001b[0m\u001b[0mread\u001b[0m\u001b[1;33m(\u001b[0m\u001b[1;33m)\u001b[0m\u001b[1;33m\u001b[0m\u001b[0m\n\u001b[0m\u001b[0;32m     21\u001b[0m \u001b[1;33m\u001b[0m\u001b[0m\n\u001b[0;32m     22\u001b[0m     \u001b[1;33m@\u001b[0m\u001b[0mcheckRoles\u001b[0m\u001b[1;33m\u001b[0m\u001b[0m\n",
      "\u001b[1;31mUnicodeDecodeError\u001b[0m: 'gbk' codec can't decode byte 0x80 in position 14: illegal multibyte sequence"
     ]
    }
   ],
   "source": [
    "#修饰器的案例：用户角色检查功能\n",
    "#需求描述：在项目，有一些功能要求必须是对应的角色才能运行，如何加入这些功能？\n",
    "\n",
    "#添加一个修饰器检测角色\n",
    "def checkRoles(func ):\n",
    "    def wrapper(*args,**kwargs):\n",
    "        if kwargs.get('roles')not in['admin','administrator','teacher']:\n",
    "            raise Exception(\"对不起，您没有操作权限\")\n",
    "        return func(*args,**kwargs)\n",
    "    return wrapper\n",
    "        \n",
    "\n",
    "\n",
    "\n",
    "class StudentInfo(object):\n",
    "    #类中的方法的第一个参数必须是self，相当于 this\n",
    "    @checkRoles \n",
    "    def readFile(self,roles,filename):\n",
    "        #  只能以读的方式打开文件并读取内容\n",
    "        return open(filename,'r').read()\n",
    "    \n",
    "    @checkRoles\n",
    "    def writeFile(self,roles,filename,content):\n",
    "        '''\n",
    "        roles: 角色\n",
    "        filename:要操作的文件\n",
    "        content:要写入的内容\n",
    "        '''\n",
    "        # ’a+‘表示追加模式\n",
    "        open(filename,'a+').write(content)\n",
    "        \n",
    "s=StudentInfo()\n",
    "content=s.readFile(roles='admin',filename='readme.txt')"
   ]
  },
  {
   "cell_type": "code",
   "execution_count": 54,
   "metadata": {},
   "outputs": [
    {
     "name": "stdout",
     "output_type": "stream",
     "text": [
      "1 2 3\n"
     ]
    },
    {
     "name": "stderr",
     "output_type": "stream",
     "text": [
      "C:\\ProgramData\\Anaconda3\\lib\\site-packages\\ipykernel_launcher.py:6: DeprecationWarning: inspect.getargspec() is deprecated, use inspect.signature() or inspect.getfullargspec()\n",
      "  \n"
     ]
    },
    {
     "ename": "Exception",
     "evalue": "a必须是关键字参数",
     "output_type": "error",
     "traceback": [
      "\u001b[1;31m---------------------------------------------------------------------------\u001b[0m",
      "\u001b[1;31mException\u001b[0m                                 Traceback (most recent call last)",
      "\u001b[1;32m<ipython-input-54-3843f42f943b>\u001b[0m in \u001b[0;36m<module>\u001b[1;34m()\u001b[0m\n\u001b[0;32m     19\u001b[0m \u001b[1;33m\u001b[0m\u001b[0m\n\u001b[0;32m     20\u001b[0m \u001b[0mdemo\u001b[0m\u001b[1;33m(\u001b[0m\u001b[0ma\u001b[0m\u001b[1;33m=\u001b[0m\u001b[1;36m1\u001b[0m\u001b[1;33m,\u001b[0m\u001b[0mb\u001b[0m\u001b[1;33m=\u001b[0m\u001b[1;36m2\u001b[0m\u001b[1;33m,\u001b[0m\u001b[0mc\u001b[0m\u001b[1;33m=\u001b[0m\u001b[1;36m3\u001b[0m\u001b[1;33m)\u001b[0m\u001b[1;33m\u001b[0m\u001b[0m\n\u001b[1;32m---> 21\u001b[1;33m \u001b[0mdemo\u001b[0m\u001b[1;33m(\u001b[0m\u001b[1;36m1\u001b[0m\u001b[1;33m,\u001b[0m\u001b[1;36m2\u001b[0m\u001b[1;33m,\u001b[0m\u001b[1;36m3\u001b[0m\u001b[1;33m)\u001b[0m\u001b[1;33m\u001b[0m\u001b[0m\n\u001b[0m",
      "\u001b[1;32m<ipython-input-54-3843f42f943b>\u001b[0m in \u001b[0;36mwrapper\u001b[1;34m(*args, **kwargs)\u001b[0m\n\u001b[0;32m      8\u001b[0m         \u001b[1;32mfor\u001b[0m \u001b[0mpos\u001b[0m \u001b[1;32min\u001b[0m \u001b[0mpositions\u001b[0m \u001b[1;33m:\u001b[0m\u001b[1;33m\u001b[0m\u001b[0m\n\u001b[0;32m      9\u001b[0m             \u001b[1;32mif\u001b[0m \u001b[0mpos\u001b[0m \u001b[1;32mnot\u001b[0m \u001b[1;32min\u001b[0m \u001b[0mkwargs\u001b[0m\u001b[1;33m:\u001b[0m \u001b[1;31m#判断实参是否都是关键字参数\u001b[0m\u001b[1;33m\u001b[0m\u001b[0m\n\u001b[1;32m---> 10\u001b[1;33m                 \u001b[1;32mraise\u001b[0m \u001b[0mException\u001b[0m\u001b[1;33m(\u001b[0m\u001b[0mpos\u001b[0m\u001b[1;33m+\u001b[0m\u001b[1;34m'必须是关键字参数'\u001b[0m\u001b[1;33m)\u001b[0m\u001b[1;33m\u001b[0m\u001b[0m\n\u001b[0m\u001b[0;32m     11\u001b[0m         \u001b[1;32mreturn\u001b[0m \u001b[0mfunc\u001b[0m\u001b[1;33m(\u001b[0m\u001b[1;33m*\u001b[0m\u001b[0margs\u001b[0m\u001b[1;33m,\u001b[0m\u001b[1;33m**\u001b[0m\u001b[0mkwargs\u001b[0m\u001b[1;33m)\u001b[0m\u001b[1;33m\u001b[0m\u001b[0m\n\u001b[0;32m     12\u001b[0m     \u001b[1;32mreturn\u001b[0m \u001b[0mwrapper\u001b[0m\u001b[1;33m\u001b[0m\u001b[0m\n",
      "\u001b[1;31mException\u001b[0m: a必须是关键字参数"
     ]
    }
   ],
   "source": [
    "#代码阅读  \n",
    "#需求:使用修饰器对函数的关键参数和位置参数进行检查，如果发现有参数没有以关键参数形式传值则抛出异常\n",
    "def mustBeKeywords(func):\n",
    "    import inspect\n",
    "    #获取位置参数和默认值参数列表\n",
    "    positions = inspect.getargspec(func).args #函数上声明的形参\n",
    "    def wrapper(*args,**kwargs): # *args,**kwargs 是函数调用时的实参\n",
    "        for pos in positions :\n",
    "            if pos not in kwargs: #判断实参是否都是关键字参数\n",
    "                raise Exception(pos+'必须是关键字参数')\n",
    "        return func(*args,**kwargs)\n",
    "    return wrapper\n",
    "\n",
    "\n",
    "@mustBeKeywords\n",
    "def demo(a,b,c):\n",
    "    print(a,b,c)\n",
    "    \n",
    "  \n",
    "demo(a=1,b=2,c=3)\n",
    "#demo(1,2,3)   错误方式  args->1,2,3  kwargs->none"
   ]
  },
  {
   "cell_type": "code",
   "execution_count": 56,
   "metadata": {},
   "outputs": [
    {
     "name": "stdout",
     "output_type": "stream",
     "text": [
      "1 2 3\n"
     ]
    },
    {
     "name": "stderr",
     "output_type": "stream",
     "text": [
      "C:\\ProgramData\\Anaconda3\\lib\\site-packages\\ipykernel_launcher.py:5: DeprecationWarning: inspect.getargspec() is deprecated, use inspect.signature() or inspect.getfullargspec()\n",
      "  \"\"\"\n"
     ]
    }
   ],
   "source": [
    "#需求：使用修饰器对函数的位置参数和关键参数进行检查   如果发现有关键参数与位置参数同名则抛出异常\n",
    "def onlyPositions(func):\n",
    "    import inspect\n",
    "    #获取位置参数和默认值参数列表\n",
    "    positions = inspect.getargspec(func).args #函数上声明的形参\n",
    "    def wrapper(*args,**kwargs):\n",
    "        #检查关键参数列表\n",
    "        for para in kwargs:\n",
    "            if para in positions:  # if a in [a,b,c]\n",
    "                raise Exception(para+'不能是一个关键字参数')\n",
    "        return func(*args,**kwargs)\n",
    "    return wrapper\n",
    "\n",
    "@onlyPositions\n",
    "def demo(a,b,c):\n",
    "    print(a,b,c)\n",
    "    \n",
    "demo(1,2,3)"
   ]
  },
  {
   "cell_type": "code",
   "execution_count": 57,
   "metadata": {},
   "outputs": [
    {
     "data": {
      "text/plain": [
       "558"
      ]
     },
     "execution_count": 57,
     "metadata": {},
     "output_type": "execute_result"
    }
   ],
   "source": [
    "'''\n",
    "偏函数    与   函数柯里化  是函数式编程中常用的技术\n",
    "有时候我们在复用已有函数时可能需要固定其中部分参数，这除了可以通过默认值参数来实现外，还可以使用偏函数\n",
    "'''\n",
    "#求3个数字相加的值\n",
    "def add(a,b,c):\n",
    "    return a+b+c\n",
    "\n",
    "def add1(a,b):\n",
    "    return add(a,b,555)\n",
    "\n",
    "add1(1,2)"
   ]
  },
  {
   "cell_type": "code",
   "execution_count": 58,
   "metadata": {},
   "outputs": [
    {
     "name": "stdout",
     "output_type": "stream",
     "text": [
      "669\n"
     ]
    }
   ],
   "source": [
    "#也可以使用functools库提供partials()方法创建指定函数的偏函数\n",
    "from functools import partial\n",
    "add3=partial(add,b=666 )\n",
    "print( add3(a=1,c=2) )"
   ]
  },
  {
   "cell_type": "code",
   "execution_count": 62,
   "metadata": {},
   "outputs": [
    {
     "name": "stdout",
     "output_type": "stream",
     "text": [
      "3\n",
      "3\n",
      "3\n"
     ]
    }
   ],
   "source": [
    "#函数柯里化1.实现偏函数功能   2.利用单参数函数来实现多参数的功能\n",
    "\n",
    "\n",
    "def add(x,y):\n",
    "    return x+y\n",
    "\n",
    "#柯里化后的函数\n",
    "def add2(a):\n",
    "    return lambda b:b+a\n",
    "\n",
    "print(add2(1)(2))\n",
    "\n",
    "def add3(a):\n",
    "    func=lambda b:a+b\n",
    "    return func\n",
    "print(add3(1)(2))\n",
    "\n",
    "\n",
    "#嵌套方法函数柯里化\n",
    "\n",
    "def add4(a):\n",
    "    def add5(b):\n",
    "        return a+b\n",
    "    return add5\n",
    "\n",
    "print(add4(1)(2))"
   ]
  },
  {
   "cell_type": "code",
   "execution_count": null,
   "metadata": {
    "collapsed": true
   },
   "outputs": [],
   "source": []
  }
 ],
 "metadata": {
  "kernelspec": {
   "display_name": "Python 3",
   "language": "python",
   "name": "python3"
  },
  "language_info": {
   "codemirror_mode": {
    "name": "ipython",
    "version": 3
   },
   "file_extension": ".py",
   "mimetype": "text/x-python",
   "name": "python",
   "nbconvert_exporter": "python",
   "pygments_lexer": "ipython3",
   "version": "3.6.2"
  }
 },
 "nbformat": 4,
 "nbformat_minor": 2
}
